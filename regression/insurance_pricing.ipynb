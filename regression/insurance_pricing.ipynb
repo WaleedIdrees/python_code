{
 "cells": [
  {
   "cell_type": "code",
   "execution_count": 1,
   "metadata": {},
   "outputs": [],
   "source": [
    "import os\n",
    "import pandas as pd\n",
    "import numpy as np\n",
    "import matplotlib.pyplot as plt\n",
    "import plotly.express as px\n",
    "pd.options.plotting.backend = \"plotly\"\n",
    "pd.set_option('display.max_columns', 150, 'display.max_rows', 100, 'display.max_colwidth', 15)\n",
    "%matplotlib inline"
   ]
  },
  {
   "attachments": {},
   "cell_type": "markdown",
   "metadata": {},
   "source": [
    ">#  Import Data "
   ]
  },
  {
   "cell_type": "code",
   "execution_count": 2,
   "metadata": {},
   "outputs": [
    {
     "data": {
      "text/html": [
       "<div>\n",
       "<style scoped>\n",
       "    .dataframe tbody tr th:only-of-type {\n",
       "        vertical-align: middle;\n",
       "    }\n",
       "\n",
       "    .dataframe tbody tr th {\n",
       "        vertical-align: top;\n",
       "    }\n",
       "\n",
       "    .dataframe thead th {\n",
       "        text-align: right;\n",
       "    }\n",
       "</style>\n",
       "<table border=\"1\" class=\"dataframe\">\n",
       "  <thead>\n",
       "    <tr style=\"text-align: right;\">\n",
       "      <th></th>\n",
       "      <th>age</th>\n",
       "      <th>sex</th>\n",
       "      <th>bmi</th>\n",
       "      <th>children</th>\n",
       "      <th>smoker</th>\n",
       "      <th>region</th>\n",
       "      <th>expenses</th>\n",
       "    </tr>\n",
       "  </thead>\n",
       "  <tbody>\n",
       "    <tr>\n",
       "      <th>0</th>\n",
       "      <td>19</td>\n",
       "      <td>female</td>\n",
       "      <td>27.9</td>\n",
       "      <td>0</td>\n",
       "      <td>yes</td>\n",
       "      <td>southwest</td>\n",
       "      <td>16884.92</td>\n",
       "    </tr>\n",
       "    <tr>\n",
       "      <th>1</th>\n",
       "      <td>18</td>\n",
       "      <td>male</td>\n",
       "      <td>33.8</td>\n",
       "      <td>1</td>\n",
       "      <td>no</td>\n",
       "      <td>southeast</td>\n",
       "      <td>1725.55</td>\n",
       "    </tr>\n",
       "    <tr>\n",
       "      <th>2</th>\n",
       "      <td>28</td>\n",
       "      <td>male</td>\n",
       "      <td>33.0</td>\n",
       "      <td>3</td>\n",
       "      <td>no</td>\n",
       "      <td>southeast</td>\n",
       "      <td>4449.46</td>\n",
       "    </tr>\n",
       "    <tr>\n",
       "      <th>3</th>\n",
       "      <td>33</td>\n",
       "      <td>male</td>\n",
       "      <td>22.7</td>\n",
       "      <td>0</td>\n",
       "      <td>no</td>\n",
       "      <td>northwest</td>\n",
       "      <td>21984.47</td>\n",
       "    </tr>\n",
       "    <tr>\n",
       "      <th>4</th>\n",
       "      <td>32</td>\n",
       "      <td>male</td>\n",
       "      <td>28.9</td>\n",
       "      <td>0</td>\n",
       "      <td>no</td>\n",
       "      <td>northwest</td>\n",
       "      <td>3866.86</td>\n",
       "    </tr>\n",
       "  </tbody>\n",
       "</table>\n",
       "</div>"
      ],
      "text/plain": [
       "   age     sex   bmi  children smoker     region  expenses\n",
       "0   19  female  27.9         0    yes  southwest  16884.92\n",
       "1   18    male  33.8         1     no  southeast   1725.55\n",
       "2   28    male  33.0         3     no  southeast   4449.46\n",
       "3   33    male  22.7         0     no  northwest  21984.47\n",
       "4   32    male  28.9         0     no  northwest   3866.86"
      ]
     },
     "execution_count": 2,
     "metadata": {},
     "output_type": "execute_result"
    }
   ],
   "source": [
    "df = pd.read_csv(\"insurance.csv\")\n",
    "df.head()"
   ]
  },
  {
   "cell_type": "code",
   "execution_count": 3,
   "metadata": {},
   "outputs": [
    {
     "data": {
      "text/html": [
       "<div>\n",
       "<style scoped>\n",
       "    .dataframe tbody tr th:only-of-type {\n",
       "        vertical-align: middle;\n",
       "    }\n",
       "\n",
       "    .dataframe tbody tr th {\n",
       "        vertical-align: top;\n",
       "    }\n",
       "\n",
       "    .dataframe thead th {\n",
       "        text-align: right;\n",
       "    }\n",
       "</style>\n",
       "<table border=\"1\" class=\"dataframe\">\n",
       "  <thead>\n",
       "    <tr style=\"text-align: right;\">\n",
       "      <th></th>\n",
       "      <th>age</th>\n",
       "      <th>sex</th>\n",
       "      <th>bmi</th>\n",
       "      <th>children</th>\n",
       "      <th>smoker</th>\n",
       "      <th>region</th>\n",
       "      <th>target</th>\n",
       "    </tr>\n",
       "  </thead>\n",
       "  <tbody>\n",
       "    <tr>\n",
       "      <th>0</th>\n",
       "      <td>19</td>\n",
       "      <td>female</td>\n",
       "      <td>27.9</td>\n",
       "      <td>0</td>\n",
       "      <td>yes</td>\n",
       "      <td>southwest</td>\n",
       "      <td>16884.92</td>\n",
       "    </tr>\n",
       "    <tr>\n",
       "      <th>1</th>\n",
       "      <td>18</td>\n",
       "      <td>male</td>\n",
       "      <td>33.8</td>\n",
       "      <td>1</td>\n",
       "      <td>no</td>\n",
       "      <td>southeast</td>\n",
       "      <td>1725.55</td>\n",
       "    </tr>\n",
       "  </tbody>\n",
       "</table>\n",
       "</div>"
      ],
      "text/plain": [
       "   age     sex   bmi  children smoker     region    target\n",
       "0   19  female  27.9         0    yes  southwest  16884.92\n",
       "1   18    male  33.8         1     no  southeast   1725.55"
      ]
     },
     "execution_count": 3,
     "metadata": {},
     "output_type": "execute_result"
    }
   ],
   "source": [
    "df= df.rename(columns= {\"expenses\":\"target\"})\n",
    "df.head(2)"
   ]
  },
  {
   "cell_type": "code",
   "execution_count": 4,
   "metadata": {},
   "outputs": [],
   "source": [
    "target_variable= \"target\"\n",
    "all_cols = df.drop(columns=\"target\").columns.tolist()                      \n",
    "cat_cols = df.drop(columns=\"target\").select_dtypes([\"object\",\"category\"]).columns.tolist()                      \n",
    "num_cols= df.drop(columns=\"target\").columns[~df.drop(columns=\"target\").columns.isin(cat_cols)] "
   ]
  },
  {
   "cell_type": "markdown",
   "metadata": {},
   "source": [
    "># Column Types"
   ]
  },
  {
   "cell_type": "code",
   "execution_count": 5,
   "metadata": {},
   "outputs": [
    {
     "name": "stdout",
     "output_type": "stream",
     "text": [
      "<class 'pandas.core.frame.DataFrame'>\n",
      "RangeIndex: 1338 entries, 0 to 1337\n",
      "Data columns (total 7 columns):\n",
      " #   Column    Non-Null Count  Dtype  \n",
      "---  ------    --------------  -----  \n",
      " 0   age       1338 non-null   int64  \n",
      " 1   sex       1338 non-null   object \n",
      " 2   bmi       1338 non-null   float64\n",
      " 3   children  1338 non-null   int64  \n",
      " 4   smoker    1338 non-null   object \n",
      " 5   region    1338 non-null   object \n",
      " 6   target    1338 non-null   float64\n",
      "dtypes: float64(2), int64(2), object(3)\n",
      "memory usage: 73.3+ KB\n"
     ]
    }
   ],
   "source": [
    "df.info()"
   ]
  },
  {
   "attachments": {},
   "cell_type": "markdown",
   "metadata": {},
   "source": [
    "# Data has no missing values"
   ]
  },
  {
   "cell_type": "code",
   "execution_count": 6,
   "metadata": {},
   "outputs": [
    {
     "data": {
      "text/plain": [
       "age         0\n",
       "sex         0\n",
       "bmi         0\n",
       "children    0\n",
       "smoker      0\n",
       "region      0\n",
       "target      0\n",
       "dtype: int64"
      ]
     },
     "execution_count": 6,
     "metadata": {},
     "output_type": "execute_result"
    }
   ],
   "source": [
    "df.isna().sum()"
   ]
  },
  {
   "cell_type": "code",
   "execution_count": 7,
   "metadata": {},
   "outputs": [
    {
     "data": {
      "text/html": [
       "<div>\n",
       "<style scoped>\n",
       "    .dataframe tbody tr th:only-of-type {\n",
       "        vertical-align: middle;\n",
       "    }\n",
       "\n",
       "    .dataframe tbody tr th {\n",
       "        vertical-align: top;\n",
       "    }\n",
       "\n",
       "    .dataframe thead th {\n",
       "        text-align: right;\n",
       "    }\n",
       "</style>\n",
       "<table border=\"1\" class=\"dataframe\">\n",
       "  <thead>\n",
       "    <tr style=\"text-align: right;\">\n",
       "      <th></th>\n",
       "      <th>age</th>\n",
       "      <th>sex</th>\n",
       "      <th>bmi</th>\n",
       "      <th>children</th>\n",
       "      <th>smoker</th>\n",
       "      <th>region</th>\n",
       "      <th>target</th>\n",
       "    </tr>\n",
       "  </thead>\n",
       "  <tbody>\n",
       "    <tr>\n",
       "      <th>count</th>\n",
       "      <td>1338.000000</td>\n",
       "      <td>1338</td>\n",
       "      <td>1338.000000</td>\n",
       "      <td>1338.000000</td>\n",
       "      <td>1338</td>\n",
       "      <td>1338</td>\n",
       "      <td>1338.000000</td>\n",
       "    </tr>\n",
       "    <tr>\n",
       "      <th>unique</th>\n",
       "      <td>NaN</td>\n",
       "      <td>2</td>\n",
       "      <td>NaN</td>\n",
       "      <td>NaN</td>\n",
       "      <td>2</td>\n",
       "      <td>4</td>\n",
       "      <td>NaN</td>\n",
       "    </tr>\n",
       "    <tr>\n",
       "      <th>top</th>\n",
       "      <td>NaN</td>\n",
       "      <td>male</td>\n",
       "      <td>NaN</td>\n",
       "      <td>NaN</td>\n",
       "      <td>no</td>\n",
       "      <td>southeast</td>\n",
       "      <td>NaN</td>\n",
       "    </tr>\n",
       "    <tr>\n",
       "      <th>freq</th>\n",
       "      <td>NaN</td>\n",
       "      <td>676</td>\n",
       "      <td>NaN</td>\n",
       "      <td>NaN</td>\n",
       "      <td>1064</td>\n",
       "      <td>364</td>\n",
       "      <td>NaN</td>\n",
       "    </tr>\n",
       "    <tr>\n",
       "      <th>mean</th>\n",
       "      <td>39.207025</td>\n",
       "      <td>NaN</td>\n",
       "      <td>30.665471</td>\n",
       "      <td>1.094918</td>\n",
       "      <td>NaN</td>\n",
       "      <td>NaN</td>\n",
       "      <td>13270.422414</td>\n",
       "    </tr>\n",
       "    <tr>\n",
       "      <th>std</th>\n",
       "      <td>14.049960</td>\n",
       "      <td>NaN</td>\n",
       "      <td>6.098382</td>\n",
       "      <td>1.205493</td>\n",
       "      <td>NaN</td>\n",
       "      <td>NaN</td>\n",
       "      <td>12110.011240</td>\n",
       "    </tr>\n",
       "    <tr>\n",
       "      <th>min</th>\n",
       "      <td>18.000000</td>\n",
       "      <td>NaN</td>\n",
       "      <td>16.000000</td>\n",
       "      <td>0.000000</td>\n",
       "      <td>NaN</td>\n",
       "      <td>NaN</td>\n",
       "      <td>1121.870000</td>\n",
       "    </tr>\n",
       "    <tr>\n",
       "      <th>25%</th>\n",
       "      <td>27.000000</td>\n",
       "      <td>NaN</td>\n",
       "      <td>26.300000</td>\n",
       "      <td>0.000000</td>\n",
       "      <td>NaN</td>\n",
       "      <td>NaN</td>\n",
       "      <td>4740.287500</td>\n",
       "    </tr>\n",
       "    <tr>\n",
       "      <th>50%</th>\n",
       "      <td>39.000000</td>\n",
       "      <td>NaN</td>\n",
       "      <td>30.400000</td>\n",
       "      <td>1.000000</td>\n",
       "      <td>NaN</td>\n",
       "      <td>NaN</td>\n",
       "      <td>9382.030000</td>\n",
       "    </tr>\n",
       "    <tr>\n",
       "      <th>75%</th>\n",
       "      <td>51.000000</td>\n",
       "      <td>NaN</td>\n",
       "      <td>34.700000</td>\n",
       "      <td>2.000000</td>\n",
       "      <td>NaN</td>\n",
       "      <td>NaN</td>\n",
       "      <td>16639.915000</td>\n",
       "    </tr>\n",
       "    <tr>\n",
       "      <th>max</th>\n",
       "      <td>64.000000</td>\n",
       "      <td>NaN</td>\n",
       "      <td>53.100000</td>\n",
       "      <td>5.000000</td>\n",
       "      <td>NaN</td>\n",
       "      <td>NaN</td>\n",
       "      <td>63770.430000</td>\n",
       "    </tr>\n",
       "  </tbody>\n",
       "</table>\n",
       "</div>"
      ],
      "text/plain": [
       "                age   sex          bmi     children smoker     region  \\\n",
       "count   1338.000000  1338  1338.000000  1338.000000   1338       1338   \n",
       "unique          NaN     2          NaN          NaN      2          4   \n",
       "top             NaN  male          NaN          NaN     no  southeast   \n",
       "freq            NaN   676          NaN          NaN   1064        364   \n",
       "mean      39.207025   NaN    30.665471     1.094918    NaN        NaN   \n",
       "std       14.049960   NaN     6.098382     1.205493    NaN        NaN   \n",
       "min       18.000000   NaN    16.000000     0.000000    NaN        NaN   \n",
       "25%       27.000000   NaN    26.300000     0.000000    NaN        NaN   \n",
       "50%       39.000000   NaN    30.400000     1.000000    NaN        NaN   \n",
       "75%       51.000000   NaN    34.700000     2.000000    NaN        NaN   \n",
       "max       64.000000   NaN    53.100000     5.000000    NaN        NaN   \n",
       "\n",
       "              target  \n",
       "count    1338.000000  \n",
       "unique           NaN  \n",
       "top              NaN  \n",
       "freq             NaN  \n",
       "mean    13270.422414  \n",
       "std     12110.011240  \n",
       "min      1121.870000  \n",
       "25%      4740.287500  \n",
       "50%      9382.030000  \n",
       "75%     16639.915000  \n",
       "max     63770.430000  "
      ]
     },
     "execution_count": 7,
     "metadata": {},
     "output_type": "execute_result"
    }
   ],
   "source": [
    "df.describe(include= \"all\")"
   ]
  },
  {
   "cell_type": "code",
   "execution_count": 8,
   "metadata": {},
   "outputs": [
    {
     "data": {
      "image/png": "[encoded data removed]",
      "text/plain": [
       "<Figure size 1600x900 with 4 Axes>"
      ]
     },
     "metadata": {},
     "output_type": "display_data"
    }
   ],
   "source": [
    "pd.options.plotting.backend = \"matplotlib\"\n",
    "df.hist(\n",
    "    bins=50, \n",
    "    figsize=(16,9)   \n",
    "    )\n",
    "plt.show()\n",
    "pd.options.plotting.backend = \"plotly\""
   ]
  },
  {
   "attachments": {},
   "cell_type": "markdown",
   "metadata": {},
   "source": [
    ">#  Custom Mix Immputer class"
   ]
  },
  {
   "cell_type": "code",
   "execution_count": 9,
   "metadata": {},
   "outputs": [],
   "source": [
    "from sklearn.base import BaseEstimator, TransformerMixin\n",
    "from sklearn.utils.validation import check_is_fitted # This function just makes sure that the object is fitted\n",
    "from sklearn.experimental import enable_iterative_imputer\n",
    "from sklearn.impute import IterativeImputer\n",
    "\n",
    "class mix_imputer(BaseEstimator, TransformerMixin):\n",
    "     def __init__(self, impute_missing =True):                                \n",
    "        self.impute_missing = impute_missing        \n",
    "                \n",
    "     def fit(self, X, y = None):         \n",
    "         return self\n",
    " \n",
    "     def transform(self, X):\n",
    "        from sklearn.neighbors import KNeighborsRegressor\n",
    "        from sklearn.ensemble import RandomForestRegressor\n",
    "        from sklearn.preprocessing import LabelEncoder\n",
    "        encoder= LabelEncoder()\n",
    "\n",
    "        X = X.copy()\n",
    "        cols = X.select_dtypes([\"object\",\"category\"]).columns.tolist()       \n",
    "        \n",
    "        if self.impute_missing:                        \n",
    "            # we use LabelEncoder bcz it keeps the Nan values of catergories and converts labels (i.e male, female, gay) to 0., 1., 2. floats            \n",
    "            mapped_dic = {}\n",
    "\n",
    "            for abc in cols:                \n",
    "                X[[abc]]=( \n",
    "                    X[[abc]].apply(lambda series: pd.Series(\n",
    "                    encoder.fit_transform(series[series.notnull()]),\n",
    "                    index=series[series.notnull()].index\n",
    "                    ))\n",
    "                    )\n",
    "                encode_dic= { x: y for x,y in zip ( X[abc][ X[abc].notnull()].unique(), encoder.classes_)}   \n",
    "                mapped_dic[abc]= encode_dic                 \n",
    "                        \n",
    "            # after encoding data apply knn imputer on all the data and fill missing values.            \n",
    "            imp_knn = IterativeImputer(estimator= RandomForestRegressor(\n",
    "                n_jobs=-1, \n",
    "                #n_neighbors= X.shape[1]\n",
    "                ), \n",
    "                            #initial_strategy='most_frequent',\n",
    "                            #max_iter=100, \n",
    "                            random_state=0)\n",
    "            \n",
    "            # imputed values are returned in arrays so convert it back to dataframe\n",
    "            X = pd.DataFrame(imp_knn.fit_transform(X), columns= X.columns.tolist())               \n",
    "            \n",
    "            # round of all categorical columns so that if imputed value is 0.6 it will be converted to 1. instead\n",
    "            X[cols] = X[cols].round(0).astype(\"int\")\n",
    "            # now convert all the computed values from 1. , 2. encoding to original labels.    \n",
    "            \n",
    "            for abc in cols:\n",
    "                X[abc] = X[abc].map(mapped_dic[abc])            \n",
    "            \n",
    "            # After this step we can again convert the categorical columns to dummies using onehot encoding\n",
    "        else:\n",
    "            X = X.copy()\n",
    "        return X\n"
   ]
  },
  {
   "cell_type": "markdown",
   "metadata": {},
   "source": [
    "# Impute missing values"
   ]
  },
  {
   "cell_type": "code",
   "execution_count": 10,
   "metadata": {},
   "outputs": [
    {
     "data": {
      "text/html": [
       "<div>\n",
       "<style scoped>\n",
       "    .dataframe tbody tr th:only-of-type {\n",
       "        vertical-align: middle;\n",
       "    }\n",
       "\n",
       "    .dataframe tbody tr th {\n",
       "        vertical-align: top;\n",
       "    }\n",
       "\n",
       "    .dataframe thead th {\n",
       "        text-align: right;\n",
       "    }\n",
       "</style>\n",
       "<table border=\"1\" class=\"dataframe\">\n",
       "  <thead>\n",
       "    <tr style=\"text-align: right;\">\n",
       "      <th></th>\n",
       "      <th>age</th>\n",
       "      <th>sex</th>\n",
       "      <th>bmi</th>\n",
       "      <th>children</th>\n",
       "      <th>smoker</th>\n",
       "      <th>region</th>\n",
       "      <th>target</th>\n",
       "    </tr>\n",
       "  </thead>\n",
       "  <tbody>\n",
       "    <tr>\n",
       "      <th>0</th>\n",
       "      <td>19.0</td>\n",
       "      <td>female</td>\n",
       "      <td>27.9</td>\n",
       "      <td>0.0</td>\n",
       "      <td>no</td>\n",
       "      <td>northeast</td>\n",
       "      <td>16884.92</td>\n",
       "    </tr>\n",
       "    <tr>\n",
       "      <th>1</th>\n",
       "      <td>18.0</td>\n",
       "      <td>male</td>\n",
       "      <td>33.8</td>\n",
       "      <td>1.0</td>\n",
       "      <td>yes</td>\n",
       "      <td>northwest</td>\n",
       "      <td>1725.55</td>\n",
       "    </tr>\n",
       "    <tr>\n",
       "      <th>2</th>\n",
       "      <td>28.0</td>\n",
       "      <td>male</td>\n",
       "      <td>33.0</td>\n",
       "      <td>3.0</td>\n",
       "      <td>yes</td>\n",
       "      <td>northwest</td>\n",
       "      <td>4449.46</td>\n",
       "    </tr>\n",
       "    <tr>\n",
       "      <th>3</th>\n",
       "      <td>33.0</td>\n",
       "      <td>male</td>\n",
       "      <td>22.7</td>\n",
       "      <td>0.0</td>\n",
       "      <td>yes</td>\n",
       "      <td>southeast</td>\n",
       "      <td>21984.47</td>\n",
       "    </tr>\n",
       "    <tr>\n",
       "      <th>4</th>\n",
       "      <td>32.0</td>\n",
       "      <td>male</td>\n",
       "      <td>28.9</td>\n",
       "      <td>0.0</td>\n",
       "      <td>yes</td>\n",
       "      <td>southeast</td>\n",
       "      <td>3866.86</td>\n",
       "    </tr>\n",
       "  </tbody>\n",
       "</table>\n",
       "</div>"
      ],
      "text/plain": [
       "    age     sex   bmi  children smoker     region    target\n",
       "0  19.0  female  27.9       0.0     no  northeast  16884.92\n",
       "1  18.0    male  33.8       1.0    yes  northwest   1725.55\n",
       "2  28.0    male  33.0       3.0    yes  northwest   4449.46\n",
       "3  33.0    male  22.7       0.0    yes  southeast  21984.47\n",
       "4  32.0    male  28.9       0.0    yes  southeast   3866.86"
      ]
     },
     "execution_count": 10,
     "metadata": {},
     "output_type": "execute_result"
    }
   ],
   "source": [
    "df=  mix_imputer(impute_missing= True).fit_transform(df)\n",
    "df.head()"
   ]
  },
  {
   "cell_type": "code",
   "execution_count": 11,
   "metadata": {},
   "outputs": [
    {
     "data": {},
     "metadata": {},
     "output_type": "display_data"
    },
    {
     "data": {
      "application/vnd.holoviews_exec.v0+json": "",
      "text/html": [
       "<div id='1002'>\n",
       "  <div class=\"bk-root\" id=\"8707e43c-7324-485f-b4fb-638e4f41f1fa\" data-root-id=\"1002\"></div>\n",
       "</div>\n",
       "<script type=\"application/javascript\">(function(root) {\n",
       "  function embed_document(root) {\n",
       "    var docs_json = {\"9b285fa3-54c3-46c2-82f3-117d30ef3f7a\":{\"defs\":[{\"extends\":null,\"module\":null,\"name\":\"ReactiveHTML1\",\"overrides\":[],\"properties\":[]},{\"extends\":null,\"module\":null,\"name\":\"FlexBox1\",\"overrides\":[],\"properties\":[{\"default\":\"flex-start\",\"kind\":null,\"name\":\"align_content\"},{\"default\":\"flex-start\",\"kind\":null,\"name\":\"align_items\"},{\"default\":\"row\",\"kind\":null,\"name\":\"flex_direction\"},{\"default\":\"wrap\",\"kind\":null,\"name\":\"flex_wrap\"},{\"default\":\"flex-start\",\"kind\":null,\"name\":\"justify_content\"}]},{\"extends\":null,\"module\":null,\"name\":\"GridStack1\",\"overrides\":[],\"properties\":[{\"default\":\"warn\",\"kind\":null,\"name\":\"mode\"},{\"default\":null,\"kind\":null,\"name\":\"ncols\"},{\"default\":null,\"kind\":null,\"name\":\"nrows\"},{\"default\":true,\"kind\":null,\"name\":\"allow_resize\"},{\"default\":true,\"kind\":null,\"name\":\"allow_drag\"},{\"default\":[],\"kind\":null,\"name\":\"state\"}]},{\"extends\":null,\"module\":null,\"name\":\"click1\",\"overrides\":[],\"properties\":[{\"default\":\"\",\"kind\":null,\"name\":\"terminal_output\"},{\"default\":\"\",\"kind\":null,\"name\":\"debug_name\"},{\"default\":0,\"kind\":null,\"name\":\"clears\"}]},{\"extends\":null,\"module\":null,\"name\":\"NotificationAreaBase1\",\"overrides\":[],\"properties\":[{\"default\":\"bottom-right\",\"kind\":null,\"name\":\"position\"},{\"default\":0,\"kind\":null,\"name\":\"_clear\"}]},{\"extends\":null,\"module\":null,\"name\":\"NotificationArea1\",\"overrides\":[],\"properties\":[{\"default\":[],\"kind\":null,\"name\":\"notifications\"},{\"default\":\"bottom-right\",\"kind\":null,\"name\":\"position\"},{\"default\":0,\"kind\":null,\"name\":\"_clear\"},{\"default\":[{\"background\":\"#ffc107\",\"icon\":{\"className\":\"fas fa-exclamation-triangle\",\"color\":\"white\",\"tagName\":\"i\"},\"type\":\"warning\"},{\"background\":\"#007bff\",\"icon\":{\"className\":\"fas fa-info-circle\",\"color\":\"white\",\"tagName\":\"i\"},\"type\":\"info\"}],\"kind\":null,\"name\":\"types\"}]},{\"extends\":null,\"module\":null,\"name\":\"Notification\",\"overrides\":[],\"properties\":[{\"default\":null,\"kind\":null,\"name\":\"background\"},{\"default\":3000,\"kind\":null,\"name\":\"duration\"},{\"default\":null,\"kind\":null,\"name\":\"icon\"},{\"default\":\"\",\"kind\":null,\"name\":\"message\"},{\"default\":null,\"kind\":null,\"name\":\"notification_type\"},{\"default\":false,\"kind\":null,\"name\":\"_destroyed\"}]},{\"extends\":null,\"module\":null,\"name\":\"TemplateActions1\",\"overrides\":[],\"properties\":[{\"default\":0,\"kind\":null,\"name\":\"open_modal\"},{\"default\":0,\"kind\":null,\"name\":\"close_modal\"}]},{\"extends\":null,\"module\":null,\"name\":\"MaterialTemplateActions1\",\"overrides\":[],\"properties\":[{\"default\":0,\"kind\":null,\"name\":\"open_modal\"},{\"default\":0,\"kind\":null,\"name\":\"close_modal\"}]}],\"roots\":{\"references\":[{\"attributes\":{\"coordinates\":null,\"data_source\":{\"id\":\"1042\"},\"glyph\":{\"id\":\"1045\"},\"group\":null,\"hover_glyph\":null,\"muted_glyph\":{\"id\":\"1048\"},\"nonselection_glyph\":{\"id\":\"1046\"},\"selection_glyph\":{\"id\":\"1047\"},\"view\":{\"id\":\"1050\"}},\"id\":\"1049\",\"type\":\"GlyphRenderer\"},{\"attributes\":{\"source\":{\"id\":\"1042\"}},\"id\":\"1050\",\"type\":\"CDSView\"},{\"attributes\":{\"data\":{\"columns\":[\"age\",\"age\",\"age\",\"age\",\"bmi\",\"bmi\",\"bmi\",\"bmi\",\"children\",\"children\",\"children\",\"children\",\"target\",\"target\",\"target\",\"target\"],\"index\":[\"age\",\"bmi\",\"children\",\"target\",\"age\",\"bmi\",\"children\",\"target\",\"age\",\"bmi\",\"children\",\"target\",\"age\",\"bmi\",\"children\",\"target\"],\"value\":[\"1\",\"0.109\",\"0.042\",\"0.299\",\"0.109\",\"1\",\"0.013\",\"0.199\",\"0.042\",\"0.013\",\"1\",\"0.068\",\"0.299\",\"0.199\",\"0.068\",\"1\"]},\"selected\":{\"id\":\"1054\"},\"selection_policy\":{\"id\":\"1072\"}},\"id\":\"1053\",\"type\":\"ColumnDataSource\"},{\"attributes\":{\"margin\":[5,5,5,5],\"name\":\"HSpacer00847\",\"sizing_mode\":\"stretch_width\"},\"id\":\"1075\",\"type\":\"Spacer\"},{\"attributes\":{},\"id\":\"1014\",\"type\":\"CategoricalScale\"},{\"attributes\":{\"below\":[{\"id\":\"1016\"}],\"center\":[{\"id\":\"1018\"},{\"id\":\"1021\"}],\"height\":400,\"left\":[{\"id\":\"1019\"}],\"margin\":[5,5,5,5],\"min_border_bottom\":10,\"min_border_left\":10,\"min_border_right\":10,\"min_border_top\":10,\"renderers\":[{\"id\":\"1049\"},{\"id\":\"1059\"}],\"right\":[{\"id\":\"1052\"}],\"sizing_mode\":\"fixed\",\"title\":{\"id\":\"1008\"},\"toolbar\":{\"id\":\"1028\"},\"width\":1000,\"x_range\":{\"id\":\"1004\"},\"x_scale\":{\"id\":\"1012\"},\"y_range\":{\"id\":\"1005\"},\"y_scale\":{\"id\":\"1014\"}},\"id\":\"1007\",\"subtype\":\"Figure\",\"type\":\"Plot\"},{\"attributes\":{},\"id\":\"1070\",\"type\":\"UnionRenderers\"},{\"attributes\":{\"bar_line_color\":\"black\",\"color_mapper\":{\"id\":\"1041\"},\"coordinates\":null,\"group\":null,\"label_standoff\":8,\"location\":[0,0],\"major_label_policy\":{\"id\":\"1066\"},\"major_tick_line_color\":\"black\",\"ticker\":{\"id\":\"1051\"}},\"id\":\"1052\",\"type\":\"ColorBar\"},{\"attributes\":{\"text\":{\"field\":\"value\"},\"text_align\":{\"value\":\"center\"},\"text_alpha\":{\"value\":0.1},\"text_baseline\":{\"value\":\"middle\"},\"text_color\":{\"value\":\"black\"},\"text_font_size\":{\"value\":\"8pt\"},\"x\":{\"field\":\"columns\"},\"y\":{\"field\":\"index\"}},\"id\":\"1057\",\"type\":\"Text\"},{\"attributes\":{\"callback\":null,\"renderers\":[{\"id\":\"1049\"}],\"tags\":[\"hv_created\"],\"tooltips\":[[\"columns\",\"@{columns}\"],[\"index\",\"@{index}\"],[\"value\",\"@{value}\"]]},\"id\":\"1006\",\"type\":\"HoverTool\"},{\"attributes\":{},\"id\":\"1017\",\"type\":\"CategoricalTicker\"},{\"attributes\":{\"axis_label\":\"\",\"coordinates\":null,\"formatter\":{\"id\":\"1036\"},\"group\":null,\"major_label_orientation\":0.7853981633974483,\"major_label_policy\":{\"id\":\"1037\"},\"ticker\":{\"id\":\"1017\"}},\"id\":\"1016\",\"type\":\"CategoricalAxis\"},{\"attributes\":{},\"id\":\"1051\",\"type\":\"BasicTicker\"},{\"attributes\":{},\"id\":\"1054\",\"type\":\"Selection\"},{\"attributes\":{\"axis\":{\"id\":\"1016\"},\"coordinates\":null,\"grid_line_color\":null,\"group\":null,\"ticker\":null},\"id\":\"1018\",\"type\":\"Grid\"},{\"attributes\":{},\"id\":\"1037\",\"type\":\"AllLabels\"},{\"attributes\":{\"axis_label\":\"\",\"coordinates\":null,\"formatter\":{\"id\":\"1039\"},\"group\":null,\"major_label_policy\":{\"id\":\"1040\"},\"ticker\":{\"id\":\"1020\"}},\"id\":\"1019\",\"type\":\"CategoricalAxis\"},{\"attributes\":{\"axis\":{\"id\":\"1019\"},\"coordinates\":null,\"dimension\":1,\"grid_line_color\":null,\"group\":null,\"ticker\":null},\"id\":\"1021\",\"type\":\"Grid\"},{\"attributes\":{},\"id\":\"1020\",\"type\":\"CategoricalTicker\"},{\"attributes\":{\"angle\":{\"value\":0},\"text\":{\"field\":\"value\"},\"text_align\":{\"value\":\"center\"},\"text_alpha\":{\"value\":1.0},\"text_baseline\":{\"value\":\"middle\"},\"text_color\":{\"value\":\"black\"},\"text_font_size\":{\"value\":\"8pt\"},\"text_font_style\":{\"value\":\"normal\"},\"text_line_height\":{\"value\":1.2},\"x\":{\"field\":\"columns\"},\"x_offset\":{\"value\":0},\"y\":{\"field\":\"index\"},\"y_offset\":{\"value\":0}},\"id\":\"1061\",\"type\":\"Text\"},{\"attributes\":{\"fill_alpha\":{\"value\":0.1},\"fill_color\":{\"field\":\"zvalues\",\"transform\":{\"id\":\"1041\"}},\"hatch_alpha\":{\"value\":0.1},\"height\":{\"value\":1},\"line_alpha\":{\"value\":0},\"line_color\":{\"value\":\"#1f77b4\"},\"width\":{\"value\":1},\"x\":{\"field\":\"columns\"},\"y\":{\"field\":\"index\"}},\"id\":\"1046\",\"type\":\"Rect\"},{\"attributes\":{},\"id\":\"1022\",\"type\":\"SaveTool\"},{\"attributes\":{\"fill_alpha\":{\"value\":0.2},\"fill_color\":{\"field\":\"zvalues\",\"transform\":{\"id\":\"1041\"}},\"hatch_alpha\":{\"value\":0.2},\"height\":{\"value\":1},\"line_alpha\":{\"value\":0},\"line_color\":{\"value\":\"#1f77b4\"},\"width\":{\"value\":1},\"x\":{\"field\":\"columns\"},\"y\":{\"field\":\"index\"}},\"id\":\"1048\",\"type\":\"Rect\"},{\"attributes\":{\"text\":{\"field\":\"value\"},\"text_align\":{\"value\":\"center\"},\"text_baseline\":{\"value\":\"middle\"},\"text_color\":{\"value\":\"black\"},\"text_font_size\":{\"value\":\"8pt\"},\"x\":{\"field\":\"columns\"},\"y\":{\"field\":\"index\"}},\"id\":\"1056\",\"type\":\"Text\"},{\"attributes\":{},\"id\":\"1023\",\"type\":\"PanTool\"},{\"attributes\":{},\"id\":\"1043\",\"type\":\"Selection\"},{\"attributes\":{\"factors\":[\"age\",\"bmi\",\"children\",\"target\"],\"tags\":[[[\"index\",\"index\",null]]]},\"id\":\"1005\",\"type\":\"FactorRange\"},{\"attributes\":{},\"id\":\"1024\",\"type\":\"WheelZoomTool\"},{\"attributes\":{\"margin\":[5,5,5,5],\"name\":\"HSpacer00846\",\"sizing_mode\":\"stretch_width\"},\"id\":\"1003\",\"type\":\"Spacer\"},{\"attributes\":{\"overlay\":{\"id\":\"1027\"}},\"id\":\"1025\",\"type\":\"BoxZoomTool\"},{\"attributes\":{\"text\":{\"field\":\"value\"},\"text_align\":{\"value\":\"center\"},\"text_alpha\":{\"value\":0.2},\"text_baseline\":{\"value\":\"middle\"},\"text_color\":{\"value\":\"black\"},\"text_font_size\":{\"value\":\"8pt\"},\"x\":{\"field\":\"columns\"},\"y\":{\"field\":\"index\"}},\"id\":\"1058\",\"type\":\"Text\"},{\"attributes\":{\"high\":1.0,\"low\":0.013,\"nan_color\":\"white\",\"palette\":[\"#fff5eb\",\"#fef4ea\",\"#fef4e9\",\"#fef3e8\",\"#fef3e7\",\"#fef2e6\",\"#fef2e5\",\"#fef1e4\",\"#fef1e3\",\"#fef0e2\",\"#fef0e1\",\"#feefe0\",\"#feefe0\",\"#feeedf\",\"#feeede\",\"#feeddd\",\"#feeddc\",\"#feeddb\",\"#feecda\",\"#feecd9\",\"#feebd8\",\"#feebd7\",\"#feead6\",\"#feead6\",\"#fee9d5\",\"#fee9d4\",\"#fee8d3\",\"#fee8d2\",\"#fee7d1\",\"#fee7d0\",\"#fee6cf\",\"#fee6ce\",\"#fde5cd\",\"#fde5cc\",\"#fde4cb\",\"#fde3c9\",\"#fde3c8\",\"#fde2c6\",\"#fde1c5\",\"#fde1c4\",\"#fde0c2\",\"#fddfc1\",\"#fddfc0\",\"#fddebe\",\"#fdddbd\",\"#fddcbb\",\"#fddcba\",\"#fddbb9\",\"#fddab7\",\"#fddab6\",\"#fdd9b4\",\"#fdd8b3\",\"#fdd8b2\",\"#fdd7b0\",\"#fdd6af\",\"#fdd6ae\",\"#fdd5ac\",\"#fdd4ab\",\"#fdd3a9\",\"#fdd3a8\",\"#fdd2a7\",\"#fdd1a5\",\"#fdd1a4\",\"#fdd0a3\",\"#fdcfa1\",\"#fdce9f\",\"#fdcd9e\",\"#fdcc9c\",\"#fdcb9a\",\"#fdca98\",\"#fdc997\",\"#fdc895\",\"#fdc793\",\"#fdc692\",\"#fdc590\",\"#fdc48e\",\"#fdc28c\",\"#fdc18b\",\"#fdc089\",\"#fdbf87\",\"#fdbe85\",\"#fdbd84\",\"#fdbc82\",\"#fdbb80\",\"#fdba7f\",\"#fdb97d\",\"#fdb87b\",\"#fdb779\",\"#fdb678\",\"#fdb576\",\"#fdb474\",\"#fdb272\",\"#fdb171\",\"#fdb06f\",\"#fdaf6d\",\"#fdae6c\",\"#fdad6a\",\"#fdac68\",\"#fdab67\",\"#fdaa66\",\"#fda964\",\"#fda863\",\"#fda761\",\"#fda660\",\"#fda55e\",\"#fda45d\",\"#fda35b\",\"#fda25a\",\"#fda158\",\"#fda057\",\"#fd9f55\",\"#fd9e54\",\"#fd9d52\",\"#fd9c51\",\"#fd9a4f\",\"#fd994e\",\"#fd984c\",\"#fd974b\",\"#fd964a\",\"#fd9548\",\"#fd9447\",\"#fd9345\",\"#fd9244\",\"#fd9142\",\"#fd9041\",\"#fd8f3f\",\"#fd8e3e\",\"#fd8d3c\",\"#fc8c3b\",\"#fc8b3a\",\"#fc8a38\",\"#fb8937\",\"#fb8736\",\"#fa8634\",\"#fa8533\",\"#fa8432\",\"#f98331\",\"#f9822f\",\"#f9812e\",\"#f8802d\",\"#f87e2b\",\"#f77d2a\",\"#f77c29\",\"#f77b28\",\"#f67a26\",\"#f67925\",\"#f67824\",\"#f57622\",\"#f57521\",\"#f47420\",\"#f4731f\",\"#f4721d\",\"#f3711c\",\"#f3701b\",\"#f36f19\",\"#f26d18\",\"#f26c17\",\"#f16b16\",\"#f16a14\",\"#f16913\",\"#f06812\",\"#ef6712\",\"#ef6611\",\"#ee6510\",\"#ed6410\",\"#ec630f\",\"#ec620f\",\"#eb610e\",\"#ea600e\",\"#e95f0d\",\"#e95d0d\",\"#e85c0c\",\"#e75b0b\",\"#e65a0b\",\"#e5590a\",\"#e5580a\",\"#e45709\",\"#e35609\",\"#e25508\",\"#e25407\",\"#e15307\",\"#e05206\",\"#df5106\",\"#df5005\",\"#de4f05\",\"#dd4e04\",\"#dc4d03\",\"#dc4c03\",\"#db4b02\",\"#da4a02\",\"#d94901\",\"#d94801\",\"#d74701\",\"#d64701\",\"#d44601\",\"#d34501\",\"#d14501\",\"#cf4401\",\"#ce4401\",\"#cc4301\",\"#cb4301\",\"#c94201\",\"#c74101\",\"#c64101\",\"#c44001\",\"#c34001\",\"#c13f01\",\"#bf3f01\",\"#be3e02\",\"#bc3d02\",\"#bb3d02\",\"#b93c02\",\"#b73c02\",\"#b63b02\",\"#b43b02\",\"#b33a02\",\"#b13a02\",\"#af3902\",\"#ae3802\",\"#ac3802\",\"#ab3702\",\"#a93702\",\"#a73602\",\"#a63602\",\"#a43503\",\"#a33503\",\"#a23403\",\"#a13403\",\"#a03303\",\"#9e3303\",\"#9d3203\",\"#9c3203\",\"#9b3103\",\"#993103\",\"#983003\",\"#973003\",\"#962f03\",\"#952f03\",\"#932f03\",\"#922e03\",\"#912e03\",\"#902d03\",\"#8e2d03\",\"#8d2c03\",\"#8c2c03\",\"#8b2b03\",\"#8a2b03\",\"#882a03\",\"#872a03\",\"#862903\",\"#852903\",\"#832803\",\"#822803\",\"#812703\",\"#802703\",\"#7f2704\"]},\"id\":\"1041\",\"type\":\"LinearColorMapper\"},{\"attributes\":{},\"id\":\"1026\",\"type\":\"ResetTool\"},{\"attributes\":{\"source\":{\"id\":\"1053\"}},\"id\":\"1060\",\"type\":\"CDSView\"},{\"attributes\":{},\"id\":\"1072\",\"type\":\"UnionRenderers\"},{\"attributes\":{\"coordinates\":null,\"data_source\":{\"id\":\"1053\"},\"glyph\":{\"id\":\"1056\"},\"group\":null,\"hover_glyph\":null,\"muted_glyph\":{\"id\":\"1058\"},\"nonselection_glyph\":{\"id\":\"1057\"},\"selection_glyph\":{\"id\":\"1061\"},\"view\":{\"id\":\"1060\"}},\"id\":\"1059\",\"type\":\"GlyphRenderer\"},{\"attributes\":{\"bottom_units\":\"screen\",\"coordinates\":null,\"fill_alpha\":0.5,\"fill_color\":\"lightgrey\",\"group\":null,\"left_units\":\"screen\",\"level\":\"overlay\",\"line_alpha\":1.0,\"line_color\":\"black\",\"line_dash\":[4,4],\"line_width\":2,\"right_units\":\"screen\",\"syncable\":false,\"top_units\":\"screen\"},\"id\":\"1027\",\"type\":\"BoxAnnotation\"},{\"attributes\":{},\"id\":\"1039\",\"type\":\"CategoricalTickFormatter\"},{\"attributes\":{\"tools\":[{\"id\":\"1006\"},{\"id\":\"1022\"},{\"id\":\"1023\"},{\"id\":\"1024\"},{\"id\":\"1025\"},{\"id\":\"1026\"}]},\"id\":\"1028\",\"type\":\"Toolbar\"},{\"attributes\":{\"children\":[{\"id\":\"1003\"},{\"id\":\"1007\"},{\"id\":\"1075\"}],\"margin\":[0,0,0,0],\"name\":\"Row00842\",\"tags\":[\"embedded\"]},\"id\":\"1002\",\"type\":\"Row\"},{\"attributes\":{\"coordinates\":null,\"group\":null,\"text_color\":\"black\",\"text_font_size\":\"12pt\"},\"id\":\"1008\",\"type\":\"Title\"},{\"attributes\":{},\"id\":\"1036\",\"type\":\"CategoricalTickFormatter\"},{\"attributes\":{},\"id\":\"1012\",\"type\":\"CategoricalScale\"},{\"attributes\":{\"fill_color\":{\"field\":\"zvalues\",\"transform\":{\"id\":\"1041\"}},\"height\":{\"value\":1},\"line_alpha\":{\"value\":0},\"line_color\":{\"value\":\"#1f77b4\"},\"width\":{\"value\":1},\"x\":{\"field\":\"columns\"},\"y\":{\"field\":\"index\"}},\"id\":\"1045\",\"type\":\"Rect\"},{\"attributes\":{\"data\":{\"columns\":[\"age\",\"age\",\"age\",\"age\",\"bmi\",\"bmi\",\"bmi\",\"bmi\",\"children\",\"children\",\"children\",\"children\",\"target\",\"target\",\"target\",\"target\"],\"index\":[\"age\",\"bmi\",\"children\",\"target\",\"age\",\"bmi\",\"children\",\"target\",\"age\",\"bmi\",\"children\",\"target\",\"age\",\"bmi\",\"children\",\"target\"],\"value\":[\"1\",\"0.109\",\"0.042\",\"0.299\",\"0.109\",\"1\",\"0.013\",\"0.199\",\"0.042\",\"0.013\",\"1\",\"0.068\",\"0.299\",\"0.199\",\"0.068\",\"1\"],\"zvalues\":{\"__ndarray__\":\"AAAAAAAA8D+BlUOLbOe7Pxsv3SQGgaU/iUFg5dAi0z+BlUOLbOe7PwAAAAAAAPA/ObTIdr6fij9GtvP91HjJPxsv3SQGgaU/ObTIdr6fij8AAAAAAADwP5zEILByaLE/iUFg5dAi0z9GtvP91HjJP5zEILByaLE/AAAAAAAA8D8=\",\"dtype\":\"float64\",\"order\":\"little\",\"shape\":[16]}},\"selected\":{\"id\":\"1043\"},\"selection_policy\":{\"id\":\"1070\"}},\"id\":\"1042\",\"type\":\"ColumnDataSource\"},{\"attributes\":{\"factors\":[\"age\",\"bmi\",\"children\",\"target\"],\"tags\":[[[\"columns\",\"columns\",null]]]},\"id\":\"1004\",\"type\":\"FactorRange\"},{\"attributes\":{\"fill_color\":{\"field\":\"zvalues\",\"transform\":{\"id\":\"1041\"}},\"height\":{\"value\":1},\"line_alpha\":{\"value\":0},\"line_color\":{\"value\":\"#1f77b4\"},\"width\":{\"value\":1},\"x\":{\"field\":\"columns\"},\"y\":{\"field\":\"index\"}},\"id\":\"1047\",\"type\":\"Rect\"},{\"attributes\":{},\"id\":\"1066\",\"type\":\"NoOverlap\"},{\"attributes\":{},\"id\":\"1040\",\"type\":\"AllLabels\"}],\"root_ids\":[\"1002\"]},\"title\":\"Bokeh Application\",\"version\":\"2.4.3\"}};\n",
       "    var render_items = [{\"docid\":\"9b285fa3-54c3-46c2-82f3-117d30ef3f7a\",\"root_ids\":[\"1002\"],\"roots\":{\"1002\":\"8707e43c-7324-485f-b4fb-638e4f41f1fa\"}}];\n",
       "    root.Bokeh.embed.embed_items_notebook(docs_json, render_items);\n",
       "    for (const render_item of render_items) {\n",
       "      for (const root_id of render_item.root_ids) {\n",
       "\tconst id_el = document.getElementById(root_id)\n",
       "\tif (id_el.children.length && (id_el.children[0].className === 'bk-root')) {\n",
       "\t  const root_el = id_el.children[0]\n",
       "\t  root_el.id = root_el.id + '-rendered'\n",
       "\t}\n",
       "      }\n",
       "    }\n",
       "  }\n",
       "  if (root.Bokeh !== undefined && root.Bokeh.Panel !== undefined) {\n",
       "    embed_document(root);\n",
       "  } else {\n",
       "    var attempts = 0;\n",
       "    var timer = setInterval(function(root) {\n",
       "      if (root.Bokeh !== undefined && root.Bokeh.Panel !== undefined) {\n",
       "        clearInterval(timer);\n",
       "        embed_document(root);\n",
       "      } else if (document.readyState == \"complete\") {\n",
       "        attempts++;\n",
       "        if (attempts > 200) {\n",
       "          clearInterval(timer);\n",
       "          console.log(\"Bokeh: ERROR: Unable to run BokehJS code because BokehJS library is missing\");\n",
       "        }\n",
       "      }\n",
       "    }, 25, root)\n",
       "  }\n",
       "})(window);</script>"
      ],
      "text/plain": [
       ":Overlay\n",
       "   .HeatMap.I :HeatMap   [columns,index]   (value)\n",
       "   .Labels.I  :Labels   [columns,index]   (value)"
      ]
     },
     "execution_count": 11,
     "metadata": {
      "application/vnd.holoviews_exec.v0+json": {
       "id": "1002"
      }
     },
     "output_type": "execute_result"
    }
   ],
   "source": [
    "import hvplot.pandas\n",
    "import holoviews as hv\n",
    "# Look for correlation between all variables and target variable\n",
    "df_cor= df.corr(numeric_only= True).round(3)\n",
    "df_cor\n",
    "p = df_cor.hvplot.heatmap(x=\"columns\", y= \"index\", rot =45, cmap= \"Oranges\" , width = 1000, height=400)\n",
    "p * hv.Labels(p).opts(text_font_size = \"8pt\")"
   ]
  },
  {
   "attachments": {},
   "cell_type": "markdown",
   "metadata": {},
   "source": [
    "# Feature Engineering\n",
    "\n",
    "# **Mean Variable Encoding:**\n",
    "in mean variable encoding we group the categoriacal variable and measure the mean of some numeric variable.  "
   ]
  },
  {
   "cell_type": "code",
   "execution_count": 12,
   "metadata": {},
   "outputs": [
    {
     "data": {
      "text/html": [
       "<div>\n",
       "<style scoped>\n",
       "    .dataframe tbody tr th:only-of-type {\n",
       "        vertical-align: middle;\n",
       "    }\n",
       "\n",
       "    .dataframe tbody tr th {\n",
       "        vertical-align: top;\n",
       "    }\n",
       "\n",
       "    .dataframe thead th {\n",
       "        text-align: right;\n",
       "    }\n",
       "</style>\n",
       "<table border=\"1\" class=\"dataframe\">\n",
       "  <thead>\n",
       "    <tr style=\"text-align: right;\">\n",
       "      <th></th>\n",
       "      <th>region</th>\n",
       "      <th>mean_region_bmi</th>\n",
       "      <th>mean_region_age</th>\n",
       "    </tr>\n",
       "  </thead>\n",
       "  <tbody>\n",
       "    <tr>\n",
       "      <th>0</th>\n",
       "      <td>northeast</td>\n",
       "      <td>30.596615</td>\n",
       "      <td>39.455385</td>\n",
       "    </tr>\n",
       "    <tr>\n",
       "      <th>1</th>\n",
       "      <td>northwest</td>\n",
       "      <td>33.359341</td>\n",
       "      <td>38.939560</td>\n",
       "    </tr>\n",
       "    <tr>\n",
       "      <th>2</th>\n",
       "      <td>southeast</td>\n",
       "      <td>29.201846</td>\n",
       "      <td>39.196923</td>\n",
       "    </tr>\n",
       "    <tr>\n",
       "      <th>3</th>\n",
       "      <td>southwest</td>\n",
       "      <td>29.176235</td>\n",
       "      <td>39.268519</td>\n",
       "    </tr>\n",
       "  </tbody>\n",
       "</table>\n",
       "</div>"
      ],
      "text/plain": [
       "      region  mean_region_bmi  mean_region_age\n",
       "0  northeast       30.596615        39.455385 \n",
       "1  northwest       33.359341        38.939560 \n",
       "2  southeast       29.201846        39.196923 \n",
       "3  southwest       29.176235        39.268519 "
      ]
     },
     "execution_count": 12,
     "metadata": {},
     "output_type": "execute_result"
    }
   ],
   "source": [
    "df_region=  (\n",
    "    df.groupby(\"region\", as_index= False)\n",
    "    .agg(\n",
    "        mean_region_bmi = (\"bmi\", \"mean\"),\n",
    "        mean_region_age = (\"age\", \"mean\"),        \n",
    "    )\n",
    "    )\n",
    "df_region"
   ]
  },
  {
   "cell_type": "code",
   "execution_count": 13,
   "metadata": {},
   "outputs": [
    {
     "data": {
      "text/html": [
       "<div>\n",
       "<style scoped>\n",
       "    .dataframe tbody tr th:only-of-type {\n",
       "        vertical-align: middle;\n",
       "    }\n",
       "\n",
       "    .dataframe tbody tr th {\n",
       "        vertical-align: top;\n",
       "    }\n",
       "\n",
       "    .dataframe thead th {\n",
       "        text-align: right;\n",
       "    }\n",
       "</style>\n",
       "<table border=\"1\" class=\"dataframe\">\n",
       "  <thead>\n",
       "    <tr style=\"text-align: right;\">\n",
       "      <th></th>\n",
       "      <th>smoker</th>\n",
       "      <th>mean_smoker_bmi</th>\n",
       "      <th>mean_smoker_age</th>\n",
       "    </tr>\n",
       "  </thead>\n",
       "  <tbody>\n",
       "    <tr>\n",
       "      <th>0</th>\n",
       "      <td>no</td>\n",
       "      <td>30.713139</td>\n",
       "      <td>38.514599</td>\n",
       "    </tr>\n",
       "    <tr>\n",
       "      <th>1</th>\n",
       "      <td>yes</td>\n",
       "      <td>30.653195</td>\n",
       "      <td>39.385338</td>\n",
       "    </tr>\n",
       "  </tbody>\n",
       "</table>\n",
       "</div>"
      ],
      "text/plain": [
       "  smoker  mean_smoker_bmi  mean_smoker_age\n",
       "0     no       30.713139        38.514599 \n",
       "1    yes       30.653195        39.385338 "
      ]
     },
     "execution_count": 13,
     "metadata": {},
     "output_type": "execute_result"
    }
   ],
   "source": [
    "df_smoker=  (\n",
    "    df.groupby(\"smoker\", as_index= False)\n",
    "    .agg(\n",
    "        mean_smoker_bmi = (\"bmi\", \"mean\"),\n",
    "        mean_smoker_age = (\"age\", \"mean\"),\n",
    "        )\n",
    "    )\n",
    "df_smoker"
   ]
  },
  {
   "cell_type": "code",
   "execution_count": 14,
   "metadata": {},
   "outputs": [
    {
     "data": {
      "text/html": [
       "<div>\n",
       "<style scoped>\n",
       "    .dataframe tbody tr th:only-of-type {\n",
       "        vertical-align: middle;\n",
       "    }\n",
       "\n",
       "    .dataframe tbody tr th {\n",
       "        vertical-align: top;\n",
       "    }\n",
       "\n",
       "    .dataframe thead th {\n",
       "        text-align: right;\n",
       "    }\n",
       "</style>\n",
       "<table border=\"1\" class=\"dataframe\">\n",
       "  <thead>\n",
       "    <tr style=\"text-align: right;\">\n",
       "      <th></th>\n",
       "      <th>sex</th>\n",
       "      <th>mean_sex_bmi</th>\n",
       "      <th>mean_sex_age</th>\n",
       "    </tr>\n",
       "  </thead>\n",
       "  <tbody>\n",
       "    <tr>\n",
       "      <th>0</th>\n",
       "      <td>female</td>\n",
       "      <td>30.379758</td>\n",
       "      <td>39.503021</td>\n",
       "    </tr>\n",
       "    <tr>\n",
       "      <th>1</th>\n",
       "      <td>male</td>\n",
       "      <td>30.945266</td>\n",
       "      <td>38.917160</td>\n",
       "    </tr>\n",
       "  </tbody>\n",
       "</table>\n",
       "</div>"
      ],
      "text/plain": [
       "      sex  mean_sex_bmi  mean_sex_age\n",
       "0  female     30.379758     39.503021\n",
       "1    male     30.945266     38.917160"
      ]
     },
     "execution_count": 14,
     "metadata": {},
     "output_type": "execute_result"
    }
   ],
   "source": [
    "df_sex=  (\n",
    "    df.groupby(\"sex\", as_index= False)\n",
    "    .agg(\n",
    "        mean_sex_bmi = (\"bmi\", \"mean\"),\n",
    "        mean_sex_age = (\"age\", \"mean\")\n",
    "        )\n",
    "    )\n",
    "df_sex"
   ]
  },
  {
   "cell_type": "code",
   "execution_count": 15,
   "metadata": {},
   "outputs": [],
   "source": [
    "df_num=(\n",
    "    df.merge(df_region, how=\"left\", on= \"region\")\n",
    "    .merge(df_smoker, how=\"left\", on= \"smoker\")\n",
    "    .merge(df_sex, how=\"left\", on= \"sex\")\n",
    "    .assign(\n",
    "        obese = lambda df_: np.where( df_.bmi > 30 , 1, 0) ,        \n",
    "        bmi_cat = lambda df_: pd.cut(df_.bmi ,bins= 10, labels= False).astype(\"int\") ,\n",
    "        bmi_smoker = lambda df_: df_.bmi_cat.astype(str) +df_.smoker,\n",
    "        obese_smoker = lambda df_: df_.obese.astype(str) +df_.smoker,\n",
    "        bmi_age = lambda df_: df_.bmi*df_.age,\n",
    "        old = lambda df_: np.where( df_.age > 42 , 1, 0) ,\n",
    "        #old_bmi = lambda df_: df_.old* df_.bmi,        \n",
    "        old_obese = lambda df_: df_.old* df_.obese,        \n",
    "        age_childrem= lambda df_: df_.age* df_.children                \n",
    "    )\n",
    "\n",
    ").select_dtypes([\"int\", \"float\"]).drop(columns = [\"bmi\",\"children\",\"old\"])+ 1\n",
    "df_num= df_num#.apply(lambda x: np.log(x))"
   ]
  },
  {
   "cell_type": "code",
   "execution_count": 16,
   "metadata": {},
   "outputs": [
    {
     "data": {
      "text/html": [
       "<div>\n",
       "<style scoped>\n",
       "    .dataframe tbody tr th:only-of-type {\n",
       "        vertical-align: middle;\n",
       "    }\n",
       "\n",
       "    .dataframe tbody tr th {\n",
       "        vertical-align: top;\n",
       "    }\n",
       "\n",
       "    .dataframe thead th {\n",
       "        text-align: right;\n",
       "    }\n",
       "</style>\n",
       "<table border=\"1\" class=\"dataframe\">\n",
       "  <thead>\n",
       "    <tr style=\"text-align: right;\">\n",
       "      <th></th>\n",
       "      <th>sex</th>\n",
       "      <th>smoker</th>\n",
       "      <th>region</th>\n",
       "      <th>age</th>\n",
       "      <th>target</th>\n",
       "      <th>mean_region_bmi</th>\n",
       "      <th>mean_region_age</th>\n",
       "      <th>mean_smoker_bmi</th>\n",
       "      <th>mean_smoker_age</th>\n",
       "      <th>mean_sex_bmi</th>\n",
       "      <th>mean_sex_age</th>\n",
       "      <th>obese</th>\n",
       "      <th>bmi_cat</th>\n",
       "      <th>bmi_age</th>\n",
       "      <th>old_obese</th>\n",
       "      <th>age_childrem</th>\n",
       "    </tr>\n",
       "  </thead>\n",
       "  <tbody>\n",
       "    <tr>\n",
       "      <th>0</th>\n",
       "      <td>female</td>\n",
       "      <td>no</td>\n",
       "      <td>northeast</td>\n",
       "      <td>20.0</td>\n",
       "      <td>16885.92</td>\n",
       "      <td>31.596615</td>\n",
       "      <td>40.455385</td>\n",
       "      <td>31.713139</td>\n",
       "      <td>39.514599</td>\n",
       "      <td>31.379758</td>\n",
       "      <td>40.503021</td>\n",
       "      <td>1</td>\n",
       "      <td>4</td>\n",
       "      <td>531.1</td>\n",
       "      <td>1</td>\n",
       "      <td>1.0</td>\n",
       "    </tr>\n",
       "    <tr>\n",
       "      <th>1</th>\n",
       "      <td>male</td>\n",
       "      <td>yes</td>\n",
       "      <td>northwest</td>\n",
       "      <td>19.0</td>\n",
       "      <td>1726.55</td>\n",
       "      <td>34.359341</td>\n",
       "      <td>39.939560</td>\n",
       "      <td>31.653195</td>\n",
       "      <td>40.385338</td>\n",
       "      <td>31.945266</td>\n",
       "      <td>39.917160</td>\n",
       "      <td>2</td>\n",
       "      <td>5</td>\n",
       "      <td>609.4</td>\n",
       "      <td>1</td>\n",
       "      <td>19.0</td>\n",
       "    </tr>\n",
       "    <tr>\n",
       "      <th>2</th>\n",
       "      <td>male</td>\n",
       "      <td>yes</td>\n",
       "      <td>northwest</td>\n",
       "      <td>29.0</td>\n",
       "      <td>4450.46</td>\n",
       "      <td>34.359341</td>\n",
       "      <td>39.939560</td>\n",
       "      <td>31.653195</td>\n",
       "      <td>40.385338</td>\n",
       "      <td>31.945266</td>\n",
       "      <td>39.917160</td>\n",
       "      <td>2</td>\n",
       "      <td>5</td>\n",
       "      <td>925.0</td>\n",
       "      <td>1</td>\n",
       "      <td>85.0</td>\n",
       "    </tr>\n",
       "    <tr>\n",
       "      <th>3</th>\n",
       "      <td>male</td>\n",
       "      <td>yes</td>\n",
       "      <td>southeast</td>\n",
       "      <td>34.0</td>\n",
       "      <td>21985.47</td>\n",
       "      <td>30.201846</td>\n",
       "      <td>40.196923</td>\n",
       "      <td>31.653195</td>\n",
       "      <td>40.385338</td>\n",
       "      <td>31.945266</td>\n",
       "      <td>39.917160</td>\n",
       "      <td>1</td>\n",
       "      <td>2</td>\n",
       "      <td>750.1</td>\n",
       "      <td>1</td>\n",
       "      <td>1.0</td>\n",
       "    </tr>\n",
       "    <tr>\n",
       "      <th>4</th>\n",
       "      <td>male</td>\n",
       "      <td>yes</td>\n",
       "      <td>southeast</td>\n",
       "      <td>33.0</td>\n",
       "      <td>3867.86</td>\n",
       "      <td>30.201846</td>\n",
       "      <td>40.196923</td>\n",
       "      <td>31.653195</td>\n",
       "      <td>40.385338</td>\n",
       "      <td>31.945266</td>\n",
       "      <td>39.917160</td>\n",
       "      <td>1</td>\n",
       "      <td>4</td>\n",
       "      <td>925.8</td>\n",
       "      <td>1</td>\n",
       "      <td>1.0</td>\n",
       "    </tr>\n",
       "    <tr>\n",
       "      <th>...</th>\n",
       "      <td>...</td>\n",
       "      <td>...</td>\n",
       "      <td>...</td>\n",
       "      <td>...</td>\n",
       "      <td>...</td>\n",
       "      <td>...</td>\n",
       "      <td>...</td>\n",
       "      <td>...</td>\n",
       "      <td>...</td>\n",
       "      <td>...</td>\n",
       "      <td>...</td>\n",
       "      <td>...</td>\n",
       "      <td>...</td>\n",
       "      <td>...</td>\n",
       "      <td>...</td>\n",
       "      <td>...</td>\n",
       "    </tr>\n",
       "    <tr>\n",
       "      <th>1333</th>\n",
       "      <td>male</td>\n",
       "      <td>yes</td>\n",
       "      <td>southeast</td>\n",
       "      <td>51.0</td>\n",
       "      <td>10601.55</td>\n",
       "      <td>30.201846</td>\n",
       "      <td>40.196923</td>\n",
       "      <td>31.653195</td>\n",
       "      <td>40.385338</td>\n",
       "      <td>31.945266</td>\n",
       "      <td>39.917160</td>\n",
       "      <td>2</td>\n",
       "      <td>5</td>\n",
       "      <td>1551.0</td>\n",
       "      <td>2</td>\n",
       "      <td>151.0</td>\n",
       "    </tr>\n",
       "    <tr>\n",
       "      <th>1334</th>\n",
       "      <td>female</td>\n",
       "      <td>yes</td>\n",
       "      <td>southwest</td>\n",
       "      <td>19.0</td>\n",
       "      <td>2206.98</td>\n",
       "      <td>30.176235</td>\n",
       "      <td>40.268519</td>\n",
       "      <td>31.653195</td>\n",
       "      <td>40.385338</td>\n",
       "      <td>31.379758</td>\n",
       "      <td>40.503021</td>\n",
       "      <td>2</td>\n",
       "      <td>5</td>\n",
       "      <td>575.2</td>\n",
       "      <td>1</td>\n",
       "      <td>1.0</td>\n",
       "    </tr>\n",
       "    <tr>\n",
       "      <th>1335</th>\n",
       "      <td>female</td>\n",
       "      <td>yes</td>\n",
       "      <td>northwest</td>\n",
       "      <td>19.0</td>\n",
       "      <td>1630.83</td>\n",
       "      <td>34.359341</td>\n",
       "      <td>39.939560</td>\n",
       "      <td>31.653195</td>\n",
       "      <td>40.385338</td>\n",
       "      <td>31.379758</td>\n",
       "      <td>40.503021</td>\n",
       "      <td>2</td>\n",
       "      <td>6</td>\n",
       "      <td>665.2</td>\n",
       "      <td>1</td>\n",
       "      <td>1.0</td>\n",
       "    </tr>\n",
       "    <tr>\n",
       "      <th>1336</th>\n",
       "      <td>female</td>\n",
       "      <td>yes</td>\n",
       "      <td>northeast</td>\n",
       "      <td>22.0</td>\n",
       "      <td>2008.95</td>\n",
       "      <td>31.596615</td>\n",
       "      <td>40.455385</td>\n",
       "      <td>31.653195</td>\n",
       "      <td>40.385338</td>\n",
       "      <td>31.379758</td>\n",
       "      <td>40.503021</td>\n",
       "      <td>1</td>\n",
       "      <td>3</td>\n",
       "      <td>542.8</td>\n",
       "      <td>1</td>\n",
       "      <td>1.0</td>\n",
       "    </tr>\n",
       "    <tr>\n",
       "      <th>1337</th>\n",
       "      <td>female</td>\n",
       "      <td>no</td>\n",
       "      <td>southeast</td>\n",
       "      <td>62.0</td>\n",
       "      <td>29142.36</td>\n",
       "      <td>30.201846</td>\n",
       "      <td>40.196923</td>\n",
       "      <td>31.713139</td>\n",
       "      <td>39.514599</td>\n",
       "      <td>31.379758</td>\n",
       "      <td>40.503021</td>\n",
       "      <td>1</td>\n",
       "      <td>4</td>\n",
       "      <td>1776.1</td>\n",
       "      <td>1</td>\n",
       "      <td>1.0</td>\n",
       "    </tr>\n",
       "  </tbody>\n",
       "</table>\n",
       "<p>1338 rows × 16 columns</p>\n",
       "</div>"
      ],
      "text/plain": [
       "         sex smoker     region   age    target  mean_region_bmi  \\\n",
       "0     female     no  northeast  20.0  16885.92       31.596615    \n",
       "1       male    yes  northwest  19.0   1726.55       34.359341    \n",
       "2       male    yes  northwest  29.0   4450.46       34.359341    \n",
       "3       male    yes  southeast  34.0  21985.47       30.201846    \n",
       "4       male    yes  southeast  33.0   3867.86       30.201846    \n",
       "...      ...    ...        ...   ...       ...             ...    \n",
       "1333    male    yes  southeast  51.0  10601.55       30.201846    \n",
       "1334  female    yes  southwest  19.0   2206.98       30.176235    \n",
       "1335  female    yes  northwest  19.0   1630.83       34.359341    \n",
       "1336  female    yes  northeast  22.0   2008.95       31.596615    \n",
       "1337  female     no  southeast  62.0  29142.36       30.201846    \n",
       "\n",
       "      mean_region_age  mean_smoker_bmi  mean_smoker_age  mean_sex_bmi  \\\n",
       "0          40.455385        31.713139        39.514599      31.379758   \n",
       "1          39.939560        31.653195        40.385338      31.945266   \n",
       "2          39.939560        31.653195        40.385338      31.945266   \n",
       "3          40.196923        31.653195        40.385338      31.945266   \n",
       "4          40.196923        31.653195        40.385338      31.945266   \n",
       "...              ...              ...              ...            ...   \n",
       "1333       40.196923        31.653195        40.385338      31.945266   \n",
       "1334       40.268519        31.653195        40.385338      31.379758   \n",
       "1335       39.939560        31.653195        40.385338      31.379758   \n",
       "1336       40.455385        31.653195        40.385338      31.379758   \n",
       "1337       40.196923        31.713139        39.514599      31.379758   \n",
       "\n",
       "      mean_sex_age  obese  bmi_cat  bmi_age  old_obese  age_childrem  \n",
       "0        40.503021      1        4    531.1          1           1.0  \n",
       "1        39.917160      2        5    609.4          1          19.0  \n",
       "2        39.917160      2        5    925.0          1          85.0  \n",
       "3        39.917160      1        2    750.1          1           1.0  \n",
       "4        39.917160      1        4    925.8          1           1.0  \n",
       "...            ...    ...      ...      ...        ...           ...  \n",
       "1333     39.917160      2        5   1551.0          2         151.0  \n",
       "1334     40.503021      2        5    575.2          1           1.0  \n",
       "1335     40.503021      2        6    665.2          1           1.0  \n",
       "1336     40.503021      1        3    542.8          1           1.0  \n",
       "1337     40.503021      1        4   1776.1          1           1.0  \n",
       "\n",
       "[1338 rows x 16 columns]"
      ]
     },
     "execution_count": 16,
     "metadata": {},
     "output_type": "execute_result"
    }
   ],
   "source": [
    "df= pd.concat([df.select_dtypes(\"object\"), df_num ], axis=1)\n",
    "df"
   ]
  },
  {
   "cell_type": "code",
   "execution_count": 17,
   "metadata": {},
   "outputs": [
    {
     "data": {
      "text/html": [
       "<div>\n",
       "<style scoped>\n",
       "    .dataframe tbody tr th:only-of-type {\n",
       "        vertical-align: middle;\n",
       "    }\n",
       "\n",
       "    .dataframe tbody tr th {\n",
       "        vertical-align: top;\n",
       "    }\n",
       "\n",
       "    .dataframe thead th {\n",
       "        text-align: right;\n",
       "    }\n",
       "</style>\n",
       "<table border=\"1\" class=\"dataframe\">\n",
       "  <thead>\n",
       "    <tr style=\"text-align: right;\">\n",
       "      <th></th>\n",
       "      <th>age</th>\n",
       "      <th>target</th>\n",
       "      <th>mean_region_bmi</th>\n",
       "      <th>mean_region_age</th>\n",
       "      <th>mean_smoker_bmi</th>\n",
       "      <th>mean_smoker_age</th>\n",
       "      <th>mean_sex_bmi</th>\n",
       "      <th>mean_sex_age</th>\n",
       "      <th>obese</th>\n",
       "      <th>bmi_cat</th>\n",
       "      <th>bmi_age</th>\n",
       "      <th>old_obese</th>\n",
       "      <th>age_childrem</th>\n",
       "    </tr>\n",
       "  </thead>\n",
       "  <tbody>\n",
       "    <tr>\n",
       "      <th>count</th>\n",
       "      <td>1338.000000</td>\n",
       "      <td>1338.000000</td>\n",
       "      <td>1338.000000</td>\n",
       "      <td>1338.000000</td>\n",
       "      <td>1338.000000</td>\n",
       "      <td>1338.000000</td>\n",
       "      <td>1338.000000</td>\n",
       "      <td>1338.000000</td>\n",
       "      <td>1338.000000</td>\n",
       "      <td>1338.000000</td>\n",
       "      <td>1338.000000</td>\n",
       "      <td>1338.000000</td>\n",
       "      <td>1338.000000</td>\n",
       "    </tr>\n",
       "    <tr>\n",
       "      <th>mean</th>\n",
       "      <td>40.207025</td>\n",
       "      <td>13271.422414</td>\n",
       "      <td>31.665471</td>\n",
       "      <td>40.207025</td>\n",
       "      <td>31.665471</td>\n",
       "      <td>40.207025</td>\n",
       "      <td>31.665471</td>\n",
       "      <td>40.207025</td>\n",
       "      <td>1.521674</td>\n",
       "      <td>4.449925</td>\n",
       "      <td>1212.663453</td>\n",
       "      <td>1.249626</td>\n",
       "      <td>44.647235</td>\n",
       "    </tr>\n",
       "    <tr>\n",
       "      <th>std</th>\n",
       "      <td>14.049960</td>\n",
       "      <td>12110.011240</td>\n",
       "      <td>1.742138</td>\n",
       "      <td>0.188179</td>\n",
       "      <td>0.024199</td>\n",
       "      <td>0.351512</td>\n",
       "      <td>0.282844</td>\n",
       "      <td>0.293024</td>\n",
       "      <td>0.499717</td>\n",
       "      <td>1.652075</td>\n",
       "      <td>522.676121</td>\n",
       "      <td>0.432959</td>\n",
       "      <td>51.559607</td>\n",
       "    </tr>\n",
       "    <tr>\n",
       "      <th>min</th>\n",
       "      <td>19.000000</td>\n",
       "      <td>1122.870000</td>\n",
       "      <td>30.176235</td>\n",
       "      <td>39.939560</td>\n",
       "      <td>31.653195</td>\n",
       "      <td>39.514599</td>\n",
       "      <td>31.379758</td>\n",
       "      <td>39.917160</td>\n",
       "      <td>1.000000</td>\n",
       "      <td>1.000000</td>\n",
       "      <td>289.000000</td>\n",
       "      <td>1.000000</td>\n",
       "      <td>1.000000</td>\n",
       "    </tr>\n",
       "    <tr>\n",
       "      <th>25%</th>\n",
       "      <td>28.000000</td>\n",
       "      <td>4741.287500</td>\n",
       "      <td>30.201846</td>\n",
       "      <td>39.939560</td>\n",
       "      <td>31.653195</td>\n",
       "      <td>40.385338</td>\n",
       "      <td>31.379758</td>\n",
       "      <td>39.917160</td>\n",
       "      <td>1.000000</td>\n",
       "      <td>3.000000</td>\n",
       "      <td>766.950000</td>\n",
       "      <td>1.000000</td>\n",
       "      <td>1.000000</td>\n",
       "    </tr>\n",
       "    <tr>\n",
       "      <th>50%</th>\n",
       "      <td>40.000000</td>\n",
       "      <td>9383.030000</td>\n",
       "      <td>31.596615</td>\n",
       "      <td>40.196923</td>\n",
       "      <td>31.653195</td>\n",
       "      <td>40.385338</td>\n",
       "      <td>31.945266</td>\n",
       "      <td>39.917160</td>\n",
       "      <td>2.000000</td>\n",
       "      <td>4.000000</td>\n",
       "      <td>1154.250000</td>\n",
       "      <td>1.000000</td>\n",
       "      <td>33.000000</td>\n",
       "    </tr>\n",
       "    <tr>\n",
       "      <th>75%</th>\n",
       "      <td>52.000000</td>\n",
       "      <td>16640.915000</td>\n",
       "      <td>34.359341</td>\n",
       "      <td>40.268519</td>\n",
       "      <td>31.653195</td>\n",
       "      <td>40.385338</td>\n",
       "      <td>31.945266</td>\n",
       "      <td>40.503021</td>\n",
       "      <td>2.000000</td>\n",
       "      <td>6.000000</td>\n",
       "      <td>1589.725000</td>\n",
       "      <td>1.000000</td>\n",
       "      <td>73.000000</td>\n",
       "    </tr>\n",
       "    <tr>\n",
       "      <th>max</th>\n",
       "      <td>65.000000</td>\n",
       "      <td>63771.430000</td>\n",
       "      <td>34.359341</td>\n",
       "      <td>40.455385</td>\n",
       "      <td>31.713139</td>\n",
       "      <td>40.385338</td>\n",
       "      <td>31.945266</td>\n",
       "      <td>40.503021</td>\n",
       "      <td>2.000000</td>\n",
       "      <td>10.000000</td>\n",
       "      <td>2848.800000</td>\n",
       "      <td>2.000000</td>\n",
       "      <td>261.000000</td>\n",
       "    </tr>\n",
       "  </tbody>\n",
       "</table>\n",
       "</div>"
      ],
      "text/plain": [
       "               age        target  mean_region_bmi  mean_region_age  \\\n",
       "count  1338.000000   1338.000000     1338.000000      1338.000000    \n",
       "mean     40.207025  13271.422414       31.665471        40.207025    \n",
       "std      14.049960  12110.011240        1.742138         0.188179    \n",
       "min      19.000000   1122.870000       30.176235        39.939560    \n",
       "25%      28.000000   4741.287500       30.201846        39.939560    \n",
       "50%      40.000000   9383.030000       31.596615        40.196923    \n",
       "75%      52.000000  16640.915000       34.359341        40.268519    \n",
       "max      65.000000  63771.430000       34.359341        40.455385    \n",
       "\n",
       "       mean_smoker_bmi  mean_smoker_age  mean_sex_bmi  mean_sex_age  \\\n",
       "count     1338.000000      1338.000000    1338.000000   1338.000000   \n",
       "mean        31.665471        40.207025      31.665471     40.207025   \n",
       "std          0.024199         0.351512       0.282844      0.293024   \n",
       "min         31.653195        39.514599      31.379758     39.917160   \n",
       "25%         31.653195        40.385338      31.379758     39.917160   \n",
       "50%         31.653195        40.385338      31.945266     39.917160   \n",
       "75%         31.653195        40.385338      31.945266     40.503021   \n",
       "max         31.713139        40.385338      31.945266     40.503021   \n",
       "\n",
       "             obese      bmi_cat      bmi_age    old_obese  age_childrem  \n",
       "count  1338.000000  1338.000000  1338.000000  1338.000000   1338.000000  \n",
       "mean      1.521674     4.449925  1212.663453     1.249626     44.647235  \n",
       "std       0.499717     1.652075   522.676121     0.432959     51.559607  \n",
       "min       1.000000     1.000000   289.000000     1.000000      1.000000  \n",
       "25%       1.000000     3.000000   766.950000     1.000000      1.000000  \n",
       "50%       2.000000     4.000000  1154.250000     1.000000     33.000000  \n",
       "75%       2.000000     6.000000  1589.725000     1.000000     73.000000  \n",
       "max       2.000000    10.000000  2848.800000     2.000000    261.000000  "
      ]
     },
     "execution_count": 17,
     "metadata": {},
     "output_type": "execute_result"
    }
   ],
   "source": [
    "df.describe()      "
   ]
  },
  {
   "cell_type": "code",
   "execution_count": 18,
   "metadata": {},
   "outputs": [
    {
     "data": {
      "image/png": "[encoded data removed]",
      "text/plain": [
       "<Figure size 1600x900 with 16 Axes>"
      ]
     },
     "metadata": {},
     "output_type": "display_data"
    }
   ],
   "source": [
    "pd.options.plotting.backend = \"matplotlib\"\n",
    "df.select_dtypes([int, \"float\"]).apply(lambda x: np.log(x)).hist(\n",
    "    bins=50, \n",
    "    figsize=(16,9)   \n",
    "    )\n",
    "plt.show()\n",
    "pd.options.plotting.backend = \"plotly\""
   ]
  },
  {
   "cell_type": "markdown",
   "metadata": {},
   "source": [
    "># Correlation"
   ]
  },
  {
   "cell_type": "code",
   "execution_count": 20,
   "metadata": {},
   "outputs": [
    {
     "data": {},
     "metadata": {},
     "output_type": "display_data"
    },
    {
     "data": {
      "application/vnd.holoviews_exec.v0+json": "",
      "text/html": [
       "<div id='1142'>\n",
       "  <div class=\"bk-root\" id=\"7090121d-0777-4a6f-b0a2-67d66ff9c832\" data-root-id=\"1142\"></div>\n",
       "</div>\n",
       "<script type=\"application/javascript\">(function(root) {\n",
       "  function embed_document(root) {\n",
       "    var docs_json = {\"22f99b71-1d91-4f2e-83af-db1e8d766243\":{\"defs\":[{\"extends\":null,\"module\":null,\"name\":\"ReactiveHTML1\",\"overrides\":[],\"properties\":[]},{\"extends\":null,\"module\":null,\"name\":\"FlexBox1\",\"overrides\":[],\"properties\":[{\"default\":\"flex-start\",\"kind\":null,\"name\":\"align_content\"},{\"default\":\"flex-start\",\"kind\":null,\"name\":\"align_items\"},{\"default\":\"row\",\"kind\":null,\"name\":\"flex_direction\"},{\"default\":\"wrap\",\"kind\":null,\"name\":\"flex_wrap\"},{\"default\":\"flex-start\",\"kind\":null,\"name\":\"justify_content\"}]},{\"extends\":null,\"module\":null,\"name\":\"GridStack1\",\"overrides\":[],\"properties\":[{\"default\":\"warn\",\"kind\":null,\"name\":\"mode\"},{\"default\":null,\"kind\":null,\"name\":\"ncols\"},{\"default\":null,\"kind\":null,\"name\":\"nrows\"},{\"default\":true,\"kind\":null,\"name\":\"allow_resize\"},{\"default\":true,\"kind\":null,\"name\":\"allow_drag\"},{\"default\":[],\"kind\":null,\"name\":\"state\"}]},{\"extends\":null,\"module\":null,\"name\":\"click1\",\"overrides\":[],\"properties\":[{\"default\":\"\",\"kind\":null,\"name\":\"terminal_output\"},{\"default\":\"\",\"kind\":null,\"name\":\"debug_name\"},{\"default\":0,\"kind\":null,\"name\":\"clears\"}]},{\"extends\":null,\"module\":null,\"name\":\"NotificationAreaBase1\",\"overrides\":[],\"properties\":[{\"default\":\"bottom-right\",\"kind\":null,\"name\":\"position\"},{\"default\":0,\"kind\":null,\"name\":\"_clear\"}]},{\"extends\":null,\"module\":null,\"name\":\"NotificationArea1\",\"overrides\":[],\"properties\":[{\"default\":[],\"kind\":null,\"name\":\"notifications\"},{\"default\":\"bottom-right\",\"kind\":null,\"name\":\"position\"},{\"default\":0,\"kind\":null,\"name\":\"_clear\"},{\"default\":[{\"background\":\"#ffc107\",\"icon\":{\"className\":\"fas fa-exclamation-triangle\",\"color\":\"white\",\"tagName\":\"i\"},\"type\":\"warning\"},{\"background\":\"#007bff\",\"icon\":{\"className\":\"fas fa-info-circle\",\"color\":\"white\",\"tagName\":\"i\"},\"type\":\"info\"}],\"kind\":null,\"name\":\"types\"}]},{\"extends\":null,\"module\":null,\"name\":\"Notification\",\"overrides\":[],\"properties\":[{\"default\":null,\"kind\":null,\"name\":\"background\"},{\"default\":3000,\"kind\":null,\"name\":\"duration\"},{\"default\":null,\"kind\":null,\"name\":\"icon\"},{\"default\":\"\",\"kind\":null,\"name\":\"message\"},{\"default\":null,\"kind\":null,\"name\":\"notification_type\"},{\"default\":false,\"kind\":null,\"name\":\"_destroyed\"}]},{\"extends\":null,\"module\":null,\"name\":\"TemplateActions1\",\"overrides\":[],\"properties\":[{\"default\":0,\"kind\":null,\"name\":\"open_modal\"},{\"default\":0,\"kind\":null,\"name\":\"close_modal\"}]},{\"extends\":null,\"module\":null,\"name\":\"MaterialTemplateActions1\",\"overrides\":[],\"properties\":[{\"default\":0,\"kind\":null,\"name\":\"open_modal\"},{\"default\":0,\"kind\":null,\"name\":\"close_modal\"}]}],\"roots\":{\"references\":[{\"attributes\":{},\"id\":\"1176\",\"type\":\"CategoricalTickFormatter\"},{\"attributes\":{\"factors\":[\"age\",\"target\",\"mean_region_bmi\",\"mean_region_age\",\"mean_smoker_bmi\",\"mean_smoker_age\",\"mean_sex_bmi\",\"mean_sex_age\",\"obese\",\"bmi_cat\",\"bmi_age\",\"old_obese\",\"age_childrem\"],\"tags\":[[[\"index\",\"index\",null]]]},\"id\":\"1145\",\"type\":\"FactorRange\"},{\"attributes\":{},\"id\":\"1206\",\"type\":\"NoOverlap\"},{\"attributes\":{},\"id\":\"1177\",\"type\":\"AllLabels\"},{\"attributes\":{},\"id\":\"1179\",\"type\":\"CategoricalTickFormatter\"},{\"attributes\":{\"bar_line_color\":\"black\",\"color_mapper\":{\"id\":\"1181\"},\"coordinates\":null,\"group\":null,\"label_standoff\":8,\"location\":[0,0],\"major_label_policy\":{\"id\":\"1206\"},\"major_tick_line_color\":\"black\",\"ticker\":{\"id\":\"1191\"}},\"id\":\"1192\",\"type\":\"ColorBar\"},{\"attributes\":{\"source\":{\"id\":\"1182\"}},\"id\":\"1190\",\"type\":\"CDSView\"},{\"attributes\":{\"margin\":[5,5,5,5],\"name\":\"HSpacer00998\",\"sizing_mode\":\"stretch_width\"},\"id\":\"1143\",\"type\":\"Spacer\"},{\"attributes\":{\"axis_label\":\"\",\"coordinates\":null,\"formatter\":{\"id\":\"1179\"},\"group\":null,\"major_label_policy\":{\"id\":\"1180\"},\"ticker\":{\"id\":\"1160\"}},\"id\":\"1159\",\"type\":\"CategoricalAxis\"},{\"attributes\":{\"coordinates\":null,\"data_source\":{\"id\":\"1182\"},\"glyph\":{\"id\":\"1185\"},\"group\":null,\"hover_glyph\":null,\"muted_glyph\":{\"id\":\"1188\"},\"nonselection_glyph\":{\"id\":\"1186\"},\"selection_glyph\":{\"id\":\"1187\"},\"view\":{\"id\":\"1190\"}},\"id\":\"1189\",\"type\":\"GlyphRenderer\"},{\"attributes\":{},\"id\":\"1154\",\"type\":\"CategoricalScale\"},{\"attributes\":{},\"id\":\"1163\",\"type\":\"PanTool\"},{\"attributes\":{},\"id\":\"1166\",\"type\":\"ResetTool\"},{\"attributes\":{\"tools\":[{\"id\":\"1146\"},{\"id\":\"1162\"},{\"id\":\"1163\"},{\"id\":\"1164\"},{\"id\":\"1165\"},{\"id\":\"1166\"}]},\"id\":\"1168\",\"type\":\"Toolbar\"},{\"attributes\":{\"data\":{\"columns\":[\"age\",\"age\",\"age\",\"age\",\"age\",\"age\",\"age\",\"age\",\"age\",\"age\",\"age\",\"age\",\"age\",\"target\",\"target\",\"target\",\"target\",\"target\",\"target\",\"target\",\"target\",\"target\",\"target\",\"target\",\"target\",\"target\",\"mean_region_bmi\",\"mean_region_bmi\",\"mean_region_bmi\",\"mean_region_bmi\",\"mean_region_bmi\",\"mean_region_bmi\",\"mean_region_bmi\",\"mean_region_bmi\",\"mean_region_bmi\",\"mean_region_bmi\",\"mean_region_bmi\",\"mean_region_bmi\",\"mean_region_bmi\",\"mean_region_age\",\"mean_region_age\",\"mean_region_age\",\"mean_region_age\",\"mean_region_age\",\"mean_region_age\",\"mean_region_age\",\"mean_region_age\",\"mean_region_age\",\"mean_region_age\",\"mean_region_age\",\"mean_region_age\",\"mean_region_age\",\"mean_smoker_bmi\",\"mean_smoker_bmi\",\"mean_smoker_bmi\",\"mean_smoker_bmi\",\"mean_smoker_bmi\",\"mean_smoker_bmi\",\"mean_smoker_bmi\",\"mean_smoker_bmi\",\"mean_smoker_bmi\",\"mean_smoker_bmi\",\"mean_smoker_bmi\",\"mean_smoker_bmi\",\"mean_smoker_bmi\",\"mean_smoker_age\",\"mean_smoker_age\",\"mean_smoker_age\",\"mean_smoker_age\",\"mean_smoker_age\",\"mean_smoker_age\",\"mean_smoker_age\",\"mean_smoker_age\",\"mean_smoker_age\",\"mean_smoker_age\",\"mean_smoker_age\",\"mean_smoker_age\",\"mean_smoker_age\",\"mean_sex_bmi\",\"mean_sex_bmi\",\"mean_sex_bmi\",\"mean_sex_bmi\",\"mean_sex_bmi\",\"mean_sex_bmi\",\"mean_sex_bmi\",\"mean_sex_bmi\",\"mean_sex_bmi\",\"mean_sex_bmi\",\"mean_sex_bmi\",\"mean_sex_bmi\",\"mean_sex_bmi\",\"mean_sex_age\",\"mean_sex_age\",\"mean_sex_age\",\"mean_sex_age\",\"mean_sex_age\",\"mean_sex_age\",\"mean_sex_age\",\"mean_sex_age\",\"mean_sex_age\",\"mean_sex_age\",\"mean_sex_age\",\"mean_sex_age\",\"mean_sex_age\",\"obese\",\"obese\",\"obese\",\"obese\",\"obese\",\"obese\",\"obese\",\"obese\",\"obese\",\"obese\",\"obese\",\"obese\",\"obese\",\"bmi_cat\",\"bmi_cat\",\"bmi_cat\",\"bmi_cat\",\"bmi_cat\",\"bmi_cat\",\"bmi_cat\",\"bmi_cat\",\"bmi_cat\",\"bmi_cat\",\"bmi_cat\",\"bmi_cat\",\"bmi_cat\",\"bmi_age\",\"bmi_age\",\"bmi_age\",\"bmi_age\",\"bmi_age\",\"bmi_age\",\"bmi_age\",\"bmi_age\",\"bmi_age\",\"bmi_age\",\"bmi_age\",\"bmi_age\",\"bmi_age\",\"old_obese\",\"old_obese\",\"old_obese\",\"old_obese\",\"old_obese\",\"old_obese\",\"old_obese\",\"old_obese\",\"old_obese\",\"old_obese\",\"old_obese\",\"old_obese\",\"old_obese\",\"age_childrem\",\"age_childrem\",\"age_childrem\",\"age_childrem\",\"age_childrem\",\"age_childrem\",\"age_childrem\",\"age_childrem\",\"age_childrem\",\"age_childrem\",\"age_childrem\",\"age_childrem\",\"age_childrem\"],\"index\":[\"age\",\"target\",\"mean_region_bmi\",\"mean_region_age\",\"mean_smoker_bmi\",\"mean_smoker_age\",\"mean_sex_bmi\",\"mean_sex_age\",\"obese\",\"bmi_cat\",\"bmi_age\",\"old_obese\",\"age_childrem\",\"age\",\"target\",\"mean_region_bmi\",\"mean_region_age\",\"mean_smoker_bmi\",\"mean_smoker_age\",\"mean_sex_bmi\",\"mean_sex_age\",\"obese\",\"bmi_cat\",\"bmi_age\",\"old_obese\",\"age_childrem\",\"age\",\"target\",\"mean_region_bmi\",\"mean_region_age\",\"mean_smoker_bmi\",\"mean_smoker_age\",\"mean_sex_bmi\",\"mean_sex_age\",\"obese\",\"bmi_cat\",\"bmi_age\",\"old_obese\",\"age_childrem\",\"age\",\"target\",\"mean_region_bmi\",\"mean_region_age\",\"mean_smoker_bmi\",\"mean_smoker_age\",\"mean_sex_bmi\",\"mean_sex_age\",\"obese\",\"bmi_cat\",\"bmi_age\",\"old_obese\",\"age_childrem\",\"age\",\"target\",\"mean_region_bmi\",\"mean_region_age\",\"mean_smoker_bmi\",\"mean_smoker_age\",\"mean_sex_bmi\",\"mean_sex_age\",\"obese\",\"bmi_cat\",\"bmi_age\",\"old_obese\",\"age_childrem\",\"age\",\"target\",\"mean_region_bmi\",\"mean_region_age\",\"mean_smoker_bmi\",\"mean_smoker_age\",\"mean_sex_bmi\",\"mean_sex_age\",\"obese\",\"bmi_cat\",\"bmi_age\",\"old_obese\",\"age_childrem\",\"age\",\"target\",\"mean_region_bmi\",\"mean_region_age\",\"mean_smoker_bmi\",\"mean_smoker_age\",\"mean_sex_bmi\",\"mean_sex_age\",\"obese\",\"bmi_cat\",\"bmi_age\",\"old_obese\",\"age_childrem\",\"age\",\"target\",\"mean_region_bmi\",\"mean_region_age\",\"mean_smoker_bmi\",\"mean_smoker_age\",\"mean_sex_bmi\",\"mean_sex_age\",\"obese\",\"bmi_cat\",\"bmi_age\",\"old_obese\",\"age_childrem\",\"age\",\"target\",\"mean_region_bmi\",\"mean_region_age\",\"mean_smoker_bmi\",\"mean_smoker_age\",\"mean_sex_bmi\",\"mean_sex_age\",\"obese\",\"bmi_cat\",\"bmi_age\",\"old_obese\",\"age_childrem\",\"age\",\"target\",\"mean_region_bmi\",\"mean_region_age\",\"mean_smoker_bmi\",\"mean_smoker_age\",\"mean_sex_bmi\",\"mean_sex_age\",\"obese\",\"bmi_cat\",\"bmi_age\",\"old_obese\",\"age_childrem\",\"age\",\"target\",\"mean_region_bmi\",\"mean_region_age\",\"mean_smoker_bmi\",\"mean_smoker_age\",\"mean_sex_bmi\",\"mean_sex_age\",\"obese\",\"bmi_cat\",\"bmi_age\",\"old_obese\",\"age_childrem\",\"age\",\"target\",\"mean_region_bmi\",\"mean_region_age\",\"mean_smoker_bmi\",\"mean_smoker_age\",\"mean_sex_bmi\",\"mean_sex_age\",\"obese\",\"bmi_cat\",\"bmi_age\",\"old_obese\",\"age_childrem\",\"age\",\"target\",\"mean_region_bmi\",\"mean_region_age\",\"mean_smoker_bmi\",\"mean_smoker_age\",\"mean_sex_bmi\",\"mean_sex_age\",\"obese\",\"bmi_cat\",\"bmi_age\",\"old_obese\",\"age_childrem\"],\"value\":[\"1\",\"0.299\",\"-0.009\",\"0.013\",\"-0.025\",\"0.025\",\"-0.021\",\"0.021\",\"0.087\",\"0.101\",\"0.88\",\"0.585\",\"0.253\",\"0.299\",\"1\",\"0.064\",\"-0.069\",\"0.787\",\"-0.787\",\"0.057\",\"-0.057\",\"0.2\",\"0.194\",\"0.335\",\"0.267\",\"0.132\",\"-0.009\",\"0.064\",\"1\",\"-0.668\",\"0.06\",\"-0.06\",\"0.017\",\"-0.017\",\"0.181\",\"0.278\",\"0.116\",\"0.069\",\"-0.006\",\"0.013\",\"-0.069\",\"-0.668\",\"1\",\"-0.063\",\"0.063\",\"-0.013\",\"0.013\",\"-0.114\",\"-0.183\",\"-0.065\",\"-0.037\",\"0.009\",\"-0.025\",\"0.787\",\"0.06\",\"-0.063\",\"1\",\"-1\",\"0.076\",\"-0.076\",\"0\",\"0.006\",\"-0.023\",\"-0.015\",\"0.005\",\"0.025\",\"-0.787\",\"-0.06\",\"0.063\",\"-1\",\"1\",\"-0.076\",\"0.076\",\"-0\",\"-0.006\",\"0.023\",\"0.015\",\"-0.005\",\"-0.021\",\"0.057\",\"0.017\",\"-0.013\",\"0.076\",\"-0.076\",\"1\",\"-1\",\"0.04\",\"0.042\",\"0.006\",\"0.011\",\"-0.002\",\"0.021\",\"-0.057\",\"-0.017\",\"0.013\",\"-0.076\",\"0.076\",\"-1\",\"1\",\"-0.04\",\"-0.042\",\"-0.006\",\"-0.011\",\"0.002\",\"0.087\",\"0.2\",\"0.181\",\"-0.114\",\"0\",\"-0\",\"0.04\",\"-0.04\",\"1\",\"0.786\",\"0.435\",\"0.552\",\"0.047\",\"0.101\",\"0.194\",\"0.278\",\"-0.183\",\"0.006\",\"-0.006\",\"0.042\",\"-0.042\",\"0.786\",\"1\",\"0.526\",\"0.444\",\"0.048\",\"0.88\",\"0.335\",\"0.116\",\"-0.065\",\"-0.023\",\"0.023\",\"0.006\",\"-0.006\",\"0.435\",\"0.526\",\"1\",\"0.757\",\"0.236\",\"0.585\",\"0.267\",\"0.069\",\"-0.037\",\"-0.015\",\"0.015\",\"0.011\",\"-0.011\",\"0.552\",\"0.444\",\"0.757\",\"1\",\"0.174\",\"0.253\",\"0.132\",\"-0.006\",\"0.009\",\"0.005\",\"-0.005\",\"-0.002\",\"0.002\",\"0.047\",\"0.048\",\"0.236\",\"0.174\",\"1\"]},\"selected\":{\"id\":\"1194\"},\"selection_policy\":{\"id\":\"1212\"}},\"id\":\"1193\",\"type\":\"ColumnDataSource\"},{\"attributes\":{},\"id\":\"1180\",\"type\":\"AllLabels\"},{\"attributes\":{},\"id\":\"1210\",\"type\":\"UnionRenderers\"},{\"attributes\":{\"text\":{\"field\":\"value\"},\"text_align\":{\"value\":\"center\"},\"text_alpha\":{\"value\":0.1},\"text_baseline\":{\"value\":\"middle\"},\"text_color\":{\"value\":\"black\"},\"text_font_size\":{\"value\":\"8pt\"},\"x\":{\"field\":\"columns\"},\"y\":{\"field\":\"index\"}},\"id\":\"1197\",\"type\":\"Text\"},{\"attributes\":{\"margin\":[5,5,5,5],\"name\":\"HSpacer00999\",\"sizing_mode\":\"stretch_width\"},\"id\":\"1215\",\"type\":\"Spacer\"},{\"attributes\":{},\"id\":\"1191\",\"type\":\"BasicTicker\"},{\"attributes\":{\"data\":{\"columns\":[\"age\",\"age\",\"age\",\"age\",\"age\",\"age\",\"age\",\"age\",\"age\",\"age\",\"age\",\"age\",\"age\",\"target\",\"target\",\"target\",\"target\",\"target\",\"target\",\"target\",\"target\",\"target\",\"target\",\"target\",\"target\",\"target\",\"mean_region_bmi\",\"mean_region_bmi\",\"mean_region_bmi\",\"mean_region_bmi\",\"mean_region_bmi\",\"mean_region_bmi\",\"mean_region_bmi\",\"mean_region_bmi\",\"mean_region_bmi\",\"mean_region_bmi\",\"mean_region_bmi\",\"mean_region_bmi\",\"mean_region_bmi\",\"mean_region_age\",\"mean_region_age\",\"mean_region_age\",\"mean_region_age\",\"mean_region_age\",\"mean_region_age\",\"mean_region_age\",\"mean_region_age\",\"mean_region_age\",\"mean_region_age\",\"mean_region_age\",\"mean_region_age\",\"mean_region_age\",\"mean_smoker_bmi\",\"mean_smoker_bmi\",\"mean_smoker_bmi\",\"mean_smoker_bmi\",\"mean_smoker_bmi\",\"mean_smoker_bmi\",\"mean_smoker_bmi\",\"mean_smoker_bmi\",\"mean_smoker_bmi\",\"mean_smoker_bmi\",\"mean_smoker_bmi\",\"mean_smoker_bmi\",\"mean_smoker_bmi\",\"mean_smoker_age\",\"mean_smoker_age\",\"mean_smoker_age\",\"mean_smoker_age\",\"mean_smoker_age\",\"mean_smoker_age\",\"mean_smoker_age\",\"mean_smoker_age\",\"mean_smoker_age\",\"mean_smoker_age\",\"mean_smoker_age\",\"mean_smoker_age\",\"mean_smoker_age\",\"mean_sex_bmi\",\"mean_sex_bmi\",\"mean_sex_bmi\",\"mean_sex_bmi\",\"mean_sex_bmi\",\"mean_sex_bmi\",\"mean_sex_bmi\",\"mean_sex_bmi\",\"mean_sex_bmi\",\"mean_sex_bmi\",\"mean_sex_bmi\",\"mean_sex_bmi\",\"mean_sex_bmi\",\"mean_sex_age\",\"mean_sex_age\",\"mean_sex_age\",\"mean_sex_age\",\"mean_sex_age\",\"mean_sex_age\",\"mean_sex_age\",\"mean_sex_age\",\"mean_sex_age\",\"mean_sex_age\",\"mean_sex_age\",\"mean_sex_age\",\"mean_sex_age\",\"obese\",\"obese\",\"obese\",\"obese\",\"obese\",\"obese\",\"obese\",\"obese\",\"obese\",\"obese\",\"obese\",\"obese\",\"obese\",\"bmi_cat\",\"bmi_cat\",\"bmi_cat\",\"bmi_cat\",\"bmi_cat\",\"bmi_cat\",\"bmi_cat\",\"bmi_cat\",\"bmi_cat\",\"bmi_cat\",\"bmi_cat\",\"bmi_cat\",\"bmi_cat\",\"bmi_age\",\"bmi_age\",\"bmi_age\",\"bmi_age\",\"bmi_age\",\"bmi_age\",\"bmi_age\",\"bmi_age\",\"bmi_age\",\"bmi_age\",\"bmi_age\",\"bmi_age\",\"bmi_age\",\"old_obese\",\"old_obese\",\"old_obese\",\"old_obese\",\"old_obese\",\"old_obese\",\"old_obese\",\"old_obese\",\"old_obese\",\"old_obese\",\"old_obese\",\"old_obese\",\"old_obese\",\"age_childrem\",\"age_childrem\",\"age_childrem\",\"age_childrem\",\"age_childrem\",\"age_childrem\",\"age_childrem\",\"age_childrem\",\"age_childrem\",\"age_childrem\",\"age_childrem\",\"age_childrem\",\"age_childrem\"],\"index\":[\"age\",\"target\",\"mean_region_bmi\",\"mean_region_age\",\"mean_smoker_bmi\",\"mean_smoker_age\",\"mean_sex_bmi\",\"mean_sex_age\",\"obese\",\"bmi_cat\",\"bmi_age\",\"old_obese\",\"age_childrem\",\"age\",\"target\",\"mean_region_bmi\",\"mean_region_age\",\"mean_smoker_bmi\",\"mean_smoker_age\",\"mean_sex_bmi\",\"mean_sex_age\",\"obese\",\"bmi_cat\",\"bmi_age\",\"old_obese\",\"age_childrem\",\"age\",\"target\",\"mean_region_bmi\",\"mean_region_age\",\"mean_smoker_bmi\",\"mean_smoker_age\",\"mean_sex_bmi\",\"mean_sex_age\",\"obese\",\"bmi_cat\",\"bmi_age\",\"old_obese\",\"age_childrem\",\"age\",\"target\",\"mean_region_bmi\",\"mean_region_age\",\"mean_smoker_bmi\",\"mean_smoker_age\",\"mean_sex_bmi\",\"mean_sex_age\",\"obese\",\"bmi_cat\",\"bmi_age\",\"old_obese\",\"age_childrem\",\"age\",\"target\",\"mean_region_bmi\",\"mean_region_age\",\"mean_smoker_bmi\",\"mean_smoker_age\",\"mean_sex_bmi\",\"mean_sex_age\",\"obese\",\"bmi_cat\",\"bmi_age\",\"old_obese\",\"age_childrem\",\"age\",\"target\",\"mean_region_bmi\",\"mean_region_age\",\"mean_smoker_bmi\",\"mean_smoker_age\",\"mean_sex_bmi\",\"mean_sex_age\",\"obese\",\"bmi_cat\",\"bmi_age\",\"old_obese\",\"age_childrem\",\"age\",\"target\",\"mean_region_bmi\",\"mean_region_age\",\"mean_smoker_bmi\",\"mean_smoker_age\",\"mean_sex_bmi\",\"mean_sex_age\",\"obese\",\"bmi_cat\",\"bmi_age\",\"old_obese\",\"age_childrem\",\"age\",\"target\",\"mean_region_bmi\",\"mean_region_age\",\"mean_smoker_bmi\",\"mean_smoker_age\",\"mean_sex_bmi\",\"mean_sex_age\",\"obese\",\"bmi_cat\",\"bmi_age\",\"old_obese\",\"age_childrem\",\"age\",\"target\",\"mean_region_bmi\",\"mean_region_age\",\"mean_smoker_bmi\",\"mean_smoker_age\",\"mean_sex_bmi\",\"mean_sex_age\",\"obese\",\"bmi_cat\",\"bmi_age\",\"old_obese\",\"age_childrem\",\"age\",\"target\",\"mean_region_bmi\",\"mean_region_age\",\"mean_smoker_bmi\",\"mean_smoker_age\",\"mean_sex_bmi\",\"mean_sex_age\",\"obese\",\"bmi_cat\",\"bmi_age\",\"old_obese\",\"age_childrem\",\"age\",\"target\",\"mean_region_bmi\",\"mean_region_age\",\"mean_smoker_bmi\",\"mean_smoker_age\",\"mean_sex_bmi\",\"mean_sex_age\",\"obese\",\"bmi_cat\",\"bmi_age\",\"old_obese\",\"age_childrem\",\"age\",\"target\",\"mean_region_bmi\",\"mean_region_age\",\"mean_smoker_bmi\",\"mean_smoker_age\",\"mean_sex_bmi\",\"mean_sex_age\",\"obese\",\"bmi_cat\",\"bmi_age\",\"old_obese\",\"age_childrem\",\"age\",\"target\",\"mean_region_bmi\",\"mean_region_age\",\"mean_smoker_bmi\",\"mean_smoker_age\",\"mean_sex_bmi\",\"mean_sex_age\",\"obese\",\"bmi_cat\",\"bmi_age\",\"old_obese\",\"age_childrem\"],\"value\":[\"1\",\"0.299\",\"-0.009\",\"0.013\",\"-0.025\",\"0.025\",\"-0.021\",\"0.021\",\"0.087\",\"0.101\",\"0.88\",\"0.585\",\"0.253\",\"0.299\",\"1\",\"0.064\",\"-0.069\",\"0.787\",\"-0.787\",\"0.057\",\"-0.057\",\"0.2\",\"0.194\",\"0.335\",\"0.267\",\"0.132\",\"-0.009\",\"0.064\",\"1\",\"-0.668\",\"0.06\",\"-0.06\",\"0.017\",\"-0.017\",\"0.181\",\"0.278\",\"0.116\",\"0.069\",\"-0.006\",\"0.013\",\"-0.069\",\"-0.668\",\"1\",\"-0.063\",\"0.063\",\"-0.013\",\"0.013\",\"-0.114\",\"-0.183\",\"-0.065\",\"-0.037\",\"0.009\",\"-0.025\",\"0.787\",\"0.06\",\"-0.063\",\"1\",\"-1\",\"0.076\",\"-0.076\",\"0\",\"0.006\",\"-0.023\",\"-0.015\",\"0.005\",\"0.025\",\"-0.787\",\"-0.06\",\"0.063\",\"-1\",\"1\",\"-0.076\",\"0.076\",\"-0\",\"-0.006\",\"0.023\",\"0.015\",\"-0.005\",\"-0.021\",\"0.057\",\"0.017\",\"-0.013\",\"0.076\",\"-0.076\",\"1\",\"-1\",\"0.04\",\"0.042\",\"0.006\",\"0.011\",\"-0.002\",\"0.021\",\"-0.057\",\"-0.017\",\"0.013\",\"-0.076\",\"0.076\",\"-1\",\"1\",\"-0.04\",\"-0.042\",\"-0.006\",\"-0.011\",\"0.002\",\"0.087\",\"0.2\",\"0.181\",\"-0.114\",\"0\",\"-0\",\"0.04\",\"-0.04\",\"1\",\"0.786\",\"0.435\",\"0.552\",\"0.047\",\"0.101\",\"0.194\",\"0.278\",\"-0.183\",\"0.006\",\"-0.006\",\"0.042\",\"-0.042\",\"0.786\",\"1\",\"0.526\",\"0.444\",\"0.048\",\"0.88\",\"0.335\",\"0.116\",\"-0.065\",\"-0.023\",\"0.023\",\"0.006\",\"-0.006\",\"0.435\",\"0.526\",\"1\",\"0.757\",\"0.236\",\"0.585\",\"0.267\",\"0.069\",\"-0.037\",\"-0.015\",\"0.015\",\"0.011\",\"-0.011\",\"0.552\",\"0.444\",\"0.757\",\"1\",\"0.174\",\"0.253\",\"0.132\",\"-0.006\",\"0.009\",\"0.005\",\"-0.005\",\"-0.002\",\"0.002\",\"0.047\",\"0.048\",\"0.236\",\"0.174\",\"1\"],\"zvalues\":{\"__ndarray__\":\"AAAAAAAA8D+JQWDl0CLTPzvfT42XboK/ObTIdr6fij+amZmZmZmZv5qZmZmZmZk/Gy/dJAaBlb8bL90kBoGVPxKDwMqhRbY/QmDl0CLbuT8pXI/C9SjsP7gehetRuOI//tR46SYx0D+JQWDl0CLTPwAAAAAAAPA//Knx0k1isD9Ei2zn+6mxv8l2vp8aL+k/yXa+nxov6b/Jdr6fGi+tP8l2vp8aL62/mpmZmZmZyT+iRbbz/dTIP3E9CtejcNU/SgwCK4cW0T9MN4lBYOXAPzvfT42XboK//Knx0k1isD8AAAAAAADwP8dLN4lBYOW/uB6F61G4rj+4HoXrUbiuv5zEILByaJE/nMQgsHJokb9eukkMAivHP5huEoPAytE/GQRWDi2yvT9Ei2zn+6mxP/p+arx0k3i/ObTIdr6fij9Ei2zn+6mxv8dLN4lBYOW/AAAAAAAA8D9U46WbxCCwv1TjpZvEILA/ObTIdr6fir85tMh2vp+KP8l2vp8aL72/BoGVQ4tsx7+kcD0K16Owv4ts5/up8aK/O99PjZdugj+amZmZmZmZv8l2vp8aL+k/uB6F61G4rj9U46WbxCCwvwAAAAAAAPA/AAAAAAAA8L/b+X5qvHSzP9v5fmq8dLO/AAAAAAAAAAD6fmq8dJN4P1pkO99PjZe/uB6F61G4jr97FK5H4Xp0P5qZmZmZmZk/yXa+nxov6b+4HoXrUbiuv1TjpZvEILA/AAAAAAAA8L8AAAAAAADwP9v5fmq8dLO/2/l+arx0sz8AAAAAAAAAgPp+arx0k3i/WmQ730+Nlz+4HoXrUbiOP3sUrkfhenS/Gy/dJAaBlb/Jdr6fGi+tP5zEILByaJE/ObTIdr6fir/b+X5qvHSzP9v5fmq8dLO/AAAAAAAA8D8AAAAAAADwv3sUrkfheqQ/Gy/dJAaBpT/6fmq8dJN4P7pJDAIrh4Y//Knx0k1iYL8bL90kBoGVP8l2vp8aL62/nMQgsHJokb85tMh2vp+KP9v5fmq8dLO/2/l+arx0sz8AAAAAAADwvwAAAAAAAPA/exSuR+F6pL8bL90kBoGlv/p+arx0k3i/ukkMAiuHhr/8qfHSTWJgPxKDwMqhRbY/mpmZmZmZyT9eukkMAivHP8l2vp8aL72/AAAAAAAAAAAAAAAAAAAAgHsUrkfheqQ/exSuR+F6pL8AAAAAAADwP/T91HjpJuk/16NwPQrX2z9Ei2zn+6nhP6rx0k1iEKg/QmDl0CLbuT+iRbbz/dTIP5huEoPAytE/BoGVQ4tsx7/6fmq8dJN4P/p+arx0k3i/Gy/dJAaBpT8bL90kBoGlv/T91HjpJuk/AAAAAAAA8D+iRbbz/dTgP9Ei2/l+atw/+n5qvHSTqD8pXI/C9SjsP3E9CtejcNU/GQRWDi2yvT+kcD0K16Owv1pkO99PjZe/WmQ730+Nlz/6fmq8dJN4P/p+arx0k3i/16NwPQrX2z+iRbbz/dTgPwAAAAAAAPA/001iEFg56D9oke18PzXOP7gehetRuOI/SgwCK4cW0T9Ei2zn+6mxP4ts5/up8aK/uB6F61G4jr+4HoXrUbiOP7pJDAIrh4Y/ukkMAiuHhr9Ei2zn+6nhP9Ei2/l+atw/001iEFg56D8AAAAAAADwPxKDwMqhRcY//tR46SYx0D9MN4lBYOXAP/p+arx0k3i/O99PjZdugj97FK5H4Xp0P3sUrkfhenS//Knx0k1iYL/8qfHSTWJgP6rx0k1iEKg/+n5qvHSTqD9oke18PzXOPxKDwMqhRcY/AAAAAAAA8D8=\",\"dtype\":\"float64\",\"order\":\"little\",\"shape\":[169]}},\"selected\":{\"id\":\"1183\"},\"selection_policy\":{\"id\":\"1210\"}},\"id\":\"1182\",\"type\":\"ColumnDataSource\"},{\"attributes\":{\"fill_alpha\":{\"value\":0.1},\"fill_color\":{\"field\":\"zvalues\",\"transform\":{\"id\":\"1181\"}},\"hatch_alpha\":{\"value\":0.1},\"height\":{\"value\":1},\"line_alpha\":{\"value\":0},\"line_color\":{\"value\":\"#1f77b4\"},\"width\":{\"value\":1},\"x\":{\"field\":\"columns\"},\"y\":{\"field\":\"index\"}},\"id\":\"1186\",\"type\":\"Rect\"},{\"attributes\":{},\"id\":\"1152\",\"type\":\"CategoricalScale\"},{\"attributes\":{},\"id\":\"1194\",\"type\":\"Selection\"},{\"attributes\":{\"fill_alpha\":{\"value\":0.2},\"fill_color\":{\"field\":\"zvalues\",\"transform\":{\"id\":\"1181\"}},\"hatch_alpha\":{\"value\":0.2},\"height\":{\"value\":1},\"line_alpha\":{\"value\":0},\"line_color\":{\"value\":\"#1f77b4\"},\"width\":{\"value\":1},\"x\":{\"field\":\"columns\"},\"y\":{\"field\":\"index\"}},\"id\":\"1188\",\"type\":\"Rect\"},{\"attributes\":{\"factors\":[\"age\",\"target\",\"mean_region_bmi\",\"mean_region_age\",\"mean_smoker_bmi\",\"mean_smoker_age\",\"mean_sex_bmi\",\"mean_sex_age\",\"obese\",\"bmi_cat\",\"bmi_age\",\"old_obese\",\"age_childrem\"],\"tags\":[[[\"columns\",\"columns\",null]]]},\"id\":\"1144\",\"type\":\"FactorRange\"},{\"attributes\":{\"below\":[{\"id\":\"1156\"}],\"center\":[{\"id\":\"1158\"},{\"id\":\"1161\"}],\"height\":400,\"left\":[{\"id\":\"1159\"}],\"margin\":[5,5,5,5],\"min_border_bottom\":10,\"min_border_left\":10,\"min_border_right\":10,\"min_border_top\":10,\"renderers\":[{\"id\":\"1189\"},{\"id\":\"1199\"}],\"right\":[{\"id\":\"1192\"}],\"sizing_mode\":\"fixed\",\"title\":{\"id\":\"1148\"},\"toolbar\":{\"id\":\"1168\"},\"width\":1000,\"x_range\":{\"id\":\"1144\"},\"x_scale\":{\"id\":\"1152\"},\"y_range\":{\"id\":\"1145\"},\"y_scale\":{\"id\":\"1154\"}},\"id\":\"1147\",\"subtype\":\"Figure\",\"type\":\"Plot\"},{\"attributes\":{\"callback\":null,\"renderers\":[{\"id\":\"1189\"}],\"tags\":[\"hv_created\"],\"tooltips\":[[\"columns\",\"@{columns}\"],[\"index\",\"@{index}\"],[\"value\",\"@{value}\"]]},\"id\":\"1146\",\"type\":\"HoverTool\"},{\"attributes\":{\"coordinates\":null,\"group\":null,\"text_color\":\"black\",\"text_font_size\":\"12pt\"},\"id\":\"1148\",\"type\":\"Title\"},{\"attributes\":{\"axis_label\":\"\",\"coordinates\":null,\"formatter\":{\"id\":\"1176\"},\"group\":null,\"major_label_orientation\":0.7853981633974483,\"major_label_policy\":{\"id\":\"1177\"},\"ticker\":{\"id\":\"1157\"}},\"id\":\"1156\",\"type\":\"CategoricalAxis\"},{\"attributes\":{\"axis\":{\"id\":\"1156\"},\"coordinates\":null,\"grid_line_color\":null,\"group\":null,\"ticker\":null},\"id\":\"1158\",\"type\":\"Grid\"},{\"attributes\":{\"fill_color\":{\"field\":\"zvalues\",\"transform\":{\"id\":\"1181\"}},\"height\":{\"value\":1},\"line_alpha\":{\"value\":0},\"line_color\":{\"value\":\"#1f77b4\"},\"width\":{\"value\":1},\"x\":{\"field\":\"columns\"},\"y\":{\"field\":\"index\"}},\"id\":\"1185\",\"type\":\"Rect\"},{\"attributes\":{\"angle\":{\"value\":0},\"text\":{\"field\":\"value\"},\"text_align\":{\"value\":\"center\"},\"text_alpha\":{\"value\":1.0},\"text_baseline\":{\"value\":\"middle\"},\"text_color\":{\"value\":\"black\"},\"text_font_size\":{\"value\":\"8pt\"},\"text_font_style\":{\"value\":\"normal\"},\"text_line_height\":{\"value\":1.2},\"x\":{\"field\":\"columns\"},\"x_offset\":{\"value\":0},\"y\":{\"field\":\"index\"},\"y_offset\":{\"value\":0}},\"id\":\"1201\",\"type\":\"Text\"},{\"attributes\":{},\"id\":\"1157\",\"type\":\"CategoricalTicker\"},{\"attributes\":{\"axis\":{\"id\":\"1159\"},\"coordinates\":null,\"dimension\":1,\"grid_line_color\":null,\"group\":null,\"ticker\":null},\"id\":\"1161\",\"type\":\"Grid\"},{\"attributes\":{},\"id\":\"1160\",\"type\":\"CategoricalTicker\"},{\"attributes\":{\"text\":{\"field\":\"value\"},\"text_align\":{\"value\":\"center\"},\"text_baseline\":{\"value\":\"middle\"},\"text_color\":{\"value\":\"black\"},\"text_font_size\":{\"value\":\"8pt\"},\"x\":{\"field\":\"columns\"},\"y\":{\"field\":\"index\"}},\"id\":\"1196\",\"type\":\"Text\"},{\"attributes\":{},\"id\":\"1164\",\"type\":\"WheelZoomTool\"},{\"attributes\":{\"children\":[{\"id\":\"1143\"},{\"id\":\"1147\"},{\"id\":\"1215\"}],\"margin\":[0,0,0,0],\"name\":\"Row00994\",\"tags\":[\"embedded\"]},\"id\":\"1142\",\"type\":\"Row\"},{\"attributes\":{},\"id\":\"1162\",\"type\":\"SaveTool\"},{\"attributes\":{\"overlay\":{\"id\":\"1167\"}},\"id\":\"1165\",\"type\":\"BoxZoomTool\"},{\"attributes\":{\"text\":{\"field\":\"value\"},\"text_align\":{\"value\":\"center\"},\"text_alpha\":{\"value\":0.2},\"text_baseline\":{\"value\":\"middle\"},\"text_color\":{\"value\":\"black\"},\"text_font_size\":{\"value\":\"8pt\"},\"x\":{\"field\":\"columns\"},\"y\":{\"field\":\"index\"}},\"id\":\"1198\",\"type\":\"Text\"},{\"attributes\":{\"fill_color\":{\"field\":\"zvalues\",\"transform\":{\"id\":\"1181\"}},\"height\":{\"value\":1},\"line_alpha\":{\"value\":0},\"line_color\":{\"value\":\"#1f77b4\"},\"width\":{\"value\":1},\"x\":{\"field\":\"columns\"},\"y\":{\"field\":\"index\"}},\"id\":\"1187\",\"type\":\"Rect\"},{\"attributes\":{\"high\":1.0,\"low\":-1.0,\"nan_color\":\"white\",\"palette\":[\"#fff5eb\",\"#fef4ea\",\"#fef4e9\",\"#fef3e8\",\"#fef3e7\",\"#fef2e6\",\"#fef2e5\",\"#fef1e4\",\"#fef1e3\",\"#fef0e2\",\"#fef0e1\",\"#feefe0\",\"#feefe0\",\"#feeedf\",\"#feeede\",\"#feeddd\",\"#feeddc\",\"#feeddb\",\"#feecda\",\"#feecd9\",\"#feebd8\",\"#feebd7\",\"#feead6\",\"#feead6\",\"#fee9d5\",\"#fee9d4\",\"#fee8d3\",\"#fee8d2\",\"#fee7d1\",\"#fee7d0\",\"#fee6cf\",\"#fee6ce\",\"#fde5cd\",\"#fde5cc\",\"#fde4cb\",\"#fde3c9\",\"#fde3c8\",\"#fde2c6\",\"#fde1c5\",\"#fde1c4\",\"#fde0c2\",\"#fddfc1\",\"#fddfc0\",\"#fddebe\",\"#fdddbd\",\"#fddcbb\",\"#fddcba\",\"#fddbb9\",\"#fddab7\",\"#fddab6\",\"#fdd9b4\",\"#fdd8b3\",\"#fdd8b2\",\"#fdd7b0\",\"#fdd6af\",\"#fdd6ae\",\"#fdd5ac\",\"#fdd4ab\",\"#fdd3a9\",\"#fdd3a8\",\"#fdd2a7\",\"#fdd1a5\",\"#fdd1a4\",\"#fdd0a3\",\"#fdcfa1\",\"#fdce9f\",\"#fdcd9e\",\"#fdcc9c\",\"#fdcb9a\",\"#fdca98\",\"#fdc997\",\"#fdc895\",\"#fdc793\",\"#fdc692\",\"#fdc590\",\"#fdc48e\",\"#fdc28c\",\"#fdc18b\",\"#fdc089\",\"#fdbf87\",\"#fdbe85\",\"#fdbd84\",\"#fdbc82\",\"#fdbb80\",\"#fdba7f\",\"#fdb97d\",\"#fdb87b\",\"#fdb779\",\"#fdb678\",\"#fdb576\",\"#fdb474\",\"#fdb272\",\"#fdb171\",\"#fdb06f\",\"#fdaf6d\",\"#fdae6c\",\"#fdad6a\",\"#fdac68\",\"#fdab67\",\"#fdaa66\",\"#fda964\",\"#fda863\",\"#fda761\",\"#fda660\",\"#fda55e\",\"#fda45d\",\"#fda35b\",\"#fda25a\",\"#fda158\",\"#fda057\",\"#fd9f55\",\"#fd9e54\",\"#fd9d52\",\"#fd9c51\",\"#fd9a4f\",\"#fd994e\",\"#fd984c\",\"#fd974b\",\"#fd964a\",\"#fd9548\",\"#fd9447\",\"#fd9345\",\"#fd9244\",\"#fd9142\",\"#fd9041\",\"#fd8f3f\",\"#fd8e3e\",\"#fd8d3c\",\"#fc8c3b\",\"#fc8b3a\",\"#fc8a38\",\"#fb8937\",\"#fb8736\",\"#fa8634\",\"#fa8533\",\"#fa8432\",\"#f98331\",\"#f9822f\",\"#f9812e\",\"#f8802d\",\"#f87e2b\",\"#f77d2a\",\"#f77c29\",\"#f77b28\",\"#f67a26\",\"#f67925\",\"#f67824\",\"#f57622\",\"#f57521\",\"#f47420\",\"#f4731f\",\"#f4721d\",\"#f3711c\",\"#f3701b\",\"#f36f19\",\"#f26d18\",\"#f26c17\",\"#f16b16\",\"#f16a14\",\"#f16913\",\"#f06812\",\"#ef6712\",\"#ef6611\",\"#ee6510\",\"#ed6410\",\"#ec630f\",\"#ec620f\",\"#eb610e\",\"#ea600e\",\"#e95f0d\",\"#e95d0d\",\"#e85c0c\",\"#e75b0b\",\"#e65a0b\",\"#e5590a\",\"#e5580a\",\"#e45709\",\"#e35609\",\"#e25508\",\"#e25407\",\"#e15307\",\"#e05206\",\"#df5106\",\"#df5005\",\"#de4f05\",\"#dd4e04\",\"#dc4d03\",\"#dc4c03\",\"#db4b02\",\"#da4a02\",\"#d94901\",\"#d94801\",\"#d74701\",\"#d64701\",\"#d44601\",\"#d34501\",\"#d14501\",\"#cf4401\",\"#ce4401\",\"#cc4301\",\"#cb4301\",\"#c94201\",\"#c74101\",\"#c64101\",\"#c44001\",\"#c34001\",\"#c13f01\",\"#bf3f01\",\"#be3e02\",\"#bc3d02\",\"#bb3d02\",\"#b93c02\",\"#b73c02\",\"#b63b02\",\"#b43b02\",\"#b33a02\",\"#b13a02\",\"#af3902\",\"#ae3802\",\"#ac3802\",\"#ab3702\",\"#a93702\",\"#a73602\",\"#a63602\",\"#a43503\",\"#a33503\",\"#a23403\",\"#a13403\",\"#a03303\",\"#9e3303\",\"#9d3203\",\"#9c3203\",\"#9b3103\",\"#993103\",\"#983003\",\"#973003\",\"#962f03\",\"#952f03\",\"#932f03\",\"#922e03\",\"#912e03\",\"#902d03\",\"#8e2d03\",\"#8d2c03\",\"#8c2c03\",\"#8b2b03\",\"#8a2b03\",\"#882a03\",\"#872a03\",\"#862903\",\"#852903\",\"#832803\",\"#822803\",\"#812703\",\"#802703\",\"#7f2704\"]},\"id\":\"1181\",\"type\":\"LinearColorMapper\"},{\"attributes\":{\"source\":{\"id\":\"1193\"}},\"id\":\"1200\",\"type\":\"CDSView\"},{\"attributes\":{\"coordinates\":null,\"data_source\":{\"id\":\"1193\"},\"glyph\":{\"id\":\"1196\"},\"group\":null,\"hover_glyph\":null,\"muted_glyph\":{\"id\":\"1198\"},\"nonselection_glyph\":{\"id\":\"1197\"},\"selection_glyph\":{\"id\":\"1201\"},\"view\":{\"id\":\"1200\"}},\"id\":\"1199\",\"type\":\"GlyphRenderer\"},{\"attributes\":{},\"id\":\"1183\",\"type\":\"Selection\"},{\"attributes\":{},\"id\":\"1212\",\"type\":\"UnionRenderers\"},{\"attributes\":{\"bottom_units\":\"screen\",\"coordinates\":null,\"fill_alpha\":0.5,\"fill_color\":\"lightgrey\",\"group\":null,\"left_units\":\"screen\",\"level\":\"overlay\",\"line_alpha\":1.0,\"line_color\":\"black\",\"line_dash\":[4,4],\"line_width\":2,\"right_units\":\"screen\",\"syncable\":false,\"top_units\":\"screen\"},\"id\":\"1167\",\"type\":\"BoxAnnotation\"}],\"root_ids\":[\"1142\"]},\"title\":\"Bokeh Application\",\"version\":\"2.4.3\"}};\n",
       "    var render_items = [{\"docid\":\"22f99b71-1d91-4f2e-83af-db1e8d766243\",\"root_ids\":[\"1142\"],\"roots\":{\"1142\":\"7090121d-0777-4a6f-b0a2-67d66ff9c832\"}}];\n",
       "    root.Bokeh.embed.embed_items_notebook(docs_json, render_items);\n",
       "    for (const render_item of render_items) {\n",
       "      for (const root_id of render_item.root_ids) {\n",
       "\tconst id_el = document.getElementById(root_id)\n",
       "\tif (id_el.children.length && (id_el.children[0].className === 'bk-root')) {\n",
       "\t  const root_el = id_el.children[0]\n",
       "\t  root_el.id = root_el.id + '-rendered'\n",
       "\t}\n",
       "      }\n",
       "    }\n",
       "  }\n",
       "  if (root.Bokeh !== undefined && root.Bokeh.Panel !== undefined) {\n",
       "    embed_document(root);\n",
       "  } else {\n",
       "    var attempts = 0;\n",
       "    var timer = setInterval(function(root) {\n",
       "      if (root.Bokeh !== undefined && root.Bokeh.Panel !== undefined) {\n",
       "        clearInterval(timer);\n",
       "        embed_document(root);\n",
       "      } else if (document.readyState == \"complete\") {\n",
       "        attempts++;\n",
       "        if (attempts > 200) {\n",
       "          clearInterval(timer);\n",
       "          console.log(\"Bokeh: ERROR: Unable to run BokehJS code because BokehJS library is missing\");\n",
       "        }\n",
       "      }\n",
       "    }, 25, root)\n",
       "  }\n",
       "})(window);</script>"
      ],
      "text/plain": [
       ":Overlay\n",
       "   .HeatMap.I :HeatMap   [columns,index]   (value)\n",
       "   .Labels.I  :Labels   [columns,index]   (value)"
      ]
     },
     "execution_count": 20,
     "metadata": {
      "application/vnd.holoviews_exec.v0+json": {
       "id": "1142"
      }
     },
     "output_type": "execute_result"
    }
   ],
   "source": [
    "import hvplot.pandas\n",
    "import holoviews as hv\n",
    "# Look for correlation between all variables and target variable\n",
    "df_cor= df.corr(numeric_only= True).round(3)\n",
    "df_cor\n",
    "p = df_cor.hvplot.heatmap(x=\"columns\", y= \"index\", rot =45, cmap= \"Oranges\" , width = 1000, height=400)\n",
    "p * hv.Labels(p).opts(text_font_size = \"8pt\")"
   ]
  },
  {
   "attachments": {},
   "cell_type": "markdown",
   "metadata": {},
   "source": [
    "># Libraries Preprocess"
   ]
  },
  {
   "cell_type": "code",
   "execution_count": null,
   "metadata": {},
   "outputs": [],
   "source": [
    "# preprocess\n",
    "\n",
    "from sklearn.pipeline import Pipeline\n",
    "from imblearn.pipeline import Pipeline\n",
    "from sklearn.pipeline import make_pipeline\n",
    "from sklearn.compose import ColumnTransformer\n",
    "\n",
    "\n",
    "# transformer/imputer/scaller/var filter\n",
    "from sklearn.preprocessing import OneHotEncoder\n",
    "from sklearn.preprocessing import StandardScaler\n",
    "from sklearn.preprocessing import MinMaxScaler\n",
    "from sklearn.preprocessing import FunctionTransformer\n",
    "from sklearn.preprocessing import PolynomialFeatures\n",
    "from sklearn.feature_selection import VarianceThreshold\n",
    "from sklearn.feature_selection import SelectFromModel\n",
    "from sklearn.linear_model import LinearRegression\n",
    "from sklearn.impute import SimpleImputer\n",
    "from sklearn.compose import make_column_selector\n",
    "# Target var Transofrmations\n",
    "from sklearn.compose import TransformedTargetRegressor"
   ]
  },
  {
   "attachments": {},
   "cell_type": "markdown",
   "metadata": {},
   "source": [
    "# Library Models/Metrics pipelines"
   ]
  },
  {
   "cell_type": "code",
   "execution_count": null,
   "metadata": {},
   "outputs": [],
   "source": [
    "# Linear Models\n",
    "from sklearn import linear_model \n",
    "\n",
    "#KNN\n",
    "from sklearn import neighbors\n",
    "\n",
    "# Tree/Ensemble\n",
    "from sklearn import tree\n",
    "from sklearn import ensemble\n",
    "import xgboost\n",
    "import lightgbm\n",
    "\n",
    "#SVM\n",
    "from sklearn import svm\n",
    "\n",
    "#Clustering\n",
    "from sklearn.cluster import KMeans\n",
    "\n",
    "# metric evaluation and cross validation\n",
    "from sklearn import metrics\n",
    "from sklearn.model_selection import cross_validate\n",
    "from sklearn.model_selection import cross_val_score"
   ]
  },
  {
   "attachments": {},
   "cell_type": "markdown",
   "metadata": {},
   "source": [
    "># Libraries GRID and sample split"
   ]
  },
  {
   "cell_type": "code",
   "execution_count": null,
   "metadata": {},
   "outputs": [],
   "source": [
    "from sklearn.model_selection import KFold\n",
    "from sklearn.model_selection import RandomizedSearchCV\n",
    "from sklearn.model_selection import GridSearchCV"
   ]
  },
  {
   "attachments": {},
   "cell_type": "markdown",
   "metadata": {},
   "source": [
    "# Transformers"
   ]
  },
  {
   "attachments": {},
   "cell_type": "markdown",
   "metadata": {},
   "source": [
    "# **Mean Encoding on Target VAriable**\n",
    "## Mean Encoding Regularisaiton"
   ]
  },
  {
   "attachments": {},
   "cell_type": "markdown",
   "metadata": {},
   "source": [
    "\n",
    "in this type of mean encoding the we group the categoriacal variable and measure the mean of target variable.  \n",
    "\n",
    "Mean encoding should be done after splitting the data. We need to get the means from the training set and map it to test set using join on the category used to groupby. mean of region1 * nrows of region 1 + globalmean(target) * alpha / nrows of region 1 + alpha\n"
   ]
  },
  {
   "cell_type": "code",
   "execution_count": null,
   "metadata": {},
   "outputs": [],
   "source": [
    "from sklearn.cluster import KMeans\n",
    "from sklearn.metrics.pairwise import rbf_kernel\n",
    "\n",
    "class ClusterSimilarity(BaseEstimator, TransformerMixin):\n",
    "    def __init__(self, n_clusters=10, gamma=1.0, random_state=None):\n",
    "        self.n_clusters = n_clusters\n",
    "        self.gamma = gamma\n",
    "        self.random_state = random_state\n",
    "\n",
    "    def fit(self, X, y=None, sample_weight=None):\n",
    "        self.kmeans_ = KMeans(self.n_clusters, random_state=self.random_state)\n",
    "        self.kmeans_.fit(X, sample_weight=sample_weight)\n",
    "        return self  # always return self!\n",
    "\n",
    "    def transform(self, X):\n",
    "        return rbf_kernel(X, self.kmeans_.cluster_centers_, gamma=self.gamma)\n",
    "    \n",
    "    def get_feature_names_out(self, names=None):\n",
    "        return [f\"Cluster {i} similarity\" for i in range(self.n_clusters)]"
   ]
  },
  {
   "cell_type": "code",
   "execution_count": null,
   "metadata": {},
   "outputs": [],
   "source": [
    "# Log Transformer\n",
    "log_transformer =   FunctionTransformer(np.log, inverse_func= np.exp)\n",
    "# sqrt transformer\n",
    "sqrt_transformer = FunctionTransformer(np.sqrt, inverse_func= np.square)\n",
    "\n",
    "# multiplication column\n",
    "def column_mult(X):    \n",
    "    return X.iloc[:, 0] * X.iloc[:, 1]\n",
    "def mult_name(function_transformer, feature_names_in):\n",
    "    return [\"mult\"]  # feature names out\n",
    "\n",
    "def mult_pipeline():\n",
    "    return make_pipeline(\n",
    "        SimpleImputer(strategy=\"median\"),\n",
    "        FunctionTransformer(column_mult, feature_names_out= mult_name),\n",
    "       StandardScaler()\n",
    "        )\n",
    "\n",
    "# Ratio column\n",
    "def column_ratio(X):    \n",
    "    return X.iloc[:, 0] / X.iloc[:, 1]\n",
    "\n",
    "def ratio_name(function_transformer, feature_names_in):\n",
    "    return [\"ratio\"]  # feature names out\n",
    "\n",
    "def ratio_pipeline():\n",
    "    return make_pipeline(\n",
    "        SimpleImputer(strategy=\"median\"),\n",
    "        FunctionTransformer(column_ratio, feature_names_out= ratio_name),\n",
    "        StandardScaler()\n",
    "        )\n",
    "\n",
    "# Create Age Bucket\n",
    "def age(X):\n",
    " return X.iloc[:,[0]].assign(age_cat= lambda df_: pd.cut(df_.housing_median_age ,bins= 10, labels= False).astype(\"int\"))[[\"age_cat\"]]   \n",
    "\n",
    "age_pipeline = make_pipeline(    \n",
    "    FunctionTransformer(age, feature_names_out= \"one-to-one\"),\n",
    "    StandardScaler()\n",
    "    )\n",
    "# Apply Log\n",
    "log_pipeline = make_pipeline(\n",
    "    SimpleImputer(strategy=\"median\"),\n",
    "    FunctionTransformer(np.log, feature_names_out= \"one-to-one\"),\n",
    "    StandardScaler()\n",
    "    )"
   ]
  },
  {
   "attachments": {},
   "cell_type": "markdown",
   "metadata": {},
   "source": [
    "># Split Data"
   ]
  },
  {
   "cell_type": "code",
   "execution_count": null,
   "metadata": {},
   "outputs": [],
   "source": [
    "from sklearn.model_selection import train_test_split\n",
    "df_x = df.drop(columns=\"target\").copy()\n",
    "df_y = df[\"target\"]\n",
    "\n",
    "X_train, X_test, y_train, y_test =  train_test_split(df_x, df_y, test_size = 0.2, random_state =42)\n",
    "X_train.shape, y_train.shape, X_test.shape, y_test.shape"
   ]
  },
  {
   "cell_type": "markdown",
   "metadata": {},
   "source": [
    "># Create function for valuation scores"
   ]
  },
  {
   "cell_type": "code",
   "execution_count": null,
   "metadata": {},
   "outputs": [],
   "source": [
    "def eval_scores(true, predicted):  \n",
    "    mae = metrics.mean_absolute_error(true, predicted)\n",
    "    mse = metrics.mean_squared_error(true, predicted)\n",
    "    rmse = np.sqrt(metrics.mean_squared_error(true, predicted))\n",
    "    r2_square = metrics.r2_score(true, predicted)\n",
    "    results= pd.DataFrame(        \n",
    "        {\"mae\": [mae], \"mse\": [mse],\"rmse\": [rmse],\"r2_square\": [r2_square]})\n",
    "    return results"
   ]
  },
  {
   "attachments": {},
   "cell_type": "markdown",
   "metadata": {},
   "source": [
    "># PIPELINE"
   ]
  },
  {
   "attachments": {},
   "cell_type": "markdown",
   "metadata": {},
   "source": [
    "># Preprocessor Pipeline"
   ]
  },
  {
   "cell_type": "code",
   "execution_count": null,
   "metadata": {},
   "outputs": [],
   "source": [
    "# seperate columns\n",
    "all_cols = X_train.columns.tolist()                      \n",
    "cat_cols = X_train.select_dtypes([\"object\",\"category\"]).columns.tolist()                      \n",
    "num_cols= X_train.columns[~X_train.columns.isin(cat_cols)] \n",
    "num_cols"
   ]
  },
  {
   "cell_type": "code",
   "execution_count": null,
   "metadata": {},
   "outputs": [],
   "source": [
    "class MeanEncoding(BaseEstimator, TransformerMixin):    \n",
    "    def __init__(self):        \n",
    "        self.encoding = pd.DataFrame\n",
    "\n",
    "    def fit(self, X, y):\n",
    "        y=y.to_frame()\n",
    "        # Calculate the mean target value for each category\n",
    "        self.group_col= X.columns.tolist()[0]\n",
    "        self.encoding = y[[\"target\"]].groupby(X[self.group_col]).agg(target_mean= (\"target\", 'mean'))        \n",
    "        return self\n",
    "            \n",
    "    def transform(self, X):\n",
    "        # Replace the categorical column with the mean encoding   \n",
    "        X[self.group_col+ \"_encoded\" ]= X[self.group_col].map(self.encoding[\"target_mean\"])\n",
    "        return X.drop(self.group_col, axis=1)\n",
    "\n",
    "    def get_feature_names_out(self, names=None):       \n",
    "        return [self.group_col+ \"_encoded\" ]\n",
    "\n",
    "MeanEncoding().fit_transform(df[[\"region\"]], df[\"target\"])"
   ]
  },
  {
   "cell_type": "code",
   "execution_count": null,
   "metadata": {},
   "outputs": [],
   "source": [
    "mean_encoder_pipe= Pipeline (\n",
    "        steps =[                 \n",
    "        ('encoder', MeanEncoding()),\n",
    "        (\"std_scaler\", StandardScaler()),                       \n",
    "                ])\n",
    "num_pipe= Pipeline (\n",
    "        steps =[        \n",
    "        #(\"minmax\" , MinMaxScaler()),        \n",
    "        (\"std_scaler\", StandardScaler()),                       \n",
    "        (\"variance_filter\", VarianceThreshold(threshold= 0.0001)),                     \n",
    "                ]\n",
    "                   )\n",
    "cat_pipe= Pipeline (\n",
    "        steps =[        \n",
    "        (\"one_hot\", OneHotEncoder (sparse_output=False, drop= \"first\", handle_unknown= \"ignore\"))#,\n",
    "#        (\"variance_filter\", VarianceThreshold(threshold= 0.1)),                     \n",
    "                ])\n",
    "prep = ColumnTransformer([                  \n",
    "        #(\"c\", cat_pipe, make_column_selector(dtype_include=object)),\n",
    "        (\"n\", num_pipe, make_column_selector(dtype_include= [int,\"float\"])),        \n",
    "        (\"m_r\", mean_encoder_pipe, [\"region\"] ),\n",
    "        (\"m_s\", mean_encoder_pipe, [\"sex\"] ),\n",
    "        (\"m_sm\", mean_encoder_pipe, [\"smoker\"] ),\n",
    "        #('drop_out', 'drop', [\"smoker\"])\n",
    "        \n",
    "    ],\n",
    "    #remainder= num_pipe\n",
    "    ).set_output(transform=\"pandas\") # one column remaining: housing_median_age\n",
    "prep.fit_transform(X_train, y_train) "
   ]
  },
  {
   "attachments": {},
   "cell_type": "markdown",
   "metadata": {},
   "source": [
    "># Models\n",
    "># Create complete preprocess + model pipes"
   ]
  },
  {
   "cell_type": "code",
   "execution_count": null,
   "metadata": {},
   "outputs": [],
   "source": [
    "MLA= {    \n",
    "    # \"lm\":    linear_model.LinearRegression(), \n",
    "    'ridge': linear_model.Ridge(alpha= 10),               \n",
    "    \"dt\" : tree.DecisionTreeRegressor(max_depth=3),    \n",
    "    \"lgb\": lightgbm.LGBMRegressor()    \n",
    "    } "
   ]
  },
  {
   "cell_type": "code",
   "execution_count": null,
   "metadata": {},
   "outputs": [],
   "source": [
    "pipes = {}\n",
    "for x in MLA.keys():\n",
    "        pip= Pipeline(steps=[\n",
    "            (\"preprocess\", prep),\n",
    "            ('poly', PolynomialFeatures(degree= 1,  interaction_only= True,  include_bias=False)),\n",
    "            ('feature_selection', SelectFromModel(linear_model.Lasso(alpha= .1, random_state=42))),\n",
    "            #('feature_selection', SelectFromModel(lightgbm.LGBMRegressor(n_jobs=-1))),\n",
    "            (\"model\", MLA[x])\n",
    "            ]).set_output(transform=\"pandas\")    \n",
    "        pipes[x]=  pip\n",
    "pipes.keys()"
   ]
  },
  {
   "attachments": {},
   "cell_type": "markdown",
   "metadata": {},
   "source": [
    ">## Run all models once"
   ]
  },
  {
   "cell_type": "code",
   "execution_count": null,
   "metadata": {},
   "outputs": [],
   "source": [
    "scores= []\n",
    "for x in MLA.keys():    \n",
    "    pipes[x].fit(X_train, y_train)     \n",
    "    scores.append(eval_scores(y_test, pipes[x].predict(X_test)).assign(model = x))\n",
    "pd.concat(scores).sort_values(\"r2_square\", ascending =False).round(4)"
   ]
  },
  {
   "cell_type": "markdown",
   "metadata": {},
   "source": [
    "## Select Mdoel DT Model "
   ]
  },
  {
   "cell_type": "code",
   "execution_count": null,
   "metadata": {},
   "outputs": [],
   "source": [
    "pipe= pipes[\"dt\"]"
   ]
  },
  {
   "attachments": {},
   "cell_type": "markdown",
   "metadata": {},
   "source": [
    "# Find interactions\n",
    "# Cat Feat wngineering using decision Tree"
   ]
  },
  {
   "attachments": {},
   "cell_type": "markdown",
   "metadata": {},
   "source": [
    "### FUN DT PLOT"
   ]
  },
  {
   "cell_type": "code",
   "execution_count": null,
   "metadata": {},
   "outputs": [],
   "source": [
    "from sklearn.tree import  plot_tree, export_graphviz\n",
    "#plt.figure(figsize=(12,7)) ;plot_tree(pipe[\"model\"],max_depth= 3,filled = True,rounded = True,feature_names = pipe[\"feature_selection\"].get_feature_names_out());plt.show()\n",
    "import graphviz, pydotplus\n",
    "def tree_plot(pipe):\n",
    "    dot_data = export_graphviz(\n",
    "    pipe[\"model\"],feature_names= pipe[\"feature_selection\"].get_feature_names_out(),\n",
    "    #class_names=  pipe[\"model\"].classes_.astype('str') ,\n",
    "    filled=True,rounded=True, special_characters=True,\n",
    "    max_depth= 4 \n",
    "    )        \n",
    "    pydot_graph = pydotplus.graph_from_dot_data(dot_data)    \n",
    "    pydot_graph.set_size('\"16,3\"')    \n",
    "    gvz_graph = graphviz.Source(pydot_graph.to_string())\n",
    "    return gvz_graph"
   ]
  },
  {
   "attachments": {},
   "cell_type": "markdown",
   "metadata": {},
   "source": [
    "### Fun DT RULES"
   ]
  },
  {
   "cell_type": "code",
   "execution_count": null,
   "metadata": {},
   "outputs": [],
   "source": [
    "from sklearn.tree import export_text\n",
    "def tree_rules(pipe):\n",
    "    r = export_text(pipe[\"model\"], feature_names= pipe[\"feature_selection\"].get_feature_names_out().tolist())\n",
    "    return r"
   ]
  },
  {
   "cell_type": "code",
   "execution_count": null,
   "metadata": {},
   "outputs": [],
   "source": [
    "tree_plot(pipe)"
   ]
  },
  {
   "cell_type": "code",
   "execution_count": null,
   "metadata": {},
   "outputs": [],
   "source": [
    "tree_rules(pipe)"
   ]
  },
  {
   "cell_type": "markdown",
   "metadata": {},
   "source": [
    "## Bayesian Search"
   ]
  },
  {
   "attachments": {},
   "cell_type": "markdown",
   "metadata": {},
   "source": [
    "### Bayesian Hyperparameter"
   ]
  },
  {
   "cell_type": "code",
   "execution_count": null,
   "metadata": {},
   "outputs": [],
   "source": [
    "pipes.keys()\n",
    "from skopt.space import Real, Categorical, Integer\n",
    "# Polinomial\n",
    "grid_poly = Integer(1,2)\n",
    "# Linear models\n",
    "grid_alpha =  Real(100 , 500)\n",
    "# tree based models\n",
    "grid_learn_rate = Real(0.01, .1,)\n",
    "grid_n_estimator = Integer(100, 200)# Number of trees in the forest.\n",
    "max_features = [1.0]# len(pipes[\"rf\"][\"preprocess\"].fit_transform(X_train))]\n",
    "grid_max_depth = Integer(2,4) #The max_depth of a tree in Random Forest is defined as the longest path between the root node and the leaf node.\n",
    "\n",
    "MLA_params = {      \n",
    "    \"ridge\" : [{              \n",
    "        #'preprocess__geo__n_clusters': grid_clusters,        \n",
    "        \"poly__degree\": grid_poly,\n",
    "        \"feature_selection__estimator__alpha\": grid_alpha,\n",
    "        'model__alpha': grid_alpha,                \n",
    "            }],                               \n",
    "    \"dt\": [{\n",
    "        \"poly__degree\": grid_poly,        \n",
    "        \"feature_selection__estimator__alpha\": grid_alpha,\n",
    "        'model__max_depth': grid_max_depth, \n",
    "        'model__max_features': max_features,                        \n",
    "            }],           \n",
    "    \"lgb\": [{        \n",
    "        \"poly__degree\": grid_poly,        \n",
    "        \"feature_selection__estimator__alpha\": grid_alpha,        \n",
    "        'model__n_estimators': grid_n_estimator,        \n",
    "        'model__max_depth': grid_max_depth,\n",
    "        'model__learning_rate': grid_learn_rate,                 \n",
    "        }]    \n",
    "    } "
   ]
  },
  {
   "cell_type": "code",
   "execution_count": null,
   "metadata": {},
   "outputs": [],
   "source": [
    "from skopt import BayesSearchCV\n",
    "import warnings\n",
    "warnings.filterwarnings(\"ignore\", category= Warning)\n",
    "cv_split = KFold(n_splits= 10, random_state=10 , shuffle=True)\n",
    "\n",
    "best_model_scores= {}\n",
    "best_models = {}\n",
    "\n",
    "for x in MLA.keys():\n",
    "    # log-uniform: understand as search over p = exp(x) by varying x\n",
    "    opt = BayesSearchCV(\n",
    "        pipes[x],\n",
    "        MLA_params[x],\n",
    "        n_iter=25,\n",
    "        cv= cv_split,\n",
    "        verbose=0,\n",
    "        n_jobs= -1\n",
    "    )\n",
    "    opt.fit(X_train, y_train)\n",
    "    print(f\"val. score: {opt.best_score_}  model:{x} \"  )\n",
    "    print(f\"test score: {opt.score(X_test, y_test)}  model:{x}\"  )\n",
    "    best_model_scores[x] = [opt.best_score_]\n",
    "    best_models[x] =  opt.best_params_\n"
   ]
  },
  {
   "cell_type": "markdown",
   "metadata": {},
   "source": [
    "## Model 1"
   ]
  },
  {
   "cell_type": "code",
   "execution_count": null,
   "metadata": {},
   "outputs": [],
   "source": [
    "test_model_variable= \"lgb\""
   ]
  },
  {
   "cell_type": "code",
   "execution_count": null,
   "metadata": {},
   "outputs": [],
   "source": [
    "dict(best_models[test_model_variable])"
   ]
  },
  {
   "cell_type": "code",
   "execution_count": null,
   "metadata": {},
   "outputs": [],
   "source": [
    "pd.DataFrame.from_dict(best_model_scores)"
   ]
  },
  {
   "cell_type": "code",
   "execution_count": null,
   "metadata": {},
   "outputs": [],
   "source": [
    "pipe_lgb= pipes[test_model_variable]\n",
    "pipe_lgb.set_params(**dict(best_models[test_model_variable]))\n",
    "print(pipe_lgb[\"model\"].get_params());pipe_lgb.fit(X_train, y_train)\n",
    "eval_scores(y_test, pipe_lgb.predict(X_test))"
   ]
  },
  {
   "cell_type": "code",
   "execution_count": null,
   "metadata": {},
   "outputs": [],
   "source": [
    "pipe_lgb[0:3].fit_transform(X_train, y_train)"
   ]
  },
  {
   "cell_type": "markdown",
   "metadata": {},
   "source": [
    "># Test-Model-Variable"
   ]
  },
  {
   "cell_type": "code",
   "execution_count": null,
   "metadata": {},
   "outputs": [],
   "source": [
    "pred_lgb= pd.DataFrame({\n",
    "    \"predictions\": pipe_lgb.predict(X_test),\n",
    "    \"actuals\": y_test\n",
    "    })\n",
    "(\n",
    "    pred_lgb\n",
    "    .plot.scatter(x= \"actuals\", y= \"predictions\",\n",
    "                  trendline= \"ols\",                                      \n",
    "                  height= 600,\n",
    "                  trendline_scope= \"overall\"                                 \n",
    "                  )           \n",
    "    .update_traces(marker={\"size\":10})\n",
    "    .update_layout(            \n",
    "            title = \"<b> Title: Actuals vs Predicted LGB </b>\",\n",
    "            xaxis_title = \"Actuals\",                       \n",
    "            yaxis_title = \"Predicted\",                       \n",
    "            font_family=\"Courier New\",\n",
    "            font_color=\"black\",\n",
    "            font_size = 12,\n",
    "            title_font_family=\"Times New Roman\",\n",
    "            title_font_color=\"black\",        \n",
    "            legend_title_font_color= \"grey\"\n",
    "            )                       \n",
    "    \n",
    ")"
   ]
  },
  {
   "attachments": {},
   "cell_type": "markdown",
   "metadata": {},
   "source": [
    "## Model 2"
   ]
  },
  {
   "cell_type": "code",
   "execution_count": null,
   "metadata": {},
   "outputs": [],
   "source": [
    "test_model_variable= \"ridge\""
   ]
  },
  {
   "cell_type": "code",
   "execution_count": null,
   "metadata": {},
   "outputs": [],
   "source": [
    "dict(best_models[test_model_variable])"
   ]
  },
  {
   "cell_type": "code",
   "execution_count": null,
   "metadata": {},
   "outputs": [],
   "source": [
    "pipe_ridge= pipes[test_model_variable]\n",
    "pipe_ridge.set_params(**dict(best_models[test_model_variable]))\n",
    "print(pipe_ridge[\"model\"].get_params());pipe_ridge.fit(X_train, y_train)\n",
    "eval_scores(y_test, pipe_ridge.predict(X_test))"
   ]
  },
  {
   "cell_type": "code",
   "execution_count": null,
   "metadata": {},
   "outputs": [],
   "source": [
    "pipe_ridge[0:3].fit_transform(X_train, y_train).head(3)"
   ]
  },
  {
   "cell_type": "markdown",
   "metadata": {},
   "source": [
    "># Test-Model-Variable"
   ]
  },
  {
   "cell_type": "code",
   "execution_count": null,
   "metadata": {},
   "outputs": [],
   "source": [
    "pred_ridge= pd.DataFrame({\n",
    "    \"predictions\": pipe_ridge.predict(X_test),\n",
    "    \"actuals\": y_test\n",
    "    })\n",
    "(\n",
    "    pred_ridge\n",
    "    .plot.scatter(x= \"actuals\", y= \"predictions\",\n",
    "                  trendline= \"ols\",                                      \n",
    "                  height= 600,\n",
    "                  trendline_scope= \"overall\"                                 \n",
    "                  )           \n",
    "    .update_traces(marker={\"size\":10})\n",
    "    .update_layout(            \n",
    "            title = \"<b> Title: Actuals vs Predicted Ridge </b>\",\n",
    "            xaxis_title = \"Actuals\",                       \n",
    "            yaxis_title = \"Predicted\",                       \n",
    "            font_family=\"Courier New\",\n",
    "            font_color=\"black\",\n",
    "            font_size = 12,\n",
    "            title_font_family=\"Times New Roman\",\n",
    "            title_font_color=\"black\",        \n",
    "            legend_title_font_color= \"grey\"\n",
    "            )                       \n",
    "    \n",
    ")"
   ]
  },
  {
   "attachments": {},
   "cell_type": "markdown",
   "metadata": {},
   "source": [
    "## Model 3"
   ]
  },
  {
   "cell_type": "code",
   "execution_count": null,
   "metadata": {},
   "outputs": [],
   "source": [
    "test_model_variable= \"dt\""
   ]
  },
  {
   "cell_type": "code",
   "execution_count": null,
   "metadata": {},
   "outputs": [],
   "source": [
    "dict(best_models[test_model_variable])"
   ]
  },
  {
   "cell_type": "code",
   "execution_count": null,
   "metadata": {},
   "outputs": [],
   "source": [
    "pd.DataFrame.from_dict(best_model_scores)"
   ]
  },
  {
   "cell_type": "code",
   "execution_count": null,
   "metadata": {},
   "outputs": [],
   "source": [
    "pipe_dt= pipes[test_model_variable]\n",
    "pipe_dt.set_params(**dict(best_models[test_model_variable]))\n",
    "print(pipe_dt[\"model\"].get_params());pipe_dt.fit(X_train, y_train)\n",
    "eval_scores(y_test, pipe_dt.predict(X_test))"
   ]
  },
  {
   "cell_type": "markdown",
   "metadata": {},
   "source": [
    "># Test-Model-Variable"
   ]
  },
  {
   "cell_type": "code",
   "execution_count": null,
   "metadata": {},
   "outputs": [],
   "source": [
    "pred_dt= pd.DataFrame({\n",
    "    \"predictions\": pipe_dt.predict(X_test),\n",
    "    \"actuals\": y_test\n",
    "    })\n",
    "(\n",
    "    pred_dt\n",
    "    .plot.scatter(x= \"actuals\", y= \"predictions\",\n",
    "                  trendline= \"ols\",                                      \n",
    "                  height= 600,\n",
    "                  trendline_scope= \"overall\"                                 \n",
    "                  )           \n",
    "    .update_traces(marker={\"size\":10})\n",
    "    .update_layout(            \n",
    "            title = \"<b> Title: Actuals vs Predicted Decision Tree </b>\",\n",
    "            xaxis_title = \"Actuals\",                       \n",
    "            yaxis_title = \"Predicted\",                       \n",
    "            font_family=\"Courier New\",\n",
    "            font_color=\"black\",\n",
    "            font_size = 12,\n",
    "            title_font_family=\"Times New Roman\",\n",
    "            title_font_color=\"black\",        \n",
    "            legend_title_font_color= \"grey\"\n",
    "            )                       \n",
    "    \n",
    ")"
   ]
  },
  {
   "cell_type": "code",
   "execution_count": null,
   "metadata": {},
   "outputs": [],
   "source": [
    "pipe_dt[0:3].fit_transform(X_train, y_train).head(3)"
   ]
  },
  {
   "cell_type": "code",
   "execution_count": null,
   "metadata": {},
   "outputs": [],
   "source": [
    "pred_train_lgb= pd.DataFrame({\n",
    "    \"predictions\": pipe_dt.predict(X_train),\n",
    "    \"actuals\": y_train\n",
    "    })\n",
    "pred_train_ridge= pd.DataFrame({\n",
    "    \"predictions\": pipe_dt.predict(X_train),\n",
    "    \"actuals\": y_train\n",
    "    })\n",
    "pred_train_dt= pd.DataFrame({\n",
    "    \"predictions\": pipe_dt.predict(X_train),\n",
    "    \"actuals\": y_train\n",
    "    })"
   ]
  },
  {
   "cell_type": "code",
   "execution_count": null,
   "metadata": {},
   "outputs": [],
   "source": [
    "df_stack_train= pd.DataFrame({\n",
    "    \"actuals\": pred_train_lgb.actuals,\n",
    "    \"pred_lgb\": pred_train_lgb.predictions,\n",
    "#    \"pred_ridge\": pred_train_ridge.predictions,\n",
    "    \"pred_dt\" :pred_train_dt.predictions\n",
    "    })\n",
    "df_stack_test= pd.DataFrame({\n",
    "    \"actuals\": pred_lgb.actuals,\n",
    "    \"pred_lgb\": pred_lgb.predictions,\n",
    "    #\"pred_ridge\": pred_ridge.predictions,\n",
    "    \"pred_dt\" :pred_dt.predictions\n",
    "    })"
   ]
  },
  {
   "cell_type": "code",
   "execution_count": null,
   "metadata": {},
   "outputs": [],
   "source": [
    "final_model= linear_model.Ridge().fit(df_stack_train.drop(columns=\"actuals\"), df_stack_train[\"actuals\"])"
   ]
  },
  {
   "cell_type": "code",
   "execution_count": null,
   "metadata": {},
   "outputs": [],
   "source": [
    "eval_scores(df_stack_test[\"actuals\"], final_model.predict(df_stack_test.drop(columns=\"actuals\")))"
   ]
  },
  {
   "attachments": {},
   "cell_type": "markdown",
   "metadata": {},
   "source": [
    "># Split Data"
   ]
  },
  {
   "cell_type": "code",
   "execution_count": null,
   "metadata": {},
   "outputs": [],
   "source": [
    "from sklearn.model_selection import train_test_split\n",
    "df_x = df.drop(columns=\"target\")\n",
    "df_y = df[\"target\"]\n",
    "#df_y = np.sqrt(df[\"target\"])\n",
    "X_train, X_test, y_train, y_test =  train_test_split(df_x, df_y, test_size = 0.2, random_state =42)\n",
    "X_train.shape, y_train.shape, X_test.shape, y_test.shape"
   ]
  },
  {
   "cell_type": "code",
   "execution_count": null,
   "metadata": {},
   "outputs": [],
   "source": [
    "from sklearn.feature_selection import RFE \n",
    "from sklearn.feature_selection import SelectKBest\n",
    "from sklearn.feature_selection import chi2, f_regression\n",
    "for x in range(100, 1000, 10):\n",
    "    for y in range(10,100,1):\n",
    "            pipe= Pipeline(steps=[\n",
    "            (\"preprocess\", prep),\n",
    "            ('poly',PolynomialFeatures(degree= 2 , interaction_only=True, include_bias=False )),            \n",
    "            ('feature_selection', SelectFromModel(linear_model.Lasso(alpha= x , random_state=42))),   \n",
    "            ('model', linear_model.Ridge(alpha= y)),            \n",
    "            #('model', lightgbm.LGBMRegressor(n_jobs=-1, random_state=42,max_depth=y, n_estimators= x))            \n",
    "            ]).set_output(transform=\"pandas\")    \n",
    "            #pipe[0:3].fit_transform(df_x, df_y)\n",
    "            pipe.fit(X_train,y_train)\n",
    "            print(eval_scores(y_test, pipe.predict(X_test)),y, x)\n",
    "            #len(pipe[\"model\"].coef_)\n",
    "            pipe[0:3].fit_transform(df_x, df_y)\n"
   ]
  },
  {
   "cell_type": "markdown",
   "metadata": {},
   "source": [
    "## Feature Creation using bayes theorem"
   ]
  },
  {
   "cell_type": "code",
   "execution_count": null,
   "metadata": {},
   "outputs": [],
   "source": [
    "import pandas as pd\n",
    "import numpy as np\n",
    "\n",
    "# create a synthetic dataset with two features \"age\" and \"buy\"\n",
    "np.random.seed(4)\n",
    "data = {\"age\": np.random.randint(18, 60, 5), \"buy\": np.random.binomial(1, .4, 5)}\n",
    "df = pd.DataFrame(data)\n",
    "df.head()"
   ]
  },
  {
   "cell_type": "code",
   "execution_count": null,
   "metadata": {},
   "outputs": [],
   "source": [
    "df1=(\n",
    "        df\n",
    "        .assign(        \n",
    "        p_buy= df[\"buy\"].mean(),\n",
    "        p_not_buy= lambda df_: 1- df_.p_buy,\n",
    "        age_group=lambda df_:  np.where(df_[\"age\"]<30, \"Young\",\"Old\")        \n",
    "                 )\n",
    "        .drop(columns=\"age\")\n",
    "        .assign(                \n",
    "        p_buy_by_age = lambda df_: df_[\"age_group\"].map(df_.groupby([\"age_group\"]).agg({\"buy\": \"mean\"})[\"buy\"] ),\n",
    "        p_not_buy_by_age= lambda df_: 1- df_.p_buy_by_age\n",
    "                 )\n",
    ")\n",
    "df1.head()"
   ]
  },
  {
   "cell_type": "code",
   "execution_count": null,
   "metadata": {},
   "outputs": [],
   "source": [
    "df1= (\n",
    "    df1.merge(df1.groupby([\"age_group\", \"buy\"], as_index=False).agg(no_buys_by_age= (\"buy\", \"count\")), on=[\"age_group\", \"buy\"], how= \"left\")\n",
    "            .assign(        \n",
    "                p_age_buy= lambda df_: df_.no_buys_by_age/len(df)\n",
    "                )\n",
    "        )\n",
    "df1.head()"
   ]
  },
  {
   "cell_type": "code",
   "execution_count": null,
   "metadata": {},
   "outputs": [],
   "source": [
    "# create a synthetic dataset with two features \"age\" and \"buy\"\n",
    "np.random.seed(4)\n",
    "data = {\"age\": np.random.randint(18, 60, 5), \"buy\": np.random.binomial(1, .4, 5)}\n",
    "df = pd.DataFrame(data)\n",
    "df.head()\n",
    "grouped = df.groupby([\"age\", \"buy\"]).agg(b=  (\"buy\", \"mean\"))[\"b\"]\n",
    "\n",
    "grouped"
   ]
  },
  {
   "cell_type": "code",
   "execution_count": null,
   "metadata": {},
   "outputs": [],
   "source": [
    "df[\"age_group_buy_mean\"] = df[[\"age\",\"buy\"]].apply(lambda x: grouped[x[\"age\"], x[\"buy\"]], axis=1)\n",
    "df"
   ]
  },
  {
   "cell_type": "code",
   "execution_count": null,
   "metadata": {},
   "outputs": [],
   "source": [
    "df1.groupby([\"age_group\", \"buy\"]).agg(no_buys_by_age= (\"buy\", \"count\"))"
   ]
  },
  {
   "cell_type": "code",
   "execution_count": null,
   "metadata": {},
   "outputs": [],
   "source": [
    "df1.assign(Probability_of_Purchase= np.where(\n",
    "    df1.age_group== \"Young\",\n",
    "    df1.p_age_buy[(df1.age_group== \"Young\") & (df1.buy == 1)].iloc[0] * df1.p_buy.iloc[0]/df1.p_buy_by_age[df1.age_group== \"Young\"].iloc[0],\n",
    "    df1.p_age_buy[(df1.age_group== \"Old\") & (df1.buy == 1)].iloc[0] * df1.p_buy.iloc[0]/df1.p_buy_by_age[df1.age_group== \"Old\"].iloc[0]\n",
    "    )).head()"
   ]
  },
  {
   "cell_type": "code",
   "execution_count": null,
   "metadata": {},
   "outputs": [],
   "source": [
    "# First, create a dictionary that maps the \"age\" column to the \"age_group\" column\n",
    "age_mapping = {\"Young\": np.where(df[\"age\"] < 30, True, False), \n",
    "               \"Middle-aged\": np.where(df[\"age\"] >= 30, True, False) & np.where(df[\"age\"] < 60, True, False), \n",
    "               \"Old\": np.where(df[\"age\"] >= 60, True, False)}\n",
    "# Second, create a dictionary that maps the \"buy\" column to the \"buy\" column\n",
    "buy_mapping = {1: np.where(df[\"buy\"] == 1, True, False), \n",
    "               0: np.where(df[\"buy\"] == 0, True, False)}\n",
    "buy_mapping"
   ]
  },
  {
   "cell_type": "code",
   "execution_count": null,
   "metadata": {},
   "outputs": [],
   "source": [
    "print(__doc__)\n",
    "import numpy as np\n",
    "np.random.seed(123)\n",
    "import matplotlib.pyplot as plt\n",
    "from skopt.space import Space\n",
    "from skopt.sampler import Sobol\n",
    "from skopt.sampler import Lhs\n",
    "from skopt.sampler import Halton\n",
    "from skopt.sampler import Hammersly\n",
    "from skopt.sampler import Grid\n",
    "from scipy.spatial.distance import pdist\n",
    "def plot_searchspace(x, title):\n",
    "    fig, ax = plt.subplots()\n",
    "    plt.plot(np.array(x)[:, 0], np.array(x)[:, 1], 'bo', label='samples')\n",
    "    plt.plot(np.array(x)[:, 0], np.array(x)[:, 1], 'bo', markersize=80, alpha=0.5)\n",
    "    # ax.legend(loc=\"best\", numpoints=1)\n",
    "    ax.set_xlabel(\"X1\")\n",
    "    ax.set_xlim([-5, 10])\n",
    "    ax.set_ylabel(\"X2\")\n",
    "    ax.set_ylim([0, 15])\n",
    "    plt.title(title)\n",
    "\n",
    "n_samples = 10\n",
    "\n",
    "space = Space([(-5., 10.), (0., 15.)])\n",
    "# space.set_transformer(\"normalize\")\n",
    "\n",
    "\n",
    "x = space.rvs(n_samples)\n",
    "plot_searchspace(x, \"Random samples\")\n",
    "pdist_data = []\n",
    "x_label = []\n",
    "pdist_data.append(pdist(x).flatten())\n",
    "x_label.append(\"random\")"
   ]
  },
  {
   "cell_type": "code",
   "execution_count": null,
   "metadata": {},
   "outputs": [],
   "source": [
    "sobol = Sobol()\n",
    "x = sobol.generate(space.dimensions, n_samples)\n",
    "plot_searchspace(x, 'Sobol')\n",
    "pdist_data.append(pdist(x).flatten())\n",
    "x_label.append(\"sobol\")"
   ]
  },
  {
   "cell_type": "code",
   "execution_count": null,
   "metadata": {},
   "outputs": [],
   "source": [
    "lhs = Lhs(lhs_type=\"classic\", criterion=None)\n",
    "x = lhs.generate(space.dimensions, n_samples)\n",
    "plot_searchspace(x, 'classic LHS')\n",
    "pdist_data.append(pdist(x).flatten())\n",
    "x_label.append(\"lhs\")"
   ]
  },
  {
   "cell_type": "code",
   "execution_count": null,
   "metadata": {},
   "outputs": [],
   "source": [
    "lhs = Lhs(lhs_type=\"centered\", criterion=None)\n",
    "x = lhs.generate(space.dimensions, n_samples)\n",
    "plot_searchspace(x, 'centered LHS')\n",
    "pdist_data.append(pdist(x).flatten())\n",
    "x_label.append(\"center\")"
   ]
  },
  {
   "cell_type": "code",
   "execution_count": null,
   "metadata": {},
   "outputs": [],
   "source": [
    "lhs = Lhs(criterion=\"maximin\", iterations=10000)\n",
    "x = lhs.generate(space.dimensions, n_samples)\n",
    "plot_searchspace(x, 'maximin LHS')\n",
    "pdist_data.append(pdist(x).flatten())\n",
    "x_label.append(\"maximin\")"
   ]
  },
  {
   "cell_type": "code",
   "execution_count": null,
   "metadata": {},
   "outputs": [],
   "source": []
  },
  {
   "cell_type": "code",
   "execution_count": null,
   "metadata": {},
   "outputs": [],
   "source": []
  }
 ],
 "metadata": {
  "kernelspec": {
   "display_name": "base",
   "language": "python",
   "name": "python3"
  },
  "language_info": {
   "codemirror_mode": {
    "name": "ipython",
    "version": 3
   },
   "file_extension": ".py",
   "mimetype": "text/x-python",
   "name": "python",
   "nbconvert_exporter": "python",
   "pygments_lexer": "ipython3",
   "version": "3.10.8"
  },
  "orig_nbformat": 4,
  "vscode": {
   "interpreter": {
    "hash": "e7cb1b9ae4d417fedf7f40a8eec98f7cfbd359e096bd857395a915f4609834ce"
   }
  }
 },
 "nbformat": 4,
 "nbformat_minor": 2
}
