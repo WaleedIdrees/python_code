{
 "cells": [
  {
   "cell_type": "code",
   "execution_count": 1,
   "id": "d0366af0",
   "metadata": {
    "collapsed": false,
    "jupyter": {
     "outputs_hidden": false
    },
    "pycharm": {
     "name": "#%%\n"
    }
   },
   "outputs": [],
   "source": [
    "import pandas as pd\n",
    "import numpy as np\n",
    "#from datetime import datetime, timedelta, date, time\n",
    "import matplotlib.pyplot as plt\n",
    "import plotly.express as px\n",
    "pd.options.plotting.backend = \"plotly\"\n",
    "pd.set_option('display.max_columns', 150, 'display.max_rows', 100, 'display.max_colwidth', 15)\n",
    "%matplotlib inline\n",
    "# get directory address\n"
   ]
  },
  {
   "attachments": {},
   "cell_type": "markdown",
   "id": "739291e2",
   "metadata": {},
   "source": [
    "# Intorudction \n",
    "Customer_Churn.csv is a dataset that contains information about customers of a telecommunications company and whether or not they have churned (i.e., stopped using the company's services). Each row in the dataset represents a single customer, and the columns provide information about the customer's account, services, and demographic characteristics. The dataset contains the following columns:\n",
    "\n",
    "> customerID: A unique identifier for each customer\n",
    "\n",
    "> gender: The gender of the customer (male or female)\n",
    "\n",
    "> SeniorCitizen: Whether the customer is a senior citizen (1) or not (0)\n",
    "\n",
    "> Partner: Whether the customer has a partner (Yes or No)\n",
    "\n",
    "> Dependents: Whether the customer has dependents (Yes or No)\n",
    "\n",
    "> tenure: The length of time (in months) that the customer has been with the company\n",
    "\n",
    "> PhoneService: Whether the customer has a phone service (Yes or No)\n",
    "\n",
    "> MultipleLines: Whether the customer has multiple phone lines (Yes, No, or No phone service)\n",
    "\n",
    "> InternetService: The type of internet service the customer has (DSL, Fiber optic, or No)\n",
    "\n",
    "> OnlineSecurity: Whether the customer has online security (Yes, No, or No internet service)\n",
    "\n",
    "> OnlineBackup: Whether the customer has online backup (Yes, No, or No internet service)\n",
    "\n",
    "> DeviceProtection: Whether the customer has device protection (Yes, No, or No internet service)\n",
    "\n",
    "> TechSupport: Whether the customer has tech support (Yes, No, or No internet service)\n",
    "\n",
    "> StreamingTV: Whether the customer has streaming TV (Yes, No, or No internet service)\n",
    "\n",
    "> StreamingMovies: Whether the customer has streaming movies (Yes, No, or No internet service)\n",
    "\n",
    "> Contract: The type of contract the customer has (Month-to-month, One year, or Two year)\n",
    "\n",
    "> PaperlessBilling: Whether the customer has paperless billing (Yes or No)\n",
    "\n",
    "> PaymentMethod: The payment method the customer uses (Electronic check, Mailed check, Bank transfer (automatic), or Credit card \n",
    "(automatic))\n",
    "\n",
    "> MonthlyCharges: The amount the customer is charged each month\n",
    "\n",
    "> TotalCharges: The total amount the customer has been charged\n",
    "\n",
    "> Churn: Whether the customer has churned (Yes or No)\n",
    "\n",
    "The goal of the dataset is to predict whether or not a customer will churn based on the other information provided in the dataset.\n",
    "\n",
    "> In this notebook we use the Telco Customer Churn data to create a prediction model if the customer will stay or leave the company.\n",
    "\n",
    "> The Target Variable churn is imblances. with 36% as the minority class.\n",
    "\n",
    "> We will use multiple different ml models after cleaning precprcing data and choose the best model\n",
    "\n",
    "> then we will use the upsampling techinique and evaluate the results"
   ]
  },
  {
   "attachments": {},
   "cell_type": "markdown",
   "id": "0b79af99",
   "metadata": {},
   "source": [
    "## 1.1 Load data from csv file"
   ]
  },
  {
   "cell_type": "code",
   "execution_count": 2,
   "id": "3583a84e",
   "metadata": {},
   "outputs": [
    {
     "name": "stdout",
     "output_type": "stream",
     "text": [
      "<class 'pandas.core.frame.DataFrame'>\n",
      "RangeIndex: 7043 entries, 0 to 7042\n",
      "Data columns (total 21 columns):\n",
      " #   Column            Non-Null Count  Dtype  \n",
      "---  ------            --------------  -----  \n",
      " 0   customerid        7043 non-null   object \n",
      " 1   gender            7043 non-null   object \n",
      " 2   seniorcitizen     7043 non-null   int64  \n",
      " 3   partner           7043 non-null   object \n",
      " 4   dependents        7043 non-null   object \n",
      " 5   tenure            7043 non-null   int64  \n",
      " 6   phoneservice      7043 non-null   object \n",
      " 7   multiplelines     7043 non-null   object \n",
      " 8   internetservice   7043 non-null   object \n",
      " 9   onlinesecurity    7043 non-null   object \n",
      " 10  onlinebackup      7043 non-null   object \n",
      " 11  deviceprotection  7043 non-null   object \n",
      " 12  techsupport       7043 non-null   object \n",
      " 13  streamingtv       7043 non-null   object \n",
      " 14  streamingmovies   7043 non-null   object \n",
      " 15  contract          7043 non-null   object \n",
      " 16  paperlessbilling  7043 non-null   object \n",
      " 17  paymentmethod     7043 non-null   object \n",
      " 18  monthlycharges    7043 non-null   float64\n",
      " 19  totalcharges      7043 non-null   object \n",
      " 20  churn             7043 non-null   object \n",
      "dtypes: float64(1), int64(2), object(18)\n",
      "memory usage: 1.1+ MB\n"
     ]
    }
   ],
   "source": [
    "#df= pd.read_csv(\"/Users/waleedidrees/Dropbox/Python Projects/helpful code/classification_models/loan_train.csv\")\n",
    "df= pd.read_csv(\"Customer-Churn.csv\")\n",
    "df=df.rename(columns= lambda df_: str.lower(df_))\n",
    "df.info()"
   ]
  },
  {
   "cell_type": "markdown",
   "id": "f7f318de",
   "metadata": {},
   "source": [
    "except three columns all columns are string"
   ]
  },
  {
   "cell_type": "code",
   "execution_count": 3,
   "id": "7b0d4350",
   "metadata": {},
   "outputs": [
    {
     "data": {
      "text/html": [
       "<div>\n",
       "<style scoped>\n",
       "    .dataframe tbody tr th:only-of-type {\n",
       "        vertical-align: middle;\n",
       "    }\n",
       "\n",
       "    .dataframe tbody tr th {\n",
       "        vertical-align: top;\n",
       "    }\n",
       "\n",
       "    .dataframe thead th {\n",
       "        text-align: right;\n",
       "    }\n",
       "</style>\n",
       "<table border=\"1\" class=\"dataframe\">\n",
       "  <thead>\n",
       "    <tr style=\"text-align: right;\">\n",
       "      <th></th>\n",
       "      <th>0</th>\n",
       "      <th>1</th>\n",
       "      <th>2</th>\n",
       "      <th>3</th>\n",
       "      <th>4</th>\n",
       "    </tr>\n",
       "  </thead>\n",
       "  <tbody>\n",
       "    <tr>\n",
       "      <th>customerid</th>\n",
       "      <td>7590-VHVEG</td>\n",
       "      <td>5575-GNVDE</td>\n",
       "      <td>3668-QPYBK</td>\n",
       "      <td>7795-CFOCW</td>\n",
       "      <td>9237-HQITU</td>\n",
       "    </tr>\n",
       "    <tr>\n",
       "      <th>gender</th>\n",
       "      <td>Female</td>\n",
       "      <td>Male</td>\n",
       "      <td>Male</td>\n",
       "      <td>Male</td>\n",
       "      <td>Female</td>\n",
       "    </tr>\n",
       "    <tr>\n",
       "      <th>seniorcitizen</th>\n",
       "      <td>0</td>\n",
       "      <td>0</td>\n",
       "      <td>0</td>\n",
       "      <td>0</td>\n",
       "      <td>0</td>\n",
       "    </tr>\n",
       "    <tr>\n",
       "      <th>partner</th>\n",
       "      <td>Yes</td>\n",
       "      <td>No</td>\n",
       "      <td>No</td>\n",
       "      <td>No</td>\n",
       "      <td>No</td>\n",
       "    </tr>\n",
       "    <tr>\n",
       "      <th>dependents</th>\n",
       "      <td>No</td>\n",
       "      <td>No</td>\n",
       "      <td>No</td>\n",
       "      <td>No</td>\n",
       "      <td>No</td>\n",
       "    </tr>\n",
       "    <tr>\n",
       "      <th>tenure</th>\n",
       "      <td>1</td>\n",
       "      <td>34</td>\n",
       "      <td>2</td>\n",
       "      <td>45</td>\n",
       "      <td>2</td>\n",
       "    </tr>\n",
       "    <tr>\n",
       "      <th>phoneservice</th>\n",
       "      <td>No</td>\n",
       "      <td>Yes</td>\n",
       "      <td>Yes</td>\n",
       "      <td>No</td>\n",
       "      <td>Yes</td>\n",
       "    </tr>\n",
       "    <tr>\n",
       "      <th>multiplelines</th>\n",
       "      <td>No phone se...</td>\n",
       "      <td>No</td>\n",
       "      <td>No</td>\n",
       "      <td>No phone se...</td>\n",
       "      <td>No</td>\n",
       "    </tr>\n",
       "    <tr>\n",
       "      <th>internetservice</th>\n",
       "      <td>DSL</td>\n",
       "      <td>DSL</td>\n",
       "      <td>DSL</td>\n",
       "      <td>DSL</td>\n",
       "      <td>Fiber optic</td>\n",
       "    </tr>\n",
       "    <tr>\n",
       "      <th>onlinesecurity</th>\n",
       "      <td>No</td>\n",
       "      <td>Yes</td>\n",
       "      <td>Yes</td>\n",
       "      <td>Yes</td>\n",
       "      <td>No</td>\n",
       "    </tr>\n",
       "    <tr>\n",
       "      <th>onlinebackup</th>\n",
       "      <td>Yes</td>\n",
       "      <td>No</td>\n",
       "      <td>Yes</td>\n",
       "      <td>No</td>\n",
       "      <td>No</td>\n",
       "    </tr>\n",
       "    <tr>\n",
       "      <th>deviceprotection</th>\n",
       "      <td>No</td>\n",
       "      <td>Yes</td>\n",
       "      <td>No</td>\n",
       "      <td>Yes</td>\n",
       "      <td>No</td>\n",
       "    </tr>\n",
       "    <tr>\n",
       "      <th>techsupport</th>\n",
       "      <td>No</td>\n",
       "      <td>No</td>\n",
       "      <td>No</td>\n",
       "      <td>Yes</td>\n",
       "      <td>No</td>\n",
       "    </tr>\n",
       "    <tr>\n",
       "      <th>streamingtv</th>\n",
       "      <td>No</td>\n",
       "      <td>No</td>\n",
       "      <td>No</td>\n",
       "      <td>No</td>\n",
       "      <td>No</td>\n",
       "    </tr>\n",
       "    <tr>\n",
       "      <th>streamingmovies</th>\n",
       "      <td>No</td>\n",
       "      <td>No</td>\n",
       "      <td>No</td>\n",
       "      <td>No</td>\n",
       "      <td>No</td>\n",
       "    </tr>\n",
       "    <tr>\n",
       "      <th>contract</th>\n",
       "      <td>Month-to-month</td>\n",
       "      <td>One year</td>\n",
       "      <td>Month-to-month</td>\n",
       "      <td>One year</td>\n",
       "      <td>Month-to-month</td>\n",
       "    </tr>\n",
       "    <tr>\n",
       "      <th>paperlessbilling</th>\n",
       "      <td>Yes</td>\n",
       "      <td>No</td>\n",
       "      <td>Yes</td>\n",
       "      <td>No</td>\n",
       "      <td>Yes</td>\n",
       "    </tr>\n",
       "    <tr>\n",
       "      <th>paymentmethod</th>\n",
       "      <td>Electronic ...</td>\n",
       "      <td>Mailed check</td>\n",
       "      <td>Mailed check</td>\n",
       "      <td>Bank transf...</td>\n",
       "      <td>Electronic ...</td>\n",
       "    </tr>\n",
       "    <tr>\n",
       "      <th>monthlycharges</th>\n",
       "      <td>29.85</td>\n",
       "      <td>56.95</td>\n",
       "      <td>53.85</td>\n",
       "      <td>42.3</td>\n",
       "      <td>70.7</td>\n",
       "    </tr>\n",
       "    <tr>\n",
       "      <th>totalcharges</th>\n",
       "      <td>29.85</td>\n",
       "      <td>1889.5</td>\n",
       "      <td>108.15</td>\n",
       "      <td>1840.75</td>\n",
       "      <td>151.65</td>\n",
       "    </tr>\n",
       "    <tr>\n",
       "      <th>churn</th>\n",
       "      <td>No</td>\n",
       "      <td>No</td>\n",
       "      <td>Yes</td>\n",
       "      <td>No</td>\n",
       "      <td>Yes</td>\n",
       "    </tr>\n",
       "  </tbody>\n",
       "</table>\n",
       "</div>"
      ],
      "text/plain": [
       "                              0             1               2               3  \\\n",
       "customerid           7590-VHVEG    5575-GNVDE      3668-QPYBK      7795-CFOCW   \n",
       "gender                   Female          Male            Male            Male   \n",
       "seniorcitizen                 0             0               0               0   \n",
       "partner                     Yes            No              No              No   \n",
       "dependents                   No            No              No              No   \n",
       "tenure                        1            34               2              45   \n",
       "phoneservice                 No           Yes             Yes              No   \n",
       "multiplelines    No phone se...            No              No  No phone se...   \n",
       "internetservice             DSL           DSL             DSL             DSL   \n",
       "onlinesecurity               No           Yes             Yes             Yes   \n",
       "onlinebackup                Yes            No             Yes              No   \n",
       "deviceprotec...              No           Yes              No             Yes   \n",
       "techsupport                  No            No              No             Yes   \n",
       "streamingtv                  No            No              No              No   \n",
       "streamingmovies              No            No              No              No   \n",
       "contract         Month-to-month      One year  Month-to-month        One year   \n",
       "paperlessbil...             Yes            No             Yes              No   \n",
       "paymentmethod    Electronic ...  Mailed check    Mailed check  Bank transf...   \n",
       "monthlycharges            29.85         56.95           53.85            42.3   \n",
       "totalcharges              29.85        1889.5          108.15         1840.75   \n",
       "churn                        No            No             Yes              No   \n",
       "\n",
       "                              4  \n",
       "customerid           9237-HQITU  \n",
       "gender                   Female  \n",
       "seniorcitizen                 0  \n",
       "partner                      No  \n",
       "dependents                   No  \n",
       "tenure                        2  \n",
       "phoneservice                Yes  \n",
       "multiplelines                No  \n",
       "internetservice     Fiber optic  \n",
       "onlinesecurity               No  \n",
       "onlinebackup                 No  \n",
       "deviceprotec...              No  \n",
       "techsupport                  No  \n",
       "streamingtv                  No  \n",
       "streamingmovies              No  \n",
       "contract         Month-to-month  \n",
       "paperlessbil...             Yes  \n",
       "paymentmethod    Electronic ...  \n",
       "monthlycharges             70.7  \n",
       "totalcharges             151.65  \n",
       "churn                       Yes  "
      ]
     },
     "execution_count": 3,
     "metadata": {},
     "output_type": "execute_result"
    }
   ],
   "source": [
    "df.head().T"
   ]
  },
  {
   "cell_type": "code",
   "execution_count": 4,
   "id": "f8eb28f2",
   "metadata": {},
   "outputs": [
    {
     "data": {
      "text/html": [
       "<div>\n",
       "<style scoped>\n",
       "    .dataframe tbody tr th:only-of-type {\n",
       "        vertical-align: middle;\n",
       "    }\n",
       "\n",
       "    .dataframe tbody tr th {\n",
       "        vertical-align: top;\n",
       "    }\n",
       "\n",
       "    .dataframe thead th {\n",
       "        text-align: right;\n",
       "    }\n",
       "</style>\n",
       "<table border=\"1\" class=\"dataframe\">\n",
       "  <thead>\n",
       "    <tr style=\"text-align: right;\">\n",
       "      <th></th>\n",
       "      <th>customerid</th>\n",
       "      <th>gender</th>\n",
       "      <th>seniorcitizen</th>\n",
       "      <th>partner</th>\n",
       "      <th>dependents</th>\n",
       "      <th>tenure</th>\n",
       "      <th>phoneservice</th>\n",
       "      <th>multiplelines</th>\n",
       "      <th>internetservice</th>\n",
       "      <th>onlinesecurity</th>\n",
       "      <th>onlinebackup</th>\n",
       "      <th>deviceprotection</th>\n",
       "      <th>techsupport</th>\n",
       "      <th>streamingtv</th>\n",
       "      <th>streamingmovies</th>\n",
       "      <th>contract</th>\n",
       "      <th>paperlessbilling</th>\n",
       "      <th>paymentmethod</th>\n",
       "      <th>monthlycharges</th>\n",
       "      <th>totalcharges</th>\n",
       "      <th>churn</th>\n",
       "    </tr>\n",
       "  </thead>\n",
       "  <tbody>\n",
       "    <tr>\n",
       "      <th>0</th>\n",
       "      <td>7590-vhveg</td>\n",
       "      <td>female</td>\n",
       "      <td>False</td>\n",
       "      <td>yes</td>\n",
       "      <td>no</td>\n",
       "      <td>1</td>\n",
       "      <td>no</td>\n",
       "      <td>no phone se...</td>\n",
       "      <td>dsl</td>\n",
       "      <td>no</td>\n",
       "      <td>yes</td>\n",
       "      <td>no</td>\n",
       "      <td>no</td>\n",
       "      <td>no</td>\n",
       "      <td>no</td>\n",
       "      <td>month-to-month</td>\n",
       "      <td>yes</td>\n",
       "      <td>electronic ...</td>\n",
       "      <td>29.85</td>\n",
       "      <td>29.85</td>\n",
       "      <td>0</td>\n",
       "    </tr>\n",
       "    <tr>\n",
       "      <th>1</th>\n",
       "      <td>5575-gnvde</td>\n",
       "      <td>male</td>\n",
       "      <td>False</td>\n",
       "      <td>no</td>\n",
       "      <td>no</td>\n",
       "      <td>34</td>\n",
       "      <td>yes</td>\n",
       "      <td>no</td>\n",
       "      <td>dsl</td>\n",
       "      <td>yes</td>\n",
       "      <td>no</td>\n",
       "      <td>yes</td>\n",
       "      <td>no</td>\n",
       "      <td>no</td>\n",
       "      <td>no</td>\n",
       "      <td>one year</td>\n",
       "      <td>no</td>\n",
       "      <td>mailed check</td>\n",
       "      <td>56.95</td>\n",
       "      <td>1889.50</td>\n",
       "      <td>0</td>\n",
       "    </tr>\n",
       "    <tr>\n",
       "      <th>2</th>\n",
       "      <td>3668-qpybk</td>\n",
       "      <td>male</td>\n",
       "      <td>False</td>\n",
       "      <td>no</td>\n",
       "      <td>no</td>\n",
       "      <td>2</td>\n",
       "      <td>yes</td>\n",
       "      <td>no</td>\n",
       "      <td>dsl</td>\n",
       "      <td>yes</td>\n",
       "      <td>yes</td>\n",
       "      <td>no</td>\n",
       "      <td>no</td>\n",
       "      <td>no</td>\n",
       "      <td>no</td>\n",
       "      <td>month-to-month</td>\n",
       "      <td>yes</td>\n",
       "      <td>mailed check</td>\n",
       "      <td>53.85</td>\n",
       "      <td>108.15</td>\n",
       "      <td>1</td>\n",
       "    </tr>\n",
       "    <tr>\n",
       "      <th>3</th>\n",
       "      <td>7795-cfocw</td>\n",
       "      <td>male</td>\n",
       "      <td>False</td>\n",
       "      <td>no</td>\n",
       "      <td>no</td>\n",
       "      <td>45</td>\n",
       "      <td>no</td>\n",
       "      <td>no phone se...</td>\n",
       "      <td>dsl</td>\n",
       "      <td>yes</td>\n",
       "      <td>no</td>\n",
       "      <td>yes</td>\n",
       "      <td>yes</td>\n",
       "      <td>no</td>\n",
       "      <td>no</td>\n",
       "      <td>one year</td>\n",
       "      <td>no</td>\n",
       "      <td>bank transf...</td>\n",
       "      <td>42.30</td>\n",
       "      <td>1840.75</td>\n",
       "      <td>0</td>\n",
       "    </tr>\n",
       "    <tr>\n",
       "      <th>4</th>\n",
       "      <td>9237-hqitu</td>\n",
       "      <td>female</td>\n",
       "      <td>False</td>\n",
       "      <td>no</td>\n",
       "      <td>no</td>\n",
       "      <td>2</td>\n",
       "      <td>yes</td>\n",
       "      <td>no</td>\n",
       "      <td>fiber optic</td>\n",
       "      <td>no</td>\n",
       "      <td>no</td>\n",
       "      <td>no</td>\n",
       "      <td>no</td>\n",
       "      <td>no</td>\n",
       "      <td>no</td>\n",
       "      <td>month-to-month</td>\n",
       "      <td>yes</td>\n",
       "      <td>electronic ...</td>\n",
       "      <td>70.70</td>\n",
       "      <td>151.65</td>\n",
       "      <td>1</td>\n",
       "    </tr>\n",
       "    <tr>\n",
       "      <th>...</th>\n",
       "      <td>...</td>\n",
       "      <td>...</td>\n",
       "      <td>...</td>\n",
       "      <td>...</td>\n",
       "      <td>...</td>\n",
       "      <td>...</td>\n",
       "      <td>...</td>\n",
       "      <td>...</td>\n",
       "      <td>...</td>\n",
       "      <td>...</td>\n",
       "      <td>...</td>\n",
       "      <td>...</td>\n",
       "      <td>...</td>\n",
       "      <td>...</td>\n",
       "      <td>...</td>\n",
       "      <td>...</td>\n",
       "      <td>...</td>\n",
       "      <td>...</td>\n",
       "      <td>...</td>\n",
       "      <td>...</td>\n",
       "      <td>...</td>\n",
       "    </tr>\n",
       "    <tr>\n",
       "      <th>7038</th>\n",
       "      <td>6840-resvb</td>\n",
       "      <td>male</td>\n",
       "      <td>False</td>\n",
       "      <td>yes</td>\n",
       "      <td>yes</td>\n",
       "      <td>24</td>\n",
       "      <td>yes</td>\n",
       "      <td>yes</td>\n",
       "      <td>dsl</td>\n",
       "      <td>yes</td>\n",
       "      <td>no</td>\n",
       "      <td>yes</td>\n",
       "      <td>yes</td>\n",
       "      <td>yes</td>\n",
       "      <td>yes</td>\n",
       "      <td>one year</td>\n",
       "      <td>yes</td>\n",
       "      <td>mailed check</td>\n",
       "      <td>84.80</td>\n",
       "      <td>1990.50</td>\n",
       "      <td>0</td>\n",
       "    </tr>\n",
       "    <tr>\n",
       "      <th>7039</th>\n",
       "      <td>2234-xaduh</td>\n",
       "      <td>female</td>\n",
       "      <td>False</td>\n",
       "      <td>yes</td>\n",
       "      <td>yes</td>\n",
       "      <td>72</td>\n",
       "      <td>yes</td>\n",
       "      <td>yes</td>\n",
       "      <td>fiber optic</td>\n",
       "      <td>no</td>\n",
       "      <td>yes</td>\n",
       "      <td>yes</td>\n",
       "      <td>no</td>\n",
       "      <td>yes</td>\n",
       "      <td>yes</td>\n",
       "      <td>one year</td>\n",
       "      <td>yes</td>\n",
       "      <td>credit card...</td>\n",
       "      <td>103.20</td>\n",
       "      <td>7362.90</td>\n",
       "      <td>0</td>\n",
       "    </tr>\n",
       "    <tr>\n",
       "      <th>7040</th>\n",
       "      <td>4801-jzazl</td>\n",
       "      <td>female</td>\n",
       "      <td>False</td>\n",
       "      <td>yes</td>\n",
       "      <td>yes</td>\n",
       "      <td>11</td>\n",
       "      <td>no</td>\n",
       "      <td>no phone se...</td>\n",
       "      <td>dsl</td>\n",
       "      <td>yes</td>\n",
       "      <td>no</td>\n",
       "      <td>no</td>\n",
       "      <td>no</td>\n",
       "      <td>no</td>\n",
       "      <td>no</td>\n",
       "      <td>month-to-month</td>\n",
       "      <td>yes</td>\n",
       "      <td>electronic ...</td>\n",
       "      <td>29.60</td>\n",
       "      <td>346.45</td>\n",
       "      <td>0</td>\n",
       "    </tr>\n",
       "    <tr>\n",
       "      <th>7041</th>\n",
       "      <td>8361-ltmkd</td>\n",
       "      <td>male</td>\n",
       "      <td>True</td>\n",
       "      <td>yes</td>\n",
       "      <td>no</td>\n",
       "      <td>4</td>\n",
       "      <td>yes</td>\n",
       "      <td>yes</td>\n",
       "      <td>fiber optic</td>\n",
       "      <td>no</td>\n",
       "      <td>no</td>\n",
       "      <td>no</td>\n",
       "      <td>no</td>\n",
       "      <td>no</td>\n",
       "      <td>no</td>\n",
       "      <td>month-to-month</td>\n",
       "      <td>yes</td>\n",
       "      <td>mailed check</td>\n",
       "      <td>74.40</td>\n",
       "      <td>306.60</td>\n",
       "      <td>1</td>\n",
       "    </tr>\n",
       "    <tr>\n",
       "      <th>7042</th>\n",
       "      <td>3186-ajiek</td>\n",
       "      <td>male</td>\n",
       "      <td>False</td>\n",
       "      <td>no</td>\n",
       "      <td>no</td>\n",
       "      <td>66</td>\n",
       "      <td>yes</td>\n",
       "      <td>no</td>\n",
       "      <td>fiber optic</td>\n",
       "      <td>yes</td>\n",
       "      <td>no</td>\n",
       "      <td>yes</td>\n",
       "      <td>yes</td>\n",
       "      <td>yes</td>\n",
       "      <td>yes</td>\n",
       "      <td>two year</td>\n",
       "      <td>yes</td>\n",
       "      <td>bank transf...</td>\n",
       "      <td>105.65</td>\n",
       "      <td>6844.50</td>\n",
       "      <td>0</td>\n",
       "    </tr>\n",
       "  </tbody>\n",
       "</table>\n",
       "<p>7043 rows × 21 columns</p>\n",
       "</div>"
      ],
      "text/plain": [
       "      customerid  gender  seniorcitizen partner dependents  tenure  \\\n",
       "0     7590-vhveg  female          False     yes         no       1   \n",
       "1     5575-gnvde    male          False      no         no      34   \n",
       "2     3668-qpybk    male          False      no         no       2   \n",
       "3     7795-cfocw    male          False      no         no      45   \n",
       "4     9237-hqitu  female          False      no         no       2   \n",
       "...          ...     ...            ...     ...        ...     ...   \n",
       "7038  6840-resvb    male          False     yes        yes      24   \n",
       "7039  2234-xaduh  female          False     yes        yes      72   \n",
       "7040  4801-jzazl  female          False     yes        yes      11   \n",
       "7041  8361-ltmkd    male           True     yes         no       4   \n",
       "7042  3186-ajiek    male          False      no         no      66   \n",
       "\n",
       "     phoneservice   multiplelines internetservice onlinesecurity onlinebackup  \\\n",
       "0              no  no phone se...             dsl             no          yes   \n",
       "1             yes              no             dsl            yes           no   \n",
       "2             yes              no             dsl            yes          yes   \n",
       "3              no  no phone se...             dsl            yes           no   \n",
       "4             yes              no     fiber optic             no           no   \n",
       "...           ...             ...             ...            ...          ...   \n",
       "7038          yes             yes             dsl            yes           no   \n",
       "7039          yes             yes     fiber optic             no          yes   \n",
       "7040           no  no phone se...             dsl            yes           no   \n",
       "7041          yes             yes     fiber optic             no           no   \n",
       "7042          yes              no     fiber optic            yes           no   \n",
       "\n",
       "     deviceprotection techsupport streamingtv streamingmovies        contract  \\\n",
       "0                 no           no          no              no  month-to-month   \n",
       "1                yes           no          no              no        one year   \n",
       "2                 no           no          no              no  month-to-month   \n",
       "3                yes          yes          no              no        one year   \n",
       "4                 no           no          no              no  month-to-month   \n",
       "...              ...          ...         ...             ...             ...   \n",
       "7038             yes          yes         yes             yes        one year   \n",
       "7039             yes           no         yes             yes        one year   \n",
       "7040              no           no          no              no  month-to-month   \n",
       "7041              no           no          no              no  month-to-month   \n",
       "7042             yes          yes         yes             yes        two year   \n",
       "\n",
       "     paperlessbilling   paymentmethod  monthlycharges  totalcharges  churn  \n",
       "0                yes   electronic ...           29.85         29.85      0  \n",
       "1                 no     mailed check           56.95       1889.50      0  \n",
       "2                yes     mailed check           53.85        108.15      1  \n",
       "3                 no   bank transf...           42.30       1840.75      0  \n",
       "4                yes   electronic ...           70.70        151.65      1  \n",
       "...              ...              ...             ...           ...    ...  \n",
       "7038             yes     mailed check           84.80       1990.50      0  \n",
       "7039             yes   credit card...          103.20       7362.90      0  \n",
       "7040             yes   electronic ...           29.60        346.45      0  \n",
       "7041             yes     mailed check           74.40        306.60      1  \n",
       "7042             yes   bank transf...          105.65       6844.50      0  \n",
       "\n",
       "[7043 rows x 21 columns]"
      ]
     },
     "execution_count": 4,
     "metadata": {},
     "output_type": "execute_result"
    }
   ],
   "source": [
    "df =(\n",
    "df.apply(lambda df_: df_.str.lower() if df_.dtype.name == 'object' else df_)\n",
    ".assign(\n",
    "    seniorcitizen= df.seniorcitizen.astype(\"bool\"),\n",
    "    tenure= df.tenure.astype(\"int8\"),\n",
    "    totalcharges= pd.to_numeric(df.totalcharges, errors=\"coerce\"),    \n",
    ")\n",
    "#.dropna()\n",
    ".assign(churn= lambda df_: (df_.churn == \"yes\").astype(\"int8\"))\n",
    ")\n",
    "df"
   ]
  },
  {
   "attachments": {},
   "cell_type": "markdown",
   "id": "4638dc5c",
   "metadata": {},
   "source": [
    "# Drop loan id columns bcz its just a unique identifier"
   ]
  },
  {
   "cell_type": "code",
   "execution_count": 5,
   "id": "b9fcbd3d",
   "metadata": {},
   "outputs": [
    {
     "data": {
      "text/html": [
       "<div>\n",
       "<style scoped>\n",
       "    .dataframe tbody tr th:only-of-type {\n",
       "        vertical-align: middle;\n",
       "    }\n",
       "\n",
       "    .dataframe tbody tr th {\n",
       "        vertical-align: top;\n",
       "    }\n",
       "\n",
       "    .dataframe thead th {\n",
       "        text-align: right;\n",
       "    }\n",
       "</style>\n",
       "<table border=\"1\" class=\"dataframe\">\n",
       "  <thead>\n",
       "    <tr style=\"text-align: right;\">\n",
       "      <th></th>\n",
       "      <th>gender</th>\n",
       "      <th>seniorcitizen</th>\n",
       "      <th>partner</th>\n",
       "      <th>dependents</th>\n",
       "      <th>tenure</th>\n",
       "      <th>phoneservice</th>\n",
       "      <th>multiplelines</th>\n",
       "      <th>internetservice</th>\n",
       "      <th>onlinesecurity</th>\n",
       "      <th>onlinebackup</th>\n",
       "      <th>deviceprotection</th>\n",
       "      <th>techsupport</th>\n",
       "      <th>streamingtv</th>\n",
       "      <th>streamingmovies</th>\n",
       "      <th>contract</th>\n",
       "      <th>paperlessbilling</th>\n",
       "      <th>paymentmethod</th>\n",
       "      <th>monthlycharges</th>\n",
       "      <th>totalcharges</th>\n",
       "      <th>target</th>\n",
       "    </tr>\n",
       "  </thead>\n",
       "  <tbody>\n",
       "    <tr>\n",
       "      <th>0</th>\n",
       "      <td>female</td>\n",
       "      <td>False</td>\n",
       "      <td>yes</td>\n",
       "      <td>no</td>\n",
       "      <td>1</td>\n",
       "      <td>no</td>\n",
       "      <td>no phone se...</td>\n",
       "      <td>dsl</td>\n",
       "      <td>no</td>\n",
       "      <td>yes</td>\n",
       "      <td>no</td>\n",
       "      <td>no</td>\n",
       "      <td>no</td>\n",
       "      <td>no</td>\n",
       "      <td>month-to-month</td>\n",
       "      <td>yes</td>\n",
       "      <td>electronic ...</td>\n",
       "      <td>29.85</td>\n",
       "      <td>29.85</td>\n",
       "      <td>0</td>\n",
       "    </tr>\n",
       "    <tr>\n",
       "      <th>1</th>\n",
       "      <td>male</td>\n",
       "      <td>False</td>\n",
       "      <td>no</td>\n",
       "      <td>no</td>\n",
       "      <td>34</td>\n",
       "      <td>yes</td>\n",
       "      <td>no</td>\n",
       "      <td>dsl</td>\n",
       "      <td>yes</td>\n",
       "      <td>no</td>\n",
       "      <td>yes</td>\n",
       "      <td>no</td>\n",
       "      <td>no</td>\n",
       "      <td>no</td>\n",
       "      <td>one year</td>\n",
       "      <td>no</td>\n",
       "      <td>mailed check</td>\n",
       "      <td>56.95</td>\n",
       "      <td>1889.50</td>\n",
       "      <td>0</td>\n",
       "    </tr>\n",
       "    <tr>\n",
       "      <th>2</th>\n",
       "      <td>male</td>\n",
       "      <td>False</td>\n",
       "      <td>no</td>\n",
       "      <td>no</td>\n",
       "      <td>2</td>\n",
       "      <td>yes</td>\n",
       "      <td>no</td>\n",
       "      <td>dsl</td>\n",
       "      <td>yes</td>\n",
       "      <td>yes</td>\n",
       "      <td>no</td>\n",
       "      <td>no</td>\n",
       "      <td>no</td>\n",
       "      <td>no</td>\n",
       "      <td>month-to-month</td>\n",
       "      <td>yes</td>\n",
       "      <td>mailed check</td>\n",
       "      <td>53.85</td>\n",
       "      <td>108.15</td>\n",
       "      <td>1</td>\n",
       "    </tr>\n",
       "    <tr>\n",
       "      <th>3</th>\n",
       "      <td>male</td>\n",
       "      <td>False</td>\n",
       "      <td>no</td>\n",
       "      <td>no</td>\n",
       "      <td>45</td>\n",
       "      <td>no</td>\n",
       "      <td>no phone se...</td>\n",
       "      <td>dsl</td>\n",
       "      <td>yes</td>\n",
       "      <td>no</td>\n",
       "      <td>yes</td>\n",
       "      <td>yes</td>\n",
       "      <td>no</td>\n",
       "      <td>no</td>\n",
       "      <td>one year</td>\n",
       "      <td>no</td>\n",
       "      <td>bank transf...</td>\n",
       "      <td>42.30</td>\n",
       "      <td>1840.75</td>\n",
       "      <td>0</td>\n",
       "    </tr>\n",
       "    <tr>\n",
       "      <th>4</th>\n",
       "      <td>female</td>\n",
       "      <td>False</td>\n",
       "      <td>no</td>\n",
       "      <td>no</td>\n",
       "      <td>2</td>\n",
       "      <td>yes</td>\n",
       "      <td>no</td>\n",
       "      <td>fiber optic</td>\n",
       "      <td>no</td>\n",
       "      <td>no</td>\n",
       "      <td>no</td>\n",
       "      <td>no</td>\n",
       "      <td>no</td>\n",
       "      <td>no</td>\n",
       "      <td>month-to-month</td>\n",
       "      <td>yes</td>\n",
       "      <td>electronic ...</td>\n",
       "      <td>70.70</td>\n",
       "      <td>151.65</td>\n",
       "      <td>1</td>\n",
       "    </tr>\n",
       "  </tbody>\n",
       "</table>\n",
       "</div>"
      ],
      "text/plain": [
       "   gender  seniorcitizen partner dependents  tenure phoneservice  \\\n",
       "0  female          False     yes         no       1           no   \n",
       "1    male          False      no         no      34          yes   \n",
       "2    male          False      no         no       2          yes   \n",
       "3    male          False      no         no      45           no   \n",
       "4  female          False      no         no       2          yes   \n",
       "\n",
       "    multiplelines internetservice onlinesecurity onlinebackup  \\\n",
       "0  no phone se...             dsl             no          yes   \n",
       "1              no             dsl            yes           no   \n",
       "2              no             dsl            yes          yes   \n",
       "3  no phone se...             dsl            yes           no   \n",
       "4              no     fiber optic             no           no   \n",
       "\n",
       "  deviceprotection techsupport streamingtv streamingmovies        contract  \\\n",
       "0              no           no          no              no  month-to-month   \n",
       "1             yes           no          no              no        one year   \n",
       "2              no           no          no              no  month-to-month   \n",
       "3             yes          yes          no              no        one year   \n",
       "4              no           no          no              no  month-to-month   \n",
       "\n",
       "  paperlessbilling   paymentmethod  monthlycharges  totalcharges  target  \n",
       "0             yes   electronic ...           29.85         29.85       0  \n",
       "1              no     mailed check           56.95       1889.50       0  \n",
       "2             yes     mailed check           53.85        108.15       1  \n",
       "3              no   bank transf...           42.30       1840.75       0  \n",
       "4             yes   electronic ...           70.70        151.65       1  "
      ]
     },
     "execution_count": 5,
     "metadata": {},
     "output_type": "execute_result"
    }
   ],
   "source": [
    "df = df.drop(columns=[\"customerid\"]).rename(columns= {\"churn\" : \"target\"})\n",
    "df.head()"
   ]
  },
  {
   "cell_type": "code",
   "execution_count": 6,
   "id": "d1f1f97b",
   "metadata": {},
   "outputs": [],
   "source": [
    "target_variable= \"target\"\n",
    "all_cols = df.drop(columns=\"target\").columns.tolist()                      \n",
    "cat_cols = df.drop(columns=\"target\").select_dtypes([\"object\",\"category\"]).columns.tolist()                      \n",
    "num_cols= df.drop(columns=\"target\").columns[~df.drop(columns=\"target\").columns.isin(cat_cols)] "
   ]
  },
  {
   "attachments": {},
   "cell_type": "markdown",
   "id": "a1e261f8",
   "metadata": {},
   "source": [
    "# EDA"
   ]
  },
  {
   "cell_type": "code",
   "execution_count": 7,
   "id": "43f9b29f",
   "metadata": {},
   "outputs": [
    {
     "data": {
      "text/html": [
       "<div>\n",
       "<style scoped>\n",
       "    .dataframe tbody tr th:only-of-type {\n",
       "        vertical-align: middle;\n",
       "    }\n",
       "\n",
       "    .dataframe tbody tr th {\n",
       "        vertical-align: top;\n",
       "    }\n",
       "\n",
       "    .dataframe thead th {\n",
       "        text-align: right;\n",
       "    }\n",
       "</style>\n",
       "<table border=\"1\" class=\"dataframe\">\n",
       "  <thead>\n",
       "    <tr style=\"text-align: right;\">\n",
       "      <th></th>\n",
       "      <th>count</th>\n",
       "      <th>unique</th>\n",
       "      <th>top</th>\n",
       "      <th>freq</th>\n",
       "      <th>mean</th>\n",
       "      <th>std</th>\n",
       "      <th>min</th>\n",
       "      <th>25%</th>\n",
       "      <th>50%</th>\n",
       "      <th>75%</th>\n",
       "      <th>max</th>\n",
       "    </tr>\n",
       "  </thead>\n",
       "  <tbody>\n",
       "    <tr>\n",
       "      <th>gender</th>\n",
       "      <td>7043</td>\n",
       "      <td>2</td>\n",
       "      <td>male</td>\n",
       "      <td>3555</td>\n",
       "      <td>NaN</td>\n",
       "      <td>NaN</td>\n",
       "      <td>NaN</td>\n",
       "      <td>NaN</td>\n",
       "      <td>NaN</td>\n",
       "      <td>NaN</td>\n",
       "      <td>NaN</td>\n",
       "    </tr>\n",
       "    <tr>\n",
       "      <th>seniorcitizen</th>\n",
       "      <td>7043</td>\n",
       "      <td>2</td>\n",
       "      <td>False</td>\n",
       "      <td>5901</td>\n",
       "      <td>NaN</td>\n",
       "      <td>NaN</td>\n",
       "      <td>NaN</td>\n",
       "      <td>NaN</td>\n",
       "      <td>NaN</td>\n",
       "      <td>NaN</td>\n",
       "      <td>NaN</td>\n",
       "    </tr>\n",
       "    <tr>\n",
       "      <th>partner</th>\n",
       "      <td>7043</td>\n",
       "      <td>2</td>\n",
       "      <td>no</td>\n",
       "      <td>3641</td>\n",
       "      <td>NaN</td>\n",
       "      <td>NaN</td>\n",
       "      <td>NaN</td>\n",
       "      <td>NaN</td>\n",
       "      <td>NaN</td>\n",
       "      <td>NaN</td>\n",
       "      <td>NaN</td>\n",
       "    </tr>\n",
       "    <tr>\n",
       "      <th>dependents</th>\n",
       "      <td>7043</td>\n",
       "      <td>2</td>\n",
       "      <td>no</td>\n",
       "      <td>4933</td>\n",
       "      <td>NaN</td>\n",
       "      <td>NaN</td>\n",
       "      <td>NaN</td>\n",
       "      <td>NaN</td>\n",
       "      <td>NaN</td>\n",
       "      <td>NaN</td>\n",
       "      <td>NaN</td>\n",
       "    </tr>\n",
       "    <tr>\n",
       "      <th>tenure</th>\n",
       "      <td>7043.0</td>\n",
       "      <td>NaN</td>\n",
       "      <td>NaN</td>\n",
       "      <td>NaN</td>\n",
       "      <td>32.4</td>\n",
       "      <td>24.6</td>\n",
       "      <td>0.0</td>\n",
       "      <td>9.0</td>\n",
       "      <td>29.0</td>\n",
       "      <td>55.0</td>\n",
       "      <td>72.0</td>\n",
       "    </tr>\n",
       "    <tr>\n",
       "      <th>phoneservice</th>\n",
       "      <td>7043</td>\n",
       "      <td>2</td>\n",
       "      <td>yes</td>\n",
       "      <td>6361</td>\n",
       "      <td>NaN</td>\n",
       "      <td>NaN</td>\n",
       "      <td>NaN</td>\n",
       "      <td>NaN</td>\n",
       "      <td>NaN</td>\n",
       "      <td>NaN</td>\n",
       "      <td>NaN</td>\n",
       "    </tr>\n",
       "    <tr>\n",
       "      <th>multiplelines</th>\n",
       "      <td>7043</td>\n",
       "      <td>3</td>\n",
       "      <td>no</td>\n",
       "      <td>3390</td>\n",
       "      <td>NaN</td>\n",
       "      <td>NaN</td>\n",
       "      <td>NaN</td>\n",
       "      <td>NaN</td>\n",
       "      <td>NaN</td>\n",
       "      <td>NaN</td>\n",
       "      <td>NaN</td>\n",
       "    </tr>\n",
       "    <tr>\n",
       "      <th>internetservice</th>\n",
       "      <td>7043</td>\n",
       "      <td>3</td>\n",
       "      <td>fiber optic</td>\n",
       "      <td>3096</td>\n",
       "      <td>NaN</td>\n",
       "      <td>NaN</td>\n",
       "      <td>NaN</td>\n",
       "      <td>NaN</td>\n",
       "      <td>NaN</td>\n",
       "      <td>NaN</td>\n",
       "      <td>NaN</td>\n",
       "    </tr>\n",
       "    <tr>\n",
       "      <th>onlinesecurity</th>\n",
       "      <td>7043</td>\n",
       "      <td>3</td>\n",
       "      <td>no</td>\n",
       "      <td>3498</td>\n",
       "      <td>NaN</td>\n",
       "      <td>NaN</td>\n",
       "      <td>NaN</td>\n",
       "      <td>NaN</td>\n",
       "      <td>NaN</td>\n",
       "      <td>NaN</td>\n",
       "      <td>NaN</td>\n",
       "    </tr>\n",
       "    <tr>\n",
       "      <th>onlinebackup</th>\n",
       "      <td>7043</td>\n",
       "      <td>3</td>\n",
       "      <td>no</td>\n",
       "      <td>3088</td>\n",
       "      <td>NaN</td>\n",
       "      <td>NaN</td>\n",
       "      <td>NaN</td>\n",
       "      <td>NaN</td>\n",
       "      <td>NaN</td>\n",
       "      <td>NaN</td>\n",
       "      <td>NaN</td>\n",
       "    </tr>\n",
       "    <tr>\n",
       "      <th>deviceprotection</th>\n",
       "      <td>7043</td>\n",
       "      <td>3</td>\n",
       "      <td>no</td>\n",
       "      <td>3095</td>\n",
       "      <td>NaN</td>\n",
       "      <td>NaN</td>\n",
       "      <td>NaN</td>\n",
       "      <td>NaN</td>\n",
       "      <td>NaN</td>\n",
       "      <td>NaN</td>\n",
       "      <td>NaN</td>\n",
       "    </tr>\n",
       "    <tr>\n",
       "      <th>techsupport</th>\n",
       "      <td>7043</td>\n",
       "      <td>3</td>\n",
       "      <td>no</td>\n",
       "      <td>3473</td>\n",
       "      <td>NaN</td>\n",
       "      <td>NaN</td>\n",
       "      <td>NaN</td>\n",
       "      <td>NaN</td>\n",
       "      <td>NaN</td>\n",
       "      <td>NaN</td>\n",
       "      <td>NaN</td>\n",
       "    </tr>\n",
       "    <tr>\n",
       "      <th>streamingtv</th>\n",
       "      <td>7043</td>\n",
       "      <td>3</td>\n",
       "      <td>no</td>\n",
       "      <td>2810</td>\n",
       "      <td>NaN</td>\n",
       "      <td>NaN</td>\n",
       "      <td>NaN</td>\n",
       "      <td>NaN</td>\n",
       "      <td>NaN</td>\n",
       "      <td>NaN</td>\n",
       "      <td>NaN</td>\n",
       "    </tr>\n",
       "    <tr>\n",
       "      <th>streamingmovies</th>\n",
       "      <td>7043</td>\n",
       "      <td>3</td>\n",
       "      <td>no</td>\n",
       "      <td>2785</td>\n",
       "      <td>NaN</td>\n",
       "      <td>NaN</td>\n",
       "      <td>NaN</td>\n",
       "      <td>NaN</td>\n",
       "      <td>NaN</td>\n",
       "      <td>NaN</td>\n",
       "      <td>NaN</td>\n",
       "    </tr>\n",
       "    <tr>\n",
       "      <th>contract</th>\n",
       "      <td>7043</td>\n",
       "      <td>3</td>\n",
       "      <td>month-to-month</td>\n",
       "      <td>3875</td>\n",
       "      <td>NaN</td>\n",
       "      <td>NaN</td>\n",
       "      <td>NaN</td>\n",
       "      <td>NaN</td>\n",
       "      <td>NaN</td>\n",
       "      <td>NaN</td>\n",
       "      <td>NaN</td>\n",
       "    </tr>\n",
       "    <tr>\n",
       "      <th>paperlessbilling</th>\n",
       "      <td>7043</td>\n",
       "      <td>2</td>\n",
       "      <td>yes</td>\n",
       "      <td>4171</td>\n",
       "      <td>NaN</td>\n",
       "      <td>NaN</td>\n",
       "      <td>NaN</td>\n",
       "      <td>NaN</td>\n",
       "      <td>NaN</td>\n",
       "      <td>NaN</td>\n",
       "      <td>NaN</td>\n",
       "    </tr>\n",
       "    <tr>\n",
       "      <th>paymentmethod</th>\n",
       "      <td>7043</td>\n",
       "      <td>4</td>\n",
       "      <td>electronic ...</td>\n",
       "      <td>2365</td>\n",
       "      <td>NaN</td>\n",
       "      <td>NaN</td>\n",
       "      <td>NaN</td>\n",
       "      <td>NaN</td>\n",
       "      <td>NaN</td>\n",
       "      <td>NaN</td>\n",
       "      <td>NaN</td>\n",
       "    </tr>\n",
       "    <tr>\n",
       "      <th>monthlycharges</th>\n",
       "      <td>7043.0</td>\n",
       "      <td>NaN</td>\n",
       "      <td>NaN</td>\n",
       "      <td>NaN</td>\n",
       "      <td>64.8</td>\n",
       "      <td>30.1</td>\n",
       "      <td>18.2</td>\n",
       "      <td>35.5</td>\n",
       "      <td>70.4</td>\n",
       "      <td>89.8</td>\n",
       "      <td>118.8</td>\n",
       "    </tr>\n",
       "    <tr>\n",
       "      <th>totalcharges</th>\n",
       "      <td>7032.0</td>\n",
       "      <td>NaN</td>\n",
       "      <td>NaN</td>\n",
       "      <td>NaN</td>\n",
       "      <td>2283.3</td>\n",
       "      <td>2266.8</td>\n",
       "      <td>18.8</td>\n",
       "      <td>401.4</td>\n",
       "      <td>1397.5</td>\n",
       "      <td>3794.7</td>\n",
       "      <td>8684.8</td>\n",
       "    </tr>\n",
       "    <tr>\n",
       "      <th>target</th>\n",
       "      <td>7043.0</td>\n",
       "      <td>NaN</td>\n",
       "      <td>NaN</td>\n",
       "      <td>NaN</td>\n",
       "      <td>0.3</td>\n",
       "      <td>0.4</td>\n",
       "      <td>0.0</td>\n",
       "      <td>0.0</td>\n",
       "      <td>0.0</td>\n",
       "      <td>1.0</td>\n",
       "      <td>1.0</td>\n",
       "    </tr>\n",
       "  </tbody>\n",
       "</table>\n",
       "</div>"
      ],
      "text/plain": [
       "                  count unique             top  freq    mean     std   min  \\\n",
       "gender             7043      2            male  3555     NaN     NaN   NaN   \n",
       "seniorcitizen      7043      2           False  5901     NaN     NaN   NaN   \n",
       "partner            7043      2              no  3641     NaN     NaN   NaN   \n",
       "dependents         7043      2              no  4933     NaN     NaN   NaN   \n",
       "tenure           7043.0    NaN             NaN   NaN    32.4    24.6   0.0   \n",
       "phoneservice       7043      2             yes  6361     NaN     NaN   NaN   \n",
       "multiplelines      7043      3              no  3390     NaN     NaN   NaN   \n",
       "internetservice    7043      3     fiber optic  3096     NaN     NaN   NaN   \n",
       "onlinesecurity     7043      3              no  3498     NaN     NaN   NaN   \n",
       "onlinebackup       7043      3              no  3088     NaN     NaN   NaN   \n",
       "deviceprotec...    7043      3              no  3095     NaN     NaN   NaN   \n",
       "techsupport        7043      3              no  3473     NaN     NaN   NaN   \n",
       "streamingtv        7043      3              no  2810     NaN     NaN   NaN   \n",
       "streamingmovies    7043      3              no  2785     NaN     NaN   NaN   \n",
       "contract           7043      3  month-to-month  3875     NaN     NaN   NaN   \n",
       "paperlessbil...    7043      2             yes  4171     NaN     NaN   NaN   \n",
       "paymentmethod      7043      4  electronic ...  2365     NaN     NaN   NaN   \n",
       "monthlycharges   7043.0    NaN             NaN   NaN    64.8    30.1  18.2   \n",
       "totalcharges     7032.0    NaN             NaN   NaN  2283.3  2266.8  18.8   \n",
       "target           7043.0    NaN             NaN   NaN     0.3     0.4   0.0   \n",
       "\n",
       "                   25%     50%     75%     max  \n",
       "gender             NaN     NaN     NaN     NaN  \n",
       "seniorcitizen      NaN     NaN     NaN     NaN  \n",
       "partner            NaN     NaN     NaN     NaN  \n",
       "dependents         NaN     NaN     NaN     NaN  \n",
       "tenure             9.0    29.0    55.0    72.0  \n",
       "phoneservice       NaN     NaN     NaN     NaN  \n",
       "multiplelines      NaN     NaN     NaN     NaN  \n",
       "internetservice    NaN     NaN     NaN     NaN  \n",
       "onlinesecurity     NaN     NaN     NaN     NaN  \n",
       "onlinebackup       NaN     NaN     NaN     NaN  \n",
       "deviceprotec...    NaN     NaN     NaN     NaN  \n",
       "techsupport        NaN     NaN     NaN     NaN  \n",
       "streamingtv        NaN     NaN     NaN     NaN  \n",
       "streamingmovies    NaN     NaN     NaN     NaN  \n",
       "contract           NaN     NaN     NaN     NaN  \n",
       "paperlessbil...    NaN     NaN     NaN     NaN  \n",
       "paymentmethod      NaN     NaN     NaN     NaN  \n",
       "monthlycharges    35.5    70.4    89.8   118.8  \n",
       "totalcharges     401.4  1397.5  3794.7  8684.8  \n",
       "target             0.0     0.0     1.0     1.0  "
      ]
     },
     "execution_count": 7,
     "metadata": {},
     "output_type": "execute_result"
    }
   ],
   "source": [
    "df.describe(include=\"all\").round(1).T"
   ]
  },
  {
   "cell_type": "code",
   "execution_count": 8,
   "id": "08ca2f4a",
   "metadata": {},
   "outputs": [
    {
     "data": {
      "text/plain": [
       "gender               0\n",
       "seniorcitizen        0\n",
       "partner              0\n",
       "dependents           0\n",
       "tenure               0\n",
       "phoneservice         0\n",
       "multiplelines        0\n",
       "internetservice      0\n",
       "onlinesecurity       0\n",
       "onlinebackup         0\n",
       "deviceprotection     0\n",
       "techsupport          0\n",
       "streamingtv          0\n",
       "streamingmovies      0\n",
       "contract             0\n",
       "paperlessbilling     0\n",
       "paymentmethod        0\n",
       "monthlycharges       0\n",
       "totalcharges        11\n",
       "target               0\n",
       "dtype: int64"
      ]
     },
     "execution_count": 8,
     "metadata": {},
     "output_type": "execute_result"
    }
   ],
   "source": [
    "df.isna().sum()"
   ]
  },
  {
   "cell_type": "markdown",
   "id": "95cedfcb",
   "metadata": {},
   "source": [
    "### 1.2 Exploratory Data Visualisations (EDA)"
   ]
  },
  {
   "cell_type": "code",
   "execution_count": 9,
   "id": "2536d30a",
   "metadata": {},
   "outputs": [
    {
     "data": {
      "image/png": "[encoded data removed]",
      "text/plain": [
       "<Figure size 1600x700 with 4 Axes>"
      ]
     },
     "metadata": {},
     "output_type": "display_data"
    }
   ],
   "source": [
    "pd.options.plotting.backend = \"matplotlib\"\n",
    "df.hist(\n",
    "    bins=50, \n",
    "    figsize=(16,7)   \n",
    "    )\n",
    "plt.show()\n",
    "pd.options.plotting.backend = \"plotly\""
   ]
  },
  {
   "cell_type": "markdown",
   "id": "4d9284b7",
   "metadata": {},
   "source": [
    "the histogram shows the distribution of numeric variables , we see the seniorcitizen has quite high values so we will standardized these \n",
    "columns in preprocessing step. "
   ]
  },
  {
   "cell_type": "markdown",
   "id": "3adacc6b",
   "metadata": {},
   "source": [
    "# Feature importance"
   ]
  },
  {
   "cell_type": "code",
   "execution_count": 10,
   "id": "eb77c23d",
   "metadata": {},
   "outputs": [
    {
     "data": {
      "application/vnd.plotly.v1+json": {
       "config": {
        "plotlyServerURL": "https://plot.ly"
       },
       "data": [
        {
         "alignmentgroup": "True",
         "hovertemplate": "index=%{x}<br>value=%{y}<br>target=%{marker.color}<extra></extra>",
         "legendgroup": "",
         "marker": {
          "color": [
           0,
           1
          ],
          "coloraxis": "coloraxis",
          "pattern": {
           "shape": ""
          }
         },
         "name": "",
         "offsetgroup": "",
         "orientation": "v",
         "showlegend": false,
         "textposition": "auto",
         "texttemplate": "%{y}",
         "type": "bar",
         "x": [
          0,
          1
         ],
         "xaxis": "x",
         "y": [
          5174,
          1869
         ],
         "yaxis": "y"
        }
       ],
       "layout": {
        "barmode": "relative",
        "coloraxis": {
         "colorbar": {
          "title": {
           "text": "target"
          }
         },
         "colorscale": [
          [
           0,
           "#0d0887"
          ],
          [
           0.1111111111111111,
           "#46039f"
          ],
          [
           0.2222222222222222,
           "#7201a8"
          ],
          [
           0.3333333333333333,
           "#9c179e"
          ],
          [
           0.4444444444444444,
           "#bd3786"
          ],
          [
           0.5555555555555556,
           "#d8576b"
          ],
          [
           0.6666666666666666,
           "#ed7953"
          ],
          [
           0.7777777777777778,
           "#fb9f3a"
          ],
          [
           0.8888888888888888,
           "#fdca26"
          ],
          [
           1,
           "#f0f921"
          ]
         ]
        },
        "legend": {
         "tracegroupgap": 0
        },
        "margin": {
         "t": 60
        },
        "template": {
         "data": {
          "bar": [
           {
            "error_x": {
             "color": "#2a3f5f"
            },
            "error_y": {
             "color": "#2a3f5f"
            },
            "marker": {
             "line": {
              "color": "#E5ECF6",
              "width": 0.5
             },
             "pattern": {
              "fillmode": "overlay",
              "size": 10,
              "solidity": 0.2
             }
            },
            "type": "bar"
           }
          ],
          "barpolar": [
           {
            "marker": {
             "line": {
              "color": "#E5ECF6",
              "width": 0.5
             },
             "pattern": {
              "fillmode": "overlay",
              "size": 10,
              "solidity": 0.2
             }
            },
            "type": "barpolar"
           }
          ],
          "carpet": [
           {
            "aaxis": {
             "endlinecolor": "#2a3f5f",
             "gridcolor": "white",
             "linecolor": "white",
             "minorgridcolor": "white",
             "startlinecolor": "#2a3f5f"
            },
            "baxis": {
             "endlinecolor": "#2a3f5f",
             "gridcolor": "white",
             "linecolor": "white",
             "minorgridcolor": "white",
             "startlinecolor": "#2a3f5f"
            },
            "type": "carpet"
           }
          ],
          "choropleth": [
           {
            "colorbar": {
             "outlinewidth": 0,
             "ticks": ""
            },
            "type": "choropleth"
           }
          ],
          "contour": [
           {
            "colorbar": {
             "outlinewidth": 0,
             "ticks": ""
            },
            "colorscale": [
             [
              0,
              "#0d0887"
             ],
             [
              0.1111111111111111,
              "#46039f"
             ],
             [
              0.2222222222222222,
              "#7201a8"
             ],
             [
              0.3333333333333333,
              "#9c179e"
             ],
             [
              0.4444444444444444,
              "#bd3786"
             ],
             [
              0.5555555555555556,
              "#d8576b"
             ],
             [
              0.6666666666666666,
              "#ed7953"
             ],
             [
              0.7777777777777778,
              "#fb9f3a"
             ],
             [
              0.8888888888888888,
              "#fdca26"
             ],
             [
              1,
              "#f0f921"
             ]
            ],
            "type": "contour"
           }
          ],
          "contourcarpet": [
           {
            "colorbar": {
             "outlinewidth": 0,
             "ticks": ""
            },
            "type": "contourcarpet"
           }
          ],
          "heatmap": [
           {
            "colorbar": {
             "outlinewidth": 0,
             "ticks": ""
            },
            "colorscale": [
             [
              0,
              "#0d0887"
             ],
             [
              0.1111111111111111,
              "#46039f"
             ],
             [
              0.2222222222222222,
              "#7201a8"
             ],
             [
              0.3333333333333333,
              "#9c179e"
             ],
             [
              0.4444444444444444,
              "#bd3786"
             ],
             [
              0.5555555555555556,
              "#d8576b"
             ],
             [
              0.6666666666666666,
              "#ed7953"
             ],
             [
              0.7777777777777778,
              "#fb9f3a"
             ],
             [
              0.8888888888888888,
              "#fdca26"
             ],
             [
              1,
              "#f0f921"
             ]
            ],
            "type": "heatmap"
           }
          ],
          "heatmapgl": [
           {
            "colorbar": {
             "outlinewidth": 0,
             "ticks": ""
            },
            "colorscale": [
             [
              0,
              "#0d0887"
             ],
             [
              0.1111111111111111,
              "#46039f"
             ],
             [
              0.2222222222222222,
              "#7201a8"
             ],
             [
              0.3333333333333333,
              "#9c179e"
             ],
             [
              0.4444444444444444,
              "#bd3786"
             ],
             [
              0.5555555555555556,
              "#d8576b"
             ],
             [
              0.6666666666666666,
              "#ed7953"
             ],
             [
              0.7777777777777778,
              "#fb9f3a"
             ],
             [
              0.8888888888888888,
              "#fdca26"
             ],
             [
              1,
              "#f0f921"
             ]
            ],
            "type": "heatmapgl"
           }
          ],
          "histogram": [
           {
            "marker": {
             "pattern": {
              "fillmode": "overlay",
              "size": 10,
              "solidity": 0.2
             }
            },
            "type": "histogram"
           }
          ],
          "histogram2d": [
           {
            "colorbar": {
             "outlinewidth": 0,
             "ticks": ""
            },
            "colorscale": [
             [
              0,
              "#0d0887"
             ],
             [
              0.1111111111111111,
              "#46039f"
             ],
             [
              0.2222222222222222,
              "#7201a8"
             ],
             [
              0.3333333333333333,
              "#9c179e"
             ],
             [
              0.4444444444444444,
              "#bd3786"
             ],
             [
              0.5555555555555556,
              "#d8576b"
             ],
             [
              0.6666666666666666,
              "#ed7953"
             ],
             [
              0.7777777777777778,
              "#fb9f3a"
             ],
             [
              0.8888888888888888,
              "#fdca26"
             ],
             [
              1,
              "#f0f921"
             ]
            ],
            "type": "histogram2d"
           }
          ],
          "histogram2dcontour": [
           {
            "colorbar": {
             "outlinewidth": 0,
             "ticks": ""
            },
            "colorscale": [
             [
              0,
              "#0d0887"
             ],
             [
              0.1111111111111111,
              "#46039f"
             ],
             [
              0.2222222222222222,
              "#7201a8"
             ],
             [
              0.3333333333333333,
              "#9c179e"
             ],
             [
              0.4444444444444444,
              "#bd3786"
             ],
             [
              0.5555555555555556,
              "#d8576b"
             ],
             [
              0.6666666666666666,
              "#ed7953"
             ],
             [
              0.7777777777777778,
              "#fb9f3a"
             ],
             [
              0.8888888888888888,
              "#fdca26"
             ],
             [
              1,
              "#f0f921"
             ]
            ],
            "type": "histogram2dcontour"
           }
          ],
          "mesh3d": [
           {
            "colorbar": {
             "outlinewidth": 0,
             "ticks": ""
            },
            "type": "mesh3d"
           }
          ],
          "parcoords": [
           {
            "line": {
             "colorbar": {
              "outlinewidth": 0,
              "ticks": ""
             }
            },
            "type": "parcoords"
           }
          ],
          "pie": [
           {
            "automargin": true,
            "type": "pie"
           }
          ],
          "scatter": [
           {
            "fillpattern": {
             "fillmode": "overlay",
             "size": 10,
             "solidity": 0.2
            },
            "type": "scatter"
           }
          ],
          "scatter3d": [
           {
            "line": {
             "colorbar": {
              "outlinewidth": 0,
              "ticks": ""
             }
            },
            "marker": {
             "colorbar": {
              "outlinewidth": 0,
              "ticks": ""
             }
            },
            "type": "scatter3d"
           }
          ],
          "scattercarpet": [
           {
            "marker": {
             "colorbar": {
              "outlinewidth": 0,
              "ticks": ""
             }
            },
            "type": "scattercarpet"
           }
          ],
          "scattergeo": [
           {
            "marker": {
             "colorbar": {
              "outlinewidth": 0,
              "ticks": ""
             }
            },
            "type": "scattergeo"
           }
          ],
          "scattergl": [
           {
            "marker": {
             "colorbar": {
              "outlinewidth": 0,
              "ticks": ""
             }
            },
            "type": "scattergl"
           }
          ],
          "scattermapbox": [
           {
            "marker": {
             "colorbar": {
              "outlinewidth": 0,
              "ticks": ""
             }
            },
            "type": "scattermapbox"
           }
          ],
          "scatterpolar": [
           {
            "marker": {
             "colorbar": {
              "outlinewidth": 0,
              "ticks": ""
             }
            },
            "type": "scatterpolar"
           }
          ],
          "scatterpolargl": [
           {
            "marker": {
             "colorbar": {
              "outlinewidth": 0,
              "ticks": ""
             }
            },
            "type": "scatterpolargl"
           }
          ],
          "scatterternary": [
           {
            "marker": {
             "colorbar": {
              "outlinewidth": 0,
              "ticks": ""
             }
            },
            "type": "scatterternary"
           }
          ],
          "surface": [
           {
            "colorbar": {
             "outlinewidth": 0,
             "ticks": ""
            },
            "colorscale": [
             [
              0,
              "#0d0887"
             ],
             [
              0.1111111111111111,
              "#46039f"
             ],
             [
              0.2222222222222222,
              "#7201a8"
             ],
             [
              0.3333333333333333,
              "#9c179e"
             ],
             [
              0.4444444444444444,
              "#bd3786"
             ],
             [
              0.5555555555555556,
              "#d8576b"
             ],
             [
              0.6666666666666666,
              "#ed7953"
             ],
             [
              0.7777777777777778,
              "#fb9f3a"
             ],
             [
              0.8888888888888888,
              "#fdca26"
             ],
             [
              1,
              "#f0f921"
             ]
            ],
            "type": "surface"
           }
          ],
          "table": [
           {
            "cells": {
             "fill": {
              "color": "#EBF0F8"
             },
             "line": {
              "color": "white"
             }
            },
            "header": {
             "fill": {
              "color": "#C8D4E3"
             },
             "line": {
              "color": "white"
             }
            },
            "type": "table"
           }
          ]
         },
         "layout": {
          "annotationdefaults": {
           "arrowcolor": "#2a3f5f",
           "arrowhead": 0,
           "arrowwidth": 1
          },
          "autotypenumbers": "strict",
          "coloraxis": {
           "colorbar": {
            "outlinewidth": 0,
            "ticks": ""
           }
          },
          "colorscale": {
           "diverging": [
            [
             0,
             "#8e0152"
            ],
            [
             0.1,
             "#c51b7d"
            ],
            [
             0.2,
             "#de77ae"
            ],
            [
             0.3,
             "#f1b6da"
            ],
            [
             0.4,
             "#fde0ef"
            ],
            [
             0.5,
             "#f7f7f7"
            ],
            [
             0.6,
             "#e6f5d0"
            ],
            [
             0.7,
             "#b8e186"
            ],
            [
             0.8,
             "#7fbc41"
            ],
            [
             0.9,
             "#4d9221"
            ],
            [
             1,
             "#276419"
            ]
           ],
           "sequential": [
            [
             0,
             "#0d0887"
            ],
            [
             0.1111111111111111,
             "#46039f"
            ],
            [
             0.2222222222222222,
             "#7201a8"
            ],
            [
             0.3333333333333333,
             "#9c179e"
            ],
            [
             0.4444444444444444,
             "#bd3786"
            ],
            [
             0.5555555555555556,
             "#d8576b"
            ],
            [
             0.6666666666666666,
             "#ed7953"
            ],
            [
             0.7777777777777778,
             "#fb9f3a"
            ],
            [
             0.8888888888888888,
             "#fdca26"
            ],
            [
             1,
             "#f0f921"
            ]
           ],
           "sequentialminus": [
            [
             0,
             "#0d0887"
            ],
            [
             0.1111111111111111,
             "#46039f"
            ],
            [
             0.2222222222222222,
             "#7201a8"
            ],
            [
             0.3333333333333333,
             "#9c179e"
            ],
            [
             0.4444444444444444,
             "#bd3786"
            ],
            [
             0.5555555555555556,
             "#d8576b"
            ],
            [
             0.6666666666666666,
             "#ed7953"
            ],
            [
             0.7777777777777778,
             "#fb9f3a"
            ],
            [
             0.8888888888888888,
             "#fdca26"
            ],
            [
             1,
             "#f0f921"
            ]
           ]
          },
          "colorway": [
           "#636efa",
           "#EF553B",
           "#00cc96",
           "#ab63fa",
           "#FFA15A",
           "#19d3f3",
           "#FF6692",
           "#B6E880",
           "#FF97FF",
           "#FECB52"
          ],
          "font": {
           "color": "#2a3f5f"
          },
          "geo": {
           "bgcolor": "white",
           "lakecolor": "white",
           "landcolor": "#E5ECF6",
           "showlakes": true,
           "showland": true,
           "subunitcolor": "white"
          },
          "hoverlabel": {
           "align": "left"
          },
          "hovermode": "closest",
          "mapbox": {
           "style": "light"
          },
          "paper_bgcolor": "white",
          "plot_bgcolor": "#E5ECF6",
          "polar": {
           "angularaxis": {
            "gridcolor": "white",
            "linecolor": "white",
            "ticks": ""
           },
           "bgcolor": "#E5ECF6",
           "radialaxis": {
            "gridcolor": "white",
            "linecolor": "white",
            "ticks": ""
           }
          },
          "scene": {
           "xaxis": {
            "backgroundcolor": "#E5ECF6",
            "gridcolor": "white",
            "gridwidth": 2,
            "linecolor": "white",
            "showbackground": true,
            "ticks": "",
            "zerolinecolor": "white"
           },
           "yaxis": {
            "backgroundcolor": "#E5ECF6",
            "gridcolor": "white",
            "gridwidth": 2,
            "linecolor": "white",
            "showbackground": true,
            "ticks": "",
            "zerolinecolor": "white"
           },
           "zaxis": {
            "backgroundcolor": "#E5ECF6",
            "gridcolor": "white",
            "gridwidth": 2,
            "linecolor": "white",
            "showbackground": true,
            "ticks": "",
            "zerolinecolor": "white"
           }
          },
          "shapedefaults": {
           "line": {
            "color": "#2a3f5f"
           }
          },
          "ternary": {
           "aaxis": {
            "gridcolor": "white",
            "linecolor": "white",
            "ticks": ""
           },
           "baxis": {
            "gridcolor": "white",
            "linecolor": "white",
            "ticks": ""
           },
           "bgcolor": "#E5ECF6",
           "caxis": {
            "gridcolor": "white",
            "linecolor": "white",
            "ticks": ""
           }
          },
          "title": {
           "x": 0.05
          },
          "xaxis": {
           "automargin": true,
           "gridcolor": "white",
           "linecolor": "white",
           "ticks": "",
           "title": {
            "standoff": 15
           },
           "zerolinecolor": "white",
           "zerolinewidth": 2
          },
          "yaxis": {
           "automargin": true,
           "gridcolor": "white",
           "linecolor": "white",
           "ticks": "",
           "title": {
            "standoff": 15
           },
           "zerolinecolor": "white",
           "zerolinewidth": 2
          }
         }
        },
        "xaxis": {
         "anchor": "y",
         "domain": [
          0,
          1
         ],
         "title": {
          "text": "index"
         }
        },
        "yaxis": {
         "anchor": "x",
         "domain": [
          0,
          1
         ],
         "title": {
          "text": "value"
         }
        }
       }
      }
     },
     "metadata": {},
     "output_type": "display_data"
    }
   ],
   "source": [
    "df.groupby([\"target\"]).agg(total = pd.NamedAgg(\"target\", \"count\")).reset_index().plot.bar(color= \"target\", text_auto= True)"
   ]
  },
  {
   "cell_type": "markdown",
   "id": "0cc3c6c0",
   "metadata": {},
   "source": [
    "## graph below shows the count of churn and no churns gender, partner and senior citizen"
   ]
  },
  {
   "cell_type": "code",
   "execution_count": 11,
   "id": "50abcfe9",
   "metadata": {},
   "outputs": [
    {
     "data": {
      "application/vnd.plotly.v1+json": {
       "config": {
        "plotlyServerURL": "https://plot.ly"
       },
       "data": [
        {
         "alignmentgroup": "True",
         "hovertemplate": "value=month-to-month<br>variable=contract<br>target=%{x}<br>total=%{y}<extra></extra>",
         "legendgroup": "month-to-month",
         "marker": {
          "color": "#636efa",
          "pattern": {
           "shape": ""
          }
         },
         "name": "month-to-month",
         "offsetgroup": "month-to-month",
         "orientation": "v",
         "showlegend": true,
         "textposition": "auto",
         "texttemplate": "%{y}",
         "type": "bar",
         "x": [
          0,
          1
         ],
         "xaxis": "x11",
         "y": [
          2220,
          1655
         ],
         "yaxis": "y11"
        },
        {
         "alignmentgroup": "True",
         "hovertemplate": "value=one year<br>variable=contract<br>target=%{x}<br>total=%{y}<extra></extra>",
         "legendgroup": "one year",
         "marker": {
          "color": "#EF553B",
          "pattern": {
           "shape": ""
          }
         },
         "name": "one year",
         "offsetgroup": "one year",
         "orientation": "v",
         "showlegend": true,
         "textposition": "auto",
         "texttemplate": "%{y}",
         "type": "bar",
         "x": [
          0,
          1
         ],
         "xaxis": "x11",
         "y": [
          1307,
          166
         ],
         "yaxis": "y11"
        },
        {
         "alignmentgroup": "True",
         "hovertemplate": "value=two year<br>variable=contract<br>target=%{x}<br>total=%{y}<extra></extra>",
         "legendgroup": "two year",
         "marker": {
          "color": "#00cc96",
          "pattern": {
           "shape": ""
          }
         },
         "name": "two year",
         "offsetgroup": "two year",
         "orientation": "v",
         "showlegend": true,
         "textposition": "auto",
         "texttemplate": "%{y}",
         "type": "bar",
         "x": [
          0,
          1
         ],
         "xaxis": "x11",
         "y": [
          1647,
          48
         ],
         "yaxis": "y11"
        },
        {
         "alignmentgroup": "True",
         "hovertemplate": "value=no<br>variable=dependents<br>target=%{x}<br>total=%{y}<extra></extra>",
         "legendgroup": "no",
         "marker": {
          "color": "#ab63fa",
          "pattern": {
           "shape": ""
          }
         },
         "name": "no",
         "offsetgroup": "no",
         "orientation": "v",
         "showlegend": true,
         "textposition": "auto",
         "texttemplate": "%{y}",
         "type": "bar",
         "x": [
          0,
          1
         ],
         "xaxis": "x12",
         "y": [
          3390,
          1543
         ],
         "yaxis": "y12"
        },
        {
         "alignmentgroup": "True",
         "hovertemplate": "value=no<br>variable=deviceprotection<br>target=%{x}<br>total=%{y}<extra></extra>",
         "legendgroup": "no",
         "marker": {
          "color": "#ab63fa",
          "pattern": {
           "shape": ""
          }
         },
         "name": "no",
         "offsetgroup": "no",
         "orientation": "v",
         "showlegend": false,
         "textposition": "auto",
         "texttemplate": "%{y}",
         "type": "bar",
         "x": [
          0,
          1
         ],
         "xaxis": "x13",
         "y": [
          1884,
          1211
         ],
         "yaxis": "y13"
        },
        {
         "alignmentgroup": "True",
         "hovertemplate": "value=no<br>variable=internetservice<br>target=%{x}<br>total=%{y}<extra></extra>",
         "legendgroup": "no",
         "marker": {
          "color": "#ab63fa",
          "pattern": {
           "shape": ""
          }
         },
         "name": "no",
         "offsetgroup": "no",
         "orientation": "v",
         "showlegend": false,
         "textposition": "auto",
         "texttemplate": "%{y}",
         "type": "bar",
         "x": [
          0,
          1
         ],
         "xaxis": "x15",
         "y": [
          1413,
          113
         ],
         "yaxis": "y15"
        },
        {
         "alignmentgroup": "True",
         "hovertemplate": "value=no<br>variable=multiplelines<br>target=%{x}<br>total=%{y}<extra></extra>",
         "legendgroup": "no",
         "marker": {
          "color": "#ab63fa",
          "pattern": {
           "shape": ""
          }
         },
         "name": "no",
         "offsetgroup": "no",
         "orientation": "v",
         "showlegend": false,
         "textposition": "auto",
         "texttemplate": "%{y}",
         "type": "bar",
         "x": [
          0,
          1
         ],
         "xaxis": "x6",
         "y": [
          2541,
          849
         ],
         "yaxis": "y6"
        },
        {
         "alignmentgroup": "True",
         "hovertemplate": "value=no<br>variable=onlinebackup<br>target=%{x}<br>total=%{y}<extra></extra>",
         "legendgroup": "no",
         "marker": {
          "color": "#ab63fa",
          "pattern": {
           "shape": ""
          }
         },
         "name": "no",
         "offsetgroup": "no",
         "orientation": "v",
         "showlegend": false,
         "textposition": "auto",
         "texttemplate": "%{y}",
         "type": "bar",
         "x": [
          0,
          1
         ],
         "xaxis": "x7",
         "y": [
          1855,
          1233
         ],
         "yaxis": "y7"
        },
        {
         "alignmentgroup": "True",
         "hovertemplate": "value=no<br>variable=onlinesecurity<br>target=%{x}<br>total=%{y}<extra></extra>",
         "legendgroup": "no",
         "marker": {
          "color": "#ab63fa",
          "pattern": {
           "shape": ""
          }
         },
         "name": "no",
         "offsetgroup": "no",
         "orientation": "v",
         "showlegend": false,
         "textposition": "auto",
         "texttemplate": "%{y}",
         "type": "bar",
         "x": [
          0,
          1
         ],
         "xaxis": "x8",
         "y": [
          2037,
          1461
         ],
         "yaxis": "y8"
        },
        {
         "alignmentgroup": "True",
         "hovertemplate": "value=no<br>variable=paperlessbilling<br>target=%{x}<br>total=%{y}<extra></extra>",
         "legendgroup": "no",
         "marker": {
          "color": "#ab63fa",
          "pattern": {
           "shape": ""
          }
         },
         "name": "no",
         "offsetgroup": "no",
         "orientation": "v",
         "showlegend": false,
         "textposition": "auto",
         "texttemplate": "%{y}",
         "type": "bar",
         "x": [
          0,
          1
         ],
         "xaxis": "x9",
         "y": [
          2403,
          469
         ],
         "yaxis": "y9"
        },
        {
         "alignmentgroup": "True",
         "hovertemplate": "value=no<br>variable=partner<br>target=%{x}<br>total=%{y}<extra></extra>",
         "legendgroup": "no",
         "marker": {
          "color": "#ab63fa",
          "pattern": {
           "shape": ""
          }
         },
         "name": "no",
         "offsetgroup": "no",
         "orientation": "v",
         "showlegend": false,
         "textposition": "auto",
         "texttemplate": "%{y}",
         "type": "bar",
         "x": [
          0,
          1
         ],
         "xaxis": "x10",
         "y": [
          2441,
          1200
         ],
         "yaxis": "y10"
        },
        {
         "alignmentgroup": "True",
         "hovertemplate": "value=no<br>variable=phoneservice<br>target=%{x}<br>total=%{y}<extra></extra>",
         "legendgroup": "no",
         "marker": {
          "color": "#ab63fa",
          "pattern": {
           "shape": ""
          }
         },
         "name": "no",
         "offsetgroup": "no",
         "orientation": "v",
         "showlegend": false,
         "textposition": "auto",
         "texttemplate": "%{y}",
         "type": "bar",
         "x": [
          0,
          1
         ],
         "xaxis": "x2",
         "y": [
          512,
          170
         ],
         "yaxis": "y2"
        },
        {
         "alignmentgroup": "True",
         "hovertemplate": "value=no<br>variable=streamingmovies<br>target=%{x}<br>total=%{y}<extra></extra>",
         "legendgroup": "no",
         "marker": {
          "color": "#ab63fa",
          "pattern": {
           "shape": ""
          }
         },
         "name": "no",
         "offsetgroup": "no",
         "orientation": "v",
         "showlegend": false,
         "textposition": "auto",
         "texttemplate": "%{y}",
         "type": "bar",
         "x": [
          0,
          1
         ],
         "xaxis": "x3",
         "y": [
          1847,
          938
         ],
         "yaxis": "y3"
        },
        {
         "alignmentgroup": "True",
         "hovertemplate": "value=no<br>variable=streamingtv<br>target=%{x}<br>total=%{y}<extra></extra>",
         "legendgroup": "no",
         "marker": {
          "color": "#ab63fa",
          "pattern": {
           "shape": ""
          }
         },
         "name": "no",
         "offsetgroup": "no",
         "orientation": "v",
         "showlegend": false,
         "textposition": "auto",
         "texttemplate": "%{y}",
         "type": "bar",
         "x": [
          0,
          1
         ],
         "xaxis": "x4",
         "y": [
          1868,
          942
         ],
         "yaxis": "y4"
        },
        {
         "alignmentgroup": "True",
         "hovertemplate": "value=no<br>variable=techsupport<br>target=%{x}<br>total=%{y}<extra></extra>",
         "legendgroup": "no",
         "marker": {
          "color": "#ab63fa",
          "pattern": {
           "shape": ""
          }
         },
         "name": "no",
         "offsetgroup": "no",
         "orientation": "v",
         "showlegend": false,
         "textposition": "auto",
         "texttemplate": "%{y}",
         "type": "bar",
         "x": [
          0,
          1
         ],
         "xaxis": "x5",
         "y": [
          2027,
          1446
         ],
         "yaxis": "y5"
        },
        {
         "alignmentgroup": "True",
         "hovertemplate": "value=yes<br>variable=dependents<br>target=%{x}<br>total=%{y}<extra></extra>",
         "legendgroup": "yes",
         "marker": {
          "color": "#FFA15A",
          "pattern": {
           "shape": ""
          }
         },
         "name": "yes",
         "offsetgroup": "yes",
         "orientation": "v",
         "showlegend": true,
         "textposition": "auto",
         "texttemplate": "%{y}",
         "type": "bar",
         "x": [
          0,
          1
         ],
         "xaxis": "x12",
         "y": [
          1784,
          326
         ],
         "yaxis": "y12"
        },
        {
         "alignmentgroup": "True",
         "hovertemplate": "value=yes<br>variable=deviceprotection<br>target=%{x}<br>total=%{y}<extra></extra>",
         "legendgroup": "yes",
         "marker": {
          "color": "#FFA15A",
          "pattern": {
           "shape": ""
          }
         },
         "name": "yes",
         "offsetgroup": "yes",
         "orientation": "v",
         "showlegend": false,
         "textposition": "auto",
         "texttemplate": "%{y}",
         "type": "bar",
         "x": [
          0,
          1
         ],
         "xaxis": "x13",
         "y": [
          1877,
          545
         ],
         "yaxis": "y13"
        },
        {
         "alignmentgroup": "True",
         "hovertemplate": "value=yes<br>variable=multiplelines<br>target=%{x}<br>total=%{y}<extra></extra>",
         "legendgroup": "yes",
         "marker": {
          "color": "#FFA15A",
          "pattern": {
           "shape": ""
          }
         },
         "name": "yes",
         "offsetgroup": "yes",
         "orientation": "v",
         "showlegend": false,
         "textposition": "auto",
         "texttemplate": "%{y}",
         "type": "bar",
         "x": [
          0,
          1
         ],
         "xaxis": "x6",
         "y": [
          2121,
          850
         ],
         "yaxis": "y6"
        },
        {
         "alignmentgroup": "True",
         "hovertemplate": "value=yes<br>variable=onlinebackup<br>target=%{x}<br>total=%{y}<extra></extra>",
         "legendgroup": "yes",
         "marker": {
          "color": "#FFA15A",
          "pattern": {
           "shape": ""
          }
         },
         "name": "yes",
         "offsetgroup": "yes",
         "orientation": "v",
         "showlegend": false,
         "textposition": "auto",
         "texttemplate": "%{y}",
         "type": "bar",
         "x": [
          0,
          1
         ],
         "xaxis": "x7",
         "y": [
          1906,
          523
         ],
         "yaxis": "y7"
        },
        {
         "alignmentgroup": "True",
         "hovertemplate": "value=yes<br>variable=onlinesecurity<br>target=%{x}<br>total=%{y}<extra></extra>",
         "legendgroup": "yes",
         "marker": {
          "color": "#FFA15A",
          "pattern": {
           "shape": ""
          }
         },
         "name": "yes",
         "offsetgroup": "yes",
         "orientation": "v",
         "showlegend": false,
         "textposition": "auto",
         "texttemplate": "%{y}",
         "type": "bar",
         "x": [
          0,
          1
         ],
         "xaxis": "x8",
         "y": [
          1724,
          295
         ],
         "yaxis": "y8"
        },
        {
         "alignmentgroup": "True",
         "hovertemplate": "value=yes<br>variable=paperlessbilling<br>target=%{x}<br>total=%{y}<extra></extra>",
         "legendgroup": "yes",
         "marker": {
          "color": "#FFA15A",
          "pattern": {
           "shape": ""
          }
         },
         "name": "yes",
         "offsetgroup": "yes",
         "orientation": "v",
         "showlegend": false,
         "textposition": "auto",
         "texttemplate": "%{y}",
         "type": "bar",
         "x": [
          0,
          1
         ],
         "xaxis": "x9",
         "y": [
          2771,
          1400
         ],
         "yaxis": "y9"
        },
        {
         "alignmentgroup": "True",
         "hovertemplate": "value=yes<br>variable=partner<br>target=%{x}<br>total=%{y}<extra></extra>",
         "legendgroup": "yes",
         "marker": {
          "color": "#FFA15A",
          "pattern": {
           "shape": ""
          }
         },
         "name": "yes",
         "offsetgroup": "yes",
         "orientation": "v",
         "showlegend": false,
         "textposition": "auto",
         "texttemplate": "%{y}",
         "type": "bar",
         "x": [
          0,
          1
         ],
         "xaxis": "x10",
         "y": [
          2733,
          669
         ],
         "yaxis": "y10"
        },
        {
         "alignmentgroup": "True",
         "hovertemplate": "value=yes<br>variable=phoneservice<br>target=%{x}<br>total=%{y}<extra></extra>",
         "legendgroup": "yes",
         "marker": {
          "color": "#FFA15A",
          "pattern": {
           "shape": ""
          }
         },
         "name": "yes",
         "offsetgroup": "yes",
         "orientation": "v",
         "showlegend": false,
         "textposition": "auto",
         "texttemplate": "%{y}",
         "type": "bar",
         "x": [
          0,
          1
         ],
         "xaxis": "x2",
         "y": [
          4662,
          1699
         ],
         "yaxis": "y2"
        },
        {
         "alignmentgroup": "True",
         "hovertemplate": "value=yes<br>variable=streamingmovies<br>target=%{x}<br>total=%{y}<extra></extra>",
         "legendgroup": "yes",
         "marker": {
          "color": "#FFA15A",
          "pattern": {
           "shape": ""
          }
         },
         "name": "yes",
         "offsetgroup": "yes",
         "orientation": "v",
         "showlegend": false,
         "textposition": "auto",
         "texttemplate": "%{y}",
         "type": "bar",
         "x": [
          0,
          1
         ],
         "xaxis": "x3",
         "y": [
          1914,
          818
         ],
         "yaxis": "y3"
        },
        {
         "alignmentgroup": "True",
         "hovertemplate": "value=yes<br>variable=streamingtv<br>target=%{x}<br>total=%{y}<extra></extra>",
         "legendgroup": "yes",
         "marker": {
          "color": "#FFA15A",
          "pattern": {
           "shape": ""
          }
         },
         "name": "yes",
         "offsetgroup": "yes",
         "orientation": "v",
         "showlegend": false,
         "textposition": "auto",
         "texttemplate": "%{y}",
         "type": "bar",
         "x": [
          0,
          1
         ],
         "xaxis": "x4",
         "y": [
          1893,
          814
         ],
         "yaxis": "y4"
        },
        {
         "alignmentgroup": "True",
         "hovertemplate": "value=yes<br>variable=techsupport<br>target=%{x}<br>total=%{y}<extra></extra>",
         "legendgroup": "yes",
         "marker": {
          "color": "#FFA15A",
          "pattern": {
           "shape": ""
          }
         },
         "name": "yes",
         "offsetgroup": "yes",
         "orientation": "v",
         "showlegend": false,
         "textposition": "auto",
         "texttemplate": "%{y}",
         "type": "bar",
         "x": [
          0,
          1
         ],
         "xaxis": "x5",
         "y": [
          1734,
          310
         ],
         "yaxis": "y5"
        },
        {
         "alignmentgroup": "True",
         "hovertemplate": "value=no internet service<br>variable=deviceprotection<br>target=%{x}<br>total=%{y}<extra></extra>",
         "legendgroup": "no internet service",
         "marker": {
          "color": "#19d3f3",
          "pattern": {
           "shape": ""
          }
         },
         "name": "no internet service",
         "offsetgroup": "no internet service",
         "orientation": "v",
         "showlegend": true,
         "textposition": "auto",
         "texttemplate": "%{y}",
         "type": "bar",
         "x": [
          0,
          1
         ],
         "xaxis": "x13",
         "y": [
          1413,
          113
         ],
         "yaxis": "y13"
        },
        {
         "alignmentgroup": "True",
         "hovertemplate": "value=no internet service<br>variable=onlinebackup<br>target=%{x}<br>total=%{y}<extra></extra>",
         "legendgroup": "no internet service",
         "marker": {
          "color": "#19d3f3",
          "pattern": {
           "shape": ""
          }
         },
         "name": "no internet service",
         "offsetgroup": "no internet service",
         "orientation": "v",
         "showlegend": false,
         "textposition": "auto",
         "texttemplate": "%{y}",
         "type": "bar",
         "x": [
          0,
          1
         ],
         "xaxis": "x7",
         "y": [
          1413,
          113
         ],
         "yaxis": "y7"
        },
        {
         "alignmentgroup": "True",
         "hovertemplate": "value=no internet service<br>variable=onlinesecurity<br>target=%{x}<br>total=%{y}<extra></extra>",
         "legendgroup": "no internet service",
         "marker": {
          "color": "#19d3f3",
          "pattern": {
           "shape": ""
          }
         },
         "name": "no internet service",
         "offsetgroup": "no internet service",
         "orientation": "v",
         "showlegend": false,
         "textposition": "auto",
         "texttemplate": "%{y}",
         "type": "bar",
         "x": [
          0,
          1
         ],
         "xaxis": "x8",
         "y": [
          1413,
          113
         ],
         "yaxis": "y8"
        },
        {
         "alignmentgroup": "True",
         "hovertemplate": "value=no internet service<br>variable=streamingmovies<br>target=%{x}<br>total=%{y}<extra></extra>",
         "legendgroup": "no internet service",
         "marker": {
          "color": "#19d3f3",
          "pattern": {
           "shape": ""
          }
         },
         "name": "no internet service",
         "offsetgroup": "no internet service",
         "orientation": "v",
         "showlegend": false,
         "textposition": "auto",
         "texttemplate": "%{y}",
         "type": "bar",
         "x": [
          0,
          1
         ],
         "xaxis": "x3",
         "y": [
          1413,
          113
         ],
         "yaxis": "y3"
        },
        {
         "alignmentgroup": "True",
         "hovertemplate": "value=no internet service<br>variable=streamingtv<br>target=%{x}<br>total=%{y}<extra></extra>",
         "legendgroup": "no internet service",
         "marker": {
          "color": "#19d3f3",
          "pattern": {
           "shape": ""
          }
         },
         "name": "no internet service",
         "offsetgroup": "no internet service",
         "orientation": "v",
         "showlegend": false,
         "textposition": "auto",
         "texttemplate": "%{y}",
         "type": "bar",
         "x": [
          0,
          1
         ],
         "xaxis": "x4",
         "y": [
          1413,
          113
         ],
         "yaxis": "y4"
        },
        {
         "alignmentgroup": "True",
         "hovertemplate": "value=no internet service<br>variable=techsupport<br>target=%{x}<br>total=%{y}<extra></extra>",
         "legendgroup": "no internet service",
         "marker": {
          "color": "#19d3f3",
          "pattern": {
           "shape": ""
          }
         },
         "name": "no internet service",
         "offsetgroup": "no internet service",
         "orientation": "v",
         "showlegend": false,
         "textposition": "auto",
         "texttemplate": "%{y}",
         "type": "bar",
         "x": [
          0,
          1
         ],
         "xaxis": "x5",
         "y": [
          1413,
          113
         ],
         "yaxis": "y5"
        },
        {
         "alignmentgroup": "True",
         "hovertemplate": "value=female<br>variable=gender<br>target=%{x}<br>total=%{y}<extra></extra>",
         "legendgroup": "female",
         "marker": {
          "color": "#FF6692",
          "pattern": {
           "shape": ""
          }
         },
         "name": "female",
         "offsetgroup": "female",
         "orientation": "v",
         "showlegend": true,
         "textposition": "auto",
         "texttemplate": "%{y}",
         "type": "bar",
         "x": [
          0,
          1
         ],
         "xaxis": "x14",
         "y": [
          2549,
          939
         ],
         "yaxis": "y14"
        },
        {
         "alignmentgroup": "True",
         "hovertemplate": "value=male<br>variable=gender<br>target=%{x}<br>total=%{y}<extra></extra>",
         "legendgroup": "male",
         "marker": {
          "color": "#B6E880",
          "pattern": {
           "shape": ""
          }
         },
         "name": "male",
         "offsetgroup": "male",
         "orientation": "v",
         "showlegend": true,
         "textposition": "auto",
         "texttemplate": "%{y}",
         "type": "bar",
         "x": [
          0,
          1
         ],
         "xaxis": "x14",
         "y": [
          2625,
          930
         ],
         "yaxis": "y14"
        },
        {
         "alignmentgroup": "True",
         "hovertemplate": "value=dsl<br>variable=internetservice<br>target=%{x}<br>total=%{y}<extra></extra>",
         "legendgroup": "dsl",
         "marker": {
          "color": "#FF97FF",
          "pattern": {
           "shape": ""
          }
         },
         "name": "dsl",
         "offsetgroup": "dsl",
         "orientation": "v",
         "showlegend": true,
         "textposition": "auto",
         "texttemplate": "%{y}",
         "type": "bar",
         "x": [
          0,
          1
         ],
         "xaxis": "x15",
         "y": [
          1962,
          459
         ],
         "yaxis": "y15"
        },
        {
         "alignmentgroup": "True",
         "hovertemplate": "value=fiber optic<br>variable=internetservice<br>target=%{x}<br>total=%{y}<extra></extra>",
         "legendgroup": "fiber optic",
         "marker": {
          "color": "#FECB52",
          "pattern": {
           "shape": ""
          }
         },
         "name": "fiber optic",
         "offsetgroup": "fiber optic",
         "orientation": "v",
         "showlegend": true,
         "textposition": "auto",
         "texttemplate": "%{y}",
         "type": "bar",
         "x": [
          0,
          1
         ],
         "xaxis": "x15",
         "y": [
          1799,
          1297
         ],
         "yaxis": "y15"
        },
        {
         "alignmentgroup": "True",
         "hovertemplate": "value=no phone service<br>variable=multiplelines<br>target=%{x}<br>total=%{y}<extra></extra>",
         "legendgroup": "no phone service",
         "marker": {
          "color": "#636efa",
          "pattern": {
           "shape": ""
          }
         },
         "name": "no phone service",
         "offsetgroup": "no phone service",
         "orientation": "v",
         "showlegend": true,
         "textposition": "auto",
         "texttemplate": "%{y}",
         "type": "bar",
         "x": [
          0,
          1
         ],
         "xaxis": "x6",
         "y": [
          512,
          170
         ],
         "yaxis": "y6"
        },
        {
         "alignmentgroup": "True",
         "hovertemplate": "value=bank transfer (automatic)<br>variable=paymentmethod<br>target=%{x}<br>total=%{y}<extra></extra>",
         "legendgroup": "bank transfer (automatic)",
         "marker": {
          "color": "#EF553B",
          "pattern": {
           "shape": ""
          }
         },
         "name": "bank transfer (automatic)",
         "offsetgroup": "bank transfer (automatic)",
         "orientation": "v",
         "showlegend": true,
         "textposition": "auto",
         "texttemplate": "%{y}",
         "type": "bar",
         "x": [
          0,
          1
         ],
         "xaxis": "x",
         "y": [
          1286,
          258
         ],
         "yaxis": "y"
        },
        {
         "alignmentgroup": "True",
         "hovertemplate": "value=credit card (automatic)<br>variable=paymentmethod<br>target=%{x}<br>total=%{y}<extra></extra>",
         "legendgroup": "credit card (automatic)",
         "marker": {
          "color": "#00cc96",
          "pattern": {
           "shape": ""
          }
         },
         "name": "credit card (automatic)",
         "offsetgroup": "credit card (automatic)",
         "orientation": "v",
         "showlegend": true,
         "textposition": "auto",
         "texttemplate": "%{y}",
         "type": "bar",
         "x": [
          0,
          1
         ],
         "xaxis": "x",
         "y": [
          1290,
          232
         ],
         "yaxis": "y"
        },
        {
         "alignmentgroup": "True",
         "hovertemplate": "value=electronic check<br>variable=paymentmethod<br>target=%{x}<br>total=%{y}<extra></extra>",
         "legendgroup": "electronic check",
         "marker": {
          "color": "#ab63fa",
          "pattern": {
           "shape": ""
          }
         },
         "name": "electronic check",
         "offsetgroup": "electronic check",
         "orientation": "v",
         "showlegend": true,
         "textposition": "auto",
         "texttemplate": "%{y}",
         "type": "bar",
         "x": [
          0,
          1
         ],
         "xaxis": "x",
         "y": [
          1294,
          1071
         ],
         "yaxis": "y"
        },
        {
         "alignmentgroup": "True",
         "hovertemplate": "value=mailed check<br>variable=paymentmethod<br>target=%{x}<br>total=%{y}<extra></extra>",
         "legendgroup": "mailed check",
         "marker": {
          "color": "#FFA15A",
          "pattern": {
           "shape": ""
          }
         },
         "name": "mailed check",
         "offsetgroup": "mailed check",
         "orientation": "v",
         "showlegend": true,
         "textposition": "auto",
         "texttemplate": "%{y}",
         "type": "bar",
         "x": [
          0,
          1
         ],
         "xaxis": "x",
         "y": [
          1304,
          308
         ],
         "yaxis": "y"
        }
       ],
       "layout": {
        "annotations": [
         {
          "font": {},
          "showarrow": false,
          "text": "variable=paymentmethod",
          "x": 0.09200000000000001,
          "xanchor": "center",
          "xref": "paper",
          "y": 0.2866666666666666,
          "yanchor": "bottom",
          "yref": "paper"
         },
         {
          "font": {},
          "showarrow": false,
          "text": "variable=phoneservice",
          "x": 0.29600000000000004,
          "xanchor": "center",
          "xref": "paper",
          "y": 0.2866666666666666,
          "yanchor": "bottom",
          "yref": "paper"
         },
         {
          "font": {},
          "showarrow": false,
          "text": "variable=streamingmovies",
          "x": 0.5,
          "xanchor": "center",
          "xref": "paper",
          "y": 0.2866666666666666,
          "yanchor": "bottom",
          "yref": "paper"
         },
         {
          "font": {},
          "showarrow": false,
          "text": "variable=streamingtv",
          "x": 0.7040000000000002,
          "xanchor": "center",
          "xref": "paper",
          "y": 0.2866666666666666,
          "yanchor": "bottom",
          "yref": "paper"
         },
         {
          "font": {},
          "showarrow": false,
          "text": "variable=techsupport",
          "x": 0.908,
          "xanchor": "center",
          "xref": "paper",
          "y": 0.2866666666666666,
          "yanchor": "bottom",
          "yref": "paper"
         },
         {
          "font": {},
          "showarrow": false,
          "text": "variable=multiplelines",
          "x": 0.09200000000000001,
          "xanchor": "center",
          "xref": "paper",
          "y": 0.6433333333333333,
          "yanchor": "bottom",
          "yref": "paper"
         },
         {
          "font": {},
          "showarrow": false,
          "text": "variable=onlinebackup",
          "x": 0.29600000000000004,
          "xanchor": "center",
          "xref": "paper",
          "y": 0.6433333333333333,
          "yanchor": "bottom",
          "yref": "paper"
         },
         {
          "font": {},
          "showarrow": false,
          "text": "variable=onlinesecurity",
          "x": 0.5,
          "xanchor": "center",
          "xref": "paper",
          "y": 0.6433333333333333,
          "yanchor": "bottom",
          "yref": "paper"
         },
         {
          "font": {},
          "showarrow": false,
          "text": "variable=paperlessbilling",
          "x": 0.7040000000000002,
          "xanchor": "center",
          "xref": "paper",
          "y": 0.6433333333333333,
          "yanchor": "bottom",
          "yref": "paper"
         },
         {
          "font": {},
          "showarrow": false,
          "text": "variable=partner",
          "x": 0.908,
          "xanchor": "center",
          "xref": "paper",
          "y": 0.6433333333333333,
          "yanchor": "bottom",
          "yref": "paper"
         },
         {
          "font": {},
          "showarrow": false,
          "text": "variable=contract",
          "x": 0.09200000000000001,
          "xanchor": "center",
          "xref": "paper",
          "y": 0.9999999999999999,
          "yanchor": "bottom",
          "yref": "paper"
         },
         {
          "font": {},
          "showarrow": false,
          "text": "variable=dependents",
          "x": 0.29600000000000004,
          "xanchor": "center",
          "xref": "paper",
          "y": 0.9999999999999999,
          "yanchor": "bottom",
          "yref": "paper"
         },
         {
          "font": {},
          "showarrow": false,
          "text": "variable=deviceprotection",
          "x": 0.5,
          "xanchor": "center",
          "xref": "paper",
          "y": 0.9999999999999999,
          "yanchor": "bottom",
          "yref": "paper"
         },
         {
          "font": {},
          "showarrow": false,
          "text": "variable=gender",
          "x": 0.7040000000000002,
          "xanchor": "center",
          "xref": "paper",
          "y": 0.9999999999999999,
          "yanchor": "bottom",
          "yref": "paper"
         },
         {
          "font": {},
          "showarrow": false,
          "text": "variable=internetservice",
          "x": 0.908,
          "xanchor": "center",
          "xref": "paper",
          "y": 0.9999999999999999,
          "yanchor": "bottom",
          "yref": "paper"
         }
        ],
        "barmode": "group",
        "height": 900,
        "legend": {
         "title": {
          "text": "value"
         },
         "tracegroupgap": 0
        },
        "margin": {
         "t": 60
        },
        "template": {
         "data": {
          "bar": [
           {
            "error_x": {
             "color": "#2a3f5f"
            },
            "error_y": {
             "color": "#2a3f5f"
            },
            "marker": {
             "line": {
              "color": "#E5ECF6",
              "width": 0.5
             },
             "pattern": {
              "fillmode": "overlay",
              "size": 10,
              "solidity": 0.2
             }
            },
            "type": "bar"
           }
          ],
          "barpolar": [
           {
            "marker": {
             "line": {
              "color": "#E5ECF6",
              "width": 0.5
             },
             "pattern": {
              "fillmode": "overlay",
              "size": 10,
              "solidity": 0.2
             }
            },
            "type": "barpolar"
           }
          ],
          "carpet": [
           {
            "aaxis": {
             "endlinecolor": "#2a3f5f",
             "gridcolor": "white",
             "linecolor": "white",
             "minorgridcolor": "white",
             "startlinecolor": "#2a3f5f"
            },
            "baxis": {
             "endlinecolor": "#2a3f5f",
             "gridcolor": "white",
             "linecolor": "white",
             "minorgridcolor": "white",
             "startlinecolor": "#2a3f5f"
            },
            "type": "carpet"
           }
          ],
          "choropleth": [
           {
            "colorbar": {
             "outlinewidth": 0,
             "ticks": ""
            },
            "type": "choropleth"
           }
          ],
          "contour": [
           {
            "colorbar": {
             "outlinewidth": 0,
             "ticks": ""
            },
            "colorscale": [
             [
              0,
              "#0d0887"
             ],
             [
              0.1111111111111111,
              "#46039f"
             ],
             [
              0.2222222222222222,
              "#7201a8"
             ],
             [
              0.3333333333333333,
              "#9c179e"
             ],
             [
              0.4444444444444444,
              "#bd3786"
             ],
             [
              0.5555555555555556,
              "#d8576b"
             ],
             [
              0.6666666666666666,
              "#ed7953"
             ],
             [
              0.7777777777777778,
              "#fb9f3a"
             ],
             [
              0.8888888888888888,
              "#fdca26"
             ],
             [
              1,
              "#f0f921"
             ]
            ],
            "type": "contour"
           }
          ],
          "contourcarpet": [
           {
            "colorbar": {
             "outlinewidth": 0,
             "ticks": ""
            },
            "type": "contourcarpet"
           }
          ],
          "heatmap": [
           {
            "colorbar": {
             "outlinewidth": 0,
             "ticks": ""
            },
            "colorscale": [
             [
              0,
              "#0d0887"
             ],
             [
              0.1111111111111111,
              "#46039f"
             ],
             [
              0.2222222222222222,
              "#7201a8"
             ],
             [
              0.3333333333333333,
              "#9c179e"
             ],
             [
              0.4444444444444444,
              "#bd3786"
             ],
             [
              0.5555555555555556,
              "#d8576b"
             ],
             [
              0.6666666666666666,
              "#ed7953"
             ],
             [
              0.7777777777777778,
              "#fb9f3a"
             ],
             [
              0.8888888888888888,
              "#fdca26"
             ],
             [
              1,
              "#f0f921"
             ]
            ],
            "type": "heatmap"
           }
          ],
          "heatmapgl": [
           {
            "colorbar": {
             "outlinewidth": 0,
             "ticks": ""
            },
            "colorscale": [
             [
              0,
              "#0d0887"
             ],
             [
              0.1111111111111111,
              "#46039f"
             ],
             [
              0.2222222222222222,
              "#7201a8"
             ],
             [
              0.3333333333333333,
              "#9c179e"
             ],
             [
              0.4444444444444444,
              "#bd3786"
             ],
             [
              0.5555555555555556,
              "#d8576b"
             ],
             [
              0.6666666666666666,
              "#ed7953"
             ],
             [
              0.7777777777777778,
              "#fb9f3a"
             ],
             [
              0.8888888888888888,
              "#fdca26"
             ],
             [
              1,
              "#f0f921"
             ]
            ],
            "type": "heatmapgl"
           }
          ],
          "histogram": [
           {
            "marker": {
             "pattern": {
              "fillmode": "overlay",
              "size": 10,
              "solidity": 0.2
             }
            },
            "type": "histogram"
           }
          ],
          "histogram2d": [
           {
            "colorbar": {
             "outlinewidth": 0,
             "ticks": ""
            },
            "colorscale": [
             [
              0,
              "#0d0887"
             ],
             [
              0.1111111111111111,
              "#46039f"
             ],
             [
              0.2222222222222222,
              "#7201a8"
             ],
             [
              0.3333333333333333,
              "#9c179e"
             ],
             [
              0.4444444444444444,
              "#bd3786"
             ],
             [
              0.5555555555555556,
              "#d8576b"
             ],
             [
              0.6666666666666666,
              "#ed7953"
             ],
             [
              0.7777777777777778,
              "#fb9f3a"
             ],
             [
              0.8888888888888888,
              "#fdca26"
             ],
             [
              1,
              "#f0f921"
             ]
            ],
            "type": "histogram2d"
           }
          ],
          "histogram2dcontour": [
           {
            "colorbar": {
             "outlinewidth": 0,
             "ticks": ""
            },
            "colorscale": [
             [
              0,
              "#0d0887"
             ],
             [
              0.1111111111111111,
              "#46039f"
             ],
             [
              0.2222222222222222,
              "#7201a8"
             ],
             [
              0.3333333333333333,
              "#9c179e"
             ],
             [
              0.4444444444444444,
              "#bd3786"
             ],
             [
              0.5555555555555556,
              "#d8576b"
             ],
             [
              0.6666666666666666,
              "#ed7953"
             ],
             [
              0.7777777777777778,
              "#fb9f3a"
             ],
             [
              0.8888888888888888,
              "#fdca26"
             ],
             [
              1,
              "#f0f921"
             ]
            ],
            "type": "histogram2dcontour"
           }
          ],
          "mesh3d": [
           {
            "colorbar": {
             "outlinewidth": 0,
             "ticks": ""
            },
            "type": "mesh3d"
           }
          ],
          "parcoords": [
           {
            "line": {
             "colorbar": {
              "outlinewidth": 0,
              "ticks": ""
             }
            },
            "type": "parcoords"
           }
          ],
          "pie": [
           {
            "automargin": true,
            "type": "pie"
           }
          ],
          "scatter": [
           {
            "fillpattern": {
             "fillmode": "overlay",
             "size": 10,
             "solidity": 0.2
            },
            "type": "scatter"
           }
          ],
          "scatter3d": [
           {
            "line": {
             "colorbar": {
              "outlinewidth": 0,
              "ticks": ""
             }
            },
            "marker": {
             "colorbar": {
              "outlinewidth": 0,
              "ticks": ""
             }
            },
            "type": "scatter3d"
           }
          ],
          "scattercarpet": [
           {
            "marker": {
             "colorbar": {
              "outlinewidth": 0,
              "ticks": ""
             }
            },
            "type": "scattercarpet"
           }
          ],
          "scattergeo": [
           {
            "marker": {
             "colorbar": {
              "outlinewidth": 0,
              "ticks": ""
             }
            },
            "type": "scattergeo"
           }
          ],
          "scattergl": [
           {
            "marker": {
             "colorbar": {
              "outlinewidth": 0,
              "ticks": ""
             }
            },
            "type": "scattergl"
           }
          ],
          "scattermapbox": [
           {
            "marker": {
             "colorbar": {
              "outlinewidth": 0,
              "ticks": ""
             }
            },
            "type": "scattermapbox"
           }
          ],
          "scatterpolar": [
           {
            "marker": {
             "colorbar": {
              "outlinewidth": 0,
              "ticks": ""
             }
            },
            "type": "scatterpolar"
           }
          ],
          "scatterpolargl": [
           {
            "marker": {
             "colorbar": {
              "outlinewidth": 0,
              "ticks": ""
             }
            },
            "type": "scatterpolargl"
           }
          ],
          "scatterternary": [
           {
            "marker": {
             "colorbar": {
              "outlinewidth": 0,
              "ticks": ""
             }
            },
            "type": "scatterternary"
           }
          ],
          "surface": [
           {
            "colorbar": {
             "outlinewidth": 0,
             "ticks": ""
            },
            "colorscale": [
             [
              0,
              "#0d0887"
             ],
             [
              0.1111111111111111,
              "#46039f"
             ],
             [
              0.2222222222222222,
              "#7201a8"
             ],
             [
              0.3333333333333333,
              "#9c179e"
             ],
             [
              0.4444444444444444,
              "#bd3786"
             ],
             [
              0.5555555555555556,
              "#d8576b"
             ],
             [
              0.6666666666666666,
              "#ed7953"
             ],
             [
              0.7777777777777778,
              "#fb9f3a"
             ],
             [
              0.8888888888888888,
              "#fdca26"
             ],
             [
              1,
              "#f0f921"
             ]
            ],
            "type": "surface"
           }
          ],
          "table": [
           {
            "cells": {
             "fill": {
              "color": "#EBF0F8"
             },
             "line": {
              "color": "white"
             }
            },
            "header": {
             "fill": {
              "color": "#C8D4E3"
             },
             "line": {
              "color": "white"
             }
            },
            "type": "table"
           }
          ]
         },
         "layout": {
          "annotationdefaults": {
           "arrowcolor": "#2a3f5f",
           "arrowhead": 0,
           "arrowwidth": 1
          },
          "autotypenumbers": "strict",
          "coloraxis": {
           "colorbar": {
            "outlinewidth": 0,
            "ticks": ""
           }
          },
          "colorscale": {
           "diverging": [
            [
             0,
             "#8e0152"
            ],
            [
             0.1,
             "#c51b7d"
            ],
            [
             0.2,
             "#de77ae"
            ],
            [
             0.3,
             "#f1b6da"
            ],
            [
             0.4,
             "#fde0ef"
            ],
            [
             0.5,
             "#f7f7f7"
            ],
            [
             0.6,
             "#e6f5d0"
            ],
            [
             0.7,
             "#b8e186"
            ],
            [
             0.8,
             "#7fbc41"
            ],
            [
             0.9,
             "#4d9221"
            ],
            [
             1,
             "#276419"
            ]
           ],
           "sequential": [
            [
             0,
             "#0d0887"
            ],
            [
             0.1111111111111111,
             "#46039f"
            ],
            [
             0.2222222222222222,
             "#7201a8"
            ],
            [
             0.3333333333333333,
             "#9c179e"
            ],
            [
             0.4444444444444444,
             "#bd3786"
            ],
            [
             0.5555555555555556,
             "#d8576b"
            ],
            [
             0.6666666666666666,
             "#ed7953"
            ],
            [
             0.7777777777777778,
             "#fb9f3a"
            ],
            [
             0.8888888888888888,
             "#fdca26"
            ],
            [
             1,
             "#f0f921"
            ]
           ],
           "sequentialminus": [
            [
             0,
             "#0d0887"
            ],
            [
             0.1111111111111111,
             "#46039f"
            ],
            [
             0.2222222222222222,
             "#7201a8"
            ],
            [
             0.3333333333333333,
             "#9c179e"
            ],
            [
             0.4444444444444444,
             "#bd3786"
            ],
            [
             0.5555555555555556,
             "#d8576b"
            ],
            [
             0.6666666666666666,
             "#ed7953"
            ],
            [
             0.7777777777777778,
             "#fb9f3a"
            ],
            [
             0.8888888888888888,
             "#fdca26"
            ],
            [
             1,
             "#f0f921"
            ]
           ]
          },
          "colorway": [
           "#636efa",
           "#EF553B",
           "#00cc96",
           "#ab63fa",
           "#FFA15A",
           "#19d3f3",
           "#FF6692",
           "#B6E880",
           "#FF97FF",
           "#FECB52"
          ],
          "font": {
           "color": "#2a3f5f"
          },
          "geo": {
           "bgcolor": "white",
           "lakecolor": "white",
           "landcolor": "#E5ECF6",
           "showlakes": true,
           "showland": true,
           "subunitcolor": "white"
          },
          "hoverlabel": {
           "align": "left"
          },
          "hovermode": "closest",
          "mapbox": {
           "style": "light"
          },
          "paper_bgcolor": "white",
          "plot_bgcolor": "#E5ECF6",
          "polar": {
           "angularaxis": {
            "gridcolor": "white",
            "linecolor": "white",
            "ticks": ""
           },
           "bgcolor": "#E5ECF6",
           "radialaxis": {
            "gridcolor": "white",
            "linecolor": "white",
            "ticks": ""
           }
          },
          "scene": {
           "xaxis": {
            "backgroundcolor": "#E5ECF6",
            "gridcolor": "white",
            "gridwidth": 2,
            "linecolor": "white",
            "showbackground": true,
            "ticks": "",
            "zerolinecolor": "white"
           },
           "yaxis": {
            "backgroundcolor": "#E5ECF6",
            "gridcolor": "white",
            "gridwidth": 2,
            "linecolor": "white",
            "showbackground": true,
            "ticks": "",
            "zerolinecolor": "white"
           },
           "zaxis": {
            "backgroundcolor": "#E5ECF6",
            "gridcolor": "white",
            "gridwidth": 2,
            "linecolor": "white",
            "showbackground": true,
            "ticks": "",
            "zerolinecolor": "white"
           }
          },
          "shapedefaults": {
           "line": {
            "color": "#2a3f5f"
           }
          },
          "ternary": {
           "aaxis": {
            "gridcolor": "white",
            "linecolor": "white",
            "ticks": ""
           },
           "baxis": {
            "gridcolor": "white",
            "linecolor": "white",
            "ticks": ""
           },
           "bgcolor": "#E5ECF6",
           "caxis": {
            "gridcolor": "white",
            "linecolor": "white",
            "ticks": ""
           }
          },
          "title": {
           "x": 0.05
          },
          "xaxis": {
           "automargin": true,
           "gridcolor": "white",
           "linecolor": "white",
           "ticks": "",
           "title": {
            "standoff": 15
           },
           "zerolinecolor": "white",
           "zerolinewidth": 2
          },
          "yaxis": {
           "automargin": true,
           "gridcolor": "white",
           "linecolor": "white",
           "ticks": "",
           "title": {
            "standoff": 15
           },
           "zerolinecolor": "white",
           "zerolinewidth": 2
          }
         }
        },
        "xaxis": {
         "anchor": "y",
         "domain": [
          0,
          0.18400000000000002
         ],
         "title": {
          "text": "target"
         }
        },
        "xaxis10": {
         "anchor": "y10",
         "domain": [
          0.8160000000000001,
          1
         ],
         "showticklabels": false
        },
        "xaxis11": {
         "anchor": "y11",
         "domain": [
          0,
          0.18400000000000002
         ],
         "showticklabels": false
        },
        "xaxis12": {
         "anchor": "y12",
         "domain": [
          0.20400000000000001,
          0.388
         ],
         "showticklabels": false
        },
        "xaxis13": {
         "anchor": "y13",
         "domain": [
          0.40800000000000003,
          0.5920000000000001
         ],
         "showticklabels": false
        },
        "xaxis14": {
         "anchor": "y14",
         "domain": [
          0.6120000000000001,
          0.7960000000000002
         ],
         "showticklabels": false
        },
        "xaxis15": {
         "anchor": "y15",
         "domain": [
          0.8160000000000001,
          1
         ],
         "showticklabels": false
        },
        "xaxis2": {
         "anchor": "y2",
         "domain": [
          0.20400000000000001,
          0.388
         ],
         "title": {
          "text": "target"
         }
        },
        "xaxis3": {
         "anchor": "y3",
         "domain": [
          0.40800000000000003,
          0.5920000000000001
         ],
         "title": {
          "text": "target"
         }
        },
        "xaxis4": {
         "anchor": "y4",
         "domain": [
          0.6120000000000001,
          0.7960000000000002
         ],
         "title": {
          "text": "target"
         }
        },
        "xaxis5": {
         "anchor": "y5",
         "domain": [
          0.8160000000000001,
          1
         ],
         "title": {
          "text": "target"
         }
        },
        "xaxis6": {
         "anchor": "y6",
         "domain": [
          0,
          0.18400000000000002
         ],
         "showticklabels": false
        },
        "xaxis7": {
         "anchor": "y7",
         "domain": [
          0.20400000000000001,
          0.388
         ],
         "showticklabels": false
        },
        "xaxis8": {
         "anchor": "y8",
         "domain": [
          0.40800000000000003,
          0.5920000000000001
         ],
         "showticklabels": false
        },
        "xaxis9": {
         "anchor": "y9",
         "domain": [
          0.6120000000000001,
          0.7960000000000002
         ],
         "showticklabels": false
        },
        "yaxis": {
         "anchor": "x",
         "domain": [
          0,
          0.2866666666666666
         ],
         "showticklabels": true,
         "title": {
          "text": "total"
         }
        },
        "yaxis10": {
         "anchor": "x10",
         "domain": [
          0.35666666666666663,
          0.6433333333333333
         ],
         "showticklabels": true
        },
        "yaxis11": {
         "anchor": "x11",
         "domain": [
          0.7133333333333333,
          0.9999999999999999
         ],
         "showticklabels": true,
         "title": {
          "text": "total"
         }
        },
        "yaxis12": {
         "anchor": "x12",
         "domain": [
          0.7133333333333333,
          0.9999999999999999
         ],
         "showticklabels": true
        },
        "yaxis13": {
         "anchor": "x13",
         "domain": [
          0.7133333333333333,
          0.9999999999999999
         ],
         "showticklabels": true
        },
        "yaxis14": {
         "anchor": "x14",
         "domain": [
          0.7133333333333333,
          0.9999999999999999
         ],
         "showticklabels": true
        },
        "yaxis15": {
         "anchor": "x15",
         "domain": [
          0.7133333333333333,
          0.9999999999999999
         ],
         "showticklabels": true
        },
        "yaxis2": {
         "anchor": "x2",
         "domain": [
          0,
          0.2866666666666666
         ],
         "showticklabels": true
        },
        "yaxis3": {
         "anchor": "x3",
         "domain": [
          0,
          0.2866666666666666
         ],
         "showticklabels": true
        },
        "yaxis4": {
         "anchor": "x4",
         "domain": [
          0,
          0.2866666666666666
         ],
         "showticklabels": true
        },
        "yaxis5": {
         "anchor": "x5",
         "domain": [
          0,
          0.2866666666666666
         ],
         "showticklabels": true
        },
        "yaxis6": {
         "anchor": "x6",
         "domain": [
          0.35666666666666663,
          0.6433333333333333
         ],
         "showticklabels": true,
         "title": {
          "text": "total"
         }
        },
        "yaxis7": {
         "anchor": "x7",
         "domain": [
          0.35666666666666663,
          0.6433333333333333
         ],
         "showticklabels": true
        },
        "yaxis8": {
         "anchor": "x8",
         "domain": [
          0.35666666666666663,
          0.6433333333333333
         ],
         "showticklabels": true
        },
        "yaxis9": {
         "anchor": "x9",
         "domain": [
          0.35666666666666663,
          0.6433333333333333
         ],
         "showticklabels": true
        }
       }
      }
     },
     "metadata": {},
     "output_type": "display_data"
    }
   ],
   "source": [
    "(\n",
    "    df.melt(id_vars= [\"target\", \"totalcharges\"],value_vars= cat_cols)\n",
    "    .groupby([\"target\", \"variable\", \"value\"])\n",
    "    .agg(total = pd.NamedAgg( \"target\",\"count\"))\n",
    "    .reset_index()\n",
    "    .plot.bar(x= \"target\", y= \"total\", color=\"value\", facet_col=\"variable\",facet_col_wrap= 5 ,   barmode= \"group\", height= 900, text_auto =True)\n",
    "    .update_yaxes(matches =None,showticklabels=True)\n",
    "    .update_xaxes(matches = None)    \n",
    ")"
   ]
  },
  {
   "cell_type": "markdown",
   "id": "fa682df0",
   "metadata": {},
   "source": [
    "From the plot above it seems like the gender feature is the least important as the the churn ratios are pretty much the same for male and female"
   ]
  },
  {
   "attachments": {},
   "cell_type": "markdown",
   "id": "c629b071",
   "metadata": {},
   "source": [
    "## Risk Ratios"
   ]
  },
  {
   "attachments": {},
   "cell_type": "markdown",
   "id": "ee4823de",
   "metadata": {},
   "source": [
    "we can calculate the mean value of target variable gouping by the vategorical variables and calculate the risk values as shows in the table below. We can use these risk values as indicators of how likely a customer is to churn. \n",
    "\n",
    "* Positive risk ratio mean higher risk and negative means lower risk\n",
    "* -negative values magnitude tells us that this category is least likely to leave\n",
    "* positive values magnitude tells us that this category is most likely to leave\n",
    "* the risk ratio for female and male is closer to 1 and it means that being male or female is not making much of difference"
   ]
  },
  {
   "cell_type": "code",
   "execution_count": 12,
   "id": "bbf3967f",
   "metadata": {},
   "outputs": [
    {
     "data": {
      "text/html": [
       "<div>\n",
       "<style scoped>\n",
       "    .dataframe tbody tr th:only-of-type {\n",
       "        vertical-align: middle;\n",
       "    }\n",
       "\n",
       "    .dataframe tbody tr th {\n",
       "        vertical-align: top;\n",
       "    }\n",
       "\n",
       "    .dataframe thead th {\n",
       "        text-align: right;\n",
       "    }\n",
       "</style>\n",
       "<table border=\"1\" class=\"dataframe\">\n",
       "  <thead>\n",
       "    <tr style=\"text-align: right;\">\n",
       "      <th></th>\n",
       "      <th>variable</th>\n",
       "      <th>value</th>\n",
       "      <th>total</th>\n",
       "      <th>churn_diff</th>\n",
       "      <th>risk_ratio</th>\n",
       "      <th>high_low_risk</th>\n",
       "    </tr>\n",
       "  </thead>\n",
       "  <tbody>\n",
       "    <tr>\n",
       "      <th>28</th>\n",
       "      <td>paymentmethod</td>\n",
       "      <td>electronic ...</td>\n",
       "      <td>0.452854</td>\n",
       "      <td>0.187484</td>\n",
       "      <td>1.706502</td>\n",
       "      <td>0.706502</td>\n",
       "    </tr>\n",
       "    <tr>\n",
       "      <th>0</th>\n",
       "      <td>contract</td>\n",
       "      <td>month-to-month</td>\n",
       "      <td>0.427097</td>\n",
       "      <td>0.161727</td>\n",
       "      <td>1.609440</td>\n",
       "      <td>0.609440</td>\n",
       "    </tr>\n",
       "    <tr>\n",
       "      <th>11</th>\n",
       "      <td>internetser...</td>\n",
       "      <td>fiber optic</td>\n",
       "      <td>0.418928</td>\n",
       "      <td>0.153558</td>\n",
       "      <td>1.578656</td>\n",
       "      <td>0.578656</td>\n",
       "    </tr>\n",
       "    <tr>\n",
       "      <th>19</th>\n",
       "      <td>onlinesecurity</td>\n",
       "      <td>no</td>\n",
       "      <td>0.417667</td>\n",
       "      <td>0.152297</td>\n",
       "      <td>1.573906</td>\n",
       "      <td>0.573906</td>\n",
       "    </tr>\n",
       "    <tr>\n",
       "      <th>38</th>\n",
       "      <td>techsupport</td>\n",
       "      <td>no</td>\n",
       "      <td>0.416355</td>\n",
       "      <td>0.150985</td>\n",
       "      <td>1.568960</td>\n",
       "      <td>0.568960</td>\n",
       "    </tr>\n",
       "    <tr>\n",
       "      <th>16</th>\n",
       "      <td>onlinebackup</td>\n",
       "      <td>no</td>\n",
       "      <td>0.399288</td>\n",
       "      <td>0.133918</td>\n",
       "      <td>1.504645</td>\n",
       "      <td>0.504645</td>\n",
       "    </tr>\n",
       "    <tr>\n",
       "      <th>5</th>\n",
       "      <td>deviceprote...</td>\n",
       "      <td>no</td>\n",
       "      <td>0.391276</td>\n",
       "      <td>0.125906</td>\n",
       "      <td>1.474456</td>\n",
       "      <td>0.474456</td>\n",
       "    </tr>\n",
       "    <tr>\n",
       "      <th>32</th>\n",
       "      <td>streamingmo...</td>\n",
       "      <td>no</td>\n",
       "      <td>0.336804</td>\n",
       "      <td>0.071434</td>\n",
       "      <td>1.269188</td>\n",
       "      <td>0.269188</td>\n",
       "    </tr>\n",
       "    <tr>\n",
       "      <th>23</th>\n",
       "      <td>paperlessbi...</td>\n",
       "      <td>yes</td>\n",
       "      <td>0.335651</td>\n",
       "      <td>0.070281</td>\n",
       "      <td>1.264842</td>\n",
       "      <td>0.264842</td>\n",
       "    </tr>\n",
       "    <tr>\n",
       "      <th>35</th>\n",
       "      <td>streamingtv</td>\n",
       "      <td>no</td>\n",
       "      <td>0.335231</td>\n",
       "      <td>0.069861</td>\n",
       "      <td>1.263261</td>\n",
       "      <td>0.263261</td>\n",
       "    </tr>\n",
       "    <tr>\n",
       "      <th>24</th>\n",
       "      <td>partner</td>\n",
       "      <td>no</td>\n",
       "      <td>0.329580</td>\n",
       "      <td>0.064210</td>\n",
       "      <td>1.241964</td>\n",
       "      <td>0.241964</td>\n",
       "    </tr>\n",
       "    <tr>\n",
       "      <th>3</th>\n",
       "      <td>dependents</td>\n",
       "      <td>no</td>\n",
       "      <td>0.312791</td>\n",
       "      <td>0.047422</td>\n",
       "      <td>1.178700</td>\n",
       "      <td>0.178700</td>\n",
       "    </tr>\n",
       "    <tr>\n",
       "      <th>37</th>\n",
       "      <td>streamingtv</td>\n",
       "      <td>yes</td>\n",
       "      <td>0.300702</td>\n",
       "      <td>0.035332</td>\n",
       "      <td>1.133143</td>\n",
       "      <td>0.133143</td>\n",
       "    </tr>\n",
       "    <tr>\n",
       "      <th>34</th>\n",
       "      <td>streamingmo...</td>\n",
       "      <td>yes</td>\n",
       "      <td>0.299414</td>\n",
       "      <td>0.034044</td>\n",
       "      <td>1.128291</td>\n",
       "      <td>0.128291</td>\n",
       "    </tr>\n",
       "    <tr>\n",
       "      <th>15</th>\n",
       "      <td>multiplelines</td>\n",
       "      <td>yes</td>\n",
       "      <td>0.286099</td>\n",
       "      <td>0.020729</td>\n",
       "      <td>1.078114</td>\n",
       "      <td>0.078114</td>\n",
       "    </tr>\n",
       "    <tr>\n",
       "      <th>8</th>\n",
       "      <td>gender</td>\n",
       "      <td>female</td>\n",
       "      <td>0.269209</td>\n",
       "      <td>0.003839</td>\n",
       "      <td>1.014466</td>\n",
       "      <td>0.014466</td>\n",
       "    </tr>\n",
       "    <tr>\n",
       "      <th>31</th>\n",
       "      <td>phoneservice</td>\n",
       "      <td>yes</td>\n",
       "      <td>0.267096</td>\n",
       "      <td>0.001726</td>\n",
       "      <td>1.006506</td>\n",
       "      <td>0.006506</td>\n",
       "    </tr>\n",
       "    <tr>\n",
       "      <th>9</th>\n",
       "      <td>gender</td>\n",
       "      <td>male</td>\n",
       "      <td>0.261603</td>\n",
       "      <td>-0.003766</td>\n",
       "      <td>0.985807</td>\n",
       "      <td>-0.014193</td>\n",
       "    </tr>\n",
       "    <tr>\n",
       "      <th>13</th>\n",
       "      <td>multiplelines</td>\n",
       "      <td>no</td>\n",
       "      <td>0.250442</td>\n",
       "      <td>-0.014927</td>\n",
       "      <td>0.943749</td>\n",
       "      <td>-0.056251</td>\n",
       "    </tr>\n",
       "    <tr>\n",
       "      <th>30</th>\n",
       "      <td>phoneservice</td>\n",
       "      <td>no</td>\n",
       "      <td>0.249267</td>\n",
       "      <td>-0.016103</td>\n",
       "      <td>0.939319</td>\n",
       "      <td>-0.060681</td>\n",
       "    </tr>\n",
       "    <tr>\n",
       "      <th>14</th>\n",
       "      <td>multiplelines</td>\n",
       "      <td>no phone se...</td>\n",
       "      <td>0.249267</td>\n",
       "      <td>-0.016103</td>\n",
       "      <td>0.939319</td>\n",
       "      <td>-0.060681</td>\n",
       "    </tr>\n",
       "    <tr>\n",
       "      <th>7</th>\n",
       "      <td>deviceprote...</td>\n",
       "      <td>yes</td>\n",
       "      <td>0.225021</td>\n",
       "      <td>-0.040349</td>\n",
       "      <td>0.847951</td>\n",
       "      <td>-0.152049</td>\n",
       "    </tr>\n",
       "    <tr>\n",
       "      <th>18</th>\n",
       "      <td>onlinebackup</td>\n",
       "      <td>yes</td>\n",
       "      <td>0.215315</td>\n",
       "      <td>-0.050055</td>\n",
       "      <td>0.811377</td>\n",
       "      <td>-0.188623</td>\n",
       "    </tr>\n",
       "    <tr>\n",
       "      <th>25</th>\n",
       "      <td>partner</td>\n",
       "      <td>yes</td>\n",
       "      <td>0.196649</td>\n",
       "      <td>-0.068721</td>\n",
       "      <td>0.741038</td>\n",
       "      <td>-0.258962</td>\n",
       "    </tr>\n",
       "    <tr>\n",
       "      <th>29</th>\n",
       "      <td>paymentmethod</td>\n",
       "      <td>mailed check</td>\n",
       "      <td>0.191067</td>\n",
       "      <td>-0.074303</td>\n",
       "      <td>0.720003</td>\n",
       "      <td>-0.279997</td>\n",
       "    </tr>\n",
       "    <tr>\n",
       "      <th>10</th>\n",
       "      <td>internetser...</td>\n",
       "      <td>dsl</td>\n",
       "      <td>0.189591</td>\n",
       "      <td>-0.075779</td>\n",
       "      <td>0.714441</td>\n",
       "      <td>-0.285559</td>\n",
       "    </tr>\n",
       "    <tr>\n",
       "      <th>26</th>\n",
       "      <td>paymentmethod</td>\n",
       "      <td>bank transf...</td>\n",
       "      <td>0.167098</td>\n",
       "      <td>-0.098271</td>\n",
       "      <td>0.629681</td>\n",
       "      <td>-0.370319</td>\n",
       "    </tr>\n",
       "    <tr>\n",
       "      <th>22</th>\n",
       "      <td>paperlessbi...</td>\n",
       "      <td>no</td>\n",
       "      <td>0.163301</td>\n",
       "      <td>-0.102069</td>\n",
       "      <td>0.615371</td>\n",
       "      <td>-0.384629</td>\n",
       "    </tr>\n",
       "    <tr>\n",
       "      <th>4</th>\n",
       "      <td>dependents</td>\n",
       "      <td>yes</td>\n",
       "      <td>0.154502</td>\n",
       "      <td>-0.110868</td>\n",
       "      <td>0.582215</td>\n",
       "      <td>-0.417785</td>\n",
       "    </tr>\n",
       "    <tr>\n",
       "      <th>27</th>\n",
       "      <td>paymentmethod</td>\n",
       "      <td>credit card...</td>\n",
       "      <td>0.152431</td>\n",
       "      <td>-0.112939</td>\n",
       "      <td>0.574410</td>\n",
       "      <td>-0.425590</td>\n",
       "    </tr>\n",
       "    <tr>\n",
       "      <th>40</th>\n",
       "      <td>techsupport</td>\n",
       "      <td>yes</td>\n",
       "      <td>0.151663</td>\n",
       "      <td>-0.113706</td>\n",
       "      <td>0.571517</td>\n",
       "      <td>-0.428483</td>\n",
       "    </tr>\n",
       "    <tr>\n",
       "      <th>21</th>\n",
       "      <td>onlinesecurity</td>\n",
       "      <td>yes</td>\n",
       "      <td>0.146112</td>\n",
       "      <td>-0.119258</td>\n",
       "      <td>0.550597</td>\n",
       "      <td>-0.449403</td>\n",
       "    </tr>\n",
       "    <tr>\n",
       "      <th>1</th>\n",
       "      <td>contract</td>\n",
       "      <td>one year</td>\n",
       "      <td>0.112695</td>\n",
       "      <td>-0.152675</td>\n",
       "      <td>0.424672</td>\n",
       "      <td>-0.575328</td>\n",
       "    </tr>\n",
       "    <tr>\n",
       "      <th>33</th>\n",
       "      <td>streamingmo...</td>\n",
       "      <td>no internet...</td>\n",
       "      <td>0.074050</td>\n",
       "      <td>-0.191320</td>\n",
       "      <td>0.279044</td>\n",
       "      <td>-0.720956</td>\n",
       "    </tr>\n",
       "    <tr>\n",
       "      <th>17</th>\n",
       "      <td>onlinebackup</td>\n",
       "      <td>no internet...</td>\n",
       "      <td>0.074050</td>\n",
       "      <td>-0.191320</td>\n",
       "      <td>0.279044</td>\n",
       "      <td>-0.720956</td>\n",
       "    </tr>\n",
       "    <tr>\n",
       "      <th>12</th>\n",
       "      <td>internetser...</td>\n",
       "      <td>no</td>\n",
       "      <td>0.074050</td>\n",
       "      <td>-0.191320</td>\n",
       "      <td>0.279044</td>\n",
       "      <td>-0.720956</td>\n",
       "    </tr>\n",
       "    <tr>\n",
       "      <th>36</th>\n",
       "      <td>streamingtv</td>\n",
       "      <td>no internet...</td>\n",
       "      <td>0.074050</td>\n",
       "      <td>-0.191320</td>\n",
       "      <td>0.279044</td>\n",
       "      <td>-0.720956</td>\n",
       "    </tr>\n",
       "    <tr>\n",
       "      <th>6</th>\n",
       "      <td>deviceprote...</td>\n",
       "      <td>no internet...</td>\n",
       "      <td>0.074050</td>\n",
       "      <td>-0.191320</td>\n",
       "      <td>0.279044</td>\n",
       "      <td>-0.720956</td>\n",
       "    </tr>\n",
       "    <tr>\n",
       "      <th>39</th>\n",
       "      <td>techsupport</td>\n",
       "      <td>no internet...</td>\n",
       "      <td>0.074050</td>\n",
       "      <td>-0.191320</td>\n",
       "      <td>0.279044</td>\n",
       "      <td>-0.720956</td>\n",
       "    </tr>\n",
       "    <tr>\n",
       "      <th>20</th>\n",
       "      <td>onlinesecurity</td>\n",
       "      <td>no internet...</td>\n",
       "      <td>0.074050</td>\n",
       "      <td>-0.191320</td>\n",
       "      <td>0.279044</td>\n",
       "      <td>-0.720956</td>\n",
       "    </tr>\n",
       "    <tr>\n",
       "      <th>2</th>\n",
       "      <td>contract</td>\n",
       "      <td>two year</td>\n",
       "      <td>0.028319</td>\n",
       "      <td>-0.237051</td>\n",
       "      <td>0.106714</td>\n",
       "      <td>-0.893286</td>\n",
       "    </tr>\n",
       "  </tbody>\n",
       "</table>\n",
       "</div>"
      ],
      "text/plain": [
       "          variable           value     total  churn_diff  risk_ratio  \\\n",
       "28   paymentmethod  electronic ...  0.452854    0.187484    1.706502   \n",
       "0         contract  month-to-month  0.427097    0.161727    1.609440   \n",
       "11  internetser...     fiber optic  0.418928    0.153558    1.578656   \n",
       "19  onlinesecurity              no  0.417667    0.152297    1.573906   \n",
       "38     techsupport              no  0.416355    0.150985    1.568960   \n",
       "16    onlinebackup              no  0.399288    0.133918    1.504645   \n",
       "5   deviceprote...              no  0.391276    0.125906    1.474456   \n",
       "32  streamingmo...              no  0.336804    0.071434    1.269188   \n",
       "23  paperlessbi...             yes  0.335651    0.070281    1.264842   \n",
       "35     streamingtv              no  0.335231    0.069861    1.263261   \n",
       "24         partner              no  0.329580    0.064210    1.241964   \n",
       "3       dependents              no  0.312791    0.047422    1.178700   \n",
       "37     streamingtv             yes  0.300702    0.035332    1.133143   \n",
       "34  streamingmo...             yes  0.299414    0.034044    1.128291   \n",
       "15   multiplelines             yes  0.286099    0.020729    1.078114   \n",
       "8           gender          female  0.269209    0.003839    1.014466   \n",
       "31    phoneservice             yes  0.267096    0.001726    1.006506   \n",
       "9           gender            male  0.261603   -0.003766    0.985807   \n",
       "13   multiplelines              no  0.250442   -0.014927    0.943749   \n",
       "30    phoneservice              no  0.249267   -0.016103    0.939319   \n",
       "14   multiplelines  no phone se...  0.249267   -0.016103    0.939319   \n",
       "7   deviceprote...             yes  0.225021   -0.040349    0.847951   \n",
       "18    onlinebackup             yes  0.215315   -0.050055    0.811377   \n",
       "25         partner             yes  0.196649   -0.068721    0.741038   \n",
       "29   paymentmethod    mailed check  0.191067   -0.074303    0.720003   \n",
       "10  internetser...             dsl  0.189591   -0.075779    0.714441   \n",
       "26   paymentmethod  bank transf...  0.167098   -0.098271    0.629681   \n",
       "22  paperlessbi...              no  0.163301   -0.102069    0.615371   \n",
       "4       dependents             yes  0.154502   -0.110868    0.582215   \n",
       "27   paymentmethod  credit card...  0.152431   -0.112939    0.574410   \n",
       "40     techsupport             yes  0.151663   -0.113706    0.571517   \n",
       "21  onlinesecurity             yes  0.146112   -0.119258    0.550597   \n",
       "1         contract        one year  0.112695   -0.152675    0.424672   \n",
       "33  streamingmo...  no internet...  0.074050   -0.191320    0.279044   \n",
       "17    onlinebackup  no internet...  0.074050   -0.191320    0.279044   \n",
       "12  internetser...              no  0.074050   -0.191320    0.279044   \n",
       "36     streamingtv  no internet...  0.074050   -0.191320    0.279044   \n",
       "6   deviceprote...  no internet...  0.074050   -0.191320    0.279044   \n",
       "39     techsupport  no internet...  0.074050   -0.191320    0.279044   \n",
       "20  onlinesecurity  no internet...  0.074050   -0.191320    0.279044   \n",
       "2         contract        two year  0.028319   -0.237051    0.106714   \n",
       "\n",
       "    high_low_risk  \n",
       "28       0.706502  \n",
       "0        0.609440  \n",
       "11       0.578656  \n",
       "19       0.573906  \n",
       "38       0.568960  \n",
       "16       0.504645  \n",
       "5        0.474456  \n",
       "32       0.269188  \n",
       "23       0.264842  \n",
       "35       0.263261  \n",
       "24       0.241964  \n",
       "3        0.178700  \n",
       "37       0.133143  \n",
       "34       0.128291  \n",
       "15       0.078114  \n",
       "8        0.014466  \n",
       "31       0.006506  \n",
       "9       -0.014193  \n",
       "13      -0.056251  \n",
       "30      -0.060681  \n",
       "14      -0.060681  \n",
       "7       -0.152049  \n",
       "18      -0.188623  \n",
       "25      -0.258962  \n",
       "29      -0.279997  \n",
       "10      -0.285559  \n",
       "26      -0.370319  \n",
       "22      -0.384629  \n",
       "4       -0.417785  \n",
       "27      -0.425590  \n",
       "40      -0.428483  \n",
       "21      -0.449403  \n",
       "1       -0.575328  \n",
       "33      -0.720956  \n",
       "17      -0.720956  \n",
       "12      -0.720956  \n",
       "36      -0.720956  \n",
       "6       -0.720956  \n",
       "39      -0.720956  \n",
       "20      -0.720956  \n",
       "2       -0.893286  "
      ]
     },
     "execution_count": 12,
     "metadata": {},
     "output_type": "execute_result"
    }
   ],
   "source": [
    "df_ratio= df.target.value_counts()\n",
    "churrn_ratio= df_ratio[1]/ (df_ratio[1]+ df_ratio[0])\n",
    "\n",
    "\n",
    "(\n",
    "    df.melt(id_vars= [\"target\", \"totalcharges\"],value_vars= cat_cols)\n",
    "    .groupby([\"variable\", \"value\"])    \n",
    "    .agg(total = pd.NamedAgg(\"target\", \"mean\"))\n",
    "    .reset_index()    \n",
    "    .assign(churn_diff =  lambda df_: df_.total - churrn_ratio)\n",
    "    .assign(risk_ratio =  lambda df_: df_.total /churrn_ratio)\n",
    "    .assign(high_low_risk =  lambda df_: df_.risk_ratio - 1)\n",
    "    .sort_values([\"risk_ratio\"], ascending=False)\n",
    ")\n"
   ]
  },
  {
   "attachments": {},
   "cell_type": "markdown",
   "id": "c58e47ac",
   "metadata": {},
   "source": [
    "# Catagorical Feature Importance\n",
    "* For categorical variables, one such metric is mutual information, which tells how much information we learn about one variable if we learn the value of the other variable. It’s a concept from information theory, and in machine learning, we often use it to measure the mutual dependency between two variables. Higher values of mutual information mean a higher degree of dependence"
   ]
  },
  {
   "cell_type": "code",
   "execution_count": 13,
   "id": "784e47db",
   "metadata": {},
   "outputs": [
    {
     "data": {
      "text/html": [
       "<div>\n",
       "<style scoped>\n",
       "    .dataframe tbody tr th:only-of-type {\n",
       "        vertical-align: middle;\n",
       "    }\n",
       "\n",
       "    .dataframe tbody tr th {\n",
       "        vertical-align: top;\n",
       "    }\n",
       "\n",
       "    .dataframe thead th {\n",
       "        text-align: right;\n",
       "    }\n",
       "</style>\n",
       "<table border=\"1\" class=\"dataframe\">\n",
       "  <thead>\n",
       "    <tr style=\"text-align: right;\">\n",
       "      <th></th>\n",
       "      <th>feats</th>\n",
       "      <th>score</th>\n",
       "    </tr>\n",
       "  </thead>\n",
       "  <tbody>\n",
       "    <tr>\n",
       "      <th>0</th>\n",
       "      <td>contract</td>\n",
       "      <td>0.10</td>\n",
       "    </tr>\n",
       "    <tr>\n",
       "      <th>1</th>\n",
       "      <td>internetser...</td>\n",
       "      <td>0.06</td>\n",
       "    </tr>\n",
       "    <tr>\n",
       "      <th>2</th>\n",
       "      <td>onlinesecurity</td>\n",
       "      <td>0.06</td>\n",
       "    </tr>\n",
       "    <tr>\n",
       "      <th>3</th>\n",
       "      <td>techsupport</td>\n",
       "      <td>0.06</td>\n",
       "    </tr>\n",
       "    <tr>\n",
       "      <th>4</th>\n",
       "      <td>onlinebackup</td>\n",
       "      <td>0.05</td>\n",
       "    </tr>\n",
       "    <tr>\n",
       "      <th>5</th>\n",
       "      <td>deviceprote...</td>\n",
       "      <td>0.04</td>\n",
       "    </tr>\n",
       "    <tr>\n",
       "      <th>6</th>\n",
       "      <td>paymentmethod</td>\n",
       "      <td>0.04</td>\n",
       "    </tr>\n",
       "    <tr>\n",
       "      <th>7</th>\n",
       "      <td>streamingtv</td>\n",
       "      <td>0.03</td>\n",
       "    </tr>\n",
       "    <tr>\n",
       "      <th>8</th>\n",
       "      <td>streamingmo...</td>\n",
       "      <td>0.03</td>\n",
       "    </tr>\n",
       "    <tr>\n",
       "      <th>9</th>\n",
       "      <td>paperlessbi...</td>\n",
       "      <td>0.02</td>\n",
       "    </tr>\n",
       "    <tr>\n",
       "      <th>10</th>\n",
       "      <td>partner</td>\n",
       "      <td>0.01</td>\n",
       "    </tr>\n",
       "    <tr>\n",
       "      <th>11</th>\n",
       "      <td>dependents</td>\n",
       "      <td>0.01</td>\n",
       "    </tr>\n",
       "    <tr>\n",
       "      <th>12</th>\n",
       "      <td>gender</td>\n",
       "      <td>0.00</td>\n",
       "    </tr>\n",
       "    <tr>\n",
       "      <th>13</th>\n",
       "      <td>phoneservice</td>\n",
       "      <td>0.00</td>\n",
       "    </tr>\n",
       "    <tr>\n",
       "      <th>14</th>\n",
       "      <td>multiplelines</td>\n",
       "      <td>0.00</td>\n",
       "    </tr>\n",
       "  </tbody>\n",
       "</table>\n",
       "</div>"
      ],
      "text/plain": [
       "             feats  score\n",
       "0         contract   0.10\n",
       "1   internetser...   0.06\n",
       "2   onlinesecurity   0.06\n",
       "3      techsupport   0.06\n",
       "4     onlinebackup   0.05\n",
       "5   deviceprote...   0.04\n",
       "6    paymentmethod   0.04\n",
       "7      streamingtv   0.03\n",
       "8   streamingmo...   0.03\n",
       "9   paperlessbi...   0.02\n",
       "10         partner   0.01\n",
       "11      dependents   0.01\n",
       "12          gender   0.00\n",
       "13    phoneservice   0.00\n",
       "14   multiplelines   0.00"
      ]
     },
     "execution_count": 13,
     "metadata": {},
     "output_type": "execute_result"
    }
   ],
   "source": [
    "from sklearn.metrics import mutual_info_score\n",
    "feat_importance=[]\n",
    "for x in cat_cols:\n",
    "    imp= pd.DataFrame(\n",
    "    {\"feats\": [x],\n",
    "    \"score\": [mutual_info_score(df[x], df.target).round(2)]}\n",
    "    )\n",
    "    feat_importance.append(imp)\n",
    "\n",
    "feat_imp_cat= pd.concat(feat_importance, axis=0).sort_values(\"score\", ascending=False).reset_index(drop=True)\n",
    "feat_imp_cat"
   ]
  },
  {
   "attachments": {},
   "cell_type": "markdown",
   "id": "0089d7d4",
   "metadata": {},
   "source": [
    "* we can ignore the variables with score lower then 0.1"
   ]
  },
  {
   "cell_type": "code",
   "execution_count": 14,
   "id": "289f5a78",
   "metadata": {},
   "outputs": [
    {
     "data": {
      "text/plain": [
       "['partner', 'dependents', 'gender', 'phoneservice', 'multiplelines']"
      ]
     },
     "execution_count": 14,
     "metadata": {},
     "output_type": "execute_result"
    }
   ],
   "source": [
    "feat_imp_cat= feat_imp_cat[feat_imp_cat.score <= 0.01]\n",
    "cat_cols=feat_imp_cat.feats.values.tolist()\n",
    "cat_cols"
   ]
  },
  {
   "cell_type": "code",
   "execution_count": 15,
   "id": "49d4d4f1",
   "metadata": {},
   "outputs": [
    {
     "name": "stdout",
     "output_type": "stream",
     "text": [
      "<class 'pandas.core.frame.DataFrame'>\n",
      "RangeIndex: 7043 entries, 0 to 7042\n",
      "Data columns (total 15 columns):\n",
      " #   Column            Non-Null Count  Dtype  \n",
      "---  ------            --------------  -----  \n",
      " 0   seniorcitizen     7043 non-null   bool   \n",
      " 1   tenure            7043 non-null   int8   \n",
      " 2   internetservice   7043 non-null   object \n",
      " 3   onlinesecurity    7043 non-null   object \n",
      " 4   onlinebackup      7043 non-null   object \n",
      " 5   deviceprotection  7043 non-null   object \n",
      " 6   techsupport       7043 non-null   object \n",
      " 7   streamingtv       7043 non-null   object \n",
      " 8   streamingmovies   7043 non-null   object \n",
      " 9   contract          7043 non-null   object \n",
      " 10  paperlessbilling  7043 non-null   object \n",
      " 11  paymentmethod     7043 non-null   object \n",
      " 12  monthlycharges    7043 non-null   float64\n",
      " 13  totalcharges      7032 non-null   float64\n",
      " 14  target            7043 non-null   int8   \n",
      "dtypes: bool(1), float64(2), int8(2), object(10)\n",
      "memory usage: 681.0+ KB\n"
     ]
    }
   ],
   "source": [
    "df=df.drop(columns= cat_cols)\n",
    "df.info()"
   ]
  },
  {
   "attachments": {},
   "cell_type": "markdown",
   "id": "1c11aebd",
   "metadata": {},
   "source": [
    "# Look for correlation between all variables and target variable"
   ]
  },
  {
   "cell_type": "code",
   "execution_count": 16,
   "id": "318cf48c",
   "metadata": {},
   "outputs": [
    {
     "data": {
      "application/javascript": "\nif ((window.PyViz === undefined) || (window.PyViz instanceof HTMLElement)) {\n  window.PyViz = {comms: {}, comm_status:{}, kernels:{}, receivers: {}, plot_index: []}\n}\n\n\n    function JupyterCommManager() {\n    }\n\n    JupyterCommManager.prototype.register_target = function(plot_id, comm_id, msg_handler) {\n      if (window.comm_manager || ((window.Jupyter !== undefined) && (Jupyter.notebook.kernel != null))) {\n        var comm_manager = window.comm_manager || Jupyter.notebook.kernel.comm_manager;\n        comm_manager.register_target(comm_id, function(comm) {\n          comm.on_msg(msg_handler);\n        });\n      } else if ((plot_id in window.PyViz.kernels) && (window.PyViz.kernels[plot_id])) {\n        window.PyViz.kernels[plot_id].registerCommTarget(comm_id, function(comm) {\n          comm.onMsg = msg_handler;\n        });\n      } else if (typeof google != 'undefined' && google.colab.kernel != null) {\n        google.colab.kernel.comms.registerTarget(comm_id, (comm) => {\n          var messages = comm.messages[Symbol.asyncIterator]();\n          function processIteratorResult(result) {\n            var message = result.value;\n            console.log(message)\n            var content = {data: message.data, comm_id};\n            var buffers = []\n            for (var buffer of message.buffers || []) {\n              buffers.push(new DataView(buffer))\n            }\n            var metadata = message.metadata || {};\n            var msg = {content, buffers, metadata}\n            msg_handler(msg);\n            return messages.next().then(processIteratorResult);\n          }\n          return messages.next().then(processIteratorResult);\n        })\n      }\n    }\n\n    JupyterCommManager.prototype.get_client_comm = function(plot_id, comm_id, msg_handler) {\n      if (comm_id in window.PyViz.comms) {\n        return window.PyViz.comms[comm_id];\n      } else if (window.comm_manager || ((window.Jupyter !== undefined) && (Jupyter.notebook.kernel != null))) {\n        var comm_manager = window.comm_manager || Jupyter.notebook.kernel.comm_manager;\n        var comm = comm_manager.new_comm(comm_id, {}, {}, {}, comm_id);\n        if (msg_handler) {\n          comm.on_msg(msg_handler);\n        }\n      } else if ((plot_id in window.PyViz.kernels) && (window.PyViz.kernels[plot_id])) {\n        var comm = window.PyViz.kernels[plot_id].connectToComm(comm_id);\n        comm.open();\n        if (msg_handler) {\n          comm.onMsg = msg_handler;\n        }\n      } else if (typeof google != 'undefined' && google.colab.kernel != null) {\n        var comm_promise = google.colab.kernel.comms.open(comm_id)\n        comm_promise.then((comm) => {\n          window.PyViz.comms[comm_id] = comm;\n          if (msg_handler) {\n            var messages = comm.messages[Symbol.asyncIterator]();\n            function processIteratorResult(result) {\n              var message = result.value;\n              var content = {data: message.data};\n              var metadata = message.metadata || {comm_id};\n              var msg = {content, metadata}\n              msg_handler(msg);\n              return messages.next().then(processIteratorResult);\n            }\n            return messages.next().then(processIteratorResult);\n          }\n        }) \n        var sendClosure = (data, metadata, buffers, disposeOnDone) => {\n          return comm_promise.then((comm) => {\n            comm.send(data, metadata, buffers, disposeOnDone);\n          });\n        };\n        var comm = {\n          send: sendClosure\n        };\n      }\n      window.PyViz.comms[comm_id] = comm;\n      return comm;\n    }\n    window.PyViz.comm_manager = new JupyterCommManager();\n    \n\n\nvar JS_MIME_TYPE = 'application/javascript';\nvar HTML_MIME_TYPE = 'text/html';\nvar EXEC_MIME_TYPE = 'application/vnd.holoviews_exec.v0+json';\nvar CLASS_NAME = 'output';\n\n/**\n * Render data to the DOM node\n */\nfunction render(props, node) {\n  var div = document.createElement(\"div\");\n  var script = document.createElement(\"script\");\n  node.appendChild(div);\n  node.appendChild(script);\n}\n\n/**\n * Handle when a new output is added\n */\nfunction handle_add_output(event, handle) {\n  var output_area = handle.output_area;\n  var output = handle.output;\n  if ((output.data == undefined) || (!output.data.hasOwnProperty(EXEC_MIME_TYPE))) {\n    return\n  }\n  var id = output.metadata[EXEC_MIME_TYPE][\"id\"];\n  var toinsert = output_area.element.find(\".\" + CLASS_NAME.split(' ')[0]);\n  if (id !== undefined) {\n    var nchildren = toinsert.length;\n    var html_node = toinsert[nchildren-1].children[0];\n    html_node.innerHTML = output.data[HTML_MIME_TYPE];\n    var scripts = [];\n    var nodelist = html_node.querySelectorAll(\"script\");\n    for (var i in nodelist) {\n      if (nodelist.hasOwnProperty(i)) {\n        scripts.push(nodelist[i])\n      }\n    }\n\n    scripts.forEach( function (oldScript) {\n      var newScript = document.createElement(\"script\");\n      var attrs = [];\n      var nodemap = oldScript.attributes;\n      for (var j in nodemap) {\n        if (nodemap.hasOwnProperty(j)) {\n          attrs.push(nodemap[j])\n        }\n      }\n      attrs.forEach(function(attr) { newScript.setAttribute(attr.name, attr.value) });\n      newScript.appendChild(document.createTextNode(oldScript.innerHTML));\n      oldScript.parentNode.replaceChild(newScript, oldScript);\n    });\n    if (JS_MIME_TYPE in output.data) {\n      toinsert[nchildren-1].children[1].textContent = output.data[JS_MIME_TYPE];\n    }\n    output_area._hv_plot_id = id;\n    if ((window.Bokeh !== undefined) && (id in Bokeh.index)) {\n      window.PyViz.plot_index[id] = Bokeh.index[id];\n    } else {\n      window.PyViz.plot_index[id] = null;\n    }\n  } else if (output.metadata[EXEC_MIME_TYPE][\"server_id\"] !== undefined) {\n    var bk_div = document.createElement(\"div\");\n    bk_div.innerHTML = output.data[HTML_MIME_TYPE];\n    var script_attrs = bk_div.children[0].attributes;\n    for (var i = 0; i < script_attrs.length; i++) {\n      toinsert[toinsert.length - 1].childNodes[1].setAttribute(script_attrs[i].name, script_attrs[i].value);\n    }\n    // store reference to server id on output_area\n    output_area._bokeh_server_id = output.metadata[EXEC_MIME_TYPE][\"server_id\"];\n  }\n}\n\n/**\n * Handle when an output is cleared or removed\n */\nfunction handle_clear_output(event, handle) {\n  var id = handle.cell.output_area._hv_plot_id;\n  var server_id = handle.cell.output_area._bokeh_server_id;\n  if (((id === undefined) || !(id in PyViz.plot_index)) && (server_id !== undefined)) { return; }\n  var comm = window.PyViz.comm_manager.get_client_comm(\"hv-extension-comm\", \"hv-extension-comm\", function () {});\n  if (server_id !== null) {\n    comm.send({event_type: 'server_delete', 'id': server_id});\n    return;\n  } else if (comm !== null) {\n    comm.send({event_type: 'delete', 'id': id});\n  }\n  delete PyViz.plot_index[id];\n  if ((window.Bokeh !== undefined) & (id in window.Bokeh.index)) {\n    var doc = window.Bokeh.index[id].model.document\n    doc.clear();\n    const i = window.Bokeh.documents.indexOf(doc);\n    if (i > -1) {\n      window.Bokeh.documents.splice(i, 1);\n    }\n  }\n}\n\n/**\n * Handle kernel restart event\n */\nfunction handle_kernel_cleanup(event, handle) {\n  delete PyViz.comms[\"hv-extension-comm\"];\n  window.PyViz.plot_index = {}\n}\n\n/**\n * Handle update_display_data messages\n */\nfunction handle_update_output(event, handle) {\n  handle_clear_output(event, {cell: {output_area: handle.output_area}})\n  handle_add_output(event, handle)\n}\n\nfunction register_renderer(events, OutputArea) {\n  function append_mime(data, metadata, element) {\n    // create a DOM node to render to\n    var toinsert = this.create_output_subarea(\n    metadata,\n    CLASS_NAME,\n    EXEC_MIME_TYPE\n    );\n    this.keyboard_manager.register_events(toinsert);\n    // Render to node\n    var props = {data: data, metadata: metadata[EXEC_MIME_TYPE]};\n    render(props, toinsert[0]);\n    element.append(toinsert);\n    return toinsert\n  }\n\n  events.on('output_added.OutputArea', handle_add_output);\n  events.on('output_updated.OutputArea', handle_update_output);\n  events.on('clear_output.CodeCell', handle_clear_output);\n  events.on('delete.Cell', handle_clear_output);\n  events.on('kernel_ready.Kernel', handle_kernel_cleanup);\n\n  OutputArea.prototype.register_mime_type(EXEC_MIME_TYPE, append_mime, {\n    safe: true,\n    index: 0\n  });\n}\n\nif (window.Jupyter !== undefined) {\n  try {\n    var events = require('base/js/events');\n    var OutputArea = require('notebook/js/outputarea').OutputArea;\n    if (OutputArea.prototype.mime_types().indexOf(EXEC_MIME_TYPE) == -1) {\n      register_renderer(events, OutputArea);\n    }\n  } catch(err) {\n  }\n}\n",
      "application/vnd.holoviews_load.v0+json": ""
     },
     "metadata": {},
     "output_type": "display_data"
    },
    {
     "data": {
      "text/html": [
       "<style>.bk-root, .bk-root .bk:before, .bk-root .bk:after {\n",
       "  font-family: var(--jp-ui-font-size1);\n",
       "  font-size: var(--jp-ui-font-size1);\n",
       "  color: var(--jp-ui-font-color1);\n",
       "}\n",
       "</style>"
      ]
     },
     "metadata": {},
     "output_type": "display_data"
    },
    {
     "data": {},
     "metadata": {},
     "output_type": "display_data"
    },
    {
     "data": {
      "application/vnd.holoviews_exec.v0+json": "",
      "text/html": [
       "<div id='1002'>\n",
       "  <div class=\"bk-root\" id=\"250c260a-af19-4cc7-a46c-fc893f7bb803\" data-root-id=\"1002\"></div>\n",
       "</div>\n",
       "<script type=\"application/javascript\">(function(root) {\n",
       "  function embed_document(root) {\n",
       "    var docs_json = {\"dd9d98a1-7d00-41c8-81e5-9e6eab18256e\":{\"defs\":[{\"extends\":null,\"module\":null,\"name\":\"ReactiveHTML1\",\"overrides\":[],\"properties\":[]},{\"extends\":null,\"module\":null,\"name\":\"FlexBox1\",\"overrides\":[],\"properties\":[{\"default\":\"flex-start\",\"kind\":null,\"name\":\"align_content\"},{\"default\":\"flex-start\",\"kind\":null,\"name\":\"align_items\"},{\"default\":\"row\",\"kind\":null,\"name\":\"flex_direction\"},{\"default\":\"wrap\",\"kind\":null,\"name\":\"flex_wrap\"},{\"default\":\"flex-start\",\"kind\":null,\"name\":\"justify_content\"}]},{\"extends\":null,\"module\":null,\"name\":\"GridStack1\",\"overrides\":[],\"properties\":[{\"default\":\"warn\",\"kind\":null,\"name\":\"mode\"},{\"default\":null,\"kind\":null,\"name\":\"ncols\"},{\"default\":null,\"kind\":null,\"name\":\"nrows\"},{\"default\":true,\"kind\":null,\"name\":\"allow_resize\"},{\"default\":true,\"kind\":null,\"name\":\"allow_drag\"},{\"default\":[],\"kind\":null,\"name\":\"state\"}]},{\"extends\":null,\"module\":null,\"name\":\"click1\",\"overrides\":[],\"properties\":[{\"default\":\"\",\"kind\":null,\"name\":\"terminal_output\"},{\"default\":\"\",\"kind\":null,\"name\":\"debug_name\"},{\"default\":0,\"kind\":null,\"name\":\"clears\"}]},{\"extends\":null,\"module\":null,\"name\":\"NotificationAreaBase1\",\"overrides\":[],\"properties\":[{\"default\":\"bottom-right\",\"kind\":null,\"name\":\"position\"},{\"default\":0,\"kind\":null,\"name\":\"_clear\"}]},{\"extends\":null,\"module\":null,\"name\":\"NotificationArea1\",\"overrides\":[],\"properties\":[{\"default\":[],\"kind\":null,\"name\":\"notifications\"},{\"default\":\"bottom-right\",\"kind\":null,\"name\":\"position\"},{\"default\":0,\"kind\":null,\"name\":\"_clear\"},{\"default\":[{\"background\":\"#ffc107\",\"icon\":{\"className\":\"fas fa-exclamation-triangle\",\"color\":\"white\",\"tagName\":\"i\"},\"type\":\"warning\"},{\"background\":\"#007bff\",\"icon\":{\"className\":\"fas fa-info-circle\",\"color\":\"white\",\"tagName\":\"i\"},\"type\":\"info\"}],\"kind\":null,\"name\":\"types\"}]},{\"extends\":null,\"module\":null,\"name\":\"Notification\",\"overrides\":[],\"properties\":[{\"default\":null,\"kind\":null,\"name\":\"background\"},{\"default\":3000,\"kind\":null,\"name\":\"duration\"},{\"default\":null,\"kind\":null,\"name\":\"icon\"},{\"default\":\"\",\"kind\":null,\"name\":\"message\"},{\"default\":null,\"kind\":null,\"name\":\"notification_type\"},{\"default\":false,\"kind\":null,\"name\":\"_destroyed\"}]},{\"extends\":null,\"module\":null,\"name\":\"TemplateActions1\",\"overrides\":[],\"properties\":[{\"default\":0,\"kind\":null,\"name\":\"open_modal\"},{\"default\":0,\"kind\":null,\"name\":\"close_modal\"}]},{\"extends\":null,\"module\":null,\"name\":\"MaterialTemplateActions1\",\"overrides\":[],\"properties\":[{\"default\":0,\"kind\":null,\"name\":\"open_modal\"},{\"default\":0,\"kind\":null,\"name\":\"close_modal\"}]}],\"roots\":{\"references\":[{\"attributes\":{\"text\":{\"field\":\"value\"},\"text_align\":{\"value\":\"center\"},\"text_alpha\":{\"value\":0.2},\"text_baseline\":{\"value\":\"middle\"},\"text_color\":{\"value\":\"black\"},\"text_font_size\":{\"value\":\"8pt\"},\"x\":{\"field\":\"columns\"},\"y\":{\"field\":\"index\"}},\"id\":\"1058\",\"type\":\"Text\"},{\"attributes\":{},\"id\":\"1024\",\"type\":\"WheelZoomTool\"},{\"attributes\":{},\"id\":\"1023\",\"type\":\"PanTool\"},{\"attributes\":{\"overlay\":{\"id\":\"1027\"}},\"id\":\"1025\",\"type\":\"BoxZoomTool\"},{\"attributes\":{\"factors\":[\"seniorcitizen\",\"tenure\",\"monthlycharges\",\"totalcharges\",\"target\"],\"tags\":[[[\"index\",\"index\",null]]]},\"id\":\"1005\",\"type\":\"FactorRange\"},{\"attributes\":{\"text\":{\"field\":\"value\"},\"text_align\":{\"value\":\"center\"},\"text_baseline\":{\"value\":\"middle\"},\"text_color\":{\"value\":\"black\"},\"text_font_size\":{\"value\":\"8pt\"},\"x\":{\"field\":\"columns\"},\"y\":{\"field\":\"index\"}},\"id\":\"1056\",\"type\":\"Text\"},{\"attributes\":{},\"id\":\"1026\",\"type\":\"ResetTool\"},{\"attributes\":{\"margin\":[5,5,5,5],\"name\":\"HSpacer00847\",\"sizing_mode\":\"stretch_width\"},\"id\":\"1003\",\"type\":\"Spacer\"},{\"attributes\":{\"children\":[{\"id\":\"1003\"},{\"id\":\"1007\"},{\"id\":\"1075\"}],\"margin\":[0,0,0,0],\"name\":\"Row00843\",\"tags\":[\"embedded\"]},\"id\":\"1002\",\"type\":\"Row\"},{\"attributes\":{\"fill_color\":{\"field\":\"zvalues\",\"transform\":{\"id\":\"1041\"}},\"height\":{\"value\":1},\"line_alpha\":{\"value\":0},\"line_color\":{\"value\":\"#1f77b4\"},\"width\":{\"value\":1},\"x\":{\"field\":\"columns\"},\"y\":{\"field\":\"index\"}},\"id\":\"1045\",\"type\":\"Rect\"},{\"attributes\":{\"bottom_units\":\"screen\",\"coordinates\":null,\"fill_alpha\":0.5,\"fill_color\":\"lightgrey\",\"group\":null,\"left_units\":\"screen\",\"level\":\"overlay\",\"line_alpha\":1.0,\"line_color\":\"black\",\"line_dash\":[4,4],\"line_width\":2,\"right_units\":\"screen\",\"syncable\":false,\"top_units\":\"screen\"},\"id\":\"1027\",\"type\":\"BoxAnnotation\"},{\"attributes\":{\"coordinates\":null,\"data_source\":{\"id\":\"1042\"},\"glyph\":{\"id\":\"1045\"},\"group\":null,\"hover_glyph\":null,\"muted_glyph\":{\"id\":\"1048\"},\"nonselection_glyph\":{\"id\":\"1046\"},\"selection_glyph\":{\"id\":\"1047\"},\"view\":{\"id\":\"1050\"}},\"id\":\"1049\",\"type\":\"GlyphRenderer\"},{\"attributes\":{\"coordinates\":null,\"group\":null,\"text_color\":\"black\",\"text_font_size\":\"12pt\"},\"id\":\"1008\",\"type\":\"Title\"},{\"attributes\":{},\"id\":\"1072\",\"type\":\"UnionRenderers\"},{\"attributes\":{\"coordinates\":null,\"data_source\":{\"id\":\"1053\"},\"glyph\":{\"id\":\"1056\"},\"group\":null,\"hover_glyph\":null,\"muted_glyph\":{\"id\":\"1058\"},\"nonselection_glyph\":{\"id\":\"1057\"},\"selection_glyph\":{\"id\":\"1061\"},\"view\":{\"id\":\"1060\"}},\"id\":\"1059\",\"type\":\"GlyphRenderer\"},{\"attributes\":{},\"id\":\"1012\",\"type\":\"CategoricalScale\"},{\"attributes\":{},\"id\":\"1051\",\"type\":\"BasicTicker\"},{\"attributes\":{\"tools\":[{\"id\":\"1006\"},{\"id\":\"1022\"},{\"id\":\"1023\"},{\"id\":\"1024\"},{\"id\":\"1025\"},{\"id\":\"1026\"}]},\"id\":\"1028\",\"type\":\"Toolbar\"},{\"attributes\":{\"angle\":{\"value\":0},\"text\":{\"field\":\"value\"},\"text_align\":{\"value\":\"center\"},\"text_alpha\":{\"value\":1.0},\"text_baseline\":{\"value\":\"middle\"},\"text_color\":{\"value\":\"black\"},\"text_font_size\":{\"value\":\"8pt\"},\"text_font_style\":{\"value\":\"normal\"},\"text_line_height\":{\"value\":1.2},\"x\":{\"field\":\"columns\"},\"x_offset\":{\"value\":0},\"y\":{\"field\":\"index\"},\"y_offset\":{\"value\":0}},\"id\":\"1061\",\"type\":\"Text\"},{\"attributes\":{},\"id\":\"1037\",\"type\":\"AllLabels\"},{\"attributes\":{},\"id\":\"1066\",\"type\":\"NoOverlap\"},{\"attributes\":{},\"id\":\"1039\",\"type\":\"CategoricalTickFormatter\"},{\"attributes\":{},\"id\":\"1040\",\"type\":\"AllLabels\"},{\"attributes\":{\"high\":1.0,\"low\":-0.352,\"nan_color\":\"white\",\"palette\":[\"#fff5eb\",\"#fef4ea\",\"#fef4e9\",\"#fef3e8\",\"#fef3e7\",\"#fef2e6\",\"#fef2e5\",\"#fef1e4\",\"#fef1e3\",\"#fef0e2\",\"#fef0e1\",\"#feefe0\",\"#feefe0\",\"#feeedf\",\"#feeede\",\"#feeddd\",\"#feeddc\",\"#feeddb\",\"#feecda\",\"#feecd9\",\"#feebd8\",\"#feebd7\",\"#feead6\",\"#feead6\",\"#fee9d5\",\"#fee9d4\",\"#fee8d3\",\"#fee8d2\",\"#fee7d1\",\"#fee7d0\",\"#fee6cf\",\"#fee6ce\",\"#fde5cd\",\"#fde5cc\",\"#fde4cb\",\"#fde3c9\",\"#fde3c8\",\"#fde2c6\",\"#fde1c5\",\"#fde1c4\",\"#fde0c2\",\"#fddfc1\",\"#fddfc0\",\"#fddebe\",\"#fdddbd\",\"#fddcbb\",\"#fddcba\",\"#fddbb9\",\"#fddab7\",\"#fddab6\",\"#fdd9b4\",\"#fdd8b3\",\"#fdd8b2\",\"#fdd7b0\",\"#fdd6af\",\"#fdd6ae\",\"#fdd5ac\",\"#fdd4ab\",\"#fdd3a9\",\"#fdd3a8\",\"#fdd2a7\",\"#fdd1a5\",\"#fdd1a4\",\"#fdd0a3\",\"#fdcfa1\",\"#fdce9f\",\"#fdcd9e\",\"#fdcc9c\",\"#fdcb9a\",\"#fdca98\",\"#fdc997\",\"#fdc895\",\"#fdc793\",\"#fdc692\",\"#fdc590\",\"#fdc48e\",\"#fdc28c\",\"#fdc18b\",\"#fdc089\",\"#fdbf87\",\"#fdbe85\",\"#fdbd84\",\"#fdbc82\",\"#fdbb80\",\"#fdba7f\",\"#fdb97d\",\"#fdb87b\",\"#fdb779\",\"#fdb678\",\"#fdb576\",\"#fdb474\",\"#fdb272\",\"#fdb171\",\"#fdb06f\",\"#fdaf6d\",\"#fdae6c\",\"#fdad6a\",\"#fdac68\",\"#fdab67\",\"#fdaa66\",\"#fda964\",\"#fda863\",\"#fda761\",\"#fda660\",\"#fda55e\",\"#fda45d\",\"#fda35b\",\"#fda25a\",\"#fda158\",\"#fda057\",\"#fd9f55\",\"#fd9e54\",\"#fd9d52\",\"#fd9c51\",\"#fd9a4f\",\"#fd994e\",\"#fd984c\",\"#fd974b\",\"#fd964a\",\"#fd9548\",\"#fd9447\",\"#fd9345\",\"#fd9244\",\"#fd9142\",\"#fd9041\",\"#fd8f3f\",\"#fd8e3e\",\"#fd8d3c\",\"#fc8c3b\",\"#fc8b3a\",\"#fc8a38\",\"#fb8937\",\"#fb8736\",\"#fa8634\",\"#fa8533\",\"#fa8432\",\"#f98331\",\"#f9822f\",\"#f9812e\",\"#f8802d\",\"#f87e2b\",\"#f77d2a\",\"#f77c29\",\"#f77b28\",\"#f67a26\",\"#f67925\",\"#f67824\",\"#f57622\",\"#f57521\",\"#f47420\",\"#f4731f\",\"#f4721d\",\"#f3711c\",\"#f3701b\",\"#f36f19\",\"#f26d18\",\"#f26c17\",\"#f16b16\",\"#f16a14\",\"#f16913\",\"#f06812\",\"#ef6712\",\"#ef6611\",\"#ee6510\",\"#ed6410\",\"#ec630f\",\"#ec620f\",\"#eb610e\",\"#ea600e\",\"#e95f0d\",\"#e95d0d\",\"#e85c0c\",\"#e75b0b\",\"#e65a0b\",\"#e5590a\",\"#e5580a\",\"#e45709\",\"#e35609\",\"#e25508\",\"#e25407\",\"#e15307\",\"#e05206\",\"#df5106\",\"#df5005\",\"#de4f05\",\"#dd4e04\",\"#dc4d03\",\"#dc4c03\",\"#db4b02\",\"#da4a02\",\"#d94901\",\"#d94801\",\"#d74701\",\"#d64701\",\"#d44601\",\"#d34501\",\"#d14501\",\"#cf4401\",\"#ce4401\",\"#cc4301\",\"#cb4301\",\"#c94201\",\"#c74101\",\"#c64101\",\"#c44001\",\"#c34001\",\"#c13f01\",\"#bf3f01\",\"#be3e02\",\"#bc3d02\",\"#bb3d02\",\"#b93c02\",\"#b73c02\",\"#b63b02\",\"#b43b02\",\"#b33a02\",\"#b13a02\",\"#af3902\",\"#ae3802\",\"#ac3802\",\"#ab3702\",\"#a93702\",\"#a73602\",\"#a63602\",\"#a43503\",\"#a33503\",\"#a23403\",\"#a13403\",\"#a03303\",\"#9e3303\",\"#9d3203\",\"#9c3203\",\"#9b3103\",\"#993103\",\"#983003\",\"#973003\",\"#962f03\",\"#952f03\",\"#932f03\",\"#922e03\",\"#912e03\",\"#902d03\",\"#8e2d03\",\"#8d2c03\",\"#8c2c03\",\"#8b2b03\",\"#8a2b03\",\"#882a03\",\"#872a03\",\"#862903\",\"#852903\",\"#832803\",\"#822803\",\"#812703\",\"#802703\",\"#7f2704\"]},\"id\":\"1041\",\"type\":\"LinearColorMapper\"},{\"attributes\":{},\"id\":\"1014\",\"type\":\"CategoricalScale\"},{\"attributes\":{\"fill_alpha\":{\"value\":0.2},\"fill_color\":{\"field\":\"zvalues\",\"transform\":{\"id\":\"1041\"}},\"hatch_alpha\":{\"value\":0.2},\"height\":{\"value\":1},\"line_alpha\":{\"value\":0},\"line_color\":{\"value\":\"#1f77b4\"},\"width\":{\"value\":1},\"x\":{\"field\":\"columns\"},\"y\":{\"field\":\"index\"}},\"id\":\"1048\",\"type\":\"Rect\"},{\"attributes\":{\"margin\":[5,5,5,5],\"name\":\"HSpacer00848\",\"sizing_mode\":\"stretch_width\"},\"id\":\"1075\",\"type\":\"Spacer\"},{\"attributes\":{\"below\":[{\"id\":\"1016\"}],\"center\":[{\"id\":\"1018\"},{\"id\":\"1021\"}],\"height\":400,\"left\":[{\"id\":\"1019\"}],\"margin\":[5,5,5,5],\"min_border_bottom\":10,\"min_border_left\":10,\"min_border_right\":10,\"min_border_top\":10,\"renderers\":[{\"id\":\"1049\"},{\"id\":\"1059\"}],\"right\":[{\"id\":\"1052\"}],\"sizing_mode\":\"fixed\",\"title\":{\"id\":\"1008\"},\"toolbar\":{\"id\":\"1028\"},\"width\":1000,\"x_range\":{\"id\":\"1004\"},\"x_scale\":{\"id\":\"1012\"},\"y_range\":{\"id\":\"1005\"},\"y_scale\":{\"id\":\"1014\"}},\"id\":\"1007\",\"subtype\":\"Figure\",\"type\":\"Plot\"},{\"attributes\":{\"bar_line_color\":\"black\",\"color_mapper\":{\"id\":\"1041\"},\"coordinates\":null,\"group\":null,\"label_standoff\":8,\"location\":[0,0],\"major_label_policy\":{\"id\":\"1066\"},\"major_tick_line_color\":\"black\",\"ticker\":{\"id\":\"1051\"}},\"id\":\"1052\",\"type\":\"ColorBar\"},{\"attributes\":{\"factors\":[\"seniorcitizen\",\"tenure\",\"monthlycharges\",\"totalcharges\",\"target\"],\"tags\":[[[\"columns\",\"columns\",null]]]},\"id\":\"1004\",\"type\":\"FactorRange\"},{\"attributes\":{},\"id\":\"1036\",\"type\":\"CategoricalTickFormatter\"},{\"attributes\":{\"data\":{\"columns\":[\"seniorcitizen\",\"seniorcitizen\",\"seniorcitizen\",\"seniorcitizen\",\"seniorcitizen\",\"tenure\",\"tenure\",\"tenure\",\"tenure\",\"tenure\",\"monthlycharges\",\"monthlycharges\",\"monthlycharges\",\"monthlycharges\",\"monthlycharges\",\"totalcharges\",\"totalcharges\",\"totalcharges\",\"totalcharges\",\"totalcharges\",\"target\",\"target\",\"target\",\"target\",\"target\"],\"index\":[\"seniorcitizen\",\"tenure\",\"monthlycharges\",\"totalcharges\",\"target\",\"seniorcitizen\",\"tenure\",\"monthlycharges\",\"totalcharges\",\"target\",\"seniorcitizen\",\"tenure\",\"monthlycharges\",\"totalcharges\",\"target\",\"seniorcitizen\",\"tenure\",\"monthlycharges\",\"totalcharges\",\"target\",\"seniorcitizen\",\"tenure\",\"monthlycharges\",\"totalcharges\",\"target\"],\"value\":[\"1\",\"0.017\",\"0.22\",\"0.102\",\"0.151\",\"0.017\",\"1\",\"0.248\",\"0.826\",\"-0.352\",\"0.22\",\"0.248\",\"1\",\"0.651\",\"0.193\",\"0.102\",\"0.826\",\"0.651\",\"1\",\"-0.199\",\"0.151\",\"-0.352\",\"0.193\",\"-0.199\",\"1\"]},\"selected\":{\"id\":\"1054\"},\"selection_policy\":{\"id\":\"1072\"}},\"id\":\"1053\",\"type\":\"ColumnDataSource\"},{\"attributes\":{\"data\":{\"columns\":[\"seniorcitizen\",\"seniorcitizen\",\"seniorcitizen\",\"seniorcitizen\",\"seniorcitizen\",\"tenure\",\"tenure\",\"tenure\",\"tenure\",\"tenure\",\"monthlycharges\",\"monthlycharges\",\"monthlycharges\",\"monthlycharges\",\"monthlycharges\",\"totalcharges\",\"totalcharges\",\"totalcharges\",\"totalcharges\",\"totalcharges\",\"target\",\"target\",\"target\",\"target\",\"target\"],\"index\":[\"seniorcitizen\",\"tenure\",\"monthlycharges\",\"totalcharges\",\"target\",\"seniorcitizen\",\"tenure\",\"monthlycharges\",\"totalcharges\",\"target\",\"seniorcitizen\",\"tenure\",\"monthlycharges\",\"totalcharges\",\"target\",\"seniorcitizen\",\"tenure\",\"monthlycharges\",\"totalcharges\",\"target\",\"seniorcitizen\",\"tenure\",\"monthlycharges\",\"totalcharges\",\"target\"],\"value\":[\"1\",\"0.017\",\"0.22\",\"0.102\",\"0.151\",\"0.017\",\"1\",\"0.248\",\"0.826\",\"-0.352\",\"0.22\",\"0.248\",\"1\",\"0.651\",\"0.193\",\"0.102\",\"0.826\",\"0.651\",\"1\",\"-0.199\",\"0.151\",\"-0.352\",\"0.193\",\"-0.199\",\"1\"],\"zvalues\":{\"__ndarray__\":\"AAAAAAAA8D+cxCCwcmiRPylcj8L1KMw/6SYxCKwcuj+HFtnO91PDP5zEILByaJE/AAAAAAAA8D9YObTIdr7PPzvfT42Xbuo/ukkMAiuH1r8pXI/C9SjMP1g5tMh2vs8/AAAAAAAA8D+iRbbz/dTkP05iEFg5tMg/6SYxCKwcuj8730+Nl27qP6JFtvP91OQ/AAAAAAAA8D9GtvP91HjJv4cW2c73U8M/ukkMAiuH1r9OYhBYObTIP0a28/3UeMm/AAAAAAAA8D8=\",\"dtype\":\"float64\",\"order\":\"little\",\"shape\":[25]}},\"selected\":{\"id\":\"1043\"},\"selection_policy\":{\"id\":\"1070\"}},\"id\":\"1042\",\"type\":\"ColumnDataSource\"},{\"attributes\":{\"fill_color\":{\"field\":\"zvalues\",\"transform\":{\"id\":\"1041\"}},\"height\":{\"value\":1},\"line_alpha\":{\"value\":0},\"line_color\":{\"value\":\"#1f77b4\"},\"width\":{\"value\":1},\"x\":{\"field\":\"columns\"},\"y\":{\"field\":\"index\"}},\"id\":\"1047\",\"type\":\"Rect\"},{\"attributes\":{\"source\":{\"id\":\"1042\"}},\"id\":\"1050\",\"type\":\"CDSView\"},{\"attributes\":{\"callback\":null,\"renderers\":[{\"id\":\"1049\"}],\"tags\":[\"hv_created\"],\"tooltips\":[[\"columns\",\"@{columns}\"],[\"index\",\"@{index}\"],[\"value\",\"@{value}\"]]},\"id\":\"1006\",\"type\":\"HoverTool\"},{\"attributes\":{},\"id\":\"1070\",\"type\":\"UnionRenderers\"},{\"attributes\":{\"text\":{\"field\":\"value\"},\"text_align\":{\"value\":\"center\"},\"text_alpha\":{\"value\":0.1},\"text_baseline\":{\"value\":\"middle\"},\"text_color\":{\"value\":\"black\"},\"text_font_size\":{\"value\":\"8pt\"},\"x\":{\"field\":\"columns\"},\"y\":{\"field\":\"index\"}},\"id\":\"1057\",\"type\":\"Text\"},{\"attributes\":{\"fill_alpha\":{\"value\":0.1},\"fill_color\":{\"field\":\"zvalues\",\"transform\":{\"id\":\"1041\"}},\"hatch_alpha\":{\"value\":0.1},\"height\":{\"value\":1},\"line_alpha\":{\"value\":0},\"line_color\":{\"value\":\"#1f77b4\"},\"width\":{\"value\":1},\"x\":{\"field\":\"columns\"},\"y\":{\"field\":\"index\"}},\"id\":\"1046\",\"type\":\"Rect\"},{\"attributes\":{},\"id\":\"1017\",\"type\":\"CategoricalTicker\"},{\"attributes\":{\"axis_label\":\"\",\"coordinates\":null,\"formatter\":{\"id\":\"1036\"},\"group\":null,\"major_label_orientation\":0.7853981633974483,\"major_label_policy\":{\"id\":\"1037\"},\"ticker\":{\"id\":\"1017\"}},\"id\":\"1016\",\"type\":\"CategoricalAxis\"},{\"attributes\":{\"axis\":{\"id\":\"1016\"},\"coordinates\":null,\"grid_line_color\":null,\"group\":null,\"ticker\":null},\"id\":\"1018\",\"type\":\"Grid\"},{\"attributes\":{},\"id\":\"1054\",\"type\":\"Selection\"},{\"attributes\":{},\"id\":\"1043\",\"type\":\"Selection\"},{\"attributes\":{\"axis_label\":\"\",\"coordinates\":null,\"formatter\":{\"id\":\"1039\"},\"group\":null,\"major_label_policy\":{\"id\":\"1040\"},\"ticker\":{\"id\":\"1020\"}},\"id\":\"1019\",\"type\":\"CategoricalAxis\"},{\"attributes\":{\"source\":{\"id\":\"1053\"}},\"id\":\"1060\",\"type\":\"CDSView\"},{\"attributes\":{\"axis\":{\"id\":\"1019\"},\"coordinates\":null,\"dimension\":1,\"grid_line_color\":null,\"group\":null,\"ticker\":null},\"id\":\"1021\",\"type\":\"Grid\"},{\"attributes\":{},\"id\":\"1020\",\"type\":\"CategoricalTicker\"},{\"attributes\":{},\"id\":\"1022\",\"type\":\"SaveTool\"}],\"root_ids\":[\"1002\"]},\"title\":\"Bokeh Application\",\"version\":\"2.4.3\"}};\n",
       "    var render_items = [{\"docid\":\"dd9d98a1-7d00-41c8-81e5-9e6eab18256e\",\"root_ids\":[\"1002\"],\"roots\":{\"1002\":\"250c260a-af19-4cc7-a46c-fc893f7bb803\"}}];\n",
       "    root.Bokeh.embed.embed_items_notebook(docs_json, render_items);\n",
       "    for (const render_item of render_items) {\n",
       "      for (const root_id of render_item.root_ids) {\n",
       "\tconst id_el = document.getElementById(root_id)\n",
       "\tif (id_el.children.length && (id_el.children[0].className === 'bk-root')) {\n",
       "\t  const root_el = id_el.children[0]\n",
       "\t  root_el.id = root_el.id + '-rendered'\n",
       "\t}\n",
       "      }\n",
       "    }\n",
       "  }\n",
       "  if (root.Bokeh !== undefined && root.Bokeh.Panel !== undefined) {\n",
       "    embed_document(root);\n",
       "  } else {\n",
       "    var attempts = 0;\n",
       "    var timer = setInterval(function(root) {\n",
       "      if (root.Bokeh !== undefined && root.Bokeh.Panel !== undefined) {\n",
       "        clearInterval(timer);\n",
       "        embed_document(root);\n",
       "      } else if (document.readyState == \"complete\") {\n",
       "        attempts++;\n",
       "        if (attempts > 200) {\n",
       "          clearInterval(timer);\n",
       "          console.log(\"Bokeh: ERROR: Unable to run BokehJS code because BokehJS library is missing\");\n",
       "        }\n",
       "      }\n",
       "    }, 25, root)\n",
       "  }\n",
       "})(window);</script>"
      ],
      "text/plain": [
       ":Overlay\n",
       "   .HeatMap.I :HeatMap   [columns,index]   (value)\n",
       "   .Labels.I  :Labels   [columns,index]   (value)"
      ]
     },
     "execution_count": 16,
     "metadata": {
      "application/vnd.holoviews_exec.v0+json": {
       "id": "1002"
      }
     },
     "output_type": "execute_result"
    }
   ],
   "source": [
    "import hvplot.pandas\n",
    "import holoviews as hv\n",
    "#hv.extension(\"bokeh\")\n",
    "df_cor= df.corr(numeric_only= True).round(3)\n",
    "p = df_cor.hvplot.heatmap(x=\"columns\", y= \"index\", rot =45, cmap= \"Oranges\" , width = 1000, height=400)\n",
    "p * hv.Labels(p).opts(text_font_size = \"8pt\")"
   ]
  },
  {
   "attachments": {},
   "cell_type": "markdown",
   "id": "021fe528",
   "metadata": {},
   "source": [
    "All the numeric features have strong correlation and are important features for analysis"
   ]
  },
  {
   "cell_type": "markdown",
   "id": "507c9518",
   "metadata": {},
   "source": [
    "We will convert the data to all factors, as tree based models and linear models dont get effected by factor variables."
   ]
  },
  {
   "cell_type": "code",
   "execution_count": 17,
   "id": "18178a30",
   "metadata": {},
   "outputs": [
    {
     "data": {
      "text/html": [
       "<div>\n",
       "<style scoped>\n",
       "    .dataframe tbody tr th:only-of-type {\n",
       "        vertical-align: middle;\n",
       "    }\n",
       "\n",
       "    .dataframe tbody tr th {\n",
       "        vertical-align: top;\n",
       "    }\n",
       "\n",
       "    .dataframe thead th {\n",
       "        text-align: right;\n",
       "    }\n",
       "</style>\n",
       "<table border=\"1\" class=\"dataframe\">\n",
       "  <thead>\n",
       "    <tr style=\"text-align: right;\">\n",
       "      <th></th>\n",
       "      <th>seniorcitizen</th>\n",
       "      <th>tenure</th>\n",
       "      <th>internetservice</th>\n",
       "      <th>onlinesecurity</th>\n",
       "      <th>onlinebackup</th>\n",
       "      <th>deviceprotection</th>\n",
       "      <th>techsupport</th>\n",
       "      <th>streamingtv</th>\n",
       "      <th>streamingmovies</th>\n",
       "      <th>contract</th>\n",
       "      <th>paperlessbilling</th>\n",
       "      <th>paymentmethod</th>\n",
       "      <th>monthlycharges</th>\n",
       "      <th>totalcharges</th>\n",
       "      <th>target</th>\n",
       "    </tr>\n",
       "  </thead>\n",
       "  <tbody>\n",
       "    <tr>\n",
       "      <th>0</th>\n",
       "      <td>0</td>\n",
       "      <td>1</td>\n",
       "      <td>0</td>\n",
       "      <td>0</td>\n",
       "      <td>0</td>\n",
       "      <td>0</td>\n",
       "      <td>0</td>\n",
       "      <td>0</td>\n",
       "      <td>0</td>\n",
       "      <td>0</td>\n",
       "      <td>0</td>\n",
       "      <td>0</td>\n",
       "      <td>29.85</td>\n",
       "      <td>29.85</td>\n",
       "      <td>0</td>\n",
       "    </tr>\n",
       "    <tr>\n",
       "      <th>1</th>\n",
       "      <td>0</td>\n",
       "      <td>34</td>\n",
       "      <td>0</td>\n",
       "      <td>1</td>\n",
       "      <td>1</td>\n",
       "      <td>1</td>\n",
       "      <td>0</td>\n",
       "      <td>0</td>\n",
       "      <td>0</td>\n",
       "      <td>1</td>\n",
       "      <td>1</td>\n",
       "      <td>1</td>\n",
       "      <td>56.95</td>\n",
       "      <td>1889.50</td>\n",
       "      <td>0</td>\n",
       "    </tr>\n",
       "    <tr>\n",
       "      <th>2</th>\n",
       "      <td>0</td>\n",
       "      <td>2</td>\n",
       "      <td>0</td>\n",
       "      <td>1</td>\n",
       "      <td>0</td>\n",
       "      <td>0</td>\n",
       "      <td>0</td>\n",
       "      <td>0</td>\n",
       "      <td>0</td>\n",
       "      <td>0</td>\n",
       "      <td>0</td>\n",
       "      <td>1</td>\n",
       "      <td>53.85</td>\n",
       "      <td>108.15</td>\n",
       "      <td>1</td>\n",
       "    </tr>\n",
       "    <tr>\n",
       "      <th>3</th>\n",
       "      <td>0</td>\n",
       "      <td>45</td>\n",
       "      <td>0</td>\n",
       "      <td>1</td>\n",
       "      <td>1</td>\n",
       "      <td>1</td>\n",
       "      <td>1</td>\n",
       "      <td>0</td>\n",
       "      <td>0</td>\n",
       "      <td>1</td>\n",
       "      <td>1</td>\n",
       "      <td>2</td>\n",
       "      <td>42.30</td>\n",
       "      <td>1840.75</td>\n",
       "      <td>0</td>\n",
       "    </tr>\n",
       "    <tr>\n",
       "      <th>4</th>\n",
       "      <td>0</td>\n",
       "      <td>2</td>\n",
       "      <td>1</td>\n",
       "      <td>0</td>\n",
       "      <td>1</td>\n",
       "      <td>0</td>\n",
       "      <td>0</td>\n",
       "      <td>0</td>\n",
       "      <td>0</td>\n",
       "      <td>0</td>\n",
       "      <td>0</td>\n",
       "      <td>0</td>\n",
       "      <td>70.70</td>\n",
       "      <td>151.65</td>\n",
       "      <td>1</td>\n",
       "    </tr>\n",
       "    <tr>\n",
       "      <th>...</th>\n",
       "      <td>...</td>\n",
       "      <td>...</td>\n",
       "      <td>...</td>\n",
       "      <td>...</td>\n",
       "      <td>...</td>\n",
       "      <td>...</td>\n",
       "      <td>...</td>\n",
       "      <td>...</td>\n",
       "      <td>...</td>\n",
       "      <td>...</td>\n",
       "      <td>...</td>\n",
       "      <td>...</td>\n",
       "      <td>...</td>\n",
       "      <td>...</td>\n",
       "      <td>...</td>\n",
       "    </tr>\n",
       "    <tr>\n",
       "      <th>7038</th>\n",
       "      <td>0</td>\n",
       "      <td>24</td>\n",
       "      <td>0</td>\n",
       "      <td>1</td>\n",
       "      <td>1</td>\n",
       "      <td>1</td>\n",
       "      <td>1</td>\n",
       "      <td>1</td>\n",
       "      <td>1</td>\n",
       "      <td>1</td>\n",
       "      <td>0</td>\n",
       "      <td>1</td>\n",
       "      <td>84.80</td>\n",
       "      <td>1990.50</td>\n",
       "      <td>0</td>\n",
       "    </tr>\n",
       "    <tr>\n",
       "      <th>7039</th>\n",
       "      <td>0</td>\n",
       "      <td>72</td>\n",
       "      <td>1</td>\n",
       "      <td>0</td>\n",
       "      <td>0</td>\n",
       "      <td>1</td>\n",
       "      <td>0</td>\n",
       "      <td>1</td>\n",
       "      <td>1</td>\n",
       "      <td>1</td>\n",
       "      <td>0</td>\n",
       "      <td>3</td>\n",
       "      <td>103.20</td>\n",
       "      <td>7362.90</td>\n",
       "      <td>0</td>\n",
       "    </tr>\n",
       "    <tr>\n",
       "      <th>7040</th>\n",
       "      <td>0</td>\n",
       "      <td>11</td>\n",
       "      <td>0</td>\n",
       "      <td>1</td>\n",
       "      <td>1</td>\n",
       "      <td>0</td>\n",
       "      <td>0</td>\n",
       "      <td>0</td>\n",
       "      <td>0</td>\n",
       "      <td>0</td>\n",
       "      <td>0</td>\n",
       "      <td>0</td>\n",
       "      <td>29.60</td>\n",
       "      <td>346.45</td>\n",
       "      <td>0</td>\n",
       "    </tr>\n",
       "    <tr>\n",
       "      <th>7041</th>\n",
       "      <td>1</td>\n",
       "      <td>4</td>\n",
       "      <td>1</td>\n",
       "      <td>0</td>\n",
       "      <td>1</td>\n",
       "      <td>0</td>\n",
       "      <td>0</td>\n",
       "      <td>0</td>\n",
       "      <td>0</td>\n",
       "      <td>0</td>\n",
       "      <td>0</td>\n",
       "      <td>1</td>\n",
       "      <td>74.40</td>\n",
       "      <td>306.60</td>\n",
       "      <td>1</td>\n",
       "    </tr>\n",
       "    <tr>\n",
       "      <th>7042</th>\n",
       "      <td>0</td>\n",
       "      <td>66</td>\n",
       "      <td>1</td>\n",
       "      <td>1</td>\n",
       "      <td>1</td>\n",
       "      <td>1</td>\n",
       "      <td>1</td>\n",
       "      <td>1</td>\n",
       "      <td>1</td>\n",
       "      <td>2</td>\n",
       "      <td>0</td>\n",
       "      <td>2</td>\n",
       "      <td>105.65</td>\n",
       "      <td>6844.50</td>\n",
       "      <td>0</td>\n",
       "    </tr>\n",
       "  </tbody>\n",
       "</table>\n",
       "<p>7043 rows × 15 columns</p>\n",
       "</div>"
      ],
      "text/plain": [
       "      seniorcitizen  tenure  internetservice  onlinesecurity  onlinebackup  \\\n",
       "0                 0       1               0                0             0   \n",
       "1                 0      34               0                1             1   \n",
       "2                 0       2               0                1             0   \n",
       "3                 0      45               0                1             1   \n",
       "4                 0       2               1                0             1   \n",
       "...             ...     ...             ...              ...           ...   \n",
       "7038              0      24               0                1             1   \n",
       "7039              0      72               1                0             0   \n",
       "7040              0      11               0                1             1   \n",
       "7041              1       4               1                0             1   \n",
       "7042              0      66               1                1             1   \n",
       "\n",
       "      deviceprotection  techsupport  streamingtv  streamingmovies  contract  \\\n",
       "0                  0              0            0               0          0   \n",
       "1                  1              0            0               0          1   \n",
       "2                  0              0            0               0          0   \n",
       "3                  1              1            0               0          1   \n",
       "4                  0              0            0               0          0   \n",
       "...              ...            ...          ...             ...        ...   \n",
       "7038               1              1            1               1          1   \n",
       "7039               1              0            1               1          1   \n",
       "7040               0              0            0               0          0   \n",
       "7041               0              0            0               0          0   \n",
       "7042               1              1            1               1          2   \n",
       "\n",
       "      paperlessbilling  paymentmethod  monthlycharges  totalcharges  target  \n",
       "0                  0                0           29.85         29.85       0  \n",
       "1                  1                1           56.95       1889.50       0  \n",
       "2                  0                1           53.85        108.15       1  \n",
       "3                  1                2           42.30       1840.75       0  \n",
       "4                  0                0           70.70        151.65       1  \n",
       "...              ...              ...             ...           ...     ...  \n",
       "7038               0                1           84.80       1990.50       0  \n",
       "7039               0                3          103.20       7362.90       0  \n",
       "7040               0                0           29.60        346.45       0  \n",
       "7041               0                1           74.40        306.60       1  \n",
       "7042               0                2          105.65       6844.50       0  \n",
       "\n",
       "[7043 rows x 15 columns]"
      ]
     },
     "execution_count": 17,
     "metadata": {},
     "output_type": "execute_result"
    }
   ],
   "source": [
    "df[df.select_dtypes([\"bool\",\"object\", \"category\"]).columns] = df.select_dtypes([\"bool\",\"object\", \"category\"]).apply(lambda df_: pd.factorize(df_)[0])\n",
    "df"
   ]
  },
  {
   "attachments": {},
   "cell_type": "markdown",
   "id": "272efcaa",
   "metadata": {},
   "source": [
    ">#  Custom Mix Immputer class"
   ]
  },
  {
   "cell_type": "code",
   "execution_count": 21,
   "id": "b26b8f48",
   "metadata": {},
   "outputs": [],
   "source": [
    "from my_imputer import MixImputer"
   ]
  },
  {
   "cell_type": "markdown",
   "id": "42947b6f",
   "metadata": {},
   "source": [
    "># Impute missing Values"
   ]
  },
  {
   "cell_type": "code",
   "execution_count": 22,
   "id": "ed9e72d7-a87b-49fa-8fb2-540f95cd9270",
   "metadata": {},
   "outputs": [],
   "source": [
    "df_final=  MixImputer(impute_missing=True).fit_transform(df)\n",
    "df_final=df_final .reset_index(drop=True)"
   ]
  },
  {
   "cell_type": "code",
   "execution_count": 23,
   "id": "04253c6b",
   "metadata": {},
   "outputs": [
    {
     "data": {
      "text/plain": [
       "seniorcitizen       0\n",
       "tenure              0\n",
       "internetservice     0\n",
       "onlinesecurity      0\n",
       "onlinebackup        0\n",
       "deviceprotection    0\n",
       "techsupport         0\n",
       "streamingtv         0\n",
       "streamingmovies     0\n",
       "contract            0\n",
       "paperlessbilling    0\n",
       "paymentmethod       0\n",
       "monthlycharges      0\n",
       "totalcharges        0\n",
       "target              0\n",
       "dtype: int64"
      ]
     },
     "execution_count": 23,
     "metadata": {},
     "output_type": "execute_result"
    }
   ],
   "source": [
    "df_final.isna().sum()"
   ]
  },
  {
   "cell_type": "markdown",
   "id": "0518e6cd",
   "metadata": {},
   "source": [
    "Now We are set for preprocessing modelling"
   ]
  },
  {
   "cell_type": "markdown",
   "id": "3e5e4767",
   "metadata": {},
   "source": [
    "# Train/Test Split"
   ]
  },
  {
   "attachments": {},
   "cell_type": "markdown",
   "id": "32596645",
   "metadata": {},
   "source": [
    "We will split the data in train and test for the preprocessing and training the model.\n",
    "We will use the stritification we that the ratio of classes stays the same between train and test set."
   ]
  },
  {
   "cell_type": "code",
   "execution_count": 24,
   "id": "67770234",
   "metadata": {},
   "outputs": [
    {
     "data": {
      "text/plain": [
       "((4930, 14), (4930,), (2113, 14), (2113,))"
      ]
     },
     "execution_count": 24,
     "metadata": {},
     "output_type": "execute_result"
    }
   ],
   "source": [
    "target_variable= \"target\"\n",
    "df_x = df_final.drop(columns=target_variable)\n",
    "df_y = df_final[target_variable]\n",
    "\n",
    "from sklearn.model_selection import train_test_split\n",
    "X_train, X_test, y_train, y_test = train_test_split(\n",
    "    df_x, df_y, test_size = 0.3, stratify=df_y, random_state =42\n",
    "    )\n",
    "X_train.shape, y_train.shape, X_test.shape, y_test.shape"
   ]
  },
  {
   "attachments": {},
   "cell_type": "markdown",
   "id": "bc3b5d44",
   "metadata": {},
   "source": [
    "# Preprocess Data"
   ]
  },
  {
   "cell_type": "code",
   "execution_count": 25,
   "id": "7a951e4c",
   "metadata": {},
   "outputs": [],
   "source": [
    "# preprocess\n",
    "from sklearn.pipeline import make_pipeline\n",
    "from imblearn.pipeline import Pipeline \n",
    "from sklearn.compose import ColumnTransformer, make_column_selector \n",
    "# transformer/imputer/scaller/var filter\n",
    "from sklearn.preprocessing import OneHotEncoder,StandardScaler, PolynomialFeatures\n",
    "from sklearn.feature_selection import VarianceThreshold, SelectFromModel"
   ]
  },
  {
   "cell_type": "markdown",
   "id": "0f86ca4c",
   "metadata": {},
   "source": [
    "# Library Models/Metrics pipelines"
   ]
  },
  {
   "cell_type": "code",
   "execution_count": 27,
   "id": "aa74967c",
   "metadata": {},
   "outputs": [],
   "source": [
    "# Import Models\n",
    "from sklearn import linear_model ,tree, ensemble\n",
    "import lightgbm\n",
    "from catboost import CatBoostClassifier\n",
    "# metric evaluation and cross validation\n",
    "from sklearn import metrics\n",
    "from sklearn.model_selection import cross_validate\n",
    "from sklearn.model_selection import cross_val_score"
   ]
  },
  {
   "cell_type": "markdown",
   "id": "a3caa1b3",
   "metadata": {},
   "source": [
    "# Libraries GRID and sample split"
   ]
  },
  {
   "cell_type": "code",
   "execution_count": 28,
   "id": "6fe2abc9",
   "metadata": {},
   "outputs": [],
   "source": [
    "from sklearn.model_selection import StratifiedKFold\n",
    "from sklearn.model_selection import RandomizedSearchCV\n",
    "from sklearn.model_selection import cross_validate\n",
    "from sklearn.model_selection import cross_val_score"
   ]
  },
  {
   "attachments": {},
   "cell_type": "markdown",
   "id": "a4091968",
   "metadata": {},
   "source": [
    "># Preprocessor"
   ]
  },
  {
   "cell_type": "code",
   "execution_count": 29,
   "id": "c732e79c",
   "metadata": {},
   "outputs": [
    {
     "data": {
      "text/html": [
       "<div>\n",
       "<style scoped>\n",
       "    .dataframe tbody tr th:only-of-type {\n",
       "        vertical-align: middle;\n",
       "    }\n",
       "\n",
       "    .dataframe tbody tr th {\n",
       "        vertical-align: top;\n",
       "    }\n",
       "\n",
       "    .dataframe thead th {\n",
       "        text-align: right;\n",
       "    }\n",
       "</style>\n",
       "<table border=\"1\" class=\"dataframe\">\n",
       "  <thead>\n",
       "    <tr style=\"text-align: right;\">\n",
       "      <th></th>\n",
       "      <th>num__seniorcitizen</th>\n",
       "      <th>num__tenure</th>\n",
       "      <th>num__internetservice</th>\n",
       "      <th>num__onlinesecurity</th>\n",
       "      <th>num__onlinebackup</th>\n",
       "      <th>num__deviceprotection</th>\n",
       "      <th>num__techsupport</th>\n",
       "      <th>num__streamingtv</th>\n",
       "      <th>num__streamingmovies</th>\n",
       "      <th>num__contract</th>\n",
       "      <th>num__paperlessbilling</th>\n",
       "      <th>num__paymentmethod</th>\n",
       "      <th>num__monthlycharges</th>\n",
       "      <th>num__totalcharges</th>\n",
       "    </tr>\n",
       "  </thead>\n",
       "  <tbody>\n",
       "    <tr>\n",
       "      <th>5557</th>\n",
       "      <td>-0.438147</td>\n",
       "      <td>-1.114728</td>\n",
       "      <td>0.169878</td>\n",
       "      <td>-0.906627</td>\n",
       "      <td>0.178649</td>\n",
       "      <td>-1.007401</td>\n",
       "      <td>-0.915605</td>\n",
       "      <td>0.227907</td>\n",
       "      <td>-1.085390</td>\n",
       "      <td>-0.830916</td>\n",
       "      <td>1.205295</td>\n",
       "      <td>-1.146603</td>\n",
       "      <td>0.504286</td>\n",
       "      <td>-0.836568</td>\n",
       "    </tr>\n",
       "    <tr>\n",
       "      <th>2270</th>\n",
       "      <td>2.282338</td>\n",
       "      <td>-1.195884</td>\n",
       "      <td>0.169878</td>\n",
       "      <td>-0.906627</td>\n",
       "      <td>0.178649</td>\n",
       "      <td>0.279921</td>\n",
       "      <td>-0.915605</td>\n",
       "      <td>0.227907</td>\n",
       "      <td>-1.085390</td>\n",
       "      <td>-0.830916</td>\n",
       "      <td>-0.829672</td>\n",
       "      <td>-1.146603</td>\n",
       "      <td>0.724189</td>\n",
       "      <td>-0.907808</td>\n",
       "    </tr>\n",
       "    <tr>\n",
       "      <th>6930</th>\n",
       "      <td>-0.438147</td>\n",
       "      <td>-1.195884</td>\n",
       "      <td>0.169878</td>\n",
       "      <td>-0.906627</td>\n",
       "      <td>0.178649</td>\n",
       "      <td>-1.007401</td>\n",
       "      <td>-0.915605</td>\n",
       "      <td>-1.089307</td>\n",
       "      <td>-1.085390</td>\n",
       "      <td>-0.830916</td>\n",
       "      <td>-0.829672</td>\n",
       "      <td>1.463967</td>\n",
       "      <td>0.337292</td>\n",
       "      <td>-0.909640</td>\n",
       "    </tr>\n",
       "    <tr>\n",
       "      <th>2257</th>\n",
       "      <td>-0.438147</td>\n",
       "      <td>1.117066</td>\n",
       "      <td>-1.187492</td>\n",
       "      <td>-0.906627</td>\n",
       "      <td>0.178649</td>\n",
       "      <td>0.279921</td>\n",
       "      <td>0.342809</td>\n",
       "      <td>0.227907</td>\n",
       "      <td>0.230315</td>\n",
       "      <td>0.367567</td>\n",
       "      <td>1.205295</td>\n",
       "      <td>1.463967</td>\n",
       "      <td>0.515860</td>\n",
       "      <td>1.110336</td>\n",
       "    </tr>\n",
       "    <tr>\n",
       "      <th>898</th>\n",
       "      <td>-0.438147</td>\n",
       "      <td>-0.830682</td>\n",
       "      <td>0.169878</td>\n",
       "      <td>0.349251</td>\n",
       "      <td>0.178649</td>\n",
       "      <td>-1.007401</td>\n",
       "      <td>0.342809</td>\n",
       "      <td>0.227907</td>\n",
       "      <td>0.230315</td>\n",
       "      <td>-0.830916</td>\n",
       "      <td>-0.829672</td>\n",
       "      <td>0.593777</td>\n",
       "      <td>1.122660</td>\n",
       "      <td>-0.515182</td>\n",
       "    </tr>\n",
       "    <tr>\n",
       "      <th>...</th>\n",
       "      <td>...</td>\n",
       "      <td>...</td>\n",
       "      <td>...</td>\n",
       "      <td>...</td>\n",
       "      <td>...</td>\n",
       "      <td>...</td>\n",
       "      <td>...</td>\n",
       "      <td>...</td>\n",
       "      <td>...</td>\n",
       "      <td>...</td>\n",
       "      <td>...</td>\n",
       "      <td>...</td>\n",
       "      <td>...</td>\n",
       "      <td>...</td>\n",
       "    </tr>\n",
       "    <tr>\n",
       "      <th>4250</th>\n",
       "      <td>-0.438147</td>\n",
       "      <td>1.238800</td>\n",
       "      <td>0.169878</td>\n",
       "      <td>0.349251</td>\n",
       "      <td>-1.172176</td>\n",
       "      <td>0.279921</td>\n",
       "      <td>0.342809</td>\n",
       "      <td>0.227907</td>\n",
       "      <td>-1.085390</td>\n",
       "      <td>0.367567</td>\n",
       "      <td>1.205295</td>\n",
       "      <td>1.463967</td>\n",
       "      <td>1.307841</td>\n",
       "      <td>1.871050</td>\n",
       "    </tr>\n",
       "    <tr>\n",
       "      <th>1488</th>\n",
       "      <td>-0.438147</td>\n",
       "      <td>-1.277041</td>\n",
       "      <td>-1.187492</td>\n",
       "      <td>0.349251</td>\n",
       "      <td>0.178649</td>\n",
       "      <td>-1.007401</td>\n",
       "      <td>-0.915605</td>\n",
       "      <td>-1.089307</td>\n",
       "      <td>-1.085390</td>\n",
       "      <td>-0.830916</td>\n",
       "      <td>1.205295</td>\n",
       "      <td>-0.276413</td>\n",
       "      <td>-0.453036</td>\n",
       "      <td>-0.981840</td>\n",
       "    </tr>\n",
       "    <tr>\n",
       "      <th>6303</th>\n",
       "      <td>-0.438147</td>\n",
       "      <td>1.563425</td>\n",
       "      <td>0.169878</td>\n",
       "      <td>-0.906627</td>\n",
       "      <td>-1.172176</td>\n",
       "      <td>0.279921</td>\n",
       "      <td>0.342809</td>\n",
       "      <td>0.227907</td>\n",
       "      <td>0.230315</td>\n",
       "      <td>1.566051</td>\n",
       "      <td>1.205295</td>\n",
       "      <td>-1.146603</td>\n",
       "      <td>1.464915</td>\n",
       "      <td>2.358299</td>\n",
       "    </tr>\n",
       "    <tr>\n",
       "      <th>2710</th>\n",
       "      <td>-0.438147</td>\n",
       "      <td>-0.343745</td>\n",
       "      <td>1.527247</td>\n",
       "      <td>1.605129</td>\n",
       "      <td>1.529474</td>\n",
       "      <td>1.567243</td>\n",
       "      <td>1.601223</td>\n",
       "      <td>1.545121</td>\n",
       "      <td>1.546021</td>\n",
       "      <td>0.367567</td>\n",
       "      <td>1.205295</td>\n",
       "      <td>1.463967</td>\n",
       "      <td>-1.473187</td>\n",
       "      <td>-0.793576</td>\n",
       "    </tr>\n",
       "    <tr>\n",
       "      <th>5639</th>\n",
       "      <td>-0.438147</td>\n",
       "      <td>-1.074150</td>\n",
       "      <td>1.527247</td>\n",
       "      <td>1.605129</td>\n",
       "      <td>1.529474</td>\n",
       "      <td>1.567243</td>\n",
       "      <td>1.601223</td>\n",
       "      <td>1.545121</td>\n",
       "      <td>1.546021</td>\n",
       "      <td>-0.830916</td>\n",
       "      <td>1.205295</td>\n",
       "      <td>-0.276413</td>\n",
       "      <td>-1.464920</td>\n",
       "      <td>-0.956516</td>\n",
       "    </tr>\n",
       "  </tbody>\n",
       "</table>\n",
       "<p>4930 rows × 14 columns</p>\n",
       "</div>"
      ],
      "text/plain": [
       "      num__seniorcitizen  num__tenure  num__internetservice  \\\n",
       "5557       -0.438147        -1.114728        0.169878         \n",
       "2270        2.282338        -1.195884        0.169878         \n",
       "6930       -0.438147        -1.195884        0.169878         \n",
       "2257       -0.438147         1.117066       -1.187492         \n",
       "898        -0.438147        -0.830682        0.169878         \n",
       "...              ...              ...             ...         \n",
       "4250       -0.438147         1.238800        0.169878         \n",
       "1488       -0.438147        -1.277041       -1.187492         \n",
       "6303       -0.438147         1.563425        0.169878         \n",
       "2710       -0.438147        -0.343745        1.527247         \n",
       "5639       -0.438147        -1.074150        1.527247         \n",
       "\n",
       "      num__onlinesecurity  num__onlinebackup  num__deviceprotection  \\\n",
       "5557       -0.906627             0.178649          -1.007401          \n",
       "2270       -0.906627             0.178649           0.279921          \n",
       "6930       -0.906627             0.178649          -1.007401          \n",
       "2257       -0.906627             0.178649           0.279921          \n",
       "898         0.349251             0.178649          -1.007401          \n",
       "...              ...                  ...                ...          \n",
       "4250        0.349251            -1.172176           0.279921          \n",
       "1488        0.349251             0.178649          -1.007401          \n",
       "6303       -0.906627            -1.172176           0.279921          \n",
       "2710        1.605129             1.529474           1.567243          \n",
       "5639        1.605129             1.529474           1.567243          \n",
       "\n",
       "      num__techsupport  num__streamingtv  num__streamingmovies  num__contract  \\\n",
       "5557       -0.915605          0.227907         -1.085390            -0.830916   \n",
       "2270       -0.915605          0.227907         -1.085390            -0.830916   \n",
       "6930       -0.915605         -1.089307         -1.085390            -0.830916   \n",
       "2257        0.342809          0.227907          0.230315             0.367567   \n",
       "898         0.342809          0.227907          0.230315            -0.830916   \n",
       "...              ...               ...               ...                  ...   \n",
       "4250        0.342809          0.227907         -1.085390             0.367567   \n",
       "1488       -0.915605         -1.089307         -1.085390            -0.830916   \n",
       "6303        0.342809          0.227907          0.230315             1.566051   \n",
       "2710        1.601223          1.545121          1.546021             0.367567   \n",
       "5639        1.601223          1.545121          1.546021            -0.830916   \n",
       "\n",
       "      num__paperlessbilling  num__paymentmethod  num__monthlycharges  \\\n",
       "5557        1.205295              -1.146603            0.504286        \n",
       "2270       -0.829672              -1.146603            0.724189        \n",
       "6930       -0.829672               1.463967            0.337292        \n",
       "2257        1.205295               1.463967            0.515860        \n",
       "898        -0.829672               0.593777            1.122660        \n",
       "...              ...                    ...                 ...        \n",
       "4250        1.205295               1.463967            1.307841        \n",
       "1488        1.205295              -0.276413           -0.453036        \n",
       "6303        1.205295              -1.146603            1.464915        \n",
       "2710        1.205295               1.463967           -1.473187        \n",
       "5639        1.205295              -0.276413           -1.464920        \n",
       "\n",
       "      num__totalcharges  \n",
       "5557       -0.836568     \n",
       "2270       -0.907808     \n",
       "6930       -0.909640     \n",
       "2257        1.110336     \n",
       "898        -0.515182     \n",
       "...              ...     \n",
       "4250        1.871050     \n",
       "1488       -0.981840     \n",
       "6303        2.358299     \n",
       "2710       -0.793576     \n",
       "5639       -0.956516     \n",
       "\n",
       "[4930 rows x 14 columns]"
      ]
     },
     "execution_count": 29,
     "metadata": {},
     "output_type": "execute_result"
    }
   ],
   "source": [
    "# seperate columns\n",
    "all_cols = X_train.columns.tolist()                      \n",
    "cat_cols = X_train.select_dtypes([\"object\",\"category\"]).columns.tolist()                      \n",
    "num_cols= X_train.columns[~X_train.columns.isin(cat_cols)] \n",
    "\n",
    "\n",
    "num_pipe= Pipeline (\n",
    "        steps =[\n",
    "        (\"std_scaler\", StandardScaler()),        \n",
    "        (\"variance_filter\", VarianceThreshold(threshold= 0.1)),        \n",
    "                ]\n",
    "                    )\n",
    "cat_pipe= Pipeline (\n",
    "        steps =[        \n",
    "        (\"one_hot\", OneHotEncoder(sparse_output=False, drop= \"first\", handle_unknown= \"ignore\")),\n",
    "        (\"variance_filter\", VarianceThreshold(threshold= 0.1)),\n",
    "                ]\n",
    "                    )\n",
    "\n",
    "prep = ColumnTransformer(\n",
    "    transformers= [      \n",
    "        (\"num\", num_pipe, num_cols), \n",
    "        (\"cat\", cat_pipe, cat_cols),              \n",
    "        # (\"a\", mean_encoder_pipe, [\"partner\"] ),\n",
    "        # (\"b\", mean_encoder_pipe, [\"gender\"] ),  \n",
    "        # (\"c\", mean_encoder_pipe, [\"seniorcitizen\"] )  \n",
    "        ],\n",
    "        remainder=\"passthrough\",        \n",
    "n_jobs=-1,\n",
    ").set_output(transform=\"pandas\")\n",
    "\n",
    "prep.fit_transform(X_train,y_train)\n"
   ]
  },
  {
   "attachments": {},
   "cell_type": "markdown",
   "id": "1a74fd9a",
   "metadata": {},
   "source": [
    "# Prepare Models"
   ]
  },
  {
   "cell_type": "code",
   "execution_count": 30,
   "id": "6e097f1e",
   "metadata": {},
   "outputs": [],
   "source": [
    "from sklearn.utils.class_weight import compute_class_weight\n",
    "sample_weight = compute_class_weight(\n",
    "             class_weight='balanced', classes=  np.unique(y_train) ,y= y_train\n",
    "             ) \n",
    "MLA= {    \n",
    "    #\"lm\": linear_model.LogisticRegression(class_weight= \"balanced\",n_jobs= -1,random_state=1 ),     \n",
    "    #\"dt\" : tree.DecisionTreeClassifier(class_weight= \"balanced\",random_state=1),\n",
    "    \"rf\": ensemble.RandomForestClassifier(class_weight= \"balanced\",n_jobs= -1, random_state=1 ),\n",
    "    #\"lgb\": lightgbm.LGBMClassifier(n_jobs=-1,random_state=1),    \n",
    "    }  "
   ]
  },
  {
   "attachments": {},
   "cell_type": "markdown",
   "id": "1df9f85b",
   "metadata": {},
   "source": [
    "# Create complete preprocess + model pipes"
   ]
  },
  {
   "cell_type": "code",
   "execution_count": 31,
   "id": "cb5c4d65",
   "metadata": {},
   "outputs": [
    {
     "data": {
      "text/plain": [
       "dict_keys(['rf'])"
      ]
     },
     "execution_count": 31,
     "metadata": {},
     "output_type": "execute_result"
    }
   ],
   "source": [
    "pipes = {}\n",
    "for x in MLA.keys():    \n",
    "        pipe= Pipeline(steps=[(\n",
    "                \"preprocess\", prep),\n",
    "                (\"model\", MLA[x])]\n",
    "                ).set_output(transform=\"pandas\")\n",
    "        pipes[x]=  pipe\n",
    "pipes.keys()"
   ]
  },
  {
   "attachments": {},
   "cell_type": "markdown",
   "id": "26a170fe",
   "metadata": {},
   "source": [
    "# Create function for valuation scores"
   ]
  },
  {
   "cell_type": "code",
   "execution_count": 32,
   "id": "9bb87831",
   "metadata": {},
   "outputs": [],
   "source": [
    "from sklearn.metrics import confusion_matrix, classification_report, classification_report\n",
    "from sklearn.metrics import accuracy_score, recall_score, precision_score, roc_auc_score\n",
    "def cl_scores(true, predicted):  \n",
    "    results= pd.DataFrame.from_dict(classification_report(y_test, predicted, output_dict=True))    \n",
    "    return results"
   ]
  },
  {
   "cell_type": "code",
   "execution_count": 33,
   "id": "d5b76a92",
   "metadata": {},
   "outputs": [],
   "source": [
    "def eval_scores(actuals, pred):\n",
    "    res= pd.DataFrame({ \n",
    "    \"accuracy\": [accuracy_score(actuals, pred)], \n",
    "    \"recall\": [recall_score(actuals, pred)],\n",
    "    \"roc_auc\": [roc_auc_score(actuals, pred)],\n",
    "    \"precision\": [precision_score(actuals, pred)]})\n",
    "    return res"
   ]
  },
  {
   "attachments": {},
   "cell_type": "markdown",
   "id": "a4b379be",
   "metadata": {},
   "source": [
    "# Run all models once"
   ]
  },
  {
   "cell_type": "code",
   "execution_count": 34,
   "id": "eb3218b9",
   "metadata": {},
   "outputs": [
    {
     "data": {
      "text/html": [
       "<div>\n",
       "<style scoped>\n",
       "    .dataframe tbody tr th:only-of-type {\n",
       "        vertical-align: middle;\n",
       "    }\n",
       "\n",
       "    .dataframe tbody tr th {\n",
       "        vertical-align: top;\n",
       "    }\n",
       "\n",
       "    .dataframe thead th {\n",
       "        text-align: right;\n",
       "    }\n",
       "</style>\n",
       "<table border=\"1\" class=\"dataframe\">\n",
       "  <thead>\n",
       "    <tr style=\"text-align: right;\">\n",
       "      <th></th>\n",
       "      <th>accuracy</th>\n",
       "      <th>recall</th>\n",
       "      <th>roc_auc</th>\n",
       "      <th>precision</th>\n",
       "      <th>model</th>\n",
       "    </tr>\n",
       "  </thead>\n",
       "  <tbody>\n",
       "    <tr>\n",
       "      <th>0</th>\n",
       "      <td>0.77946</td>\n",
       "      <td>0.456328</td>\n",
       "      <td>0.676295</td>\n",
       "      <td>0.613909</td>\n",
       "      <td>rf</td>\n",
       "    </tr>\n",
       "  </tbody>\n",
       "</table>\n",
       "</div>"
      ],
      "text/plain": [
       "   accuracy    recall   roc_auc  precision model\n",
       "0   0.77946  0.456328  0.676295   0.613909    rf"
      ]
     },
     "execution_count": 34,
     "metadata": {},
     "output_type": "execute_result"
    }
   ],
   "source": [
    "from sklearn.metrics import roc_auc_score\n",
    "cl_report= []\n",
    "scores= []\n",
    "auc_scores =[]\n",
    "for model in MLA.keys():    \n",
    "    pipes[model].fit(X_train, y_train )     \n",
    "    cl_report.append(cl_scores(y_test, pipes[model].predict(X_test)).assign(model = model))            \n",
    "    scores.append( eval_scores(y_test, pipes[model].predict(X_test) ).assign(model = model))   \n",
    "\n",
    "pd.concat(scores).sort_values(\"accuracy\", ascending=False)"
   ]
  },
  {
   "attachments": {},
   "cell_type": "markdown",
   "id": "ee3d1f69",
   "metadata": {},
   "source": [
    "The model that initially shows the highest accuracy is lgb. But lets run cross validate bcz without hyperparameter tunning most of the tree and ensemble models tend to overfit."
   ]
  },
  {
   "attachments": {},
   "cell_type": "markdown",
   "id": "bd8b9a67",
   "metadata": {},
   "source": [
    " # Cross Validaiton"
   ]
  },
  {
   "cell_type": "code",
   "execution_count": 35,
   "id": "8a2f78d0",
   "metadata": {},
   "outputs": [
    {
     "data": {
      "text/html": [
       "<div>\n",
       "<style scoped>\n",
       "    .dataframe tbody tr th:only-of-type {\n",
       "        vertical-align: middle;\n",
       "    }\n",
       "\n",
       "    .dataframe tbody tr th {\n",
       "        vertical-align: top;\n",
       "    }\n",
       "\n",
       "    .dataframe thead th {\n",
       "        text-align: right;\n",
       "    }\n",
       "</style>\n",
       "<table border=\"1\" class=\"dataframe\">\n",
       "  <thead>\n",
       "    <tr style=\"text-align: right;\">\n",
       "      <th></th>\n",
       "      <th>fit_time</th>\n",
       "      <th>score_time</th>\n",
       "      <th>test_score</th>\n",
       "      <th>train_score</th>\n",
       "      <th>model</th>\n",
       "    </tr>\n",
       "  </thead>\n",
       "  <tbody>\n",
       "    <tr>\n",
       "      <th>mean</th>\n",
       "      <td>0.321807</td>\n",
       "      <td>0.043042</td>\n",
       "      <td>0.786613</td>\n",
       "      <td>0.996507</td>\n",
       "      <td>rf</td>\n",
       "    </tr>\n",
       "  </tbody>\n",
       "</table>\n",
       "</div>"
      ],
      "text/plain": [
       "      fit_time  score_time  test_score  train_score model\n",
       "mean  0.321807    0.043042    0.786613     0.996507    rf"
      ]
     },
     "execution_count": 35,
     "metadata": {},
     "output_type": "execute_result"
    }
   ],
   "source": [
    "pd.options.plotting.backend = \"matplotlib\"\n",
    "from sklearn.model_selection import LearningCurveDisplay\n",
    "\n",
    "cv_scores= []\n",
    "scores= []\n",
    "\n",
    "for x in MLA.keys():    \n",
    "    cv_model_score = cross_validate(\n",
    "        pipes[x] ,X_train, y_train,cv=10,return_train_score=True, n_jobs=-1, verbose= 0)\n",
    "    cv_model_score_mean= (\n",
    "        pd.DataFrame.from_dict(cv_model_score).agg([\"mean\"]).assign(model=x))\n",
    "    cv_scores.append(cv_model_score_mean)     \n",
    "\n",
    "\n",
    "pd.concat(cv_scores).sort_values(\"test_score\", ascending =False)"
   ]
  },
  {
   "attachments": {},
   "cell_type": "markdown",
   "id": "63ef0ffb",
   "metadata": {},
   "source": [
    "The test score for rf is .78 compared to .99 train score. The randomforest, decision and lgb are overfitting quite a bit as can be seen from the plots below.\n",
    "\n",
    "## OverFitting \n",
    "Overfitting occurs when a machine learning model is too complex and begins to memorize the training data rather than learning to generalize patterns in the data. As a result, the model performs well on the training data, but poorly on new, unseen data.\n"
   ]
  },
  {
   "cell_type": "code",
   "execution_count": 37,
   "id": "ab2e20d6",
   "metadata": {},
   "outputs": [
    {
     "data": {
      "image/png": "[encoded data removed]",
      "text/plain": [
       "<Figure size 640x480 with 1 Axes>"
      ]
     },
     "metadata": {},
     "output_type": "display_data"
    }
   ],
   "source": [
    "for x in MLA.keys():        \n",
    "    fig=LearningCurveDisplay.from_estimator(\n",
    "    pipes[x], X_train, y_train, cv=10, n_jobs=-1, score_type= \"both\", train_sizes= np.linspace(0.1, 1, 10 ), verbose= 0 \n",
    "    )   \n",
    "    plt.title(x)"
   ]
  },
  {
   "attachments": {},
   "cell_type": "markdown",
   "id": "adc7780f",
   "metadata": {},
   "source": [
    "Lets Tune our model to improve the accuracy and reduce the overfitting so models can genral on unseen data better."
   ]
  },
  {
   "attachments": {},
   "cell_type": "markdown",
   "id": "237cdd37",
   "metadata": {},
   "source": [
    "# Hyper Parameters\n",
    "Lets define out hyperparameters"
   ]
  },
  {
   "cell_type": "code",
   "execution_count": 38,
   "id": "ff77c225",
   "metadata": {},
   "outputs": [],
   "source": [
    "from scipy.stats import randint, uniform, norm,reciprocal, expon, loguniform\n",
    "from scipy.stats.distributions import randint, uniform\n",
    "\n",
    "reciprocal.rvs(20, 200000), expon.rvs(scale=1.0)\n",
    "# loc is lower bound value and scale is the +2 range and size is number of observations \n",
    "uniform.rvs(loc=5, scale=2, size= 10),randint.rvs(low=20, high=70, size=10),norm.rvs(0.1, 1)\n",
    "# use randint.rvs(1,4) and uniform.rvs to see output values\n",
    "\n",
    "grid_solvers= ['saga']\n",
    "grid_poly = randint(1,2)\n",
    "grid_C=  uniform(0.009, 1)\n",
    "grid_penalties= ['l2']\n",
    "\n",
    "\n",
    "grid_n_estimator = randint(500, 900) \n",
    "max_features = ['sqrt']\n",
    "grid_max_depth = randint(2,7) \n",
    "grid_sample_split= randint(10,100)\n",
    "grid_learn=  uniform(0.01, .5)\n",
    "grid_min_sample_leaves = randint(1, 50)\n",
    "grid_num_leaves = randint(2,50)\n",
    "fraction= uniform(0.5, .5)\n",
    "grid_l2_lambda= uniform(0.1, 100)"
   ]
  },
  {
   "cell_type": "code",
   "execution_count": 57,
   "id": "912099ef",
   "metadata": {},
   "outputs": [],
   "source": [
    "MLA_params = {  \n",
    "    \"lm\": [{        \n",
    "         \"model__C\": grid_C,\n",
    "         'model__penalty' : grid_penalties,         \n",
    "         'model__solver' :grid_solvers,         \n",
    "         'model__max_iter': [10000]\n",
    "            }],    \n",
    "    \"dt\": [{        \n",
    "        'model__max_depth': grid_max_depth, \n",
    "        'model__max_features': max_features,   \n",
    "        'model__min_samples_leaf': grid_min_sample_leaves,                    \n",
    "            }],       \n",
    "    \"rf\" : [{                      \n",
    "        'model__n_estimators': grid_n_estimator,  \n",
    "        'model__max_depth': grid_max_depth,         \n",
    "        'model__max_features': max_features,        \n",
    "        'model__min_samples_leaf': grid_min_sample_leaves,\n",
    "        'model__min_samples_split': grid_sample_split\n",
    "            }],        \n",
    "    \"lgb\": [{        \n",
    "        'model__learning_rate': grid_learn,\n",
    "        'model__num_leaves': grid_num_leaves ,\n",
    "        'model__min_data_in_leaf': grid_min_sample_leaves,       \n",
    "        'model__max_depth': grid_max_depth,       \n",
    "        'model__n_estimators': grid_n_estimator,                          \n",
    "        'model__scale_pos_weight': [2.4], #[sample_weight[1]/sample_weight[0]]\n",
    "        \"model__lambda_l2\": grid_l2_lambda       \n",
    "        }]    \n",
    "    } "
   ]
  },
  {
   "attachments": {},
   "cell_type": "markdown",
   "id": "8c0970d2",
   "metadata": {},
   "source": [
    "# CV split"
   ]
  },
  {
   "cell_type": "code",
   "execution_count": 40,
   "id": "d66103b6",
   "metadata": {},
   "outputs": [],
   "source": [
    "cv_split = StratifiedKFold(n_splits= 10, random_state=10 , shuffle=True)"
   ]
  },
  {
   "attachments": {},
   "cell_type": "markdown",
   "id": "9ba48042",
   "metadata": {},
   "source": [
    "# Run Random CV for all models"
   ]
  },
  {
   "cell_type": "code",
   "execution_count": 58,
   "id": "aff94d38",
   "metadata": {},
   "outputs": [
    {
     "name": "stdout",
     "output_type": "stream",
     "text": [
      "Fitting 10 folds for each of 50 candidates, totalling 500 fits\n"
     ]
    }
   ],
   "source": [
    "import warnings\n",
    "warnings.filterwarnings('ignore')\n",
    "tune_params = {}\n",
    "best_model_scores= {}\n",
    "best_models = {}\n",
    "cl_report= []\n",
    "scores =[]\n",
    "\n",
    "for x in MLA.keys():\n",
    "#for x in [\"lgb\"]:\n",
    "    grid_cv= RandomizedSearchCV(\n",
    "            pipes[x],\n",
    "            param_distributions = MLA_params[x],\n",
    "            cv= cv_split,\n",
    "            scoring='roc_auc',\n",
    "            #scoring='accuracy',\n",
    "            n_iter = 50,\n",
    "            refit = \"f1\",\n",
    "            random_state=1,\n",
    "            verbose= 1,\n",
    "            n_jobs= -1 )\n",
    "\n",
    "    tune_grid =grid_cv.fit(X_train, y_train)\n",
    "\n",
    "    tune_params[x]= pd.DataFrame.from_dict(tune_grid.cv_results_ ).assign(model= x)\n",
    "\n",
    "    best_model_scores[x] = [tune_grid.best_score_]\n",
    "    best_models[x] = tune_grid.best_estimator_\n",
    "    best_model = tune_grid.best_estimator_\n",
    "    best_model.fit(X_train, y_train)        \n",
    "    cl_report.append(cl_scores(y_test,best_model.predict(X_test)).assign(model=x))\n",
    "    scores.append(eval_scores(y_test,best_model.predict(X_test)).assign(model=x))\n",
    "    "
   ]
  },
  {
   "attachments": {},
   "cell_type": "markdown",
   "id": "4b07ebc3",
   "metadata": {},
   "source": [
    "## Evaluation Scores\n",
    "The Model with best ROC/AUC over 10kfold cv has .8495 score on training data"
   ]
  },
  {
   "cell_type": "code",
   "execution_count": 59,
   "id": "14df9bea",
   "metadata": {},
   "outputs": [
    {
     "data": {
      "text/html": [
       "<div>\n",
       "<style scoped>\n",
       "    .dataframe tbody tr th:only-of-type {\n",
       "        vertical-align: middle;\n",
       "    }\n",
       "\n",
       "    .dataframe tbody tr th {\n",
       "        vertical-align: top;\n",
       "    }\n",
       "\n",
       "    .dataframe thead th {\n",
       "        text-align: right;\n",
       "    }\n",
       "</style>\n",
       "<table border=\"1\" class=\"dataframe\">\n",
       "  <thead>\n",
       "    <tr style=\"text-align: right;\">\n",
       "      <th></th>\n",
       "      <th>rf</th>\n",
       "    </tr>\n",
       "  </thead>\n",
       "  <tbody>\n",
       "    <tr>\n",
       "      <th>0</th>\n",
       "      <td>0.847669</td>\n",
       "    </tr>\n",
       "  </tbody>\n",
       "</table>\n",
       "</div>"
      ],
      "text/plain": [
       "         rf\n",
       "0  0.847669"
      ]
     },
     "execution_count": 59,
     "metadata": {},
     "output_type": "execute_result"
    }
   ],
   "source": [
    "pd.DataFrame.from_dict(best_model_scores)"
   ]
  },
  {
   "cell_type": "code",
   "execution_count": 60,
   "id": "2eca85a8",
   "metadata": {},
   "outputs": [
    {
     "data": {
      "text/html": [
       "<div>\n",
       "<style scoped>\n",
       "    .dataframe tbody tr th:only-of-type {\n",
       "        vertical-align: middle;\n",
       "    }\n",
       "\n",
       "    .dataframe tbody tr th {\n",
       "        vertical-align: top;\n",
       "    }\n",
       "\n",
       "    .dataframe thead th {\n",
       "        text-align: right;\n",
       "    }\n",
       "</style>\n",
       "<table border=\"1\" class=\"dataframe\">\n",
       "  <thead>\n",
       "    <tr style=\"text-align: right;\">\n",
       "      <th></th>\n",
       "      <th>accuracy</th>\n",
       "      <th>recall</th>\n",
       "      <th>roc_auc</th>\n",
       "      <th>precision</th>\n",
       "      <th>model</th>\n",
       "    </tr>\n",
       "  </thead>\n",
       "  <tbody>\n",
       "    <tr>\n",
       "      <th>0</th>\n",
       "      <td>0.751065</td>\n",
       "      <td>0.807487</td>\n",
       "      <td>0.769078</td>\n",
       "      <td>0.520092</td>\n",
       "      <td>rf</td>\n",
       "    </tr>\n",
       "  </tbody>\n",
       "</table>\n",
       "</div>"
      ],
      "text/plain": [
       "   accuracy    recall   roc_auc  precision model\n",
       "0  0.751065  0.807487  0.769078   0.520092    rf"
      ]
     },
     "execution_count": 60,
     "metadata": {},
     "output_type": "execute_result"
    }
   ],
   "source": [
    "pd.concat(scores, axis= 0)"
   ]
  },
  {
   "cell_type": "code",
   "execution_count": 61,
   "id": "f1186f29",
   "metadata": {},
   "outputs": [
    {
     "data": {
      "text/html": [
       "<div>\n",
       "<style scoped>\n",
       "    .dataframe tbody tr th:only-of-type {\n",
       "        vertical-align: middle;\n",
       "    }\n",
       "\n",
       "    .dataframe tbody tr th {\n",
       "        vertical-align: top;\n",
       "    }\n",
       "\n",
       "    .dataframe thead th {\n",
       "        text-align: right;\n",
       "    }\n",
       "</style>\n",
       "<table border=\"1\" class=\"dataframe\">\n",
       "  <thead>\n",
       "    <tr style=\"text-align: right;\">\n",
       "      <th></th>\n",
       "      <th>precision</th>\n",
       "      <th>recall</th>\n",
       "      <th>f1-score</th>\n",
       "      <th>support</th>\n",
       "    </tr>\n",
       "  </thead>\n",
       "  <tbody>\n",
       "    <tr>\n",
       "      <th>0.0</th>\n",
       "      <td>0.913043</td>\n",
       "      <td>0.73067</td>\n",
       "      <td>0.811739</td>\n",
       "      <td>1552.0</td>\n",
       "    </tr>\n",
       "    <tr>\n",
       "      <th>1.0</th>\n",
       "      <td>0.520092</td>\n",
       "      <td>0.807487</td>\n",
       "      <td>0.632682</td>\n",
       "      <td>561.0</td>\n",
       "    </tr>\n",
       "    <tr>\n",
       "      <th>accuracy</th>\n",
       "      <td>0.751065</td>\n",
       "      <td>0.751065</td>\n",
       "      <td>0.751065</td>\n",
       "      <td>0.751065</td>\n",
       "    </tr>\n",
       "    <tr>\n",
       "      <th>macro avg</th>\n",
       "      <td>0.716568</td>\n",
       "      <td>0.769078</td>\n",
       "      <td>0.722211</td>\n",
       "      <td>2113.0</td>\n",
       "    </tr>\n",
       "    <tr>\n",
       "      <th>weighted avg</th>\n",
       "      <td>0.808715</td>\n",
       "      <td>0.751065</td>\n",
       "      <td>0.7642</td>\n",
       "      <td>2113.0</td>\n",
       "    </tr>\n",
       "    <tr>\n",
       "      <th>model</th>\n",
       "      <td>rf</td>\n",
       "      <td>rf</td>\n",
       "      <td>rf</td>\n",
       "      <td>rf</td>\n",
       "    </tr>\n",
       "  </tbody>\n",
       "</table>\n",
       "</div>"
      ],
      "text/plain": [
       "             precision    recall  f1-score   support\n",
       "0.0           0.913043   0.73067  0.811739    1552.0\n",
       "1.0           0.520092  0.807487  0.632682     561.0\n",
       "accuracy      0.751065  0.751065  0.751065  0.751065\n",
       "macro avg     0.716568  0.769078  0.722211    2113.0\n",
       "weighted avg  0.808715  0.751065    0.7642    2113.0\n",
       "model               rf        rf        rf        rf"
      ]
     },
     "execution_count": 61,
     "metadata": {},
     "output_type": "execute_result"
    }
   ],
   "source": [
    "pd.concat(cl_report, axis= 0).T#.sort_values( \"accuracy\", ascending = False)"
   ]
  },
  {
   "cell_type": "markdown",
   "id": "8bebe2e9",
   "metadata": {},
   "source": [
    "># Cross validation on best models"
   ]
  },
  {
   "cell_type": "code",
   "execution_count": 62,
   "id": "080d4774",
   "metadata": {},
   "outputs": [
    {
     "data": {
      "image/png": "[encoded data removed]",
      "text/plain": [
       "<Figure size 640x480 with 1 Axes>"
      ]
     },
     "metadata": {},
     "output_type": "display_data"
    }
   ],
   "source": [
    "for x in MLA.keys():            \n",
    "#for x in [\"lgb\"]:            \n",
    "    fig= LearningCurveDisplay.from_estimator(\n",
    "    best_models[x], X_train, y_train, cv=10, n_jobs=-1, score_type= \"both\", train_sizes= np.linspace(0.1, 1, 10 )\n",
    "    )   \n",
    "    plt.title(x)\n"
   ]
  },
  {
   "attachments": {},
   "cell_type": "markdown",
   "id": "3291568f",
   "metadata": {},
   "source": [
    "># Pick a model out of all best models"
   ]
  },
  {
   "cell_type": "code",
   "execution_count": 63,
   "id": "53dfa0d1",
   "metadata": {},
   "outputs": [],
   "source": [
    "test_model_variable= \"rf\""
   ]
  },
  {
   "cell_type": "markdown",
   "id": "68a9a446",
   "metadata": {},
   "source": [
    "># Random Search Best Model Results"
   ]
  },
  {
   "cell_type": "code",
   "execution_count": 64,
   "id": "4184ef50",
   "metadata": {},
   "outputs": [
    {
     "data": {
      "text/html": [
       "<style>#sk-container-id-2 {color: black;background-color: white;}#sk-container-id-2 pre{padding: 0;}#sk-container-id-2 div.sk-toggleable {background-color: white;}#sk-container-id-2 label.sk-toggleable__label {cursor: pointer;display: block;width: 100%;margin-bottom: 0;padding: 0.3em;box-sizing: border-box;text-align: center;}#sk-container-id-2 label.sk-toggleable__label-arrow:before {content: \"▸\";float: left;margin-right: 0.25em;color: #696969;}#sk-container-id-2 label.sk-toggleable__label-arrow:hover:before {color: black;}#sk-container-id-2 div.sk-estimator:hover label.sk-toggleable__label-arrow:before {color: black;}#sk-container-id-2 div.sk-toggleable__content {max-height: 0;max-width: 0;overflow: hidden;text-align: left;background-color: #f0f8ff;}#sk-container-id-2 div.sk-toggleable__content pre {margin: 0.2em;color: black;border-radius: 0.25em;background-color: #f0f8ff;}#sk-container-id-2 input.sk-toggleable__control:checked~div.sk-toggleable__content {max-height: 200px;max-width: 100%;overflow: auto;}#sk-container-id-2 input.sk-toggleable__control:checked~label.sk-toggleable__label-arrow:before {content: \"▾\";}#sk-container-id-2 div.sk-estimator input.sk-toggleable__control:checked~label.sk-toggleable__label {background-color: #d4ebff;}#sk-container-id-2 div.sk-label input.sk-toggleable__control:checked~label.sk-toggleable__label {background-color: #d4ebff;}#sk-container-id-2 input.sk-hidden--visually {border: 0;clip: rect(1px 1px 1px 1px);clip: rect(1px, 1px, 1px, 1px);height: 1px;margin: -1px;overflow: hidden;padding: 0;position: absolute;width: 1px;}#sk-container-id-2 div.sk-estimator {font-family: monospace;background-color: #f0f8ff;border: 1px dotted black;border-radius: 0.25em;box-sizing: border-box;margin-bottom: 0.5em;}#sk-container-id-2 div.sk-estimator:hover {background-color: #d4ebff;}#sk-container-id-2 div.sk-parallel-item::after {content: \"\";width: 100%;border-bottom: 1px solid gray;flex-grow: 1;}#sk-container-id-2 div.sk-label:hover label.sk-toggleable__label {background-color: #d4ebff;}#sk-container-id-2 div.sk-serial::before {content: \"\";position: absolute;border-left: 1px solid gray;box-sizing: border-box;top: 0;bottom: 0;left: 50%;z-index: 0;}#sk-container-id-2 div.sk-serial {display: flex;flex-direction: column;align-items: center;background-color: white;padding-right: 0.2em;padding-left: 0.2em;position: relative;}#sk-container-id-2 div.sk-item {position: relative;z-index: 1;}#sk-container-id-2 div.sk-parallel {display: flex;align-items: stretch;justify-content: center;background-color: white;position: relative;}#sk-container-id-2 div.sk-item::before, #sk-container-id-2 div.sk-parallel-item::before {content: \"\";position: absolute;border-left: 1px solid gray;box-sizing: border-box;top: 0;bottom: 0;left: 50%;z-index: -1;}#sk-container-id-2 div.sk-parallel-item {display: flex;flex-direction: column;z-index: 1;position: relative;background-color: white;}#sk-container-id-2 div.sk-parallel-item:first-child::after {align-self: flex-end;width: 50%;}#sk-container-id-2 div.sk-parallel-item:last-child::after {align-self: flex-start;width: 50%;}#sk-container-id-2 div.sk-parallel-item:only-child::after {width: 0;}#sk-container-id-2 div.sk-dashed-wrapped {border: 1px dashed gray;margin: 0 0.4em 0.5em 0.4em;box-sizing: border-box;padding-bottom: 0.4em;background-color: white;}#sk-container-id-2 div.sk-label label {font-family: monospace;font-weight: bold;display: inline-block;line-height: 1.2em;}#sk-container-id-2 div.sk-label-container {text-align: center;}#sk-container-id-2 div.sk-container {/* jupyter's `normalize.less` sets `[hidden] { display: none; }` but bootstrap.min.css set `[hidden] { display: none !important; }` so we also need the `!important` here to be able to override the default hidden behavior on the sphinx rendered scikit-learn.org. See: https://github.com/scikit-learn/scikit-learn/issues/21755 */display: inline-block !important;position: relative;}#sk-container-id-2 div.sk-text-repr-fallback {display: none;}</style><div id=\"sk-container-id-2\" class=\"sk-top-container\"><div class=\"sk-text-repr-fallback\"><pre>Pipeline(steps=[(&#x27;preprocess&#x27;,\n",
       "                 ColumnTransformer(n_jobs=-1, remainder=&#x27;passthrough&#x27;,\n",
       "                                   transformers=[(&#x27;num&#x27;,\n",
       "                                                  Pipeline(steps=[(&#x27;std_scaler&#x27;,\n",
       "                                                                   StandardScaler()),\n",
       "                                                                  (&#x27;variance_filter&#x27;,\n",
       "                                                                   VarianceThreshold(threshold=0.1))]),\n",
       "                                                  Index([&#x27;seniorcitizen&#x27;, &#x27;tenure&#x27;, &#x27;internetservice&#x27;, &#x27;onlinesecurity&#x27;,\n",
       "       &#x27;onlinebackup&#x27;, &#x27;deviceprotection&#x27;, &#x27;techsupport&#x27;, &#x27;streamingtv&#x27;,\n",
       "       &#x27;streamingmovie...\n",
       "       &#x27;monthlycharges&#x27;, &#x27;totalcharges&#x27;],\n",
       "      dtype=&#x27;object&#x27;)),\n",
       "                                                 (&#x27;cat&#x27;,\n",
       "                                                  Pipeline(steps=[(&#x27;one_hot&#x27;,\n",
       "                                                                   OneHotEncoder(drop=&#x27;first&#x27;,\n",
       "                                                                                 handle_unknown=&#x27;ignore&#x27;,\n",
       "                                                                                 sparse_output=False)),\n",
       "                                                                  (&#x27;variance_filter&#x27;,\n",
       "                                                                   VarianceThreshold(threshold=0.1))]),\n",
       "                                                  [])])),\n",
       "                (&#x27;model&#x27;,\n",
       "                 RandomForestClassifier(class_weight=&#x27;balanced&#x27;, max_depth=6,\n",
       "                                        min_samples_leaf=7,\n",
       "                                        min_samples_split=27, n_estimators=678,\n",
       "                                        n_jobs=-1, random_state=1))])</pre><b>In a Jupyter environment, please rerun this cell to show the HTML representation or trust the notebook. <br />On GitHub, the HTML representation is unable to render, please try loading this page with nbviewer.org.</b></div><div class=\"sk-container\" hidden><div class=\"sk-item sk-dashed-wrapped\"><div class=\"sk-label-container\"><div class=\"sk-label sk-toggleable\"><input class=\"sk-toggleable__control sk-hidden--visually\" id=\"sk-estimator-id-12\" type=\"checkbox\" ><label for=\"sk-estimator-id-12\" class=\"sk-toggleable__label sk-toggleable__label-arrow\">Pipeline</label><div class=\"sk-toggleable__content\"><pre>Pipeline(steps=[(&#x27;preprocess&#x27;,\n",
       "                 ColumnTransformer(n_jobs=-1, remainder=&#x27;passthrough&#x27;,\n",
       "                                   transformers=[(&#x27;num&#x27;,\n",
       "                                                  Pipeline(steps=[(&#x27;std_scaler&#x27;,\n",
       "                                                                   StandardScaler()),\n",
       "                                                                  (&#x27;variance_filter&#x27;,\n",
       "                                                                   VarianceThreshold(threshold=0.1))]),\n",
       "                                                  Index([&#x27;seniorcitizen&#x27;, &#x27;tenure&#x27;, &#x27;internetservice&#x27;, &#x27;onlinesecurity&#x27;,\n",
       "       &#x27;onlinebackup&#x27;, &#x27;deviceprotection&#x27;, &#x27;techsupport&#x27;, &#x27;streamingtv&#x27;,\n",
       "       &#x27;streamingmovie...\n",
       "       &#x27;monthlycharges&#x27;, &#x27;totalcharges&#x27;],\n",
       "      dtype=&#x27;object&#x27;)),\n",
       "                                                 (&#x27;cat&#x27;,\n",
       "                                                  Pipeline(steps=[(&#x27;one_hot&#x27;,\n",
       "                                                                   OneHotEncoder(drop=&#x27;first&#x27;,\n",
       "                                                                                 handle_unknown=&#x27;ignore&#x27;,\n",
       "                                                                                 sparse_output=False)),\n",
       "                                                                  (&#x27;variance_filter&#x27;,\n",
       "                                                                   VarianceThreshold(threshold=0.1))]),\n",
       "                                                  [])])),\n",
       "                (&#x27;model&#x27;,\n",
       "                 RandomForestClassifier(class_weight=&#x27;balanced&#x27;, max_depth=6,\n",
       "                                        min_samples_leaf=7,\n",
       "                                        min_samples_split=27, n_estimators=678,\n",
       "                                        n_jobs=-1, random_state=1))])</pre></div></div></div><div class=\"sk-serial\"><div class=\"sk-item sk-dashed-wrapped\"><div class=\"sk-label-container\"><div class=\"sk-label sk-toggleable\"><input class=\"sk-toggleable__control sk-hidden--visually\" id=\"sk-estimator-id-13\" type=\"checkbox\" ><label for=\"sk-estimator-id-13\" class=\"sk-toggleable__label sk-toggleable__label-arrow\">preprocess: ColumnTransformer</label><div class=\"sk-toggleable__content\"><pre>ColumnTransformer(n_jobs=-1, remainder=&#x27;passthrough&#x27;,\n",
       "                  transformers=[(&#x27;num&#x27;,\n",
       "                                 Pipeline(steps=[(&#x27;std_scaler&#x27;,\n",
       "                                                  StandardScaler()),\n",
       "                                                 (&#x27;variance_filter&#x27;,\n",
       "                                                  VarianceThreshold(threshold=0.1))]),\n",
       "                                 Index([&#x27;seniorcitizen&#x27;, &#x27;tenure&#x27;, &#x27;internetservice&#x27;, &#x27;onlinesecurity&#x27;,\n",
       "       &#x27;onlinebackup&#x27;, &#x27;deviceprotection&#x27;, &#x27;techsupport&#x27;, &#x27;streamingtv&#x27;,\n",
       "       &#x27;streamingmovies&#x27;, &#x27;contract&#x27;, &#x27;paperlessbilling&#x27;, &#x27;paymentmethod&#x27;,\n",
       "       &#x27;monthlycharges&#x27;, &#x27;totalcharges&#x27;],\n",
       "      dtype=&#x27;object&#x27;)),\n",
       "                                (&#x27;cat&#x27;,\n",
       "                                 Pipeline(steps=[(&#x27;one_hot&#x27;,\n",
       "                                                  OneHotEncoder(drop=&#x27;first&#x27;,\n",
       "                                                                handle_unknown=&#x27;ignore&#x27;,\n",
       "                                                                sparse_output=False)),\n",
       "                                                 (&#x27;variance_filter&#x27;,\n",
       "                                                  VarianceThreshold(threshold=0.1))]),\n",
       "                                 [])])</pre></div></div></div><div class=\"sk-parallel\"><div class=\"sk-parallel-item\"><div class=\"sk-item\"><div class=\"sk-label-container\"><div class=\"sk-label sk-toggleable\"><input class=\"sk-toggleable__control sk-hidden--visually\" id=\"sk-estimator-id-14\" type=\"checkbox\" ><label for=\"sk-estimator-id-14\" class=\"sk-toggleable__label sk-toggleable__label-arrow\">num</label><div class=\"sk-toggleable__content\"><pre>Index([&#x27;seniorcitizen&#x27;, &#x27;tenure&#x27;, &#x27;internetservice&#x27;, &#x27;onlinesecurity&#x27;,\n",
       "       &#x27;onlinebackup&#x27;, &#x27;deviceprotection&#x27;, &#x27;techsupport&#x27;, &#x27;streamingtv&#x27;,\n",
       "       &#x27;streamingmovies&#x27;, &#x27;contract&#x27;, &#x27;paperlessbilling&#x27;, &#x27;paymentmethod&#x27;,\n",
       "       &#x27;monthlycharges&#x27;, &#x27;totalcharges&#x27;],\n",
       "      dtype=&#x27;object&#x27;)</pre></div></div></div><div class=\"sk-serial\"><div class=\"sk-item\"><div class=\"sk-serial\"><div class=\"sk-item\"><div class=\"sk-estimator sk-toggleable\"><input class=\"sk-toggleable__control sk-hidden--visually\" id=\"sk-estimator-id-15\" type=\"checkbox\" ><label for=\"sk-estimator-id-15\" class=\"sk-toggleable__label sk-toggleable__label-arrow\">StandardScaler</label><div class=\"sk-toggleable__content\"><pre>StandardScaler()</pre></div></div></div><div class=\"sk-item\"><div class=\"sk-estimator sk-toggleable\"><input class=\"sk-toggleable__control sk-hidden--visually\" id=\"sk-estimator-id-16\" type=\"checkbox\" ><label for=\"sk-estimator-id-16\" class=\"sk-toggleable__label sk-toggleable__label-arrow\">VarianceThreshold</label><div class=\"sk-toggleable__content\"><pre>VarianceThreshold(threshold=0.1)</pre></div></div></div></div></div></div></div></div><div class=\"sk-parallel-item\"><div class=\"sk-item\"><div class=\"sk-label-container\"><div class=\"sk-label sk-toggleable\"><input class=\"sk-toggleable__control sk-hidden--visually\" id=\"sk-estimator-id-17\" type=\"checkbox\" ><label for=\"sk-estimator-id-17\" class=\"sk-toggleable__label sk-toggleable__label-arrow\">cat</label><div class=\"sk-toggleable__content\"><pre>[]</pre></div></div></div><div class=\"sk-serial\"><div class=\"sk-item\"><div class=\"sk-serial\"><div class=\"sk-item\"><div class=\"sk-estimator sk-toggleable\"><input class=\"sk-toggleable__control sk-hidden--visually\" id=\"sk-estimator-id-18\" type=\"checkbox\" ><label for=\"sk-estimator-id-18\" class=\"sk-toggleable__label sk-toggleable__label-arrow\">OneHotEncoder</label><div class=\"sk-toggleable__content\"><pre>OneHotEncoder(drop=&#x27;first&#x27;, handle_unknown=&#x27;ignore&#x27;, sparse_output=False)</pre></div></div></div><div class=\"sk-item\"><div class=\"sk-estimator sk-toggleable\"><input class=\"sk-toggleable__control sk-hidden--visually\" id=\"sk-estimator-id-19\" type=\"checkbox\" ><label for=\"sk-estimator-id-19\" class=\"sk-toggleable__label sk-toggleable__label-arrow\">VarianceThreshold</label><div class=\"sk-toggleable__content\"><pre>VarianceThreshold(threshold=0.1)</pre></div></div></div></div></div></div></div></div><div class=\"sk-parallel-item\"><div class=\"sk-item\"><div class=\"sk-label-container\"><div class=\"sk-label sk-toggleable\"><input class=\"sk-toggleable__control sk-hidden--visually\" id=\"sk-estimator-id-20\" type=\"checkbox\" ><label for=\"sk-estimator-id-20\" class=\"sk-toggleable__label sk-toggleable__label-arrow\">remainder</label><div class=\"sk-toggleable__content\"><pre>[]</pre></div></div></div><div class=\"sk-serial\"><div class=\"sk-item\"><div class=\"sk-estimator sk-toggleable\"><input class=\"sk-toggleable__control sk-hidden--visually\" id=\"sk-estimator-id-21\" type=\"checkbox\" ><label for=\"sk-estimator-id-21\" class=\"sk-toggleable__label sk-toggleable__label-arrow\">passthrough</label><div class=\"sk-toggleable__content\"><pre>passthrough</pre></div></div></div></div></div></div></div></div><div class=\"sk-item\"><div class=\"sk-estimator sk-toggleable\"><input class=\"sk-toggleable__control sk-hidden--visually\" id=\"sk-estimator-id-22\" type=\"checkbox\" ><label for=\"sk-estimator-id-22\" class=\"sk-toggleable__label sk-toggleable__label-arrow\">RandomForestClassifier</label><div class=\"sk-toggleable__content\"><pre>RandomForestClassifier(class_weight=&#x27;balanced&#x27;, max_depth=6, min_samples_leaf=7,\n",
       "                       min_samples_split=27, n_estimators=678, n_jobs=-1,\n",
       "                       random_state=1)</pre></div></div></div></div></div></div></div>"
      ],
      "text/plain": [
       "Pipeline(steps=[('preprocess',\n",
       "                 ColumnTransformer(n_jobs=-1, remainder='passthrough',\n",
       "                                   transformers=[('num',\n",
       "                                                  Pipeline(steps=[('std_scaler',\n",
       "                                                                   StandardScaler()),\n",
       "                                                                  ('variance_filter',\n",
       "                                                                   VarianceThreshold(threshold=0.1))]),\n",
       "                                                  Index(['seniorcitizen', 'tenure', 'internetservice', 'onlinesecurity',\n",
       "       'onlinebackup', 'deviceprotection', 'techsupport', 'streamingtv',\n",
       "       'streamingmovie...\n",
       "       'monthlycharges', 'totalcharges'],\n",
       "      dtype='object')),\n",
       "                                                 ('cat',\n",
       "                                                  Pipeline(steps=[('one_hot',\n",
       "                                                                   OneHotEncoder(drop='first',\n",
       "                                                                                 handle_unknown='ignore',\n",
       "                                                                                 sparse_output=False)),\n",
       "                                                                  ('variance_filter',\n",
       "                                                                   VarianceThreshold(threshold=0.1))]),\n",
       "                                                  [])])),\n",
       "                ('model',\n",
       "                 RandomForestClassifier(class_weight='balanced', max_depth=6,\n",
       "                                        min_samples_leaf=7,\n",
       "                                        min_samples_split=27, n_estimators=678,\n",
       "                                        n_jobs=-1, random_state=1))])"
      ]
     },
     "execution_count": 64,
     "metadata": {},
     "output_type": "execute_result"
    }
   ],
   "source": [
    "best_model_scores[test_model_variable]\n",
    "final_pipe= best_models[test_model_variable]\n",
    "final_pipe"
   ]
  },
  {
   "cell_type": "code",
   "execution_count": 52,
   "id": "059cb892",
   "metadata": {},
   "outputs": [],
   "source": [
    "final_pipe = final_pipe.fit(X_train, y_train)"
   ]
  },
  {
   "cell_type": "code",
   "execution_count": 53,
   "id": "24cccc36",
   "metadata": {},
   "outputs": [
    {
     "data": {
      "text/html": [
       "<div>\n",
       "<style scoped>\n",
       "    .dataframe tbody tr th:only-of-type {\n",
       "        vertical-align: middle;\n",
       "    }\n",
       "\n",
       "    .dataframe tbody tr th {\n",
       "        vertical-align: top;\n",
       "    }\n",
       "\n",
       "    .dataframe thead th {\n",
       "        text-align: right;\n",
       "    }\n",
       "</style>\n",
       "<table border=\"1\" class=\"dataframe\">\n",
       "  <thead>\n",
       "    <tr style=\"text-align: right;\">\n",
       "      <th></th>\n",
       "      <th>accuracy</th>\n",
       "      <th>recall</th>\n",
       "      <th>roc_auc</th>\n",
       "      <th>precision</th>\n",
       "    </tr>\n",
       "  </thead>\n",
       "  <tbody>\n",
       "    <tr>\n",
       "      <th>0</th>\n",
       "      <td>0.752485</td>\n",
       "      <td>0.809269</td>\n",
       "      <td>0.770614</td>\n",
       "      <td>0.521839</td>\n",
       "    </tr>\n",
       "  </tbody>\n",
       "</table>\n",
       "</div>"
      ],
      "text/plain": [
       "   accuracy    recall   roc_auc  precision\n",
       "0  0.752485  0.809269  0.770614   0.521839"
      ]
     },
     "execution_count": 53,
     "metadata": {},
     "output_type": "execute_result"
    }
   ],
   "source": [
    "eval_scores(y_test, final_pipe.predict(X_test))"
   ]
  },
  {
   "cell_type": "code",
   "execution_count": 55,
   "id": "e295e1d2",
   "metadata": {},
   "outputs": [
    {
     "data": {
      "image/png": "[encoded data removed]",
      "text/plain": [
       "<Figure size 640x480 with 2 Axes>"
      ]
     },
     "metadata": {},
     "output_type": "display_data"
    },
    {
     "data": {
      "text/plain": [
       "0.0    1552\n",
       "1.0     561\n",
       "Name: target, dtype: int64"
      ]
     },
     "execution_count": 55,
     "metadata": {},
     "output_type": "execute_result"
    }
   ],
   "source": [
    "from sklearn.metrics import confusion_matrix, ConfusionMatrixDisplay\n",
    "cm = confusion_matrix(y_test,final_pipe.predict(X_test), labels=final_pipe[\"model\"].classes_)\n",
    "disp = ConfusionMatrixDisplay(confusion_matrix=cm,\n",
    "                               display_labels=final_pipe[\"model\"].classes_)\n",
    "disp.plot()\n",
    "plt.show()"
   ]
  },
  {
   "cell_type": "code",
   "execution_count": 56,
   "id": "f16397d9",
   "metadata": {},
   "outputs": [
    {
     "data": {
      "image/png": "[encoded data removed]",
      "text/plain": [
       "<Figure size 640x480 with 1 Axes>"
      ]
     },
     "metadata": {},
     "output_type": "display_data"
    }
   ],
   "source": [
    "from sklearn.model_selection import LearningCurveDisplay\n",
    "_ = LearningCurveDisplay.from_estimator(\n",
    "    final_pipe, X_train, y_train, cv=10, n_jobs=-1, score_type= \"both\", train_sizes= np.linspace(0.1, 1, 15 )\n",
    ")"
   ]
  },
  {
   "cell_type": "markdown",
   "id": "b3089f62",
   "metadata": {},
   "source": [
    "## Lets try the feature selelction automatically using Lasso and see if it gives better results with interaction terms"
   ]
  },
  {
   "cell_type": "markdown",
   "id": "3cbd84d5",
   "metadata": {},
   "source": [
    "## Random Oversampling\n",
    "Random Oversampling is simply randomly picking data points in our minority class and duplicating them. "
   ]
  },
  {
   "cell_type": "markdown",
   "id": "f951885d",
   "metadata": {},
   "source": [
    "## Random Undersampling\n",
    "Random Undersampling is simply randomly picking data points in our majority class and removing them. "
   ]
  },
  {
   "cell_type": "markdown",
   "id": "a799dc11",
   "metadata": {},
   "source": [
    "## Synthetic Minority Oversampling (SMOTE)\n",
    "Synthetic Minority Oversampling (SMOTE) is an oversampling technique that creates synthetic data points. SMOTE address’ the core problem in oversampling. Oversampling creates duplicate datapoints whereas SMOTE slightly alters these data points. "
   ]
  },
  {
   "cell_type": "markdown",
   "id": "2b36d5dd",
   "metadata": {},
   "source": [
    "## Borderline Smote\n",
    "The idea behind borderline SMOTE is that we only want to use data that’s at risk of being misclassified as the data to be oversampled. In this case, we build a classifier to classify points as positive or negative. Then, for the data points we misclassify, we oversample those data points. This would hopefully train our algorithm to better recognize these difficult instances and correct for them. "
   ]
  },
  {
   "cell_type": "markdown",
   "id": "7de81aad",
   "metadata": {},
   "source": [
    "## Adaptive Synthetic Oversampling (ADASYN)\n",
    "The idea behind AdaSyn is to use a weight distribution of our minority class. Essentially, we give higher weight to instances that are more difficult to learn and lower weight to instances that are easier to learn. AdaSyn is very similar to safe-level SMOTE, except there’s just a different way of computing the synthetic data points. "
   ]
  },
  {
   "cell_type": "code",
   "execution_count": null,
   "id": "e5b59a5b",
   "metadata": {},
   "outputs": [],
   "source": [
    "from imblearn.over_sampling import RandomOverSampler\n",
    "from imblearn.under_sampling import RandomUnderSampler\n",
    "from imblearn.over_sampling import SMOTE \n",
    "from imblearn.over_sampling import BorderlineSMOTE\n",
    "from imblearn.over_sampling import ADASYN \n",
    "#up_smpl = RandomOverSampler(random_state = 42) \n",
    "#up_smpl = RandomUnderSampler(random_state = 42) \n",
    "#up_smpl = SMOTE(random_state = 42) \n",
    "#up_smpl = BorderlineSMOTE(random_state = 42) \n",
    "up_smpl = ADASYN(random_state = 42) \n",
    "\n",
    "#X_train,y_train = up_smpl.fit_resample(X_train,y_train)\n"
   ]
  },
  {
   "cell_type": "code",
   "execution_count": null,
   "id": "12880a89",
   "metadata": {},
   "outputs": [],
   "source": [
    "pipes = {}\n",
    "for x in MLA.keys():    \n",
    "        pipe= Pipeline(steps=[(\n",
    "                \"preprocess\", prep),\n",
    "                ('sampling', up_smpl),                                \n",
    "                #('feature_selection', SelectFromModel(linear_model.LogisticRegression(class_weight= \"balanced\", penalty= \"l1\", C = .04,solver='liblinear' ))),  \n",
    "                (\"model\", MLA[x])]\n",
    "                ).set_output(transform=\"pandas\")\n",
    "        pipes[x]=  pipe\n",
    "pipes.keys()"
   ]
  },
  {
   "cell_type": "code",
   "execution_count": null,
   "id": "78fd9f24",
   "metadata": {},
   "outputs": [],
   "source": [
    "# Under/Over Sampling"
   ]
  },
  {
   "cell_type": "markdown",
   "id": "3129afe3",
   "metadata": {},
   "source": [
    "# Hyper Parameters"
   ]
  },
  {
   "cell_type": "code",
   "execution_count": null,
   "id": "d60cc808",
   "metadata": {},
   "outputs": [],
   "source": [
    "grid_poly = randint(1,2)\n",
    "grid_C= uniform(0.05, .05)\n",
    "grid_n_estimator = randint(500, 1000)# Number of trees in the forest.\n",
    "grid_max_depth = randint(2,12) #The max_depth of a tree in Random Forest is defined as the longest path between the root node and the leaf node.\n",
    "grid_learn=  uniform(0.03, .03)\n",
    "grid_min_sample_leaves = randint(1, 100)\n",
    "grid_num_leaves = randint(8, 3000)\n",
    "fraction= uniform(0.6, .4)\n",
    "MLA_params = {      \n",
    "    \"lgb\": [{        \n",
    "        #\"feature_selection__estimator__C\": grid_C,        \n",
    "        'model__learning_rate': grid_learn,\n",
    "        'model__num_leaves': grid_num_leaves ,\n",
    "        'model__min_data_in_leaf': grid_min_sample_leaves,       \n",
    "        'model__max_depth': grid_max_depth,       \n",
    "        'model__n_estimators': grid_n_estimator,            \n",
    "        #'model__scale_pos_weight': [sample_weight[1]/sample_weight[0]],\n",
    "        \"model__lambda_l2\": grid_l2_lambda   \n",
    "        }]   \n",
    "    } "
   ]
  },
  {
   "cell_type": "markdown",
   "id": "daeba3b5",
   "metadata": {},
   "source": [
    "# ROC_AUC"
   ]
  },
  {
   "cell_type": "code",
   "execution_count": null,
   "id": "6cc4a611",
   "metadata": {},
   "outputs": [],
   "source": [
    "import warnings\n",
    "warnings.filterwarnings('ignore')\n",
    "grid_cv= RandomizedSearchCV(\n",
    "            pipes[test_model_variable],\n",
    "            param_distributions = MLA_params[test_model_variable],\n",
    "            cv= cv_split,\n",
    "            scoring='roc_auc',\n",
    "            #scoring='accuracy',\n",
    "            n_iter = 50,\n",
    "            #refit = \"recall\",\n",
    "            random_state=1,\n",
    "            verbose= 1,\n",
    "            n_jobs= -1 )\n",
    "\n",
    "tune_grid =grid_cv.fit(X_train, y_train)\n"
   ]
  },
  {
   "cell_type": "code",
   "execution_count": null,
   "id": "d4814623",
   "metadata": {},
   "outputs": [],
   "source": [
    "final_pipe= tune_grid.best_estimator_\n",
    "final_pipe"
   ]
  },
  {
   "cell_type": "code",
   "execution_count": null,
   "id": "ef3572cd",
   "metadata": {},
   "outputs": [],
   "source": [
    "final_pipe = final_pipe.fit(X_train, y_train)    \n",
    "eval_scores(y_test, final_pipe.predict(X_test))"
   ]
  },
  {
   "cell_type": "code",
   "execution_count": null,
   "id": "752e929e",
   "metadata": {},
   "outputs": [],
   "source": [
    "from sklearn.metrics import confusion_matrix, ConfusionMatrixDisplay\n",
    "cm = confusion_matrix(y_test,final_pipe.predict(X_test), labels=final_pipe[\"model\"].classes_)\n",
    "disp = ConfusionMatrixDisplay(confusion_matrix=cm,\n",
    "                               display_labels=final_pipe[\"model\"].classes_)\n",
    "disp.plot()\n",
    "plt.show()\n",
    "pd.Series(y_test).value_counts()"
   ]
  },
  {
   "cell_type": "code",
   "execution_count": null,
   "id": "54863020",
   "metadata": {},
   "outputs": [],
   "source": [
    "from sklearn.model_selection import LearningCurveDisplay\n",
    "_ = LearningCurveDisplay.from_estimator(\n",
    "    final_pipe, X_train, y_train, cv=5, n_jobs=-1, score_type= \"both\", train_sizes= np.linspace(0.1, 1, 10 )\n",
    ")"
   ]
  },
  {
   "attachments": {},
   "cell_type": "markdown",
   "id": "8cc8c8e9",
   "metadata": {},
   "source": [
    "# Accuracy"
   ]
  },
  {
   "cell_type": "code",
   "execution_count": null,
   "id": "b8e4ceec",
   "metadata": {},
   "outputs": [],
   "source": [
    "import warnings\n",
    "warnings.filterwarnings('ignore')\n",
    "grid_cv= RandomizedSearchCV(\n",
    "            pipes[test_model_variable],\n",
    "            param_distributions = MLA_params[test_model_variable],\n",
    "            cv= cv_split,\n",
    "            # scoring='roc_auc',\n",
    "            scoring='accuracy',\n",
    "            n_iter = 150,\n",
    "            #refit = \"recall\",\n",
    "            random_state=1,\n",
    "            verbose= 1,\n",
    "            n_jobs= -1 )\n",
    "\n",
    "tune_grid =grid_cv.fit(X_train, y_train)\n"
   ]
  },
  {
   "cell_type": "code",
   "execution_count": null,
   "id": "c0aad7eb",
   "metadata": {},
   "outputs": [],
   "source": [
    "final_pipe= tune_grid.best_estimator_\n",
    "final_pipe"
   ]
  },
  {
   "cell_type": "code",
   "execution_count": null,
   "id": "68ce7f4c",
   "metadata": {},
   "outputs": [],
   "source": [
    "final_pipe = final_pipe.fit(X_train, y_train)    \n",
    "eval_scores(y_test, final_pipe.predict(X_test))"
   ]
  },
  {
   "cell_type": "code",
   "execution_count": null,
   "id": "400499e7",
   "metadata": {},
   "outputs": [],
   "source": [
    "from sklearn.metrics import confusion_matrix, ConfusionMatrixDisplay\n",
    "cm = confusion_matrix(y_test,final_pipe.predict(X_test), labels=final_pipe[\"model\"].classes_)\n",
    "disp = ConfusionMatrixDisplay(confusion_matrix=cm,\n",
    "                               display_labels=final_pipe[\"model\"].classes_)\n",
    "disp.plot()\n",
    "plt.show()\n",
    "pd.Series(y_test).value_counts()"
   ]
  },
  {
   "cell_type": "code",
   "execution_count": null,
   "id": "f7e03a66",
   "metadata": {},
   "outputs": [],
   "source": [
    "from sklearn.model_selection import LearningCurveDisplay\n",
    "_ = LearningCurveDisplay.from_estimator(\n",
    "    final_pipe, X_train, y_train, cv=5, n_jobs=-1, score_type= \"both\", train_sizes= np.linspace(0.1, 1, 10 )\n",
    ")"
   ]
  },
  {
   "attachments": {},
   "cell_type": "markdown",
   "id": "7f1abe82",
   "metadata": {},
   "source": [
    "# F1"
   ]
  },
  {
   "cell_type": "code",
   "execution_count": null,
   "id": "c4f5e7c0",
   "metadata": {},
   "outputs": [],
   "source": [
    "import warnings\n",
    "warnings.filterwarnings('ignore')\n",
    "grid_cv= RandomizedSearchCV(\n",
    "            pipes[test_model_variable],\n",
    "            param_distributions = MLA_params[test_model_variable],\n",
    "            cv= cv_split,\n",
    "           # scoring='roc_auc',\n",
    "            #scoring='precision',\n",
    "            scoring='f1',\n",
    "            #scoring='accuracy',\n",
    "            n_iter = 150,\n",
    "            #refit = \"recall\",\n",
    "            random_state=1,\n",
    "            verbose= 1,\n",
    "            n_jobs= -1 )\n",
    "\n",
    "tune_grid =grid_cv.fit(X_train, y_train)\n",
    "    "
   ]
  },
  {
   "cell_type": "code",
   "execution_count": null,
   "id": "25daadec",
   "metadata": {},
   "outputs": [],
   "source": [
    "final_pipe= tune_grid.best_estimator_\n",
    "final_pipe"
   ]
  },
  {
   "cell_type": "code",
   "execution_count": null,
   "id": "81d79c3e",
   "metadata": {},
   "outputs": [],
   "source": [
    "final_pipe = final_pipe.fit(X_train, y_train)    \n",
    "eval_scores(y_test, final_pipe.predict(X_test))"
   ]
  },
  {
   "cell_type": "code",
   "execution_count": null,
   "id": "1f4c667c",
   "metadata": {},
   "outputs": [],
   "source": [
    "from sklearn.metrics import confusion_matrix, ConfusionMatrixDisplay\n",
    "cm = confusion_matrix(y_test,final_pipe.predict(X_test), labels=final_pipe[\"model\"].classes_)\n",
    "disp = ConfusionMatrixDisplay(confusion_matrix=cm,\n",
    "                               display_labels=final_pipe[\"model\"].classes_)\n",
    "disp.plot()\n",
    "plt.show()\n",
    "pd.Series(y_test).value_counts()"
   ]
  },
  {
   "cell_type": "code",
   "execution_count": null,
   "id": "3d0d0b88",
   "metadata": {},
   "outputs": [],
   "source": [
    "from sklearn.model_selection import LearningCurveDisplay\n",
    "_ = LearningCurveDisplay.from_estimator(\n",
    "    final_pipe, X_train, y_train, cv=5, n_jobs=-1, score_type= \"both\", train_sizes= np.linspace(0.1, 1, 10 )\n",
    ")"
   ]
  },
  {
   "cell_type": "code",
   "execution_count": null,
   "id": "7461d1e2",
   "metadata": {},
   "outputs": [],
   "source": []
  },
  {
   "cell_type": "code",
   "execution_count": null,
   "id": "93e07e87",
   "metadata": {},
   "outputs": [],
   "source": [
    "explainerlgbmc = shap.TreeExplainer(lgbmc_5)\n",
    "shap_values_LightGBM_test = explainerlgbmc.shap_values(X_test)\n",
    "shap_values_LightGBM_train = explainerlgbmc.shap_values(X_train)\n",
    "shap.summary_plot(shap_values_LightGBM_train, X_train, plot_type=\"bar\")\n",
    "shap.summary_plot(shap_values_cat_train, X_train, plot_type=\"bar\")"
   ]
  },
  {
   "cell_type": "code",
   "execution_count": null,
   "id": "eb96bac1",
   "metadata": {},
   "outputs": [],
   "source": []
  },
  {
   "cell_type": "code",
   "execution_count": null,
   "id": "b217bd53",
   "metadata": {},
   "outputs": [],
   "source": []
  },
  {
   "cell_type": "code",
   "execution_count": null,
   "id": "27958fac",
   "metadata": {},
   "outputs": [],
   "source": []
  }
 ],
 "metadata": {
  "kernelspec": {
   "display_name": "Python 3.10.6 ('base')",
   "language": "python",
   "name": "python3"
  },
  "language_info": {
   "codemirror_mode": {
    "name": "ipython",
    "version": 3
   },
   "file_extension": ".py",
   "mimetype": "text/x-python",
   "name": "python",
   "nbconvert_exporter": "python",
   "pygments_lexer": "ipython3",
   "version": "3.10.8"
  },
  "toc-autonumbering": false,
  "toc-showcode": false,
  "toc-showmarkdowntxt": false,
  "toc-showtags": true,
  "vscode": {
   "interpreter": {
    "hash": "e7cb1b9ae4d417fedf7f40a8eec98f7cfbd359e096bd857395a915f4609834ce"
   }
  }
 },
 "nbformat": 4,
 "nbformat_minor": 5
}
