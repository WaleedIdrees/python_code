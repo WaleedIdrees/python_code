{
 "cells": [
  {
   "attachments": {},
   "cell_type": "markdown",
   "metadata": {
    "slideshow": {
     "slide_type": "slide"
    }
   },
   "source": [
    "---\n",
    "## Give your presentation a title\n",
    "title: \"My Jupyter Notebook Presentation\"\n",
    "## Choose a reveal.js theme, options are available at https://revealjs.com/themes/\n",
    "theme: \"beige\"\n",
    "## Add a main CSS file\n",
    "---\n",
    "<!-- <link rel=\"stylesheet\" type=\"text/css\" href=\"{{ filename='main.css') }}\"> -->\n",
    "<!-- Import Bootstrap styles -->\n",
    "<!-- <link rel=\"stylesheet\" href=\"https://stackpath.bootstrapcdn.com/bootstrap/4.5.2/css/bootstrap.min.css\"> -->\n"
   ]
  },
  {
   "cell_type": "code",
   "execution_count": 4,
   "metadata": {
    "slideshow": {
     "slide_type": "slide"
    },
    "tags": []
   },
   "outputs": [],
   "source": [
    "import numpy as np\n",
    "import pandas as pd\n",
    "import matplotlib.pyplot as plt\n",
    "import plotly.express as px\n",
    "pd.options.plotting.backend= \"plotly\"\n",
    "pd.set_option('display.max_columns', 150, 'display.max_rows', 100, 'display.max_colwidth', 15)\n",
    "%matplotlib inline "
   ]
  },
  {
   "cell_type": "code",
   "execution_count": 15,
   "metadata": {
    "slideshow": {
     "slide_type": "skip"
    },
    "tags": []
   },
   "outputs": [
    {
     "name": "stdout",
     "output_type": "stream",
     "text": [
      "[NbConvertApp] Converting notebook Anamoly_detection_credit_card.ipynb to slides\n",
      "[NbConvertApp] Writing 1665625 bytes to Anamoly_detection_credit_card.slides.html\n",
      "[NbConvertApp] Redirecting reveal.js requests to https://cdnjs.cloudflare.com/ajax/libs/reveal.js/3.5.0\n",
      "Serving your slides at http://127.0.0.1:8000/Anamoly_detection_credit_card.slides.html\n",
      "Use Control-C to stop this server\n",
      "^C\n",
      "\n",
      "Interrupted\n"
     ]
    }
   ],
   "source": [
    "!jupyter nbconvert --to slides --no-input --post serve Anamoly_detection_credit_card.ipynb\n",
    "#!jupyter nbconvert --to markdown --output mymarkdownfile.md Anamoly_detection_credit_card.ipynb\n",
    "#!jupyter nbconvert --to slides --output mymarkdownfile.html Anamoly_detection_credit_card.ipynb\n",
    "#!jupyter nbconvert --to slides --post serve Anamoly_detection_credit_card.ipynb\n",
    "#!jupyter nbconvert --to slides --execute Anamoly_detection_credit_card.ipynb"
   ]
  },
  {
   "cell_type": "markdown",
   "metadata": {
    "slideshow": {
     "slide_type": "slide"
    }
   },
   "source": [
    "# What is PCA\n",
    "\n",
    "PCA (Principal Component Analysis) is a technique to find a low-dimensional representation of a dataset that captures as much variation as possible. It seeks a small number of dimensions that are interesting and informative, where each dimension is a linear combination of the original features. The first principal component is a normalized linear combination of the features that has the largest variance. It can be found through an optimization problem, and the resulting loadings and scores make up the principal component loading vector. PCA is useful when the original dataset has a large number of features, making it difficult to visualize and analyze."
   ]
  },
  {
   "cell_type": "markdown",
   "metadata": {
    "slideshow": {
     "slide_type": "slide"
    }
   },
   "source": [
    "# Introduction \n",
    "\n",
    "* In the real world, fraud often goes undiscovered, and only the fraud that is caught provides any labels for the datasets. \n",
    "\n",
    "* Moreover, fraud patterns change over time, so supervised systems that are built using fraud labels become stale, capturing historical patterns of fraud but failing to adapt to newly emerging patterns.\n",
    "\n",
    "* For these reasons (the lack of sufficient labels and the need to adapt to newly emerging patterns of fraud as quickly as possible), unsupervised learning fraud detection systems are in vogue.\n",
    "\n",
    "* In this notebook, we will build such a solution using PCA "
   ]
  },
  {
   "cell_type": "code",
   "execution_count": 4,
   "metadata": {
    "slideshow": {
     "slide_type": "skip"
    },
    "tags": []
   },
   "outputs": [
    {
     "data": {
      "text/html": [
       "<div>\n",
       "<style scoped>\n",
       "    .dataframe tbody tr th:only-of-type {\n",
       "        vertical-align: middle;\n",
       "    }\n",
       "\n",
       "    .dataframe tbody tr th {\n",
       "        vertical-align: top;\n",
       "    }\n",
       "\n",
       "    .dataframe thead th {\n",
       "        text-align: right;\n",
       "    }\n",
       "</style>\n",
       "<table border=\"1\" class=\"dataframe\">\n",
       "  <thead>\n",
       "    <tr style=\"text-align: right;\">\n",
       "      <th></th>\n",
       "      <th>Time</th>\n",
       "      <th>V1</th>\n",
       "      <th>V2</th>\n",
       "      <th>V3</th>\n",
       "      <th>V4</th>\n",
       "      <th>V5</th>\n",
       "      <th>V6</th>\n",
       "      <th>V7</th>\n",
       "      <th>V8</th>\n",
       "      <th>V9</th>\n",
       "      <th>V10</th>\n",
       "      <th>V11</th>\n",
       "      <th>V12</th>\n",
       "      <th>V13</th>\n",
       "      <th>V14</th>\n",
       "      <th>V15</th>\n",
       "      <th>V16</th>\n",
       "      <th>V17</th>\n",
       "      <th>V18</th>\n",
       "      <th>V19</th>\n",
       "      <th>V20</th>\n",
       "      <th>V21</th>\n",
       "      <th>V22</th>\n",
       "      <th>V23</th>\n",
       "      <th>V24</th>\n",
       "      <th>V25</th>\n",
       "      <th>V26</th>\n",
       "      <th>V27</th>\n",
       "      <th>V28</th>\n",
       "      <th>Amount</th>\n",
       "      <th>target</th>\n",
       "    </tr>\n",
       "  </thead>\n",
       "  <tbody>\n",
       "    <tr>\n",
       "      <th>0</th>\n",
       "      <td>0.0</td>\n",
       "      <td>-1.359807</td>\n",
       "      <td>-0.072781</td>\n",
       "      <td>2.536347</td>\n",
       "      <td>1.378155</td>\n",
       "      <td>-0.338321</td>\n",
       "      <td>0.462388</td>\n",
       "      <td>0.239599</td>\n",
       "      <td>0.098698</td>\n",
       "      <td>0.363787</td>\n",
       "      <td>0.090794</td>\n",
       "      <td>-0.551600</td>\n",
       "      <td>-0.617801</td>\n",
       "      <td>-0.991390</td>\n",
       "      <td>-0.311169</td>\n",
       "      <td>1.468177</td>\n",
       "      <td>-0.470401</td>\n",
       "      <td>0.207971</td>\n",
       "      <td>0.025791</td>\n",
       "      <td>0.403993</td>\n",
       "      <td>0.251412</td>\n",
       "      <td>-0.018307</td>\n",
       "      <td>0.277838</td>\n",
       "      <td>-0.110474</td>\n",
       "      <td>0.066928</td>\n",
       "      <td>0.128539</td>\n",
       "      <td>-0.189115</td>\n",
       "      <td>0.133558</td>\n",
       "      <td>-0.021053</td>\n",
       "      <td>149.62</td>\n",
       "      <td>0</td>\n",
       "    </tr>\n",
       "    <tr>\n",
       "      <th>1</th>\n",
       "      <td>0.0</td>\n",
       "      <td>1.191857</td>\n",
       "      <td>0.266151</td>\n",
       "      <td>0.166480</td>\n",
       "      <td>0.448154</td>\n",
       "      <td>0.060018</td>\n",
       "      <td>-0.082361</td>\n",
       "      <td>-0.078803</td>\n",
       "      <td>0.085102</td>\n",
       "      <td>-0.255425</td>\n",
       "      <td>-0.166974</td>\n",
       "      <td>1.612727</td>\n",
       "      <td>1.065235</td>\n",
       "      <td>0.489095</td>\n",
       "      <td>-0.143772</td>\n",
       "      <td>0.635558</td>\n",
       "      <td>0.463917</td>\n",
       "      <td>-0.114805</td>\n",
       "      <td>-0.183361</td>\n",
       "      <td>-0.145783</td>\n",
       "      <td>-0.069083</td>\n",
       "      <td>-0.225775</td>\n",
       "      <td>-0.638672</td>\n",
       "      <td>0.101288</td>\n",
       "      <td>-0.339846</td>\n",
       "      <td>0.167170</td>\n",
       "      <td>0.125895</td>\n",
       "      <td>-0.008983</td>\n",
       "      <td>0.014724</td>\n",
       "      <td>2.69</td>\n",
       "      <td>0</td>\n",
       "    </tr>\n",
       "    <tr>\n",
       "      <th>2</th>\n",
       "      <td>1.0</td>\n",
       "      <td>-1.358354</td>\n",
       "      <td>-1.340163</td>\n",
       "      <td>1.773209</td>\n",
       "      <td>0.379780</td>\n",
       "      <td>-0.503198</td>\n",
       "      <td>1.800499</td>\n",
       "      <td>0.791461</td>\n",
       "      <td>0.247676</td>\n",
       "      <td>-1.514654</td>\n",
       "      <td>0.207643</td>\n",
       "      <td>0.624501</td>\n",
       "      <td>0.066084</td>\n",
       "      <td>0.717293</td>\n",
       "      <td>-0.165946</td>\n",
       "      <td>2.345865</td>\n",
       "      <td>-2.890083</td>\n",
       "      <td>1.109969</td>\n",
       "      <td>-0.121359</td>\n",
       "      <td>-2.261857</td>\n",
       "      <td>0.524980</td>\n",
       "      <td>0.247998</td>\n",
       "      <td>0.771679</td>\n",
       "      <td>0.909412</td>\n",
       "      <td>-0.689281</td>\n",
       "      <td>-0.327642</td>\n",
       "      <td>-0.139097</td>\n",
       "      <td>-0.055353</td>\n",
       "      <td>-0.059752</td>\n",
       "      <td>378.66</td>\n",
       "      <td>0</td>\n",
       "    </tr>\n",
       "    <tr>\n",
       "      <th>3</th>\n",
       "      <td>1.0</td>\n",
       "      <td>-0.966272</td>\n",
       "      <td>-0.185226</td>\n",
       "      <td>1.792993</td>\n",
       "      <td>-0.863291</td>\n",
       "      <td>-0.010309</td>\n",
       "      <td>1.247203</td>\n",
       "      <td>0.237609</td>\n",
       "      <td>0.377436</td>\n",
       "      <td>-1.387024</td>\n",
       "      <td>-0.054952</td>\n",
       "      <td>-0.226487</td>\n",
       "      <td>0.178228</td>\n",
       "      <td>0.507757</td>\n",
       "      <td>-0.287924</td>\n",
       "      <td>-0.631418</td>\n",
       "      <td>-1.059647</td>\n",
       "      <td>-0.684093</td>\n",
       "      <td>1.965775</td>\n",
       "      <td>-1.232622</td>\n",
       "      <td>-0.208038</td>\n",
       "      <td>-0.108300</td>\n",
       "      <td>0.005274</td>\n",
       "      <td>-0.190321</td>\n",
       "      <td>-1.175575</td>\n",
       "      <td>0.647376</td>\n",
       "      <td>-0.221929</td>\n",
       "      <td>0.062723</td>\n",
       "      <td>0.061458</td>\n",
       "      <td>123.50</td>\n",
       "      <td>0</td>\n",
       "    </tr>\n",
       "    <tr>\n",
       "      <th>4</th>\n",
       "      <td>2.0</td>\n",
       "      <td>-1.158233</td>\n",
       "      <td>0.877737</td>\n",
       "      <td>1.548718</td>\n",
       "      <td>0.403034</td>\n",
       "      <td>-0.407193</td>\n",
       "      <td>0.095921</td>\n",
       "      <td>0.592941</td>\n",
       "      <td>-0.270533</td>\n",
       "      <td>0.817739</td>\n",
       "      <td>0.753074</td>\n",
       "      <td>-0.822843</td>\n",
       "      <td>0.538196</td>\n",
       "      <td>1.345852</td>\n",
       "      <td>-1.119670</td>\n",
       "      <td>0.175121</td>\n",
       "      <td>-0.451449</td>\n",
       "      <td>-0.237033</td>\n",
       "      <td>-0.038195</td>\n",
       "      <td>0.803487</td>\n",
       "      <td>0.408542</td>\n",
       "      <td>-0.009431</td>\n",
       "      <td>0.798278</td>\n",
       "      <td>-0.137458</td>\n",
       "      <td>0.141267</td>\n",
       "      <td>-0.206010</td>\n",
       "      <td>0.502292</td>\n",
       "      <td>0.219422</td>\n",
       "      <td>0.215153</td>\n",
       "      <td>69.99</td>\n",
       "      <td>0</td>\n",
       "    </tr>\n",
       "  </tbody>\n",
       "</table>\n",
       "</div>"
      ],
      "text/plain": [
       "   Time        V1        V2        V3        V4        V5        V6        V7  \\\n",
       "0   0.0 -1.359807 -0.072781  2.536347  1.378155 -0.338321  0.462388  0.239599   \n",
       "1   0.0  1.191857  0.266151  0.166480  0.448154  0.060018 -0.082361 -0.078803   \n",
       "2   1.0 -1.358354 -1.340163  1.773209  0.379780 -0.503198  1.800499  0.791461   \n",
       "3   1.0 -0.966272 -0.185226  1.792993 -0.863291 -0.010309  1.247203  0.237609   \n",
       "4   2.0 -1.158233  0.877737  1.548718  0.403034 -0.407193  0.095921  0.592941   \n",
       "\n",
       "         V8        V9       V10       V11       V12       V13       V14  \\\n",
       "0  0.098698  0.363787  0.090794 -0.551600 -0.617801 -0.991390 -0.311169   \n",
       "1  0.085102 -0.255425 -0.166974  1.612727  1.065235  0.489095 -0.143772   \n",
       "2  0.247676 -1.514654  0.207643  0.624501  0.066084  0.717293 -0.165946   \n",
       "3  0.377436 -1.387024 -0.054952 -0.226487  0.178228  0.507757 -0.287924   \n",
       "4 -0.270533  0.817739  0.753074 -0.822843  0.538196  1.345852 -1.119670   \n",
       "\n",
       "        V15       V16       V17       V18       V19       V20       V21  \\\n",
       "0  1.468177 -0.470401  0.207971  0.025791  0.403993  0.251412 -0.018307   \n",
       "1  0.635558  0.463917 -0.114805 -0.183361 -0.145783 -0.069083 -0.225775   \n",
       "2  2.345865 -2.890083  1.109969 -0.121359 -2.261857  0.524980  0.247998   \n",
       "3 -0.631418 -1.059647 -0.684093  1.965775 -1.232622 -0.208038 -0.108300   \n",
       "4  0.175121 -0.451449 -0.237033 -0.038195  0.803487  0.408542 -0.009431   \n",
       "\n",
       "        V22       V23       V24       V25       V26       V27       V28  \\\n",
       "0  0.277838 -0.110474  0.066928  0.128539 -0.189115  0.133558 -0.021053   \n",
       "1 -0.638672  0.101288 -0.339846  0.167170  0.125895 -0.008983  0.014724   \n",
       "2  0.771679  0.909412 -0.689281 -0.327642 -0.139097 -0.055353 -0.059752   \n",
       "3  0.005274 -0.190321 -1.175575  0.647376 -0.221929  0.062723  0.061458   \n",
       "4  0.798278 -0.137458  0.141267 -0.206010  0.502292  0.219422  0.215153   \n",
       "\n",
       "   Amount  target  \n",
       "0  149.62       0  \n",
       "1    2.69       0  \n",
       "2  378.66       0  \n",
       "3  123.50       0  \n",
       "4   69.99       0  "
      ]
     },
     "execution_count": 4,
     "metadata": {},
     "output_type": "execute_result"
    }
   ],
   "source": [
    "# load dataset\n",
    "df = pd.read_csv('/Users/waleedidrees/Dropbox/Python_Projects/books/handson-unsupervised-learning-master/datasets/credit_card_data/credit_card.csv').rename(columns= {\"Class\":\"target\"})\n",
    "df.head()"
   ]
  },
  {
   "cell_type": "code",
   "execution_count": 5,
   "metadata": {
    "tags": []
   },
   "outputs": [
    {
     "data": {
      "text/html": [
       "<div>\n",
       "<style scoped>\n",
       "    .dataframe tbody tr th:only-of-type {\n",
       "        vertical-align: middle;\n",
       "    }\n",
       "\n",
       "    .dataframe tbody tr th {\n",
       "        vertical-align: top;\n",
       "    }\n",
       "\n",
       "    .dataframe thead th {\n",
       "        text-align: right;\n",
       "    }\n",
       "</style>\n",
       "<table border=\"1\" class=\"dataframe\">\n",
       "  <thead>\n",
       "    <tr style=\"text-align: right;\">\n",
       "      <th></th>\n",
       "      <th>time</th>\n",
       "      <th>v1</th>\n",
       "      <th>v2</th>\n",
       "      <th>v3</th>\n",
       "      <th>v4</th>\n",
       "      <th>v5</th>\n",
       "      <th>v6</th>\n",
       "      <th>v7</th>\n",
       "      <th>v8</th>\n",
       "      <th>v9</th>\n",
       "      <th>v10</th>\n",
       "      <th>v11</th>\n",
       "      <th>v12</th>\n",
       "      <th>v13</th>\n",
       "      <th>v14</th>\n",
       "      <th>v15</th>\n",
       "      <th>v16</th>\n",
       "      <th>v17</th>\n",
       "      <th>v18</th>\n",
       "      <th>v19</th>\n",
       "      <th>v20</th>\n",
       "      <th>v21</th>\n",
       "      <th>v22</th>\n",
       "      <th>v23</th>\n",
       "      <th>v24</th>\n",
       "      <th>v25</th>\n",
       "      <th>v26</th>\n",
       "      <th>v27</th>\n",
       "      <th>v28</th>\n",
       "      <th>amount</th>\n",
       "      <th>target</th>\n",
       "    </tr>\n",
       "  </thead>\n",
       "  <tbody>\n",
       "    <tr>\n",
       "      <th>0</th>\n",
       "      <td>0.0</td>\n",
       "      <td>-1.359807</td>\n",
       "      <td>-0.072781</td>\n",
       "      <td>2.536347</td>\n",
       "      <td>1.378155</td>\n",
       "      <td>-0.338321</td>\n",
       "      <td>0.462388</td>\n",
       "      <td>0.239599</td>\n",
       "      <td>0.098698</td>\n",
       "      <td>0.363787</td>\n",
       "      <td>0.090794</td>\n",
       "      <td>-0.551600</td>\n",
       "      <td>-0.617801</td>\n",
       "      <td>-0.991390</td>\n",
       "      <td>-0.311169</td>\n",
       "      <td>1.468177</td>\n",
       "      <td>-0.470401</td>\n",
       "      <td>0.207971</td>\n",
       "      <td>0.025791</td>\n",
       "      <td>0.403993</td>\n",
       "      <td>0.251412</td>\n",
       "      <td>-0.018307</td>\n",
       "      <td>0.277838</td>\n",
       "      <td>-0.110474</td>\n",
       "      <td>0.066928</td>\n",
       "      <td>0.128539</td>\n",
       "      <td>-0.189115</td>\n",
       "      <td>0.133558</td>\n",
       "      <td>-0.021053</td>\n",
       "      <td>149.62</td>\n",
       "      <td>0</td>\n",
       "    </tr>\n",
       "    <tr>\n",
       "      <th>1</th>\n",
       "      <td>0.0</td>\n",
       "      <td>1.191857</td>\n",
       "      <td>0.266151</td>\n",
       "      <td>0.166480</td>\n",
       "      <td>0.448154</td>\n",
       "      <td>0.060018</td>\n",
       "      <td>-0.082361</td>\n",
       "      <td>-0.078803</td>\n",
       "      <td>0.085102</td>\n",
       "      <td>-0.255425</td>\n",
       "      <td>-0.166974</td>\n",
       "      <td>1.612727</td>\n",
       "      <td>1.065235</td>\n",
       "      <td>0.489095</td>\n",
       "      <td>-0.143772</td>\n",
       "      <td>0.635558</td>\n",
       "      <td>0.463917</td>\n",
       "      <td>-0.114805</td>\n",
       "      <td>-0.183361</td>\n",
       "      <td>-0.145783</td>\n",
       "      <td>-0.069083</td>\n",
       "      <td>-0.225775</td>\n",
       "      <td>-0.638672</td>\n",
       "      <td>0.101288</td>\n",
       "      <td>-0.339846</td>\n",
       "      <td>0.167170</td>\n",
       "      <td>0.125895</td>\n",
       "      <td>-0.008983</td>\n",
       "      <td>0.014724</td>\n",
       "      <td>2.69</td>\n",
       "      <td>0</td>\n",
       "    </tr>\n",
       "    <tr>\n",
       "      <th>2</th>\n",
       "      <td>1.0</td>\n",
       "      <td>-1.358354</td>\n",
       "      <td>-1.340163</td>\n",
       "      <td>1.773209</td>\n",
       "      <td>0.379780</td>\n",
       "      <td>-0.503198</td>\n",
       "      <td>1.800499</td>\n",
       "      <td>0.791461</td>\n",
       "      <td>0.247676</td>\n",
       "      <td>-1.514654</td>\n",
       "      <td>0.207643</td>\n",
       "      <td>0.624501</td>\n",
       "      <td>0.066084</td>\n",
       "      <td>0.717293</td>\n",
       "      <td>-0.165946</td>\n",
       "      <td>2.345865</td>\n",
       "      <td>-2.890083</td>\n",
       "      <td>1.109969</td>\n",
       "      <td>-0.121359</td>\n",
       "      <td>-2.261857</td>\n",
       "      <td>0.524980</td>\n",
       "      <td>0.247998</td>\n",
       "      <td>0.771679</td>\n",
       "      <td>0.909412</td>\n",
       "      <td>-0.689281</td>\n",
       "      <td>-0.327642</td>\n",
       "      <td>-0.139097</td>\n",
       "      <td>-0.055353</td>\n",
       "      <td>-0.059752</td>\n",
       "      <td>378.66</td>\n",
       "      <td>0</td>\n",
       "    </tr>\n",
       "    <tr>\n",
       "      <th>3</th>\n",
       "      <td>1.0</td>\n",
       "      <td>-0.966272</td>\n",
       "      <td>-0.185226</td>\n",
       "      <td>1.792993</td>\n",
       "      <td>-0.863291</td>\n",
       "      <td>-0.010309</td>\n",
       "      <td>1.247203</td>\n",
       "      <td>0.237609</td>\n",
       "      <td>0.377436</td>\n",
       "      <td>-1.387024</td>\n",
       "      <td>-0.054952</td>\n",
       "      <td>-0.226487</td>\n",
       "      <td>0.178228</td>\n",
       "      <td>0.507757</td>\n",
       "      <td>-0.287924</td>\n",
       "      <td>-0.631418</td>\n",
       "      <td>-1.059647</td>\n",
       "      <td>-0.684093</td>\n",
       "      <td>1.965775</td>\n",
       "      <td>-1.232622</td>\n",
       "      <td>-0.208038</td>\n",
       "      <td>-0.108300</td>\n",
       "      <td>0.005274</td>\n",
       "      <td>-0.190321</td>\n",
       "      <td>-1.175575</td>\n",
       "      <td>0.647376</td>\n",
       "      <td>-0.221929</td>\n",
       "      <td>0.062723</td>\n",
       "      <td>0.061458</td>\n",
       "      <td>123.50</td>\n",
       "      <td>0</td>\n",
       "    </tr>\n",
       "    <tr>\n",
       "      <th>4</th>\n",
       "      <td>2.0</td>\n",
       "      <td>-1.158233</td>\n",
       "      <td>0.877737</td>\n",
       "      <td>1.548718</td>\n",
       "      <td>0.403034</td>\n",
       "      <td>-0.407193</td>\n",
       "      <td>0.095921</td>\n",
       "      <td>0.592941</td>\n",
       "      <td>-0.270533</td>\n",
       "      <td>0.817739</td>\n",
       "      <td>0.753074</td>\n",
       "      <td>-0.822843</td>\n",
       "      <td>0.538196</td>\n",
       "      <td>1.345852</td>\n",
       "      <td>-1.119670</td>\n",
       "      <td>0.175121</td>\n",
       "      <td>-0.451449</td>\n",
       "      <td>-0.237033</td>\n",
       "      <td>-0.038195</td>\n",
       "      <td>0.803487</td>\n",
       "      <td>0.408542</td>\n",
       "      <td>-0.009431</td>\n",
       "      <td>0.798278</td>\n",
       "      <td>-0.137458</td>\n",
       "      <td>0.141267</td>\n",
       "      <td>-0.206010</td>\n",
       "      <td>0.502292</td>\n",
       "      <td>0.219422</td>\n",
       "      <td>0.215153</td>\n",
       "      <td>69.99</td>\n",
       "      <td>0</td>\n",
       "    </tr>\n",
       "  </tbody>\n",
       "</table>\n",
       "</div>"
      ],
      "text/plain": [
       "   time        v1        v2        v3        v4        v5        v6        v7  \\\n",
       "0   0.0 -1.359807 -0.072781  2.536347  1.378155 -0.338321  0.462388  0.239599   \n",
       "1   0.0  1.191857  0.266151  0.166480  0.448154  0.060018 -0.082361 -0.078803   \n",
       "2   1.0 -1.358354 -1.340163  1.773209  0.379780 -0.503198  1.800499  0.791461   \n",
       "3   1.0 -0.966272 -0.185226  1.792993 -0.863291 -0.010309  1.247203  0.237609   \n",
       "4   2.0 -1.158233  0.877737  1.548718  0.403034 -0.407193  0.095921  0.592941   \n",
       "\n",
       "         v8        v9       v10       v11       v12       v13       v14  \\\n",
       "0  0.098698  0.363787  0.090794 -0.551600 -0.617801 -0.991390 -0.311169   \n",
       "1  0.085102 -0.255425 -0.166974  1.612727  1.065235  0.489095 -0.143772   \n",
       "2  0.247676 -1.514654  0.207643  0.624501  0.066084  0.717293 -0.165946   \n",
       "3  0.377436 -1.387024 -0.054952 -0.226487  0.178228  0.507757 -0.287924   \n",
       "4 -0.270533  0.817739  0.753074 -0.822843  0.538196  1.345852 -1.119670   \n",
       "\n",
       "        v15       v16       v17       v18       v19       v20       v21  \\\n",
       "0  1.468177 -0.470401  0.207971  0.025791  0.403993  0.251412 -0.018307   \n",
       "1  0.635558  0.463917 -0.114805 -0.183361 -0.145783 -0.069083 -0.225775   \n",
       "2  2.345865 -2.890083  1.109969 -0.121359 -2.261857  0.524980  0.247998   \n",
       "3 -0.631418 -1.059647 -0.684093  1.965775 -1.232622 -0.208038 -0.108300   \n",
       "4  0.175121 -0.451449 -0.237033 -0.038195  0.803487  0.408542 -0.009431   \n",
       "\n",
       "        v22       v23       v24       v25       v26       v27       v28  \\\n",
       "0  0.277838 -0.110474  0.066928  0.128539 -0.189115  0.133558 -0.021053   \n",
       "1 -0.638672  0.101288 -0.339846  0.167170  0.125895 -0.008983  0.014724   \n",
       "2  0.771679  0.909412 -0.689281 -0.327642 -0.139097 -0.055353 -0.059752   \n",
       "3  0.005274 -0.190321 -1.175575  0.647376 -0.221929  0.062723  0.061458   \n",
       "4  0.798278 -0.137458  0.141267 -0.206010  0.502292  0.219422  0.215153   \n",
       "\n",
       "   amount  target  \n",
       "0  149.62       0  \n",
       "1    2.69       0  \n",
       "2  378.66       0  \n",
       "3  123.50       0  \n",
       "4   69.99       0  "
      ]
     },
     "execution_count": 5,
     "metadata": {},
     "output_type": "execute_result"
    }
   ],
   "source": [
    "df.columns= df.columns.str.lower()\n",
    "df.head()"
   ]
  },
  {
   "cell_type": "markdown",
   "metadata": {},
   "source": [
    "# Disable the warnings"
   ]
  },
  {
   "cell_type": "code",
   "execution_count": 6,
   "metadata": {
    "slideshow": {
     "slide_type": "skip"
    },
    "tags": []
   },
   "outputs": [],
   "source": [
    "import warnings\n",
    "warnings.filterwarnings('ignore')"
   ]
  },
  {
   "cell_type": "code",
   "execution_count": 7,
   "metadata": {
    "slideshow": {
     "slide_type": "slide"
    },
    "tags": []
   },
   "outputs": [
    {
     "data": {
      "text/html": [
       "<div>\n",
       "<style scoped>\n",
       "    .dataframe tbody tr th:only-of-type {\n",
       "        vertical-align: middle;\n",
       "    }\n",
       "\n",
       "    .dataframe tbody tr th {\n",
       "        vertical-align: top;\n",
       "    }\n",
       "\n",
       "    .dataframe thead th {\n",
       "        text-align: right;\n",
       "    }\n",
       "</style>\n",
       "<table border=\"1\" class=\"dataframe\">\n",
       "  <thead>\n",
       "    <tr style=\"text-align: right;\">\n",
       "      <th></th>\n",
       "      <th>count</th>\n",
       "      <th>mean</th>\n",
       "      <th>std</th>\n",
       "      <th>min</th>\n",
       "      <th>25%</th>\n",
       "      <th>50%</th>\n",
       "      <th>75%</th>\n",
       "      <th>max</th>\n",
       "    </tr>\n",
       "  </thead>\n",
       "  <tbody>\n",
       "    <tr>\n",
       "      <th>time</th>\n",
       "      <td>284807.0</td>\n",
       "      <td>9.481386e+04</td>\n",
       "      <td>47488.145955</td>\n",
       "      <td>0.000000</td>\n",
       "      <td>54201.500000</td>\n",
       "      <td>84692.000000</td>\n",
       "      <td>139320.500000</td>\n",
       "      <td>172792.000000</td>\n",
       "    </tr>\n",
       "    <tr>\n",
       "      <th>v1</th>\n",
       "      <td>284807.0</td>\n",
       "      <td>1.168375e-15</td>\n",
       "      <td>1.958696</td>\n",
       "      <td>-56.407510</td>\n",
       "      <td>-0.920373</td>\n",
       "      <td>0.018109</td>\n",
       "      <td>1.315642</td>\n",
       "      <td>2.454930</td>\n",
       "    </tr>\n",
       "    <tr>\n",
       "      <th>v2</th>\n",
       "      <td>284807.0</td>\n",
       "      <td>3.416908e-16</td>\n",
       "      <td>1.651309</td>\n",
       "      <td>-72.715728</td>\n",
       "      <td>-0.598550</td>\n",
       "      <td>0.065486</td>\n",
       "      <td>0.803724</td>\n",
       "      <td>22.057729</td>\n",
       "    </tr>\n",
       "    <tr>\n",
       "      <th>v3</th>\n",
       "      <td>284807.0</td>\n",
       "      <td>-1.379537e-15</td>\n",
       "      <td>1.516255</td>\n",
       "      <td>-48.325589</td>\n",
       "      <td>-0.890365</td>\n",
       "      <td>0.179846</td>\n",
       "      <td>1.027196</td>\n",
       "      <td>9.382558</td>\n",
       "    </tr>\n",
       "    <tr>\n",
       "      <th>v4</th>\n",
       "      <td>284807.0</td>\n",
       "      <td>2.074095e-15</td>\n",
       "      <td>1.415869</td>\n",
       "      <td>-5.683171</td>\n",
       "      <td>-0.848640</td>\n",
       "      <td>-0.019847</td>\n",
       "      <td>0.743341</td>\n",
       "      <td>16.875344</td>\n",
       "    </tr>\n",
       "    <tr>\n",
       "      <th>v5</th>\n",
       "      <td>284807.0</td>\n",
       "      <td>9.604066e-16</td>\n",
       "      <td>1.380247</td>\n",
       "      <td>-113.743307</td>\n",
       "      <td>-0.691597</td>\n",
       "      <td>-0.054336</td>\n",
       "      <td>0.611926</td>\n",
       "      <td>34.801666</td>\n",
       "    </tr>\n",
       "    <tr>\n",
       "      <th>v6</th>\n",
       "      <td>284807.0</td>\n",
       "      <td>1.487313e-15</td>\n",
       "      <td>1.332271</td>\n",
       "      <td>-26.160506</td>\n",
       "      <td>-0.768296</td>\n",
       "      <td>-0.274187</td>\n",
       "      <td>0.398565</td>\n",
       "      <td>73.301626</td>\n",
       "    </tr>\n",
       "    <tr>\n",
       "      <th>v7</th>\n",
       "      <td>284807.0</td>\n",
       "      <td>-5.556467e-16</td>\n",
       "      <td>1.237094</td>\n",
       "      <td>-43.557242</td>\n",
       "      <td>-0.554076</td>\n",
       "      <td>0.040103</td>\n",
       "      <td>0.570436</td>\n",
       "      <td>120.589494</td>\n",
       "    </tr>\n",
       "    <tr>\n",
       "      <th>v8</th>\n",
       "      <td>284807.0</td>\n",
       "      <td>1.213481e-16</td>\n",
       "      <td>1.194353</td>\n",
       "      <td>-73.216718</td>\n",
       "      <td>-0.208630</td>\n",
       "      <td>0.022358</td>\n",
       "      <td>0.327346</td>\n",
       "      <td>20.007208</td>\n",
       "    </tr>\n",
       "    <tr>\n",
       "      <th>v9</th>\n",
       "      <td>284807.0</td>\n",
       "      <td>-2.406331e-15</td>\n",
       "      <td>1.098632</td>\n",
       "      <td>-13.434066</td>\n",
       "      <td>-0.643098</td>\n",
       "      <td>-0.051429</td>\n",
       "      <td>0.597139</td>\n",
       "      <td>15.594995</td>\n",
       "    </tr>\n",
       "    <tr>\n",
       "      <th>v10</th>\n",
       "      <td>284807.0</td>\n",
       "      <td>2.239053e-15</td>\n",
       "      <td>1.088850</td>\n",
       "      <td>-24.588262</td>\n",
       "      <td>-0.535426</td>\n",
       "      <td>-0.092917</td>\n",
       "      <td>0.453923</td>\n",
       "      <td>23.745136</td>\n",
       "    </tr>\n",
       "    <tr>\n",
       "      <th>v11</th>\n",
       "      <td>284807.0</td>\n",
       "      <td>1.673327e-15</td>\n",
       "      <td>1.020713</td>\n",
       "      <td>-4.797473</td>\n",
       "      <td>-0.762494</td>\n",
       "      <td>-0.032757</td>\n",
       "      <td>0.739593</td>\n",
       "      <td>12.018913</td>\n",
       "    </tr>\n",
       "    <tr>\n",
       "      <th>v12</th>\n",
       "      <td>284807.0</td>\n",
       "      <td>-1.247012e-15</td>\n",
       "      <td>0.999201</td>\n",
       "      <td>-18.683715</td>\n",
       "      <td>-0.405571</td>\n",
       "      <td>0.140033</td>\n",
       "      <td>0.618238</td>\n",
       "      <td>7.848392</td>\n",
       "    </tr>\n",
       "    <tr>\n",
       "      <th>v13</th>\n",
       "      <td>284807.0</td>\n",
       "      <td>8.190001e-16</td>\n",
       "      <td>0.995274</td>\n",
       "      <td>-5.791881</td>\n",
       "      <td>-0.648539</td>\n",
       "      <td>-0.013568</td>\n",
       "      <td>0.662505</td>\n",
       "      <td>7.126883</td>\n",
       "    </tr>\n",
       "    <tr>\n",
       "      <th>v14</th>\n",
       "      <td>284807.0</td>\n",
       "      <td>1.207294e-15</td>\n",
       "      <td>0.958596</td>\n",
       "      <td>-19.214325</td>\n",
       "      <td>-0.425574</td>\n",
       "      <td>0.050601</td>\n",
       "      <td>0.493150</td>\n",
       "      <td>10.526766</td>\n",
       "    </tr>\n",
       "    <tr>\n",
       "      <th>v15</th>\n",
       "      <td>284807.0</td>\n",
       "      <td>4.887456e-15</td>\n",
       "      <td>0.915316</td>\n",
       "      <td>-4.498945</td>\n",
       "      <td>-0.582884</td>\n",
       "      <td>0.048072</td>\n",
       "      <td>0.648821</td>\n",
       "      <td>8.877742</td>\n",
       "    </tr>\n",
       "    <tr>\n",
       "      <th>v16</th>\n",
       "      <td>284807.0</td>\n",
       "      <td>1.437716e-15</td>\n",
       "      <td>0.876253</td>\n",
       "      <td>-14.129855</td>\n",
       "      <td>-0.468037</td>\n",
       "      <td>0.066413</td>\n",
       "      <td>0.523296</td>\n",
       "      <td>17.315112</td>\n",
       "    </tr>\n",
       "    <tr>\n",
       "      <th>v17</th>\n",
       "      <td>284807.0</td>\n",
       "      <td>-3.772171e-16</td>\n",
       "      <td>0.849337</td>\n",
       "      <td>-25.162799</td>\n",
       "      <td>-0.483748</td>\n",
       "      <td>-0.065676</td>\n",
       "      <td>0.399675</td>\n",
       "      <td>9.253526</td>\n",
       "    </tr>\n",
       "    <tr>\n",
       "      <th>v18</th>\n",
       "      <td>284807.0</td>\n",
       "      <td>9.564149e-16</td>\n",
       "      <td>0.838176</td>\n",
       "      <td>-9.498746</td>\n",
       "      <td>-0.498850</td>\n",
       "      <td>-0.003636</td>\n",
       "      <td>0.500807</td>\n",
       "      <td>5.041069</td>\n",
       "    </tr>\n",
       "    <tr>\n",
       "      <th>v19</th>\n",
       "      <td>284807.0</td>\n",
       "      <td>1.039917e-15</td>\n",
       "      <td>0.814041</td>\n",
       "      <td>-7.213527</td>\n",
       "      <td>-0.456299</td>\n",
       "      <td>0.003735</td>\n",
       "      <td>0.458949</td>\n",
       "      <td>5.591971</td>\n",
       "    </tr>\n",
       "    <tr>\n",
       "      <th>v20</th>\n",
       "      <td>284807.0</td>\n",
       "      <td>6.406204e-16</td>\n",
       "      <td>0.770925</td>\n",
       "      <td>-54.497720</td>\n",
       "      <td>-0.211721</td>\n",
       "      <td>-0.062481</td>\n",
       "      <td>0.133041</td>\n",
       "      <td>39.420904</td>\n",
       "    </tr>\n",
       "    <tr>\n",
       "      <th>v21</th>\n",
       "      <td>284807.0</td>\n",
       "      <td>1.654067e-16</td>\n",
       "      <td>0.734524</td>\n",
       "      <td>-34.830382</td>\n",
       "      <td>-0.228395</td>\n",
       "      <td>-0.029450</td>\n",
       "      <td>0.186377</td>\n",
       "      <td>27.202839</td>\n",
       "    </tr>\n",
       "    <tr>\n",
       "      <th>v22</th>\n",
       "      <td>284807.0</td>\n",
       "      <td>-3.568593e-16</td>\n",
       "      <td>0.725702</td>\n",
       "      <td>-10.933144</td>\n",
       "      <td>-0.542350</td>\n",
       "      <td>0.006782</td>\n",
       "      <td>0.528554</td>\n",
       "      <td>10.503090</td>\n",
       "    </tr>\n",
       "    <tr>\n",
       "      <th>v23</th>\n",
       "      <td>284807.0</td>\n",
       "      <td>2.578648e-16</td>\n",
       "      <td>0.624460</td>\n",
       "      <td>-44.807735</td>\n",
       "      <td>-0.161846</td>\n",
       "      <td>-0.011193</td>\n",
       "      <td>0.147642</td>\n",
       "      <td>22.528412</td>\n",
       "    </tr>\n",
       "    <tr>\n",
       "      <th>v24</th>\n",
       "      <td>284807.0</td>\n",
       "      <td>4.473266e-15</td>\n",
       "      <td>0.605647</td>\n",
       "      <td>-2.836627</td>\n",
       "      <td>-0.354586</td>\n",
       "      <td>0.040976</td>\n",
       "      <td>0.439527</td>\n",
       "      <td>4.584549</td>\n",
       "    </tr>\n",
       "    <tr>\n",
       "      <th>v25</th>\n",
       "      <td>284807.0</td>\n",
       "      <td>5.340915e-16</td>\n",
       "      <td>0.521278</td>\n",
       "      <td>-10.295397</td>\n",
       "      <td>-0.317145</td>\n",
       "      <td>0.016594</td>\n",
       "      <td>0.350716</td>\n",
       "      <td>7.519589</td>\n",
       "    </tr>\n",
       "    <tr>\n",
       "      <th>v26</th>\n",
       "      <td>284807.0</td>\n",
       "      <td>1.683437e-15</td>\n",
       "      <td>0.482227</td>\n",
       "      <td>-2.604551</td>\n",
       "      <td>-0.326984</td>\n",
       "      <td>-0.052139</td>\n",
       "      <td>0.240952</td>\n",
       "      <td>3.517346</td>\n",
       "    </tr>\n",
       "    <tr>\n",
       "      <th>v27</th>\n",
       "      <td>284807.0</td>\n",
       "      <td>-3.660091e-16</td>\n",
       "      <td>0.403632</td>\n",
       "      <td>-22.565679</td>\n",
       "      <td>-0.070840</td>\n",
       "      <td>0.001342</td>\n",
       "      <td>0.091045</td>\n",
       "      <td>31.612198</td>\n",
       "    </tr>\n",
       "    <tr>\n",
       "      <th>v28</th>\n",
       "      <td>284807.0</td>\n",
       "      <td>-1.227390e-16</td>\n",
       "      <td>0.330083</td>\n",
       "      <td>-15.430084</td>\n",
       "      <td>-0.052960</td>\n",
       "      <td>0.011244</td>\n",
       "      <td>0.078280</td>\n",
       "      <td>33.847808</td>\n",
       "    </tr>\n",
       "    <tr>\n",
       "      <th>amount</th>\n",
       "      <td>284807.0</td>\n",
       "      <td>8.834962e+01</td>\n",
       "      <td>250.120109</td>\n",
       "      <td>0.000000</td>\n",
       "      <td>5.600000</td>\n",
       "      <td>22.000000</td>\n",
       "      <td>77.165000</td>\n",
       "      <td>25691.160000</td>\n",
       "    </tr>\n",
       "    <tr>\n",
       "      <th>target</th>\n",
       "      <td>284807.0</td>\n",
       "      <td>1.727486e-03</td>\n",
       "      <td>0.041527</td>\n",
       "      <td>0.000000</td>\n",
       "      <td>0.000000</td>\n",
       "      <td>0.000000</td>\n",
       "      <td>0.000000</td>\n",
       "      <td>1.000000</td>\n",
       "    </tr>\n",
       "  </tbody>\n",
       "</table>\n",
       "</div>"
      ],
      "text/plain": [
       "           count          mean           std         min           25%  \\\n",
       "time    284807.0  9.481386e+04  47488.145955    0.000000  54201.500000   \n",
       "v1      284807.0  1.168375e-15      1.958696  -56.407510     -0.920373   \n",
       "v2      284807.0  3.416908e-16      1.651309  -72.715728     -0.598550   \n",
       "v3      284807.0 -1.379537e-15      1.516255  -48.325589     -0.890365   \n",
       "v4      284807.0  2.074095e-15      1.415869   -5.683171     -0.848640   \n",
       "v5      284807.0  9.604066e-16      1.380247 -113.743307     -0.691597   \n",
       "v6      284807.0  1.487313e-15      1.332271  -26.160506     -0.768296   \n",
       "v7      284807.0 -5.556467e-16      1.237094  -43.557242     -0.554076   \n",
       "v8      284807.0  1.213481e-16      1.194353  -73.216718     -0.208630   \n",
       "v9      284807.0 -2.406331e-15      1.098632  -13.434066     -0.643098   \n",
       "v10     284807.0  2.239053e-15      1.088850  -24.588262     -0.535426   \n",
       "v11     284807.0  1.673327e-15      1.020713   -4.797473     -0.762494   \n",
       "v12     284807.0 -1.247012e-15      0.999201  -18.683715     -0.405571   \n",
       "v13     284807.0  8.190001e-16      0.995274   -5.791881     -0.648539   \n",
       "v14     284807.0  1.207294e-15      0.958596  -19.214325     -0.425574   \n",
       "v15     284807.0  4.887456e-15      0.915316   -4.498945     -0.582884   \n",
       "v16     284807.0  1.437716e-15      0.876253  -14.129855     -0.468037   \n",
       "v17     284807.0 -3.772171e-16      0.849337  -25.162799     -0.483748   \n",
       "v18     284807.0  9.564149e-16      0.838176   -9.498746     -0.498850   \n",
       "v19     284807.0  1.039917e-15      0.814041   -7.213527     -0.456299   \n",
       "v20     284807.0  6.406204e-16      0.770925  -54.497720     -0.211721   \n",
       "v21     284807.0  1.654067e-16      0.734524  -34.830382     -0.228395   \n",
       "v22     284807.0 -3.568593e-16      0.725702  -10.933144     -0.542350   \n",
       "v23     284807.0  2.578648e-16      0.624460  -44.807735     -0.161846   \n",
       "v24     284807.0  4.473266e-15      0.605647   -2.836627     -0.354586   \n",
       "v25     284807.0  5.340915e-16      0.521278  -10.295397     -0.317145   \n",
       "v26     284807.0  1.683437e-15      0.482227   -2.604551     -0.326984   \n",
       "v27     284807.0 -3.660091e-16      0.403632  -22.565679     -0.070840   \n",
       "v28     284807.0 -1.227390e-16      0.330083  -15.430084     -0.052960   \n",
       "amount  284807.0  8.834962e+01    250.120109    0.000000      5.600000   \n",
       "target  284807.0  1.727486e-03      0.041527    0.000000      0.000000   \n",
       "\n",
       "                 50%            75%            max  \n",
       "time    84692.000000  139320.500000  172792.000000  \n",
       "v1          0.018109       1.315642       2.454930  \n",
       "v2          0.065486       0.803724      22.057729  \n",
       "v3          0.179846       1.027196       9.382558  \n",
       "v4         -0.019847       0.743341      16.875344  \n",
       "v5         -0.054336       0.611926      34.801666  \n",
       "v6         -0.274187       0.398565      73.301626  \n",
       "v7          0.040103       0.570436     120.589494  \n",
       "v8          0.022358       0.327346      20.007208  \n",
       "v9         -0.051429       0.597139      15.594995  \n",
       "v10        -0.092917       0.453923      23.745136  \n",
       "v11        -0.032757       0.739593      12.018913  \n",
       "v12         0.140033       0.618238       7.848392  \n",
       "v13        -0.013568       0.662505       7.126883  \n",
       "v14         0.050601       0.493150      10.526766  \n",
       "v15         0.048072       0.648821       8.877742  \n",
       "v16         0.066413       0.523296      17.315112  \n",
       "v17        -0.065676       0.399675       9.253526  \n",
       "v18        -0.003636       0.500807       5.041069  \n",
       "v19         0.003735       0.458949       5.591971  \n",
       "v20        -0.062481       0.133041      39.420904  \n",
       "v21        -0.029450       0.186377      27.202839  \n",
       "v22         0.006782       0.528554      10.503090  \n",
       "v23        -0.011193       0.147642      22.528412  \n",
       "v24         0.040976       0.439527       4.584549  \n",
       "v25         0.016594       0.350716       7.519589  \n",
       "v26        -0.052139       0.240952       3.517346  \n",
       "v27         0.001342       0.091045      31.612198  \n",
       "v28         0.011244       0.078280      33.847808  \n",
       "amount     22.000000      77.165000   25691.160000  \n",
       "target      0.000000       0.000000       1.000000  "
      ]
     },
     "execution_count": 7,
     "metadata": {},
     "output_type": "execute_result"
    }
   ],
   "source": [
    "df.describe().T"
   ]
  },
  {
   "cell_type": "markdown",
   "metadata": {},
   "source": [
    "## we see that fraudulent transactions are very rare and this makes the data very imbalanced"
   ]
  },
  {
   "cell_type": "code",
   "execution_count": 8,
   "metadata": {
    "slideshow": {
     "slide_type": "slide"
    },
    "tags": []
   },
   "outputs": [
    {
     "data": {
      "text/html": [
       "<div>\n",
       "<style scoped>\n",
       "    .dataframe tbody tr th:only-of-type {\n",
       "        vertical-align: middle;\n",
       "    }\n",
       "\n",
       "    .dataframe tbody tr th {\n",
       "        vertical-align: top;\n",
       "    }\n",
       "\n",
       "    .dataframe thead th {\n",
       "        text-align: right;\n",
       "    }\n",
       "</style>\n",
       "<table border=\"1\" class=\"dataframe\">\n",
       "  <thead>\n",
       "    <tr style=\"text-align: right;\">\n",
       "      <th></th>\n",
       "      <th>index</th>\n",
       "      <th>target</th>\n",
       "    </tr>\n",
       "  </thead>\n",
       "  <tbody>\n",
       "    <tr>\n",
       "      <th>0</th>\n",
       "      <td>0</td>\n",
       "      <td>284315</td>\n",
       "    </tr>\n",
       "    <tr>\n",
       "      <th>1</th>\n",
       "      <td>1</td>\n",
       "      <td>492</td>\n",
       "    </tr>\n",
       "  </tbody>\n",
       "</table>\n",
       "</div>"
      ],
      "text/plain": [
       "   index  target\n",
       "0      0  284315\n",
       "1      1     492"
      ]
     },
     "execution_count": 8,
     "metadata": {},
     "output_type": "execute_result"
    }
   ],
   "source": [
    "df[\"target\"].value_counts().reset_index()"
   ]
  },
  {
   "cell_type": "markdown",
   "metadata": {
    "slideshow": {
     "slide_type": "subslide"
    }
   },
   "source": [
    "we have 284,807 credit card transactions in total, of which 492 are fraudulent, with a positive (fraud) label of one. The rest are normal transactions, with a negative (not fraud) label of zero.\n",
    "We have 30 features to use for anomaly detection—time, amount, and 28 principal components. And, we will split the dataset into a training set (with 190,820 transactions and 330 cases of fraud) and a test set\n",
    "(with the remaining 93,987 transactions and 162 cases of fraud)"
   ]
  },
  {
   "cell_type": "code",
   "execution_count": 9,
   "metadata": {
    "slideshow": {
     "slide_type": "slide"
    },
    "tags": []
   },
   "outputs": [
    {
     "data": {
      "application/vnd.plotly.v1+json": {
       "config": {
        "plotlyServerURL": "https://plot.ly"
       },
       "data": [
        {
         "alignmentgroup": "True",
         "hovertemplate": "index=%{marker.color}<br>target=%{y}<extra></extra>",
         "legendgroup": "",
         "marker": {
          "color": [
           0,
           1
          ],
          "coloraxis": "coloraxis",
          "pattern": {
           "shape": ""
          }
         },
         "name": "",
         "offsetgroup": "",
         "orientation": "v",
         "showlegend": false,
         "textposition": "auto",
         "type": "bar",
         "x": [
          0,
          1
         ],
         "xaxis": "x",
         "y": [
          284315,
          492
         ],
         "yaxis": "y"
        }
       ],
       "layout": {
        "barmode": "relative",
        "coloraxis": {
         "colorbar": {
          "title": {
           "text": "index"
          }
         },
         "colorscale": [
          [
           0,
           "#0d0887"
          ],
          [
           0.1111111111111111,
           "#46039f"
          ],
          [
           0.2222222222222222,
           "#7201a8"
          ],
          [
           0.3333333333333333,
           "#9c179e"
          ],
          [
           0.4444444444444444,
           "#bd3786"
          ],
          [
           0.5555555555555556,
           "#d8576b"
          ],
          [
           0.6666666666666666,
           "#ed7953"
          ],
          [
           0.7777777777777778,
           "#fb9f3a"
          ],
          [
           0.8888888888888888,
           "#fdca26"
          ],
          [
           1,
           "#f0f921"
          ]
         ]
        },
        "height": 800,
        "legend": {
         "tracegroupgap": 0
        },
        "margin": {
         "t": 60
        },
        "template": {
         "data": {
          "bar": [
           {
            "error_x": {
             "color": "#2a3f5f"
            },
            "error_y": {
             "color": "#2a3f5f"
            },
            "marker": {
             "line": {
              "color": "#E5ECF6",
              "width": 0.5
             },
             "pattern": {
              "fillmode": "overlay",
              "size": 10,
              "solidity": 0.2
             }
            },
            "type": "bar"
           }
          ],
          "barpolar": [
           {
            "marker": {
             "line": {
              "color": "#E5ECF6",
              "width": 0.5
             },
             "pattern": {
              "fillmode": "overlay",
              "size": 10,
              "solidity": 0.2
             }
            },
            "type": "barpolar"
           }
          ],
          "carpet": [
           {
            "aaxis": {
             "endlinecolor": "#2a3f5f",
             "gridcolor": "white",
             "linecolor": "white",
             "minorgridcolor": "white",
             "startlinecolor": "#2a3f5f"
            },
            "baxis": {
             "endlinecolor": "#2a3f5f",
             "gridcolor": "white",
             "linecolor": "white",
             "minorgridcolor": "white",
             "startlinecolor": "#2a3f5f"
            },
            "type": "carpet"
           }
          ],
          "choropleth": [
           {
            "colorbar": {
             "outlinewidth": 0,
             "ticks": ""
            },
            "type": "choropleth"
           }
          ],
          "contour": [
           {
            "colorbar": {
             "outlinewidth": 0,
             "ticks": ""
            },
            "colorscale": [
             [
              0,
              "#0d0887"
             ],
             [
              0.1111111111111111,
              "#46039f"
             ],
             [
              0.2222222222222222,
              "#7201a8"
             ],
             [
              0.3333333333333333,
              "#9c179e"
             ],
             [
              0.4444444444444444,
              "#bd3786"
             ],
             [
              0.5555555555555556,
              "#d8576b"
             ],
             [
              0.6666666666666666,
              "#ed7953"
             ],
             [
              0.7777777777777778,
              "#fb9f3a"
             ],
             [
              0.8888888888888888,
              "#fdca26"
             ],
             [
              1,
              "#f0f921"
             ]
            ],
            "type": "contour"
           }
          ],
          "contourcarpet": [
           {
            "colorbar": {
             "outlinewidth": 0,
             "ticks": ""
            },
            "type": "contourcarpet"
           }
          ],
          "heatmap": [
           {
            "colorbar": {
             "outlinewidth": 0,
             "ticks": ""
            },
            "colorscale": [
             [
              0,
              "#0d0887"
             ],
             [
              0.1111111111111111,
              "#46039f"
             ],
             [
              0.2222222222222222,
              "#7201a8"
             ],
             [
              0.3333333333333333,
              "#9c179e"
             ],
             [
              0.4444444444444444,
              "#bd3786"
             ],
             [
              0.5555555555555556,
              "#d8576b"
             ],
             [
              0.6666666666666666,
              "#ed7953"
             ],
             [
              0.7777777777777778,
              "#fb9f3a"
             ],
             [
              0.8888888888888888,
              "#fdca26"
             ],
             [
              1,
              "#f0f921"
             ]
            ],
            "type": "heatmap"
           }
          ],
          "heatmapgl": [
           {
            "colorbar": {
             "outlinewidth": 0,
             "ticks": ""
            },
            "colorscale": [
             [
              0,
              "#0d0887"
             ],
             [
              0.1111111111111111,
              "#46039f"
             ],
             [
              0.2222222222222222,
              "#7201a8"
             ],
             [
              0.3333333333333333,
              "#9c179e"
             ],
             [
              0.4444444444444444,
              "#bd3786"
             ],
             [
              0.5555555555555556,
              "#d8576b"
             ],
             [
              0.6666666666666666,
              "#ed7953"
             ],
             [
              0.7777777777777778,
              "#fb9f3a"
             ],
             [
              0.8888888888888888,
              "#fdca26"
             ],
             [
              1,
              "#f0f921"
             ]
            ],
            "type": "heatmapgl"
           }
          ],
          "histogram": [
           {
            "marker": {
             "pattern": {
              "fillmode": "overlay",
              "size": 10,
              "solidity": 0.2
             }
            },
            "type": "histogram"
           }
          ],
          "histogram2d": [
           {
            "colorbar": {
             "outlinewidth": 0,
             "ticks": ""
            },
            "colorscale": [
             [
              0,
              "#0d0887"
             ],
             [
              0.1111111111111111,
              "#46039f"
             ],
             [
              0.2222222222222222,
              "#7201a8"
             ],
             [
              0.3333333333333333,
              "#9c179e"
             ],
             [
              0.4444444444444444,
              "#bd3786"
             ],
             [
              0.5555555555555556,
              "#d8576b"
             ],
             [
              0.6666666666666666,
              "#ed7953"
             ],
             [
              0.7777777777777778,
              "#fb9f3a"
             ],
             [
              0.8888888888888888,
              "#fdca26"
             ],
             [
              1,
              "#f0f921"
             ]
            ],
            "type": "histogram2d"
           }
          ],
          "histogram2dcontour": [
           {
            "colorbar": {
             "outlinewidth": 0,
             "ticks": ""
            },
            "colorscale": [
             [
              0,
              "#0d0887"
             ],
             [
              0.1111111111111111,
              "#46039f"
             ],
             [
              0.2222222222222222,
              "#7201a8"
             ],
             [
              0.3333333333333333,
              "#9c179e"
             ],
             [
              0.4444444444444444,
              "#bd3786"
             ],
             [
              0.5555555555555556,
              "#d8576b"
             ],
             [
              0.6666666666666666,
              "#ed7953"
             ],
             [
              0.7777777777777778,
              "#fb9f3a"
             ],
             [
              0.8888888888888888,
              "#fdca26"
             ],
             [
              1,
              "#f0f921"
             ]
            ],
            "type": "histogram2dcontour"
           }
          ],
          "mesh3d": [
           {
            "colorbar": {
             "outlinewidth": 0,
             "ticks": ""
            },
            "type": "mesh3d"
           }
          ],
          "parcoords": [
           {
            "line": {
             "colorbar": {
              "outlinewidth": 0,
              "ticks": ""
             }
            },
            "type": "parcoords"
           }
          ],
          "pie": [
           {
            "automargin": true,
            "type": "pie"
           }
          ],
          "scatter": [
           {
            "fillpattern": {
             "fillmode": "overlay",
             "size": 10,
             "solidity": 0.2
            },
            "type": "scatter"
           }
          ],
          "scatter3d": [
           {
            "line": {
             "colorbar": {
              "outlinewidth": 0,
              "ticks": ""
             }
            },
            "marker": {
             "colorbar": {
              "outlinewidth": 0,
              "ticks": ""
             }
            },
            "type": "scatter3d"
           }
          ],
          "scattercarpet": [
           {
            "marker": {
             "colorbar": {
              "outlinewidth": 0,
              "ticks": ""
             }
            },
            "type": "scattercarpet"
           }
          ],
          "scattergeo": [
           {
            "marker": {
             "colorbar": {
              "outlinewidth": 0,
              "ticks": ""
             }
            },
            "type": "scattergeo"
           }
          ],
          "scattergl": [
           {
            "marker": {
             "colorbar": {
              "outlinewidth": 0,
              "ticks": ""
             }
            },
            "type": "scattergl"
           }
          ],
          "scattermapbox": [
           {
            "marker": {
             "colorbar": {
              "outlinewidth": 0,
              "ticks": ""
             }
            },
            "type": "scattermapbox"
           }
          ],
          "scatterpolar": [
           {
            "marker": {
             "colorbar": {
              "outlinewidth": 0,
              "ticks": ""
             }
            },
            "type": "scatterpolar"
           }
          ],
          "scatterpolargl": [
           {
            "marker": {
             "colorbar": {
              "outlinewidth": 0,
              "ticks": ""
             }
            },
            "type": "scatterpolargl"
           }
          ],
          "scatterternary": [
           {
            "marker": {
             "colorbar": {
              "outlinewidth": 0,
              "ticks": ""
             }
            },
            "type": "scatterternary"
           }
          ],
          "surface": [
           {
            "colorbar": {
             "outlinewidth": 0,
             "ticks": ""
            },
            "colorscale": [
             [
              0,
              "#0d0887"
             ],
             [
              0.1111111111111111,
              "#46039f"
             ],
             [
              0.2222222222222222,
              "#7201a8"
             ],
             [
              0.3333333333333333,
              "#9c179e"
             ],
             [
              0.4444444444444444,
              "#bd3786"
             ],
             [
              0.5555555555555556,
              "#d8576b"
             ],
             [
              0.6666666666666666,
              "#ed7953"
             ],
             [
              0.7777777777777778,
              "#fb9f3a"
             ],
             [
              0.8888888888888888,
              "#fdca26"
             ],
             [
              1,
              "#f0f921"
             ]
            ],
            "type": "surface"
           }
          ],
          "table": [
           {
            "cells": {
             "fill": {
              "color": "#EBF0F8"
             },
             "line": {
              "color": "white"
             }
            },
            "header": {
             "fill": {
              "color": "#C8D4E3"
             },
             "line": {
              "color": "white"
             }
            },
            "type": "table"
           }
          ]
         },
         "layout": {
          "annotationdefaults": {
           "arrowcolor": "#2a3f5f",
           "arrowhead": 0,
           "arrowwidth": 1
          },
          "autotypenumbers": "strict",
          "coloraxis": {
           "colorbar": {
            "outlinewidth": 0,
            "ticks": ""
           }
          },
          "colorscale": {
           "diverging": [
            [
             0,
             "#8e0152"
            ],
            [
             0.1,
             "#c51b7d"
            ],
            [
             0.2,
             "#de77ae"
            ],
            [
             0.3,
             "#f1b6da"
            ],
            [
             0.4,
             "#fde0ef"
            ],
            [
             0.5,
             "#f7f7f7"
            ],
            [
             0.6,
             "#e6f5d0"
            ],
            [
             0.7,
             "#b8e186"
            ],
            [
             0.8,
             "#7fbc41"
            ],
            [
             0.9,
             "#4d9221"
            ],
            [
             1,
             "#276419"
            ]
           ],
           "sequential": [
            [
             0,
             "#0d0887"
            ],
            [
             0.1111111111111111,
             "#46039f"
            ],
            [
             0.2222222222222222,
             "#7201a8"
            ],
            [
             0.3333333333333333,
             "#9c179e"
            ],
            [
             0.4444444444444444,
             "#bd3786"
            ],
            [
             0.5555555555555556,
             "#d8576b"
            ],
            [
             0.6666666666666666,
             "#ed7953"
            ],
            [
             0.7777777777777778,
             "#fb9f3a"
            ],
            [
             0.8888888888888888,
             "#fdca26"
            ],
            [
             1,
             "#f0f921"
            ]
           ],
           "sequentialminus": [
            [
             0,
             "#0d0887"
            ],
            [
             0.1111111111111111,
             "#46039f"
            ],
            [
             0.2222222222222222,
             "#7201a8"
            ],
            [
             0.3333333333333333,
             "#9c179e"
            ],
            [
             0.4444444444444444,
             "#bd3786"
            ],
            [
             0.5555555555555556,
             "#d8576b"
            ],
            [
             0.6666666666666666,
             "#ed7953"
            ],
            [
             0.7777777777777778,
             "#fb9f3a"
            ],
            [
             0.8888888888888888,
             "#fdca26"
            ],
            [
             1,
             "#f0f921"
            ]
           ]
          },
          "colorway": [
           "#636efa",
           "#EF553B",
           "#00cc96",
           "#ab63fa",
           "#FFA15A",
           "#19d3f3",
           "#FF6692",
           "#B6E880",
           "#FF97FF",
           "#FECB52"
          ],
          "font": {
           "color": "#2a3f5f"
          },
          "geo": {
           "bgcolor": "white",
           "lakecolor": "white",
           "landcolor": "#E5ECF6",
           "showlakes": true,
           "showland": true,
           "subunitcolor": "white"
          },
          "hoverlabel": {
           "align": "left"
          },
          "hovermode": "closest",
          "mapbox": {
           "style": "light"
          },
          "paper_bgcolor": "white",
          "plot_bgcolor": "#E5ECF6",
          "polar": {
           "angularaxis": {
            "gridcolor": "white",
            "linecolor": "white",
            "ticks": ""
           },
           "bgcolor": "#E5ECF6",
           "radialaxis": {
            "gridcolor": "white",
            "linecolor": "white",
            "ticks": ""
           }
          },
          "scene": {
           "xaxis": {
            "backgroundcolor": "#E5ECF6",
            "gridcolor": "white",
            "gridwidth": 2,
            "linecolor": "white",
            "showbackground": true,
            "ticks": "",
            "zerolinecolor": "white"
           },
           "yaxis": {
            "backgroundcolor": "#E5ECF6",
            "gridcolor": "white",
            "gridwidth": 2,
            "linecolor": "white",
            "showbackground": true,
            "ticks": "",
            "zerolinecolor": "white"
           },
           "zaxis": {
            "backgroundcolor": "#E5ECF6",
            "gridcolor": "white",
            "gridwidth": 2,
            "linecolor": "white",
            "showbackground": true,
            "ticks": "",
            "zerolinecolor": "white"
           }
          },
          "shapedefaults": {
           "line": {
            "color": "#2a3f5f"
           }
          },
          "ternary": {
           "aaxis": {
            "gridcolor": "white",
            "linecolor": "white",
            "ticks": ""
           },
           "baxis": {
            "gridcolor": "white",
            "linecolor": "white",
            "ticks": ""
           },
           "bgcolor": "#E5ECF6",
           "caxis": {
            "gridcolor": "white",
            "linecolor": "white",
            "ticks": ""
           }
          },
          "title": {
           "x": 0.05
          },
          "xaxis": {
           "automargin": true,
           "gridcolor": "white",
           "linecolor": "white",
           "ticks": "",
           "title": {
            "standoff": 15
           },
           "zerolinecolor": "white",
           "zerolinewidth": 2
          },
          "yaxis": {
           "automargin": true,
           "gridcolor": "white",
           "linecolor": "white",
           "ticks": "",
           "title": {
            "standoff": 15
           },
           "zerolinecolor": "white",
           "zerolinewidth": 2
          }
         }
        },
        "width": 800,
        "xaxis": {
         "anchor": "y",
         "domain": [
          0,
          1
         ],
         "title": {
          "text": "index"
         }
        },
        "yaxis": {
         "anchor": "x",
         "domain": [
          0,
          1
         ],
         "title": {
          "text": "target"
         }
        }
       }
      }
     },
     "metadata": {},
     "output_type": "display_data"
    }
   ],
   "source": [
    "(\n",
    "df[\"target\"]\n",
    ".value_counts()\n",
    ".reset_index()\n",
    ".plot.bar(x=\"index\", y= \"target\", color=\"index\", height= 800, width= 800)\n",
    " )"
   ]
  },
  {
   "cell_type": "code",
   "execution_count": 10,
   "metadata": {
    "slideshow": {
     "slide_type": "slide"
    },
    "tags": []
   },
   "outputs": [
    {
     "data": {
      "image/png": "[encoded data removed]",
      "text/plain": [
       "<Figure size 2200x1600 with 36 Axes>"
      ]
     },
     "metadata": {},
     "output_type": "display_data"
    }
   ],
   "source": [
    "pd.options.plotting.backend = \"matplotlib\"\n",
    "\n",
    "df.hist(figsize= (22,16), bins=50)\n",
    "\n",
    "pd.options.plotting.backend = \"plotly\""
   ]
  },
  {
   "attachments": {},
   "cell_type": "markdown",
   "metadata": {
    "slideshow": {
     "slide_type": "slide"
    }
   },
   "source": [
    "## Methodology\n",
    "\n",
    "Since this an unsupervised learning problem and we will not be using the labels so we need find a way to measure the performance of the anamoly model.  Dimensionality reduction algorithms reduce the dimensionality of data while attempting to minimize the reconstruction error. However, these dimensionality reduction algorithms cannot capture all the information of the original features as they move to a lower dimensional space; therefore, there will be some error as these algorithms reconstruct the reduced feature set back to the original number of dimensions.\n",
    "we will use these errors and make a function to compare them to the original dataframe and measure the score. \n",
    "we make our performance measure as follows:\n",
    "\n",
    "* We take the difference between the original vs the pca dataframe which we created from pcs components using inverse transformation\n",
    "* then we transform the difference using min max scaller from 0 to 1 scale\n",
    "* we can consider this score as probability score and use this against the labels to calculate, precision, recall and threshhold using sklearn precision recall curve metric. \n",
    "* We will take x number of highest scores as our anomolies\n",
    "* we can all also calculate average precision score using the average precision score metric."
   ]
  },
  {
   "cell_type": "markdown",
   "metadata": {
    "slideshow": {
     "slide_type": "slide"
    }
   },
   "source": [
    "# Define evaluation functions"
   ]
  },
  {
   "cell_type": "code",
   "execution_count": 11,
   "metadata": {
    "slideshow": {
     "slide_type": "slide"
    },
    "tags": []
   },
   "outputs": [],
   "source": [
    "# Calculate reconstruction error\n",
    "def anomalyScores(originalDF, pca_df):\n",
    "    loss = ((originalDF.values- pca_df.values)**2).sum(axis=1)    \n",
    "    loss = pd.Series(data=loss,index=originalDF.index)\n",
    "    loss = (loss-np.min(loss))/(np.max(loss)-np.min(loss))\n",
    "    return loss"
   ]
  },
  {
   "cell_type": "markdown",
   "metadata": {
    "slideshow": {
     "slide_type": "notes"
    }
   },
   "source": [
    "# Train-test splits\n",
    "We will remove the target variable and we will not be using it for training but we will use it to evaluate the anamolies by attaching it to anamoly scores"
   ]
  },
  {
   "cell_type": "code",
   "execution_count": 12,
   "metadata": {
    "tags": []
   },
   "outputs": [
    {
     "data": {
      "text/plain": [
       "((190820, 29), (190820,), (93987, 29), (93987,))"
      ]
     },
     "execution_count": 12,
     "metadata": {},
     "output_type": "execute_result"
    }
   ],
   "source": [
    "from sklearn.model_selection import train_test_split\n",
    "X_train, X_test, y_train, y_test =  train_test_split(df.drop(columns=[\"target\", \"time\"]).copy(), df[\"target\"], test_size = 0.33,stratify=df[\"target\"],  random_state = 2018 )\n",
    "X_train.shape, y_train.shape, X_test.shape, y_test.shape"
   ]
  },
  {
   "cell_type": "markdown",
   "metadata": {},
   "source": [
    "The train data has 330 Fraudulent transaction and 190490 normal transactions"
   ]
  },
  {
   "cell_type": "code",
   "execution_count": 13,
   "metadata": {
    "tags": []
   },
   "outputs": [
    {
     "data": {
      "text/plain": [
       "0    190490\n",
       "1       330\n",
       "Name: target, dtype: int64"
      ]
     },
     "execution_count": 13,
     "metadata": {},
     "output_type": "execute_result"
    }
   ],
   "source": [
    "y_train.value_counts()"
   ]
  },
  {
   "cell_type": "markdown",
   "metadata": {},
   "source": [
    "# Lets create Preprocessing Pipiline\n",
    "* all our variables are numeric we will standardise data and then as for PCA we must standardise observations."
   ]
  },
  {
   "cell_type": "code",
   "execution_count": 14,
   "metadata": {
    "tags": []
   },
   "outputs": [],
   "source": [
    "from sklearn.preprocessing import StandardScaler\n",
    "from sklearn.pipeline import Pipeline\n",
    "from sklearn.compose import ColumnTransformer\n",
    "from sklearn.impute import KNNImputer"
   ]
  },
  {
   "cell_type": "code",
   "execution_count": 15,
   "metadata": {
    "tags": []
   },
   "outputs": [],
   "source": [
    "num_pipe= Pipeline ( steps=[\n",
    "    (\"std\", StandardScaler()),\n",
    "    (\"impute\", KNNImputer()), \n",
    "    ])"
   ]
  },
  {
   "cell_type": "code",
   "execution_count": 16,
   "metadata": {
    "tags": []
   },
   "outputs": [
    {
     "data": {
      "text/html": [
       "<div>\n",
       "<style scoped>\n",
       "    .dataframe tbody tr th:only-of-type {\n",
       "        vertical-align: middle;\n",
       "    }\n",
       "\n",
       "    .dataframe tbody tr th {\n",
       "        vertical-align: top;\n",
       "    }\n",
       "\n",
       "    .dataframe thead th {\n",
       "        text-align: right;\n",
       "    }\n",
       "</style>\n",
       "<table border=\"1\" class=\"dataframe\">\n",
       "  <thead>\n",
       "    <tr style=\"text-align: right;\">\n",
       "      <th></th>\n",
       "      <th>n__v1</th>\n",
       "      <th>n__v2</th>\n",
       "      <th>n__v3</th>\n",
       "      <th>n__v4</th>\n",
       "      <th>n__v5</th>\n",
       "      <th>n__v6</th>\n",
       "      <th>n__v7</th>\n",
       "      <th>n__v8</th>\n",
       "      <th>n__v9</th>\n",
       "      <th>n__v10</th>\n",
       "      <th>n__v11</th>\n",
       "      <th>n__v12</th>\n",
       "      <th>n__v13</th>\n",
       "      <th>n__v14</th>\n",
       "      <th>n__v15</th>\n",
       "      <th>n__v16</th>\n",
       "      <th>n__v17</th>\n",
       "      <th>n__v18</th>\n",
       "      <th>n__v19</th>\n",
       "      <th>n__v20</th>\n",
       "      <th>n__v21</th>\n",
       "      <th>n__v22</th>\n",
       "      <th>n__v23</th>\n",
       "      <th>n__v24</th>\n",
       "      <th>n__v25</th>\n",
       "      <th>n__v26</th>\n",
       "      <th>n__v27</th>\n",
       "      <th>n__v28</th>\n",
       "      <th>n__amount</th>\n",
       "    </tr>\n",
       "  </thead>\n",
       "  <tbody>\n",
       "    <tr>\n",
       "      <th>142087</th>\n",
       "      <td>-1.008613</td>\n",
       "      <td>1.168013</td>\n",
       "      <td>0.203077</td>\n",
       "      <td>-0.252933</td>\n",
       "      <td>-0.387030</td>\n",
       "      <td>-0.051340</td>\n",
       "      <td>-0.191393</td>\n",
       "      <td>0.917626</td>\n",
       "      <td>-0.220348</td>\n",
       "      <td>0.379391</td>\n",
       "      <td>0.891953</td>\n",
       "      <td>0.652099</td>\n",
       "      <td>-0.481673</td>\n",
       "      <td>0.888920</td>\n",
       "      <td>0.511094</td>\n",
       "      <td>0.459652</td>\n",
       "      <td>-0.178769</td>\n",
       "      <td>-0.131099</td>\n",
       "      <td>-0.030699</td>\n",
       "      <td>0.240351</td>\n",
       "      <td>-0.230649</td>\n",
       "      <td>-0.781406</td>\n",
       "      <td>0.154163</td>\n",
       "      <td>-0.584578</td>\n",
       "      <td>-0.161870</td>\n",
       "      <td>0.232116</td>\n",
       "      <td>0.525621</td>\n",
       "      <td>0.459397</td>\n",
       "      <td>-0.301324</td>\n",
       "    </tr>\n",
       "    <tr>\n",
       "      <th>165168</th>\n",
       "      <td>0.071848</td>\n",
       "      <td>0.664025</td>\n",
       "      <td>-0.240845</td>\n",
       "      <td>-0.381091</td>\n",
       "      <td>0.694608</td>\n",
       "      <td>-0.633906</td>\n",
       "      <td>0.833474</td>\n",
       "      <td>-0.132701</td>\n",
       "      <td>-0.166967</td>\n",
       "      <td>-0.793682</td>\n",
       "      <td>-0.490992</td>\n",
       "      <td>0.366808</td>\n",
       "      <td>0.879055</td>\n",
       "      <td>-1.245368</td>\n",
       "      <td>-0.369767</td>\n",
       "      <td>0.316392</td>\n",
       "      <td>0.393419</td>\n",
       "      <td>-0.407275</td>\n",
       "      <td>-0.310150</td>\n",
       "      <td>0.099453</td>\n",
       "      <td>-0.438520</td>\n",
       "      <td>-1.037593</td>\n",
       "      <td>0.145573</td>\n",
       "      <td>1.078771</td>\n",
       "      <td>-0.761303</td>\n",
       "      <td>0.221753</td>\n",
       "      <td>0.564899</td>\n",
       "      <td>0.254973</td>\n",
       "      <td>-0.342346</td>\n",
       "    </tr>\n",
       "    <tr>\n",
       "      <th>235908</th>\n",
       "      <td>0.099163</td>\n",
       "      <td>-0.387383</td>\n",
       "      <td>-0.945009</td>\n",
       "      <td>-1.493663</td>\n",
       "      <td>-0.092322</td>\n",
       "      <td>-0.878326</td>\n",
       "      <td>1.252531</td>\n",
       "      <td>-0.564372</td>\n",
       "      <td>-2.760963</td>\n",
       "      <td>0.979945</td>\n",
       "      <td>-0.734286</td>\n",
       "      <td>-0.940293</td>\n",
       "      <td>0.749094</td>\n",
       "      <td>0.176712</td>\n",
       "      <td>-1.084605</td>\n",
       "      <td>-2.049873</td>\n",
       "      <td>1.119388</td>\n",
       "      <td>-0.424709</td>\n",
       "      <td>0.039325</td>\n",
       "      <td>0.136822</td>\n",
       "      <td>0.597949</td>\n",
       "      <td>2.047828</td>\n",
       "      <td>0.533608</td>\n",
       "      <td>1.885871</td>\n",
       "      <td>-0.949325</td>\n",
       "      <td>0.195840</td>\n",
       "      <td>0.394576</td>\n",
       "      <td>0.789716</td>\n",
       "      <td>0.507010</td>\n",
       "    </tr>\n",
       "    <tr>\n",
       "      <th>148255</th>\n",
       "      <td>0.015486</td>\n",
       "      <td>0.519611</td>\n",
       "      <td>0.193472</td>\n",
       "      <td>-0.418969</td>\n",
       "      <td>0.316777</td>\n",
       "      <td>-0.774851</td>\n",
       "      <td>0.816615</td>\n",
       "      <td>-0.154107</td>\n",
       "      <td>-0.060485</td>\n",
       "      <td>-0.393037</td>\n",
       "      <td>-0.838072</td>\n",
       "      <td>0.229399</td>\n",
       "      <td>0.138905</td>\n",
       "      <td>0.095691</td>\n",
       "      <td>-0.404080</td>\n",
       "      <td>-0.180757</td>\n",
       "      <td>-0.428453</td>\n",
       "      <td>-1.022053</td>\n",
       "      <td>-0.193808</td>\n",
       "      <td>-0.038190</td>\n",
       "      <td>-0.336778</td>\n",
       "      <td>-0.738483</td>\n",
       "      <td>0.127711</td>\n",
       "      <td>-0.026519</td>\n",
       "      <td>-0.955999</td>\n",
       "      <td>0.297594</td>\n",
       "      <td>0.620507</td>\n",
       "      <td>0.285961</td>\n",
       "      <td>-0.333753</td>\n",
       "    </tr>\n",
       "    <tr>\n",
       "      <th>145672</th>\n",
       "      <td>0.009053</td>\n",
       "      <td>0.524138</td>\n",
       "      <td>0.175338</td>\n",
       "      <td>-0.335413</td>\n",
       "      <td>0.761346</td>\n",
       "      <td>0.501074</td>\n",
       "      <td>0.266188</td>\n",
       "      <td>0.187765</td>\n",
       "      <td>-0.186259</td>\n",
       "      <td>-0.837330</td>\n",
       "      <td>0.231244</td>\n",
       "      <td>0.693028</td>\n",
       "      <td>1.261985</td>\n",
       "      <td>-1.542311</td>\n",
       "      <td>-0.324732</td>\n",
       "      <td>1.234117</td>\n",
       "      <td>-0.316896</td>\n",
       "      <td>1.377317</td>\n",
       "      <td>0.854111</td>\n",
       "      <td>0.109213</td>\n",
       "      <td>-0.199423</td>\n",
       "      <td>-0.454902</td>\n",
       "      <td>0.047231</td>\n",
       "      <td>-0.725277</td>\n",
       "      <td>-2.181428</td>\n",
       "      <td>-0.147735</td>\n",
       "      <td>0.586351</td>\n",
       "      <td>0.739459</td>\n",
       "      <td>-0.337806</td>\n",
       "    </tr>\n",
       "  </tbody>\n",
       "</table>\n",
       "</div>"
      ],
      "text/plain": [
       "           n__v1     n__v2     n__v3     n__v4     n__v5     n__v6     n__v7  \\\n",
       "142087 -1.008613  1.168013  0.203077 -0.252933 -0.387030 -0.051340 -0.191393   \n",
       "165168  0.071848  0.664025 -0.240845 -0.381091  0.694608 -0.633906  0.833474   \n",
       "235908  0.099163 -0.387383 -0.945009 -1.493663 -0.092322 -0.878326  1.252531   \n",
       "148255  0.015486  0.519611  0.193472 -0.418969  0.316777 -0.774851  0.816615   \n",
       "145672  0.009053  0.524138  0.175338 -0.335413  0.761346  0.501074  0.266188   \n",
       "\n",
       "           n__v8     n__v9    n__v10    n__v11    n__v12    n__v13    n__v14  \\\n",
       "142087  0.917626 -0.220348  0.379391  0.891953  0.652099 -0.481673  0.888920   \n",
       "165168 -0.132701 -0.166967 -0.793682 -0.490992  0.366808  0.879055 -1.245368   \n",
       "235908 -0.564372 -2.760963  0.979945 -0.734286 -0.940293  0.749094  0.176712   \n",
       "148255 -0.154107 -0.060485 -0.393037 -0.838072  0.229399  0.138905  0.095691   \n",
       "145672  0.187765 -0.186259 -0.837330  0.231244  0.693028  1.261985 -1.542311   \n",
       "\n",
       "          n__v15    n__v16    n__v17    n__v18    n__v19    n__v20    n__v21  \\\n",
       "142087  0.511094  0.459652 -0.178769 -0.131099 -0.030699  0.240351 -0.230649   \n",
       "165168 -0.369767  0.316392  0.393419 -0.407275 -0.310150  0.099453 -0.438520   \n",
       "235908 -1.084605 -2.049873  1.119388 -0.424709  0.039325  0.136822  0.597949   \n",
       "148255 -0.404080 -0.180757 -0.428453 -1.022053 -0.193808 -0.038190 -0.336778   \n",
       "145672 -0.324732  1.234117 -0.316896  1.377317  0.854111  0.109213 -0.199423   \n",
       "\n",
       "          n__v22    n__v23    n__v24    n__v25    n__v26    n__v27    n__v28  \\\n",
       "142087 -0.781406  0.154163 -0.584578 -0.161870  0.232116  0.525621  0.459397   \n",
       "165168 -1.037593  0.145573  1.078771 -0.761303  0.221753  0.564899  0.254973   \n",
       "235908  2.047828  0.533608  1.885871 -0.949325  0.195840  0.394576  0.789716   \n",
       "148255 -0.738483  0.127711 -0.026519 -0.955999  0.297594  0.620507  0.285961   \n",
       "145672 -0.454902  0.047231 -0.725277 -2.181428 -0.147735  0.586351  0.739459   \n",
       "\n",
       "        n__amount  \n",
       "142087  -0.301324  \n",
       "165168  -0.342346  \n",
       "235908   0.507010  \n",
       "148255  -0.333753  \n",
       "145672  -0.337806  "
      ]
     },
     "execution_count": 16,
     "metadata": {},
     "output_type": "execute_result"
    }
   ],
   "source": [
    "all_cols= X_train.columns\n",
    "prep= ColumnTransformer([\n",
    "    (\"n\", num_pipe, all_cols)\n",
    "    ]).set_output(transform= \"pandas\")\n",
    "prep.fit_transform(X_train).head()"
   ]
  },
  {
   "cell_type": "markdown",
   "metadata": {},
   "source": [
    "# Lets define Evaluation Function to measure the recall, precision and roc_auc score"
   ]
  },
  {
   "cell_type": "code",
   "execution_count": 17,
   "metadata": {
    "tags": []
   },
   "outputs": [],
   "source": [
    "# Evaluation Functions\n",
    "from sklearn.metrics import accuracy_score, recall_score ,average_precision_score, precision_recall_curve, precision_score, roc_auc_score,roc_curve, auc \n",
    "def eval_scores(actuals, pred):\n",
    "    res= pd.DataFrame({ \n",
    "    \"accuracy\": [accuracy_score(actuals, pred)], \n",
    "    \"recall\": [recall_score(actuals, pred)],\n",
    "    \"roc_auc\": [roc_auc_score(actuals, pred)],\n",
    "    \"precision\": [precision_score(actuals, pred)]})    \n",
    "    return res"
   ]
  },
  {
   "cell_type": "code",
   "execution_count": 18,
   "metadata": {},
   "outputs": [],
   "source": [
    "'''TensorFlow and Keras'''\n",
    "import tensorflow as tf\n",
    "from tensorflow import keras\n",
    "K = keras.backend\n",
    "import keras\n",
    "\n",
    "from tensorflow.keras.models import Sequential, Model\n",
    "from tensorflow.keras.layers import Activation, Dense, Dropout\n",
    "from tensorflow.keras.layers import BatchNormalization, Input, Lambda\n",
    "from tensorflow.keras import regularizers\n",
    "from tensorflow.keras.losses import mse, binary_crossentropy\n",
    "from scikeras.wrappers import KerasRegressor\n",
    "\n",
    "tf.config.set_visible_devices([], 'GPU')"
   ]
  },
  {
   "cell_type": "code",
   "execution_count": 63,
   "metadata": {},
   "outputs": [],
   "source": [
    "def create_model():\n",
    "    # create model\n",
    "    # Call neural network API\n",
    "    model = Sequential()\n",
    "    # Apply linear activation function to input layer\n",
    "    # Generate hidden layer with 29 nodes, the same as the input layer\n",
    "    model.add(Dense(units=29, activation='linear',input_dim=29))    \n",
    "    model.add(Dense(units=27, activation='linear'))\n",
    "    #model.add(Dropout(0.02))\n",
    "    #model.add(Dense(units=10, activation='linear'))    \n",
    "    # Apply linear activation function to hidden layer\n",
    "    # Generate output layer with 29 nodes    \n",
    "    model.add(Dense(units=29, activation='linear'))\n",
    "    # Compile the model\n",
    "    model.compile(optimizer= 'adam', loss='mean_squared_error', metrics=['accuracy'])\n",
    "    return model"
   ]
  },
  {
   "cell_type": "code",
   "execution_count": 49,
   "metadata": {},
   "outputs": [],
   "source": [
    "# df_X = prep.fit_transform(df.drop(columns=[\"target\", \"time\"]).copy())\n",
    "# df_y= df[\"target\"]\n",
    "df_X = prep.fit_transform(X_train)\n",
    "df_y= y_train"
   ]
  },
  {
   "cell_type": "markdown",
   "metadata": {},
   "source": [
    "# Define our PCA model pipeline and see if it works fine with custom Transformer "
   ]
  },
  {
   "cell_type": "code",
   "execution_count": 50,
   "metadata": {},
   "outputs": [
    {
     "name": "stdout",
     "output_type": "stream",
     "text": [
      "Epoch 1/100\n",
      "96/96 [==============================] - 0s 3ms/step - loss: 1.0264 - accuracy: 0.1707 - val_loss: 0.5942 - val_accuracy: 0.3232\n",
      "Epoch 2/100\n",
      "96/96 [==============================] - 0s 2ms/step - loss: 0.4579 - accuracy: 0.4177 - val_loss: 0.3506 - val_accuracy: 0.5014\n",
      "Epoch 3/100\n",
      "96/96 [==============================] - 0s 2ms/step - loss: 0.2855 - accuracy: 0.5551 - val_loss: 0.2304 - val_accuracy: 0.5979\n",
      "Epoch 4/100\n",
      "96/96 [==============================] - 0s 2ms/step - loss: 0.1971 - accuracy: 0.6321 - val_loss: 0.1657 - val_accuracy: 0.6642\n",
      "Epoch 5/100\n",
      "96/96 [==============================] - 0s 3ms/step - loss: 0.1389 - accuracy: 0.7013 - val_loss: 0.1144 - val_accuracy: 0.7338\n",
      "Epoch 6/100\n",
      "96/96 [==============================] - 0s 3ms/step - loss: 0.1046 - accuracy: 0.7475 - val_loss: 0.0960 - val_accuracy: 0.7558\n",
      "Epoch 7/100\n",
      "96/96 [==============================] - 0s 2ms/step - loss: 0.0837 - accuracy: 0.7674 - val_loss: 0.0682 - val_accuracy: 0.7821\n",
      "Epoch 8/100\n",
      "96/96 [==============================] - 0s 3ms/step - loss: 0.0557 - accuracy: 0.8087 - val_loss: 0.0434 - val_accuracy: 0.8402\n",
      "Epoch 9/100\n",
      "96/96 [==============================] - 0s 3ms/step - loss: 0.0391 - accuracy: 0.8591 - val_loss: 0.0374 - val_accuracy: 0.8674\n",
      "Epoch 10/100\n",
      "96/96 [==============================] - 0s 3ms/step - loss: 0.0371 - accuracy: 0.8669 - val_loss: 0.0367 - val_accuracy: 0.8679\n",
      "Epoch 11/100\n",
      "96/96 [==============================] - 0s 3ms/step - loss: 0.0368 - accuracy: 0.8692 - val_loss: 0.0366 - val_accuracy: 0.8684\n",
      "Epoch 12/100\n",
      "96/96 [==============================] - 0s 3ms/step - loss: 0.0366 - accuracy: 0.8681 - val_loss: 0.0364 - val_accuracy: 0.8679\n",
      "Epoch 13/100\n",
      "96/96 [==============================] - 0s 2ms/step - loss: 0.0365 - accuracy: 0.8680 - val_loss: 0.0362 - val_accuracy: 0.8678\n",
      "Epoch 14/100\n",
      "96/96 [==============================] - 0s 2ms/step - loss: 0.0363 - accuracy: 0.8677 - val_loss: 0.0362 - val_accuracy: 0.8677\n",
      "Epoch 15/100\n",
      "96/96 [==============================] - 0s 3ms/step - loss: 0.0362 - accuracy: 0.8680 - val_loss: 0.0360 - val_accuracy: 0.8675\n",
      "Epoch 16/100\n",
      "96/96 [==============================] - 0s 3ms/step - loss: 0.0362 - accuracy: 0.8684 - val_loss: 0.0360 - val_accuracy: 0.8682\n",
      "Epoch 17/100\n",
      "96/96 [==============================] - 0s 3ms/step - loss: 0.0361 - accuracy: 0.8698 - val_loss: 0.0359 - val_accuracy: 0.8696\n",
      "Epoch 18/100\n",
      "96/96 [==============================] - 0s 2ms/step - loss: 0.0360 - accuracy: 0.8701 - val_loss: 0.0359 - val_accuracy: 0.8712\n",
      "Epoch 19/100\n",
      "96/96 [==============================] - 0s 3ms/step - loss: 0.0359 - accuracy: 0.8717 - val_loss: 0.0358 - val_accuracy: 0.8715\n",
      "Epoch 20/100\n",
      "96/96 [==============================] - 0s 2ms/step - loss: 0.0358 - accuracy: 0.8725 - val_loss: 0.0357 - val_accuracy: 0.8734\n",
      "Epoch 21/100\n",
      "96/96 [==============================] - 0s 3ms/step - loss: 0.0358 - accuracy: 0.8736 - val_loss: 0.0356 - val_accuracy: 0.8744\n",
      "Epoch 22/100\n",
      "96/96 [==============================] - 0s 3ms/step - loss: 0.0357 - accuracy: 0.8753 - val_loss: 0.0356 - val_accuracy: 0.8768\n",
      "Epoch 23/100\n",
      "96/96 [==============================] - 0s 2ms/step - loss: 0.0357 - accuracy: 0.8781 - val_loss: 0.0355 - val_accuracy: 0.8794\n",
      "Epoch 24/100\n",
      "96/96 [==============================] - 0s 2ms/step - loss: 0.0356 - accuracy: 0.8795 - val_loss: 0.0355 - val_accuracy: 0.8803\n",
      "Epoch 25/100\n",
      "96/96 [==============================] - 0s 3ms/step - loss: 0.0356 - accuracy: 0.8813 - val_loss: 0.0355 - val_accuracy: 0.8821\n",
      "Epoch 26/100\n",
      "96/96 [==============================] - 0s 2ms/step - loss: 0.0355 - accuracy: 0.8825 - val_loss: 0.0354 - val_accuracy: 0.8839\n",
      "Epoch 27/100\n",
      "96/96 [==============================] - 0s 3ms/step - loss: 0.0355 - accuracy: 0.8847 - val_loss: 0.0353 - val_accuracy: 0.8863\n",
      "Epoch 28/100\n",
      "96/96 [==============================] - 0s 3ms/step - loss: 0.0355 - accuracy: 0.8869 - val_loss: 0.0353 - val_accuracy: 0.8879\n",
      "Epoch 29/100\n",
      "96/96 [==============================] - 0s 2ms/step - loss: 0.0354 - accuracy: 0.8883 - val_loss: 0.0352 - val_accuracy: 0.8888\n",
      "Epoch 30/100\n",
      "96/96 [==============================] - 0s 3ms/step - loss: 0.0354 - accuracy: 0.8890 - val_loss: 0.0352 - val_accuracy: 0.8906\n",
      "Epoch 31/100\n",
      "96/96 [==============================] - 0s 3ms/step - loss: 0.0353 - accuracy: 0.8928 - val_loss: 0.0351 - val_accuracy: 0.8939\n",
      "Epoch 32/100\n",
      "96/96 [==============================] - 0s 2ms/step - loss: 0.0353 - accuracy: 0.8949 - val_loss: 0.0352 - val_accuracy: 0.8944\n",
      "Epoch 33/100\n",
      "96/96 [==============================] - 0s 2ms/step - loss: 0.0352 - accuracy: 0.8954 - val_loss: 0.0350 - val_accuracy: 0.8976\n",
      "Epoch 34/100\n",
      "96/96 [==============================] - 0s 2ms/step - loss: 0.0352 - accuracy: 0.8986 - val_loss: 0.0350 - val_accuracy: 0.8989\n",
      "Epoch 35/100\n",
      "96/96 [==============================] - 0s 3ms/step - loss: 0.0352 - accuracy: 0.8997 - val_loss: 0.0349 - val_accuracy: 0.8997\n",
      "Epoch 36/100\n",
      "96/96 [==============================] - 0s 2ms/step - loss: 0.0351 - accuracy: 0.9017 - val_loss: 0.0349 - val_accuracy: 0.9026\n",
      "Epoch 37/100\n",
      "96/96 [==============================] - 0s 2ms/step - loss: 0.0351 - accuracy: 0.9026 - val_loss: 0.0349 - val_accuracy: 0.9044\n",
      "Epoch 38/100\n",
      "96/96 [==============================] - 0s 2ms/step - loss: 0.0350 - accuracy: 0.9059 - val_loss: 0.0348 - val_accuracy: 0.9061\n",
      "Epoch 39/100\n",
      "96/96 [==============================] - 0s 2ms/step - loss: 0.0350 - accuracy: 0.9080 - val_loss: 0.0348 - val_accuracy: 0.9098\n",
      "Epoch 40/100\n",
      "96/96 [==============================] - 0s 2ms/step - loss: 0.0350 - accuracy: 0.9099 - val_loss: 0.0347 - val_accuracy: 0.9097\n",
      "Epoch 41/100\n",
      "96/96 [==============================] - 0s 2ms/step - loss: 0.0349 - accuracy: 0.9113 - val_loss: 0.0346 - val_accuracy: 0.9119\n",
      "Epoch 42/100\n",
      "96/96 [==============================] - 0s 2ms/step - loss: 0.0349 - accuracy: 0.9142 - val_loss: 0.0345 - val_accuracy: 0.9140\n",
      "Epoch 43/100\n",
      "96/96 [==============================] - 0s 2ms/step - loss: 0.0348 - accuracy: 0.9154 - val_loss: 0.0346 - val_accuracy: 0.9173\n",
      "Epoch 44/100\n",
      "96/96 [==============================] - 0s 2ms/step - loss: 0.0347 - accuracy: 0.9175 - val_loss: 0.0344 - val_accuracy: 0.9180\n",
      "Epoch 45/100\n",
      "96/96 [==============================] - 0s 2ms/step - loss: 0.0346 - accuracy: 0.9188 - val_loss: 0.0344 - val_accuracy: 0.9205\n",
      "Epoch 46/100\n",
      "96/96 [==============================] - 0s 2ms/step - loss: 0.0346 - accuracy: 0.9213 - val_loss: 0.0343 - val_accuracy: 0.9227\n",
      "Epoch 47/100\n",
      "96/96 [==============================] - 0s 2ms/step - loss: 0.0346 - accuracy: 0.9228 - val_loss: 0.0343 - val_accuracy: 0.9240\n",
      "Epoch 48/100\n",
      "96/96 [==============================] - 0s 3ms/step - loss: 0.0345 - accuracy: 0.9256 - val_loss: 0.0342 - val_accuracy: 0.9265\n",
      "Epoch 49/100\n",
      "96/96 [==============================] - 0s 2ms/step - loss: 0.0344 - accuracy: 0.9285 - val_loss: 0.0342 - val_accuracy: 0.9279\n",
      "Epoch 50/100\n",
      "96/96 [==============================] - 0s 2ms/step - loss: 0.0344 - accuracy: 0.9314 - val_loss: 0.0342 - val_accuracy: 0.9287\n",
      "Epoch 51/100\n",
      "96/96 [==============================] - 0s 2ms/step - loss: 0.0343 - accuracy: 0.9332 - val_loss: 0.0340 - val_accuracy: 0.9338\n",
      "Epoch 52/100\n",
      "96/96 [==============================] - 0s 2ms/step - loss: 0.0342 - accuracy: 0.9356 - val_loss: 0.0339 - val_accuracy: 0.9370\n",
      "Epoch 53/100\n",
      "96/96 [==============================] - 0s 2ms/step - loss: 0.0342 - accuracy: 0.9395 - val_loss: 0.0340 - val_accuracy: 0.9371\n",
      "Epoch 54/100\n",
      "96/96 [==============================] - 0s 2ms/step - loss: 0.0341 - accuracy: 0.9411 - val_loss: 0.0339 - val_accuracy: 0.9405\n",
      "Epoch 55/100\n",
      "96/96 [==============================] - 0s 2ms/step - loss: 0.0341 - accuracy: 0.9422 - val_loss: 0.0338 - val_accuracy: 0.9427\n",
      "Epoch 56/100\n",
      "96/96 [==============================] - 0s 2ms/step - loss: 0.0341 - accuracy: 0.9427 - val_loss: 0.0338 - val_accuracy: 0.9454\n",
      "Epoch 57/100\n",
      "96/96 [==============================] - 0s 3ms/step - loss: 0.0341 - accuracy: 0.9469 - val_loss: 0.0338 - val_accuracy: 0.9473\n",
      "Epoch 58/100\n",
      "96/96 [==============================] - 0s 2ms/step - loss: 0.0341 - accuracy: 0.9471 - val_loss: 0.0338 - val_accuracy: 0.9495\n",
      "Epoch 59/100\n",
      "96/96 [==============================] - 0s 2ms/step - loss: 0.0341 - accuracy: 0.9473 - val_loss: 0.0337 - val_accuracy: 0.9515\n",
      "Epoch 60/100\n",
      "96/96 [==============================] - 0s 2ms/step - loss: 0.0339 - accuracy: 0.9514 - val_loss: 0.0337 - val_accuracy: 0.9534\n",
      "Epoch 61/100\n",
      "96/96 [==============================] - 0s 2ms/step - loss: 0.0340 - accuracy: 0.9536 - val_loss: 0.0337 - val_accuracy: 0.9538\n",
      "Epoch 62/100\n",
      "96/96 [==============================] - 0s 2ms/step - loss: 0.0339 - accuracy: 0.9548 - val_loss: 0.0337 - val_accuracy: 0.9546\n",
      "Epoch 63/100\n",
      "96/96 [==============================] - 0s 2ms/step - loss: 0.0339 - accuracy: 0.9555 - val_loss: 0.0337 - val_accuracy: 0.9565\n",
      "Epoch 64/100\n",
      "96/96 [==============================] - 0s 2ms/step - loss: 0.0339 - accuracy: 0.9575 - val_loss: 0.0337 - val_accuracy: 0.9579\n",
      "Epoch 65/100\n",
      "96/96 [==============================] - 0s 2ms/step - loss: 0.0340 - accuracy: 0.9598 - val_loss: 0.0337 - val_accuracy: 0.9596\n",
      "Epoch 66/100\n",
      "96/96 [==============================] - 0s 2ms/step - loss: 0.0339 - accuracy: 0.9593 - val_loss: 0.0337 - val_accuracy: 0.9598\n",
      "Epoch 67/100\n",
      "96/96 [==============================] - 0s 3ms/step - loss: 0.0339 - accuracy: 0.9569 - val_loss: 0.0338 - val_accuracy: 0.9613\n",
      "Epoch 68/100\n",
      "96/96 [==============================] - 0s 3ms/step - loss: 0.0338 - accuracy: 0.9629 - val_loss: 0.0337 - val_accuracy: 0.9618\n",
      "Epoch 69/100\n",
      "96/96 [==============================] - 0s 3ms/step - loss: 0.0339 - accuracy: 0.9630 - val_loss: 0.0337 - val_accuracy: 0.9636\n",
      "Epoch 70/100\n",
      "96/96 [==============================] - 0s 3ms/step - loss: 0.0339 - accuracy: 0.9622 - val_loss: 0.0337 - val_accuracy: 0.9625\n",
      "Epoch 71/100\n",
      "96/96 [==============================] - 0s 3ms/step - loss: 0.0339 - accuracy: 0.9638 - val_loss: 0.0337 - val_accuracy: 0.9646\n",
      "Epoch 72/100\n",
      "96/96 [==============================] - 0s 3ms/step - loss: 0.0339 - accuracy: 0.9626 - val_loss: 0.0337 - val_accuracy: 0.9644\n",
      "Epoch 73/100\n",
      "96/96 [==============================] - 0s 2ms/step - loss: 0.0339 - accuracy: 0.9621 - val_loss: 0.0337 - val_accuracy: 0.9619\n",
      "Epoch 74/100\n",
      "96/96 [==============================] - 0s 2ms/step - loss: 0.0339 - accuracy: 0.9622 - val_loss: 0.0337 - val_accuracy: 0.9625\n",
      "Epoch 75/100\n",
      "96/96 [==============================] - 0s 2ms/step - loss: 0.0338 - accuracy: 0.9678 - val_loss: 0.0337 - val_accuracy: 0.9654\n",
      "Epoch 76/100\n",
      "96/96 [==============================] - 0s 3ms/step - loss: 0.0339 - accuracy: 0.9638 - val_loss: 0.0337 - val_accuracy: 0.9659\n",
      "Epoch 77/100\n",
      "96/96 [==============================] - 0s 3ms/step - loss: 0.0338 - accuracy: 0.9687 - val_loss: 0.0337 - val_accuracy: 0.9678\n",
      "Epoch 78/100\n",
      "96/96 [==============================] - 0s 3ms/step - loss: 0.0338 - accuracy: 0.9657 - val_loss: 0.0337 - val_accuracy: 0.9664\n",
      "Epoch 79/100\n",
      "96/96 [==============================] - 0s 3ms/step - loss: 0.0340 - accuracy: 0.9674 - val_loss: 0.0337 - val_accuracy: 0.9655\n",
      "Epoch 80/100\n",
      "96/96 [==============================] - 0s 3ms/step - loss: 0.0339 - accuracy: 0.9630 - val_loss: 0.0337 - val_accuracy: 0.9663\n",
      "Epoch 81/100\n",
      "96/96 [==============================] - 0s 3ms/step - loss: 0.0339 - accuracy: 0.9657 - val_loss: 0.0337 - val_accuracy: 0.9667\n",
      "Epoch 82/100\n",
      "96/96 [==============================] - 0s 3ms/step - loss: 0.0338 - accuracy: 0.9650 - val_loss: 0.0337 - val_accuracy: 0.9668\n",
      "Epoch 83/100\n",
      "96/96 [==============================] - 0s 3ms/step - loss: 0.0339 - accuracy: 0.9699 - val_loss: 0.0337 - val_accuracy: 0.9689\n",
      "Epoch 84/100\n",
      "96/96 [==============================] - 0s 3ms/step - loss: 0.0338 - accuracy: 0.9697 - val_loss: 0.0337 - val_accuracy: 0.9672\n",
      "Epoch 85/100\n",
      "96/96 [==============================] - 0s 2ms/step - loss: 0.0338 - accuracy: 0.9660 - val_loss: 0.0336 - val_accuracy: 0.9661\n",
      "Epoch 86/100\n",
      "96/96 [==============================] - 0s 2ms/step - loss: 0.0338 - accuracy: 0.9651 - val_loss: 0.0337 - val_accuracy: 0.9657\n",
      "Epoch 87/100\n",
      "96/96 [==============================] - 0s 3ms/step - loss: 0.0339 - accuracy: 0.9653 - val_loss: 0.0337 - val_accuracy: 0.9669\n",
      "Epoch 88/100\n",
      "96/96 [==============================] - 0s 3ms/step - loss: 0.0339 - accuracy: 0.9681 - val_loss: 0.0337 - val_accuracy: 0.9695\n",
      "Epoch 89/100\n",
      "96/96 [==============================] - 0s 3ms/step - loss: 0.0338 - accuracy: 0.9712 - val_loss: 0.0337 - val_accuracy: 0.9679\n",
      "Epoch 90/100\n",
      "96/96 [==============================] - 0s 3ms/step - loss: 0.0339 - accuracy: 0.9644 - val_loss: 0.0337 - val_accuracy: 0.9694\n",
      "Epoch 91/100\n",
      "96/96 [==============================] - 0s 3ms/step - loss: 0.0339 - accuracy: 0.9646 - val_loss: 0.0336 - val_accuracy: 0.9678\n",
      "Epoch 92/100\n",
      "96/96 [==============================] - 0s 3ms/step - loss: 0.0338 - accuracy: 0.9671 - val_loss: 0.0337 - val_accuracy: 0.9675\n",
      "Epoch 93/100\n",
      "96/96 [==============================] - 0s 3ms/step - loss: 0.0338 - accuracy: 0.9684 - val_loss: 0.0337 - val_accuracy: 0.9655\n",
      "Epoch 94/100\n",
      "96/96 [==============================] - 0s 3ms/step - loss: 0.0338 - accuracy: 0.9690 - val_loss: 0.0336 - val_accuracy: 0.9679\n",
      "Epoch 95/100\n",
      "96/96 [==============================] - 0s 2ms/step - loss: 0.0338 - accuracy: 0.9659 - val_loss: 0.0337 - val_accuracy: 0.9674\n",
      "Epoch 96/100\n",
      "96/96 [==============================] - 0s 3ms/step - loss: 0.0338 - accuracy: 0.9665 - val_loss: 0.0337 - val_accuracy: 0.9668\n",
      "Epoch 97/100\n",
      "96/96 [==============================] - 0s 3ms/step - loss: 0.0338 - accuracy: 0.9656 - val_loss: 0.0337 - val_accuracy: 0.9674\n",
      "Epoch 98/100\n",
      "96/96 [==============================] - 0s 3ms/step - loss: 0.0338 - accuracy: 0.9673 - val_loss: 0.0337 - val_accuracy: 0.9677\n",
      "Epoch 99/100\n",
      "96/96 [==============================] - 0s 3ms/step - loss: 0.0339 - accuracy: 0.9689 - val_loss: 0.0337 - val_accuracy: 0.9700\n",
      "Epoch 100/100\n",
      "96/96 [==============================] - 0s 3ms/step - loss: 0.0338 - accuracy: 0.9669 - val_loss: 0.0337 - val_accuracy: 0.9670\n"
     ]
    }
   ],
   "source": [
    "model= create_model()\n",
    "history = model.fit(x=df_X, y=df_X,\n",
    "                    epochs= 100,\n",
    "                    batch_size= 2000,\n",
    "                    shuffle=True,\n",
    "                    validation_data=(df_X, df_X),\n",
    "                    verbose=1)"
   ]
  },
  {
   "cell_type": "code",
   "execution_count": 51,
   "metadata": {},
   "outputs": [
    {
     "name": "stdout",
     "output_type": "stream",
     "text": [
      "5964/5964 [==============================] - 2s 303us/step\n"
     ]
    },
    {
     "data": {
      "image/png": "[encoded data removed]"
     },
     "metadata": {},
     "output_type": "display_data"
    },
    {
     "data": {
      "image/svg+xml": "<svg class=\"main-svg\" xmlns=\"http://www.w3.org/2000/svg\" xmlns:xlink=\"http://www.w3.org/1999/xlink\" width=\"800\" height=\"400\" style=\"\" viewBox=\"0 0 800 400\"><rect x=\"0\" y=\"0\" width=\"800\" height=\"400\" style=\"fill: rgb(255, 255, 255); fill-opacity: 1;\"/><defs id=\"defs-4086f9\"><g class=\"clips\"><clipPath id=\"clip4086f9xyplot\" class=\"plotclip\"><rect width=\"608\" height=\"220\"/></clipPath><clipPath class=\"axesclip\" id=\"clip4086f9x\"><rect x=\"80\" y=\"0\" width=\"608\" height=\"400\"/></clipPath><clipPath class=\"axesclip\" id=\"clip4086f9y\"><rect x=\"0\" y=\"100\" width=\"800\" height=\"220\"/></clipPath><clipPath class=\"axesclip\" id=\"clip4086f9xy\"><rect x=\"80\" y=\"100\" width=\"608\" height=\"220\"/></clipPath></g><g class=\"gradients\"/><g class=\"patterns\"/></defs><g class=\"bglayer\"><rect class=\"bg\" x=\"80\" y=\"100\" width=\"608\" height=\"220\" style=\"fill: rgb(229, 236, 246); fill-opacity: 1; stroke-width: 0;\"/></g><g class=\"layer-below\"><g class=\"imagelayer\"/><g class=\"shapelayer\"/></g><g class=\"cartesianlayer\"><g class=\"subplot xy\"><g class=\"layer-subplot\"><g class=\"shapelayer\"/><g class=\"imagelayer\"/></g><g class=\"minor-gridlayer\"><g class=\"x\"/><g class=\"y\"/></g><g class=\"gridlayer\"><g class=\"x\"><path class=\"xgrid crisp\" transform=\"translate(201.6,0)\" d=\"M0,100v220\" style=\"stroke: rgb(255, 255, 255); stroke-opacity: 1; stroke-width: 1px;\"/><path class=\"xgrid crisp\" transform=\"translate(323.2,0)\" d=\"M0,100v220\" style=\"stroke: rgb(255, 255, 255); stroke-opacity: 1; stroke-width: 1px;\"/><path class=\"xgrid crisp\" transform=\"translate(444.8,0)\" d=\"M0,100v220\" style=\"stroke: rgb(255, 255, 255); stroke-opacity: 1; stroke-width: 1px;\"/><path class=\"xgrid crisp\" transform=\"translate(566.4,0)\" d=\"M0,100v220\" style=\"stroke: rgb(255, 255, 255); stroke-opacity: 1; stroke-width: 1px;\"/></g><g class=\"y\"><path class=\"ygrid crisp\" transform=\"translate(0,269.4)\" d=\"M80,0h608\" style=\"stroke: rgb(255, 255, 255); stroke-opacity: 1; stroke-width: 1px;\"/><path class=\"ygrid crisp\" transform=\"translate(0,229.8)\" d=\"M80,0h608\" style=\"stroke: rgb(255, 255, 255); stroke-opacity: 1; stroke-width: 1px;\"/><path class=\"ygrid crisp\" transform=\"translate(0,190.2)\" d=\"M80,0h608\" style=\"stroke: rgb(255, 255, 255); stroke-opacity: 1; stroke-width: 1px;\"/><path class=\"ygrid crisp\" transform=\"translate(0,150.6)\" d=\"M80,0h608\" style=\"stroke: rgb(255, 255, 255); stroke-opacity: 1; stroke-width: 1px;\"/><path class=\"ygrid crisp\" transform=\"translate(0,111)\" d=\"M80,0h608\" style=\"stroke: rgb(255, 255, 255); stroke-opacity: 1; stroke-width: 1px;\"/></g></g><g class=\"zerolinelayer\"><path class=\"xzl zl crisp\" transform=\"translate(80,0)\" d=\"M0,100v220\" style=\"stroke: rgb(255, 255, 255); stroke-opacity: 1; stroke-width: 2px;\"/><path class=\"yzl zl crisp\" transform=\"translate(0,309)\" d=\"M80,0h608\" style=\"stroke: rgb(255, 255, 255); stroke-opacity: 1; stroke-width: 2px;\"/></g><path class=\"xlines-below\"/><path class=\"ylines-below\"/><g class=\"overlines-below\"/><g class=\"xaxislayer-below\"/><g class=\"yaxislayer-below\"/><g class=\"overaxes-below\"/><g class=\"plot\" transform=\"translate(80,100)\" clip-path=\"url(#clip4086f9xyplot)\"><g class=\"scatterlayer mlayer\"><g class=\"trace scatter trace7f6493\" style=\"stroke-miterlimit: 2; opacity: 1;\"><g class=\"fills\"/><g class=\"errorbars\"/><g class=\"lines\"><path class=\"js-line\" d=\"M0,209L608,11\" style=\"vector-effect: none; fill: none; stroke: rgb(239, 85, 59); stroke-opacity: 1; stroke-dasharray: 9px, 9px; stroke-width: 2px; opacity: 1;\"/></g><g class=\"points\"/><g class=\"text\"/></g></g></g><g class=\"overplot\"/><path class=\"xlines-above crisp\" d=\"M0,0\" style=\"fill: none;\"/><path class=\"ylines-above crisp\" d=\"M0,0\" style=\"fill: none;\"/><g class=\"overlines-above\"/><g class=\"xaxislayer-above\"><g class=\"xtick\"><text text-anchor=\"middle\" x=\"0\" y=\"333\" transform=\"translate(80,0)\" style=\"font-family: 'Open Sans', verdana, arial, sans-serif; font-size: 12px; fill: rgb(42, 63, 95); fill-opacity: 1; white-space: pre; opacity: 1;\">0</text></g><g class=\"xtick\"><text text-anchor=\"middle\" x=\"0\" y=\"333\" style=\"font-family: 'Open Sans', verdana, arial, sans-serif; font-size: 12px; fill: rgb(42, 63, 95); fill-opacity: 1; white-space: pre; opacity: 1;\" transform=\"translate(201.6,0)\">0.2</text></g><g class=\"xtick\"><text text-anchor=\"middle\" x=\"0\" y=\"333\" style=\"font-family: 'Open Sans', verdana, arial, sans-serif; font-size: 12px; fill: rgb(42, 63, 95); fill-opacity: 1; white-space: pre; opacity: 1;\" transform=\"translate(323.2,0)\">0.4</text></g><g class=\"xtick\"><text text-anchor=\"middle\" x=\"0\" y=\"333\" style=\"font-family: 'Open Sans', verdana, arial, sans-serif; font-size: 12px; fill: rgb(42, 63, 95); fill-opacity: 1; white-space: pre; opacity: 1;\" transform=\"translate(444.8,0)\">0.6</text></g><g class=\"xtick\"><text text-anchor=\"middle\" x=\"0\" y=\"333\" style=\"font-family: 'Open Sans', verdana, arial, sans-serif; font-size: 12px; fill: rgb(42, 63, 95); fill-opacity: 1; white-space: pre; opacity: 1;\" transform=\"translate(566.4,0)\">0.8</text></g><g class=\"xtick\"><text text-anchor=\"middle\" x=\"0\" y=\"333\" style=\"font-family: 'Open Sans', verdana, arial, sans-serif; font-size: 12px; fill: rgb(42, 63, 95); fill-opacity: 1; white-space: pre; opacity: 1;\" transform=\"translate(688,0)\">1</text></g></g><g class=\"yaxislayer-above\"><g class=\"ytick\"><text text-anchor=\"end\" x=\"79\" y=\"4.199999999999999\" transform=\"translate(0,309)\" style=\"font-family: 'Open Sans', verdana, arial, sans-serif; font-size: 12px; fill: rgb(42, 63, 95); fill-opacity: 1; white-space: pre; opacity: 1;\">0</text></g><g class=\"ytick\"><text text-anchor=\"end\" x=\"79\" y=\"4.199999999999999\" style=\"font-family: 'Open Sans', verdana, arial, sans-serif; font-size: 12px; fill: rgb(42, 63, 95); fill-opacity: 1; white-space: pre; opacity: 1;\" transform=\"translate(0,269.4)\">0.2</text></g><g class=\"ytick\"><text text-anchor=\"end\" x=\"79\" y=\"4.199999999999999\" style=\"font-family: 'Open Sans', verdana, arial, sans-serif; font-size: 12px; fill: rgb(42, 63, 95); fill-opacity: 1; white-space: pre; opacity: 1;\" transform=\"translate(0,229.8)\">0.4</text></g><g class=\"ytick\"><text text-anchor=\"end\" x=\"79\" y=\"4.199999999999999\" style=\"font-family: 'Open Sans', verdana, arial, sans-serif; font-size: 12px; fill: rgb(42, 63, 95); fill-opacity: 1; white-space: pre; opacity: 1;\" transform=\"translate(0,190.2)\">0.6</text></g><g class=\"ytick\"><text text-anchor=\"end\" x=\"79\" y=\"4.199999999999999\" style=\"font-family: 'Open Sans', verdana, arial, sans-serif; font-size: 12px; fill: rgb(42, 63, 95); fill-opacity: 1; white-space: pre; opacity: 1;\" transform=\"translate(0,150.6)\">0.8</text></g><g class=\"ytick\"><text text-anchor=\"end\" x=\"79\" y=\"4.199999999999999\" style=\"font-family: 'Open Sans', verdana, arial, sans-serif; font-size: 12px; fill: rgb(42, 63, 95); fill-opacity: 1; white-space: pre; opacity: 1;\" transform=\"translate(0,111)\">1</text></g></g><g class=\"overaxes-above\"/></g></g><g class=\"polarlayer\"/><g class=\"smithlayer\"/><g class=\"ternarylayer\"/><g class=\"geolayer\"/><g class=\"funnelarealayer\"/><g class=\"pielayer\"/><g class=\"iciclelayer\"/><g class=\"treemaplayer\"/><g class=\"sunburstlayer\"/><g class=\"glimages\"><image xmlns=\"http://www.w3.org/2000/svg\" xlink:href=\"data:image/png;base64,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\" preserveAspectRatio=\"none\" x=\"0\" y=\"0\" width=\"800px\" height=\"400px\"/><image xmlns=\"http://www.w3.org/2000/svg\" xlink:href=\"data:image/png;base64,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\" preserveAspectRatio=\"none\" x=\"0\" y=\"0\" width=\"800px\" height=\"400px\"/></g><defs id=\"topdefs-4086f9\"><g class=\"clips\"/><clipPath id=\"legend4086f9\"><rect width=\"88\" height=\"29\" x=\"0\" y=\"0\"/></clipPath></defs><g class=\"layer-above\"><g class=\"imagelayer\"/><g class=\"shapelayer\"/></g><g class=\"infolayer\"><g class=\"legend\" pointer-events=\"all\" transform=\"translate(700.16,100)\"><rect class=\"bg\" shape-rendering=\"crispEdges\" width=\"88\" height=\"29\" x=\"0\" y=\"0\" style=\"stroke: rgb(68, 68, 68); stroke-opacity: 1; fill: rgb(255, 255, 255); fill-opacity: 1; stroke-width: 0px;\"/><g class=\"scrollbox\" transform=\"\" clip-path=\"url(#legend4086f9)\"><g class=\"groups\"><g class=\"traces\" transform=\"translate(0,14.5)\" style=\"opacity: 1;\"><text class=\"legendtext\" text-anchor=\"start\" x=\"40\" y=\"4.680000000000001\" style=\"font-family: 'Open Sans', verdana, arial, sans-serif; font-size: 12px; fill: rgb(42, 63, 95); fill-opacity: 1; white-space: pre;\">trace 1</text><g class=\"layers\" style=\"opacity: 1;\"><g class=\"legendfill\"/><g class=\"legendlines\"><path class=\"js-line\" d=\"M5,0h30\" style=\"fill: none; stroke: rgb(239, 85, 59); stroke-opacity: 1; stroke-dasharray: 9px, 9px; stroke-width: 2px;\"/></g><g class=\"legendsymbols\"><g class=\"legendpoints\"/></g></g><rect class=\"legendtoggle\" x=\"0\" y=\"-9.5\" width=\"82.3125\" height=\"19\" style=\"fill: rgb(0, 0, 0); fill-opacity: 0;\"/></g></g></g><rect class=\"scrollbar\" rx=\"20\" ry=\"3\" width=\"0\" height=\"0\" x=\"0\" y=\"0\" style=\"fill: rgb(128, 139, 164); fill-opacity: 1;\"/></g><g class=\"g-gtitle\"><text class=\"gtitle\" x=\"40\" y=\"50\" text-anchor=\"start\" dy=\"0em\" style=\"font-family: 'Open Sans', verdana, arial, sans-serif; font-size: 17px; fill: rgb(42, 63, 95); opacity: 1; font-weight: normal; white-space: pre;\">area under the curve 0.91</text></g><g class=\"g-xtitle\"><text class=\"xtitle\" x=\"384\" y=\"359.8\" text-anchor=\"middle\" style=\"font-family: 'Open Sans', verdana, arial, sans-serif; font-size: 14px; fill: rgb(42, 63, 95); opacity: 1; font-weight: normal; white-space: pre;\">x</text></g><g class=\"g-ytitle\"><text class=\"ytitle\" transform=\"rotate(-90,35.075,210)\" x=\"35.075\" y=\"210\" text-anchor=\"middle\" style=\"font-family: 'Open Sans', verdana, arial, sans-serif; font-size: 14px; fill: rgb(42, 63, 95); opacity: 1; font-weight: normal; white-space: pre;\">y</text></g></g></svg>"
     },
     "metadata": {},
     "output_type": "display_data"
    }
   ],
   "source": [
    "def plots_(labels, data):\n",
    "    df_pred= pd.DataFrame(model.predict(data), columns=prep.get_feature_names_out())\n",
    "    preds= pd.DataFrame()\n",
    "    scores=anomalyScores(data, df_pred)   \n",
    "    preds= pd.concat([labels, scores], axis=1)   \n",
    "    preds.columns = ['trueLabel', 'anomalyScore']   \n",
    "    precision, recall, thresholds =  precision_recall_curve(preds['trueLabel'],preds['anomalyScore'])\n",
    "    average_precision =  average_precision_score(preds['trueLabel'],preds['anomalyScore'])\n",
    "    fpr,tpr,thresholds = roc_curve(preds['trueLabel'], preds['anomalyScore'])\n",
    "    areaUnderROC = auc(fpr, tpr)   \n",
    "    px.scatter( x=recall, y= precision, render_mode='webgl', title=average_precision, width= 800, height=400).show(\"png\")\n",
    "    (px.line(x=fpr, y=tpr, title = f'area under the curve {round(areaUnderROC,2)}', width=800, height= 400)\n",
    "    .add_scatter(y=[0,1], mode=\"lines\", line_dash= \"dash\")  \n",
    "    ).show(\"svg\")\n",
    "plots_(df_y, df_X)"
   ]
  },
  {
   "cell_type": "code",
   "execution_count": 52,
   "metadata": {},
   "outputs": [
    {
     "name": "stdout",
     "output_type": "stream",
     "text": [
      "Model: \"sequential_4\"\n",
      "_________________________________________________________________\n",
      " Layer (type)                Output Shape              Param #   \n",
      "=================================================================\n",
      " dense_12 (Dense)            (None, 29)                870       \n",
      "                                                                 \n",
      " dense_13 (Dense)            (None, 27)                810       \n",
      "                                                                 \n",
      " dense_14 (Dense)            (None, 29)                812       \n",
      "                                                                 \n",
      "=================================================================\n",
      "Total params: 2,492\n",
      "Trainable params: 2,492\n",
      "Non-trainable params: 0\n",
      "_________________________________________________________________\n"
     ]
    }
   ],
   "source": [
    "model.summary()\n",
    "#model.get_layer('dense_1').output"
   ]
  },
  {
   "cell_type": "code",
   "execution_count": 53,
   "metadata": {},
   "outputs": [
    {
     "name": "stdout",
     "output_type": "stream",
     "text": [
      "2938/2938 [==============================] - 1s 319us/step\n"
     ]
    },
    {
     "data": {
      "image/png": "[encoded data removed]"
     },
     "metadata": {},
     "output_type": "display_data"
    },
    {
     "data": {
      "image/svg+xml": "<svg class=\"main-svg\" xmlns=\"http://www.w3.org/2000/svg\" xmlns:xlink=\"http://www.w3.org/1999/xlink\" width=\"800\" height=\"400\" style=\"\" viewBox=\"0 0 800 400\"><rect x=\"0\" y=\"0\" width=\"800\" height=\"400\" style=\"fill: rgb(255, 255, 255); fill-opacity: 1;\"/><defs id=\"defs-63e667\"><g class=\"clips\"><clipPath id=\"clip63e667xyplot\" class=\"plotclip\"><rect width=\"608\" height=\"220\"/></clipPath><clipPath class=\"axesclip\" id=\"clip63e667x\"><rect x=\"80\" y=\"0\" width=\"608\" height=\"400\"/></clipPath><clipPath class=\"axesclip\" id=\"clip63e667y\"><rect x=\"0\" y=\"100\" width=\"800\" height=\"220\"/></clipPath><clipPath class=\"axesclip\" id=\"clip63e667xy\"><rect x=\"80\" y=\"100\" width=\"608\" height=\"220\"/></clipPath></g><g class=\"gradients\"/><g class=\"patterns\"/></defs><g class=\"bglayer\"><rect class=\"bg\" x=\"80\" y=\"100\" width=\"608\" height=\"220\" style=\"fill: rgb(229, 236, 246); fill-opacity: 1; stroke-width: 0;\"/></g><g class=\"layer-below\"><g class=\"imagelayer\"/><g class=\"shapelayer\"/></g><g class=\"cartesianlayer\"><g class=\"subplot xy\"><g class=\"layer-subplot\"><g class=\"shapelayer\"/><g class=\"imagelayer\"/></g><g class=\"minor-gridlayer\"><g class=\"x\"/><g class=\"y\"/></g><g class=\"gridlayer\"><g class=\"x\"><path class=\"xgrid crisp\" transform=\"translate(201.6,0)\" d=\"M0,100v220\" style=\"stroke: rgb(255, 255, 255); stroke-opacity: 1; stroke-width: 1px;\"/><path class=\"xgrid crisp\" transform=\"translate(323.2,0)\" d=\"M0,100v220\" style=\"stroke: rgb(255, 255, 255); stroke-opacity: 1; stroke-width: 1px;\"/><path class=\"xgrid crisp\" transform=\"translate(444.8,0)\" d=\"M0,100v220\" style=\"stroke: rgb(255, 255, 255); stroke-opacity: 1; stroke-width: 1px;\"/><path class=\"xgrid crisp\" transform=\"translate(566.4,0)\" d=\"M0,100v220\" style=\"stroke: rgb(255, 255, 255); stroke-opacity: 1; stroke-width: 1px;\"/></g><g class=\"y\"><path class=\"ygrid crisp\" transform=\"translate(0,269.4)\" d=\"M80,0h608\" style=\"stroke: rgb(255, 255, 255); stroke-opacity: 1; stroke-width: 1px;\"/><path class=\"ygrid crisp\" transform=\"translate(0,229.8)\" d=\"M80,0h608\" style=\"stroke: rgb(255, 255, 255); stroke-opacity: 1; stroke-width: 1px;\"/><path class=\"ygrid crisp\" transform=\"translate(0,190.2)\" d=\"M80,0h608\" style=\"stroke: rgb(255, 255, 255); stroke-opacity: 1; stroke-width: 1px;\"/><path class=\"ygrid crisp\" transform=\"translate(0,150.6)\" d=\"M80,0h608\" style=\"stroke: rgb(255, 255, 255); stroke-opacity: 1; stroke-width: 1px;\"/><path class=\"ygrid crisp\" transform=\"translate(0,111)\" d=\"M80,0h608\" style=\"stroke: rgb(255, 255, 255); stroke-opacity: 1; stroke-width: 1px;\"/></g></g><g class=\"zerolinelayer\"><path class=\"xzl zl crisp\" transform=\"translate(80,0)\" d=\"M0,100v220\" style=\"stroke: rgb(255, 255, 255); stroke-opacity: 1; stroke-width: 2px;\"/><path class=\"yzl zl crisp\" transform=\"translate(0,309)\" d=\"M80,0h608\" style=\"stroke: rgb(255, 255, 255); stroke-opacity: 1; stroke-width: 2px;\"/></g><path class=\"xlines-below\"/><path class=\"ylines-below\"/><g class=\"overlines-below\"/><g class=\"xaxislayer-below\"/><g class=\"yaxislayer-below\"/><g class=\"overaxes-below\"/><g class=\"plot\" transform=\"translate(80,100)\" clip-path=\"url(#clip63e667xyplot)\"><g class=\"scatterlayer mlayer\"><g class=\"trace scatter tracebad185\" style=\"stroke-miterlimit: 2; opacity: 1;\"><g class=\"fills\"/><g class=\"errorbars\"/><g class=\"lines\"><path class=\"js-line\" d=\"M0,209L608,11\" style=\"vector-effect: none; fill: none; stroke: rgb(239, 85, 59); stroke-opacity: 1; stroke-dasharray: 9px, 9px; stroke-width: 2px; opacity: 1;\"/></g><g class=\"points\"/><g class=\"text\"/></g></g></g><g class=\"overplot\"/><path class=\"xlines-above crisp\" d=\"M0,0\" style=\"fill: none;\"/><path class=\"ylines-above crisp\" d=\"M0,0\" style=\"fill: none;\"/><g class=\"overlines-above\"/><g class=\"xaxislayer-above\"><g class=\"xtick\"><text text-anchor=\"middle\" x=\"0\" y=\"333\" transform=\"translate(80,0)\" style=\"font-family: 'Open Sans', verdana, arial, sans-serif; font-size: 12px; fill: rgb(42, 63, 95); fill-opacity: 1; white-space: pre; opacity: 1;\">0</text></g><g class=\"xtick\"><text text-anchor=\"middle\" x=\"0\" y=\"333\" style=\"font-family: 'Open Sans', verdana, arial, sans-serif; font-size: 12px; fill: rgb(42, 63, 95); fill-opacity: 1; white-space: pre; opacity: 1;\" transform=\"translate(201.6,0)\">0.2</text></g><g class=\"xtick\"><text text-anchor=\"middle\" x=\"0\" y=\"333\" style=\"font-family: 'Open Sans', verdana, arial, sans-serif; font-size: 12px; fill: rgb(42, 63, 95); fill-opacity: 1; white-space: pre; opacity: 1;\" transform=\"translate(323.2,0)\">0.4</text></g><g class=\"xtick\"><text text-anchor=\"middle\" x=\"0\" y=\"333\" style=\"font-family: 'Open Sans', verdana, arial, sans-serif; font-size: 12px; fill: rgb(42, 63, 95); fill-opacity: 1; white-space: pre; opacity: 1;\" transform=\"translate(444.8,0)\">0.6</text></g><g class=\"xtick\"><text text-anchor=\"middle\" x=\"0\" y=\"333\" style=\"font-family: 'Open Sans', verdana, arial, sans-serif; font-size: 12px; fill: rgb(42, 63, 95); fill-opacity: 1; white-space: pre; opacity: 1;\" transform=\"translate(566.4,0)\">0.8</text></g><g class=\"xtick\"><text text-anchor=\"middle\" x=\"0\" y=\"333\" style=\"font-family: 'Open Sans', verdana, arial, sans-serif; font-size: 12px; fill: rgb(42, 63, 95); fill-opacity: 1; white-space: pre; opacity: 1;\" transform=\"translate(688,0)\">1</text></g></g><g class=\"yaxislayer-above\"><g class=\"ytick\"><text text-anchor=\"end\" x=\"79\" y=\"4.199999999999999\" transform=\"translate(0,309)\" style=\"font-family: 'Open Sans', verdana, arial, sans-serif; font-size: 12px; fill: rgb(42, 63, 95); fill-opacity: 1; white-space: pre; opacity: 1;\">0</text></g><g class=\"ytick\"><text text-anchor=\"end\" x=\"79\" y=\"4.199999999999999\" style=\"font-family: 'Open Sans', verdana, arial, sans-serif; font-size: 12px; fill: rgb(42, 63, 95); fill-opacity: 1; white-space: pre; opacity: 1;\" transform=\"translate(0,269.4)\">0.2</text></g><g class=\"ytick\"><text text-anchor=\"end\" x=\"79\" y=\"4.199999999999999\" style=\"font-family: 'Open Sans', verdana, arial, sans-serif; font-size: 12px; fill: rgb(42, 63, 95); fill-opacity: 1; white-space: pre; opacity: 1;\" transform=\"translate(0,229.8)\">0.4</text></g><g class=\"ytick\"><text text-anchor=\"end\" x=\"79\" y=\"4.199999999999999\" style=\"font-family: 'Open Sans', verdana, arial, sans-serif; font-size: 12px; fill: rgb(42, 63, 95); fill-opacity: 1; white-space: pre; opacity: 1;\" transform=\"translate(0,190.2)\">0.6</text></g><g class=\"ytick\"><text text-anchor=\"end\" x=\"79\" y=\"4.199999999999999\" style=\"font-family: 'Open Sans', verdana, arial, sans-serif; font-size: 12px; fill: rgb(42, 63, 95); fill-opacity: 1; white-space: pre; opacity: 1;\" transform=\"translate(0,150.6)\">0.8</text></g><g class=\"ytick\"><text text-anchor=\"end\" x=\"79\" y=\"4.199999999999999\" style=\"font-family: 'Open Sans', verdana, arial, sans-serif; font-size: 12px; fill: rgb(42, 63, 95); fill-opacity: 1; white-space: pre; opacity: 1;\" transform=\"translate(0,111)\">1</text></g></g><g class=\"overaxes-above\"/></g></g><g class=\"polarlayer\"/><g class=\"smithlayer\"/><g class=\"ternarylayer\"/><g class=\"geolayer\"/><g class=\"funnelarealayer\"/><g class=\"pielayer\"/><g class=\"iciclelayer\"/><g class=\"treemaplayer\"/><g class=\"sunburstlayer\"/><g class=\"glimages\"><image xmlns=\"http://www.w3.org/2000/svg\" xlink:href=\"data:image/png;base64,iVBORw0KGgoAAAANSUhEUgAABkAAAAMgCAYAAAB7wK5aAAAgAElEQVR4Xuzdf4xlZ3kf8PfcnXvH+BfOGpUU4qLKjSiJKK0qRY4o8VqqqlaoP6hEpfyRKHgWIznseN1QVWmjcq02UomcrPcuWcF6r+sqav5opLRVVaSoKrbTltJQCagIIIoUFdOEULI1xl7vzszOqdb2GHvx7j1n9rxzzvucD3+y733f5/k8D0aer2ZvlfyHAAECBAgQIECAAAECBAgQIECAAAECBAgQIBBMoArWj3YIECBAgAABAgQIECBAgAABAgQIECBAgAABAkkAYgkIECBAgAABAgQIECBAgAABAgQIECBAgACBcAICkHAj1RABAgQIECBAgAABAgQIECBAgAABAgQIECAgALEDBAgQIECAAAECBAgQIECAAAECBAgQIECAQDgBAUi4kWqIAAECBAgQIECAAAECBAgQIECAAAECBAgQEIDYAQIECBAgQIAAAQIECBAgQIAAAQIECBAgQCCcgAAk3Eg1RIAAAQIECBAgQIAAAQIECBAgQIAAAQIECAhA7AABAgQIECBAgAABAgQIECBAgAABAgQIECAQTkAAEm6kGiJAgAABAgQIECBAgAABAgQIECBAgAABAgQEIHaAAAECBAgQIECAAAECBAgQIECAAAECBAgQCCcgAAk3Ug0RIECAAAECBAgQIECAAAECBAgQIECAAAECAhA7QIAAAQIECBAgQIAAAQIECBAgQIAAAQIECIQTEICEG6mGCBAgQIAAAQIECBAgQIAAAQIECBAgQIAAAQGIHSBAgAABAgQIECBAgAABAgQIECBAgAABAgTCCQhAwo1UQwQIECBAgAABAgQIECBAgAABAgQIECBAgIAAxA4QIECAAAECBAgQIECAAAECBAgQIECAAAEC4QQEIOFGqiECBAgQIECAAAECBAgQIECAAAECBAgQIEBAAGIHCBAgQIAAAQIECBAgQIAAAQIECBAgQIAAgXACApBwI9UQAQIECBAgQIAAAQIECBAgQIAAAQIECBAgIACxAwQIECBAgAABAgQIECBAgAABAgQIECBAgEA4AQFIuJFqiAABAgQIECBAgAABAgQIECBAgAABAgQIEBCA2AECBAgQIECAAAECBAgQIECAAAECBAgQIEAgnIAAJNxINUSAAAECBAgQIECAAAECBAgQIECAAAECBAgIQOwAAQIECBAgQIAAAQIECBAgQIAAAQIECBAgEE5AABJupBoiQIAAAQIECBAgQIAAAQIECBAgQIAAAQIEBCB2gAABAgQIECBAgAABAgQIECBAgAABAgQIEAgnIAAJN1INESBAgAABAgQIECBAgAABAgQIECBAgAABAgIQO0CAAAECBAgQIECAAAECBAgQIECAAAECBAiEExCAhBuphggQIECAAAECBAgQIECAAAECBAgQIECAAAEBiB0gQIAAAQIECBAgQIAAAQIECBAgQIAAAQIEwgkIQMKNVEMECBAgQIAAAQIECBAgQIAAAQIECBAgQICAAMQOECBAgAABAgQIECBAgAABAgQIECBAgAABAuEEBCDhRqohAgQIECBAgAABAgQIECBAgAABAgQIECBAQABiBwgQIECAAAECBAgQIECAAAECBAgQIECAAIFwAgKQcCPVEAECBAgQIECAAAECBAgQIECAAAECBAgQICAAsQMECBAgQIAAAQIECBAgQIAAAQIECBAgQIBAOAEBSLiRaogAAQIECBAgQIAAAQIECBAgQIAAAQIECBAQgNgBAgQIECBAgAABAgQIECBAgAABAgQIECBAIJyAACTcSDVEgAABAgQIECBAgAABAgQIECBAgAABAgQICEDsAAECBAgQIECAAAECBAgQIECAAAECBAgQIBBOQAASbqQaIkCAAAECBAgQIECAAAECBAgQIECAAAECBAQgdoAAAQIECBAgQIAAAQIECBAgQIAAAQIECBAIJyAACTdSDREgQIAAAQIECBAgQIAAAQIECBAgQIAAAQICEDtAgAABAgQIECBAgAABAgQIECBAgAABAgQIhBMQgIQbqYYIECBAgAABAgQIECBAgAABAgQIECBAgAABAYgdIECAAAECBAgQIECAAAECBAgQIECAAAECBMIJCEDCjVRDBAgQIECAAAECBAgQIECAAAECBAgQIECAgADEDhAgQIAAAQIECBAgQIAAAQIECBAgQIAAAQLhBAQg4UaqIQIECBAgQIAAAQIECBAgQIAAAQIECBAgQEAAYgcIECBAgAABAgQIECBAgAABAgQIECBAgACBcAICkHAj1RABAgQIECBAgAABAgQIECBAgAABAgQIECAgALEDBAgQIECAAAECBAgQIECAAAECBAgQIECAQDgBAUi4kWqIAAECBAgQIECAAAECBAgQIECAAAECBAgQEIDYAQIECBAgQIAAAQIECBAgQIAAAQIECBAgQCCcgAAk3Eg1RIAAAQIECBAgQIAAAQIECBAgQIAAAQIECAhA7AABAgQIECBAgAABAgQIECBAgAABAgQIECAQTkAAEm6kGiJAgAABAgQIECBAgAABAgQIECBAgAABAgQEIHaAAAECBAgQIECAAAECBAgQIECAAAECBAgQCCcgAAk3Ug0RIECAAAECBAgQIECAAAECBAgQIECAAAECAhA7QIAAAQIECBAgQIAAAQIECBAgQIAAAQIECIQTEICEG6mGCBAgQIAAAQIECBAgQIAAAQIECBAgQIAAAQGIHSBAgAABAgQIECBAgAABAgQIECBAgAABAgTCCQhAwo1UQwQIECBAgAABAgQIECBAgAABAgQIECBAgIAAxA4QIECAAAECBAgQIECAAAECBAgQIECAAAEC4QQEIOFGqiECBAgQIECAAAECBAgQIECAAAECBAgQIEBAAGIHCBAgQIAAAQIECBAgQIAAAQIECBAgQIAAgXACApBwI9UQAQIECBAgQIAAAQIECBAgQIAAAQIECBAgIACxAwQIECBAgAABAgQIECBAgAABAgQIECBAgEA4AQFIuJFqiAABAgQIECBAgAABAgQIECBAgAABAgQIEBCA2AECBAgQIECAAAECBAgQIECAAAECBAgQIEAgnIAAJNxINUSAAAECBAgQIECAAAECBAgQIECAAAECBAgIQOwAAQIECBAgQIAAAQIECBAgQIAAAQIECBAgEE5AABJupBoiQIAAAQIECBAgQIAAAQIECBAgQIAAAQIEBCB2gAABAgQIECBAgAABAgQIECBAgAABAgQIEAgnIAAJN1INESBAgAABAgQIECBAgAABAgQIECBAgAABAgIQO0CAAAECBAgQIECAAAECBAgQIECAAAECBAiEExCAhBuphggQIECAAAECBAgQIECAAAECBAgQIECAAAEBiB0gQIAAAQIECBAgQIAAAQIECBAgQIAAAQIEwgkIQMKNVEMECBAgQIAAAQIECBAgQIAAAQIECBAgQICAAMQOECBAgAABAgQIECBAgAABAgQIECBAgAABAuEEBCDhRqohAgQIECBAgAABAgQIECBAgAABAgQIECBAQABiBwgQIECAAAECBAgQIECAAAECBAgQIECAAIFwAgKQcCPVEAECBAgQIECAAAECBAgQIECAAAECBAgQICAAsQMECBAgQIAAAQIECBAgQIAAAQIECBAgQIBAOAEBSLiRaogAAQIECBAgQIAAAQIECBAgQIAAAQIECBAQgNgBAgQIECBAgAABAgQIECBAgAABAgQIECBAIJyAACTcSDVEgAABAgQIECBAgAABAgQIECBAgAABAgQICEDsAAECBAgQIECAAAECBAgQIECAAAECBAgQIBBOQAASbqQaIkCAAAECBAgQIECAAAECBAgQIECAAAECBAQgdoAAAQIECBAgQIAAAQIECBAgQIAAAQIECBAIJyAACTdSDREgQIAAAQIECBAgQIAAAQIECBAgQIAAAQICEDtAgAABAgQIECBAgAABAgQIECBAgAABAgQIhBMQgIQbqYYIECBAgAABAgQIECBAgAABAgQIECBAgAABAYgdIECAAAECBAgQIECAAAECBAgQIECAAAECBMIJCEDCjVRDBAgQIECAAAECBAgQIECAAAECBAgQIECAgADEDhAgQIAAAQIECBAgQIAAAQIECBAgQIAAAQLhBAQg4UaqIQIECBAgQIAAAQIECBAgQIAAAQIECBAgQEAAYgcIECBAgAABAgQIECBAgAABAgQIECBAgACBcAICkHAj1RABAgQIECBAgAABAgQIECBAgAABAgQIECAgALEDBAgQIECAAAECBAgQIECAAAECBAgQIECAQDgBAUi4kWqIAAECBAgQIECAAAECBAgQIECAAAECBAgQEIDYAQIECBAgQIAAAQIECBAgQIAAAQIECBAgQCCcgAAk3Eg1RIAAAQIECBAgQIAAAQIECBAgQIAAAQIECAhA7AABAgQIECBAgAABAgQIECBAgAABAgQIECAQTkAAEm6kGiJAgAABAgQIECBAgAABAgQIECBAgAABAgQEIHaAAAECBAgQIECAAAECBAgQIECAAAECBAgQCCcgAAk3Ug0RIECAAAECBAgQIECAAAECBAgQIECAAAECAhA7QIAAAQIECBAgQIAAAQIECBAgQIAAAQIECIQTEICEG6mGCBAgQIAAAQIECBAgQIAAAQIECBAgQIAAAQGIHSBAgAABAgQIECBAgAABAgQIECBAgAABAgTCCQhAwo1UQwQIECBAgAABAgQIECBAgAABAgQIECBAgIAAxA4QIECAAAECBAgQIECAAAECBAgQIECAAAEC4QQEIOFGqiECBAgQIECAAAECBAgQIECAAAECBAgQIEBAAGIHCBAgQIAAAQIECBAgQIAAAQIECBAgQIAAgXACApBwI9UQAQIECBAgQIAAAQIECBAgQIAAAQIECBAgIACxAwQIECBAgAABAgQIECBAgAABAgQIECBAgEA4AQFIuJFqiAABAgQIECBAgAABAgQIECBAgAABAgQIEBCA2AECBAgQIECAAAECBAgQIECAAAECBAgQIEAgnIAAJNxINUSAAAECBAgQIECAAAECBAgQIECAAAECBAgIQOwAAQIECBAgQIAAAQIECBAgQIAAAQIECBAgEE5AABJupBoiQIAAAQIECBAgQIAAAQIECBAgQIAAAQIEBCB2gAABAgQIECBAgAABAgQIECBAgAABAgQIEAgnIAAJN1INESBAgAABAgQIECBAgAABAgQIECBAgAABAgIQO0CAAAECBAgQIECAAAECBAgQIECAAAECBAiEExCAhBuphggQIECAAAECBAgQIECAAAECBAgQIECAAAEBiB0gQIAAAQIECBAgQIAAAQIECBAgQIAAAQIEwgkIQMKNVEMECBAgQIAAAQIECBAgQIAAAQIECBAgQICAAMQOECBAgAABAgQIECBAgAABAgQIECBAgAABAuEEBCDhRqohAgQIECBAgAABAgQIECBAgAABAgQIECBAQABiBwgQIECAAAECBAgQIECAAAECBAgQIECAAIFwAgKQcCPVEAECBAgQIECAAAECBAgQIECAAAECBAgQICAAsQMECBAgQIAAAQIECBAgQIAAAQIECBAgQIBAOAEBSLiRaogAAQIECBAgQIAAAQIECBAgQIAAAQIECBAQgNgBAgQIECBAgAABAgQIECBAgAABAgQIECBAIJyAACTcSDVEgAABAgQIECBAgAABAgQIECBAgAABAgQICEDsAAECBAgQIECAAAECBAgQIECAAAECBAgQIBBOQAASbqQaIkCAAAECBAgQIECAAAECBAgQIECAAAECBAQgdoAAAQIECBAgQIAAAQIECBAgQIAAAQIECBAIJyAACTdSDREgQIAAAQIECBAgQIAAAQIECBAgQIAAAQICEDtAgAABAgQIECBAgAABAgQIECBAgAABAgQIhBMQgIQbqYYIECBAgAABAgQIECBAgAABAgQIECBAgAABAYgdIECAAAECBAgQIECAAAECBAgQIECAAAECBMIJCEDCjVRDBAgQIECAAAECBAgQIECAAAECBAgQIECAgADEDhAgQIAAAQIECBAgQIAAAQIECBAgQIAAAQLhBAQg4UaqIQIECBAgQIAAAQIECBAgQIAAAQIECBAgQEAAYgcIECBAgAABAgQIECBAgAABAgQIECBAgACBcAICkHAj1RABAgQIECBAgAABAgQIECBAgAABAgQIECAgALEDBAgQIECAAAECBAgQIECAAAECBAgQIECAQDgBAUi4kWqIAAECBAgQIECAAAECBAgQIECAAAECBAgQEIDYAQIECBAgQIAAAQIECBAgQIAAAQIECBAgQCCcgAAk3Eg1RIAAAQIECBAgQIAAAQIECBAgQIAAAQIECAhA7AABAgQIECBAgAABAgQIECBAgAABAgQIECAQTkAAEm6kGiJAgAABAgQIECBAgAABAgQIECBAgAABAgQEIHaAAAECBAgQIECAAAECBAgQIECAAAECBAgQCCcgAAk3Ug0RIECAAAECBAgQIECAAAECBAgQIECAAAECAhA7QIAAAQIECBAgQIAAAQIECBAgQIAAAQIECIQTEICEG6mGCBAgQIAAAQIECBAgQIAAAQIECBAgQIAAAQGIHSBAgAABAgQIECBAgAABAgQIECBAgAABAgTCCQhAwo1UQwQIECBAgAABAgQIECBAgAABAgQIECBAgIAAxA4QIECAAAECBAgQIECAAAECBAgQIECAAAEC4QQEIOFGqiECBAgQIECAAAECBAgQIECAAAECBAgQIEBAAGIHCBAgQIAAAQIECBAgQIAAAQIECBAgQIAAgXACApBwI9UQAQIECBAgQIAAAQIECBAgQIAAAQIECBAgIACxAwQIECBAgAABAgQIECBAgAABAgQIECBAgEA4AQFIuJFqiAABAgQIECBAgAABAgQIECBAgAABAgQIEBCA2AECBAgQIECAAAECBAgQIECAAAECBAgQIEAgnIAAJNxINUSAAAECBAgQIECAAAECBAgQIECAAAECBAgIQOwAAQIECBAgQIAAAQIECBAgQIAAAQIECBAgEE5AABJupBoiQIAAAQIECBAgQIAAAQIECBAgQIAAAQIEBCB2gAABAgQIECBAgAABAgQIECBAgAABAgQIEAgnIAAJN1INESBAgAABAgQIECBAgAABAgQIECBAgAABAgIQO0CAAAECBAgQIECAAAECBAgQIECAAAECBAiEExCAhBuphggQIECAAAECBAgQIECAAAECBAgQIECAAAEBiB0gQIAAAQIECBAgQIAAAQIECBAgQIAAAQIEwgkIQMKNVEMECBAgQIAAAQIECBAgQIAAAQIECBAgQICAAMQOECBAgAABAgQIECBAgAABAgQIECBAgAABAuEEBCDhRqohAgQIECBAgAABAgQIECBAgAABAgQIECBAQABiBwgQIECAAAECBAgQIECAAAECBAgQIECAAIFwAgKQcCPVEAECBAgQIECAAAECBAgQIECAAAECBAgQICAAsQMECBAgQIAAAQIECBAgQIAAAQIECBAgQIBAOAEBSLiRaogAAQIECBAgQIAAAQIECBAgQIAAAQIECBAQgNgBAgQIECBAgAABAgQIECBAgAABAgQIECBAIJyAACTcSDVEgAABAgQIECBAgAABAgQIECBAgAABAgQICEDsAAECBAgQIECAAAECBAgQIECAAAECBAgQIBBOQAASbqQaIkCAAAECBAgQIECAAAECBAgQIECAAAECBAQgdoAAAQIECBAgQIAAAQIECBAgQIAAAQIECBAIJyAACTdSDREgQIAAAQIECBAgQIAAAQIECBAgQIAAAQICEDtAgAABAgQIECBAgAABAgQIECBAgAABAgQIhBMQgIQbqYYIECBAgAABAgQIECBAgAABAgQIECBAgAABAYgdIECAAAECBAgQIECAAAECBAgQIECAAAECBMIJCEDCjVRDBAgQIECAAAECBAgQIECAAAECBAgQIECAgADEDhAgQIAAAQIECBAgQIAAAQIECBAgQIAAAQLhBAQg4UaqIQIECBAgQIAAAQIECBAgQIAAAQIECBAgQEAAYgcIECBAgAABAgQIECBAgAABAgQIECBAgACBcAICkHAj1RABAgQIECBAgAABAgQIECBAgAABAgQIECAgALEDBAgQIECAAAECBAgQIECAAAECBAgQIECAQDgBAUi4kWqIAAECBAgQIECAAAECBAgQIECAAAECBAgQEIDYAQIECBAgQIAAAQIECBAgQIAAAQIECBAgQCCcgAAk3Eg1RIAAAQIECBAgQIAAAQIECBAgQIAAAQIECAhA7AABAgQIECBAgAABAgQIECBAgAABAgQIECAQTkAAEm6kGiJAgAABAgQIECBAgAABAgQIECBAgAABAgQEIHaAAAECBAgQIECAAAECBAgQIECAAAECBAgQCCcgAAk3Ug0RIECAAAECBAgQIECAAAECBAgQIECAAAECAhA7QIAAAQIECBAgQIAAAQIECBAgQIAAAQIECIQTEICEG6mGCBAgQIAAAQIECBAgQIAAAQIECBAgQIAAAQGIHSBAgAABAgQIECBAgAABAgQIECBAgAABAgTCCQhAwo1UQwQIECBAgAABAgQIECBAgAABAgQIECBAgIAAxA4QIECAAAECBAgQIECAAAECBAgQIECAAAEC4QQEIOFGqiECBAgQIECAAAECBAgQIECAAAECBAgQIEBAAGIHCBAgQIAAAQIECBAgQIAAAQIECBAgQIAAgXACApBwI9UQAQIECBAgQIAAAQIECBAgQIAAAQIECBAgIACxAwQIECBAgAABAgQIECBAgAABAgQIECBAgEA4AQFIuJFqiAABAgQIECBAgAABAgQIECBAgAABAgQIEBCA2AECBAgQIECAAAECBAgQIECAAAECBAgQIEAgnIAAJNxINUSAAAECBAgQIECAAAECBAgQIECAAAECBAgIQOwAAQIECBAgQIAAAQIECBAgQIAAAQIECBAgEE5AABJupBoiQIAAAQIECBAgQIAAAQIECBAgQIAAAQIEBCB2gAABAgQIECBAgAABAgQIECBAgAABAgQIEAgnIAAJN1INESBAgAABAgQIECBAgAABAgQIECBAgAABAgIQO0CAAAECBAgQIECAAAECBAgQIECAwOAFjh7buquuqv+UUn3j4It9VYHLxczPYEsamFpDCfgfX6hxaoYAAQIECBAgQIAAAQIECBAgQIBATIGjD2z/cV3Xf6q07gQgpU1MvZEEBCCRpqkXAgQIECBAgAABAgQIECBAgACB1xX42QfPv3V26dAH8ZQrUKfqoyVWLwApcWpqjiIgAIkySX0QIECAAAECBAgQIECAAAECBAi8rsB9v/Dsmy5t3/B/8RDoQ0AA0oe6Nwm8JCAAsQkECBAgQIAAAQIECBAgQIAAAQKhBY5uXpyX+tsDoQdznc0JFq4T0McJjEBAADKCIWuRAAECBAgQIECAAAECBAgQIDAWgfuOXbjzUjX5akppbSw9j7HPOqWvPraYvWOMveuZAIHmAgKQ5lZOEiBAgAABAgQIECBAgAABAgQIDFzg6ObWJ+uU7rtWmVVKT6VUPznwVpR3NYEq/fbZk+v/ExABAgRWCQhAVgn5cwIECBAgQIAAAQIECBAgUJDAg/P68LP/b+vBqq7eU1DZSiXQmUCd0t2rLtut0l3/4uTsv686588JECBAoGwBAUjZ81M9AQIECBAgQIAAAQIECBB4jcDG5tb3Uko3YyFA4CoCVfVvlyen7+NDgAABAvEFBCDxZ6xDAgQIECBAgAABAgQIDF6gruvqAw+l9bVndu4afLEDL7DerZ8YeInKI3CgAocufOemM2fecv5AH/UYAQIECAxCQAAyiDEoggABAgQIECBAgAABAuMV2Lj/wp9La5P/NV4BnRMgkFHgG8vF7G0Z73c1AQIECAxYQAAy4OEojQABAgQIECBAgAABAmMQuPfY1sNVlX5hDL320WM1qe7p411vEuhbYCc994XHH/mhZ/quw/sECBAg0J+AAKQ/ey8TIECAAAECBAgQIECgE4GND59/dzVZ++VOLuvhkiZfWNxDWVGe/MpyMfuxKM3ogwABAgQIECDQRkAA0kbLWQIECBAgQIAAAQIECAxM4P3/uj5063/Z3hlYWddVTpXSU9d1gQ+/KFBNqi9Mb1v7pdPz6jkkBAgQIECAAIExCghAxjh1PRMgQIAAAQIECBAILvD+99eH3nRnunX7ws67grea0u7ukTpVH43U54319I2nTlXPRupJLwQIECBAgAABAgcvIAA5eHMvEiBAgAABAgQIECCQUeBnPlLfNLu4/b1UJf++k9E529V1/fXlqfUfzXa/iwkQIECAAAECBEYj4F8IRjNqjRIgQIAAAQIECBAYh8DRB7ffU1+qf3cc3f5gly/+9VGTal5i/zu3rX328Xl1ocTa1UyAAAECBAgQIDA8AQHI8GaiIgIECBAgQIAAAQJxBOq62ji+8+lU10fiNDXwTibVP1g+Mn144FUqjwABAgQIECBAgEB2AQFIdmIPECBAgAABAgQIEBivwMYDWx9OdTrVp8CovlB7MvnNs4+snenT29sECBAgQIAAAQIEhiIgABnKJNRBgAABAgQIjFpg48H68GR3+866rt87agjNhxMYwpdzT1L17kcX08+Ew9UQAQIECBAgQIAAAQLXFBCAWBACBAgQIECAQM8C9x1//k9f2p3+Yc9leJ5AUIH6m3ccnr1tPq92gzaoLQIECBAgQIAAAQIEriIgALEaBAgQIECAAIGeBe49fuFvVLuTT/VchucJHIjADZemb/r1X6/+5EAe8wgBAgQIECBAgAABAqMWEICMevyaJ0CAAAECBC4L3Lu59fEqpZ+nQYBAfoFDF6azM2eq7fwveYEAAQIECBAgQIAAgbELCEDGvgH6J0CAAJiAHNQAACAASURBVAECIxc4dqxeP19tXxgSw0tf2Fw/OaSa1ELg+gXq35tMt37vzK/e+p3rv8sNBAgQIECAAAECBAgQWC0gAFlt5AQBAgQIECAQWODo8e0j9W79xLBarN+5XKx/aVg1qYYAAQIECBAgQIAAAQIECJQlIAApa16qJUCAAAECBDoW+JmPfOum2dbh5zq+dt/XVVX1ubMnpz+x7wt8kAABAgQIECBAgAABAgQIEHhRQABiEQgQIECAAIFRCxw9fvEd9W715T2Ey3/91NnF7MioUTRPgAABAgQIECBAgAABAgQCCAhAAgxRCwQIECBQrsDG8e13p936d1NKk3K7iFX55NDk7z56Yu3fxOpKNwQIECBAgAABAgQIECBAYHwCApDxzVzHBAgQIDAggY3Nra+nlO4cUEmjL6WaVPecfWTqC8hHvwkACBAgQIAAAQIECBAgQKB0AQFI6RNUPwECBAgUI/Dzv/js7RfOrx+v6uo9e0XXKd1dTAMjKbSqqr929uT0P46kXW0SIECAAAECBAgQIECAAIGwAgKQsKPVGAECBAgMTWBjc+t7KaWbh1aXer4vUNfp04+dmv7VlKqaCwECBAgQIECAAAECBAgQIFC2gACk7PmpngABAqMS+Ll5fcPaMzt3ldp0vVs/sar25WLm/5tXIflzAgQIECBAgAABAgQIECBAgEADAT9kaYDkCAECBAj0KzCf15NvnNv+dpXS7f1Wkv31rywXsx/L/ooHCBAgQIAAAQIECBAgQIAAAQIjEBCAjGDIWiRAgEDpAkcfqP9CXW9/sfQ+rqz/8pdt7/13k/W1z5/5WPXdaD3qhwABAgQIECBAgAABAgQIECDQl4AApC957xIgQIBAI4Gjxy/+dNqtPhTwy8L9tkejDXCIAAECBAgQIECAAAECBAgQILA/AQHI/tx8igABAgQOQOC+zfN/5lJa+99XPlWl9NQBPJ/tiWqSvjC9bfpLp+fVc9kecTEBAgQIECBAgAABAgQIECBAYOQCApCRL4D2CRAgMGSBo8e3j7zeF4dXafLes4u1Tw25drURIECAAAECBAgQIECAAAECBAj0KyAA6dff6wQIECBwDYEPHNu+e1LVT15xZGd9Z/pDp0/77QnLQ4AAAQIECBAgQIAAAQIECBAgcHUBAYjtIECAAIHBChzd3Hry1d/9UaX6obMnZw+lqqoHW7TCCBAgQIAAAQIECBAgQIAAAQIEBiEgABnEGBRBgACB8gXm83r29Lntz6SU/nK+bup3LhfrX8p3v5sJECBAgAABAgQIECBAgAABAgSiCAhAokxSHwQIEOhZYGPz4j9LqfrHOctYLmb+fysnsLsJECBAgAABAgQIECBAgAABAoEE/CAp0DC1QoAAgf0I3Hts612Tqn7ffj776s/Uqfro9d6x6vO3HpreeOJE9cKqc/6cAAECBAgQIECAAAECBAgQIECAgADEDhAgQGDEAhubW19LKf1oGQT1p5aL9feWUasqCRAgQIAAAQIECBAgQIAAAQIE+hYQgPQ9Ae8TIECgR4GNza1sXya+vjO95fTp6rke2/M0AQIECBAgQIAAAQIECBAgQIDAiAUEICMevtYJEChLYD6v154+t335C8DfXkDlu3ccnk7n82q3gFqVSIAAAQIECBAgQIAAAQIECBAgEFBAABJwqFoiQCCmwMYDWx9OdTqVs7sq1Q9d7/11mnz2Qv3sZ/7Vqdufvd67fJ4AAQIECBAgQIAAAQIECBAgQIDAfgUEIPuV8zkCBAh0JDCf15NvPrPzU2l398i1rsz/JePVHy0X07d01JZrCBAgQIAAAQIECBAgQIAAAQIECPQqIADpld/jBAgQSOno5tZX6pT+fK8WdTo/maQjj56cfa7XOjxOgAABAgQIECBAgAABAgQIECBAoCMBAUhHkK4hQIDAfgX2+0Xk09n0zZ94uPr2ft/1OQIECBAgQIAAAQIECBAgQIAAAQKRBQQgkaerNwIEDkTg3s3tv1Kl+qmU0uRAHnzpkfqOw9PZfF7tHOCbniJAgAABAgQIECBAgAABAgQIECBQjIAApJhRKZQAgaEKHN3c+nqd0p1d1bfqi8irqvoP1Qvf+f0zZ95yvqs33UOAAAECBAgQIECAAAECBAgQIEAgmoAAJNpE9UNggAJHP/LCn6231z5U1fVdAyzvukuqU7r7ui955YLqu8vF9Lbu7nMTAQIECBAgQIAAAQIECBAgQIAAgXEKCEDGOXddEzgwgbquq6MPbF9KKfnnzUr1+o9SXb13eWr2+ZVHHSBAgAABAgQIECBAgAABAgQIECBA4JoCfiBpQQgQyCrwc/M/uOHQube+kPWRgV2+XMz8s3VgM1EOAQIECBAgQIAAAQIECBAgQIDA+AT8kG58M9cxgQMV2Hhg6xOpTh860Ef7fezLy8Xsx/stwesECBAgQIAAAQIECBAgQIAAAQIECAhA7AABAlkFNja36lc/UKX0VJpU86yP9nT5ZH3t82c+Vn23p+c9S4AAAQIECBAgQIAAAQIECBAgQIDAqwQEINaBwMgF7r+/vvni2vbHqpSy/NbClV8QXqf6nz+2WP/FkbNrnwABAgQIECBAgAABAgQIECBAgACBzAICkMzAricwdIF7Ny9+c5Kqr18ZVOSpu/7aHYdn75jPq90897uVAAECBAgQIECAAAECBAgQIECAAAECLwkIQGwCgQIF7vuH9Rt3L+78pS5Kr3frJ17+h8FTBxGC+ILwLqbmDgIECBAgQIAAAQIECBAgQIAAAQIEVgkIQFYJ+XMCAxPY2Nz6akrp7QMrq1E5Var+ydnF9J82OuwQAQIECBAgQIAAAQIECBAgQIAAAQIErkNAAHIdeD5K4KAFjh2r189X2xdyvltNqnty3D85v/Zfz5yptnPc7U4CBAgQIECAAAECBAgQIECAAAECBAhcKSAAsRMEBiBw7+bF91Wp+u2+S6mq6ttnT07f3Hcd3idAgAABAgQIECBAgAABAgQIECBAgMD1CghArlfQ5wl0ILCxuVXv95oqpaf2+9nXfq564vANa7/2K79Sfa+b+9xCgAABAgQIECBAgAABAgQIECBAgACB/gQEIP3ZezmYwHxeT57+k+13VVX9t9u2Vqfqo20/8/L531guZj+7z8/6GAECBAgQIECAAAECBAgQIECAAAECBMIKCEDCjlZjBy2wsbn9rZTqg/zro3bX6uk7P3mq+vJB9+o9AgQIECBAgAABAgQIECBAgAABAgQIDF1AADL0CamvCIH5vJ49fW77YlfFLhcz/9vsCtM9BAgQIECAAAECBAgQIECAAAECBAiMUsAPWUc5dk13LXD02MVfrqvqH3Vzb/Xvlovp3+nmLrcQIECAAAECBAgQIECAAAECBAgQIEBgnAICkHHOXdcdCszn9drT57a3r7yySvVDbZ/ZnVz6ncceufG/tf2c8wQIECBAgAABAgQIECBAgAABAgQIECDwWgEBiI0YnUBd19V9mzs/VVe793TTfHWkTunu19xVpceXJ2cf6OZ+txAgQIAAAQIECBAgQIAAAQIECBAgQIBAWwEBSFsx54sX2Dh28Uupqn48YyPPr+/svOP06RufzviGqwkQIECAAAECBAgQIECAAAECBAgQIEDgGgICEOsxOoGNza06Z9NVSk+dXcyO5HzD3QQIECBAgAABAgQIECBAgAABAgQIECBwbQEBiA0ZhcD98/rmi+e2L/9Gxm25G55M0gcefWT2eO533E+AAAECBAgQIECAAAECBAgQIECAAAECVxcQgNiOUQh88Pj239/drX/19Zrdz5eVXxVtd/dfnv34G/5gFKiaJECAAAECBAgQIECAAAECBAgQIECAwIAFBCADHo7SXl/ggw9s3V/X6e+18fmBLyn//oefWy5mt7S5y1kCBAgQIECAAAECBAgQIECAAAECBAgQGL6AAGT4M1LhqwSOPrD1m3WdfroblPpb9W71Nx/7+Ox/dHOfWwgQIECAAAECBAgQIECAAAECBAgQIEBgKAICkKFMQh1XFTh2rF5/4dDOT14+UO/WT3RBNZ1dfPMnHr7l213c5Q4CBAgQIECAAAECBAgQIECAAAECBAgQGJ6AAGR4M1HRqwQ2Nrc+nVK6p2OUC3ccnt40n1e7Hd/rOgIECBAgQIAAAQIECBAgQIAAAQIECBAYiIAAZCCDUMYPCtz3yXp66fe3t65lU02qVuHI9OLzXzx9+o3PVFVVMydAgAABAgQIECBAgAABAgQIECBAgACBuAICkLizLaKzo5tbT16r0Gt8efmLH1suZna4iEkrkgABAgQIECBAgAABAgQIECBAgAABAgcr4IfHB+vttSsENja3Wv0mRpXSU5evqFP6xqRKpx49OfscVAIECBAgQIAAAQIECBAgQIAAAQIECBAgcKWAAMRO9CrQJgC5HH6cXcyO9FqwxwkQIECAAAECBAgQIECAAAECBAgQIECgCAEBSBFjiltkmwAk1ZO/tTy19u/jauiMAAECBAgQIECAAAECBAgQIECAAAECBLoSEIB0JemefQnsBSBVqh9Kk8lVvw/ku/9n7T//1m9Vl/b1iA8RIECAAAECBAgQIECAAAECBAgQIECAwOgEBCCjG/mwGt4LQCZr07c/+mvV14ZVnWoIECBAgAABAgQIECBAgAABAgQIECBAoFQBAUipkwtS9yu/ATKp7jn7yPSqvwESpF1tECBAgAABAgQIECBAgAABAgQIECBAgMABCQhADgjaM68v8MpvgKTq3Y8upp/hRIAAAQIECBAgQIAAAQIECBAgQIAAAQIEuhAQgHSh6I59C1wOQKqULv7I4emN83m1u++LfJAAAQIECBAgQIAAAQIECBAgQIAAAQIECLxKQABiHXoVeOU3QKr0E4+enH2u12I8ToAAAQIECBAgQIAAAQIECBAgQIAAAQJhBAQgYUZZZiN7AUg6NL19eaI6V2YXqiZAgAABAgQIECBAgAABAgQIECBAgACBoQkIQIY2kZHV40vQRzZw7RIgQIAAAQIECBAgQIAAAQIECBAgQOCABAQgBwTtmdcXeCUASfVDZxfrc04ECBAgQIAAAQIECBAgQIAAAQIECBAgQKALAQFIF4ru2LeAAGTfdD5IgAABAgQIECBAgAABAgQIECBAgAABAtcQEIBYj14FBCC98nucAAECBAgQIECAAAECBAgQIECAAAECYQUEIGFHW0ZjApAy5qRKAgQIECBAgAABAgQIECBAgAABAgQIlCYgACltYsHqFYAEG6h2CBAgQIAAAQIECBAgQIAAAQIECBAgMBABAchABjHWMgQgY528vgkQIECAAAECBAgQIECAAAECBAgQIJBXQACS19ftKwQEIFaEAAECBAgQIECAAAECBAgQIECAAAECBHIICEByqLqzsYAApDGVgwQIECBAgAABAgQIECBAgAABAgQIECDQQkAA0gLL0e4FBCDdm7qRAAECBAgQIECAAAECBAgQIECAAAECBFISgNiCXgUEIL3ye5wAAQIECBAgQIAAAQIECBAgQIAAAQJhBQQgYUdbRmMCkDLmpEoCBAgQIECAAAECBAgQIECAAAECBAiUJiAAKW1iweoVgAQbqHYIECBAgAABAgQIECBAgAABAgQIECAwEAEByEAGMdYyBCBjnby+CRAgQIAAAQIECBAgQIAAAQIECBAgkFdAAJLX1+0rBAQgVoQAAQIECBAgQIAAAQIECBAgQIAAAQIEcggIQHKourOxgACkMZWDBAgQIECAAAECBAgQIECAAAECBAgQINBCQADSAsvR7gUEIN2bupEAAQIECBAgQIAAAQIECBAgQIAAAQIEUhKA2IJeBQQgvfJ7nAABAgQIECBAgAABAgQIECBAgAABAmEFBCBhR1tGYwKQMuakSgIECBAgQIAAAQIECBAgQIAAAQIECJQmIAApbWLB6hWABBuodggQIECAAAECBAgQIECAAAECBAgQIDAQAQHIQAYx1jIEIGOdvL4JECBAgAABAgQIECBAgAABAgQIECCQV0AAktfX7SsEBCBWhAABAgQIECBAgAABAgQIECBAgAABAgRyCAhAcqi6s7GAAKQxlYMECBAgQIAAAQIECBAgQIAAAQIECBAg0EJAANICy9HuBQQg3Zu6kQABAgQIECBAgAABAgQIECBAgAABAgRSEoDYgl4FBCC98nucAAECBAgQIECAAAECBAgQIECAAAECYQUEIGFHW0ZjApAy5qRKAgQIECBAgAABAgQIECBAgAABAgQIlCYgACltYsHqFYAEG6h2CBAgQIAAAQIECBAgQIAAAQIECBAgMBABAchABjHWMgQgY528vgkQIECAAAECBAgQIECAAAECBAgQIJBXQACS19ftKwQEIFaEAAECBAgQIECAAAECBAgQIECAAAECBHIICEByqLqzsYAApDGVgwQIECBAgAABAgQIECBAgAABAgQIECDQQkAA0gLL0e4FBCDdm7qRAAECBAgQIECAAAECBAgQIECAAAECBFISgNiCXgUEIL3ye5wAAQIECBAgQIAAAQIECBAgQIAAAQJhBQQgYUdbRmMCkDLmpEoCBAgQIECAAAECBAgQIECAAAECBAiUJiAAKW1iweoVgAQbqHYIECBAgAABAgQIECBAgAABAgQIECAwEAEByEAGMdYyBCBjnby+CRAgQIAAAQIECBAgQIAAAQIECBAgkFdAAJLX1+0rBAQgVoQAAQIECBAgQIAAAQIECBAgQIAAAQIEcggIQHKourOxgACkMZWDBAgQIECAAAECBAgQIECAAAECBAgQINBCQADSAsvR7gUEIN2bupEAAQIECBAgQIAAAQIECBAgQIAAAQIEUhKA2IJeBQQgvfJ7nAABAgQIECBAgAABAgQIECBAgAABAmEFBCBhR1tGYwKQMuakSgIECBAgQIAAAQIECBAgQIAAAQIECJQmIAApbWLB6hWABBuodggQIECAAAECBAgQIECAAAECBAgQIDAQAQHIQAYx1jIEIGOdvL4JECBAgAABAgQIECBAgAABAgQIECCQV0AAktfX7SsEBCBWhAABAgQIECBAgAABAgQIECBAgAABAgRyCAhAcqi6s7GAAKQxlYMECBAgQIAAAQIECBAgQIAAAQIECBAg0EJAANICy9HuBQQg3Zu6kQABAgQIECBAgAABAgQIECBAgAABAgRSEoDYgl4FBCC98nucAAECBAgQIECAAAECBAgQIECAAAECYQUEIGFHW0ZjApAy5qRKAgQIECBAgAABAgQIECBAgAABAgQIlCYgACltYsHqFYAEG6h2CBAgQIAAAQIECBAgQIAAAQIECBAgMBABAchABjHWMgQgY528vgkQIECAAAECBAgQIECAAAECBAgQIJBXQACS19ftKwQEIFaEAAECBAgQIECAAAECBAgQIECAAAECBHIICEByqLqzsYAApDGVgwQIECBAgAABAgQIECBAgAABAgQIECDQQkAA0gLL0e4FBCDdm7qRAAECBAgQIECAAAECBAgQIECAAAECBFISgNiCXgUEIL3ye5wAAQIECBAgQIAAAQIECBAgQIAAAQJhBQQgYUdbRmMCkDLmpEoCBAgQIECAAAECBAgQIECAAAECBAiUJiAAKW1iweoVgAQbqHYIECBAgAABAgQIECBAgAABAgQIECAwEAEByEAGMdYyBCBjnby+CRAgQIAAAQIECBAgQIAAAQIECBAgkFdAAJLX1+0rBAQgVoQAAQIECBAgQIAAAQIECBAgQIAAAQIEcggIQHKourOxwF4AUtfpLz52avbFxh90kAABAgQIECBAgAABAgQIECBAgAABAgQIXENAAGI9ehW4HIBUKb3wI4enN8/n1W6vxXicAAECBAgQIECAAAECBAgQIECAAAECBMIICEDCjLLMRl75K7Am1T1nH5k+WWYXqiZAgAABAgQIECBAgAABAgQIECBAgACBoQkIQIY2kZHVsxeA3HpoeuOJE9ULI2tfuwQIECBAgAABAgQIECBAgAABAgQIECCQSUAAkgnWtc0E/AZIMyenCBAgQIAAAQIECBAgQIAAAQIECBAgQKCdgACknZfTHQvsBSDp0Au3L0+88VzH17uOAAECBAgQIECAAAECBAgQIECAAAECBEYqIAAZ6eCH0vbLAchzy8XslqHUpA4CBAgQIECAAAECBAgQIECAAAECBAgQKF9AAFL+DIvu4Pu/ATK9fXmi8hsgRU9T8QQIECBAgAABAgQIECBAgAABAgQIEBiOgABkOLMYZSV7Acgdh6fT+bzaGSWCpgkQIECAAAECBAgQIECAAAECBAgQIECgcwEBSOekLmwj4EvQ22g5S4AAAQIECBAgQIAAAQIECBAgQIAAAQJNBQQgTaWcyyKwF4Bszc7d/BsP//DzWR5xKQECBAgQIECAAAECBAgQIECAAAECBAiMTkAAMrqRD6vhlwOQP14uZj88rMpUQ4AAAQIECBAgQIAAAQIECBAgQIAAAQIlCwhASp5egNr3fgNkfWd6y+nT1XMBWtICAQIECBAgQIAAAQIECBAgQIAAAQIECAxAQAAygCGMuYSXA5CLy8X0DSlV9Zgt9E6AAAECBAgQIECAAAECBAgQIECAAAEC3QkIQLqzdNM+BHwJ+j7QfIQAAQIECBAgQIAAAQIECBAgQIAAAQIEVgoIQFYSOZBTQACSU9fdBAgQIECAAAECBAgQIECAAAECBAgQGK+AAGS8sx9E5wKQQYxBEQQIECBAgAABAgQIECBAgAABAgQIEAgnIAAJN9KyGhKAlDUv1RIgQIAAAQIECBAgQIAAAQIECBAgQKAUAQFIKZMKWqcAJOhgtUWAAAECBAgQIECAAAECBAgQIECAAIGeBQQgPQ9g7M8LQMa+AfonQIAAAQIECBAgQIAAAQIECBAgQIBAHgEBSB5XtzYUEIA0hHKMAAECBAgQIECAAAECBAgQIECAAAECBFoJCEBacTnctYAApGtR9xEgQIAAAQIECBAgQIAAAQIECBAgQIDAZQEBiD3oVUAA0iu/xwkQIECAAAECBAgQIECAAAECBAgQIBBWQAASdrRlNCYAKWNOqiRAgAABAgQIECBAgAABAgQIECBAgEBpAgKQ0iYWrF4BSLCBaocAAQIECBAgQIAAAQIECBAgQIAAAQIDERCADGQQYy1DADLWyeubAAECBAgQIECAAAECBAgQIECAAAECeQUEIHl93b5CQABiRQgQIECAAAECBAgQIECAAAECBAgQIEAgh4AAJIeqOxsLCEAaUzlIgAABAgQIECBAgAABAgQIECBAgAABAi0EBCAtsBztXkAA0r2pGwkQIECAAAECBAgQIECAAAECBAgQIEAgJQGILehVQADSK7/HCRAgQIAAAQIECBAgQIAAAQIECBAgEFZAABJ2tGU0JgApY06qJECAAAECBAgQIECAAAECBAgQIECAQGkCApDSJhasXgFIsIFqhwABAgQIECBAgAABAgQIECBAgAABAgMREIAMZBBjLWMvALmxnt5w6lR1cawO+iZAgAABAgQIECBAgAABAgQIECBAgACBbgUEIN16uq2lwEsBSP2Hy8X6W1t+1HECBAgQIECAAAECBAgQIECAAAECBAgQIHBVAQGI5ehVwF+B1Su/xwkQIECAAAECBAgQIECAAAECBAgQIBBWQAASdrRlNCYAKWNOqiRAgAABAgQIECBAgAABAgQIECBAgEBpAgKQ0iYWrF4BSLCBaocAAQIECBAgQIAAAQIECBAgQIAAAQIDERCADGQQYy1DADLWyeubAAECBAgQIECAAAECBAgQIECAAAECeQUEIHl93b5CQABiRQgQIECAAAECBAgQIECAAAECBAgQIEAgh4AAJIeqOxsLCEAaUzlIgAABAgQIECBAgAABAgQIECBAgAABAi0EBCAtsBztXkAA0r2pGwkQIECAAAECBAgQIECAAAECBAgQIEAgJQGILehVQADSK7/HCRAgQIAAAQIECBAgQIAAAQIECBAgEFZAABJ2tGU0JgApY06qJECAAAECBAgQIECAAAECBAgQIECAQGkCApDSJhasXgFIsIFqhwABAgQIECBAgAABAgQIECBAgAABAgMREIAMZBBjLUMAMtbJ65sAAQIECBAgQIAAAQIECBAgQIAAAQJ5BQQgeX3dvkJAAGJFCBAgQIAAAQIECBAgQIAAAQIECBAgQCCHgAAkh6o7GwvsBSCHLnznpjNn3nK+8QcdJECAAAECBAgQIECAAAECBAgQIECAAAEC1xAQgFiPXgX2ApA7Dk8PzefVbq/FeJwAAQIECBAgQIAAAQIECBAgQIAAAQIEwggIQMKMssxG9gKQ5WJmF8scoaoJECBAgAABAgQIECBAgAABAgQIECAwSAE/dB7kWMZTlO8AGc+sdUqAAAECBAgQIECAAAECBAgQIECAAIGDFBCAHKS2t35AQABiKQgQIECAAAECBAgQIECAAAECBAgQIEAgh4AAJIeqOxsLCEAaUzlIgAABAgQIECBAgAABAgQIECBAgAABAi0EBCAtsBztXkAA0r2pGwkQIECAAAECBAgQIECAAAECBAgQIEAgJQGILehVQADSK7/HCRAgQIAAAQIECBAgQIAAAQIECBAgEFZAABJ2tGU0JgApY06qJECAAAECBAgQIECAAAECBAgQIECAQGkCApDSJhasXgFIsIFqhwABAgQIECBAgAABAgQIECBAgAABAgMREIAMZBBjLUMAMtbJ65sAAQIECBAgQIAAAQIECBAgQIAAAQJ5BQQgeX3dvkJAAGJFCBAgQIAAAQIECBAgQIAAAQIECBAgQCCHgAAkh6o7GwsIQBpTOUiAAAECBAgQIECAAAECBAgQIECAAAECLQQEIC2wHO1eQADSvakbCRAgQIAAAQIECBAgQIAAAQIECBAgQCAlAYgt6FVAANIrXwQzeAAAIABJREFUv8cJECBAgAABAgQIECBAgAABAgQIECAQVkAAEna0ZTQmACljTqokQIAAAQIECBAgQIAAAQIECBAgQIBAaQICkNImFqxeAUiwgWqHAAECBAgQIECAAAECBAgQIECAAAECAxEQgAxkEGMtQwAy1snrmwABAgQIECBAgAABAgQIECBAgAABAnkFBCB5fd2+QkAAYkUIECBAgAABAgQIECBAgAABAgQIECBAIIeAACSHqjsbCwhAGlM5SIAAAQIECBAgQIAAAQIECBAgQIAAAQItBAQgLbAc7V5AANK9qRsJECBAgAABAgQIECBAgAABAgQIECBAICUBiC3oVUAA0iu/xwkQIECAAAECBAgQIECAAAECBAgQIBBWQAASdrRlNCYAKWNOqiRAgAABAgQIECBAgAABAgQIECBAgEBpAgKQ0iYWrF4BSLCBaocAAQIECBAgQIAAAQIECBAgQIAAAQIDERCADGQQYy1DADLWyeubAAECBAgQIECAAAECBAgQIECAAAECeQUEIHl93b5CQABiRQgQIECAAAECBAgQIECAAAECBAgQIEAgh4AAJIeqOxsLCEAaUzlIgAABAgQIECBAgAABAgQIECBAgAABAi0EBCAtsBztXkAA0r2pGwkQIECAAAECBAgQIECAAAECBAgQIEAgJQGILehVQADSK7/HCRAgQIAAAQIECBAgQIAAAQIECBAgEFZAABJ2tGU0JgApY06qJECAAAECBAgQIECAAAECBAgQIECAQGkCApDSJhasXgFIsIFqhwABAgQIECBAgAABAgQIECBAgAABAgMREIAMZBBjLUMAMtbJ65sAAQIECBAgQIAAAQIECBAgQIAAAQJ5BQQgeX3dvkJgLwC59dD0xhMnqheAESBAgAABAgQIECBAgAABAgQIECBAgACBLgQEIF0oumPfAi8HIM8vF7Ob932JDxIgQIAAAQIECBAgQIAAAQIECBAgQIAAgSsEBCBWolcBfwVWr/weJ0CAAAECBAgQIECAAAECBAgQIECAQFgBAUjY0ZbRmACkjDmpkgABAgQIECBAgAABAgQIECBAgAABAqUJCEBKm1iwegUgwQaqHQIECBAgQIAAAQIECBAgQIAAAQIECAxEQAAykEGMtQwByFgnr28CBAgQIECAAAECBAgQIECAAAECBAjkFRCA5PV1+woBAYgVIUCAAAECBAgQIECAAAECBAgQIECAAIEcAgKQHKrubCwgAGlM5SABAgQIECBAgAABAgQIECBAgAABAgQItBAQgLTAcrR7AQFI96ZuJECAAAECBAgQIECAAAECBAgQIECAAIGUBCC2oFcBAUiv/B4nQIAAAQIECBAgQIAAAQIECBAgQIBAWAEBSNjRltGYAKSMOamSAAECBAgQIECAAAECBAgQIECAAAECpQkIQEqbWLB6BSDBBqodAgQIECBAgAABAgQIECBAgAABAgQIDERAADKQQYy1DAHIWCevbwIECBAgQIAAAQIECBAgQIAAAQIECOQVEIDk9XX7CgEBiBUhQIAAAQIECBAgQIAAAQIECBAgQIAAgRwCApAcqu5sLCAAaUzlIAECBAgQIECAAAECBAgQIECAAAECBAi0EBCAtMBytHsBAUj3pm4kQIAAAQIECBAgQIAAAQIECBAgQIAAgZQEILagVwEBSK/8HidAgAABAgQIECBAgAABAgQIECBAgEBYAQFI2NGW0ZgApIw5qZIAAQIECBAgQIAAAQIECBAgQIAAAQKlCQhASptYsHoFIMEGqh0CBAgQIECAAAECBAgQIECAAAECBAgMREAAMpBBjLUMAchYJ69vAgQIECBAgAABAgQIECBAgAABAgQI5BUQgOT1dfsKAQGIFSFAgAABAgQIECBAgAABAgQIECBAgACBHAICkByq7mwsIABpTOUgAQIECBAgQIAAAQIECBAgQIAAAQIECLQQEIC0wHK0e4G9AOTS4ekbHp9XF7p/wY0ECBAgQIAAAQIECBAgQIAAAQIECBAgMEYBAcgYpz6gnl8OQJ5bLma3DKgspRAgQIAAAQIECBAgQIAAAQIECBAgQIBA4QICkMIHWHr5e78BslzM7GLpw1Q/AQIECBAgQIAAAQIECBAgQIAAAQIEBiTgh84DGsYYSxGAjHHqeiZAgAABAgQIECBAgAABAgQIECBAgEB+AQFIfmMvXENAAGI9CBAgQIAAAQIECBAgQIAAAQIECBAgQCCHgAAkh6o7GwsIQBpTOUiAAAECBAgQIECAAAECBAgQIECAAAECLQQEIC2wHO1e4MUApErfWJ6cva37291IgAABAgQIECBAgAABAgQIECBAgAABAmMVEICMdfID6dtvgAxkEMogQIAAAQIECBAgQIAAAQIECBAgQIBAMAEBSLCBltaOAKS0iamXAAECBAgQIECAAAECBAgQIECAAAECZQgIQMqYU9gqBSBhR6sxAgQIECBAgAABAgQIECBAgAABAgQI9CogAOmV3+MCEDtAgAABAgQIECBAgAABAgQIECBAgAABAjkEBCA5VN3ZWEAA0pjKQQIECBAgQIAAAQIECBAgQIAAAQIECBBoISAAaYHlaPcCApDuTd1IgAABAgQIECBAgAABAgQIECBAgAABAikJQGxBrwIvByAXlovZG3otxOMECBAgQIAAAQIECBAgQIAAAQIECBAgEEpAABJqnOU183IA8tnlYvaT5VWvYgIECBAgQIAAAQIECBAgQIAAAQIECBAYqoAAZKiTGUld/gqskQxamwQIECBAgAABAgQIECBAgAABAgQIEDhgAQHIAYN77rUCAhAbQYAAAQIECBAgQIAAAQIECBAgQIAAAQI5BAQgOVTd2VhAANKYykECBAgQIECAAAECBAgQIECAAAECBAgQaCEgAGmB5Wj3AgKQ7k3dSIAAAQIECBAgQIAAAQIECBAgQIAAAQIpCUBsQa8CApBe+T1OgAABAgQIECBAgAABAgQIECBAgACBsAICkLCjLaMxAUgZc1IlAQIECBAgQIAAAQIECBAgQIAAAQIEShMQgJQ2sWD1CkCCDVQ7BAgQIECAAAECBAgQIECAAAECBAgQGIiAAGQggxhrGQKQsU5e3wQIECBAgAABAgQIECBAgAABAgQIEMgrIADJ6+v2FQICECtCgAABAgQIECBAgAABAgQIECBAgAABAjkEBCA5VN3ZWEAA0pjKQQIECBAgQIAAAQIECBAgQIAAAQIECBBoISAAaYHlaPcCApDuTd1IgAABAgQIECBAgAABAgQIECBAgAABAikJQGxBrwICkF75PU6AAAECBAgQIECAAAECBAgQIECAAIGwAgKQsKMtozEBSBlzUiUBAgQIECBAgAABAgQIECBAgAABAgRKExCAlDaxYPUKQIINVDsECBAgQIAAAQIECBAgQIAAAQIECBAYiIAAZCCDGGsZApCxTl7fBAgQIECAAAECBAgQIECAAAECBAgQyCsgAMnr6/YVAgIQK0KAAAECBAgQIECAAAECBAgQIECAAAECOQQEIDlU3dlYQADSmMpBAgQIECBAgAABAgQIECBAgAABAgQIEGghIABpgeVo9wICkO5N3UiAAAECBAgQIECAAAECBAgQIECAAAECKQlAbEGvAgKQXvk9ToAAAQIECBAgQIAAAQIECBAgQIAAgbACApCwoy2jMQFIGXNSJQECBAgQIECAAAECBAgQIECAAAECBEoTEICUNrFg9QpAgg1UOwQIECBAgAABAgQIECBAgAABAgQIEBiIgABkIIMYaxkCkLFOXt8ECBAgQIAAAQIECBAgQIAAAQIECBDIKyAAyevr9hUCAhArQoAAAQIECBAgQIAAAQIECBAgQIAAAQI5BAQgOVTd2VhAANKYykECBAgQIECAAAECBAgQIECAAAECBAgQaCEgAGmB5Wj3AgKQ7k3dSIAAAQIECBAgQIAAAQIECBAgQIAAAQIpCUBsQa8CApBe+T1OgAABAgQIECBAgAABAgQIECBAgACBsAICkLCjLaMxAUgZc1IlAQIECBAgQIAAAQIECBAgQIAAAQIEShMQgJQ2sWD1CkCCDVQ7BAgQIECAAAECBAgQIECAAAECBAgQGIiAAGQggxhrGQKQsU5e3wQIECBAgAABAgQIECBAgAABAgQIEMgrIADJ6+v2FQICECtCgAABAgQIECBAgAABAgQIECBAgAABAjkEBCA5VN3ZWEAA0pjKQQIECBAgQIAAAQIECBAgQIAAAQIECBBoISAAaYHlaPcCApDuTd1IgAABAgQIECBAgAABAgQIECBAgAABAikJQGxBrwICkF75PU6AAAECBAgQIECAAAECBAgQIECAAIGwAgKQsKMtozEBSBlzUiUBAgQIECBAgAABAgQIECBAgAABAgRKExCAlDaxYPUKQIINVDsECBAgQIAAAQIECBAgQIAAAQIECBAYiIAAZCCDGGsZApCxTl7fBAgQIECAAAECBAgQIECAAAECBAgQyCsgAMnr6/YVAgIQK0KAAAECBAgQIECAAAECBAgQIECAAAECOQQEIDlU3dlYQADSmMpBAgQIECBAgAABAgQIECBAgAABAgQIEGghIABpgeVo9wICkO5N3UiAAAECBAgQIECAAAECBAgQIECAAAECKQlAbEGvAgKQXvk9ToAAAQIECBAgQIAAAQIECBAgQIAAgbACApCwoy2jMQFIGXNSJQECBAgQIECAAAECBAgQIECAAAECBEoTEICUNrFg9QpAgg1UOwQIECBAgAABAgQIECBAgAABAgQIEBiIgABkIIMYaxkCkLFOXt8ECBAgQIAAAQIECBAgQIAAAQIECBDIKyAAyevr9hUCAhArQoAAAQIECBAgQIAAAQIECBAgQIAAAQI5BAQgOVTd2VhAANKYykECBAgQIECAAAECBAgQIECAAAECBAgQaCEgAGmB5Wj3AgKQ7k3dSIAAAQIECBAgQIAAAQIECBAgQIAAAQIpCUBsQa8CApBe+T1OgAABAgQIECBAgAABAgQIECBAgACBsAICkLCjLaMxAUgZc1IlAQIECBAgQIAAAQIECBAgQIAAAQIEShMQgJQ2sWD1CkCCDVQ7BAgQIECAAAECBAgQIECAAAECBAgQGIiAAGQggxhrGQKQsU5e3wQIECBAgAABAgQIECBAgAABAgQIEMgrIADJ6+v2FQKXA5C6rn/nsVPrfx0WAQIECBAgQIAAAQIECBAgQIAAAQIECBDoSkAA0pWke/Yl4DdA9sXmQwQIECBAgAABAgQIECBAgAABAgQIECCwQkAAYkV6FRCA9MrvcQIECBAgQIAAAQIECBAgQIAAAQIECIQVEICEHW0ZjQlAypiTKgkQIECAAAECBAgQIECAAAECBAgQIFCagACktIkFq1cAEmyg2iFAgAABAgQIECBAgAABAgQIECBAgMBABAQgAxnEWMsQgIx18vomQIAAAQIECBAgQIAAAQIECBAgQIBAXgEBSF5ft68QEIBYEQIECBAgQIAAAQIECBAgQIAAAQIECBDIISAAyaHqzsYCApDGVA4SIECAAAECBAgQIECAAAECBAgQIECAQAsBAUgLLEe7FxCAdG/qRgIECBAgQIAAAQIECBAgQIAAAQIECBBISQBiC3oVEID0yu9xAgQIECBAgAABAgQIECBAgAABAgQIhBUQgIQdbRmNCUDKmJMqCRAgQIAAAQIECBAgQIAAAQIECBAgUJqAAKS0iQWrVwASbKDaIUCAAAECBAgQIECAAAECBAgQIECAwEAEBCADGcRYyxCAjHXy+iZAgAABAgQIECBAgAABAgQIECBAgEBeAQFIXl+3rxAQgFgRAgQIECBAgAABAgQIECBAgAABAgQIEMghIADJoerOxgICkMZUDhIgQIAAAQIECBAgQIAAAQIECBAgQIBACwEBSAssR7sXEIB0b+pGAgQIECBAgAABAgQIECBAgAABAgQIEEhJAGILehUQgPTK73ECBAgQIECAAAECBAgQIECAAAECBAiEFRCAhB1tGY0JQMqYkyoJECBAgAABAgQIECBAgAABAgQIECBQmoAApLSJBatXABJsoNohQIAAAQIECBAgQIAAAQIECBAgQIDAQAQEIAMZxFjLEICMdfL6JkCAAAECBAgQIECAAAECBAgQIECAQF4BAUheX7evEBCAWBECBAgQIECAAAECBAgQIECAAAECBAgQyCEgAMmh6s7GAgKQxlQOEiBAgAABAgQIECBAgAABAgQIECBAgEALAQFICyxHuxcQgHRv6kYCBAgQIECAAAECBAgQIECAAAECBAgQSEkAYgt6FRCA9MrvcQIECBAgQIAAAQIECBAgQIAAAQIECIQVEICEHW0ZjQlAypiTKgkQIECAAAECBAgQIECAAAECBAgQIFCagACktIkFq1cAEmyg2iFAgAABAgQIECBAgAABAgQIECBAgMBABAQgAxnEWMsQgIx18vomQIAAAQIECBAgQIAAAQIECBAgQIBAXgEBSF5ft68QEIBYEQIECBAgQIAAAQIECBAgQIAAAQIECBDIISAAyaHqzsYCApDGVA4SIECAAAECBAgQIECAAAECBAgQIECAQAsBAUgLLEe7FxCAdG/qRgIECBAgQIAAAQIECBAgQIAAAQIECBBISQBiC3oVEID0yu9xAgQIECBAgAABAgT+f3t2jMQwEQBB0CTwRXJyHgMpfIEHQgAJue0qz9ond67SnvqUDQECBAgQIECAAIHLCgggl73aMz5MADnjnpySAAECBAgQIECAAAECBAgQIECAAAECpwkIIKfd2MXOK4Bc7EJ9DgECBAgQIECAAAECBAgQIECAAAECBD5EQAD5kIv41mMIIN96876bAAECBAgQIECAAAECBAgQIECAAAECrYAA0vp6+x0BAcQvQoAAAQIECBAgQIAAAQIECBAgQIAAAQKFgABSqHrnwwICyMNUHiRAgAABAgQIECBAgAABAgQIECBAgACBJwQEkCewPPp6AQHk9abeSIAAAQIECBAgQIAAAQIECBAgQIAAAQK3mwDiL3irgADyVn7jBAgQIECAAAECBAgQIECAAAECBAgQuKyAAHLZqz3jwwSQM+7JKQkQIECAAAECBAgQIECAAAECBAgQIHCagABy2o1d7LwCyMUu1OcQIECAAAECBAgQIECAAAECBAgQIEDgQwQEkA+5iG89hgDyrTfvuwkQIECAAAECBAgQIECAAAECBAgQINAKCCCtr7ffERBA/CIECBAgQIAAAQIECBAgQIAAAQIECBAgUAgIIIWqdz4sIIA8TOVBAgQIECBAgAABAgQIECBAgAABAgQIEHhCQAB5AsujrxcQQF5v6o0ECBAgQIAAAQIECBAgQIAAAQIECBAgcLsJIP6CtwoIIG/lN06AAAECBAgQIECAAAECBAgQIECAAIHLCgggl73aMz5MADnjnpySAAECBAgQIECAAAECBAgQIECAAAECpwkIIKfd2MXOK4Bc7EJ9DgECBAgQIECAAAECBAgQIECAAAECBD5EQAD5kIv41mMIIN96876bAAECBAgQIECAAAECBAgQIECAAAECrYAA0vp6+x0BAcQvQoAAAQIECBAgQIAAAQIECBAgQIAAAQKFgABSqHrnwwICyMNUHiRAgAABAgQIECBAgAABAgQIECBAgACBJwQEkCewPPp6AQHk9abeSIAAAQIECBAgQIAAAQIECBAgQIAAAQK3mwDiL3irgADyVn7jBAgQIECAAAECBAgQIECAAAECBAgQuKyAAHLZqz3jwwSQM+7JKQkQIECAAAECBAgQIECAAAECBAgQIHCagABy2o1d7LwCyMUu1OcQIECAAAECBAgQIECAAAECBAgQIEDgQwQEkA+5iG89hgDyrTfvuwkQIECAAAECBAgQIECAAAECBAgQINAKCCCtr7ffERBA/CIECBAgQIAAAQIECBAgQIAAAQIECBAgUAgIIIWqdz4sIIA8TOVBAgQIECBAgAABAgQIECBAgAABAgQIEHhCQAB5AsujrxcQQF5v6o0ECBAgQIAAAQIECBAgQIAAAQIECBAgcLsJIP6CtwoIIG/lN06AAAECBAgQIECAAAECBAgQIECAAIHLCgggl73aMz5MADnjnpySAAECBAgQIECAAAECBAgQIECAAAECpwkIIKfd2MXOK4Bc7EJ9DgECBAgQIECAAAECBAgQIECAAAECBD5EQAD5kIv41mMIIN96876bAAECBAgQIECAAAECBAgQIECAAAECrYAA0vp6+x0BAcQvQoAAAQIECBAgQIAAAQIECBAgQIAAAQKFgABSqHrnwwICyMNUHiRAgAABAgQIECBAgAABAgQIECBAgACBJwQEkCewPPp6AQHk9abeSIAAAQIECBAgQIAAAQIECBAgQIAAAQK3mwDiL3irgADyVn7jBAgQIECAAAECBAgQIECAAAECBAgQuKyAAHLZqz3jwwSQM+7JKQkQIECAAAECBAgQIECAAAECBAgQIHCagABy2o1d7LwCyMUu1OcQIECAAAECBAgQIECAAAECBAgQIEDgQwQEkA+5iG89hgDyrTfvuwkQIECAAAECBAgQIECAAAECBAgQINAKCCCtr7ffERBA/CIECBAgQIAAAQIECBAgQIAAAQIECBAgUAgIIIWqdz4sIIA8TOVBAgQIECBAgAABAgQIECBAgAABAgQIEHhCQAB5AsujrxcQQF5v6o0ECBAgQIAAAQIECBAgQIAAAQIECBAgcLsJIP6CtwoIIG/lN06AAAECBAgQIECAAAECBAgQIECAAIHLCgggl73aMz5MADnjnpySAAECBAgQIECAAAECBAgQIECAAAECpwkIIKfd2MXOK4Bc7EJ9DgECBAgQIECAAAECBAgQIECAAAECBD5EQAD5kIv41mMIIN96876bAAECBAgQIECAAAECBAgQIECAAAECrYAA0vp6+x0BAcQvQoAAAQIECBAgQIAAAQIECBAgQIAAAQKFgABSqHrnwwICyMNUHiRAgAABAgQIECBAgAABAgQIECBAgACBJwQEkCewPPp6AQHk9abeSIAAAQIECBAgQIAAAQIECBAgQIAAAQK3mwDiL3irgADyVn7jBAgQIECAAAECBAgQIECAAAECBAgQuKyAAHLZqz3jwwSQM+7JKQkQIECAAAECBAgQIECAAAECBAgQIHCagABy2o1d7LwCyMUu1OcQIECAAAECBAgQIECAAAECBAgQIEDgQwQEkA+5iG89hgDyrTfvuwkQIECAAAECBAgQIECAAAECBAgQINAKCCCtr7ffERBA/CIECBAgQIAAAQIECBAgQIAAAQIECBAgUAgIIIWqdz4sIIA8TOVBAgQIECBAgAABAgQIECBAgAABAgQIEHhCQAB5AsujrxcQQF5v6o0ECBAgQIAAAQIECBAgQIAAAQIECBAgcLsJIP6CtwoIIG/lN06AAAECBAgQIECAAAECBAgQIECAAIHLCgggl73aMz7s/wDyz5+//fjjGSd2SgIECBAgQIAAAQIECBAgQIAAAQIECBA4QUAAOeGWLnzGX379++8f/v335z9+/+mvC3+mTyNAgAABAgQIECBAgAABAgQIECBAgACBsYAAMgY3R4AAAQIECBAgQIAAAQIECBAgQIAAAQIECPQCAkhvbIEAAQIECBAgQIAAAQIECBAgQIAAAQIECBAYCwggY3BzBAgQIECAAAECBAgQIECAAAECBAgQIECAQC8ggPTGFggQIECAAAECBAgQIECAAAECBAgQIECAAIGxgAAyBjdHgAABAgQIECBAgAABAgQIECBAgAABAgQI9AICSG9sgQABAgQIECBAgAABAgQIECBAgAABAgQIEBgLCCBjcHMECBAgQIAAAQIECBAgQIAAAQIECBAgQIBALyCA9MYWCBAgQIAAAQIECBAgQIAAAQIECBAgQIAAgbGAADIGN0eAAAECBAgQIECAAAECBAgQIECAAAECBAj0AgJIb2yBAAECBAgQIECAAAECBAgQIECAAAECBAgQGAsIIGNwcwQIECBAgAABAgQIECBAgAABAgQIECBAgEAvIID0xhYIECBAgAABAgQIECBAgAABAgQIECBAgACBsYAAMgY3R4AAAQIECBAgQIAAAQIECBAgQIAAAQIECPQCAkhvbIEAAQIECBAgQIAAAQIECBAgQIAAAQIECBAYCwggY3BzBAgQIECAAAECBAgQIECAAAECBAgQIECAQC8ggPTGFggQIECAAAECBAgQIECAAAECBAgQIECAAIGxgAAyBjdHgAABAgQIECBAgAABAgQIECBAgAABAgQI9AICSG9sgQABAgQIECBAgAABAgQIECBAgAABAgQIEBgLCCBjcHMECBAgQIAAAQIECBAgQIAAAQIECBAgQIBALyCA9MYWCBAgQIAAAQIECBAgQIAAAQIECBAgQIAAgbGAADIGN0eAAAECBAgQIECAAAECBAgQIECAAAECBAj0AgJIb2yBAAECBAgQIECAAAECBAgQIECAAAECBAgQGAsIIGNwcwQIECBAgAABAgQIECBAgAABAgQIECBAgEAvIID0xhYIECBAgAABAgQIECBAgAABAgQIECBAgACBsYAAMgY3R4AAAQIECBAgQIAAAQIECBAgQIAAAQIECPQCAkhvbIEAAQIECBAgQIAAAQIECBAgQIAAAQIECBAYCwggY3BzBAgQIECAAAECBAgQIECAAAECBAgQIECAQC8ggPTGFggQIECAAAECBAgQIECAAAECBAgQIECAAIGxgAAyBjdHgAABAgQIECBAgAABAgQIECBAgAABAgQI9AICSG9sgQABAgQIECBAgAABAgQIECBAgAABAgQIEBgLCCBjcHMECBAgQIAAAQIECBAgQIAAAQIECBAgQIBALyCA9MYWCBAgQIAAAQIECBAgQIAAAQIECBAgQIAwjmhZAAASGklEQVQAgbGAADIGN0eAAAECBAgQIECAAAECBAgQIECAAAECBAj0AgJIb2yBAAECBAgQIECAAAECBAgQIECAAAECBAgQGAsIIGNwcwQIECBAgAABAgQIECBAgAABAgQIECBAgEAvIID0xhYIECBAgAABAgQIECBAgAABAgQIECBAgACBsYAAMgY3R4AAAQIECBAgQIAAAQIECBAgQIAAAQIECPQCAkhvbIEAAQIECBAgQIAAAQIECBAgQIAAAQIECBAYCwggY3BzBAgQIECAAAECBAgQIECAAAECBAgQIECAQC8ggPTGFggQIECAAAECBAgQIECAAAECBAgQIECAAIGxgAAyBjdHgAABAgQIECBAgAABAgQIECBAgAABAgQI9AICSG9sgQABAgQIECBAgAABAgQIECBAgAABAgQIEBgLCCBjcHMECBAgQIAAAQIECBAgQIAAAQIECBAgQIBALyCA9MYWCBAgQIAAAQIECBAgQIAAAQIECBAgQIAAgbGAADIGN0eAAAECBAgQIECAAAECBAgQIECAAAECBAj0AgJIb2yBAAECBAgQIECAAAECBAgQIECAAAECBAgQGAsIIGNwcwQIECBAgAABAgQIECBAgAABAgQIECBAgEAvIID0xhYIECBAgAABAgQIECBAgAABAgQIECBAgACBsYAAMgY3R4AAAQIECBAgQIAAAQIECBAgQIAAAQIECPQCAkhvbIEAAQIECBAgQIAAAQIECBAgQIAAAQIECBAYCwggY3BzBAgQIECAAAECBAgQIECAAAECBAgQIECAQC8ggPTGFggQIECAAAECBAgQIECAAAECBAgQIECAAIGxgAAyBjdHgAABAgQIECBAgAABAgQIECBAgAABAgQI9AICSG9sgQABAgQIECBAgAABAgQIECBAgAABAgQIEBgLCCBjcHMECBAgQIAAAQIECBAgQIAAAQIECBAgQIBALyCA9MYWCBAgQIAAAQIECBAgQIAAAQIECBAgQIAAgbGAADIGN0eAAAECBAgQIECAAAECBAgQIECAAAECBAj0AgJIb2yBAAECBAgQIECAAAECBAgQIECAAAECBAgQGAsIIGNwcwQIECBAgAABAgQIECBAgAABAgQIECBAgEAvIID0xhYIECBAgAABAgQIECBAgAABAgQIECBAgACBsYAAMgY3R4AAAQIECBAgQIAAAQIECBAgQIAAAQIECPQCAkhvbIEAAQIECBAgQIAAAQIECBAgQIAAAQIECBAYCwggY3BzBAgQIECAAAECBAgQIECAAAECBAgQIECAQC8ggPTGFggQIECAAAECBAgQIECAAAECBAgQIECAAIGxgAAyBjdHgAABAgQIECBAgAABAgQIECBAgAABAgQI9AICSG9sgQABAgQIECBAgAABAgQIECBAgAABAgQIEBgLCCBjcHMECBAgQIAAAQIECBAgQIAAAQIECBAgQIBALyCA9MYWCBAgQIAAAQIECBAgQIAAAQIECBAgQIAAgbGAADIGN0eAAAECBAgQIECAAAECBAgQIECAAAECBAj0AgJIb2yBAAECBAgQIECAAAECBAgQIECAAAECBAgQGAsIIGNwcwQIECBAgAABAgQIECBAgAABAgQIECBAgEAvIID0xhYIECBAgAABAgQIECBAgAABAgQIECBAgACBsYAAMgY3R4AAAQIECBAgQIAAAQIECBAgQIAAAQIECPQCAkhvbIEAAQIECBAgQIAAAQIECBAgQIAAAQIECBAYCwggY3BzBAgQIECAAAECBAgQIECAAAECBAgQIECAQC8ggPTGFggQIECAAAECBAgQIECAAAECBAgQIECAAIGxgAAyBjdHgAABAgQIECBAgAABAgQIECBAgAABAgQI9AICSG9sgQABAgQIECBAgAABAgQIECBAgAABAgQIEBgLCCBjcHMECBAgQIAAAQIECBAgQIAAAQIECBAgQIBALyCA9MYWCBAgQIAAAQIECBAgQIAAAQIECBAgQIAAgbGAADIGN0eAAAECBAgQIECAAAECBAgQIECAAAECBAj0AgJIb2yBAAECBAgQIECAAAECBAgQIECAAAECBAgQGAsIIGNwcwQIECBAgAABAgQIECBAgAABAgQIECBAgEAvIID0xhYIECBAgAABAgQIECBAgAABAgQIECBAgACBsYAAMgY3R4AAAQIECBAgQIAAAQIECBAgQIAAAQIECPQCAkhvbIEAAQIECBAgQIAAAQIECBAgQIAAAQIECBAYCwggY3BzBAgQIECAAAECBAgQIECAAAECBAgQIECAQC8ggPTGFggQIECAAAECBAgQIECAAAECBAgQIECAAIGxgAAyBjdHgAABAgQIECBAgAABAgQIECBAgAABAgQI9AICSG9sgQABAgQIECBAgAABAgQIECBAgAABAgQIEBgLCCBjcHMECBAgQIAAAQIECBAgQIAAAQIECBAgQIBALyCA9MYWCBAgQIAAAQIECBAgQIAAAQIECBAgQIAAgbGAADIGN0eAAAECBAgQIECAAAECBAgQIECAAAECBAj0AgJIb2yBAAECBAgQIECAAAECBAgQIECAAAECBAgQGAsIIGNwcwQIECBAgAABAgQIECBAgAABAgQIECBAgEAvIID0xhYIECBAgAABAgQIECBAgAABAgQIECBAgACBsYAAMgY3R4AAAQIECBAgQIAAAQIECBAgQIAAAQIECPQCAkhvbIEAAQIECBAgQIAAAQIECBAgQIAAAQIECBAYCwggY3BzBAgQIECAAAECBAgQIECAAAECBAgQIECAQC8ggPTGFggQIECAAAECBAgQIECAAAECBAgQIECAAIGxgAAyBjdHgAABAgQIECBAgAABAgQIECBAgAABAgQI9AICSG9sgQABAgQIECBAgAABAgQIECBAgAABAgQIEBgLCCBjcHMECBAgQIAAAQIECBAgQIAAAQIECBAgQIBALyCA9MYWCBAgQIAAAQIECBAgQIAAAQIECBAgQIAAgbGAADIGN0eAAAECBAgQIECAAAECBAgQIECAAAECBAj0AgJIb2yBAAECBAgQIECAAAECBAgQIECAAAECBAgQGAsIIGNwcwQIECBAgAABAgQIECBAgAABAgQIECBAgEAvIID0xhYIECBAgAABAgQIECBAgAABAgQIECBAgACBsYAAMgY3R4AAAQIECBAgQIAAAQIECBAgQIAAAQIECPQCAkhvbIEAAQIECBAgQIAAAQIECBAgQIAAAQIECBAYCwggY3BzBAgQIECAAAECBAgQIECAAAECBAgQIECAQC8ggPTGFggQIECAAAECBAgQIECAAAECBAgQIECAAIGxgAAyBjdHgAABAgQIECBAgAABAgQIECBAgAABAgQI9AICSG9sgQABAgQIECBAgAABAgQIECBAgAABAgQIEBgLCCBjcHMECBAgQIAAAQIECBAgQIAAAQIECBAgQIBALyCA9MYWCBAgQIAAAQIECBAgQIAAAQIECBAgQIAAgbGAADIGN0eAAAECBAgQIECAAAECBAgQIECAAAECBAj0AgJIb2yBAAECBAgQIECAAAECBAgQIECAAAECBAgQGAsIIGNwcwQIECBAgAABAgQIECBAgAABAgQIECBAgEAvIID0xhYIECBAgAABAgQIECBAgAABAgQIECBAgACBsYAAMgY3R4AAAQIECBAgQIAAAQIECBAgQIAAAQIECPQCAkhvbIEAAQIECBAgQIAAAQIECBAgQIAAAQIECBAYCwggY3BzBAgQIECAAAECBAgQIECAAAECBAgQIECAQC8ggPTGFggQIECAAAECBAgQIECAAAECBAgQIECAAIGxgAAyBjdHgAABAgQIECBAgAABAgQIECBAgAABAgQI9AICSG9sgQABAgQIECBAgAABAgQIECBAgAABAgQIEBgLCCBjcHMECBAgQIAAAQIECBAgQIAAAQIECBAgQIBALyCA9MYWCBAgQIAAAQIECBAgQIAAAQIECBAgQIAAgbGAADIGN0eAAAECBAgQIECAAAECBAgQIECAAAECBAj0AgJIb2yBAAECBAgQIECAAAECBAgQIECAAAECBAgQGAsIIGNwcwQIECBAgAABAgQIECBAgAABAgQIECBAgEAvIID0xhYIECBAgAABAgQIECBAgAABAgQIECBAgACBsYAAMgY3R4AAAQIECBAgQIAAAQIECBAgQIAAAQIECPQCAkhvbIEAAQIECBAgQIAAAQIECBAgQIAAAQIECBAYCwggY3BzBAgQIECAAAECBAgQIECAAAECBAgQIECAQC8ggPTGFggQIECAAAECBAgQIECAAAECBAgQIECAAIGxgAAyBjdHgAABAgQIECBAgAABAgQIECBAgAABAgQI9AICSG9sgQABAgQIECBAgAABAgQIECBAgAABAgQIEBgLCCBjcHMECBAgQIAAAQIECBAgQIAAAQIECBAgQIBALyCA9MYWCBAgQIAAAQIECBAgQIAAAQIECBAgQIAAgbGAADIGN0eAAAECBAgQIECAAAECBAgQIECAAAECBAj0AgJIb2yBAAECBAgQIECAAAECBAgQIECAAAECBAgQGAsIIGNwcwQIECBAgAABAgQIECBAgAABAgQIECBAgEAvIID0xhYIECBAgAABAgQIECBAgAABAgQIECBAgACBsYAAMgY3R4AAAQIECBAgQIAAAQIECBAgQIAAAQIECPQCAkhvbIEAAQIECBAgQIAAAQIECBAgQIAAAQIECBAYCwggY3BzBAgQIECAAAECBAgQIECAAAECBAgQIECAQC8ggPTGFggQIECAAAECBAgQIECAAAECBAgQIECAAIGxgAAyBjdHgAABAgQIECBAgAABAgQIECBAgAABAgQI9AICSG9sgQABAgQIECBAgAABAgQIECBAgAABAgQIEBgLCCBjcHMECBAgQIAAAQIECBAgQIAAAQIECBAgQIBALyCA9MYWCBAgQIAAAQIECBAgQIAAAQIECBAgQIAAgbGAADIGN0eAAAECBAgQIECAAAECBAgQIECAAAECBAj0AgJIb2yBAAECBAgQIECAAAECBAgQIECAAAECBAgQGAsIIGNwcwQIECBAgAABAgQIECBAgAABAgQIECBAgEAvIID0xhYIECBAgAABAgQIECBAgAABAgQIECBAgACBsYAAMgY3R4AAAQIECBAgQIAAAQIECBAgQIAAAQIECPQCAkhvbIEAAQIECBAgQIAAAQIECBAgQIAAAQIECBAYCwggY3BzBAgQIECAAAECBAgQIECAAAECBAgQIECAQC8ggPTGFggQIECAAAECBAgQIECAAAECBAgQIECAAIGxgAAyBjdHgAABAgQIECBAgAABAgQIECBAgAABAgQI9AICSG9sgQABAgQIECBAgAABAgQIECBAgAABAgQIEBgLCCBjcHMECBAgQIAAAQIECBAgQIAAAQIECBAgQIBALyCA9MYWCBAgQIAAAQIECBAgQIAAAQIECBAgQIAAgbGAADIGN0eAAAECBAgQIECAAAECBAgQIECAAAECBAj0AgJIb2yBAAECBAgQIECAAAECBAgQIECAAAECBAgQGAsIIGNwcwQIECBAgAABAgQIECBAgAABAgQIECBAgEAvIID0xhYIECBAgAABAgQIECBAgAABAgQIECBAgACBsYAAMgY3R4AAAQIECBAgQIAAAQIECBAgQIAAAQIECPQCAkhvbIEAAQIECBAgQIAAAQIECBAgQIAAAQIECBAYCwggY3BzBAgQIECAAAECBAgQIECAAAECBAgQIECAQC8ggPTGFggQIECAAAECBAgQIECAAAECBAgQIECAAIGxgAAyBjdHgAABAgQIECBAgAABAgQIECBAgAABAgQI9AICSG9sgQABAgQIECBAgAABAgQIECBAgAABAgQIEBgLCCBjcHMECBAgQIAAAQIECBAgQIAAAQIECBAgQIBALyCA9MYWCBAgQIAAAQIECBAgQIAAAQIECBAgQIAAgbGAADIGN0eAAAECBAgQIECAAAECBAgQIECAAAECBAj0AgJIb2yBAAECBAgQIECAAAECBAgQIECAAAECBAgQGAsIIGNwcwQIECBAgAABAgQIECBAgAABAgQIECBAgEAvIID0xhYIECBAgAABAgQIECBAgAABAgQIECBAgACBscB/jB2PmXkcsCAAAAAASUVORK5CYII=\" preserveAspectRatio=\"none\" x=\"0\" y=\"0\" width=\"800px\" height=\"400px\"/><image xmlns=\"http://www.w3.org/2000/svg\" xlink:href=\"data:image/png;base64,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\" preserveAspectRatio=\"none\" x=\"0\" y=\"0\" width=\"800px\" height=\"400px\"/></g><defs id=\"topdefs-63e667\"><g class=\"clips\"/><clipPath id=\"legend63e667\"><rect width=\"88\" height=\"29\" x=\"0\" y=\"0\"/></clipPath></defs><g class=\"layer-above\"><g class=\"imagelayer\"/><g class=\"shapelayer\"/></g><g class=\"infolayer\"><g class=\"legend\" pointer-events=\"all\" transform=\"translate(700.16,100)\"><rect class=\"bg\" shape-rendering=\"crispEdges\" width=\"88\" height=\"29\" x=\"0\" y=\"0\" style=\"stroke: rgb(68, 68, 68); stroke-opacity: 1; fill: rgb(255, 255, 255); fill-opacity: 1; stroke-width: 0px;\"/><g class=\"scrollbox\" transform=\"\" clip-path=\"url(#legend63e667)\"><g class=\"groups\"><g class=\"traces\" transform=\"translate(0,14.5)\" style=\"opacity: 1;\"><text class=\"legendtext\" text-anchor=\"start\" x=\"40\" y=\"4.680000000000001\" style=\"font-family: 'Open Sans', verdana, arial, sans-serif; font-size: 12px; fill: rgb(42, 63, 95); fill-opacity: 1; white-space: pre;\">trace 1</text><g class=\"layers\" style=\"opacity: 1;\"><g class=\"legendfill\"/><g class=\"legendlines\"><path class=\"js-line\" d=\"M5,0h30\" style=\"fill: none; stroke: rgb(239, 85, 59); stroke-opacity: 1; stroke-dasharray: 9px, 9px; stroke-width: 2px;\"/></g><g class=\"legendsymbols\"><g class=\"legendpoints\"/></g></g><rect class=\"legendtoggle\" x=\"0\" y=\"-9.5\" width=\"82.3125\" height=\"19\" style=\"fill: rgb(0, 0, 0); fill-opacity: 0;\"/></g></g></g><rect class=\"scrollbar\" rx=\"20\" ry=\"3\" width=\"0\" height=\"0\" x=\"0\" y=\"0\" style=\"fill: rgb(128, 139, 164); fill-opacity: 1;\"/></g><g class=\"g-gtitle\"><text class=\"gtitle\" x=\"40\" y=\"50\" text-anchor=\"start\" dy=\"0em\" style=\"font-family: 'Open Sans', verdana, arial, sans-serif; font-size: 17px; fill: rgb(42, 63, 95); opacity: 1; font-weight: normal; white-space: pre;\">area under the curve 0.94</text></g><g class=\"g-xtitle\"><text class=\"xtitle\" x=\"384\" y=\"359.8\" text-anchor=\"middle\" style=\"font-family: 'Open Sans', verdana, arial, sans-serif; font-size: 14px; fill: rgb(42, 63, 95); opacity: 1; font-weight: normal; white-space: pre;\">x</text></g><g class=\"g-ytitle\"><text class=\"ytitle\" transform=\"rotate(-90,35.075,210)\" x=\"35.075\" y=\"210\" text-anchor=\"middle\" style=\"font-family: 'Open Sans', verdana, arial, sans-serif; font-size: 14px; fill: rgb(42, 63, 95); opacity: 1; font-weight: normal; white-space: pre;\">y</text></g></g></svg>"
     },
     "metadata": {},
     "output_type": "display_data"
    }
   ],
   "source": [
    "df_X = prep.fit_transform(X_test)\n",
    "df_y= y_test\n",
    "plots_(df_y, df_X)"
   ]
  },
  {
   "cell_type": "markdown",
   "metadata": {},
   "source": [
    "* we can see from the Score above that 27 PCA components are the solution for this model and the Recall is .79 and precision is .74 with roc_auc of almost 0.9"
   ]
  },
  {
   "cell_type": "code",
   "execution_count": 54,
   "metadata": {},
   "outputs": [
    {
     "ename": "ValueError",
     "evalue": "No such layer: dense_1. Existing layers are: ['dense_12', 'dense_13', 'dense_14'].",
     "output_type": "error",
     "traceback": [
      "\u001b[0;31m---------------------------------------------------------------------------\u001b[0m",
      "\u001b[0;31mValueError\u001b[0m                                Traceback (most recent call last)",
      "Cell \u001b[0;32mIn[54], line 3\u001b[0m\n\u001b[1;32m      1\u001b[0m layer_name \u001b[39m=\u001b[39m \u001b[39m'\u001b[39m\u001b[39mdense_1\u001b[39m\u001b[39m'\u001b[39m\n\u001b[1;32m      2\u001b[0m \u001b[39m#layer_name = 'hidden_layer'\u001b[39;00m\n\u001b[0;32m----> 3\u001b[0m intermediate_layer_model \u001b[39m=\u001b[39m Model(inputs\u001b[39m=\u001b[39mmodel\u001b[39m.\u001b[39minput, outputs\u001b[39m=\u001b[39mmodel\u001b[39m.\u001b[39;49mget_layer(layer_name)\u001b[39m.\u001b[39moutput)\n\u001b[1;32m      4\u001b[0m intermediate_output_train \u001b[39m=\u001b[39m intermediate_layer_model\u001b[39m.\u001b[39mpredict(df_X)\n\u001b[1;32m      5\u001b[0m pd\u001b[39m.\u001b[39mDataFrame(intermediate_output_train, index\u001b[39m=\u001b[39m df_X\u001b[39m.\u001b[39mindex)\n",
      "File \u001b[0;32m/opt/homebrew/Caskroom/miniconda/base/envs/pt/lib/python3.10/site-packages/keras/engine/training.py:3275\u001b[0m, in \u001b[0;36mModel.get_layer\u001b[0;34m(self, name, index)\u001b[0m\n\u001b[1;32m   3273\u001b[0m         \u001b[39mif\u001b[39;00m layer\u001b[39m.\u001b[39mname \u001b[39m==\u001b[39m name:\n\u001b[1;32m   3274\u001b[0m             \u001b[39mreturn\u001b[39;00m layer\n\u001b[0;32m-> 3275\u001b[0m     \u001b[39mraise\u001b[39;00m \u001b[39mValueError\u001b[39;00m(\n\u001b[1;32m   3276\u001b[0m         \u001b[39mf\u001b[39m\u001b[39m\"\u001b[39m\u001b[39mNo such layer: \u001b[39m\u001b[39m{\u001b[39;00mname\u001b[39m}\u001b[39;00m\u001b[39m. Existing layers are: \u001b[39m\u001b[39m\"\u001b[39m\n\u001b[1;32m   3277\u001b[0m         \u001b[39mf\u001b[39m\u001b[39m\"\u001b[39m\u001b[39m{\u001b[39;00m\u001b[39mlist\u001b[39m(layer\u001b[39m.\u001b[39mname\u001b[39m \u001b[39m\u001b[39mfor\u001b[39;00m\u001b[39m \u001b[39mlayer\u001b[39m \u001b[39m\u001b[39min\u001b[39;00m\u001b[39m \u001b[39m\u001b[39mself\u001b[39m\u001b[39m.\u001b[39mlayers)\u001b[39m}\u001b[39;00m\u001b[39m.\u001b[39m\u001b[39m\"\u001b[39m\n\u001b[1;32m   3278\u001b[0m     )\n\u001b[1;32m   3279\u001b[0m \u001b[39mraise\u001b[39;00m \u001b[39mValueError\u001b[39;00m(\n\u001b[1;32m   3280\u001b[0m     \u001b[39m\"\u001b[39m\u001b[39mProvide either a layer name or layer index at \u001b[39m\u001b[39m\"\u001b[39m \u001b[39m\"\u001b[39m\u001b[39m`get_layer`.\u001b[39m\u001b[39m\"\u001b[39m\n\u001b[1;32m   3281\u001b[0m )\n",
      "\u001b[0;31mValueError\u001b[0m: No such layer: dense_1. Existing layers are: ['dense_12', 'dense_13', 'dense_14']."
     ]
    }
   ],
   "source": [
    "layer_name = 'dense_1'\n",
    "#layer_name = 'hidden_layer'\n",
    "intermediate_layer_model = Model(inputs=model.input, outputs=model.get_layer(layer_name).output)\n",
    "intermediate_output_train = intermediate_layer_model.predict(df_X)\n",
    "pd.DataFrame(intermediate_output_train, index= df_X.index)"
   ]
  },
  {
   "cell_type": "code",
   "execution_count": 64,
   "metadata": {},
   "outputs": [
    {
     "name": "stdout",
     "output_type": "stream",
     "text": [
      "Epoch 1/10\n",
      "96/96 [==============================] - 0s 1ms/step - loss: 2290.2605 - accuracy: 0.2633\n",
      "Epoch 2/10\n",
      "96/96 [==============================] - 0s 2ms/step - loss: 1711.9081 - accuracy: 0.4988\n",
      "Epoch 3/10\n",
      "96/96 [==============================] - 0s 2ms/step - loss: 570.5257 - accuracy: 0.5807\n",
      "Epoch 4/10\n",
      "96/96 [==============================] - 0s 2ms/step - loss: 127.3244 - accuracy: 0.6943\n",
      "Epoch 5/10\n",
      "96/96 [==============================] - 0s 2ms/step - loss: 79.3630 - accuracy: 0.7922\n",
      "Epoch 6/10\n",
      "96/96 [==============================] - 0s 2ms/step - loss: 72.6779 - accuracy: 0.8056\n",
      "Epoch 7/10\n",
      "96/96 [==============================] - 0s 2ms/step - loss: 68.9867 - accuracy: 0.8054\n",
      "Epoch 8/10\n",
      "96/96 [==============================] - 0s 2ms/step - loss: 66.2780 - accuracy: 0.8076\n",
      "Epoch 9/10\n",
      "96/96 [==============================] - 0s 2ms/step - loss: 63.1189 - accuracy: 0.8078\n",
      "Epoch 10/10\n",
      "96/96 [==============================] - 0s 2ms/step - loss: 60.1195 - accuracy: 0.8097\n"
     ]
    },
    {
     "data": {
      "text/html": [
       "<style>#sk-container-id-6 {color: black;background-color: white;}#sk-container-id-6 pre{padding: 0;}#sk-container-id-6 div.sk-toggleable {background-color: white;}#sk-container-id-6 label.sk-toggleable__label {cursor: pointer;display: block;width: 100%;margin-bottom: 0;padding: 0.3em;box-sizing: border-box;text-align: center;}#sk-container-id-6 label.sk-toggleable__label-arrow:before {content: \"▸\";float: left;margin-right: 0.25em;color: #696969;}#sk-container-id-6 label.sk-toggleable__label-arrow:hover:before {color: black;}#sk-container-id-6 div.sk-estimator:hover label.sk-toggleable__label-arrow:before {color: black;}#sk-container-id-6 div.sk-toggleable__content {max-height: 0;max-width: 0;overflow: hidden;text-align: left;background-color: #f0f8ff;}#sk-container-id-6 div.sk-toggleable__content pre {margin: 0.2em;color: black;border-radius: 0.25em;background-color: #f0f8ff;}#sk-container-id-6 input.sk-toggleable__control:checked~div.sk-toggleable__content {max-height: 200px;max-width: 100%;overflow: auto;}#sk-container-id-6 input.sk-toggleable__control:checked~label.sk-toggleable__label-arrow:before {content: \"▾\";}#sk-container-id-6 div.sk-estimator input.sk-toggleable__control:checked~label.sk-toggleable__label {background-color: #d4ebff;}#sk-container-id-6 div.sk-label input.sk-toggleable__control:checked~label.sk-toggleable__label {background-color: #d4ebff;}#sk-container-id-6 input.sk-hidden--visually {border: 0;clip: rect(1px 1px 1px 1px);clip: rect(1px, 1px, 1px, 1px);height: 1px;margin: -1px;overflow: hidden;padding: 0;position: absolute;width: 1px;}#sk-container-id-6 div.sk-estimator {font-family: monospace;background-color: #f0f8ff;border: 1px dotted black;border-radius: 0.25em;box-sizing: border-box;margin-bottom: 0.5em;}#sk-container-id-6 div.sk-estimator:hover {background-color: #d4ebff;}#sk-container-id-6 div.sk-parallel-item::after {content: \"\";width: 100%;border-bottom: 1px solid gray;flex-grow: 1;}#sk-container-id-6 div.sk-label:hover label.sk-toggleable__label {background-color: #d4ebff;}#sk-container-id-6 div.sk-serial::before {content: \"\";position: absolute;border-left: 1px solid gray;box-sizing: border-box;top: 0;bottom: 0;left: 50%;z-index: 0;}#sk-container-id-6 div.sk-serial {display: flex;flex-direction: column;align-items: center;background-color: white;padding-right: 0.2em;padding-left: 0.2em;position: relative;}#sk-container-id-6 div.sk-item {position: relative;z-index: 1;}#sk-container-id-6 div.sk-parallel {display: flex;align-items: stretch;justify-content: center;background-color: white;position: relative;}#sk-container-id-6 div.sk-item::before, #sk-container-id-6 div.sk-parallel-item::before {content: \"\";position: absolute;border-left: 1px solid gray;box-sizing: border-box;top: 0;bottom: 0;left: 50%;z-index: -1;}#sk-container-id-6 div.sk-parallel-item {display: flex;flex-direction: column;z-index: 1;position: relative;background-color: white;}#sk-container-id-6 div.sk-parallel-item:first-child::after {align-self: flex-end;width: 50%;}#sk-container-id-6 div.sk-parallel-item:last-child::after {align-self: flex-start;width: 50%;}#sk-container-id-6 div.sk-parallel-item:only-child::after {width: 0;}#sk-container-id-6 div.sk-dashed-wrapped {border: 1px dashed gray;margin: 0 0.4em 0.5em 0.4em;box-sizing: border-box;padding-bottom: 0.4em;background-color: white;}#sk-container-id-6 div.sk-label label {font-family: monospace;font-weight: bold;display: inline-block;line-height: 1.2em;}#sk-container-id-6 div.sk-label-container {text-align: center;}#sk-container-id-6 div.sk-container {/* jupyter's `normalize.less` sets `[hidden] { display: none; }` but bootstrap.min.css set `[hidden] { display: none !important; }` so we also need the `!important` here to be able to override the default hidden behavior on the sphinx rendered scikit-learn.org. See: https://github.com/scikit-learn/scikit-learn/issues/21755 */display: inline-block !important;position: relative;}#sk-container-id-6 div.sk-text-repr-fallback {display: none;}</style><div id=\"sk-container-id-6\" class=\"sk-top-container\"><div class=\"sk-text-repr-fallback\"><pre>Pipeline(steps=[(&#x27;preprocess&#x27;,\n",
       "                 ColumnTransformer(transformers=[(&#x27;n&#x27;,\n",
       "                                                  Pipeline(steps=[(&#x27;std&#x27;,\n",
       "                                                                   StandardScaler()),\n",
       "                                                                  (&#x27;impute&#x27;,\n",
       "                                                                   KNNImputer())]),\n",
       "                                                  Index([&#x27;v1&#x27;, &#x27;v2&#x27;, &#x27;v3&#x27;, &#x27;v4&#x27;, &#x27;v5&#x27;, &#x27;v6&#x27;, &#x27;v7&#x27;, &#x27;v8&#x27;, &#x27;v9&#x27;, &#x27;v10&#x27;, &#x27;v11&#x27;,\n",
       "       &#x27;v12&#x27;, &#x27;v13&#x27;, &#x27;v14&#x27;, &#x27;v15&#x27;, &#x27;v16&#x27;, &#x27;v17&#x27;, &#x27;v18&#x27;, &#x27;v19&#x27;, &#x27;v20&#x27;, &#x27;v21&#x27;,\n",
       "       &#x27;v22&#x27;, &#x27;v23&#x27;, &#x27;v24&#x27;, &#x27;v25&#x27;, &#x27;v26&#x27;, &#x27;v27&#x27;, &#x27;v28&#x27;, &#x27;amount&#x27;],\n",
       "      dtype=&#x27;object&#x27;))])),\n",
       "                (&#x27;model&#x27;,\n",
       "                 KerasRegressor(batch_size=2000, epochs=10, model=&lt;keras.engine.sequential.Sequential object at 0x2f358ee60&gt;, optimizer=&lt;keras.optimizers.optimizer_v2.adam.Adam object at 0x2f358ead0&gt;))])</pre><b>In a Jupyter environment, please rerun this cell to show the HTML representation or trust the notebook. <br />On GitHub, the HTML representation is unable to render, please try loading this page with nbviewer.org.</b></div><div class=\"sk-container\" hidden><div class=\"sk-item sk-dashed-wrapped\"><div class=\"sk-label-container\"><div class=\"sk-label sk-toggleable\"><input class=\"sk-toggleable__control sk-hidden--visually\" id=\"sk-estimator-id-31\" type=\"checkbox\" ><label for=\"sk-estimator-id-31\" class=\"sk-toggleable__label sk-toggleable__label-arrow\">Pipeline</label><div class=\"sk-toggleable__content\"><pre>Pipeline(steps=[(&#x27;preprocess&#x27;,\n",
       "                 ColumnTransformer(transformers=[(&#x27;n&#x27;,\n",
       "                                                  Pipeline(steps=[(&#x27;std&#x27;,\n",
       "                                                                   StandardScaler()),\n",
       "                                                                  (&#x27;impute&#x27;,\n",
       "                                                                   KNNImputer())]),\n",
       "                                                  Index([&#x27;v1&#x27;, &#x27;v2&#x27;, &#x27;v3&#x27;, &#x27;v4&#x27;, &#x27;v5&#x27;, &#x27;v6&#x27;, &#x27;v7&#x27;, &#x27;v8&#x27;, &#x27;v9&#x27;, &#x27;v10&#x27;, &#x27;v11&#x27;,\n",
       "       &#x27;v12&#x27;, &#x27;v13&#x27;, &#x27;v14&#x27;, &#x27;v15&#x27;, &#x27;v16&#x27;, &#x27;v17&#x27;, &#x27;v18&#x27;, &#x27;v19&#x27;, &#x27;v20&#x27;, &#x27;v21&#x27;,\n",
       "       &#x27;v22&#x27;, &#x27;v23&#x27;, &#x27;v24&#x27;, &#x27;v25&#x27;, &#x27;v26&#x27;, &#x27;v27&#x27;, &#x27;v28&#x27;, &#x27;amount&#x27;],\n",
       "      dtype=&#x27;object&#x27;))])),\n",
       "                (&#x27;model&#x27;,\n",
       "                 KerasRegressor(batch_size=2000, epochs=10, model=&lt;keras.engine.sequential.Sequential object at 0x2f358ee60&gt;, optimizer=&lt;keras.optimizers.optimizer_v2.adam.Adam object at 0x2f358ead0&gt;))])</pre></div></div></div><div class=\"sk-serial\"><div class=\"sk-item sk-dashed-wrapped\"><div class=\"sk-label-container\"><div class=\"sk-label sk-toggleable\"><input class=\"sk-toggleable__control sk-hidden--visually\" id=\"sk-estimator-id-32\" type=\"checkbox\" ><label for=\"sk-estimator-id-32\" class=\"sk-toggleable__label sk-toggleable__label-arrow\">preprocess: ColumnTransformer</label><div class=\"sk-toggleable__content\"><pre>ColumnTransformer(transformers=[(&#x27;n&#x27;,\n",
       "                                 Pipeline(steps=[(&#x27;std&#x27;, StandardScaler()),\n",
       "                                                 (&#x27;impute&#x27;, KNNImputer())]),\n",
       "                                 Index([&#x27;v1&#x27;, &#x27;v2&#x27;, &#x27;v3&#x27;, &#x27;v4&#x27;, &#x27;v5&#x27;, &#x27;v6&#x27;, &#x27;v7&#x27;, &#x27;v8&#x27;, &#x27;v9&#x27;, &#x27;v10&#x27;, &#x27;v11&#x27;,\n",
       "       &#x27;v12&#x27;, &#x27;v13&#x27;, &#x27;v14&#x27;, &#x27;v15&#x27;, &#x27;v16&#x27;, &#x27;v17&#x27;, &#x27;v18&#x27;, &#x27;v19&#x27;, &#x27;v20&#x27;, &#x27;v21&#x27;,\n",
       "       &#x27;v22&#x27;, &#x27;v23&#x27;, &#x27;v24&#x27;, &#x27;v25&#x27;, &#x27;v26&#x27;, &#x27;v27&#x27;, &#x27;v28&#x27;, &#x27;amount&#x27;],\n",
       "      dtype=&#x27;object&#x27;))])</pre></div></div></div><div class=\"sk-parallel\"><div class=\"sk-parallel-item\"><div class=\"sk-item\"><div class=\"sk-label-container\"><div class=\"sk-label sk-toggleable\"><input class=\"sk-toggleable__control sk-hidden--visually\" id=\"sk-estimator-id-33\" type=\"checkbox\" ><label for=\"sk-estimator-id-33\" class=\"sk-toggleable__label sk-toggleable__label-arrow\">n</label><div class=\"sk-toggleable__content\"><pre>Index([&#x27;v1&#x27;, &#x27;v2&#x27;, &#x27;v3&#x27;, &#x27;v4&#x27;, &#x27;v5&#x27;, &#x27;v6&#x27;, &#x27;v7&#x27;, &#x27;v8&#x27;, &#x27;v9&#x27;, &#x27;v10&#x27;, &#x27;v11&#x27;,\n",
       "       &#x27;v12&#x27;, &#x27;v13&#x27;, &#x27;v14&#x27;, &#x27;v15&#x27;, &#x27;v16&#x27;, &#x27;v17&#x27;, &#x27;v18&#x27;, &#x27;v19&#x27;, &#x27;v20&#x27;, &#x27;v21&#x27;,\n",
       "       &#x27;v22&#x27;, &#x27;v23&#x27;, &#x27;v24&#x27;, &#x27;v25&#x27;, &#x27;v26&#x27;, &#x27;v27&#x27;, &#x27;v28&#x27;, &#x27;amount&#x27;],\n",
       "      dtype=&#x27;object&#x27;)</pre></div></div></div><div class=\"sk-serial\"><div class=\"sk-item\"><div class=\"sk-serial\"><div class=\"sk-item\"><div class=\"sk-estimator sk-toggleable\"><input class=\"sk-toggleable__control sk-hidden--visually\" id=\"sk-estimator-id-34\" type=\"checkbox\" ><label for=\"sk-estimator-id-34\" class=\"sk-toggleable__label sk-toggleable__label-arrow\">StandardScaler</label><div class=\"sk-toggleable__content\"><pre>StandardScaler()</pre></div></div></div><div class=\"sk-item\"><div class=\"sk-estimator sk-toggleable\"><input class=\"sk-toggleable__control sk-hidden--visually\" id=\"sk-estimator-id-35\" type=\"checkbox\" ><label for=\"sk-estimator-id-35\" class=\"sk-toggleable__label sk-toggleable__label-arrow\">KNNImputer</label><div class=\"sk-toggleable__content\"><pre>KNNImputer()</pre></div></div></div></div></div></div></div></div></div></div><div class=\"sk-item\"><div class=\"sk-estimator sk-toggleable\"><input class=\"sk-toggleable__control sk-hidden--visually\" id=\"sk-estimator-id-36\" type=\"checkbox\" ><label for=\"sk-estimator-id-36\" class=\"sk-toggleable__label sk-toggleable__label-arrow\">KerasRegressor</label><div class=\"sk-toggleable__content\"><pre>KerasRegressor(\n",
       "\tmodel=&lt;keras.engine.sequential.Sequential object at 0x2f358ee60&gt;\n",
       "\tbuild_fn=None\n",
       "\twarm_start=False\n",
       "\trandom_state=None\n",
       "\toptimizer=&lt;keras.optimizers.optimizer_v2.adam.Adam object at 0x2f358ead0&gt;\n",
       "\tloss=None\n",
       "\tmetrics=None\n",
       "\tbatch_size=2000\n",
       "\tvalidation_batch_size=None\n",
       "\tverbose=1\n",
       "\tcallbacks=None\n",
       "\tvalidation_split=0.0\n",
       "\tshuffle=True\n",
       "\trun_eagerly=False\n",
       "\tepochs=10\n",
       ")</pre></div></div></div></div></div></div></div>"
      ],
      "text/plain": [
       "Pipeline(steps=[('preprocess',\n",
       "                 ColumnTransformer(transformers=[('n',\n",
       "                                                  Pipeline(steps=[('std',\n",
       "                                                                   StandardScaler()),\n",
       "                                                                  ('impute',\n",
       "                                                                   KNNImputer())]),\n",
       "                                                  Index(['v1', 'v2', 'v3', 'v4', 'v5', 'v6', 'v7', 'v8', 'v9', 'v10', 'v11',\n",
       "       'v12', 'v13', 'v14', 'v15', 'v16', 'v17', 'v18', 'v19', 'v20', 'v21',\n",
       "       'v22', 'v23', 'v24', 'v25', 'v26', 'v27', 'v28', 'amount'],\n",
       "      dtype='object'))])),\n",
       "                ('model',\n",
       "                 KerasRegressor(batch_size=2000, epochs=10, model=<keras.engine.sequential.Sequential object at 0x2f358ee60>, optimizer=<keras.optimizers.optimizer_v2.adam.Adam object at 0x2f358ead0>))])"
      ]
     },
     "execution_count": 64,
     "metadata": {},
     "output_type": "execute_result"
    }
   ],
   "source": [
    "#from sklearn import \n",
    "model= KerasRegressor(create_model(), optimizer=tf.keras.optimizers.Adam(), epochs= 10, batch_size= 2000, shuffle=True,  verbose=1)\n",
    "pipe= Pipeline(steps=[\n",
    "    (\"preprocess\", prep),    \n",
    "    ('model', model)        \n",
    "    ]).set_output(transform=\"pandas\")\n",
    "pipe.fit(X_train,X_train)"
   ]
  },
  {
   "cell_type": "code",
   "execution_count": 60,
   "metadata": {},
   "outputs": [],
   "source": [
    "from scipy.stats import randint, uniform, norm,reciprocal, expon\n",
    "reciprocal.rvs(20, 200000), expon.rvs(scale=1.0)\n",
    "# loc is lower bound value and scale is the +2 range and size is number of observations \n",
    "uniform.rvs(loc=5, scale=2, size= 10),randint.rvs(low=20, high=70, size=10),norm.rvs(0.1, 1)\n",
    "# use randint.rvs(1,4) and uniform.rvs to see output values\n",
    "grid_epoch = randint(10,20)\n"
   ]
  },
  {
   "cell_type": "code",
   "execution_count": 70,
   "metadata": {},
   "outputs": [],
   "source": [
    "MLA_params = {                            \n",
    "        \"model__epochs\": [10,12],\n",
    "        #\"model__optimizer\": [\"Adam\"]\n",
    "        } "
   ]
  },
  {
   "cell_type": "markdown",
   "metadata": {},
   "source": [
    "># Random/GridSearch Cross Validation\n",
    "># CV split"
   ]
  },
  {
   "cell_type": "code",
   "execution_count": 71,
   "metadata": {},
   "outputs": [
    {
     "name": "stdout",
     "output_type": "stream",
     "text": [
      "INFO:tensorflow:Assets written to: ram://4c4b8c6028ba4bee91ee38247cc25b34/assets\n"
     ]
    },
    {
     "name": "stderr",
     "output_type": "stream",
     "text": [
      "2023-03-13 19:22:16.991885: W tensorflow/core/util/tensor_slice_reader.cc:96] Could not open ram://f2c80bf9704e45c1aae154d451dddc97: INVALID_ARGUMENT: ram://f2c80bf9704e45c1aae154d451dddc97 is a directory.\n"
     ]
    },
    {
     "ename": "AttributeError",
     "evalue": "'Adam' object has no attribute 'build'",
     "output_type": "error",
     "traceback": [
      "\u001b[0;31m---------------------------------------------------------------------------\u001b[0m",
      "\u001b[0;31mAttributeError\u001b[0m                            Traceback (most recent call last)",
      "Cell \u001b[0;32mIn[71], line 16\u001b[0m\n\u001b[1;32m      4\u001b[0m cv_split \u001b[39m=\u001b[39m KFold(n_splits\u001b[39m=\u001b[39m \u001b[39m2\u001b[39m, random_state\u001b[39m=\u001b[39m\u001b[39m10\u001b[39m , shuffle\u001b[39m=\u001b[39m\u001b[39mTrue\u001b[39;00m)\n\u001b[1;32m      6\u001b[0m grid_cv\u001b[39m=\u001b[39m GridSearchCV(\n\u001b[1;32m      7\u001b[0m         pipe, \n\u001b[1;32m      8\u001b[0m         param_grid\u001b[39m=\u001b[39m MLA_params,        \n\u001b[0;32m   (...)\u001b[0m\n\u001b[1;32m     13\u001b[0m         \u001b[39m#random_state=42,\u001b[39;00m\n\u001b[1;32m     14\u001b[0m         n_jobs\u001b[39m=\u001b[39m \u001b[39m-\u001b[39m\u001b[39m1\u001b[39m )\n\u001b[0;32m---> 16\u001b[0m tune_grid \u001b[39m=\u001b[39mgrid_cv\u001b[39m.\u001b[39;49mfit(X_train, X_train)   \n",
      "File \u001b[0;32m/opt/homebrew/Caskroom/miniconda/base/envs/pt/lib/python3.10/site-packages/sklearn/model_selection/_search.py:788\u001b[0m, in \u001b[0;36mBaseSearchCV.fit\u001b[0;34m(self, X, y, groups, **fit_params)\u001b[0m\n\u001b[1;32m    785\u001b[0m cv_orig \u001b[39m=\u001b[39m check_cv(\u001b[39mself\u001b[39m\u001b[39m.\u001b[39mcv, y, classifier\u001b[39m=\u001b[39mis_classifier(estimator))\n\u001b[1;32m    786\u001b[0m n_splits \u001b[39m=\u001b[39m cv_orig\u001b[39m.\u001b[39mget_n_splits(X, y, groups)\n\u001b[0;32m--> 788\u001b[0m base_estimator \u001b[39m=\u001b[39m clone(\u001b[39mself\u001b[39;49m\u001b[39m.\u001b[39;49mestimator)\n\u001b[1;32m    790\u001b[0m parallel \u001b[39m=\u001b[39m Parallel(n_jobs\u001b[39m=\u001b[39m\u001b[39mself\u001b[39m\u001b[39m.\u001b[39mn_jobs, pre_dispatch\u001b[39m=\u001b[39m\u001b[39mself\u001b[39m\u001b[39m.\u001b[39mpre_dispatch)\n\u001b[1;32m    792\u001b[0m fit_and_score_kwargs \u001b[39m=\u001b[39m \u001b[39mdict\u001b[39m(\n\u001b[1;32m    793\u001b[0m     scorer\u001b[39m=\u001b[39mscorers,\n\u001b[1;32m    794\u001b[0m     fit_params\u001b[39m=\u001b[39mfit_params,\n\u001b[0;32m   (...)\u001b[0m\n\u001b[1;32m    800\u001b[0m     verbose\u001b[39m=\u001b[39m\u001b[39mself\u001b[39m\u001b[39m.\u001b[39mverbose,\n\u001b[1;32m    801\u001b[0m )\n",
      "File \u001b[0;32m/opt/homebrew/Caskroom/miniconda/base/envs/pt/lib/python3.10/site-packages/sklearn/base.py:89\u001b[0m, in \u001b[0;36mclone\u001b[0;34m(estimator, safe)\u001b[0m\n\u001b[1;32m     87\u001b[0m new_object_params \u001b[39m=\u001b[39m estimator\u001b[39m.\u001b[39mget_params(deep\u001b[39m=\u001b[39m\u001b[39mFalse\u001b[39;00m)\n\u001b[1;32m     88\u001b[0m \u001b[39mfor\u001b[39;00m name, param \u001b[39min\u001b[39;00m new_object_params\u001b[39m.\u001b[39mitems():\n\u001b[0;32m---> 89\u001b[0m     new_object_params[name] \u001b[39m=\u001b[39m clone(param, safe\u001b[39m=\u001b[39;49m\u001b[39mFalse\u001b[39;49;00m)\n\u001b[1;32m     90\u001b[0m new_object \u001b[39m=\u001b[39m klass(\u001b[39m*\u001b[39m\u001b[39m*\u001b[39mnew_object_params)\n\u001b[1;32m     91\u001b[0m params_set \u001b[39m=\u001b[39m new_object\u001b[39m.\u001b[39mget_params(deep\u001b[39m=\u001b[39m\u001b[39mFalse\u001b[39;00m)\n",
      "File \u001b[0;32m/opt/homebrew/Caskroom/miniconda/base/envs/pt/lib/python3.10/site-packages/sklearn/base.py:67\u001b[0m, in \u001b[0;36mclone\u001b[0;34m(estimator, safe)\u001b[0m\n\u001b[1;32m     65\u001b[0m \u001b[39m# XXX: not handling dictionaries\u001b[39;00m\n\u001b[1;32m     66\u001b[0m \u001b[39mif\u001b[39;00m estimator_type \u001b[39min\u001b[39;00m (\u001b[39mlist\u001b[39m, \u001b[39mtuple\u001b[39m, \u001b[39mset\u001b[39m, \u001b[39mfrozenset\u001b[39m):\n\u001b[0;32m---> 67\u001b[0m     \u001b[39mreturn\u001b[39;00m estimator_type([clone(e, safe\u001b[39m=\u001b[39msafe) \u001b[39mfor\u001b[39;00m e \u001b[39min\u001b[39;00m estimator])\n\u001b[1;32m     68\u001b[0m \u001b[39melif\u001b[39;00m \u001b[39mnot\u001b[39;00m \u001b[39mhasattr\u001b[39m(estimator, \u001b[39m\"\u001b[39m\u001b[39mget_params\u001b[39m\u001b[39m\"\u001b[39m) \u001b[39mor\u001b[39;00m \u001b[39misinstance\u001b[39m(estimator, \u001b[39mtype\u001b[39m):\n\u001b[1;32m     69\u001b[0m     \u001b[39mif\u001b[39;00m \u001b[39mnot\u001b[39;00m safe:\n",
      "File \u001b[0;32m/opt/homebrew/Caskroom/miniconda/base/envs/pt/lib/python3.10/site-packages/sklearn/base.py:67\u001b[0m, in \u001b[0;36m<listcomp>\u001b[0;34m(.0)\u001b[0m\n\u001b[1;32m     65\u001b[0m \u001b[39m# XXX: not handling dictionaries\u001b[39;00m\n\u001b[1;32m     66\u001b[0m \u001b[39mif\u001b[39;00m estimator_type \u001b[39min\u001b[39;00m (\u001b[39mlist\u001b[39m, \u001b[39mtuple\u001b[39m, \u001b[39mset\u001b[39m, \u001b[39mfrozenset\u001b[39m):\n\u001b[0;32m---> 67\u001b[0m     \u001b[39mreturn\u001b[39;00m estimator_type([clone(e, safe\u001b[39m=\u001b[39;49msafe) \u001b[39mfor\u001b[39;00m e \u001b[39min\u001b[39;00m estimator])\n\u001b[1;32m     68\u001b[0m \u001b[39melif\u001b[39;00m \u001b[39mnot\u001b[39;00m \u001b[39mhasattr\u001b[39m(estimator, \u001b[39m\"\u001b[39m\u001b[39mget_params\u001b[39m\u001b[39m\"\u001b[39m) \u001b[39mor\u001b[39;00m \u001b[39misinstance\u001b[39m(estimator, \u001b[39mtype\u001b[39m):\n\u001b[1;32m     69\u001b[0m     \u001b[39mif\u001b[39;00m \u001b[39mnot\u001b[39;00m safe:\n",
      "File \u001b[0;32m/opt/homebrew/Caskroom/miniconda/base/envs/pt/lib/python3.10/site-packages/sklearn/base.py:67\u001b[0m, in \u001b[0;36mclone\u001b[0;34m(estimator, safe)\u001b[0m\n\u001b[1;32m     65\u001b[0m \u001b[39m# XXX: not handling dictionaries\u001b[39;00m\n\u001b[1;32m     66\u001b[0m \u001b[39mif\u001b[39;00m estimator_type \u001b[39min\u001b[39;00m (\u001b[39mlist\u001b[39m, \u001b[39mtuple\u001b[39m, \u001b[39mset\u001b[39m, \u001b[39mfrozenset\u001b[39m):\n\u001b[0;32m---> 67\u001b[0m     \u001b[39mreturn\u001b[39;00m estimator_type([clone(e, safe\u001b[39m=\u001b[39msafe) \u001b[39mfor\u001b[39;00m e \u001b[39min\u001b[39;00m estimator])\n\u001b[1;32m     68\u001b[0m \u001b[39melif\u001b[39;00m \u001b[39mnot\u001b[39;00m \u001b[39mhasattr\u001b[39m(estimator, \u001b[39m\"\u001b[39m\u001b[39mget_params\u001b[39m\u001b[39m\"\u001b[39m) \u001b[39mor\u001b[39;00m \u001b[39misinstance\u001b[39m(estimator, \u001b[39mtype\u001b[39m):\n\u001b[1;32m     69\u001b[0m     \u001b[39mif\u001b[39;00m \u001b[39mnot\u001b[39;00m safe:\n",
      "File \u001b[0;32m/opt/homebrew/Caskroom/miniconda/base/envs/pt/lib/python3.10/site-packages/sklearn/base.py:67\u001b[0m, in \u001b[0;36m<listcomp>\u001b[0;34m(.0)\u001b[0m\n\u001b[1;32m     65\u001b[0m \u001b[39m# XXX: not handling dictionaries\u001b[39;00m\n\u001b[1;32m     66\u001b[0m \u001b[39mif\u001b[39;00m estimator_type \u001b[39min\u001b[39;00m (\u001b[39mlist\u001b[39m, \u001b[39mtuple\u001b[39m, \u001b[39mset\u001b[39m, \u001b[39mfrozenset\u001b[39m):\n\u001b[0;32m---> 67\u001b[0m     \u001b[39mreturn\u001b[39;00m estimator_type([clone(e, safe\u001b[39m=\u001b[39;49msafe) \u001b[39mfor\u001b[39;00m e \u001b[39min\u001b[39;00m estimator])\n\u001b[1;32m     68\u001b[0m \u001b[39melif\u001b[39;00m \u001b[39mnot\u001b[39;00m \u001b[39mhasattr\u001b[39m(estimator, \u001b[39m\"\u001b[39m\u001b[39mget_params\u001b[39m\u001b[39m\"\u001b[39m) \u001b[39mor\u001b[39;00m \u001b[39misinstance\u001b[39m(estimator, \u001b[39mtype\u001b[39m):\n\u001b[1;32m     69\u001b[0m     \u001b[39mif\u001b[39;00m \u001b[39mnot\u001b[39;00m safe:\n",
      "File \u001b[0;32m/opt/homebrew/Caskroom/miniconda/base/envs/pt/lib/python3.10/site-packages/sklearn/base.py:89\u001b[0m, in \u001b[0;36mclone\u001b[0;34m(estimator, safe)\u001b[0m\n\u001b[1;32m     87\u001b[0m new_object_params \u001b[39m=\u001b[39m estimator\u001b[39m.\u001b[39mget_params(deep\u001b[39m=\u001b[39m\u001b[39mFalse\u001b[39;00m)\n\u001b[1;32m     88\u001b[0m \u001b[39mfor\u001b[39;00m name, param \u001b[39min\u001b[39;00m new_object_params\u001b[39m.\u001b[39mitems():\n\u001b[0;32m---> 89\u001b[0m     new_object_params[name] \u001b[39m=\u001b[39m clone(param, safe\u001b[39m=\u001b[39;49m\u001b[39mFalse\u001b[39;49;00m)\n\u001b[1;32m     90\u001b[0m new_object \u001b[39m=\u001b[39m klass(\u001b[39m*\u001b[39m\u001b[39m*\u001b[39mnew_object_params)\n\u001b[1;32m     91\u001b[0m params_set \u001b[39m=\u001b[39m new_object\u001b[39m.\u001b[39mget_params(deep\u001b[39m=\u001b[39m\u001b[39mFalse\u001b[39;00m)\n",
      "File \u001b[0;32m/opt/homebrew/Caskroom/miniconda/base/envs/pt/lib/python3.10/site-packages/sklearn/base.py:70\u001b[0m, in \u001b[0;36mclone\u001b[0;34m(estimator, safe)\u001b[0m\n\u001b[1;32m     68\u001b[0m \u001b[39melif\u001b[39;00m \u001b[39mnot\u001b[39;00m \u001b[39mhasattr\u001b[39m(estimator, \u001b[39m\"\u001b[39m\u001b[39mget_params\u001b[39m\u001b[39m\"\u001b[39m) \u001b[39mor\u001b[39;00m \u001b[39misinstance\u001b[39m(estimator, \u001b[39mtype\u001b[39m):\n\u001b[1;32m     69\u001b[0m     \u001b[39mif\u001b[39;00m \u001b[39mnot\u001b[39;00m safe:\n\u001b[0;32m---> 70\u001b[0m         \u001b[39mreturn\u001b[39;00m copy\u001b[39m.\u001b[39;49mdeepcopy(estimator)\n\u001b[1;32m     71\u001b[0m     \u001b[39melse\u001b[39;00m:\n\u001b[1;32m     72\u001b[0m         \u001b[39mif\u001b[39;00m \u001b[39misinstance\u001b[39m(estimator, \u001b[39mtype\u001b[39m):\n",
      "File \u001b[0;32m/opt/homebrew/Caskroom/miniconda/base/envs/pt/lib/python3.10/copy.py:153\u001b[0m, in \u001b[0;36mdeepcopy\u001b[0;34m(x, memo, _nil)\u001b[0m\n\u001b[1;32m    151\u001b[0m copier \u001b[39m=\u001b[39m \u001b[39mgetattr\u001b[39m(x, \u001b[39m\"\u001b[39m\u001b[39m__deepcopy__\u001b[39m\u001b[39m\"\u001b[39m, \u001b[39mNone\u001b[39;00m)\n\u001b[1;32m    152\u001b[0m \u001b[39mif\u001b[39;00m copier \u001b[39mis\u001b[39;00m \u001b[39mnot\u001b[39;00m \u001b[39mNone\u001b[39;00m:\n\u001b[0;32m--> 153\u001b[0m     y \u001b[39m=\u001b[39m copier(memo)\n\u001b[1;32m    154\u001b[0m \u001b[39melse\u001b[39;00m:\n\u001b[1;32m    155\u001b[0m     reductor \u001b[39m=\u001b[39m dispatch_table\u001b[39m.\u001b[39mget(\u001b[39mcls\u001b[39m)\n",
      "File \u001b[0;32m/opt/homebrew/Caskroom/miniconda/base/envs/pt/lib/python3.10/site-packages/scikeras/_saving_utils.py:83\u001b[0m, in \u001b[0;36mdeepcopy_model\u001b[0;34m(model, memo)\u001b[0m\n\u001b[1;32m     81\u001b[0m \u001b[39mdef\u001b[39;00m \u001b[39mdeepcopy_model\u001b[39m(model: keras\u001b[39m.\u001b[39mModel, memo: Dict[Hashable, Any]) \u001b[39m-\u001b[39m\u001b[39m>\u001b[39m keras\u001b[39m.\u001b[39mModel:\n\u001b[1;32m     82\u001b[0m     _, (model_bytes,) \u001b[39m=\u001b[39m pack_keras_model(model)\n\u001b[0;32m---> 83\u001b[0m     new_model \u001b[39m=\u001b[39m unpack_keras_model(model_bytes)\n\u001b[1;32m     84\u001b[0m     memo[model] \u001b[39m=\u001b[39m new_model\n\u001b[1;32m     85\u001b[0m     \u001b[39mreturn\u001b[39;00m new_model\n",
      "File \u001b[0;32m/opt/homebrew/Caskroom/miniconda/base/envs/pt/lib/python3.10/site-packages/scikeras/_saving_utils.py:53\u001b[0m, in \u001b[0;36munpack_keras_model\u001b[0;34m(packed_keras_model)\u001b[0m\n\u001b[1;32m     51\u001b[0m model: keras\u001b[39m.\u001b[39mModel \u001b[39m=\u001b[39m load_model(temp_dir)\n\u001b[1;32m     52\u001b[0m model\u001b[39m.\u001b[39mload_weights(temp_dir)\n\u001b[0;32m---> 53\u001b[0m model\u001b[39m.\u001b[39;49moptimizer\u001b[39m.\u001b[39;49mbuild(model\u001b[39m.\u001b[39mtrainable_variables)\n\u001b[1;32m     54\u001b[0m \u001b[39mreturn\u001b[39;00m model\n",
      "File \u001b[0;32m/opt/homebrew/Caskroom/miniconda/base/envs/pt/lib/python3.10/site-packages/keras/optimizers/optimizer_v2/optimizer_v2.py:975\u001b[0m, in \u001b[0;36mOptimizerV2.__getattribute__\u001b[0;34m(self, name)\u001b[0m\n\u001b[1;32m    973\u001b[0m \u001b[39mif\u001b[39;00m name \u001b[39min\u001b[39;00m \u001b[39mself\u001b[39m\u001b[39m.\u001b[39m_hyper:\n\u001b[1;32m    974\u001b[0m     \u001b[39mreturn\u001b[39;00m \u001b[39mself\u001b[39m\u001b[39m.\u001b[39m_get_hyper(name)\n\u001b[0;32m--> 975\u001b[0m \u001b[39mraise\u001b[39;00m e\n",
      "File \u001b[0;32m/opt/homebrew/Caskroom/miniconda/base/envs/pt/lib/python3.10/site-packages/keras/optimizers/optimizer_v2/optimizer_v2.py:965\u001b[0m, in \u001b[0;36mOptimizerV2.__getattribute__\u001b[0;34m(self, name)\u001b[0m\n\u001b[1;32m    963\u001b[0m \u001b[39m\u001b[39m\u001b[39m\"\"\"Overridden to support hyperparameter access.\"\"\"\u001b[39;00m\n\u001b[1;32m    964\u001b[0m \u001b[39mtry\u001b[39;00m:\n\u001b[0;32m--> 965\u001b[0m     \u001b[39mreturn\u001b[39;00m \u001b[39msuper\u001b[39;49m()\u001b[39m.\u001b[39;49m\u001b[39m__getattribute__\u001b[39;49m(name)\n\u001b[1;32m    966\u001b[0m \u001b[39mexcept\u001b[39;00m \u001b[39mAttributeError\u001b[39;00m \u001b[39mas\u001b[39;00m e:\n\u001b[1;32m    967\u001b[0m     \u001b[39m# Needed to avoid infinite recursion with __setattr__.\u001b[39;00m\n\u001b[1;32m    968\u001b[0m     \u001b[39mif\u001b[39;00m name \u001b[39m==\u001b[39m \u001b[39m\"\u001b[39m\u001b[39m_hyper\u001b[39m\u001b[39m\"\u001b[39m:\n",
      "\u001b[0;31mAttributeError\u001b[0m: 'Adam' object has no attribute 'build'"
     ]
    }
   ],
   "source": [
    "from sklearn.model_selection import KFold\n",
    "from sklearn.model_selection import RandomizedSearchCV\n",
    "from sklearn.model_selection import GridSearchCV\n",
    "cv_split = KFold(n_splits= 2, random_state=10 , shuffle=True)\n",
    "\n",
    "grid_cv= GridSearchCV(\n",
    "        pipe, \n",
    "        param_grid= MLA_params,        \n",
    "        cv= cv_split,        \n",
    "        #scoring='neg_mean_squared_error',\n",
    "        #n_iter = 1,\n",
    "        verbose= 0,         \n",
    "        #random_state=42,\n",
    "        n_jobs= -1 )\n",
    "\n",
    "tune_grid =grid_cv.fit(X_train, X_train)   \n",
    "    "
   ]
  },
  {
   "cell_type": "code",
   "execution_count": null,
   "metadata": {
    "slideshow": {
     "slide_type": "slide"
    },
    "tags": []
   },
   "outputs": [],
   "source": [
    "#eval_scores(y_train, preds )"
   ]
  },
  {
   "cell_type": "code",
   "execution_count": null,
   "metadata": {
    "slideshow": {
     "slide_type": "slide"
    },
    "tags": []
   },
   "outputs": [],
   "source": [
    "# from sklearn.metrics import confusion_matrix, ConfusionMatrixDisplay\n",
    "# cm = confusion_matrix(y_train, pipe.predict(X_train), labels= y_train.unique())\n",
    "# disp = ConfusionMatrixDisplay(confusion_matrix=cm,display_labels= y_train.unique())\n",
    "# disp.plot()\n",
    "# plt.show()"
   ]
  },
  {
   "cell_type": "markdown",
   "metadata": {},
   "source": [
    "* This results is impressive considering its a unsupervised model we managed to etect 261 out of 330 fraudulent transactions."
   ]
  },
  {
   "cell_type": "code",
   "execution_count": null,
   "metadata": {},
   "outputs": [],
   "source": []
  }
 ],
 "metadata": {
  "celltoolbar": "Slideshow",
  "kernelspec": {
   "display_name": "Python 3 (ipykernel)",
   "language": "python",
   "name": "python3"
  },
  "language_info": {
   "codemirror_mode": {
    "name": "ipython",
    "version": 3
   },
   "file_extension": ".py",
   "mimetype": "text/x-python",
   "name": "python",
   "nbconvert_exporter": "python",
   "pygments_lexer": "ipython3",
   "version": "3.10.9"
  }
 },
 "nbformat": 4,
 "nbformat_minor": 4
}
