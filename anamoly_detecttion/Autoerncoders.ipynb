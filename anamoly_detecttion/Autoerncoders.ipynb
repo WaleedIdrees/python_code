{
 "cells": [
  {
   "attachments": {},
   "cell_type": "markdown",
   "metadata": {
    "slideshow": {
     "slide_type": "slide"
    }
   },
   "source": [
    "---\n",
    "## Give your presentation a title\n",
    "title: \"My Jupyter Notebook Presentation\"\n",
    "## Choose a reveal.js theme, options are available at https://revealjs.com/themes/\n",
    "theme: \"beige\"\n",
    "## Add a main CSS file\n",
    "---\n",
    "<!-- <link rel=\"stylesheet\" type=\"text/css\" href=\"{{ filename='main.css') }}\"> -->\n",
    "<!-- Import Bootstrap styles -->\n",
    "<!-- <link rel=\"stylesheet\" href=\"https://stackpath.bootstrapcdn.com/bootstrap/4.5.2/css/bootstrap.min.css\"> -->\n"
   ]
  },
  {
   "cell_type": "code",
   "execution_count": 1,
   "metadata": {
    "slideshow": {
     "slide_type": "slide"
    },
    "tags": []
   },
   "outputs": [],
   "source": [
    "import numpy as np\n",
    "import pandas as pd\n",
    "import matplotlib.pyplot as plt\n",
    "import plotly.express as px\n",
    "pd.options.plotting.backend= \"plotly\"\n",
    "pd.set_option('display.max_columns', 150, 'display.max_rows', 100, 'display.max_colwidth', 15)\n",
    "%matplotlib inline "
   ]
  },
  {
   "cell_type": "code",
   "execution_count": 2,
   "metadata": {
    "slideshow": {
     "slide_type": "skip"
    },
    "tags": []
   },
   "outputs": [],
   "source": [
    "#!jupyter nbconvert --to slides --no-input --post serve Anamoly_detection_credit_card.ipynb\n",
    "#!jupyter nbconvert --to markdown --output mymarkdownfile.md Anamoly_detection_credit_card.ipynb\n",
    "#!jupyter nbconvert --to slides --output mymarkdownfile.html Anamoly_detection_credit_card.ipynb\n",
    "#!jupyter nbconvert --to slides --post serve Anamoly_detection_credit_card.ipynb\n",
    "#!jupyter nbconvert --to slides --execute Anamoly_detection_credit_card.ipynb"
   ]
  },
  {
   "cell_type": "markdown",
   "metadata": {
    "slideshow": {
     "slide_type": "slide"
    }
   },
   "source": [
    "# What is PCA\n",
    "\n",
    "PCA (Principal Component Analysis) is a technique to find a low-dimensional representation of a dataset that captures as much variation as possible. It seeks a small number of dimensions that are interesting and informative, where each dimension is a linear combination of the original features. The first principal component is a normalized linear combination of the features that has the largest variance. It can be found through an optimization problem, and the resulting loadings and scores make up the principal component loading vector. PCA is useful when the original dataset has a large number of features, making it difficult to visualize and analyze."
   ]
  },
  {
   "cell_type": "markdown",
   "metadata": {
    "slideshow": {
     "slide_type": "slide"
    }
   },
   "source": [
    "# Introduction \n",
    "\n",
    "* In the real world, fraud often goes undiscovered, and only the fraud that is caught provides any labels for the datasets. \n",
    "\n",
    "* Moreover, fraud patterns change over time, so supervised systems that are built using fraud labels become stale, capturing historical patterns of fraud but failing to adapt to newly emerging patterns.\n",
    "\n",
    "* For these reasons (the lack of sufficient labels and the need to adapt to newly emerging patterns of fraud as quickly as possible), unsupervised learning fraud detection systems are in vogue.\n",
    "\n",
    "* In this notebook, we will build such a solution using PCA "
   ]
  },
  {
   "cell_type": "code",
   "execution_count": 3,
   "metadata": {
    "slideshow": {
     "slide_type": "skip"
    },
    "tags": []
   },
   "outputs": [
    {
     "data": {
      "text/html": [
       "<div>\n",
       "<style scoped>\n",
       "    .dataframe tbody tr th:only-of-type {\n",
       "        vertical-align: middle;\n",
       "    }\n",
       "\n",
       "    .dataframe tbody tr th {\n",
       "        vertical-align: top;\n",
       "    }\n",
       "\n",
       "    .dataframe thead th {\n",
       "        text-align: right;\n",
       "    }\n",
       "</style>\n",
       "<table border=\"1\" class=\"dataframe\">\n",
       "  <thead>\n",
       "    <tr style=\"text-align: right;\">\n",
       "      <th></th>\n",
       "      <th>Time</th>\n",
       "      <th>V1</th>\n",
       "      <th>V2</th>\n",
       "      <th>V3</th>\n",
       "      <th>V4</th>\n",
       "      <th>V5</th>\n",
       "      <th>V6</th>\n",
       "      <th>V7</th>\n",
       "      <th>V8</th>\n",
       "      <th>V9</th>\n",
       "      <th>V10</th>\n",
       "      <th>V11</th>\n",
       "      <th>V12</th>\n",
       "      <th>V13</th>\n",
       "      <th>V14</th>\n",
       "      <th>V15</th>\n",
       "      <th>V16</th>\n",
       "      <th>V17</th>\n",
       "      <th>V18</th>\n",
       "      <th>V19</th>\n",
       "      <th>V20</th>\n",
       "      <th>V21</th>\n",
       "      <th>V22</th>\n",
       "      <th>V23</th>\n",
       "      <th>V24</th>\n",
       "      <th>V25</th>\n",
       "      <th>V26</th>\n",
       "      <th>V27</th>\n",
       "      <th>V28</th>\n",
       "      <th>Amount</th>\n",
       "      <th>target</th>\n",
       "    </tr>\n",
       "  </thead>\n",
       "  <tbody>\n",
       "    <tr>\n",
       "      <th>0</th>\n",
       "      <td>0.0</td>\n",
       "      <td>-1.359807</td>\n",
       "      <td>-0.072781</td>\n",
       "      <td>2.536347</td>\n",
       "      <td>1.378155</td>\n",
       "      <td>-0.338321</td>\n",
       "      <td>0.462388</td>\n",
       "      <td>0.239599</td>\n",
       "      <td>0.098698</td>\n",
       "      <td>0.363787</td>\n",
       "      <td>0.090794</td>\n",
       "      <td>-0.551600</td>\n",
       "      <td>-0.617801</td>\n",
       "      <td>-0.991390</td>\n",
       "      <td>-0.311169</td>\n",
       "      <td>1.468177</td>\n",
       "      <td>-0.470401</td>\n",
       "      <td>0.207971</td>\n",
       "      <td>0.025791</td>\n",
       "      <td>0.403993</td>\n",
       "      <td>0.251412</td>\n",
       "      <td>-0.018307</td>\n",
       "      <td>0.277838</td>\n",
       "      <td>-0.110474</td>\n",
       "      <td>0.066928</td>\n",
       "      <td>0.128539</td>\n",
       "      <td>-0.189115</td>\n",
       "      <td>0.133558</td>\n",
       "      <td>-0.021053</td>\n",
       "      <td>149.62</td>\n",
       "      <td>0</td>\n",
       "    </tr>\n",
       "    <tr>\n",
       "      <th>1</th>\n",
       "      <td>0.0</td>\n",
       "      <td>1.191857</td>\n",
       "      <td>0.266151</td>\n",
       "      <td>0.166480</td>\n",
       "      <td>0.448154</td>\n",
       "      <td>0.060018</td>\n",
       "      <td>-0.082361</td>\n",
       "      <td>-0.078803</td>\n",
       "      <td>0.085102</td>\n",
       "      <td>-0.255425</td>\n",
       "      <td>-0.166974</td>\n",
       "      <td>1.612727</td>\n",
       "      <td>1.065235</td>\n",
       "      <td>0.489095</td>\n",
       "      <td>-0.143772</td>\n",
       "      <td>0.635558</td>\n",
       "      <td>0.463917</td>\n",
       "      <td>-0.114805</td>\n",
       "      <td>-0.183361</td>\n",
       "      <td>-0.145783</td>\n",
       "      <td>-0.069083</td>\n",
       "      <td>-0.225775</td>\n",
       "      <td>-0.638672</td>\n",
       "      <td>0.101288</td>\n",
       "      <td>-0.339846</td>\n",
       "      <td>0.167170</td>\n",
       "      <td>0.125895</td>\n",
       "      <td>-0.008983</td>\n",
       "      <td>0.014724</td>\n",
       "      <td>2.69</td>\n",
       "      <td>0</td>\n",
       "    </tr>\n",
       "    <tr>\n",
       "      <th>2</th>\n",
       "      <td>1.0</td>\n",
       "      <td>-1.358354</td>\n",
       "      <td>-1.340163</td>\n",
       "      <td>1.773209</td>\n",
       "      <td>0.379780</td>\n",
       "      <td>-0.503198</td>\n",
       "      <td>1.800499</td>\n",
       "      <td>0.791461</td>\n",
       "      <td>0.247676</td>\n",
       "      <td>-1.514654</td>\n",
       "      <td>0.207643</td>\n",
       "      <td>0.624501</td>\n",
       "      <td>0.066084</td>\n",
       "      <td>0.717293</td>\n",
       "      <td>-0.165946</td>\n",
       "      <td>2.345865</td>\n",
       "      <td>-2.890083</td>\n",
       "      <td>1.109969</td>\n",
       "      <td>-0.121359</td>\n",
       "      <td>-2.261857</td>\n",
       "      <td>0.524980</td>\n",
       "      <td>0.247998</td>\n",
       "      <td>0.771679</td>\n",
       "      <td>0.909412</td>\n",
       "      <td>-0.689281</td>\n",
       "      <td>-0.327642</td>\n",
       "      <td>-0.139097</td>\n",
       "      <td>-0.055353</td>\n",
       "      <td>-0.059752</td>\n",
       "      <td>378.66</td>\n",
       "      <td>0</td>\n",
       "    </tr>\n",
       "    <tr>\n",
       "      <th>3</th>\n",
       "      <td>1.0</td>\n",
       "      <td>-0.966272</td>\n",
       "      <td>-0.185226</td>\n",
       "      <td>1.792993</td>\n",
       "      <td>-0.863291</td>\n",
       "      <td>-0.010309</td>\n",
       "      <td>1.247203</td>\n",
       "      <td>0.237609</td>\n",
       "      <td>0.377436</td>\n",
       "      <td>-1.387024</td>\n",
       "      <td>-0.054952</td>\n",
       "      <td>-0.226487</td>\n",
       "      <td>0.178228</td>\n",
       "      <td>0.507757</td>\n",
       "      <td>-0.287924</td>\n",
       "      <td>-0.631418</td>\n",
       "      <td>-1.059647</td>\n",
       "      <td>-0.684093</td>\n",
       "      <td>1.965775</td>\n",
       "      <td>-1.232622</td>\n",
       "      <td>-0.208038</td>\n",
       "      <td>-0.108300</td>\n",
       "      <td>0.005274</td>\n",
       "      <td>-0.190321</td>\n",
       "      <td>-1.175575</td>\n",
       "      <td>0.647376</td>\n",
       "      <td>-0.221929</td>\n",
       "      <td>0.062723</td>\n",
       "      <td>0.061458</td>\n",
       "      <td>123.50</td>\n",
       "      <td>0</td>\n",
       "    </tr>\n",
       "    <tr>\n",
       "      <th>4</th>\n",
       "      <td>2.0</td>\n",
       "      <td>-1.158233</td>\n",
       "      <td>0.877737</td>\n",
       "      <td>1.548718</td>\n",
       "      <td>0.403034</td>\n",
       "      <td>-0.407193</td>\n",
       "      <td>0.095921</td>\n",
       "      <td>0.592941</td>\n",
       "      <td>-0.270533</td>\n",
       "      <td>0.817739</td>\n",
       "      <td>0.753074</td>\n",
       "      <td>-0.822843</td>\n",
       "      <td>0.538196</td>\n",
       "      <td>1.345852</td>\n",
       "      <td>-1.119670</td>\n",
       "      <td>0.175121</td>\n",
       "      <td>-0.451449</td>\n",
       "      <td>-0.237033</td>\n",
       "      <td>-0.038195</td>\n",
       "      <td>0.803487</td>\n",
       "      <td>0.408542</td>\n",
       "      <td>-0.009431</td>\n",
       "      <td>0.798278</td>\n",
       "      <td>-0.137458</td>\n",
       "      <td>0.141267</td>\n",
       "      <td>-0.206010</td>\n",
       "      <td>0.502292</td>\n",
       "      <td>0.219422</td>\n",
       "      <td>0.215153</td>\n",
       "      <td>69.99</td>\n",
       "      <td>0</td>\n",
       "    </tr>\n",
       "  </tbody>\n",
       "</table>\n",
       "</div>"
      ],
      "text/plain": [
       "   Time        V1        V2        V3        V4        V5        V6        V7  \\\n",
       "0   0.0 -1.359807 -0.072781  2.536347  1.378155 -0.338321  0.462388  0.239599   \n",
       "1   0.0  1.191857  0.266151  0.166480  0.448154  0.060018 -0.082361 -0.078803   \n",
       "2   1.0 -1.358354 -1.340163  1.773209  0.379780 -0.503198  1.800499  0.791461   \n",
       "3   1.0 -0.966272 -0.185226  1.792993 -0.863291 -0.010309  1.247203  0.237609   \n",
       "4   2.0 -1.158233  0.877737  1.548718  0.403034 -0.407193  0.095921  0.592941   \n",
       "\n",
       "         V8        V9       V10       V11       V12       V13       V14  \\\n",
       "0  0.098698  0.363787  0.090794 -0.551600 -0.617801 -0.991390 -0.311169   \n",
       "1  0.085102 -0.255425 -0.166974  1.612727  1.065235  0.489095 -0.143772   \n",
       "2  0.247676 -1.514654  0.207643  0.624501  0.066084  0.717293 -0.165946   \n",
       "3  0.377436 -1.387024 -0.054952 -0.226487  0.178228  0.507757 -0.287924   \n",
       "4 -0.270533  0.817739  0.753074 -0.822843  0.538196  1.345852 -1.119670   \n",
       "\n",
       "        V15       V16       V17       V18       V19       V20       V21  \\\n",
       "0  1.468177 -0.470401  0.207971  0.025791  0.403993  0.251412 -0.018307   \n",
       "1  0.635558  0.463917 -0.114805 -0.183361 -0.145783 -0.069083 -0.225775   \n",
       "2  2.345865 -2.890083  1.109969 -0.121359 -2.261857  0.524980  0.247998   \n",
       "3 -0.631418 -1.059647 -0.684093  1.965775 -1.232622 -0.208038 -0.108300   \n",
       "4  0.175121 -0.451449 -0.237033 -0.038195  0.803487  0.408542 -0.009431   \n",
       "\n",
       "        V22       V23       V24       V25       V26       V27       V28  \\\n",
       "0  0.277838 -0.110474  0.066928  0.128539 -0.189115  0.133558 -0.021053   \n",
       "1 -0.638672  0.101288 -0.339846  0.167170  0.125895 -0.008983  0.014724   \n",
       "2  0.771679  0.909412 -0.689281 -0.327642 -0.139097 -0.055353 -0.059752   \n",
       "3  0.005274 -0.190321 -1.175575  0.647376 -0.221929  0.062723  0.061458   \n",
       "4  0.798278 -0.137458  0.141267 -0.206010  0.502292  0.219422  0.215153   \n",
       "\n",
       "   Amount  target  \n",
       "0  149.62       0  \n",
       "1    2.69       0  \n",
       "2  378.66       0  \n",
       "3  123.50       0  \n",
       "4   69.99       0  "
      ]
     },
     "execution_count": 3,
     "metadata": {},
     "output_type": "execute_result"
    }
   ],
   "source": [
    "# load dataset\n",
    "df = pd.read_csv('/Users/waleedidrees/Dropbox/Python_Projects/books/handson-unsupervised-learning-master/datasets/credit_card_data/credit_card.csv').rename(columns= {\"Class\":\"target\"})\n",
    "df.head()"
   ]
  },
  {
   "cell_type": "code",
   "execution_count": 4,
   "metadata": {
    "tags": []
   },
   "outputs": [
    {
     "data": {
      "text/html": [
       "<div>\n",
       "<style scoped>\n",
       "    .dataframe tbody tr th:only-of-type {\n",
       "        vertical-align: middle;\n",
       "    }\n",
       "\n",
       "    .dataframe tbody tr th {\n",
       "        vertical-align: top;\n",
       "    }\n",
       "\n",
       "    .dataframe thead th {\n",
       "        text-align: right;\n",
       "    }\n",
       "</style>\n",
       "<table border=\"1\" class=\"dataframe\">\n",
       "  <thead>\n",
       "    <tr style=\"text-align: right;\">\n",
       "      <th></th>\n",
       "      <th>time</th>\n",
       "      <th>v1</th>\n",
       "      <th>v2</th>\n",
       "      <th>v3</th>\n",
       "      <th>v4</th>\n",
       "      <th>v5</th>\n",
       "      <th>v6</th>\n",
       "      <th>v7</th>\n",
       "      <th>v8</th>\n",
       "      <th>v9</th>\n",
       "      <th>v10</th>\n",
       "      <th>v11</th>\n",
       "      <th>v12</th>\n",
       "      <th>v13</th>\n",
       "      <th>v14</th>\n",
       "      <th>v15</th>\n",
       "      <th>v16</th>\n",
       "      <th>v17</th>\n",
       "      <th>v18</th>\n",
       "      <th>v19</th>\n",
       "      <th>v20</th>\n",
       "      <th>v21</th>\n",
       "      <th>v22</th>\n",
       "      <th>v23</th>\n",
       "      <th>v24</th>\n",
       "      <th>v25</th>\n",
       "      <th>v26</th>\n",
       "      <th>v27</th>\n",
       "      <th>v28</th>\n",
       "      <th>amount</th>\n",
       "      <th>target</th>\n",
       "    </tr>\n",
       "  </thead>\n",
       "  <tbody>\n",
       "    <tr>\n",
       "      <th>0</th>\n",
       "      <td>0.0</td>\n",
       "      <td>-1.359807</td>\n",
       "      <td>-0.072781</td>\n",
       "      <td>2.536347</td>\n",
       "      <td>1.378155</td>\n",
       "      <td>-0.338321</td>\n",
       "      <td>0.462388</td>\n",
       "      <td>0.239599</td>\n",
       "      <td>0.098698</td>\n",
       "      <td>0.363787</td>\n",
       "      <td>0.090794</td>\n",
       "      <td>-0.551600</td>\n",
       "      <td>-0.617801</td>\n",
       "      <td>-0.991390</td>\n",
       "      <td>-0.311169</td>\n",
       "      <td>1.468177</td>\n",
       "      <td>-0.470401</td>\n",
       "      <td>0.207971</td>\n",
       "      <td>0.025791</td>\n",
       "      <td>0.403993</td>\n",
       "      <td>0.251412</td>\n",
       "      <td>-0.018307</td>\n",
       "      <td>0.277838</td>\n",
       "      <td>-0.110474</td>\n",
       "      <td>0.066928</td>\n",
       "      <td>0.128539</td>\n",
       "      <td>-0.189115</td>\n",
       "      <td>0.133558</td>\n",
       "      <td>-0.021053</td>\n",
       "      <td>149.62</td>\n",
       "      <td>0</td>\n",
       "    </tr>\n",
       "    <tr>\n",
       "      <th>1</th>\n",
       "      <td>0.0</td>\n",
       "      <td>1.191857</td>\n",
       "      <td>0.266151</td>\n",
       "      <td>0.166480</td>\n",
       "      <td>0.448154</td>\n",
       "      <td>0.060018</td>\n",
       "      <td>-0.082361</td>\n",
       "      <td>-0.078803</td>\n",
       "      <td>0.085102</td>\n",
       "      <td>-0.255425</td>\n",
       "      <td>-0.166974</td>\n",
       "      <td>1.612727</td>\n",
       "      <td>1.065235</td>\n",
       "      <td>0.489095</td>\n",
       "      <td>-0.143772</td>\n",
       "      <td>0.635558</td>\n",
       "      <td>0.463917</td>\n",
       "      <td>-0.114805</td>\n",
       "      <td>-0.183361</td>\n",
       "      <td>-0.145783</td>\n",
       "      <td>-0.069083</td>\n",
       "      <td>-0.225775</td>\n",
       "      <td>-0.638672</td>\n",
       "      <td>0.101288</td>\n",
       "      <td>-0.339846</td>\n",
       "      <td>0.167170</td>\n",
       "      <td>0.125895</td>\n",
       "      <td>-0.008983</td>\n",
       "      <td>0.014724</td>\n",
       "      <td>2.69</td>\n",
       "      <td>0</td>\n",
       "    </tr>\n",
       "    <tr>\n",
       "      <th>2</th>\n",
       "      <td>1.0</td>\n",
       "      <td>-1.358354</td>\n",
       "      <td>-1.340163</td>\n",
       "      <td>1.773209</td>\n",
       "      <td>0.379780</td>\n",
       "      <td>-0.503198</td>\n",
       "      <td>1.800499</td>\n",
       "      <td>0.791461</td>\n",
       "      <td>0.247676</td>\n",
       "      <td>-1.514654</td>\n",
       "      <td>0.207643</td>\n",
       "      <td>0.624501</td>\n",
       "      <td>0.066084</td>\n",
       "      <td>0.717293</td>\n",
       "      <td>-0.165946</td>\n",
       "      <td>2.345865</td>\n",
       "      <td>-2.890083</td>\n",
       "      <td>1.109969</td>\n",
       "      <td>-0.121359</td>\n",
       "      <td>-2.261857</td>\n",
       "      <td>0.524980</td>\n",
       "      <td>0.247998</td>\n",
       "      <td>0.771679</td>\n",
       "      <td>0.909412</td>\n",
       "      <td>-0.689281</td>\n",
       "      <td>-0.327642</td>\n",
       "      <td>-0.139097</td>\n",
       "      <td>-0.055353</td>\n",
       "      <td>-0.059752</td>\n",
       "      <td>378.66</td>\n",
       "      <td>0</td>\n",
       "    </tr>\n",
       "    <tr>\n",
       "      <th>3</th>\n",
       "      <td>1.0</td>\n",
       "      <td>-0.966272</td>\n",
       "      <td>-0.185226</td>\n",
       "      <td>1.792993</td>\n",
       "      <td>-0.863291</td>\n",
       "      <td>-0.010309</td>\n",
       "      <td>1.247203</td>\n",
       "      <td>0.237609</td>\n",
       "      <td>0.377436</td>\n",
       "      <td>-1.387024</td>\n",
       "      <td>-0.054952</td>\n",
       "      <td>-0.226487</td>\n",
       "      <td>0.178228</td>\n",
       "      <td>0.507757</td>\n",
       "      <td>-0.287924</td>\n",
       "      <td>-0.631418</td>\n",
       "      <td>-1.059647</td>\n",
       "      <td>-0.684093</td>\n",
       "      <td>1.965775</td>\n",
       "      <td>-1.232622</td>\n",
       "      <td>-0.208038</td>\n",
       "      <td>-0.108300</td>\n",
       "      <td>0.005274</td>\n",
       "      <td>-0.190321</td>\n",
       "      <td>-1.175575</td>\n",
       "      <td>0.647376</td>\n",
       "      <td>-0.221929</td>\n",
       "      <td>0.062723</td>\n",
       "      <td>0.061458</td>\n",
       "      <td>123.50</td>\n",
       "      <td>0</td>\n",
       "    </tr>\n",
       "    <tr>\n",
       "      <th>4</th>\n",
       "      <td>2.0</td>\n",
       "      <td>-1.158233</td>\n",
       "      <td>0.877737</td>\n",
       "      <td>1.548718</td>\n",
       "      <td>0.403034</td>\n",
       "      <td>-0.407193</td>\n",
       "      <td>0.095921</td>\n",
       "      <td>0.592941</td>\n",
       "      <td>-0.270533</td>\n",
       "      <td>0.817739</td>\n",
       "      <td>0.753074</td>\n",
       "      <td>-0.822843</td>\n",
       "      <td>0.538196</td>\n",
       "      <td>1.345852</td>\n",
       "      <td>-1.119670</td>\n",
       "      <td>0.175121</td>\n",
       "      <td>-0.451449</td>\n",
       "      <td>-0.237033</td>\n",
       "      <td>-0.038195</td>\n",
       "      <td>0.803487</td>\n",
       "      <td>0.408542</td>\n",
       "      <td>-0.009431</td>\n",
       "      <td>0.798278</td>\n",
       "      <td>-0.137458</td>\n",
       "      <td>0.141267</td>\n",
       "      <td>-0.206010</td>\n",
       "      <td>0.502292</td>\n",
       "      <td>0.219422</td>\n",
       "      <td>0.215153</td>\n",
       "      <td>69.99</td>\n",
       "      <td>0</td>\n",
       "    </tr>\n",
       "  </tbody>\n",
       "</table>\n",
       "</div>"
      ],
      "text/plain": [
       "   time        v1        v2        v3        v4        v5        v6        v7  \\\n",
       "0   0.0 -1.359807 -0.072781  2.536347  1.378155 -0.338321  0.462388  0.239599   \n",
       "1   0.0  1.191857  0.266151  0.166480  0.448154  0.060018 -0.082361 -0.078803   \n",
       "2   1.0 -1.358354 -1.340163  1.773209  0.379780 -0.503198  1.800499  0.791461   \n",
       "3   1.0 -0.966272 -0.185226  1.792993 -0.863291 -0.010309  1.247203  0.237609   \n",
       "4   2.0 -1.158233  0.877737  1.548718  0.403034 -0.407193  0.095921  0.592941   \n",
       "\n",
       "         v8        v9       v10       v11       v12       v13       v14  \\\n",
       "0  0.098698  0.363787  0.090794 -0.551600 -0.617801 -0.991390 -0.311169   \n",
       "1  0.085102 -0.255425 -0.166974  1.612727  1.065235  0.489095 -0.143772   \n",
       "2  0.247676 -1.514654  0.207643  0.624501  0.066084  0.717293 -0.165946   \n",
       "3  0.377436 -1.387024 -0.054952 -0.226487  0.178228  0.507757 -0.287924   \n",
       "4 -0.270533  0.817739  0.753074 -0.822843  0.538196  1.345852 -1.119670   \n",
       "\n",
       "        v15       v16       v17       v18       v19       v20       v21  \\\n",
       "0  1.468177 -0.470401  0.207971  0.025791  0.403993  0.251412 -0.018307   \n",
       "1  0.635558  0.463917 -0.114805 -0.183361 -0.145783 -0.069083 -0.225775   \n",
       "2  2.345865 -2.890083  1.109969 -0.121359 -2.261857  0.524980  0.247998   \n",
       "3 -0.631418 -1.059647 -0.684093  1.965775 -1.232622 -0.208038 -0.108300   \n",
       "4  0.175121 -0.451449 -0.237033 -0.038195  0.803487  0.408542 -0.009431   \n",
       "\n",
       "        v22       v23       v24       v25       v26       v27       v28  \\\n",
       "0  0.277838 -0.110474  0.066928  0.128539 -0.189115  0.133558 -0.021053   \n",
       "1 -0.638672  0.101288 -0.339846  0.167170  0.125895 -0.008983  0.014724   \n",
       "2  0.771679  0.909412 -0.689281 -0.327642 -0.139097 -0.055353 -0.059752   \n",
       "3  0.005274 -0.190321 -1.175575  0.647376 -0.221929  0.062723  0.061458   \n",
       "4  0.798278 -0.137458  0.141267 -0.206010  0.502292  0.219422  0.215153   \n",
       "\n",
       "   amount  target  \n",
       "0  149.62       0  \n",
       "1    2.69       0  \n",
       "2  378.66       0  \n",
       "3  123.50       0  \n",
       "4   69.99       0  "
      ]
     },
     "execution_count": 4,
     "metadata": {},
     "output_type": "execute_result"
    }
   ],
   "source": [
    "df.columns= df.columns.str.lower()\n",
    "df.head()"
   ]
  },
  {
   "cell_type": "markdown",
   "metadata": {},
   "source": [
    "# Disable the warnings"
   ]
  },
  {
   "cell_type": "code",
   "execution_count": 5,
   "metadata": {
    "slideshow": {
     "slide_type": "skip"
    },
    "tags": []
   },
   "outputs": [],
   "source": [
    "import warnings\n",
    "warnings.filterwarnings('ignore')"
   ]
  },
  {
   "cell_type": "code",
   "execution_count": 6,
   "metadata": {
    "slideshow": {
     "slide_type": "slide"
    },
    "tags": []
   },
   "outputs": [
    {
     "data": {
      "text/html": [
       "<div>\n",
       "<style scoped>\n",
       "    .dataframe tbody tr th:only-of-type {\n",
       "        vertical-align: middle;\n",
       "    }\n",
       "\n",
       "    .dataframe tbody tr th {\n",
       "        vertical-align: top;\n",
       "    }\n",
       "\n",
       "    .dataframe thead th {\n",
       "        text-align: right;\n",
       "    }\n",
       "</style>\n",
       "<table border=\"1\" class=\"dataframe\">\n",
       "  <thead>\n",
       "    <tr style=\"text-align: right;\">\n",
       "      <th></th>\n",
       "      <th>count</th>\n",
       "      <th>mean</th>\n",
       "      <th>std</th>\n",
       "      <th>min</th>\n",
       "      <th>25%</th>\n",
       "      <th>50%</th>\n",
       "      <th>75%</th>\n",
       "      <th>max</th>\n",
       "    </tr>\n",
       "  </thead>\n",
       "  <tbody>\n",
       "    <tr>\n",
       "      <th>time</th>\n",
       "      <td>284807.0</td>\n",
       "      <td>9.481386e+04</td>\n",
       "      <td>47488.145955</td>\n",
       "      <td>0.000000</td>\n",
       "      <td>54201.500000</td>\n",
       "      <td>84692.000000</td>\n",
       "      <td>139320.500000</td>\n",
       "      <td>172792.000000</td>\n",
       "    </tr>\n",
       "    <tr>\n",
       "      <th>v1</th>\n",
       "      <td>284807.0</td>\n",
       "      <td>1.168375e-15</td>\n",
       "      <td>1.958696</td>\n",
       "      <td>-56.407510</td>\n",
       "      <td>-0.920373</td>\n",
       "      <td>0.018109</td>\n",
       "      <td>1.315642</td>\n",
       "      <td>2.454930</td>\n",
       "    </tr>\n",
       "    <tr>\n",
       "      <th>v2</th>\n",
       "      <td>284807.0</td>\n",
       "      <td>3.416908e-16</td>\n",
       "      <td>1.651309</td>\n",
       "      <td>-72.715728</td>\n",
       "      <td>-0.598550</td>\n",
       "      <td>0.065486</td>\n",
       "      <td>0.803724</td>\n",
       "      <td>22.057729</td>\n",
       "    </tr>\n",
       "    <tr>\n",
       "      <th>v3</th>\n",
       "      <td>284807.0</td>\n",
       "      <td>-1.379537e-15</td>\n",
       "      <td>1.516255</td>\n",
       "      <td>-48.325589</td>\n",
       "      <td>-0.890365</td>\n",
       "      <td>0.179846</td>\n",
       "      <td>1.027196</td>\n",
       "      <td>9.382558</td>\n",
       "    </tr>\n",
       "    <tr>\n",
       "      <th>v4</th>\n",
       "      <td>284807.0</td>\n",
       "      <td>2.074095e-15</td>\n",
       "      <td>1.415869</td>\n",
       "      <td>-5.683171</td>\n",
       "      <td>-0.848640</td>\n",
       "      <td>-0.019847</td>\n",
       "      <td>0.743341</td>\n",
       "      <td>16.875344</td>\n",
       "    </tr>\n",
       "    <tr>\n",
       "      <th>v5</th>\n",
       "      <td>284807.0</td>\n",
       "      <td>9.604066e-16</td>\n",
       "      <td>1.380247</td>\n",
       "      <td>-113.743307</td>\n",
       "      <td>-0.691597</td>\n",
       "      <td>-0.054336</td>\n",
       "      <td>0.611926</td>\n",
       "      <td>34.801666</td>\n",
       "    </tr>\n",
       "    <tr>\n",
       "      <th>v6</th>\n",
       "      <td>284807.0</td>\n",
       "      <td>1.487313e-15</td>\n",
       "      <td>1.332271</td>\n",
       "      <td>-26.160506</td>\n",
       "      <td>-0.768296</td>\n",
       "      <td>-0.274187</td>\n",
       "      <td>0.398565</td>\n",
       "      <td>73.301626</td>\n",
       "    </tr>\n",
       "    <tr>\n",
       "      <th>v7</th>\n",
       "      <td>284807.0</td>\n",
       "      <td>-5.556467e-16</td>\n",
       "      <td>1.237094</td>\n",
       "      <td>-43.557242</td>\n",
       "      <td>-0.554076</td>\n",
       "      <td>0.040103</td>\n",
       "      <td>0.570436</td>\n",
       "      <td>120.589494</td>\n",
       "    </tr>\n",
       "    <tr>\n",
       "      <th>v8</th>\n",
       "      <td>284807.0</td>\n",
       "      <td>1.213481e-16</td>\n",
       "      <td>1.194353</td>\n",
       "      <td>-73.216718</td>\n",
       "      <td>-0.208630</td>\n",
       "      <td>0.022358</td>\n",
       "      <td>0.327346</td>\n",
       "      <td>20.007208</td>\n",
       "    </tr>\n",
       "    <tr>\n",
       "      <th>v9</th>\n",
       "      <td>284807.0</td>\n",
       "      <td>-2.406331e-15</td>\n",
       "      <td>1.098632</td>\n",
       "      <td>-13.434066</td>\n",
       "      <td>-0.643098</td>\n",
       "      <td>-0.051429</td>\n",
       "      <td>0.597139</td>\n",
       "      <td>15.594995</td>\n",
       "    </tr>\n",
       "    <tr>\n",
       "      <th>v10</th>\n",
       "      <td>284807.0</td>\n",
       "      <td>2.239053e-15</td>\n",
       "      <td>1.088850</td>\n",
       "      <td>-24.588262</td>\n",
       "      <td>-0.535426</td>\n",
       "      <td>-0.092917</td>\n",
       "      <td>0.453923</td>\n",
       "      <td>23.745136</td>\n",
       "    </tr>\n",
       "    <tr>\n",
       "      <th>v11</th>\n",
       "      <td>284807.0</td>\n",
       "      <td>1.673327e-15</td>\n",
       "      <td>1.020713</td>\n",
       "      <td>-4.797473</td>\n",
       "      <td>-0.762494</td>\n",
       "      <td>-0.032757</td>\n",
       "      <td>0.739593</td>\n",
       "      <td>12.018913</td>\n",
       "    </tr>\n",
       "    <tr>\n",
       "      <th>v12</th>\n",
       "      <td>284807.0</td>\n",
       "      <td>-1.247012e-15</td>\n",
       "      <td>0.999201</td>\n",
       "      <td>-18.683715</td>\n",
       "      <td>-0.405571</td>\n",
       "      <td>0.140033</td>\n",
       "      <td>0.618238</td>\n",
       "      <td>7.848392</td>\n",
       "    </tr>\n",
       "    <tr>\n",
       "      <th>v13</th>\n",
       "      <td>284807.0</td>\n",
       "      <td>8.190001e-16</td>\n",
       "      <td>0.995274</td>\n",
       "      <td>-5.791881</td>\n",
       "      <td>-0.648539</td>\n",
       "      <td>-0.013568</td>\n",
       "      <td>0.662505</td>\n",
       "      <td>7.126883</td>\n",
       "    </tr>\n",
       "    <tr>\n",
       "      <th>v14</th>\n",
       "      <td>284807.0</td>\n",
       "      <td>1.207294e-15</td>\n",
       "      <td>0.958596</td>\n",
       "      <td>-19.214325</td>\n",
       "      <td>-0.425574</td>\n",
       "      <td>0.050601</td>\n",
       "      <td>0.493150</td>\n",
       "      <td>10.526766</td>\n",
       "    </tr>\n",
       "    <tr>\n",
       "      <th>v15</th>\n",
       "      <td>284807.0</td>\n",
       "      <td>4.887456e-15</td>\n",
       "      <td>0.915316</td>\n",
       "      <td>-4.498945</td>\n",
       "      <td>-0.582884</td>\n",
       "      <td>0.048072</td>\n",
       "      <td>0.648821</td>\n",
       "      <td>8.877742</td>\n",
       "    </tr>\n",
       "    <tr>\n",
       "      <th>v16</th>\n",
       "      <td>284807.0</td>\n",
       "      <td>1.437716e-15</td>\n",
       "      <td>0.876253</td>\n",
       "      <td>-14.129855</td>\n",
       "      <td>-0.468037</td>\n",
       "      <td>0.066413</td>\n",
       "      <td>0.523296</td>\n",
       "      <td>17.315112</td>\n",
       "    </tr>\n",
       "    <tr>\n",
       "      <th>v17</th>\n",
       "      <td>284807.0</td>\n",
       "      <td>-3.772171e-16</td>\n",
       "      <td>0.849337</td>\n",
       "      <td>-25.162799</td>\n",
       "      <td>-0.483748</td>\n",
       "      <td>-0.065676</td>\n",
       "      <td>0.399675</td>\n",
       "      <td>9.253526</td>\n",
       "    </tr>\n",
       "    <tr>\n",
       "      <th>v18</th>\n",
       "      <td>284807.0</td>\n",
       "      <td>9.564149e-16</td>\n",
       "      <td>0.838176</td>\n",
       "      <td>-9.498746</td>\n",
       "      <td>-0.498850</td>\n",
       "      <td>-0.003636</td>\n",
       "      <td>0.500807</td>\n",
       "      <td>5.041069</td>\n",
       "    </tr>\n",
       "    <tr>\n",
       "      <th>v19</th>\n",
       "      <td>284807.0</td>\n",
       "      <td>1.039917e-15</td>\n",
       "      <td>0.814041</td>\n",
       "      <td>-7.213527</td>\n",
       "      <td>-0.456299</td>\n",
       "      <td>0.003735</td>\n",
       "      <td>0.458949</td>\n",
       "      <td>5.591971</td>\n",
       "    </tr>\n",
       "    <tr>\n",
       "      <th>v20</th>\n",
       "      <td>284807.0</td>\n",
       "      <td>6.406204e-16</td>\n",
       "      <td>0.770925</td>\n",
       "      <td>-54.497720</td>\n",
       "      <td>-0.211721</td>\n",
       "      <td>-0.062481</td>\n",
       "      <td>0.133041</td>\n",
       "      <td>39.420904</td>\n",
       "    </tr>\n",
       "    <tr>\n",
       "      <th>v21</th>\n",
       "      <td>284807.0</td>\n",
       "      <td>1.654067e-16</td>\n",
       "      <td>0.734524</td>\n",
       "      <td>-34.830382</td>\n",
       "      <td>-0.228395</td>\n",
       "      <td>-0.029450</td>\n",
       "      <td>0.186377</td>\n",
       "      <td>27.202839</td>\n",
       "    </tr>\n",
       "    <tr>\n",
       "      <th>v22</th>\n",
       "      <td>284807.0</td>\n",
       "      <td>-3.568593e-16</td>\n",
       "      <td>0.725702</td>\n",
       "      <td>-10.933144</td>\n",
       "      <td>-0.542350</td>\n",
       "      <td>0.006782</td>\n",
       "      <td>0.528554</td>\n",
       "      <td>10.503090</td>\n",
       "    </tr>\n",
       "    <tr>\n",
       "      <th>v23</th>\n",
       "      <td>284807.0</td>\n",
       "      <td>2.578648e-16</td>\n",
       "      <td>0.624460</td>\n",
       "      <td>-44.807735</td>\n",
       "      <td>-0.161846</td>\n",
       "      <td>-0.011193</td>\n",
       "      <td>0.147642</td>\n",
       "      <td>22.528412</td>\n",
       "    </tr>\n",
       "    <tr>\n",
       "      <th>v24</th>\n",
       "      <td>284807.0</td>\n",
       "      <td>4.473266e-15</td>\n",
       "      <td>0.605647</td>\n",
       "      <td>-2.836627</td>\n",
       "      <td>-0.354586</td>\n",
       "      <td>0.040976</td>\n",
       "      <td>0.439527</td>\n",
       "      <td>4.584549</td>\n",
       "    </tr>\n",
       "    <tr>\n",
       "      <th>v25</th>\n",
       "      <td>284807.0</td>\n",
       "      <td>5.340915e-16</td>\n",
       "      <td>0.521278</td>\n",
       "      <td>-10.295397</td>\n",
       "      <td>-0.317145</td>\n",
       "      <td>0.016594</td>\n",
       "      <td>0.350716</td>\n",
       "      <td>7.519589</td>\n",
       "    </tr>\n",
       "    <tr>\n",
       "      <th>v26</th>\n",
       "      <td>284807.0</td>\n",
       "      <td>1.683437e-15</td>\n",
       "      <td>0.482227</td>\n",
       "      <td>-2.604551</td>\n",
       "      <td>-0.326984</td>\n",
       "      <td>-0.052139</td>\n",
       "      <td>0.240952</td>\n",
       "      <td>3.517346</td>\n",
       "    </tr>\n",
       "    <tr>\n",
       "      <th>v27</th>\n",
       "      <td>284807.0</td>\n",
       "      <td>-3.660091e-16</td>\n",
       "      <td>0.403632</td>\n",
       "      <td>-22.565679</td>\n",
       "      <td>-0.070840</td>\n",
       "      <td>0.001342</td>\n",
       "      <td>0.091045</td>\n",
       "      <td>31.612198</td>\n",
       "    </tr>\n",
       "    <tr>\n",
       "      <th>v28</th>\n",
       "      <td>284807.0</td>\n",
       "      <td>-1.227390e-16</td>\n",
       "      <td>0.330083</td>\n",
       "      <td>-15.430084</td>\n",
       "      <td>-0.052960</td>\n",
       "      <td>0.011244</td>\n",
       "      <td>0.078280</td>\n",
       "      <td>33.847808</td>\n",
       "    </tr>\n",
       "    <tr>\n",
       "      <th>amount</th>\n",
       "      <td>284807.0</td>\n",
       "      <td>8.834962e+01</td>\n",
       "      <td>250.120109</td>\n",
       "      <td>0.000000</td>\n",
       "      <td>5.600000</td>\n",
       "      <td>22.000000</td>\n",
       "      <td>77.165000</td>\n",
       "      <td>25691.160000</td>\n",
       "    </tr>\n",
       "    <tr>\n",
       "      <th>target</th>\n",
       "      <td>284807.0</td>\n",
       "      <td>1.727486e-03</td>\n",
       "      <td>0.041527</td>\n",
       "      <td>0.000000</td>\n",
       "      <td>0.000000</td>\n",
       "      <td>0.000000</td>\n",
       "      <td>0.000000</td>\n",
       "      <td>1.000000</td>\n",
       "    </tr>\n",
       "  </tbody>\n",
       "</table>\n",
       "</div>"
      ],
      "text/plain": [
       "           count          mean           std         min           25%  \\\n",
       "time    284807.0  9.481386e+04  47488.145955    0.000000  54201.500000   \n",
       "v1      284807.0  1.168375e-15      1.958696  -56.407510     -0.920373   \n",
       "v2      284807.0  3.416908e-16      1.651309  -72.715728     -0.598550   \n",
       "v3      284807.0 -1.379537e-15      1.516255  -48.325589     -0.890365   \n",
       "v4      284807.0  2.074095e-15      1.415869   -5.683171     -0.848640   \n",
       "v5      284807.0  9.604066e-16      1.380247 -113.743307     -0.691597   \n",
       "v6      284807.0  1.487313e-15      1.332271  -26.160506     -0.768296   \n",
       "v7      284807.0 -5.556467e-16      1.237094  -43.557242     -0.554076   \n",
       "v8      284807.0  1.213481e-16      1.194353  -73.216718     -0.208630   \n",
       "v9      284807.0 -2.406331e-15      1.098632  -13.434066     -0.643098   \n",
       "v10     284807.0  2.239053e-15      1.088850  -24.588262     -0.535426   \n",
       "v11     284807.0  1.673327e-15      1.020713   -4.797473     -0.762494   \n",
       "v12     284807.0 -1.247012e-15      0.999201  -18.683715     -0.405571   \n",
       "v13     284807.0  8.190001e-16      0.995274   -5.791881     -0.648539   \n",
       "v14     284807.0  1.207294e-15      0.958596  -19.214325     -0.425574   \n",
       "v15     284807.0  4.887456e-15      0.915316   -4.498945     -0.582884   \n",
       "v16     284807.0  1.437716e-15      0.876253  -14.129855     -0.468037   \n",
       "v17     284807.0 -3.772171e-16      0.849337  -25.162799     -0.483748   \n",
       "v18     284807.0  9.564149e-16      0.838176   -9.498746     -0.498850   \n",
       "v19     284807.0  1.039917e-15      0.814041   -7.213527     -0.456299   \n",
       "v20     284807.0  6.406204e-16      0.770925  -54.497720     -0.211721   \n",
       "v21     284807.0  1.654067e-16      0.734524  -34.830382     -0.228395   \n",
       "v22     284807.0 -3.568593e-16      0.725702  -10.933144     -0.542350   \n",
       "v23     284807.0  2.578648e-16      0.624460  -44.807735     -0.161846   \n",
       "v24     284807.0  4.473266e-15      0.605647   -2.836627     -0.354586   \n",
       "v25     284807.0  5.340915e-16      0.521278  -10.295397     -0.317145   \n",
       "v26     284807.0  1.683437e-15      0.482227   -2.604551     -0.326984   \n",
       "v27     284807.0 -3.660091e-16      0.403632  -22.565679     -0.070840   \n",
       "v28     284807.0 -1.227390e-16      0.330083  -15.430084     -0.052960   \n",
       "amount  284807.0  8.834962e+01    250.120109    0.000000      5.600000   \n",
       "target  284807.0  1.727486e-03      0.041527    0.000000      0.000000   \n",
       "\n",
       "                 50%            75%            max  \n",
       "time    84692.000000  139320.500000  172792.000000  \n",
       "v1          0.018109       1.315642       2.454930  \n",
       "v2          0.065486       0.803724      22.057729  \n",
       "v3          0.179846       1.027196       9.382558  \n",
       "v4         -0.019847       0.743341      16.875344  \n",
       "v5         -0.054336       0.611926      34.801666  \n",
       "v6         -0.274187       0.398565      73.301626  \n",
       "v7          0.040103       0.570436     120.589494  \n",
       "v8          0.022358       0.327346      20.007208  \n",
       "v9         -0.051429       0.597139      15.594995  \n",
       "v10        -0.092917       0.453923      23.745136  \n",
       "v11        -0.032757       0.739593      12.018913  \n",
       "v12         0.140033       0.618238       7.848392  \n",
       "v13        -0.013568       0.662505       7.126883  \n",
       "v14         0.050601       0.493150      10.526766  \n",
       "v15         0.048072       0.648821       8.877742  \n",
       "v16         0.066413       0.523296      17.315112  \n",
       "v17        -0.065676       0.399675       9.253526  \n",
       "v18        -0.003636       0.500807       5.041069  \n",
       "v19         0.003735       0.458949       5.591971  \n",
       "v20        -0.062481       0.133041      39.420904  \n",
       "v21        -0.029450       0.186377      27.202839  \n",
       "v22         0.006782       0.528554      10.503090  \n",
       "v23        -0.011193       0.147642      22.528412  \n",
       "v24         0.040976       0.439527       4.584549  \n",
       "v25         0.016594       0.350716       7.519589  \n",
       "v26        -0.052139       0.240952       3.517346  \n",
       "v27         0.001342       0.091045      31.612198  \n",
       "v28         0.011244       0.078280      33.847808  \n",
       "amount     22.000000      77.165000   25691.160000  \n",
       "target      0.000000       0.000000       1.000000  "
      ]
     },
     "execution_count": 6,
     "metadata": {},
     "output_type": "execute_result"
    }
   ],
   "source": [
    "df.describe().T"
   ]
  },
  {
   "cell_type": "markdown",
   "metadata": {},
   "source": [
    "## we see that fraudulent transactions are very rare and this makes the data very imbalanced"
   ]
  },
  {
   "cell_type": "code",
   "execution_count": 7,
   "metadata": {
    "slideshow": {
     "slide_type": "slide"
    },
    "tags": []
   },
   "outputs": [
    {
     "data": {
      "text/html": [
       "<div>\n",
       "<style scoped>\n",
       "    .dataframe tbody tr th:only-of-type {\n",
       "        vertical-align: middle;\n",
       "    }\n",
       "\n",
       "    .dataframe tbody tr th {\n",
       "        vertical-align: top;\n",
       "    }\n",
       "\n",
       "    .dataframe thead th {\n",
       "        text-align: right;\n",
       "    }\n",
       "</style>\n",
       "<table border=\"1\" class=\"dataframe\">\n",
       "  <thead>\n",
       "    <tr style=\"text-align: right;\">\n",
       "      <th></th>\n",
       "      <th>index</th>\n",
       "      <th>target</th>\n",
       "    </tr>\n",
       "  </thead>\n",
       "  <tbody>\n",
       "    <tr>\n",
       "      <th>0</th>\n",
       "      <td>0</td>\n",
       "      <td>284315</td>\n",
       "    </tr>\n",
       "    <tr>\n",
       "      <th>1</th>\n",
       "      <td>1</td>\n",
       "      <td>492</td>\n",
       "    </tr>\n",
       "  </tbody>\n",
       "</table>\n",
       "</div>"
      ],
      "text/plain": [
       "   index  target\n",
       "0      0  284315\n",
       "1      1     492"
      ]
     },
     "execution_count": 7,
     "metadata": {},
     "output_type": "execute_result"
    }
   ],
   "source": [
    "df[\"target\"].value_counts().reset_index()"
   ]
  },
  {
   "cell_type": "markdown",
   "metadata": {
    "slideshow": {
     "slide_type": "subslide"
    }
   },
   "source": [
    "we have 284,807 credit card transactions in total, of which 492 are fraudulent, with a positive (fraud) label of one. The rest are normal transactions, with a negative (not fraud) label of zero.\n",
    "We have 30 features to use for anomaly detection—time, amount, and 28 principal components. And, we will split the dataset into a training set (with 190,820 transactions and 330 cases of fraud) and a test set\n",
    "(with the remaining 93,987 transactions and 162 cases of fraud)"
   ]
  },
  {
   "cell_type": "code",
   "execution_count": 8,
   "metadata": {
    "slideshow": {
     "slide_type": "slide"
    },
    "tags": []
   },
   "outputs": [
    {
     "data": {
      "application/vnd.plotly.v1+json": {
       "config": {
        "plotlyServerURL": "https://plot.ly"
       },
       "data": [
        {
         "alignmentgroup": "True",
         "hovertemplate": "index=%{marker.color}<br>target=%{y}<extra></extra>",
         "legendgroup": "",
         "marker": {
          "color": [
           0,
           1
          ],
          "coloraxis": "coloraxis",
          "pattern": {
           "shape": ""
          }
         },
         "name": "",
         "offsetgroup": "",
         "orientation": "v",
         "showlegend": false,
         "textposition": "auto",
         "type": "bar",
         "x": [
          0,
          1
         ],
         "xaxis": "x",
         "y": [
          284315,
          492
         ],
         "yaxis": "y"
        }
       ],
       "layout": {
        "barmode": "relative",
        "coloraxis": {
         "colorbar": {
          "title": {
           "text": "index"
          }
         },
         "colorscale": [
          [
           0,
           "#0d0887"
          ],
          [
           0.1111111111111111,
           "#46039f"
          ],
          [
           0.2222222222222222,
           "#7201a8"
          ],
          [
           0.3333333333333333,
           "#9c179e"
          ],
          [
           0.4444444444444444,
           "#bd3786"
          ],
          [
           0.5555555555555556,
           "#d8576b"
          ],
          [
           0.6666666666666666,
           "#ed7953"
          ],
          [
           0.7777777777777778,
           "#fb9f3a"
          ],
          [
           0.8888888888888888,
           "#fdca26"
          ],
          [
           1,
           "#f0f921"
          ]
         ]
        },
        "height": 800,
        "legend": {
         "tracegroupgap": 0
        },
        "margin": {
         "t": 60
        },
        "template": {
         "data": {
          "bar": [
           {
            "error_x": {
             "color": "#2a3f5f"
            },
            "error_y": {
             "color": "#2a3f5f"
            },
            "marker": {
             "line": {
              "color": "#E5ECF6",
              "width": 0.5
             },
             "pattern": {
              "fillmode": "overlay",
              "size": 10,
              "solidity": 0.2
             }
            },
            "type": "bar"
           }
          ],
          "barpolar": [
           {
            "marker": {
             "line": {
              "color": "#E5ECF6",
              "width": 0.5
             },
             "pattern": {
              "fillmode": "overlay",
              "size": 10,
              "solidity": 0.2
             }
            },
            "type": "barpolar"
           }
          ],
          "carpet": [
           {
            "aaxis": {
             "endlinecolor": "#2a3f5f",
             "gridcolor": "white",
             "linecolor": "white",
             "minorgridcolor": "white",
             "startlinecolor": "#2a3f5f"
            },
            "baxis": {
             "endlinecolor": "#2a3f5f",
             "gridcolor": "white",
             "linecolor": "white",
             "minorgridcolor": "white",
             "startlinecolor": "#2a3f5f"
            },
            "type": "carpet"
           }
          ],
          "choropleth": [
           {
            "colorbar": {
             "outlinewidth": 0,
             "ticks": ""
            },
            "type": "choropleth"
           }
          ],
          "contour": [
           {
            "colorbar": {
             "outlinewidth": 0,
             "ticks": ""
            },
            "colorscale": [
             [
              0,
              "#0d0887"
             ],
             [
              0.1111111111111111,
              "#46039f"
             ],
             [
              0.2222222222222222,
              "#7201a8"
             ],
             [
              0.3333333333333333,
              "#9c179e"
             ],
             [
              0.4444444444444444,
              "#bd3786"
             ],
             [
              0.5555555555555556,
              "#d8576b"
             ],
             [
              0.6666666666666666,
              "#ed7953"
             ],
             [
              0.7777777777777778,
              "#fb9f3a"
             ],
             [
              0.8888888888888888,
              "#fdca26"
             ],
             [
              1,
              "#f0f921"
             ]
            ],
            "type": "contour"
           }
          ],
          "contourcarpet": [
           {
            "colorbar": {
             "outlinewidth": 0,
             "ticks": ""
            },
            "type": "contourcarpet"
           }
          ],
          "heatmap": [
           {
            "colorbar": {
             "outlinewidth": 0,
             "ticks": ""
            },
            "colorscale": [
             [
              0,
              "#0d0887"
             ],
             [
              0.1111111111111111,
              "#46039f"
             ],
             [
              0.2222222222222222,
              "#7201a8"
             ],
             [
              0.3333333333333333,
              "#9c179e"
             ],
             [
              0.4444444444444444,
              "#bd3786"
             ],
             [
              0.5555555555555556,
              "#d8576b"
             ],
             [
              0.6666666666666666,
              "#ed7953"
             ],
             [
              0.7777777777777778,
              "#fb9f3a"
             ],
             [
              0.8888888888888888,
              "#fdca26"
             ],
             [
              1,
              "#f0f921"
             ]
            ],
            "type": "heatmap"
           }
          ],
          "heatmapgl": [
           {
            "colorbar": {
             "outlinewidth": 0,
             "ticks": ""
            },
            "colorscale": [
             [
              0,
              "#0d0887"
             ],
             [
              0.1111111111111111,
              "#46039f"
             ],
             [
              0.2222222222222222,
              "#7201a8"
             ],
             [
              0.3333333333333333,
              "#9c179e"
             ],
             [
              0.4444444444444444,
              "#bd3786"
             ],
             [
              0.5555555555555556,
              "#d8576b"
             ],
             [
              0.6666666666666666,
              "#ed7953"
             ],
             [
              0.7777777777777778,
              "#fb9f3a"
             ],
             [
              0.8888888888888888,
              "#fdca26"
             ],
             [
              1,
              "#f0f921"
             ]
            ],
            "type": "heatmapgl"
           }
          ],
          "histogram": [
           {
            "marker": {
             "pattern": {
              "fillmode": "overlay",
              "size": 10,
              "solidity": 0.2
             }
            },
            "type": "histogram"
           }
          ],
          "histogram2d": [
           {
            "colorbar": {
             "outlinewidth": 0,
             "ticks": ""
            },
            "colorscale": [
             [
              0,
              "#0d0887"
             ],
             [
              0.1111111111111111,
              "#46039f"
             ],
             [
              0.2222222222222222,
              "#7201a8"
             ],
             [
              0.3333333333333333,
              "#9c179e"
             ],
             [
              0.4444444444444444,
              "#bd3786"
             ],
             [
              0.5555555555555556,
              "#d8576b"
             ],
             [
              0.6666666666666666,
              "#ed7953"
             ],
             [
              0.7777777777777778,
              "#fb9f3a"
             ],
             [
              0.8888888888888888,
              "#fdca26"
             ],
             [
              1,
              "#f0f921"
             ]
            ],
            "type": "histogram2d"
           }
          ],
          "histogram2dcontour": [
           {
            "colorbar": {
             "outlinewidth": 0,
             "ticks": ""
            },
            "colorscale": [
             [
              0,
              "#0d0887"
             ],
             [
              0.1111111111111111,
              "#46039f"
             ],
             [
              0.2222222222222222,
              "#7201a8"
             ],
             [
              0.3333333333333333,
              "#9c179e"
             ],
             [
              0.4444444444444444,
              "#bd3786"
             ],
             [
              0.5555555555555556,
              "#d8576b"
             ],
             [
              0.6666666666666666,
              "#ed7953"
             ],
             [
              0.7777777777777778,
              "#fb9f3a"
             ],
             [
              0.8888888888888888,
              "#fdca26"
             ],
             [
              1,
              "#f0f921"
             ]
            ],
            "type": "histogram2dcontour"
           }
          ],
          "mesh3d": [
           {
            "colorbar": {
             "outlinewidth": 0,
             "ticks": ""
            },
            "type": "mesh3d"
           }
          ],
          "parcoords": [
           {
            "line": {
             "colorbar": {
              "outlinewidth": 0,
              "ticks": ""
             }
            },
            "type": "parcoords"
           }
          ],
          "pie": [
           {
            "automargin": true,
            "type": "pie"
           }
          ],
          "scatter": [
           {
            "fillpattern": {
             "fillmode": "overlay",
             "size": 10,
             "solidity": 0.2
            },
            "type": "scatter"
           }
          ],
          "scatter3d": [
           {
            "line": {
             "colorbar": {
              "outlinewidth": 0,
              "ticks": ""
             }
            },
            "marker": {
             "colorbar": {
              "outlinewidth": 0,
              "ticks": ""
             }
            },
            "type": "scatter3d"
           }
          ],
          "scattercarpet": [
           {
            "marker": {
             "colorbar": {
              "outlinewidth": 0,
              "ticks": ""
             }
            },
            "type": "scattercarpet"
           }
          ],
          "scattergeo": [
           {
            "marker": {
             "colorbar": {
              "outlinewidth": 0,
              "ticks": ""
             }
            },
            "type": "scattergeo"
           }
          ],
          "scattergl": [
           {
            "marker": {
             "colorbar": {
              "outlinewidth": 0,
              "ticks": ""
             }
            },
            "type": "scattergl"
           }
          ],
          "scattermapbox": [
           {
            "marker": {
             "colorbar": {
              "outlinewidth": 0,
              "ticks": ""
             }
            },
            "type": "scattermapbox"
           }
          ],
          "scatterpolar": [
           {
            "marker": {
             "colorbar": {
              "outlinewidth": 0,
              "ticks": ""
             }
            },
            "type": "scatterpolar"
           }
          ],
          "scatterpolargl": [
           {
            "marker": {
             "colorbar": {
              "outlinewidth": 0,
              "ticks": ""
             }
            },
            "type": "scatterpolargl"
           }
          ],
          "scatterternary": [
           {
            "marker": {
             "colorbar": {
              "outlinewidth": 0,
              "ticks": ""
             }
            },
            "type": "scatterternary"
           }
          ],
          "surface": [
           {
            "colorbar": {
             "outlinewidth": 0,
             "ticks": ""
            },
            "colorscale": [
             [
              0,
              "#0d0887"
             ],
             [
              0.1111111111111111,
              "#46039f"
             ],
             [
              0.2222222222222222,
              "#7201a8"
             ],
             [
              0.3333333333333333,
              "#9c179e"
             ],
             [
              0.4444444444444444,
              "#bd3786"
             ],
             [
              0.5555555555555556,
              "#d8576b"
             ],
             [
              0.6666666666666666,
              "#ed7953"
             ],
             [
              0.7777777777777778,
              "#fb9f3a"
             ],
             [
              0.8888888888888888,
              "#fdca26"
             ],
             [
              1,
              "#f0f921"
             ]
            ],
            "type": "surface"
           }
          ],
          "table": [
           {
            "cells": {
             "fill": {
              "color": "#EBF0F8"
             },
             "line": {
              "color": "white"
             }
            },
            "header": {
             "fill": {
              "color": "#C8D4E3"
             },
             "line": {
              "color": "white"
             }
            },
            "type": "table"
           }
          ]
         },
         "layout": {
          "annotationdefaults": {
           "arrowcolor": "#2a3f5f",
           "arrowhead": 0,
           "arrowwidth": 1
          },
          "autotypenumbers": "strict",
          "coloraxis": {
           "colorbar": {
            "outlinewidth": 0,
            "ticks": ""
           }
          },
          "colorscale": {
           "diverging": [
            [
             0,
             "#8e0152"
            ],
            [
             0.1,
             "#c51b7d"
            ],
            [
             0.2,
             "#de77ae"
            ],
            [
             0.3,
             "#f1b6da"
            ],
            [
             0.4,
             "#fde0ef"
            ],
            [
             0.5,
             "#f7f7f7"
            ],
            [
             0.6,
             "#e6f5d0"
            ],
            [
             0.7,
             "#b8e186"
            ],
            [
             0.8,
             "#7fbc41"
            ],
            [
             0.9,
             "#4d9221"
            ],
            [
             1,
             "#276419"
            ]
           ],
           "sequential": [
            [
             0,
             "#0d0887"
            ],
            [
             0.1111111111111111,
             "#46039f"
            ],
            [
             0.2222222222222222,
             "#7201a8"
            ],
            [
             0.3333333333333333,
             "#9c179e"
            ],
            [
             0.4444444444444444,
             "#bd3786"
            ],
            [
             0.5555555555555556,
             "#d8576b"
            ],
            [
             0.6666666666666666,
             "#ed7953"
            ],
            [
             0.7777777777777778,
             "#fb9f3a"
            ],
            [
             0.8888888888888888,
             "#fdca26"
            ],
            [
             1,
             "#f0f921"
            ]
           ],
           "sequentialminus": [
            [
             0,
             "#0d0887"
            ],
            [
             0.1111111111111111,
             "#46039f"
            ],
            [
             0.2222222222222222,
             "#7201a8"
            ],
            [
             0.3333333333333333,
             "#9c179e"
            ],
            [
             0.4444444444444444,
             "#bd3786"
            ],
            [
             0.5555555555555556,
             "#d8576b"
            ],
            [
             0.6666666666666666,
             "#ed7953"
            ],
            [
             0.7777777777777778,
             "#fb9f3a"
            ],
            [
             0.8888888888888888,
             "#fdca26"
            ],
            [
             1,
             "#f0f921"
            ]
           ]
          },
          "colorway": [
           "#636efa",
           "#EF553B",
           "#00cc96",
           "#ab63fa",
           "#FFA15A",
           "#19d3f3",
           "#FF6692",
           "#B6E880",
           "#FF97FF",
           "#FECB52"
          ],
          "font": {
           "color": "#2a3f5f"
          },
          "geo": {
           "bgcolor": "white",
           "lakecolor": "white",
           "landcolor": "#E5ECF6",
           "showlakes": true,
           "showland": true,
           "subunitcolor": "white"
          },
          "hoverlabel": {
           "align": "left"
          },
          "hovermode": "closest",
          "mapbox": {
           "style": "light"
          },
          "paper_bgcolor": "white",
          "plot_bgcolor": "#E5ECF6",
          "polar": {
           "angularaxis": {
            "gridcolor": "white",
            "linecolor": "white",
            "ticks": ""
           },
           "bgcolor": "#E5ECF6",
           "radialaxis": {
            "gridcolor": "white",
            "linecolor": "white",
            "ticks": ""
           }
          },
          "scene": {
           "xaxis": {
            "backgroundcolor": "#E5ECF6",
            "gridcolor": "white",
            "gridwidth": 2,
            "linecolor": "white",
            "showbackground": true,
            "ticks": "",
            "zerolinecolor": "white"
           },
           "yaxis": {
            "backgroundcolor": "#E5ECF6",
            "gridcolor": "white",
            "gridwidth": 2,
            "linecolor": "white",
            "showbackground": true,
            "ticks": "",
            "zerolinecolor": "white"
           },
           "zaxis": {
            "backgroundcolor": "#E5ECF6",
            "gridcolor": "white",
            "gridwidth": 2,
            "linecolor": "white",
            "showbackground": true,
            "ticks": "",
            "zerolinecolor": "white"
           }
          },
          "shapedefaults": {
           "line": {
            "color": "#2a3f5f"
           }
          },
          "ternary": {
           "aaxis": {
            "gridcolor": "white",
            "linecolor": "white",
            "ticks": ""
           },
           "baxis": {
            "gridcolor": "white",
            "linecolor": "white",
            "ticks": ""
           },
           "bgcolor": "#E5ECF6",
           "caxis": {
            "gridcolor": "white",
            "linecolor": "white",
            "ticks": ""
           }
          },
          "title": {
           "x": 0.05
          },
          "xaxis": {
           "automargin": true,
           "gridcolor": "white",
           "linecolor": "white",
           "ticks": "",
           "title": {
            "standoff": 15
           },
           "zerolinecolor": "white",
           "zerolinewidth": 2
          },
          "yaxis": {
           "automargin": true,
           "gridcolor": "white",
           "linecolor": "white",
           "ticks": "",
           "title": {
            "standoff": 15
           },
           "zerolinecolor": "white",
           "zerolinewidth": 2
          }
         }
        },
        "width": 800,
        "xaxis": {
         "anchor": "y",
         "domain": [
          0,
          1
         ],
         "title": {
          "text": "index"
         }
        },
        "yaxis": {
         "anchor": "x",
         "domain": [
          0,
          1
         ],
         "title": {
          "text": "target"
         }
        }
       }
      }
     },
     "metadata": {},
     "output_type": "display_data"
    }
   ],
   "source": [
    "(\n",
    "df[\"target\"]\n",
    ".value_counts()\n",
    ".reset_index()\n",
    ".plot.bar(x=\"index\", y= \"target\", color=\"index\", height= 800, width= 800)\n",
    " )"
   ]
  },
  {
   "cell_type": "code",
   "execution_count": 9,
   "metadata": {
    "slideshow": {
     "slide_type": "slide"
    },
    "tags": []
   },
   "outputs": [
    {
     "data": {
      "image/png": "[encoded data removed]",
      "text/plain": [
       "<Figure size 2200x1600 with 36 Axes>"
      ]
     },
     "metadata": {},
     "output_type": "display_data"
    }
   ],
   "source": [
    "pd.options.plotting.backend = \"matplotlib\"\n",
    "\n",
    "df.hist(figsize= (22,16), bins=50)\n",
    "\n",
    "pd.options.plotting.backend = \"plotly\""
   ]
  },
  {
   "attachments": {},
   "cell_type": "markdown",
   "metadata": {
    "slideshow": {
     "slide_type": "slide"
    }
   },
   "source": [
    "## Methodology\n",
    "\n",
    "Since this an unsupervised learning problem and we will not be using the labels so we need find a way to measure the performance of the anamoly model.  Dimensionality reduction algorithms reduce the dimensionality of data while attempting to minimize the reconstruction error. However, these dimensionality reduction algorithms cannot capture all the information of the original features as they move to a lower dimensional space; therefore, there will be some error as these algorithms reconstruct the reduced feature set back to the original number of dimensions.\n",
    "we will use these errors and make a function to compare them to the original dataframe and measure the score. \n",
    "we make our performance measure as follows:\n",
    "\n",
    "* We take the difference between the original vs the pca dataframe which we created from pcs components using inverse transformation\n",
    "* then we transform the difference using min max scaller from 0 to 1 scale\n",
    "* we can consider this score as probability score and use this against the labels to calculate, precision, recall and threshhold using sklearn precision recall curve metric. \n",
    "* We will take x number of highest scores as our anomolies\n",
    "* we can all also calculate average precision score using the average precision score metric."
   ]
  },
  {
   "cell_type": "markdown",
   "metadata": {
    "slideshow": {
     "slide_type": "slide"
    }
   },
   "source": [
    "# Define evaluation functions"
   ]
  },
  {
   "cell_type": "code",
   "execution_count": 10,
   "metadata": {
    "slideshow": {
     "slide_type": "slide"
    },
    "tags": []
   },
   "outputs": [],
   "source": [
    "# Calculate reconstruction error\n",
    "def anomalyScores(originalDF, pca_df):\n",
    "    loss = ((originalDF.values- pca_df.values)**2).sum(axis=1)    \n",
    "    loss = pd.Series(data=loss,index=originalDF.index)\n",
    "    loss = (loss-np.min(loss))/(np.max(loss)-np.min(loss))\n",
    "    return loss"
   ]
  },
  {
   "cell_type": "markdown",
   "metadata": {
    "slideshow": {
     "slide_type": "notes"
    }
   },
   "source": [
    "# Train-test splits\n",
    "We will remove the target variable and we will not be using it for training but we will use it to evaluate the anamolies by attaching it to anamoly scores"
   ]
  },
  {
   "cell_type": "code",
   "execution_count": 11,
   "metadata": {
    "tags": []
   },
   "outputs": [
    {
     "data": {
      "text/plain": [
       "((190820, 29), (190820,), (93987, 29), (93987,))"
      ]
     },
     "execution_count": 11,
     "metadata": {},
     "output_type": "execute_result"
    }
   ],
   "source": [
    "from sklearn.model_selection import train_test_split\n",
    "X_train, X_test, y_train, y_test =  train_test_split(df.drop(columns=[\"target\", \"time\"]).copy(), df[\"target\"], test_size = 0.33,stratify=df[\"target\"],  random_state = 2018 )\n",
    "X_train.shape, y_train.shape, X_test.shape, y_test.shape"
   ]
  },
  {
   "cell_type": "markdown",
   "metadata": {},
   "source": [
    "The train data has 330 Fraudulent transaction and 190490 normal transactions"
   ]
  },
  {
   "cell_type": "code",
   "execution_count": 12,
   "metadata": {
    "tags": []
   },
   "outputs": [
    {
     "data": {
      "text/plain": [
       "0    190490\n",
       "1       330\n",
       "Name: target, dtype: int64"
      ]
     },
     "execution_count": 12,
     "metadata": {},
     "output_type": "execute_result"
    }
   ],
   "source": [
    "y_train.value_counts()"
   ]
  },
  {
   "cell_type": "markdown",
   "metadata": {},
   "source": [
    "# Lets create Preprocessing Pipiline\n",
    "* all our variables are numeric we will standardise data and then as for PCA we must standardise observations."
   ]
  },
  {
   "cell_type": "code",
   "execution_count": 13,
   "metadata": {
    "tags": []
   },
   "outputs": [],
   "source": [
    "from sklearn.preprocessing import StandardScaler\n",
    "from sklearn.pipeline import Pipeline\n",
    "from sklearn.compose import ColumnTransformer\n",
    "from sklearn.impute import KNNImputer"
   ]
  },
  {
   "cell_type": "code",
   "execution_count": 14,
   "metadata": {
    "tags": []
   },
   "outputs": [],
   "source": [
    "num_pipe= Pipeline ( steps=[\n",
    "    (\"std\", StandardScaler()),\n",
    "    (\"impute\", KNNImputer()), \n",
    "    ])"
   ]
  },
  {
   "cell_type": "code",
   "execution_count": 15,
   "metadata": {
    "tags": []
   },
   "outputs": [
    {
     "data": {
      "text/html": [
       "<div>\n",
       "<style scoped>\n",
       "    .dataframe tbody tr th:only-of-type {\n",
       "        vertical-align: middle;\n",
       "    }\n",
       "\n",
       "    .dataframe tbody tr th {\n",
       "        vertical-align: top;\n",
       "    }\n",
       "\n",
       "    .dataframe thead th {\n",
       "        text-align: right;\n",
       "    }\n",
       "</style>\n",
       "<table border=\"1\" class=\"dataframe\">\n",
       "  <thead>\n",
       "    <tr style=\"text-align: right;\">\n",
       "      <th></th>\n",
       "      <th>n__v1</th>\n",
       "      <th>n__v2</th>\n",
       "      <th>n__v3</th>\n",
       "      <th>n__v4</th>\n",
       "      <th>n__v5</th>\n",
       "      <th>n__v6</th>\n",
       "      <th>n__v7</th>\n",
       "      <th>n__v8</th>\n",
       "      <th>n__v9</th>\n",
       "      <th>n__v10</th>\n",
       "      <th>n__v11</th>\n",
       "      <th>n__v12</th>\n",
       "      <th>n__v13</th>\n",
       "      <th>n__v14</th>\n",
       "      <th>n__v15</th>\n",
       "      <th>n__v16</th>\n",
       "      <th>n__v17</th>\n",
       "      <th>n__v18</th>\n",
       "      <th>n__v19</th>\n",
       "      <th>n__v20</th>\n",
       "      <th>n__v21</th>\n",
       "      <th>n__v22</th>\n",
       "      <th>n__v23</th>\n",
       "      <th>n__v24</th>\n",
       "      <th>n__v25</th>\n",
       "      <th>n__v26</th>\n",
       "      <th>n__v27</th>\n",
       "      <th>n__v28</th>\n",
       "      <th>n__amount</th>\n",
       "    </tr>\n",
       "  </thead>\n",
       "  <tbody>\n",
       "    <tr>\n",
       "      <th>142087</th>\n",
       "      <td>-1.008613</td>\n",
       "      <td>1.168013</td>\n",
       "      <td>0.203077</td>\n",
       "      <td>-0.252933</td>\n",
       "      <td>-0.387030</td>\n",
       "      <td>-0.051340</td>\n",
       "      <td>-0.191393</td>\n",
       "      <td>0.917626</td>\n",
       "      <td>-0.220348</td>\n",
       "      <td>0.379391</td>\n",
       "      <td>0.891953</td>\n",
       "      <td>0.652099</td>\n",
       "      <td>-0.481673</td>\n",
       "      <td>0.888920</td>\n",
       "      <td>0.511094</td>\n",
       "      <td>0.459652</td>\n",
       "      <td>-0.178769</td>\n",
       "      <td>-0.131099</td>\n",
       "      <td>-0.030699</td>\n",
       "      <td>0.240351</td>\n",
       "      <td>-0.230649</td>\n",
       "      <td>-0.781406</td>\n",
       "      <td>0.154163</td>\n",
       "      <td>-0.584578</td>\n",
       "      <td>-0.161870</td>\n",
       "      <td>0.232116</td>\n",
       "      <td>0.525621</td>\n",
       "      <td>0.459397</td>\n",
       "      <td>-0.301324</td>\n",
       "    </tr>\n",
       "    <tr>\n",
       "      <th>165168</th>\n",
       "      <td>0.071848</td>\n",
       "      <td>0.664025</td>\n",
       "      <td>-0.240845</td>\n",
       "      <td>-0.381091</td>\n",
       "      <td>0.694608</td>\n",
       "      <td>-0.633906</td>\n",
       "      <td>0.833474</td>\n",
       "      <td>-0.132701</td>\n",
       "      <td>-0.166967</td>\n",
       "      <td>-0.793682</td>\n",
       "      <td>-0.490992</td>\n",
       "      <td>0.366808</td>\n",
       "      <td>0.879055</td>\n",
       "      <td>-1.245368</td>\n",
       "      <td>-0.369767</td>\n",
       "      <td>0.316392</td>\n",
       "      <td>0.393419</td>\n",
       "      <td>-0.407275</td>\n",
       "      <td>-0.310150</td>\n",
       "      <td>0.099453</td>\n",
       "      <td>-0.438520</td>\n",
       "      <td>-1.037593</td>\n",
       "      <td>0.145573</td>\n",
       "      <td>1.078771</td>\n",
       "      <td>-0.761303</td>\n",
       "      <td>0.221753</td>\n",
       "      <td>0.564899</td>\n",
       "      <td>0.254973</td>\n",
       "      <td>-0.342346</td>\n",
       "    </tr>\n",
       "    <tr>\n",
       "      <th>235908</th>\n",
       "      <td>0.099163</td>\n",
       "      <td>-0.387383</td>\n",
       "      <td>-0.945009</td>\n",
       "      <td>-1.493663</td>\n",
       "      <td>-0.092322</td>\n",
       "      <td>-0.878326</td>\n",
       "      <td>1.252531</td>\n",
       "      <td>-0.564372</td>\n",
       "      <td>-2.760963</td>\n",
       "      <td>0.979945</td>\n",
       "      <td>-0.734286</td>\n",
       "      <td>-0.940293</td>\n",
       "      <td>0.749094</td>\n",
       "      <td>0.176712</td>\n",
       "      <td>-1.084605</td>\n",
       "      <td>-2.049873</td>\n",
       "      <td>1.119388</td>\n",
       "      <td>-0.424709</td>\n",
       "      <td>0.039325</td>\n",
       "      <td>0.136822</td>\n",
       "      <td>0.597949</td>\n",
       "      <td>2.047828</td>\n",
       "      <td>0.533608</td>\n",
       "      <td>1.885871</td>\n",
       "      <td>-0.949325</td>\n",
       "      <td>0.195840</td>\n",
       "      <td>0.394576</td>\n",
       "      <td>0.789716</td>\n",
       "      <td>0.507010</td>\n",
       "    </tr>\n",
       "    <tr>\n",
       "      <th>148255</th>\n",
       "      <td>0.015486</td>\n",
       "      <td>0.519611</td>\n",
       "      <td>0.193472</td>\n",
       "      <td>-0.418969</td>\n",
       "      <td>0.316777</td>\n",
       "      <td>-0.774851</td>\n",
       "      <td>0.816615</td>\n",
       "      <td>-0.154107</td>\n",
       "      <td>-0.060485</td>\n",
       "      <td>-0.393037</td>\n",
       "      <td>-0.838072</td>\n",
       "      <td>0.229399</td>\n",
       "      <td>0.138905</td>\n",
       "      <td>0.095691</td>\n",
       "      <td>-0.404080</td>\n",
       "      <td>-0.180757</td>\n",
       "      <td>-0.428453</td>\n",
       "      <td>-1.022053</td>\n",
       "      <td>-0.193808</td>\n",
       "      <td>-0.038190</td>\n",
       "      <td>-0.336778</td>\n",
       "      <td>-0.738483</td>\n",
       "      <td>0.127711</td>\n",
       "      <td>-0.026519</td>\n",
       "      <td>-0.955999</td>\n",
       "      <td>0.297594</td>\n",
       "      <td>0.620507</td>\n",
       "      <td>0.285961</td>\n",
       "      <td>-0.333753</td>\n",
       "    </tr>\n",
       "    <tr>\n",
       "      <th>145672</th>\n",
       "      <td>0.009053</td>\n",
       "      <td>0.524138</td>\n",
       "      <td>0.175338</td>\n",
       "      <td>-0.335413</td>\n",
       "      <td>0.761346</td>\n",
       "      <td>0.501074</td>\n",
       "      <td>0.266188</td>\n",
       "      <td>0.187765</td>\n",
       "      <td>-0.186259</td>\n",
       "      <td>-0.837330</td>\n",
       "      <td>0.231244</td>\n",
       "      <td>0.693028</td>\n",
       "      <td>1.261985</td>\n",
       "      <td>-1.542311</td>\n",
       "      <td>-0.324732</td>\n",
       "      <td>1.234117</td>\n",
       "      <td>-0.316896</td>\n",
       "      <td>1.377317</td>\n",
       "      <td>0.854111</td>\n",
       "      <td>0.109213</td>\n",
       "      <td>-0.199423</td>\n",
       "      <td>-0.454902</td>\n",
       "      <td>0.047231</td>\n",
       "      <td>-0.725277</td>\n",
       "      <td>-2.181428</td>\n",
       "      <td>-0.147735</td>\n",
       "      <td>0.586351</td>\n",
       "      <td>0.739459</td>\n",
       "      <td>-0.337806</td>\n",
       "    </tr>\n",
       "  </tbody>\n",
       "</table>\n",
       "</div>"
      ],
      "text/plain": [
       "           n__v1     n__v2     n__v3     n__v4     n__v5     n__v6     n__v7  \\\n",
       "142087 -1.008613  1.168013  0.203077 -0.252933 -0.387030 -0.051340 -0.191393   \n",
       "165168  0.071848  0.664025 -0.240845 -0.381091  0.694608 -0.633906  0.833474   \n",
       "235908  0.099163 -0.387383 -0.945009 -1.493663 -0.092322 -0.878326  1.252531   \n",
       "148255  0.015486  0.519611  0.193472 -0.418969  0.316777 -0.774851  0.816615   \n",
       "145672  0.009053  0.524138  0.175338 -0.335413  0.761346  0.501074  0.266188   \n",
       "\n",
       "           n__v8     n__v9    n__v10    n__v11    n__v12    n__v13    n__v14  \\\n",
       "142087  0.917626 -0.220348  0.379391  0.891953  0.652099 -0.481673  0.888920   \n",
       "165168 -0.132701 -0.166967 -0.793682 -0.490992  0.366808  0.879055 -1.245368   \n",
       "235908 -0.564372 -2.760963  0.979945 -0.734286 -0.940293  0.749094  0.176712   \n",
       "148255 -0.154107 -0.060485 -0.393037 -0.838072  0.229399  0.138905  0.095691   \n",
       "145672  0.187765 -0.186259 -0.837330  0.231244  0.693028  1.261985 -1.542311   \n",
       "\n",
       "          n__v15    n__v16    n__v17    n__v18    n__v19    n__v20    n__v21  \\\n",
       "142087  0.511094  0.459652 -0.178769 -0.131099 -0.030699  0.240351 -0.230649   \n",
       "165168 -0.369767  0.316392  0.393419 -0.407275 -0.310150  0.099453 -0.438520   \n",
       "235908 -1.084605 -2.049873  1.119388 -0.424709  0.039325  0.136822  0.597949   \n",
       "148255 -0.404080 -0.180757 -0.428453 -1.022053 -0.193808 -0.038190 -0.336778   \n",
       "145672 -0.324732  1.234117 -0.316896  1.377317  0.854111  0.109213 -0.199423   \n",
       "\n",
       "          n__v22    n__v23    n__v24    n__v25    n__v26    n__v27    n__v28  \\\n",
       "142087 -0.781406  0.154163 -0.584578 -0.161870  0.232116  0.525621  0.459397   \n",
       "165168 -1.037593  0.145573  1.078771 -0.761303  0.221753  0.564899  0.254973   \n",
       "235908  2.047828  0.533608  1.885871 -0.949325  0.195840  0.394576  0.789716   \n",
       "148255 -0.738483  0.127711 -0.026519 -0.955999  0.297594  0.620507  0.285961   \n",
       "145672 -0.454902  0.047231 -0.725277 -2.181428 -0.147735  0.586351  0.739459   \n",
       "\n",
       "        n__amount  \n",
       "142087  -0.301324  \n",
       "165168  -0.342346  \n",
       "235908   0.507010  \n",
       "148255  -0.333753  \n",
       "145672  -0.337806  "
      ]
     },
     "execution_count": 15,
     "metadata": {},
     "output_type": "execute_result"
    }
   ],
   "source": [
    "all_cols= X_train.columns\n",
    "prep= ColumnTransformer([\n",
    "    (\"n\", num_pipe, all_cols)\n",
    "    ]).set_output(transform= \"pandas\")\n",
    "prep.fit_transform(X_train).head()"
   ]
  },
  {
   "cell_type": "markdown",
   "metadata": {},
   "source": [
    "# Lets define Evaluation Function to measure the recall, precision and roc_auc score"
   ]
  },
  {
   "cell_type": "code",
   "execution_count": 16,
   "metadata": {
    "tags": []
   },
   "outputs": [],
   "source": [
    "# Evaluation Functions\n",
    "from sklearn.metrics import accuracy_score, recall_score ,average_precision_score, precision_recall_curve, precision_score, roc_auc_score,roc_curve, auc \n",
    "def eval_scores(actuals, pred):\n",
    "    res= pd.DataFrame({ \n",
    "    \"accuracy\": [accuracy_score(actuals, pred)], \n",
    "    \"recall\": [recall_score(actuals, pred)],\n",
    "    \"roc_auc\": [roc_auc_score(actuals, pred)],\n",
    "    \"precision\": [precision_score(actuals, pred)]})    \n",
    "    return res"
   ]
  },
  {
   "cell_type": "code",
   "execution_count": 17,
   "metadata": {},
   "outputs": [],
   "source": [
    "'''TensorFlow and Keras'''\n",
    "import tensorflow as tf\n",
    "from tensorflow import keras\n",
    "K = keras.backend\n",
    "import keras\n",
    "\n",
    "from tensorflow.keras.models import Sequential, Model\n",
    "from tensorflow.keras.layers import Activation, Dense, Dropout\n",
    "from tensorflow.keras.layers import BatchNormalization, Input, Lambda\n",
    "from tensorflow.keras import regularizers\n",
    "from tensorflow.keras.losses import mse, binary_crossentropy\n",
    "from scikeras.wrappers import KerasRegressor\n",
    "\n",
    "tf.config.set_visible_devices([], 'GPU')"
   ]
  },
  {
   "cell_type": "code",
   "execution_count": 18,
   "metadata": {},
   "outputs": [],
   "source": [
    "def create_model():\n",
    "    # create model\n",
    "    # Call neural network API\n",
    "    model = Sequential()\n",
    "    # Apply linear activation function to input layer\n",
    "    # Generate hidden layer with 29 nodes, the same as the input layer\n",
    "    model.add(Dense(units=29, activation='linear',input_dim=29))    \n",
    "    model.add(Dense(units=27, activation='linear'))\n",
    "    #model.add(Dropout(0.02))\n",
    "    #model.add(Dense(units=10, activation='linear'))    \n",
    "    # Apply linear activation function to hidden layer\n",
    "    # Generate output layer with 29 nodes    \n",
    "    model.add(Dense(units=29, activation='linear'))\n",
    "    # Compile the model\n",
    "    model.compile(optimizer= 'adam', loss='mean_squared_error', metrics=['accuracy'])\n",
    "    return model"
   ]
  },
  {
   "cell_type": "code",
   "execution_count": 19,
   "metadata": {},
   "outputs": [],
   "source": [
    "# df_X = prep.fit_transform(df.drop(columns=[\"target\", \"time\"]).copy())\n",
    "# df_y= df[\"target\"]\n",
    "df_X = prep.fit_transform(X_train)\n",
    "df_y= y_train"
   ]
  },
  {
   "cell_type": "markdown",
   "metadata": {},
   "source": [
    "# Define our PCA model pipeline and see if it works fine with custom Transformer "
   ]
  },
  {
   "cell_type": "code",
   "execution_count": 20,
   "metadata": {},
   "outputs": [
    {
     "name": "stdout",
     "output_type": "stream",
     "text": [
      "Epoch 1/100\n",
      " 1/96 [..............................] - ETA: 16s - loss: 4.8155 - accuracy: 0.0400"
     ]
    },
    {
     "name": "stderr",
     "output_type": "stream",
     "text": [
      "2023-03-17 12:41:25.004024: W tensorflow/core/platform/profile_utils/cpu_utils.cc:128] Failed to get CPU frequency: 0 Hz\n"
     ]
    },
    {
     "name": "stdout",
     "output_type": "stream",
     "text": [
      "96/96 [==============================] - 0s 3ms/step - loss: 1.1334 - accuracy: 0.1274 - val_loss: 0.6447 - val_accuracy: 0.2683\n",
      "Epoch 2/100\n",
      "96/96 [==============================] - 0s 3ms/step - loss: 0.4839 - accuracy: 0.3973 - val_loss: 0.3662 - val_accuracy: 0.4936\n",
      "Epoch 3/100\n",
      "96/96 [==============================] - 0s 2ms/step - loss: 0.2945 - accuracy: 0.5531 - val_loss: 0.2271 - val_accuracy: 0.6083\n",
      "Epoch 4/100\n",
      "96/96 [==============================] - 0s 3ms/step - loss: 0.1762 - accuracy: 0.6550 - val_loss: 0.1317 - val_accuracy: 0.7007\n",
      "Epoch 5/100\n",
      "96/96 [==============================] - 0s 3ms/step - loss: 0.1062 - accuracy: 0.7322 - val_loss: 0.0856 - val_accuracy: 0.7619\n",
      "Epoch 6/100\n",
      "96/96 [==============================] - 0s 2ms/step - loss: 0.0769 - accuracy: 0.7789 - val_loss: 0.0710 - val_accuracy: 0.7898\n",
      "Epoch 7/100\n",
      "96/96 [==============================] - 0s 2ms/step - loss: 0.0670 - accuracy: 0.7990 - val_loss: 0.0608 - val_accuracy: 0.8124\n",
      "Epoch 8/100\n",
      "96/96 [==============================] - 0s 3ms/step - loss: 0.0527 - accuracy: 0.8356 - val_loss: 0.0443 - val_accuracy: 0.8582\n",
      "Epoch 9/100\n",
      "96/96 [==============================] - 0s 3ms/step - loss: 0.0411 - accuracy: 0.8673 - val_loss: 0.0389 - val_accuracy: 0.8745\n",
      "Epoch 10/100\n",
      "96/96 [==============================] - 0s 3ms/step - loss: 0.0383 - accuracy: 0.8764 - val_loss: 0.0375 - val_accuracy: 0.8778\n",
      "Epoch 11/100\n",
      "96/96 [==============================] - 0s 3ms/step - loss: 0.0373 - accuracy: 0.8790 - val_loss: 0.0369 - val_accuracy: 0.8798\n",
      "Epoch 12/100\n",
      "96/96 [==============================] - 0s 3ms/step - loss: 0.0370 - accuracy: 0.8810 - val_loss: 0.0366 - val_accuracy: 0.8809\n",
      "Epoch 13/100\n",
      "96/96 [==============================] - 0s 3ms/step - loss: 0.0367 - accuracy: 0.8790 - val_loss: 0.0364 - val_accuracy: 0.8798\n",
      "Epoch 14/100\n",
      "96/96 [==============================] - 0s 3ms/step - loss: 0.0365 - accuracy: 0.8796 - val_loss: 0.0362 - val_accuracy: 0.8794\n",
      "Epoch 15/100\n",
      "96/96 [==============================] - 0s 3ms/step - loss: 0.0364 - accuracy: 0.8802 - val_loss: 0.0362 - val_accuracy: 0.8793\n",
      "Epoch 16/100\n",
      "96/96 [==============================] - 0s 3ms/step - loss: 0.0362 - accuracy: 0.8796 - val_loss: 0.0360 - val_accuracy: 0.8795\n",
      "Epoch 17/100\n",
      "96/96 [==============================] - 0s 2ms/step - loss: 0.0361 - accuracy: 0.8788 - val_loss: 0.0359 - val_accuracy: 0.8796\n",
      "Epoch 18/100\n",
      "96/96 [==============================] - 0s 3ms/step - loss: 0.0360 - accuracy: 0.8796 - val_loss: 0.0358 - val_accuracy: 0.8787\n",
      "Epoch 19/100\n",
      "96/96 [==============================] - 0s 3ms/step - loss: 0.0359 - accuracy: 0.8766 - val_loss: 0.0357 - val_accuracy: 0.8769\n",
      "Epoch 20/100\n",
      "96/96 [==============================] - 0s 3ms/step - loss: 0.0358 - accuracy: 0.8758 - val_loss: 0.0356 - val_accuracy: 0.8772\n",
      "Epoch 21/100\n",
      "96/96 [==============================] - 0s 3ms/step - loss: 0.0357 - accuracy: 0.8769 - val_loss: 0.0354 - val_accuracy: 0.8763\n",
      "Epoch 22/100\n",
      "96/96 [==============================] - 0s 3ms/step - loss: 0.0356 - accuracy: 0.8777 - val_loss: 0.0354 - val_accuracy: 0.8780\n",
      "Epoch 23/100\n",
      "96/96 [==============================] - 0s 2ms/step - loss: 0.0354 - accuracy: 0.8776 - val_loss: 0.0352 - val_accuracy: 0.8786\n",
      "Epoch 24/100\n",
      "96/96 [==============================] - 0s 2ms/step - loss: 0.0354 - accuracy: 0.8787 - val_loss: 0.0351 - val_accuracy: 0.8794\n",
      "Epoch 25/100\n",
      "96/96 [==============================] - 0s 2ms/step - loss: 0.0353 - accuracy: 0.8794 - val_loss: 0.0352 - val_accuracy: 0.8823\n",
      "Epoch 26/100\n",
      "96/96 [==============================] - 0s 3ms/step - loss: 0.0352 - accuracy: 0.8814 - val_loss: 0.0349 - val_accuracy: 0.8808\n",
      "Epoch 27/100\n",
      "96/96 [==============================] - 0s 2ms/step - loss: 0.0350 - accuracy: 0.8821 - val_loss: 0.0348 - val_accuracy: 0.8853\n",
      "Epoch 28/100\n",
      "96/96 [==============================] - 0s 3ms/step - loss: 0.0350 - accuracy: 0.8862 - val_loss: 0.0347 - val_accuracy: 0.8873\n",
      "Epoch 29/100\n",
      "96/96 [==============================] - 0s 3ms/step - loss: 0.0349 - accuracy: 0.8895 - val_loss: 0.0346 - val_accuracy: 0.8884\n",
      "Epoch 30/100\n",
      "96/96 [==============================] - 0s 2ms/step - loss: 0.0347 - accuracy: 0.8909 - val_loss: 0.0345 - val_accuracy: 0.8930\n",
      "Epoch 31/100\n",
      "96/96 [==============================] - 0s 3ms/step - loss: 0.0348 - accuracy: 0.8928 - val_loss: 0.0344 - val_accuracy: 0.8947\n",
      "Epoch 32/100\n",
      "96/96 [==============================] - 0s 3ms/step - loss: 0.0346 - accuracy: 0.8979 - val_loss: 0.0343 - val_accuracy: 0.8981\n",
      "Epoch 33/100\n",
      "96/96 [==============================] - 0s 3ms/step - loss: 0.0345 - accuracy: 0.8973 - val_loss: 0.0343 - val_accuracy: 0.8990\n",
      "Epoch 34/100\n",
      "96/96 [==============================] - 0s 3ms/step - loss: 0.0345 - accuracy: 0.8989 - val_loss: 0.0342 - val_accuracy: 0.9028\n",
      "Epoch 35/100\n",
      "96/96 [==============================] - 0s 3ms/step - loss: 0.0343 - accuracy: 0.9042 - val_loss: 0.0342 - val_accuracy: 0.9060\n",
      "Epoch 36/100\n",
      "96/96 [==============================] - 0s 3ms/step - loss: 0.0344 - accuracy: 0.9055 - val_loss: 0.0343 - val_accuracy: 0.9106\n",
      "Epoch 37/100\n",
      "96/96 [==============================] - 0s 3ms/step - loss: 0.0344 - accuracy: 0.9102 - val_loss: 0.0341 - val_accuracy: 0.9150\n",
      "Epoch 38/100\n",
      "96/96 [==============================] - 0s 3ms/step - loss: 0.0343 - accuracy: 0.9142 - val_loss: 0.0340 - val_accuracy: 0.9179\n",
      "Epoch 39/100\n",
      "96/96 [==============================] - 0s 3ms/step - loss: 0.0343 - accuracy: 0.9168 - val_loss: 0.0340 - val_accuracy: 0.9215\n",
      "Epoch 40/100\n",
      "96/96 [==============================] - 0s 2ms/step - loss: 0.0342 - accuracy: 0.9222 - val_loss: 0.0339 - val_accuracy: 0.9226\n",
      "Epoch 41/100\n",
      "96/96 [==============================] - 0s 3ms/step - loss: 0.0341 - accuracy: 0.9263 - val_loss: 0.0339 - val_accuracy: 0.9266\n",
      "Epoch 42/100\n",
      "96/96 [==============================] - 0s 3ms/step - loss: 0.0340 - accuracy: 0.9287 - val_loss: 0.0339 - val_accuracy: 0.9290\n",
      "Epoch 43/100\n",
      "96/96 [==============================] - 0s 3ms/step - loss: 0.0341 - accuracy: 0.9300 - val_loss: 0.0339 - val_accuracy: 0.9323\n",
      "Epoch 44/100\n",
      "96/96 [==============================] - 0s 2ms/step - loss: 0.0341 - accuracy: 0.9330 - val_loss: 0.0339 - val_accuracy: 0.9346\n",
      "Epoch 45/100\n",
      "96/96 [==============================] - 0s 2ms/step - loss: 0.0340 - accuracy: 0.9378 - val_loss: 0.0338 - val_accuracy: 0.9384\n",
      "Epoch 46/100\n",
      "96/96 [==============================] - 0s 2ms/step - loss: 0.0340 - accuracy: 0.9359 - val_loss: 0.0338 - val_accuracy: 0.9397\n",
      "Epoch 47/100\n",
      "96/96 [==============================] - 0s 3ms/step - loss: 0.0340 - accuracy: 0.9424 - val_loss: 0.0337 - val_accuracy: 0.9425\n",
      "Epoch 48/100\n",
      "96/96 [==============================] - 0s 3ms/step - loss: 0.0339 - accuracy: 0.9423 - val_loss: 0.0337 - val_accuracy: 0.9434\n",
      "Epoch 49/100\n",
      "96/96 [==============================] - 0s 3ms/step - loss: 0.0339 - accuracy: 0.9452 - val_loss: 0.0337 - val_accuracy: 0.9458\n",
      "Epoch 50/100\n",
      "96/96 [==============================] - 0s 2ms/step - loss: 0.0339 - accuracy: 0.9504 - val_loss: 0.0337 - val_accuracy: 0.9481\n",
      "Epoch 51/100\n",
      "96/96 [==============================] - 0s 2ms/step - loss: 0.0338 - accuracy: 0.9494 - val_loss: 0.0338 - val_accuracy: 0.9514\n",
      "Epoch 52/100\n",
      "96/96 [==============================] - 0s 3ms/step - loss: 0.0338 - accuracy: 0.9483 - val_loss: 0.0337 - val_accuracy: 0.9515\n",
      "Epoch 53/100\n",
      "96/96 [==============================] - 0s 2ms/step - loss: 0.0339 - accuracy: 0.9509 - val_loss: 0.0338 - val_accuracy: 0.9542\n",
      "Epoch 54/100\n",
      "96/96 [==============================] - 0s 3ms/step - loss: 0.0339 - accuracy: 0.9529 - val_loss: 0.0338 - val_accuracy: 0.9544\n",
      "Epoch 55/100\n",
      "96/96 [==============================] - 0s 3ms/step - loss: 0.0338 - accuracy: 0.9573 - val_loss: 0.0338 - val_accuracy: 0.9589\n",
      "Epoch 56/100\n",
      "96/96 [==============================] - 0s 2ms/step - loss: 0.0339 - accuracy: 0.9603 - val_loss: 0.0337 - val_accuracy: 0.9584\n",
      "Epoch 57/100\n",
      "96/96 [==============================] - 0s 3ms/step - loss: 0.0339 - accuracy: 0.9611 - val_loss: 0.0337 - val_accuracy: 0.9597\n",
      "Epoch 58/100\n",
      "96/96 [==============================] - 0s 2ms/step - loss: 0.0339 - accuracy: 0.9617 - val_loss: 0.0337 - val_accuracy: 0.9609\n",
      "Epoch 59/100\n",
      "96/96 [==============================] - 0s 3ms/step - loss: 0.0339 - accuracy: 0.9604 - val_loss: 0.0337 - val_accuracy: 0.9580\n",
      "Epoch 60/100\n",
      "96/96 [==============================] - 0s 3ms/step - loss: 0.0338 - accuracy: 0.9596 - val_loss: 0.0337 - val_accuracy: 0.9599\n",
      "Epoch 61/100\n",
      "96/96 [==============================] - 0s 3ms/step - loss: 0.0338 - accuracy: 0.9582 - val_loss: 0.0337 - val_accuracy: 0.9596\n",
      "Epoch 62/100\n",
      "96/96 [==============================] - 0s 2ms/step - loss: 0.0338 - accuracy: 0.9590 - val_loss: 0.0337 - val_accuracy: 0.9601\n",
      "Epoch 63/100\n",
      "96/96 [==============================] - 0s 3ms/step - loss: 0.0338 - accuracy: 0.9622 - val_loss: 0.0337 - val_accuracy: 0.9623\n",
      "Epoch 64/100\n",
      "96/96 [==============================] - 0s 3ms/step - loss: 0.0338 - accuracy: 0.9614 - val_loss: 0.0337 - val_accuracy: 0.9629\n",
      "Epoch 65/100\n",
      "96/96 [==============================] - 0s 3ms/step - loss: 0.0339 - accuracy: 0.9643 - val_loss: 0.0337 - val_accuracy: 0.9648\n",
      "Epoch 66/100\n",
      "96/96 [==============================] - 0s 3ms/step - loss: 0.0338 - accuracy: 0.9651 - val_loss: 0.0336 - val_accuracy: 0.9650\n",
      "Epoch 67/100\n",
      "96/96 [==============================] - 0s 3ms/step - loss: 0.0338 - accuracy: 0.9643 - val_loss: 0.0337 - val_accuracy: 0.9642\n",
      "Epoch 68/100\n",
      "96/96 [==============================] - 0s 3ms/step - loss: 0.0338 - accuracy: 0.9648 - val_loss: 0.0337 - val_accuracy: 0.9656\n",
      "Epoch 69/100\n",
      "96/96 [==============================] - 0s 3ms/step - loss: 0.0339 - accuracy: 0.9664 - val_loss: 0.0337 - val_accuracy: 0.9656\n",
      "Epoch 70/100\n",
      "96/96 [==============================] - 0s 3ms/step - loss: 0.0338 - accuracy: 0.9681 - val_loss: 0.0336 - val_accuracy: 0.9661\n",
      "Epoch 71/100\n",
      "96/96 [==============================] - 0s 2ms/step - loss: 0.0339 - accuracy: 0.9639 - val_loss: 0.0337 - val_accuracy: 0.9648\n",
      "Epoch 72/100\n",
      "96/96 [==============================] - 0s 2ms/step - loss: 0.0338 - accuracy: 0.9657 - val_loss: 0.0337 - val_accuracy: 0.9661\n",
      "Epoch 73/100\n",
      "96/96 [==============================] - 0s 2ms/step - loss: 0.0338 - accuracy: 0.9663 - val_loss: 0.0337 - val_accuracy: 0.9651\n",
      "Epoch 74/100\n",
      "96/96 [==============================] - 0s 3ms/step - loss: 0.0338 - accuracy: 0.9659 - val_loss: 0.0337 - val_accuracy: 0.9645\n",
      "Epoch 75/100\n",
      "96/96 [==============================] - 0s 2ms/step - loss: 0.0339 - accuracy: 0.9648 - val_loss: 0.0337 - val_accuracy: 0.9666\n",
      "Epoch 76/100\n",
      "96/96 [==============================] - 0s 2ms/step - loss: 0.0339 - accuracy: 0.9650 - val_loss: 0.0337 - val_accuracy: 0.9665\n",
      "Epoch 77/100\n",
      "96/96 [==============================] - 0s 3ms/step - loss: 0.0338 - accuracy: 0.9672 - val_loss: 0.0337 - val_accuracy: 0.9671\n",
      "Epoch 78/100\n",
      "96/96 [==============================] - 0s 3ms/step - loss: 0.0338 - accuracy: 0.9673 - val_loss: 0.0337 - val_accuracy: 0.9678\n",
      "Epoch 79/100\n",
      "96/96 [==============================] - 0s 3ms/step - loss: 0.0338 - accuracy: 0.9687 - val_loss: 0.0337 - val_accuracy: 0.9667\n",
      "Epoch 80/100\n",
      "96/96 [==============================] - 0s 3ms/step - loss: 0.0339 - accuracy: 0.9634 - val_loss: 0.0337 - val_accuracy: 0.9657\n",
      "Epoch 81/100\n",
      "96/96 [==============================] - 0s 2ms/step - loss: 0.0339 - accuracy: 0.9669 - val_loss: 0.0336 - val_accuracy: 0.9688\n",
      "Epoch 82/100\n",
      "96/96 [==============================] - 0s 2ms/step - loss: 0.0339 - accuracy: 0.9697 - val_loss: 0.0337 - val_accuracy: 0.9665\n",
      "Epoch 83/100\n",
      "96/96 [==============================] - 0s 2ms/step - loss: 0.0338 - accuracy: 0.9673 - val_loss: 0.0337 - val_accuracy: 0.9664\n",
      "Epoch 84/100\n",
      "96/96 [==============================] - 0s 2ms/step - loss: 0.0338 - accuracy: 0.9675 - val_loss: 0.0337 - val_accuracy: 0.9678\n",
      "Epoch 85/100\n",
      "96/96 [==============================] - 0s 2ms/step - loss: 0.0338 - accuracy: 0.9655 - val_loss: 0.0337 - val_accuracy: 0.9672\n",
      "Epoch 86/100\n",
      "96/96 [==============================] - 0s 3ms/step - loss: 0.0339 - accuracy: 0.9684 - val_loss: 0.0337 - val_accuracy: 0.9678\n",
      "Epoch 87/100\n",
      "96/96 [==============================] - 0s 2ms/step - loss: 0.0339 - accuracy: 0.9671 - val_loss: 0.0337 - val_accuracy: 0.9664\n",
      "Epoch 88/100\n",
      "96/96 [==============================] - 0s 3ms/step - loss: 0.0338 - accuracy: 0.9690 - val_loss: 0.0337 - val_accuracy: 0.9671\n",
      "Epoch 89/100\n",
      "96/96 [==============================] - 0s 3ms/step - loss: 0.0339 - accuracy: 0.9636 - val_loss: 0.0337 - val_accuracy: 0.9664\n",
      "Epoch 90/100\n",
      "96/96 [==============================] - 0s 3ms/step - loss: 0.0338 - accuracy: 0.9685 - val_loss: 0.0337 - val_accuracy: 0.9703\n",
      "Epoch 91/100\n",
      "96/96 [==============================] - 0s 3ms/step - loss: 0.0339 - accuracy: 0.9654 - val_loss: 0.0337 - val_accuracy: 0.9699\n",
      "Epoch 92/100\n",
      "96/96 [==============================] - 0s 3ms/step - loss: 0.0338 - accuracy: 0.9679 - val_loss: 0.0337 - val_accuracy: 0.9699\n",
      "Epoch 93/100\n",
      "96/96 [==============================] - 0s 2ms/step - loss: 0.0339 - accuracy: 0.9693 - val_loss: 0.0337 - val_accuracy: 0.9700\n",
      "Epoch 94/100\n",
      "96/96 [==============================] - 0s 2ms/step - loss: 0.0339 - accuracy: 0.9669 - val_loss: 0.0337 - val_accuracy: 0.9684\n",
      "Epoch 95/100\n",
      "96/96 [==============================] - 0s 3ms/step - loss: 0.0339 - accuracy: 0.9708 - val_loss: 0.0337 - val_accuracy: 0.9693\n",
      "Epoch 96/100\n",
      "96/96 [==============================] - 0s 3ms/step - loss: 0.0338 - accuracy: 0.9675 - val_loss: 0.0337 - val_accuracy: 0.9702\n",
      "Epoch 97/100\n",
      "96/96 [==============================] - 0s 3ms/step - loss: 0.0338 - accuracy: 0.9648 - val_loss: 0.0337 - val_accuracy: 0.9673\n",
      "Epoch 98/100\n",
      "96/96 [==============================] - 0s 3ms/step - loss: 0.0338 - accuracy: 0.9688 - val_loss: 0.0337 - val_accuracy: 0.9692\n",
      "Epoch 99/100\n",
      "96/96 [==============================] - 0s 3ms/step - loss: 0.0339 - accuracy: 0.9709 - val_loss: 0.0337 - val_accuracy: 0.9689\n",
      "Epoch 100/100\n",
      "96/96 [==============================] - 0s 3ms/step - loss: 0.0338 - accuracy: 0.9658 - val_loss: 0.0337 - val_accuracy: 0.9678\n"
     ]
    }
   ],
   "source": [
    "model= create_model()\n",
    "history = model.fit(x=df_X, y=df_X,\n",
    "                    epochs= 100,\n",
    "                    batch_size= 2000,\n",
    "                    shuffle=True,\n",
    "                    validation_data=(df_X, df_X),\n",
    "                    verbose=1)"
   ]
  },
  {
   "cell_type": "code",
   "execution_count": 21,
   "metadata": {},
   "outputs": [
    {
     "name": "stdout",
     "output_type": "stream",
     "text": [
      "5964/5964 [==============================] - 2s 308us/step\n"
     ]
    },
    {
     "data": {
      "image/png": "[encoded data removed]"
     },
     "metadata": {},
     "output_type": "display_data"
    },
    {
     "data": {
      "image/svg+xml": "<svg class=\"main-svg\" xmlns=\"http://www.w3.org/2000/svg\" xmlns:xlink=\"http://www.w3.org/1999/xlink\" width=\"800\" height=\"400\" style=\"\" viewBox=\"0 0 800 400\"><rect x=\"0\" y=\"0\" width=\"800\" height=\"400\" style=\"fill: rgb(255, 255, 255); fill-opacity: 1;\"/><defs id=\"defs-f46771\"><g class=\"clips\"><clipPath id=\"clipf46771xyplot\" class=\"plotclip\"><rect width=\"608\" height=\"220\"/></clipPath><clipPath class=\"axesclip\" id=\"clipf46771x\"><rect x=\"80\" y=\"0\" width=\"608\" height=\"400\"/></clipPath><clipPath class=\"axesclip\" id=\"clipf46771y\"><rect x=\"0\" y=\"100\" width=\"800\" height=\"220\"/></clipPath><clipPath class=\"axesclip\" id=\"clipf46771xy\"><rect x=\"80\" y=\"100\" width=\"608\" height=\"220\"/></clipPath></g><g class=\"gradients\"/><g class=\"patterns\"/></defs><g class=\"bglayer\"><rect class=\"bg\" x=\"80\" y=\"100\" width=\"608\" height=\"220\" style=\"fill: rgb(229, 236, 246); fill-opacity: 1; stroke-width: 0;\"/></g><g class=\"layer-below\"><g class=\"imagelayer\"/><g class=\"shapelayer\"/></g><g class=\"cartesianlayer\"><g class=\"subplot xy\"><g class=\"layer-subplot\"><g class=\"shapelayer\"/><g class=\"imagelayer\"/></g><g class=\"minor-gridlayer\"><g class=\"x\"/><g class=\"y\"/></g><g class=\"gridlayer\"><g class=\"x\"><path class=\"xgrid crisp\" transform=\"translate(201.6,0)\" d=\"M0,100v220\" style=\"stroke: rgb(255, 255, 255); stroke-opacity: 1; stroke-width: 1px;\"/><path class=\"xgrid crisp\" transform=\"translate(323.2,0)\" d=\"M0,100v220\" style=\"stroke: rgb(255, 255, 255); stroke-opacity: 1; stroke-width: 1px;\"/><path class=\"xgrid crisp\" transform=\"translate(444.8,0)\" d=\"M0,100v220\" style=\"stroke: rgb(255, 255, 255); stroke-opacity: 1; stroke-width: 1px;\"/><path class=\"xgrid crisp\" transform=\"translate(566.4,0)\" d=\"M0,100v220\" style=\"stroke: rgb(255, 255, 255); stroke-opacity: 1; stroke-width: 1px;\"/></g><g class=\"y\"><path class=\"ygrid crisp\" transform=\"translate(0,269.4)\" d=\"M80,0h608\" style=\"stroke: rgb(255, 255, 255); stroke-opacity: 1; stroke-width: 1px;\"/><path class=\"ygrid crisp\" transform=\"translate(0,229.8)\" d=\"M80,0h608\" style=\"stroke: rgb(255, 255, 255); stroke-opacity: 1; stroke-width: 1px;\"/><path class=\"ygrid crisp\" transform=\"translate(0,190.2)\" d=\"M80,0h608\" style=\"stroke: rgb(255, 255, 255); stroke-opacity: 1; stroke-width: 1px;\"/><path class=\"ygrid crisp\" transform=\"translate(0,150.6)\" d=\"M80,0h608\" style=\"stroke: rgb(255, 255, 255); stroke-opacity: 1; stroke-width: 1px;\"/><path class=\"ygrid crisp\" transform=\"translate(0,111)\" d=\"M80,0h608\" style=\"stroke: rgb(255, 255, 255); stroke-opacity: 1; stroke-width: 1px;\"/></g></g><g class=\"zerolinelayer\"><path class=\"xzl zl crisp\" transform=\"translate(80,0)\" d=\"M0,100v220\" style=\"stroke: rgb(255, 255, 255); stroke-opacity: 1; stroke-width: 2px;\"/><path class=\"yzl zl crisp\" transform=\"translate(0,309)\" d=\"M80,0h608\" style=\"stroke: rgb(255, 255, 255); stroke-opacity: 1; stroke-width: 2px;\"/></g><path class=\"xlines-below\"/><path class=\"ylines-below\"/><g class=\"overlines-below\"/><g class=\"xaxislayer-below\"/><g class=\"yaxislayer-below\"/><g class=\"overaxes-below\"/><g class=\"plot\" transform=\"translate(80,100)\" clip-path=\"url(#clipf46771xyplot)\"><g class=\"scatterlayer mlayer\"><g class=\"trace scatter trace6eee7e\" style=\"stroke-miterlimit: 2; opacity: 1;\"><g class=\"fills\"/><g class=\"errorbars\"/><g class=\"lines\"><path class=\"js-line\" d=\"M0,209L608,11\" style=\"vector-effect: none; fill: none; stroke: rgb(239, 85, 59); stroke-opacity: 1; stroke-dasharray: 9px, 9px; stroke-width: 2px; opacity: 1;\"/></g><g class=\"points\"/><g class=\"text\"/></g></g></g><g class=\"overplot\"/><path class=\"xlines-above crisp\" d=\"M0,0\" style=\"fill: none;\"/><path class=\"ylines-above crisp\" d=\"M0,0\" style=\"fill: none;\"/><g class=\"overlines-above\"/><g class=\"xaxislayer-above\"><g class=\"xtick\"><text text-anchor=\"middle\" x=\"0\" y=\"333\" transform=\"translate(80,0)\" style=\"font-family: 'Open Sans', verdana, arial, sans-serif; font-size: 12px; fill: rgb(42, 63, 95); fill-opacity: 1; white-space: pre; opacity: 1;\">0</text></g><g class=\"xtick\"><text text-anchor=\"middle\" x=\"0\" y=\"333\" style=\"font-family: 'Open Sans', verdana, arial, sans-serif; font-size: 12px; fill: rgb(42, 63, 95); fill-opacity: 1; white-space: pre; opacity: 1;\" transform=\"translate(201.6,0)\">0.2</text></g><g class=\"xtick\"><text text-anchor=\"middle\" x=\"0\" y=\"333\" style=\"font-family: 'Open Sans', verdana, arial, sans-serif; font-size: 12px; fill: rgb(42, 63, 95); fill-opacity: 1; white-space: pre; opacity: 1;\" transform=\"translate(323.2,0)\">0.4</text></g><g class=\"xtick\"><text text-anchor=\"middle\" x=\"0\" y=\"333\" style=\"font-family: 'Open Sans', verdana, arial, sans-serif; font-size: 12px; fill: rgb(42, 63, 95); fill-opacity: 1; white-space: pre; opacity: 1;\" transform=\"translate(444.8,0)\">0.6</text></g><g class=\"xtick\"><text text-anchor=\"middle\" x=\"0\" y=\"333\" style=\"font-family: 'Open Sans', verdana, arial, sans-serif; font-size: 12px; fill: rgb(42, 63, 95); fill-opacity: 1; white-space: pre; opacity: 1;\" transform=\"translate(566.4,0)\">0.8</text></g><g class=\"xtick\"><text text-anchor=\"middle\" x=\"0\" y=\"333\" style=\"font-family: 'Open Sans', verdana, arial, sans-serif; font-size: 12px; fill: rgb(42, 63, 95); fill-opacity: 1; white-space: pre; opacity: 1;\" transform=\"translate(688,0)\">1</text></g></g><g class=\"yaxislayer-above\"><g class=\"ytick\"><text text-anchor=\"end\" x=\"79\" y=\"4.199999999999999\" transform=\"translate(0,309)\" style=\"font-family: 'Open Sans', verdana, arial, sans-serif; font-size: 12px; fill: rgb(42, 63, 95); fill-opacity: 1; white-space: pre; opacity: 1;\">0</text></g><g class=\"ytick\"><text text-anchor=\"end\" x=\"79\" y=\"4.199999999999999\" style=\"font-family: 'Open Sans', verdana, arial, sans-serif; font-size: 12px; fill: rgb(42, 63, 95); fill-opacity: 1; white-space: pre; opacity: 1;\" transform=\"translate(0,269.4)\">0.2</text></g><g class=\"ytick\"><text text-anchor=\"end\" x=\"79\" y=\"4.199999999999999\" style=\"font-family: 'Open Sans', verdana, arial, sans-serif; font-size: 12px; fill: rgb(42, 63, 95); fill-opacity: 1; white-space: pre; opacity: 1;\" transform=\"translate(0,229.8)\">0.4</text></g><g class=\"ytick\"><text text-anchor=\"end\" x=\"79\" y=\"4.199999999999999\" style=\"font-family: 'Open Sans', verdana, arial, sans-serif; font-size: 12px; fill: rgb(42, 63, 95); fill-opacity: 1; white-space: pre; opacity: 1;\" transform=\"translate(0,190.2)\">0.6</text></g><g class=\"ytick\"><text text-anchor=\"end\" x=\"79\" y=\"4.199999999999999\" style=\"font-family: 'Open Sans', verdana, arial, sans-serif; font-size: 12px; fill: rgb(42, 63, 95); fill-opacity: 1; white-space: pre; opacity: 1;\" transform=\"translate(0,150.6)\">0.8</text></g><g class=\"ytick\"><text text-anchor=\"end\" x=\"79\" y=\"4.199999999999999\" style=\"font-family: 'Open Sans', verdana, arial, sans-serif; font-size: 12px; fill: rgb(42, 63, 95); fill-opacity: 1; white-space: pre; opacity: 1;\" transform=\"translate(0,111)\">1</text></g></g><g class=\"overaxes-above\"/></g></g><g class=\"polarlayer\"/><g class=\"smithlayer\"/><g class=\"ternarylayer\"/><g class=\"geolayer\"/><g class=\"funnelarealayer\"/><g class=\"pielayer\"/><g class=\"iciclelayer\"/><g class=\"treemaplayer\"/><g class=\"sunburstlayer\"/><g class=\"glimages\"><image xmlns=\"http://www.w3.org/2000/svg\" xlink:href=\"data:image/png;base64,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\" preserveAspectRatio=\"none\" x=\"0\" y=\"0\" width=\"800px\" height=\"400px\"/><image xmlns=\"http://www.w3.org/2000/svg\" xlink:href=\"data:image/png;base64,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\" preserveAspectRatio=\"none\" x=\"0\" y=\"0\" width=\"800px\" height=\"400px\"/></g><defs id=\"topdefs-f46771\"><g class=\"clips\"/><clipPath id=\"legendf46771\"><rect width=\"88\" height=\"29\" x=\"0\" y=\"0\"/></clipPath></defs><g class=\"layer-above\"><g class=\"imagelayer\"/><g class=\"shapelayer\"/></g><g class=\"infolayer\"><g class=\"legend\" pointer-events=\"all\" transform=\"translate(700.16,100)\"><rect class=\"bg\" shape-rendering=\"crispEdges\" style=\"stroke: rgb(68, 68, 68); stroke-opacity: 1; fill: rgb(255, 255, 255); fill-opacity: 1; stroke-width: 0px;\" width=\"88\" height=\"29\" x=\"0\" y=\"0\"/><g class=\"scrollbox\" transform=\"\" clip-path=\"url(#legendf46771)\"><g class=\"groups\"><g class=\"traces\" transform=\"translate(0,14.5)\" style=\"opacity: 1;\"><text class=\"legendtext\" text-anchor=\"start\" x=\"40\" y=\"4.680000000000001\" style=\"font-family: 'Open Sans', verdana, arial, sans-serif; font-size: 12px; fill: rgb(42, 63, 95); fill-opacity: 1; white-space: pre;\">trace 1</text><g class=\"layers\" style=\"opacity: 1;\"><g class=\"legendfill\"/><g class=\"legendlines\"><path class=\"js-line\" d=\"M5,0h30\" style=\"fill: none; stroke: rgb(239, 85, 59); stroke-opacity: 1; stroke-dasharray: 9px, 9px; stroke-width: 2px;\"/></g><g class=\"legendsymbols\"><g class=\"legendpoints\"/></g></g><rect class=\"legendtoggle\" x=\"0\" y=\"-9.5\" width=\"82.3125\" height=\"19\" style=\"fill: rgb(0, 0, 0); fill-opacity: 0;\"/></g></g></g><rect class=\"scrollbar\" rx=\"20\" ry=\"3\" width=\"0\" height=\"0\" style=\"fill: rgb(128, 139, 164); fill-opacity: 1;\" x=\"0\" y=\"0\"/></g><g class=\"g-gtitle\"><text class=\"gtitle\" x=\"40\" y=\"50\" text-anchor=\"start\" dy=\"0em\" style=\"font-family: 'Open Sans', verdana, arial, sans-serif; font-size: 17px; fill: rgb(42, 63, 95); opacity: 1; font-weight: normal; white-space: pre;\">area under the curve 0.92</text></g><g class=\"g-xtitle\"><text class=\"xtitle\" x=\"384\" y=\"359.8\" text-anchor=\"middle\" style=\"font-family: 'Open Sans', verdana, arial, sans-serif; font-size: 14px; fill: rgb(42, 63, 95); opacity: 1; font-weight: normal; white-space: pre;\">x</text></g><g class=\"g-ytitle\"><text class=\"ytitle\" transform=\"rotate(-90,35.075,210)\" x=\"35.075\" y=\"210\" text-anchor=\"middle\" style=\"font-family: 'Open Sans', verdana, arial, sans-serif; font-size: 14px; fill: rgb(42, 63, 95); opacity: 1; font-weight: normal; white-space: pre;\">y</text></g></g></svg>"
     },
     "metadata": {},
     "output_type": "display_data"
    }
   ],
   "source": [
    "def plots_(labels, data):\n",
    "    df_pred= pd.DataFrame(model.predict(data), columns=prep.get_feature_names_out())\n",
    "    preds= pd.DataFrame()\n",
    "    scores=anomalyScores(data, df_pred)   \n",
    "    preds= pd.concat([labels, scores], axis=1)   \n",
    "    preds.columns = ['trueLabel', 'anomalyScore']   \n",
    "    precision, recall, thresholds =  precision_recall_curve(preds['trueLabel'],preds['anomalyScore'])\n",
    "    average_precision =  average_precision_score(preds['trueLabel'],preds['anomalyScore'])\n",
    "    fpr,tpr,thresholds = roc_curve(preds['trueLabel'], preds['anomalyScore'])\n",
    "    areaUnderROC = auc(fpr, tpr)   \n",
    "    px.scatter( x=recall, y= precision, render_mode='webgl', title=average_precision, width= 800, height=400).show(\"png\")\n",
    "    (px.line(x=fpr, y=tpr, title = f'area under the curve {round(areaUnderROC,2)}', width=800, height= 400)\n",
    "    .add_scatter(y=[0,1], mode=\"lines\", line_dash= \"dash\")  \n",
    "    ).show(\"svg\")\n",
    "plots_(df_y, df_X)"
   ]
  },
  {
   "cell_type": "code",
   "execution_count": 22,
   "metadata": {},
   "outputs": [
    {
     "name": "stdout",
     "output_type": "stream",
     "text": [
      "Model: \"sequential\"\n",
      "_________________________________________________________________\n",
      " Layer (type)                Output Shape              Param #   \n",
      "=================================================================\n",
      " dense (Dense)               (None, 29)                870       \n",
      "                                                                 \n",
      " dense_1 (Dense)             (None, 27)                810       \n",
      "                                                                 \n",
      " dense_2 (Dense)             (None, 29)                812       \n",
      "                                                                 \n",
      "=================================================================\n",
      "Total params: 2,492\n",
      "Trainable params: 2,492\n",
      "Non-trainable params: 0\n",
      "_________________________________________________________________\n"
     ]
    }
   ],
   "source": [
    "model.summary()\n",
    "#model.get_layer('dense_1').output"
   ]
  },
  {
   "cell_type": "code",
   "execution_count": 23,
   "metadata": {},
   "outputs": [
    {
     "name": "stdout",
     "output_type": "stream",
     "text": [
      "2938/2938 [==============================] - 1s 323us/step\n"
     ]
    },
    {
     "data": {
      "image/png": "[encoded data removed]"
     },
     "metadata": {},
     "output_type": "display_data"
    },
    {
     "data": {
      "image/svg+xml": "<svg class=\"main-svg\" xmlns=\"http://www.w3.org/2000/svg\" xmlns:xlink=\"http://www.w3.org/1999/xlink\" width=\"800\" height=\"400\" style=\"\" viewBox=\"0 0 800 400\"><rect x=\"0\" y=\"0\" width=\"800\" height=\"400\" style=\"fill: rgb(255, 255, 255); fill-opacity: 1;\"/><defs id=\"defs-b8c2b3\"><g class=\"clips\"><clipPath id=\"clipb8c2b3xyplot\" class=\"plotclip\"><rect width=\"608\" height=\"220\"/></clipPath><clipPath class=\"axesclip\" id=\"clipb8c2b3x\"><rect x=\"80\" y=\"0\" width=\"608\" height=\"400\"/></clipPath><clipPath class=\"axesclip\" id=\"clipb8c2b3y\"><rect x=\"0\" y=\"100\" width=\"800\" height=\"220\"/></clipPath><clipPath class=\"axesclip\" id=\"clipb8c2b3xy\"><rect x=\"80\" y=\"100\" width=\"608\" height=\"220\"/></clipPath></g><g class=\"gradients\"/><g class=\"patterns\"/></defs><g class=\"bglayer\"><rect class=\"bg\" x=\"80\" y=\"100\" width=\"608\" height=\"220\" style=\"fill: rgb(229, 236, 246); fill-opacity: 1; stroke-width: 0;\"/></g><g class=\"layer-below\"><g class=\"imagelayer\"/><g class=\"shapelayer\"/></g><g class=\"cartesianlayer\"><g class=\"subplot xy\"><g class=\"layer-subplot\"><g class=\"shapelayer\"/><g class=\"imagelayer\"/></g><g class=\"minor-gridlayer\"><g class=\"x\"/><g class=\"y\"/></g><g class=\"gridlayer\"><g class=\"x\"><path class=\"xgrid crisp\" transform=\"translate(201.6,0)\" d=\"M0,100v220\" style=\"stroke: rgb(255, 255, 255); stroke-opacity: 1; stroke-width: 1px;\"/><path class=\"xgrid crisp\" transform=\"translate(323.2,0)\" d=\"M0,100v220\" style=\"stroke: rgb(255, 255, 255); stroke-opacity: 1; stroke-width: 1px;\"/><path class=\"xgrid crisp\" transform=\"translate(444.8,0)\" d=\"M0,100v220\" style=\"stroke: rgb(255, 255, 255); stroke-opacity: 1; stroke-width: 1px;\"/><path class=\"xgrid crisp\" transform=\"translate(566.4,0)\" d=\"M0,100v220\" style=\"stroke: rgb(255, 255, 255); stroke-opacity: 1; stroke-width: 1px;\"/></g><g class=\"y\"><path class=\"ygrid crisp\" transform=\"translate(0,269.4)\" d=\"M80,0h608\" style=\"stroke: rgb(255, 255, 255); stroke-opacity: 1; stroke-width: 1px;\"/><path class=\"ygrid crisp\" transform=\"translate(0,229.8)\" d=\"M80,0h608\" style=\"stroke: rgb(255, 255, 255); stroke-opacity: 1; stroke-width: 1px;\"/><path class=\"ygrid crisp\" transform=\"translate(0,190.2)\" d=\"M80,0h608\" style=\"stroke: rgb(255, 255, 255); stroke-opacity: 1; stroke-width: 1px;\"/><path class=\"ygrid crisp\" transform=\"translate(0,150.6)\" d=\"M80,0h608\" style=\"stroke: rgb(255, 255, 255); stroke-opacity: 1; stroke-width: 1px;\"/><path class=\"ygrid crisp\" transform=\"translate(0,111)\" d=\"M80,0h608\" style=\"stroke: rgb(255, 255, 255); stroke-opacity: 1; stroke-width: 1px;\"/></g></g><g class=\"zerolinelayer\"><path class=\"xzl zl crisp\" transform=\"translate(80,0)\" d=\"M0,100v220\" style=\"stroke: rgb(255, 255, 255); stroke-opacity: 1; stroke-width: 2px;\"/><path class=\"yzl zl crisp\" transform=\"translate(0,309)\" d=\"M80,0h608\" style=\"stroke: rgb(255, 255, 255); stroke-opacity: 1; stroke-width: 2px;\"/></g><path class=\"xlines-below\"/><path class=\"ylines-below\"/><g class=\"overlines-below\"/><g class=\"xaxislayer-below\"/><g class=\"yaxislayer-below\"/><g class=\"overaxes-below\"/><g class=\"plot\" transform=\"translate(80,100)\" clip-path=\"url(#clipb8c2b3xyplot)\"><g class=\"scatterlayer mlayer\"><g class=\"trace scatter traceabcd64\" style=\"stroke-miterlimit: 2; opacity: 1;\"><g class=\"fills\"/><g class=\"errorbars\"/><g class=\"lines\"><path class=\"js-line\" d=\"M0,209L608,11\" style=\"vector-effect: none; fill: none; stroke: rgb(239, 85, 59); stroke-opacity: 1; stroke-dasharray: 9px, 9px; stroke-width: 2px; opacity: 1;\"/></g><g class=\"points\"/><g class=\"text\"/></g></g></g><g class=\"overplot\"/><path class=\"xlines-above crisp\" d=\"M0,0\" style=\"fill: none;\"/><path class=\"ylines-above crisp\" d=\"M0,0\" style=\"fill: none;\"/><g class=\"overlines-above\"/><g class=\"xaxislayer-above\"><g class=\"xtick\"><text text-anchor=\"middle\" x=\"0\" y=\"333\" transform=\"translate(80,0)\" style=\"font-family: 'Open Sans', verdana, arial, sans-serif; font-size: 12px; fill: rgb(42, 63, 95); fill-opacity: 1; white-space: pre; opacity: 1;\">0</text></g><g class=\"xtick\"><text text-anchor=\"middle\" x=\"0\" y=\"333\" style=\"font-family: 'Open Sans', verdana, arial, sans-serif; font-size: 12px; fill: rgb(42, 63, 95); fill-opacity: 1; white-space: pre; opacity: 1;\" transform=\"translate(201.6,0)\">0.2</text></g><g class=\"xtick\"><text text-anchor=\"middle\" x=\"0\" y=\"333\" style=\"font-family: 'Open Sans', verdana, arial, sans-serif; font-size: 12px; fill: rgb(42, 63, 95); fill-opacity: 1; white-space: pre; opacity: 1;\" transform=\"translate(323.2,0)\">0.4</text></g><g class=\"xtick\"><text text-anchor=\"middle\" x=\"0\" y=\"333\" style=\"font-family: 'Open Sans', verdana, arial, sans-serif; font-size: 12px; fill: rgb(42, 63, 95); fill-opacity: 1; white-space: pre; opacity: 1;\" transform=\"translate(444.8,0)\">0.6</text></g><g class=\"xtick\"><text text-anchor=\"middle\" x=\"0\" y=\"333\" style=\"font-family: 'Open Sans', verdana, arial, sans-serif; font-size: 12px; fill: rgb(42, 63, 95); fill-opacity: 1; white-space: pre; opacity: 1;\" transform=\"translate(566.4,0)\">0.8</text></g><g class=\"xtick\"><text text-anchor=\"middle\" x=\"0\" y=\"333\" style=\"font-family: 'Open Sans', verdana, arial, sans-serif; font-size: 12px; fill: rgb(42, 63, 95); fill-opacity: 1; white-space: pre; opacity: 1;\" transform=\"translate(688,0)\">1</text></g></g><g class=\"yaxislayer-above\"><g class=\"ytick\"><text text-anchor=\"end\" x=\"79\" y=\"4.199999999999999\" transform=\"translate(0,309)\" style=\"font-family: 'Open Sans', verdana, arial, sans-serif; font-size: 12px; fill: rgb(42, 63, 95); fill-opacity: 1; white-space: pre; opacity: 1;\">0</text></g><g class=\"ytick\"><text text-anchor=\"end\" x=\"79\" y=\"4.199999999999999\" style=\"font-family: 'Open Sans', verdana, arial, sans-serif; font-size: 12px; fill: rgb(42, 63, 95); fill-opacity: 1; white-space: pre; opacity: 1;\" transform=\"translate(0,269.4)\">0.2</text></g><g class=\"ytick\"><text text-anchor=\"end\" x=\"79\" y=\"4.199999999999999\" style=\"font-family: 'Open Sans', verdana, arial, sans-serif; font-size: 12px; fill: rgb(42, 63, 95); fill-opacity: 1; white-space: pre; opacity: 1;\" transform=\"translate(0,229.8)\">0.4</text></g><g class=\"ytick\"><text text-anchor=\"end\" x=\"79\" y=\"4.199999999999999\" style=\"font-family: 'Open Sans', verdana, arial, sans-serif; font-size: 12px; fill: rgb(42, 63, 95); fill-opacity: 1; white-space: pre; opacity: 1;\" transform=\"translate(0,190.2)\">0.6</text></g><g class=\"ytick\"><text text-anchor=\"end\" x=\"79\" y=\"4.199999999999999\" style=\"font-family: 'Open Sans', verdana, arial, sans-serif; font-size: 12px; fill: rgb(42, 63, 95); fill-opacity: 1; white-space: pre; opacity: 1;\" transform=\"translate(0,150.6)\">0.8</text></g><g class=\"ytick\"><text text-anchor=\"end\" x=\"79\" y=\"4.199999999999999\" style=\"font-family: 'Open Sans', verdana, arial, sans-serif; font-size: 12px; fill: rgb(42, 63, 95); fill-opacity: 1; white-space: pre; opacity: 1;\" transform=\"translate(0,111)\">1</text></g></g><g class=\"overaxes-above\"/></g></g><g class=\"polarlayer\"/><g class=\"smithlayer\"/><g class=\"ternarylayer\"/><g class=\"geolayer\"/><g class=\"funnelarealayer\"/><g class=\"pielayer\"/><g class=\"iciclelayer\"/><g class=\"treemaplayer\"/><g class=\"sunburstlayer\"/><g class=\"glimages\"><image xmlns=\"http://www.w3.org/2000/svg\" xlink:href=\"data:image/png;base64,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\" preserveAspectRatio=\"none\" x=\"0\" y=\"0\" width=\"800px\" height=\"400px\"/><image xmlns=\"http://www.w3.org/2000/svg\" xlink:href=\"data:image/png;base64,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\" preserveAspectRatio=\"none\" x=\"0\" y=\"0\" width=\"800px\" height=\"400px\"/></g><defs id=\"topdefs-b8c2b3\"><g class=\"clips\"/><clipPath id=\"legendb8c2b3\"><rect width=\"88\" height=\"29\" x=\"0\" y=\"0\"/></clipPath></defs><g class=\"layer-above\"><g class=\"imagelayer\"/><g class=\"shapelayer\"/></g><g class=\"infolayer\"><g class=\"legend\" pointer-events=\"all\" transform=\"translate(700.16,100)\"><rect class=\"bg\" shape-rendering=\"crispEdges\" width=\"88\" height=\"29\" x=\"0\" y=\"0\" style=\"stroke: rgb(68, 68, 68); stroke-opacity: 1; fill: rgb(255, 255, 255); fill-opacity: 1; stroke-width: 0px;\"/><g class=\"scrollbox\" transform=\"\" clip-path=\"url(#legendb8c2b3)\"><g class=\"groups\"><g class=\"traces\" transform=\"translate(0,14.5)\" style=\"opacity: 1;\"><text class=\"legendtext\" text-anchor=\"start\" x=\"40\" y=\"4.680000000000001\" style=\"font-family: 'Open Sans', verdana, arial, sans-serif; font-size: 12px; fill: rgb(42, 63, 95); fill-opacity: 1; white-space: pre;\">trace 1</text><g class=\"layers\" style=\"opacity: 1;\"><g class=\"legendfill\"/><g class=\"legendlines\"><path class=\"js-line\" d=\"M5,0h30\" style=\"fill: none; stroke: rgb(239, 85, 59); stroke-opacity: 1; stroke-dasharray: 9px, 9px; stroke-width: 2px;\"/></g><g class=\"legendsymbols\"><g class=\"legendpoints\"/></g></g><rect class=\"legendtoggle\" x=\"0\" y=\"-9.5\" width=\"82.3125\" height=\"19\" style=\"fill: rgb(0, 0, 0); fill-opacity: 0;\"/></g></g></g><rect class=\"scrollbar\" rx=\"20\" ry=\"3\" width=\"0\" height=\"0\" x=\"0\" y=\"0\" style=\"fill: rgb(128, 139, 164); fill-opacity: 1;\"/></g><g class=\"g-gtitle\"><text class=\"gtitle\" x=\"40\" y=\"50\" text-anchor=\"start\" dy=\"0em\" style=\"font-family: 'Open Sans', verdana, arial, sans-serif; font-size: 17px; fill: rgb(42, 63, 95); opacity: 1; font-weight: normal; white-space: pre;\">area under the curve 0.94</text></g><g class=\"g-xtitle\"><text class=\"xtitle\" x=\"384\" y=\"359.8\" text-anchor=\"middle\" style=\"font-family: 'Open Sans', verdana, arial, sans-serif; font-size: 14px; fill: rgb(42, 63, 95); opacity: 1; font-weight: normal; white-space: pre;\">x</text></g><g class=\"g-ytitle\"><text class=\"ytitle\" transform=\"rotate(-90,35.075,210)\" x=\"35.075\" y=\"210\" text-anchor=\"middle\" style=\"font-family: 'Open Sans', verdana, arial, sans-serif; font-size: 14px; fill: rgb(42, 63, 95); opacity: 1; font-weight: normal; white-space: pre;\">y</text></g></g></svg>"
     },
     "metadata": {},
     "output_type": "display_data"
    }
   ],
   "source": [
    "df_X = prep.fit_transform(X_test)\n",
    "df_y= y_test\n",
    "plots_(df_y, df_X)"
   ]
  },
  {
   "cell_type": "markdown",
   "metadata": {},
   "source": [
    "* we can see from the Score above that 27 PCA components are the solution for this model and the Recall is .79 and precision is .74 with roc_auc of almost 0.9"
   ]
  },
  {
   "cell_type": "code",
   "execution_count": 24,
   "metadata": {},
   "outputs": [
    {
     "name": "stdout",
     "output_type": "stream",
     "text": [
      "2938/2938 [==============================] - 1s 288us/step\n"
     ]
    },
    {
     "data": {
      "text/html": [
       "<div>\n",
       "<style scoped>\n",
       "    .dataframe tbody tr th:only-of-type {\n",
       "        vertical-align: middle;\n",
       "    }\n",
       "\n",
       "    .dataframe tbody tr th {\n",
       "        vertical-align: top;\n",
       "    }\n",
       "\n",
       "    .dataframe thead th {\n",
       "        text-align: right;\n",
       "    }\n",
       "</style>\n",
       "<table border=\"1\" class=\"dataframe\">\n",
       "  <thead>\n",
       "    <tr style=\"text-align: right;\">\n",
       "      <th></th>\n",
       "      <th>0</th>\n",
       "      <th>1</th>\n",
       "      <th>2</th>\n",
       "      <th>3</th>\n",
       "      <th>4</th>\n",
       "      <th>5</th>\n",
       "      <th>6</th>\n",
       "      <th>7</th>\n",
       "      <th>8</th>\n",
       "      <th>9</th>\n",
       "      <th>10</th>\n",
       "      <th>11</th>\n",
       "      <th>12</th>\n",
       "      <th>13</th>\n",
       "      <th>14</th>\n",
       "      <th>15</th>\n",
       "      <th>16</th>\n",
       "      <th>17</th>\n",
       "      <th>18</th>\n",
       "      <th>19</th>\n",
       "      <th>20</th>\n",
       "      <th>21</th>\n",
       "      <th>22</th>\n",
       "      <th>23</th>\n",
       "      <th>24</th>\n",
       "      <th>25</th>\n",
       "      <th>26</th>\n",
       "    </tr>\n",
       "  </thead>\n",
       "  <tbody>\n",
       "    <tr>\n",
       "      <th>67353</th>\n",
       "      <td>-1.308077</td>\n",
       "      <td>0.521921</td>\n",
       "      <td>0.519430</td>\n",
       "      <td>-0.587623</td>\n",
       "      <td>0.529967</td>\n",
       "      <td>-0.226132</td>\n",
       "      <td>1.283108</td>\n",
       "      <td>-1.103143</td>\n",
       "      <td>-0.735457</td>\n",
       "      <td>0.974704</td>\n",
       "      <td>0.308327</td>\n",
       "      <td>1.890815</td>\n",
       "      <td>-0.591002</td>\n",
       "      <td>0.148543</td>\n",
       "      <td>0.058039</td>\n",
       "      <td>-0.006460</td>\n",
       "      <td>-0.545777</td>\n",
       "      <td>-1.348897</td>\n",
       "      <td>1.095417</td>\n",
       "      <td>-0.128162</td>\n",
       "      <td>-0.174662</td>\n",
       "      <td>-0.070965</td>\n",
       "      <td>0.402542</td>\n",
       "      <td>0.112845</td>\n",
       "      <td>-0.408485</td>\n",
       "      <td>0.298892</td>\n",
       "      <td>0.509045</td>\n",
       "    </tr>\n",
       "    <tr>\n",
       "      <th>67626</th>\n",
       "      <td>-0.255424</td>\n",
       "      <td>-1.007007</td>\n",
       "      <td>-0.197705</td>\n",
       "      <td>-2.478511</td>\n",
       "      <td>-1.610501</td>\n",
       "      <td>2.266968</td>\n",
       "      <td>-0.072394</td>\n",
       "      <td>-1.117965</td>\n",
       "      <td>-0.538209</td>\n",
       "      <td>-0.265406</td>\n",
       "      <td>0.515130</td>\n",
       "      <td>-0.822044</td>\n",
       "      <td>0.037931</td>\n",
       "      <td>-0.495774</td>\n",
       "      <td>0.648638</td>\n",
       "      <td>-0.700305</td>\n",
       "      <td>-2.286686</td>\n",
       "      <td>0.685613</td>\n",
       "      <td>1.660634</td>\n",
       "      <td>0.110311</td>\n",
       "      <td>2.730058</td>\n",
       "      <td>-2.736236</td>\n",
       "      <td>0.289352</td>\n",
       "      <td>-0.354911</td>\n",
       "      <td>-0.138586</td>\n",
       "      <td>1.108824</td>\n",
       "      <td>-0.253082</td>\n",
       "    </tr>\n",
       "    <tr>\n",
       "      <th>169699</th>\n",
       "      <td>-0.872174</td>\n",
       "      <td>0.945439</td>\n",
       "      <td>-0.381781</td>\n",
       "      <td>1.008320</td>\n",
       "      <td>2.318130</td>\n",
       "      <td>0.619205</td>\n",
       "      <td>0.854618</td>\n",
       "      <td>1.191182</td>\n",
       "      <td>1.228209</td>\n",
       "      <td>0.289889</td>\n",
       "      <td>-0.594145</td>\n",
       "      <td>0.412492</td>\n",
       "      <td>-1.312842</td>\n",
       "      <td>1.485777</td>\n",
       "      <td>-1.454458</td>\n",
       "      <td>1.846722</td>\n",
       "      <td>-0.193915</td>\n",
       "      <td>-1.136967</td>\n",
       "      <td>-0.533733</td>\n",
       "      <td>-1.628564</td>\n",
       "      <td>-2.523665</td>\n",
       "      <td>2.008713</td>\n",
       "      <td>0.747318</td>\n",
       "      <td>0.139902</td>\n",
       "      <td>0.527763</td>\n",
       "      <td>1.897097</td>\n",
       "      <td>-0.776794</td>\n",
       "    </tr>\n",
       "    <tr>\n",
       "      <th>217315</th>\n",
       "      <td>-3.330283</td>\n",
       "      <td>0.291981</td>\n",
       "      <td>-0.971562</td>\n",
       "      <td>0.854243</td>\n",
       "      <td>0.593383</td>\n",
       "      <td>-0.797426</td>\n",
       "      <td>-0.407633</td>\n",
       "      <td>2.810943</td>\n",
       "      <td>-0.375545</td>\n",
       "      <td>-0.900222</td>\n",
       "      <td>0.411959</td>\n",
       "      <td>-0.465581</td>\n",
       "      <td>-0.787534</td>\n",
       "      <td>0.416369</td>\n",
       "      <td>1.108234</td>\n",
       "      <td>-2.045661</td>\n",
       "      <td>1.674202</td>\n",
       "      <td>0.558309</td>\n",
       "      <td>-0.710373</td>\n",
       "      <td>0.109511</td>\n",
       "      <td>2.070022</td>\n",
       "      <td>-0.744505</td>\n",
       "      <td>0.522602</td>\n",
       "      <td>-0.781212</td>\n",
       "      <td>1.450063</td>\n",
       "      <td>-0.827443</td>\n",
       "      <td>-0.304131</td>\n",
       "    </tr>\n",
       "    <tr>\n",
       "      <th>111420</th>\n",
       "      <td>1.253153</td>\n",
       "      <td>-1.514877</td>\n",
       "      <td>-0.245689</td>\n",
       "      <td>0.712480</td>\n",
       "      <td>-0.909969</td>\n",
       "      <td>0.494305</td>\n",
       "      <td>-0.524945</td>\n",
       "      <td>1.374068</td>\n",
       "      <td>0.607571</td>\n",
       "      <td>-1.349692</td>\n",
       "      <td>-0.710502</td>\n",
       "      <td>-0.266407</td>\n",
       "      <td>0.864305</td>\n",
       "      <td>0.591436</td>\n",
       "      <td>0.452340</td>\n",
       "      <td>0.646628</td>\n",
       "      <td>0.929753</td>\n",
       "      <td>0.302568</td>\n",
       "      <td>1.347997</td>\n",
       "      <td>0.336914</td>\n",
       "      <td>0.689879</td>\n",
       "      <td>-0.536330</td>\n",
       "      <td>-0.815596</td>\n",
       "      <td>0.282258</td>\n",
       "      <td>-0.578964</td>\n",
       "      <td>-1.766634</td>\n",
       "      <td>-0.558190</td>\n",
       "    </tr>\n",
       "    <tr>\n",
       "      <th>...</th>\n",
       "      <td>...</td>\n",
       "      <td>...</td>\n",
       "      <td>...</td>\n",
       "      <td>...</td>\n",
       "      <td>...</td>\n",
       "      <td>...</td>\n",
       "      <td>...</td>\n",
       "      <td>...</td>\n",
       "      <td>...</td>\n",
       "      <td>...</td>\n",
       "      <td>...</td>\n",
       "      <td>...</td>\n",
       "      <td>...</td>\n",
       "      <td>...</td>\n",
       "      <td>...</td>\n",
       "      <td>...</td>\n",
       "      <td>...</td>\n",
       "      <td>...</td>\n",
       "      <td>...</td>\n",
       "      <td>...</td>\n",
       "      <td>...</td>\n",
       "      <td>...</td>\n",
       "      <td>...</td>\n",
       "      <td>...</td>\n",
       "      <td>...</td>\n",
       "      <td>...</td>\n",
       "      <td>...</td>\n",
       "    </tr>\n",
       "    <tr>\n",
       "      <th>70762</th>\n",
       "      <td>0.203276</td>\n",
       "      <td>0.175424</td>\n",
       "      <td>0.038329</td>\n",
       "      <td>-0.081413</td>\n",
       "      <td>-0.411219</td>\n",
       "      <td>0.068614</td>\n",
       "      <td>0.446983</td>\n",
       "      <td>0.133214</td>\n",
       "      <td>-0.535864</td>\n",
       "      <td>0.265755</td>\n",
       "      <td>0.104968</td>\n",
       "      <td>-0.488225</td>\n",
       "      <td>0.530158</td>\n",
       "      <td>0.102260</td>\n",
       "      <td>-0.340737</td>\n",
       "      <td>0.392411</td>\n",
       "      <td>0.011810</td>\n",
       "      <td>0.647831</td>\n",
       "      <td>0.357816</td>\n",
       "      <td>-0.307072</td>\n",
       "      <td>-1.153413</td>\n",
       "      <td>0.875734</td>\n",
       "      <td>-0.742751</td>\n",
       "      <td>0.011506</td>\n",
       "      <td>0.120653</td>\n",
       "      <td>-0.732233</td>\n",
       "      <td>1.013466</td>\n",
       "    </tr>\n",
       "    <tr>\n",
       "      <th>69843</th>\n",
       "      <td>-10.642367</td>\n",
       "      <td>3.509181</td>\n",
       "      <td>1.759027</td>\n",
       "      <td>3.315726</td>\n",
       "      <td>4.118544</td>\n",
       "      <td>-3.718474</td>\n",
       "      <td>-1.978209</td>\n",
       "      <td>5.244083</td>\n",
       "      <td>-8.746887</td>\n",
       "      <td>-6.144514</td>\n",
       "      <td>2.189145</td>\n",
       "      <td>-1.074540</td>\n",
       "      <td>-2.031634</td>\n",
       "      <td>-1.750117</td>\n",
       "      <td>4.193325</td>\n",
       "      <td>-6.740865</td>\n",
       "      <td>6.232558</td>\n",
       "      <td>0.816913</td>\n",
       "      <td>-4.182550</td>\n",
       "      <td>1.622150</td>\n",
       "      <td>0.582399</td>\n",
       "      <td>-6.480877</td>\n",
       "      <td>4.484873</td>\n",
       "      <td>-7.475688</td>\n",
       "      <td>8.917995</td>\n",
       "      <td>-3.196166</td>\n",
       "      <td>-0.462742</td>\n",
       "    </tr>\n",
       "    <tr>\n",
       "      <th>191806</th>\n",
       "      <td>0.283736</td>\n",
       "      <td>0.320335</td>\n",
       "      <td>0.323281</td>\n",
       "      <td>2.923493</td>\n",
       "      <td>1.135182</td>\n",
       "      <td>0.121596</td>\n",
       "      <td>-0.543705</td>\n",
       "      <td>0.271477</td>\n",
       "      <td>-0.003657</td>\n",
       "      <td>0.763634</td>\n",
       "      <td>-1.900100</td>\n",
       "      <td>-1.220800</td>\n",
       "      <td>-1.873396</td>\n",
       "      <td>1.558490</td>\n",
       "      <td>0.840587</td>\n",
       "      <td>1.795131</td>\n",
       "      <td>-2.627372</td>\n",
       "      <td>0.657889</td>\n",
       "      <td>-0.789222</td>\n",
       "      <td>1.448926</td>\n",
       "      <td>0.913654</td>\n",
       "      <td>0.159638</td>\n",
       "      <td>-0.281614</td>\n",
       "      <td>1.252115</td>\n",
       "      <td>0.614471</td>\n",
       "      <td>-0.697210</td>\n",
       "      <td>-0.442961</td>\n",
       "    </tr>\n",
       "    <tr>\n",
       "      <th>259722</th>\n",
       "      <td>0.201769</td>\n",
       "      <td>0.347363</td>\n",
       "      <td>-0.209186</td>\n",
       "      <td>-0.592375</td>\n",
       "      <td>-0.786745</td>\n",
       "      <td>-0.332349</td>\n",
       "      <td>-0.335911</td>\n",
       "      <td>0.826350</td>\n",
       "      <td>0.525939</td>\n",
       "      <td>-0.201889</td>\n",
       "      <td>0.042717</td>\n",
       "      <td>-0.030858</td>\n",
       "      <td>-0.255270</td>\n",
       "      <td>0.639235</td>\n",
       "      <td>0.742877</td>\n",
       "      <td>-0.944717</td>\n",
       "      <td>-0.840778</td>\n",
       "      <td>0.288766</td>\n",
       "      <td>-1.165555</td>\n",
       "      <td>-0.115223</td>\n",
       "      <td>1.351671</td>\n",
       "      <td>0.746981</td>\n",
       "      <td>-0.142778</td>\n",
       "      <td>0.557247</td>\n",
       "      <td>0.248187</td>\n",
       "      <td>0.309058</td>\n",
       "      <td>0.099594</td>\n",
       "    </tr>\n",
       "    <tr>\n",
       "      <th>36616</th>\n",
       "      <td>1.683835</td>\n",
       "      <td>-0.246465</td>\n",
       "      <td>1.125364</td>\n",
       "      <td>-1.069229</td>\n",
       "      <td>-0.707659</td>\n",
       "      <td>0.357450</td>\n",
       "      <td>-0.535303</td>\n",
       "      <td>-0.747389</td>\n",
       "      <td>0.748498</td>\n",
       "      <td>0.192610</td>\n",
       "      <td>-1.230501</td>\n",
       "      <td>-2.350392</td>\n",
       "      <td>3.038862</td>\n",
       "      <td>-0.619937</td>\n",
       "      <td>-0.178986</td>\n",
       "      <td>-0.494639</td>\n",
       "      <td>1.305178</td>\n",
       "      <td>1.301905</td>\n",
       "      <td>-0.210740</td>\n",
       "      <td>0.946578</td>\n",
       "      <td>0.523741</td>\n",
       "      <td>-2.092644</td>\n",
       "      <td>-1.634715</td>\n",
       "      <td>0.280041</td>\n",
       "      <td>-0.037254</td>\n",
       "      <td>-1.971501</td>\n",
       "      <td>2.080288</td>\n",
       "    </tr>\n",
       "  </tbody>\n",
       "</table>\n",
       "<p>93987 rows × 27 columns</p>\n",
       "</div>"
      ],
      "text/plain": [
       "               0         1         2         3         4         5         6   \\\n",
       "67353   -1.308077  0.521921  0.519430 -0.587623  0.529967 -0.226132  1.283108   \n",
       "67626   -0.255424 -1.007007 -0.197705 -2.478511 -1.610501  2.266968 -0.072394   \n",
       "169699  -0.872174  0.945439 -0.381781  1.008320  2.318130  0.619205  0.854618   \n",
       "217315  -3.330283  0.291981 -0.971562  0.854243  0.593383 -0.797426 -0.407633   \n",
       "111420   1.253153 -1.514877 -0.245689  0.712480 -0.909969  0.494305 -0.524945   \n",
       "...           ...       ...       ...       ...       ...       ...       ...   \n",
       "70762    0.203276  0.175424  0.038329 -0.081413 -0.411219  0.068614  0.446983   \n",
       "69843  -10.642367  3.509181  1.759027  3.315726  4.118544 -3.718474 -1.978209   \n",
       "191806   0.283736  0.320335  0.323281  2.923493  1.135182  0.121596 -0.543705   \n",
       "259722   0.201769  0.347363 -0.209186 -0.592375 -0.786745 -0.332349 -0.335911   \n",
       "36616    1.683835 -0.246465  1.125364 -1.069229 -0.707659  0.357450 -0.535303   \n",
       "\n",
       "              7         8         9         10        11        12        13  \\\n",
       "67353  -1.103143 -0.735457  0.974704  0.308327  1.890815 -0.591002  0.148543   \n",
       "67626  -1.117965 -0.538209 -0.265406  0.515130 -0.822044  0.037931 -0.495774   \n",
       "169699  1.191182  1.228209  0.289889 -0.594145  0.412492 -1.312842  1.485777   \n",
       "217315  2.810943 -0.375545 -0.900222  0.411959 -0.465581 -0.787534  0.416369   \n",
       "111420  1.374068  0.607571 -1.349692 -0.710502 -0.266407  0.864305  0.591436   \n",
       "...          ...       ...       ...       ...       ...       ...       ...   \n",
       "70762   0.133214 -0.535864  0.265755  0.104968 -0.488225  0.530158  0.102260   \n",
       "69843   5.244083 -8.746887 -6.144514  2.189145 -1.074540 -2.031634 -1.750117   \n",
       "191806  0.271477 -0.003657  0.763634 -1.900100 -1.220800 -1.873396  1.558490   \n",
       "259722  0.826350  0.525939 -0.201889  0.042717 -0.030858 -0.255270  0.639235   \n",
       "36616  -0.747389  0.748498  0.192610 -1.230501 -2.350392  3.038862 -0.619937   \n",
       "\n",
       "              14        15        16        17        18        19        20  \\\n",
       "67353   0.058039 -0.006460 -0.545777 -1.348897  1.095417 -0.128162 -0.174662   \n",
       "67626   0.648638 -0.700305 -2.286686  0.685613  1.660634  0.110311  2.730058   \n",
       "169699 -1.454458  1.846722 -0.193915 -1.136967 -0.533733 -1.628564 -2.523665   \n",
       "217315  1.108234 -2.045661  1.674202  0.558309 -0.710373  0.109511  2.070022   \n",
       "111420  0.452340  0.646628  0.929753  0.302568  1.347997  0.336914  0.689879   \n",
       "...          ...       ...       ...       ...       ...       ...       ...   \n",
       "70762  -0.340737  0.392411  0.011810  0.647831  0.357816 -0.307072 -1.153413   \n",
       "69843   4.193325 -6.740865  6.232558  0.816913 -4.182550  1.622150  0.582399   \n",
       "191806  0.840587  1.795131 -2.627372  0.657889 -0.789222  1.448926  0.913654   \n",
       "259722  0.742877 -0.944717 -0.840778  0.288766 -1.165555 -0.115223  1.351671   \n",
       "36616  -0.178986 -0.494639  1.305178  1.301905 -0.210740  0.946578  0.523741   \n",
       "\n",
       "              21        22        23        24        25        26  \n",
       "67353  -0.070965  0.402542  0.112845 -0.408485  0.298892  0.509045  \n",
       "67626  -2.736236  0.289352 -0.354911 -0.138586  1.108824 -0.253082  \n",
       "169699  2.008713  0.747318  0.139902  0.527763  1.897097 -0.776794  \n",
       "217315 -0.744505  0.522602 -0.781212  1.450063 -0.827443 -0.304131  \n",
       "111420 -0.536330 -0.815596  0.282258 -0.578964 -1.766634 -0.558190  \n",
       "...          ...       ...       ...       ...       ...       ...  \n",
       "70762   0.875734 -0.742751  0.011506  0.120653 -0.732233  1.013466  \n",
       "69843  -6.480877  4.484873 -7.475688  8.917995 -3.196166 -0.462742  \n",
       "191806  0.159638 -0.281614  1.252115  0.614471 -0.697210 -0.442961  \n",
       "259722  0.746981 -0.142778  0.557247  0.248187  0.309058  0.099594  \n",
       "36616  -2.092644 -1.634715  0.280041 -0.037254 -1.971501  2.080288  \n",
       "\n",
       "[93987 rows x 27 columns]"
      ]
     },
     "execution_count": 24,
     "metadata": {},
     "output_type": "execute_result"
    }
   ],
   "source": [
    "layer_name = 'dense_1'\n",
    "#layer_name = 'hidden_layer'\n",
    "intermediate_layer_model = Model(inputs=model.input, outputs=model.get_layer(layer_name).output)\n",
    "intermediate_output_train = intermediate_layer_model.predict(df_X)\n",
    "pd.DataFrame(intermediate_output_train, index= df_X.index)"
   ]
  },
  {
   "cell_type": "code",
   "execution_count": 25,
   "metadata": {},
   "outputs": [
    {
     "name": "stdout",
     "output_type": "stream",
     "text": [
      "Epoch 1/10\n",
      "96/96 [==============================] - 0s 2ms/step - loss: 2308.4390 - accuracy: 0.2716\n",
      "Epoch 2/10\n",
      "96/96 [==============================] - 0s 2ms/step - loss: 1794.5784 - accuracy: 0.5602\n",
      "Epoch 3/10\n",
      "96/96 [==============================] - 0s 2ms/step - loss: 681.9711 - accuracy: 0.6296\n",
      "Epoch 4/10\n",
      "96/96 [==============================] - 0s 2ms/step - loss: 150.8905 - accuracy: 0.7305\n",
      "Epoch 5/10\n",
      "96/96 [==============================] - 0s 2ms/step - loss: 81.1551 - accuracy: 0.7985\n",
      "Epoch 6/10\n",
      "96/96 [==============================] - 0s 2ms/step - loss: 70.6547 - accuracy: 0.8023\n",
      "Epoch 7/10\n",
      "96/96 [==============================] - 0s 2ms/step - loss: 66.4699 - accuracy: 0.8026\n",
      "Epoch 8/10\n",
      "96/96 [==============================] - 0s 2ms/step - loss: 63.3809 - accuracy: 0.8034\n",
      "Epoch 9/10\n",
      "96/96 [==============================] - 0s 2ms/step - loss: 60.0925 - accuracy: 0.8074\n",
      "Epoch 10/10\n",
      "96/96 [==============================] - 0s 2ms/step - loss: 57.1832 - accuracy: 0.8060\n"
     ]
    },
    {
     "data": {
      "text/html": [
       "<style>#sk-container-id-1 {color: black;background-color: white;}#sk-container-id-1 pre{padding: 0;}#sk-container-id-1 div.sk-toggleable {background-color: white;}#sk-container-id-1 label.sk-toggleable__label {cursor: pointer;display: block;width: 100%;margin-bottom: 0;padding: 0.3em;box-sizing: border-box;text-align: center;}#sk-container-id-1 label.sk-toggleable__label-arrow:before {content: \"▸\";float: left;margin-right: 0.25em;color: #696969;}#sk-container-id-1 label.sk-toggleable__label-arrow:hover:before {color: black;}#sk-container-id-1 div.sk-estimator:hover label.sk-toggleable__label-arrow:before {color: black;}#sk-container-id-1 div.sk-toggleable__content {max-height: 0;max-width: 0;overflow: hidden;text-align: left;background-color: #f0f8ff;}#sk-container-id-1 div.sk-toggleable__content pre {margin: 0.2em;color: black;border-radius: 0.25em;background-color: #f0f8ff;}#sk-container-id-1 input.sk-toggleable__control:checked~div.sk-toggleable__content {max-height: 200px;max-width: 100%;overflow: auto;}#sk-container-id-1 input.sk-toggleable__control:checked~label.sk-toggleable__label-arrow:before {content: \"▾\";}#sk-container-id-1 div.sk-estimator input.sk-toggleable__control:checked~label.sk-toggleable__label {background-color: #d4ebff;}#sk-container-id-1 div.sk-label input.sk-toggleable__control:checked~label.sk-toggleable__label {background-color: #d4ebff;}#sk-container-id-1 input.sk-hidden--visually {border: 0;clip: rect(1px 1px 1px 1px);clip: rect(1px, 1px, 1px, 1px);height: 1px;margin: -1px;overflow: hidden;padding: 0;position: absolute;width: 1px;}#sk-container-id-1 div.sk-estimator {font-family: monospace;background-color: #f0f8ff;border: 1px dotted black;border-radius: 0.25em;box-sizing: border-box;margin-bottom: 0.5em;}#sk-container-id-1 div.sk-estimator:hover {background-color: #d4ebff;}#sk-container-id-1 div.sk-parallel-item::after {content: \"\";width: 100%;border-bottom: 1px solid gray;flex-grow: 1;}#sk-container-id-1 div.sk-label:hover label.sk-toggleable__label {background-color: #d4ebff;}#sk-container-id-1 div.sk-serial::before {content: \"\";position: absolute;border-left: 1px solid gray;box-sizing: border-box;top: 0;bottom: 0;left: 50%;z-index: 0;}#sk-container-id-1 div.sk-serial {display: flex;flex-direction: column;align-items: center;background-color: white;padding-right: 0.2em;padding-left: 0.2em;position: relative;}#sk-container-id-1 div.sk-item {position: relative;z-index: 1;}#sk-container-id-1 div.sk-parallel {display: flex;align-items: stretch;justify-content: center;background-color: white;position: relative;}#sk-container-id-1 div.sk-item::before, #sk-container-id-1 div.sk-parallel-item::before {content: \"\";position: absolute;border-left: 1px solid gray;box-sizing: border-box;top: 0;bottom: 0;left: 50%;z-index: -1;}#sk-container-id-1 div.sk-parallel-item {display: flex;flex-direction: column;z-index: 1;position: relative;background-color: white;}#sk-container-id-1 div.sk-parallel-item:first-child::after {align-self: flex-end;width: 50%;}#sk-container-id-1 div.sk-parallel-item:last-child::after {align-self: flex-start;width: 50%;}#sk-container-id-1 div.sk-parallel-item:only-child::after {width: 0;}#sk-container-id-1 div.sk-dashed-wrapped {border: 1px dashed gray;margin: 0 0.4em 0.5em 0.4em;box-sizing: border-box;padding-bottom: 0.4em;background-color: white;}#sk-container-id-1 div.sk-label label {font-family: monospace;font-weight: bold;display: inline-block;line-height: 1.2em;}#sk-container-id-1 div.sk-label-container {text-align: center;}#sk-container-id-1 div.sk-container {/* jupyter's `normalize.less` sets `[hidden] { display: none; }` but bootstrap.min.css set `[hidden] { display: none !important; }` so we also need the `!important` here to be able to override the default hidden behavior on the sphinx rendered scikit-learn.org. See: https://github.com/scikit-learn/scikit-learn/issues/21755 */display: inline-block !important;position: relative;}#sk-container-id-1 div.sk-text-repr-fallback {display: none;}</style><div id=\"sk-container-id-1\" class=\"sk-top-container\"><div class=\"sk-text-repr-fallback\"><pre>Pipeline(steps=[(&#x27;preprocess&#x27;,\n",
       "                 ColumnTransformer(transformers=[(&#x27;n&#x27;,\n",
       "                                                  Pipeline(steps=[(&#x27;std&#x27;,\n",
       "                                                                   StandardScaler()),\n",
       "                                                                  (&#x27;impute&#x27;,\n",
       "                                                                   KNNImputer())]),\n",
       "                                                  Index([&#x27;v1&#x27;, &#x27;v2&#x27;, &#x27;v3&#x27;, &#x27;v4&#x27;, &#x27;v5&#x27;, &#x27;v6&#x27;, &#x27;v7&#x27;, &#x27;v8&#x27;, &#x27;v9&#x27;, &#x27;v10&#x27;, &#x27;v11&#x27;,\n",
       "       &#x27;v12&#x27;, &#x27;v13&#x27;, &#x27;v14&#x27;, &#x27;v15&#x27;, &#x27;v16&#x27;, &#x27;v17&#x27;, &#x27;v18&#x27;, &#x27;v19&#x27;, &#x27;v20&#x27;, &#x27;v21&#x27;,\n",
       "       &#x27;v22&#x27;, &#x27;v23&#x27;, &#x27;v24&#x27;, &#x27;v25&#x27;, &#x27;v26&#x27;, &#x27;v27&#x27;, &#x27;v28&#x27;, &#x27;amount&#x27;],\n",
       "      dtype=&#x27;object&#x27;))])),\n",
       "                (&#x27;model&#x27;,\n",
       "                 KerasRegressor(batch_size=2000, epochs=10, model=&lt;keras.engine.sequential.Sequential object at 0x2b3b01ae0&gt;, optimizer=&lt;keras.optimizers.optimizer_v2.adam.Adam object at 0x2b373c610&gt;))])</pre><b>In a Jupyter environment, please rerun this cell to show the HTML representation or trust the notebook. <br />On GitHub, the HTML representation is unable to render, please try loading this page with nbviewer.org.</b></div><div class=\"sk-container\" hidden><div class=\"sk-item sk-dashed-wrapped\"><div class=\"sk-label-container\"><div class=\"sk-label sk-toggleable\"><input class=\"sk-toggleable__control sk-hidden--visually\" id=\"sk-estimator-id-1\" type=\"checkbox\" ><label for=\"sk-estimator-id-1\" class=\"sk-toggleable__label sk-toggleable__label-arrow\">Pipeline</label><div class=\"sk-toggleable__content\"><pre>Pipeline(steps=[(&#x27;preprocess&#x27;,\n",
       "                 ColumnTransformer(transformers=[(&#x27;n&#x27;,\n",
       "                                                  Pipeline(steps=[(&#x27;std&#x27;,\n",
       "                                                                   StandardScaler()),\n",
       "                                                                  (&#x27;impute&#x27;,\n",
       "                                                                   KNNImputer())]),\n",
       "                                                  Index([&#x27;v1&#x27;, &#x27;v2&#x27;, &#x27;v3&#x27;, &#x27;v4&#x27;, &#x27;v5&#x27;, &#x27;v6&#x27;, &#x27;v7&#x27;, &#x27;v8&#x27;, &#x27;v9&#x27;, &#x27;v10&#x27;, &#x27;v11&#x27;,\n",
       "       &#x27;v12&#x27;, &#x27;v13&#x27;, &#x27;v14&#x27;, &#x27;v15&#x27;, &#x27;v16&#x27;, &#x27;v17&#x27;, &#x27;v18&#x27;, &#x27;v19&#x27;, &#x27;v20&#x27;, &#x27;v21&#x27;,\n",
       "       &#x27;v22&#x27;, &#x27;v23&#x27;, &#x27;v24&#x27;, &#x27;v25&#x27;, &#x27;v26&#x27;, &#x27;v27&#x27;, &#x27;v28&#x27;, &#x27;amount&#x27;],\n",
       "      dtype=&#x27;object&#x27;))])),\n",
       "                (&#x27;model&#x27;,\n",
       "                 KerasRegressor(batch_size=2000, epochs=10, model=&lt;keras.engine.sequential.Sequential object at 0x2b3b01ae0&gt;, optimizer=&lt;keras.optimizers.optimizer_v2.adam.Adam object at 0x2b373c610&gt;))])</pre></div></div></div><div class=\"sk-serial\"><div class=\"sk-item sk-dashed-wrapped\"><div class=\"sk-label-container\"><div class=\"sk-label sk-toggleable\"><input class=\"sk-toggleable__control sk-hidden--visually\" id=\"sk-estimator-id-2\" type=\"checkbox\" ><label for=\"sk-estimator-id-2\" class=\"sk-toggleable__label sk-toggleable__label-arrow\">preprocess: ColumnTransformer</label><div class=\"sk-toggleable__content\"><pre>ColumnTransformer(transformers=[(&#x27;n&#x27;,\n",
       "                                 Pipeline(steps=[(&#x27;std&#x27;, StandardScaler()),\n",
       "                                                 (&#x27;impute&#x27;, KNNImputer())]),\n",
       "                                 Index([&#x27;v1&#x27;, &#x27;v2&#x27;, &#x27;v3&#x27;, &#x27;v4&#x27;, &#x27;v5&#x27;, &#x27;v6&#x27;, &#x27;v7&#x27;, &#x27;v8&#x27;, &#x27;v9&#x27;, &#x27;v10&#x27;, &#x27;v11&#x27;,\n",
       "       &#x27;v12&#x27;, &#x27;v13&#x27;, &#x27;v14&#x27;, &#x27;v15&#x27;, &#x27;v16&#x27;, &#x27;v17&#x27;, &#x27;v18&#x27;, &#x27;v19&#x27;, &#x27;v20&#x27;, &#x27;v21&#x27;,\n",
       "       &#x27;v22&#x27;, &#x27;v23&#x27;, &#x27;v24&#x27;, &#x27;v25&#x27;, &#x27;v26&#x27;, &#x27;v27&#x27;, &#x27;v28&#x27;, &#x27;amount&#x27;],\n",
       "      dtype=&#x27;object&#x27;))])</pre></div></div></div><div class=\"sk-parallel\"><div class=\"sk-parallel-item\"><div class=\"sk-item\"><div class=\"sk-label-container\"><div class=\"sk-label sk-toggleable\"><input class=\"sk-toggleable__control sk-hidden--visually\" id=\"sk-estimator-id-3\" type=\"checkbox\" ><label for=\"sk-estimator-id-3\" class=\"sk-toggleable__label sk-toggleable__label-arrow\">n</label><div class=\"sk-toggleable__content\"><pre>Index([&#x27;v1&#x27;, &#x27;v2&#x27;, &#x27;v3&#x27;, &#x27;v4&#x27;, &#x27;v5&#x27;, &#x27;v6&#x27;, &#x27;v7&#x27;, &#x27;v8&#x27;, &#x27;v9&#x27;, &#x27;v10&#x27;, &#x27;v11&#x27;,\n",
       "       &#x27;v12&#x27;, &#x27;v13&#x27;, &#x27;v14&#x27;, &#x27;v15&#x27;, &#x27;v16&#x27;, &#x27;v17&#x27;, &#x27;v18&#x27;, &#x27;v19&#x27;, &#x27;v20&#x27;, &#x27;v21&#x27;,\n",
       "       &#x27;v22&#x27;, &#x27;v23&#x27;, &#x27;v24&#x27;, &#x27;v25&#x27;, &#x27;v26&#x27;, &#x27;v27&#x27;, &#x27;v28&#x27;, &#x27;amount&#x27;],\n",
       "      dtype=&#x27;object&#x27;)</pre></div></div></div><div class=\"sk-serial\"><div class=\"sk-item\"><div class=\"sk-serial\"><div class=\"sk-item\"><div class=\"sk-estimator sk-toggleable\"><input class=\"sk-toggleable__control sk-hidden--visually\" id=\"sk-estimator-id-4\" type=\"checkbox\" ><label for=\"sk-estimator-id-4\" class=\"sk-toggleable__label sk-toggleable__label-arrow\">StandardScaler</label><div class=\"sk-toggleable__content\"><pre>StandardScaler()</pre></div></div></div><div class=\"sk-item\"><div class=\"sk-estimator sk-toggleable\"><input class=\"sk-toggleable__control sk-hidden--visually\" id=\"sk-estimator-id-5\" type=\"checkbox\" ><label for=\"sk-estimator-id-5\" class=\"sk-toggleable__label sk-toggleable__label-arrow\">KNNImputer</label><div class=\"sk-toggleable__content\"><pre>KNNImputer()</pre></div></div></div></div></div></div></div></div></div></div><div class=\"sk-item\"><div class=\"sk-estimator sk-toggleable\"><input class=\"sk-toggleable__control sk-hidden--visually\" id=\"sk-estimator-id-6\" type=\"checkbox\" ><label for=\"sk-estimator-id-6\" class=\"sk-toggleable__label sk-toggleable__label-arrow\">KerasRegressor</label><div class=\"sk-toggleable__content\"><pre>KerasRegressor(\n",
       "\tmodel=&lt;keras.engine.sequential.Sequential object at 0x2b3b01ae0&gt;\n",
       "\tbuild_fn=None\n",
       "\twarm_start=False\n",
       "\trandom_state=None\n",
       "\toptimizer=&lt;keras.optimizers.optimizer_v2.adam.Adam object at 0x2b373c610&gt;\n",
       "\tloss=None\n",
       "\tmetrics=None\n",
       "\tbatch_size=2000\n",
       "\tvalidation_batch_size=None\n",
       "\tverbose=1\n",
       "\tcallbacks=None\n",
       "\tvalidation_split=0.0\n",
       "\tshuffle=True\n",
       "\trun_eagerly=False\n",
       "\tepochs=10\n",
       ")</pre></div></div></div></div></div></div></div>"
      ],
      "text/plain": [
       "Pipeline(steps=[('preprocess',\n",
       "                 ColumnTransformer(transformers=[('n',\n",
       "                                                  Pipeline(steps=[('std',\n",
       "                                                                   StandardScaler()),\n",
       "                                                                  ('impute',\n",
       "                                                                   KNNImputer())]),\n",
       "                                                  Index(['v1', 'v2', 'v3', 'v4', 'v5', 'v6', 'v7', 'v8', 'v9', 'v10', 'v11',\n",
       "       'v12', 'v13', 'v14', 'v15', 'v16', 'v17', 'v18', 'v19', 'v20', 'v21',\n",
       "       'v22', 'v23', 'v24', 'v25', 'v26', 'v27', 'v28', 'amount'],\n",
       "      dtype='object'))])),\n",
       "                ('model',\n",
       "                 KerasRegressor(batch_size=2000, epochs=10, model=<keras.engine.sequential.Sequential object at 0x2b3b01ae0>, optimizer=<keras.optimizers.optimizer_v2.adam.Adam object at 0x2b373c610>))])"
      ]
     },
     "execution_count": 25,
     "metadata": {},
     "output_type": "execute_result"
    }
   ],
   "source": [
    "#from sklearn import \n",
    "model= KerasRegressor(create_model(), optimizer=tf.keras.optimizers.Adam(), epochs= 10, batch_size= 2000, shuffle=True,  verbose=1)\n",
    "pipe= Pipeline(steps=[\n",
    "    (\"preprocess\", prep),    \n",
    "    ('model', model)        \n",
    "    ]).set_output(transform=\"pandas\")\n",
    "pipe.fit(X_train,X_train)"
   ]
  },
  {
   "cell_type": "code",
   "execution_count": 26,
   "metadata": {},
   "outputs": [],
   "source": [
    "from scipy.stats import randint, uniform, norm,reciprocal, expon\n",
    "reciprocal.rvs(20, 200000), expon.rvs(scale=1.0)\n",
    "# loc is lower bound value and scale is the +2 range and size is number of observations \n",
    "uniform.rvs(loc=5, scale=2, size= 10),randint.rvs(low=20, high=70, size=10),norm.rvs(0.1, 1)\n",
    "# use randint.rvs(1,4) and uniform.rvs to see output values\n",
    "grid_epoch = randint(10,20)\n"
   ]
  },
  {
   "cell_type": "code",
   "execution_count": 27,
   "metadata": {},
   "outputs": [],
   "source": [
    "MLA_params = {                            \n",
    "        \"model__epochs\": [10,12],\n",
    "        #\"model__optimizer\": [\"Adam\"]\n",
    "        } "
   ]
  },
  {
   "cell_type": "markdown",
   "metadata": {},
   "source": [
    "># Random/GridSearch Cross Validation\n",
    "># CV split"
   ]
  },
  {
   "cell_type": "code",
   "execution_count": 28,
   "metadata": {},
   "outputs": [
    {
     "name": "stdout",
     "output_type": "stream",
     "text": [
      "INFO:tensorflow:Assets written to: ram://cc0c9e92edf044fb9ada88041529777a/assets\n"
     ]
    },
    {
     "name": "stderr",
     "output_type": "stream",
     "text": [
      "2023-03-17 12:42:02.496685: W tensorflow/core/util/tensor_slice_reader.cc:96] Could not open ram://0ef561a61b1847748da9710e3a1b0c3f: INVALID_ARGUMENT: ram://0ef561a61b1847748da9710e3a1b0c3f is a directory.\n"
     ]
    },
    {
     "ename": "AttributeError",
     "evalue": "'Adam' object has no attribute 'build'",
     "output_type": "error",
     "traceback": [
      "\u001b[0;31m---------------------------------------------------------------------------\u001b[0m",
      "\u001b[0;31mAttributeError\u001b[0m                            Traceback (most recent call last)",
      "Cell \u001b[0;32mIn[28], line 16\u001b[0m\n\u001b[1;32m      4\u001b[0m cv_split \u001b[39m=\u001b[39m KFold(n_splits\u001b[39m=\u001b[39m \u001b[39m2\u001b[39m, random_state\u001b[39m=\u001b[39m\u001b[39m10\u001b[39m , shuffle\u001b[39m=\u001b[39m\u001b[39mTrue\u001b[39;00m)\n\u001b[1;32m      6\u001b[0m grid_cv\u001b[39m=\u001b[39m GridSearchCV(\n\u001b[1;32m      7\u001b[0m         pipe, \n\u001b[1;32m      8\u001b[0m         param_grid\u001b[39m=\u001b[39m MLA_params,        \n\u001b[0;32m   (...)\u001b[0m\n\u001b[1;32m     13\u001b[0m         \u001b[39m#random_state=42,\u001b[39;00m\n\u001b[1;32m     14\u001b[0m         n_jobs\u001b[39m=\u001b[39m \u001b[39m-\u001b[39m\u001b[39m1\u001b[39m )\n\u001b[0;32m---> 16\u001b[0m tune_grid \u001b[39m=\u001b[39mgrid_cv\u001b[39m.\u001b[39;49mfit(X_train, X_train)   \n",
      "File \u001b[0;32m/opt/homebrew/Caskroom/miniconda/base/envs/pt/lib/python3.10/site-packages/sklearn/model_selection/_search.py:788\u001b[0m, in \u001b[0;36mBaseSearchCV.fit\u001b[0;34m(self, X, y, groups, **fit_params)\u001b[0m\n\u001b[1;32m    785\u001b[0m cv_orig \u001b[39m=\u001b[39m check_cv(\u001b[39mself\u001b[39m\u001b[39m.\u001b[39mcv, y, classifier\u001b[39m=\u001b[39mis_classifier(estimator))\n\u001b[1;32m    786\u001b[0m n_splits \u001b[39m=\u001b[39m cv_orig\u001b[39m.\u001b[39mget_n_splits(X, y, groups)\n\u001b[0;32m--> 788\u001b[0m base_estimator \u001b[39m=\u001b[39m clone(\u001b[39mself\u001b[39;49m\u001b[39m.\u001b[39;49mestimator)\n\u001b[1;32m    790\u001b[0m parallel \u001b[39m=\u001b[39m Parallel(n_jobs\u001b[39m=\u001b[39m\u001b[39mself\u001b[39m\u001b[39m.\u001b[39mn_jobs, pre_dispatch\u001b[39m=\u001b[39m\u001b[39mself\u001b[39m\u001b[39m.\u001b[39mpre_dispatch)\n\u001b[1;32m    792\u001b[0m fit_and_score_kwargs \u001b[39m=\u001b[39m \u001b[39mdict\u001b[39m(\n\u001b[1;32m    793\u001b[0m     scorer\u001b[39m=\u001b[39mscorers,\n\u001b[1;32m    794\u001b[0m     fit_params\u001b[39m=\u001b[39mfit_params,\n\u001b[0;32m   (...)\u001b[0m\n\u001b[1;32m    800\u001b[0m     verbose\u001b[39m=\u001b[39m\u001b[39mself\u001b[39m\u001b[39m.\u001b[39mverbose,\n\u001b[1;32m    801\u001b[0m )\n",
      "File \u001b[0;32m/opt/homebrew/Caskroom/miniconda/base/envs/pt/lib/python3.10/site-packages/sklearn/base.py:89\u001b[0m, in \u001b[0;36mclone\u001b[0;34m(estimator, safe)\u001b[0m\n\u001b[1;32m     87\u001b[0m new_object_params \u001b[39m=\u001b[39m estimator\u001b[39m.\u001b[39mget_params(deep\u001b[39m=\u001b[39m\u001b[39mFalse\u001b[39;00m)\n\u001b[1;32m     88\u001b[0m \u001b[39mfor\u001b[39;00m name, param \u001b[39min\u001b[39;00m new_object_params\u001b[39m.\u001b[39mitems():\n\u001b[0;32m---> 89\u001b[0m     new_object_params[name] \u001b[39m=\u001b[39m clone(param, safe\u001b[39m=\u001b[39;49m\u001b[39mFalse\u001b[39;49;00m)\n\u001b[1;32m     90\u001b[0m new_object \u001b[39m=\u001b[39m klass(\u001b[39m*\u001b[39m\u001b[39m*\u001b[39mnew_object_params)\n\u001b[1;32m     91\u001b[0m params_set \u001b[39m=\u001b[39m new_object\u001b[39m.\u001b[39mget_params(deep\u001b[39m=\u001b[39m\u001b[39mFalse\u001b[39;00m)\n",
      "File \u001b[0;32m/opt/homebrew/Caskroom/miniconda/base/envs/pt/lib/python3.10/site-packages/sklearn/base.py:67\u001b[0m, in \u001b[0;36mclone\u001b[0;34m(estimator, safe)\u001b[0m\n\u001b[1;32m     65\u001b[0m \u001b[39m# XXX: not handling dictionaries\u001b[39;00m\n\u001b[1;32m     66\u001b[0m \u001b[39mif\u001b[39;00m estimator_type \u001b[39min\u001b[39;00m (\u001b[39mlist\u001b[39m, \u001b[39mtuple\u001b[39m, \u001b[39mset\u001b[39m, \u001b[39mfrozenset\u001b[39m):\n\u001b[0;32m---> 67\u001b[0m     \u001b[39mreturn\u001b[39;00m estimator_type([clone(e, safe\u001b[39m=\u001b[39msafe) \u001b[39mfor\u001b[39;00m e \u001b[39min\u001b[39;00m estimator])\n\u001b[1;32m     68\u001b[0m \u001b[39melif\u001b[39;00m \u001b[39mnot\u001b[39;00m \u001b[39mhasattr\u001b[39m(estimator, \u001b[39m\"\u001b[39m\u001b[39mget_params\u001b[39m\u001b[39m\"\u001b[39m) \u001b[39mor\u001b[39;00m \u001b[39misinstance\u001b[39m(estimator, \u001b[39mtype\u001b[39m):\n\u001b[1;32m     69\u001b[0m     \u001b[39mif\u001b[39;00m \u001b[39mnot\u001b[39;00m safe:\n",
      "File \u001b[0;32m/opt/homebrew/Caskroom/miniconda/base/envs/pt/lib/python3.10/site-packages/sklearn/base.py:67\u001b[0m, in \u001b[0;36m<listcomp>\u001b[0;34m(.0)\u001b[0m\n\u001b[1;32m     65\u001b[0m \u001b[39m# XXX: not handling dictionaries\u001b[39;00m\n\u001b[1;32m     66\u001b[0m \u001b[39mif\u001b[39;00m estimator_type \u001b[39min\u001b[39;00m (\u001b[39mlist\u001b[39m, \u001b[39mtuple\u001b[39m, \u001b[39mset\u001b[39m, \u001b[39mfrozenset\u001b[39m):\n\u001b[0;32m---> 67\u001b[0m     \u001b[39mreturn\u001b[39;00m estimator_type([clone(e, safe\u001b[39m=\u001b[39;49msafe) \u001b[39mfor\u001b[39;00m e \u001b[39min\u001b[39;00m estimator])\n\u001b[1;32m     68\u001b[0m \u001b[39melif\u001b[39;00m \u001b[39mnot\u001b[39;00m \u001b[39mhasattr\u001b[39m(estimator, \u001b[39m\"\u001b[39m\u001b[39mget_params\u001b[39m\u001b[39m\"\u001b[39m) \u001b[39mor\u001b[39;00m \u001b[39misinstance\u001b[39m(estimator, \u001b[39mtype\u001b[39m):\n\u001b[1;32m     69\u001b[0m     \u001b[39mif\u001b[39;00m \u001b[39mnot\u001b[39;00m safe:\n",
      "File \u001b[0;32m/opt/homebrew/Caskroom/miniconda/base/envs/pt/lib/python3.10/site-packages/sklearn/base.py:67\u001b[0m, in \u001b[0;36mclone\u001b[0;34m(estimator, safe)\u001b[0m\n\u001b[1;32m     65\u001b[0m \u001b[39m# XXX: not handling dictionaries\u001b[39;00m\n\u001b[1;32m     66\u001b[0m \u001b[39mif\u001b[39;00m estimator_type \u001b[39min\u001b[39;00m (\u001b[39mlist\u001b[39m, \u001b[39mtuple\u001b[39m, \u001b[39mset\u001b[39m, \u001b[39mfrozenset\u001b[39m):\n\u001b[0;32m---> 67\u001b[0m     \u001b[39mreturn\u001b[39;00m estimator_type([clone(e, safe\u001b[39m=\u001b[39msafe) \u001b[39mfor\u001b[39;00m e \u001b[39min\u001b[39;00m estimator])\n\u001b[1;32m     68\u001b[0m \u001b[39melif\u001b[39;00m \u001b[39mnot\u001b[39;00m \u001b[39mhasattr\u001b[39m(estimator, \u001b[39m\"\u001b[39m\u001b[39mget_params\u001b[39m\u001b[39m\"\u001b[39m) \u001b[39mor\u001b[39;00m \u001b[39misinstance\u001b[39m(estimator, \u001b[39mtype\u001b[39m):\n\u001b[1;32m     69\u001b[0m     \u001b[39mif\u001b[39;00m \u001b[39mnot\u001b[39;00m safe:\n",
      "File \u001b[0;32m/opt/homebrew/Caskroom/miniconda/base/envs/pt/lib/python3.10/site-packages/sklearn/base.py:67\u001b[0m, in \u001b[0;36m<listcomp>\u001b[0;34m(.0)\u001b[0m\n\u001b[1;32m     65\u001b[0m \u001b[39m# XXX: not handling dictionaries\u001b[39;00m\n\u001b[1;32m     66\u001b[0m \u001b[39mif\u001b[39;00m estimator_type \u001b[39min\u001b[39;00m (\u001b[39mlist\u001b[39m, \u001b[39mtuple\u001b[39m, \u001b[39mset\u001b[39m, \u001b[39mfrozenset\u001b[39m):\n\u001b[0;32m---> 67\u001b[0m     \u001b[39mreturn\u001b[39;00m estimator_type([clone(e, safe\u001b[39m=\u001b[39;49msafe) \u001b[39mfor\u001b[39;00m e \u001b[39min\u001b[39;00m estimator])\n\u001b[1;32m     68\u001b[0m \u001b[39melif\u001b[39;00m \u001b[39mnot\u001b[39;00m \u001b[39mhasattr\u001b[39m(estimator, \u001b[39m\"\u001b[39m\u001b[39mget_params\u001b[39m\u001b[39m\"\u001b[39m) \u001b[39mor\u001b[39;00m \u001b[39misinstance\u001b[39m(estimator, \u001b[39mtype\u001b[39m):\n\u001b[1;32m     69\u001b[0m     \u001b[39mif\u001b[39;00m \u001b[39mnot\u001b[39;00m safe:\n",
      "File \u001b[0;32m/opt/homebrew/Caskroom/miniconda/base/envs/pt/lib/python3.10/site-packages/sklearn/base.py:89\u001b[0m, in \u001b[0;36mclone\u001b[0;34m(estimator, safe)\u001b[0m\n\u001b[1;32m     87\u001b[0m new_object_params \u001b[39m=\u001b[39m estimator\u001b[39m.\u001b[39mget_params(deep\u001b[39m=\u001b[39m\u001b[39mFalse\u001b[39;00m)\n\u001b[1;32m     88\u001b[0m \u001b[39mfor\u001b[39;00m name, param \u001b[39min\u001b[39;00m new_object_params\u001b[39m.\u001b[39mitems():\n\u001b[0;32m---> 89\u001b[0m     new_object_params[name] \u001b[39m=\u001b[39m clone(param, safe\u001b[39m=\u001b[39;49m\u001b[39mFalse\u001b[39;49;00m)\n\u001b[1;32m     90\u001b[0m new_object \u001b[39m=\u001b[39m klass(\u001b[39m*\u001b[39m\u001b[39m*\u001b[39mnew_object_params)\n\u001b[1;32m     91\u001b[0m params_set \u001b[39m=\u001b[39m new_object\u001b[39m.\u001b[39mget_params(deep\u001b[39m=\u001b[39m\u001b[39mFalse\u001b[39;00m)\n",
      "File \u001b[0;32m/opt/homebrew/Caskroom/miniconda/base/envs/pt/lib/python3.10/site-packages/sklearn/base.py:70\u001b[0m, in \u001b[0;36mclone\u001b[0;34m(estimator, safe)\u001b[0m\n\u001b[1;32m     68\u001b[0m \u001b[39melif\u001b[39;00m \u001b[39mnot\u001b[39;00m \u001b[39mhasattr\u001b[39m(estimator, \u001b[39m\"\u001b[39m\u001b[39mget_params\u001b[39m\u001b[39m\"\u001b[39m) \u001b[39mor\u001b[39;00m \u001b[39misinstance\u001b[39m(estimator, \u001b[39mtype\u001b[39m):\n\u001b[1;32m     69\u001b[0m     \u001b[39mif\u001b[39;00m \u001b[39mnot\u001b[39;00m safe:\n\u001b[0;32m---> 70\u001b[0m         \u001b[39mreturn\u001b[39;00m copy\u001b[39m.\u001b[39;49mdeepcopy(estimator)\n\u001b[1;32m     71\u001b[0m     \u001b[39melse\u001b[39;00m:\n\u001b[1;32m     72\u001b[0m         \u001b[39mif\u001b[39;00m \u001b[39misinstance\u001b[39m(estimator, \u001b[39mtype\u001b[39m):\n",
      "File \u001b[0;32m/opt/homebrew/Caskroom/miniconda/base/envs/pt/lib/python3.10/copy.py:153\u001b[0m, in \u001b[0;36mdeepcopy\u001b[0;34m(x, memo, _nil)\u001b[0m\n\u001b[1;32m    151\u001b[0m copier \u001b[39m=\u001b[39m \u001b[39mgetattr\u001b[39m(x, \u001b[39m\"\u001b[39m\u001b[39m__deepcopy__\u001b[39m\u001b[39m\"\u001b[39m, \u001b[39mNone\u001b[39;00m)\n\u001b[1;32m    152\u001b[0m \u001b[39mif\u001b[39;00m copier \u001b[39mis\u001b[39;00m \u001b[39mnot\u001b[39;00m \u001b[39mNone\u001b[39;00m:\n\u001b[0;32m--> 153\u001b[0m     y \u001b[39m=\u001b[39m copier(memo)\n\u001b[1;32m    154\u001b[0m \u001b[39melse\u001b[39;00m:\n\u001b[1;32m    155\u001b[0m     reductor \u001b[39m=\u001b[39m dispatch_table\u001b[39m.\u001b[39mget(\u001b[39mcls\u001b[39m)\n",
      "File \u001b[0;32m/opt/homebrew/Caskroom/miniconda/base/envs/pt/lib/python3.10/site-packages/scikeras/_saving_utils.py:83\u001b[0m, in \u001b[0;36mdeepcopy_model\u001b[0;34m(model, memo)\u001b[0m\n\u001b[1;32m     81\u001b[0m \u001b[39mdef\u001b[39;00m \u001b[39mdeepcopy_model\u001b[39m(model: keras\u001b[39m.\u001b[39mModel, memo: Dict[Hashable, Any]) \u001b[39m-\u001b[39m\u001b[39m>\u001b[39m keras\u001b[39m.\u001b[39mModel:\n\u001b[1;32m     82\u001b[0m     _, (model_bytes,) \u001b[39m=\u001b[39m pack_keras_model(model)\n\u001b[0;32m---> 83\u001b[0m     new_model \u001b[39m=\u001b[39m unpack_keras_model(model_bytes)\n\u001b[1;32m     84\u001b[0m     memo[model] \u001b[39m=\u001b[39m new_model\n\u001b[1;32m     85\u001b[0m     \u001b[39mreturn\u001b[39;00m new_model\n",
      "File \u001b[0;32m/opt/homebrew/Caskroom/miniconda/base/envs/pt/lib/python3.10/site-packages/scikeras/_saving_utils.py:53\u001b[0m, in \u001b[0;36munpack_keras_model\u001b[0;34m(packed_keras_model)\u001b[0m\n\u001b[1;32m     51\u001b[0m model: keras\u001b[39m.\u001b[39mModel \u001b[39m=\u001b[39m load_model(temp_dir)\n\u001b[1;32m     52\u001b[0m model\u001b[39m.\u001b[39mload_weights(temp_dir)\n\u001b[0;32m---> 53\u001b[0m model\u001b[39m.\u001b[39;49moptimizer\u001b[39m.\u001b[39;49mbuild(model\u001b[39m.\u001b[39mtrainable_variables)\n\u001b[1;32m     54\u001b[0m \u001b[39mreturn\u001b[39;00m model\n",
      "File \u001b[0;32m/opt/homebrew/Caskroom/miniconda/base/envs/pt/lib/python3.10/site-packages/keras/optimizers/optimizer_v2/optimizer_v2.py:975\u001b[0m, in \u001b[0;36mOptimizerV2.__getattribute__\u001b[0;34m(self, name)\u001b[0m\n\u001b[1;32m    973\u001b[0m \u001b[39mif\u001b[39;00m name \u001b[39min\u001b[39;00m \u001b[39mself\u001b[39m\u001b[39m.\u001b[39m_hyper:\n\u001b[1;32m    974\u001b[0m     \u001b[39mreturn\u001b[39;00m \u001b[39mself\u001b[39m\u001b[39m.\u001b[39m_get_hyper(name)\n\u001b[0;32m--> 975\u001b[0m \u001b[39mraise\u001b[39;00m e\n",
      "File \u001b[0;32m/opt/homebrew/Caskroom/miniconda/base/envs/pt/lib/python3.10/site-packages/keras/optimizers/optimizer_v2/optimizer_v2.py:965\u001b[0m, in \u001b[0;36mOptimizerV2.__getattribute__\u001b[0;34m(self, name)\u001b[0m\n\u001b[1;32m    963\u001b[0m \u001b[39m\u001b[39m\u001b[39m\"\"\"Overridden to support hyperparameter access.\"\"\"\u001b[39;00m\n\u001b[1;32m    964\u001b[0m \u001b[39mtry\u001b[39;00m:\n\u001b[0;32m--> 965\u001b[0m     \u001b[39mreturn\u001b[39;00m \u001b[39msuper\u001b[39;49m()\u001b[39m.\u001b[39;49m\u001b[39m__getattribute__\u001b[39;49m(name)\n\u001b[1;32m    966\u001b[0m \u001b[39mexcept\u001b[39;00m \u001b[39mAttributeError\u001b[39;00m \u001b[39mas\u001b[39;00m e:\n\u001b[1;32m    967\u001b[0m     \u001b[39m# Needed to avoid infinite recursion with __setattr__.\u001b[39;00m\n\u001b[1;32m    968\u001b[0m     \u001b[39mif\u001b[39;00m name \u001b[39m==\u001b[39m \u001b[39m\"\u001b[39m\u001b[39m_hyper\u001b[39m\u001b[39m\"\u001b[39m:\n",
      "\u001b[0;31mAttributeError\u001b[0m: 'Adam' object has no attribute 'build'"
     ]
    }
   ],
   "source": [
    "from sklearn.model_selection import KFold\n",
    "from sklearn.model_selection import RandomizedSearchCV\n",
    "from sklearn.model_selection import GridSearchCV\n",
    "cv_split = KFold(n_splits= 2, random_state=10 , shuffle=True)\n",
    "\n",
    "grid_cv= GridSearchCV(\n",
    "        pipe, \n",
    "        param_grid= MLA_params,        \n",
    "        cv= cv_split,        \n",
    "        #scoring='neg_mean_squared_error',\n",
    "        #n_iter = 1,\n",
    "        verbose= 0,         \n",
    "        #random_state=42,\n",
    "        n_jobs= -1 )\n",
    "\n",
    "tune_grid =grid_cv.fit(X_train, X_train)   \n",
    "    "
   ]
  },
  {
   "cell_type": "code",
   "execution_count": null,
   "metadata": {
    "slideshow": {
     "slide_type": "slide"
    },
    "tags": []
   },
   "outputs": [],
   "source": [
    "#eval_scores(y_train, preds )"
   ]
  },
  {
   "cell_type": "code",
   "execution_count": null,
   "metadata": {
    "slideshow": {
     "slide_type": "slide"
    },
    "tags": []
   },
   "outputs": [],
   "source": [
    "# from sklearn.metrics import confusion_matrix, ConfusionMatrixDisplay\n",
    "# cm = confusion_matrix(y_train, pipe.predict(X_train), labels= y_train.unique())\n",
    "# disp = ConfusionMatrixDisplay(confusion_matrix=cm,display_labels= y_train.unique())\n",
    "# disp.plot()\n",
    "# plt.show()"
   ]
  },
  {
   "cell_type": "markdown",
   "metadata": {},
   "source": [
    "* This results is impressive considering its a unsupervised model we managed to etect 261 out of 330 fraudulent transactions."
   ]
  },
  {
   "cell_type": "code",
   "execution_count": null,
   "metadata": {},
   "outputs": [],
   "source": []
  }
 ],
 "metadata": {
  "celltoolbar": "Slideshow",
  "kernelspec": {
   "display_name": "Python 3 (ipykernel)",
   "language": "python",
   "name": "python3"
  },
  "language_info": {
   "codemirror_mode": {
    "name": "ipython",
    "version": 3
   },
   "file_extension": ".py",
   "mimetype": "text/x-python",
   "name": "python",
   "nbconvert_exporter": "python",
   "pygments_lexer": "ipython3",
   "version": "3.10.9"
  }
 },
 "nbformat": 4,
 "nbformat_minor": 4
}
