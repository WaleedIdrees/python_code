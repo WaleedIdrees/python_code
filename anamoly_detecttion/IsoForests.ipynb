{
 "cells": [
  {
   "attachments": {},
   "cell_type": "markdown",
   "metadata": {
    "slideshow": {
     "slide_type": "slide"
    }
   },
   "source": [
    "---\n",
    "## Give your presentation a title\n",
    "title: \"My Jupyter Notebook Presentation\"\n",
    "## Choose a reveal.js theme, options are available at https://revealjs.com/themes/\n",
    "theme: \"beige\"\n",
    "## Add a main CSS file\n",
    "---\n",
    "<!-- <link rel=\"stylesheet\" type=\"text/css\" href=\"{{ filename='main.css') }}\"> -->\n",
    "<!-- Import Bootstrap styles -->\n",
    "<!-- <link rel=\"stylesheet\" href=\"https://stackpath.bootstrapcdn.com/bootstrap/4.5.2/css/bootstrap.min.css\"> -->\n"
   ]
  },
  {
   "cell_type": "code",
   "execution_count": 4,
   "metadata": {
    "slideshow": {
     "slide_type": "slide"
    },
    "tags": []
   },
   "outputs": [],
   "source": [
    "import numpy as np\n",
    "import pandas as pd\n",
    "import matplotlib.pyplot as plt\n",
    "import plotly.express as px\n",
    "pd.options.plotting.backend= \"plotly\"\n",
    "pd.set_option('display.max_columns', 150, 'display.max_rows', 100, 'display.max_colwidth', 15)\n",
    "%matplotlib inline "
   ]
  },
  {
   "cell_type": "code",
   "execution_count": 5,
   "metadata": {
    "slideshow": {
     "slide_type": "skip"
    },
    "tags": []
   },
   "outputs": [],
   "source": [
    "#!jupyter nbconvert --to markdown --output mymarkdownfile.md Anamoly_detection_credit_card.ipynb\n",
    "#!jupyter nbconvert --to slides --output mymarkdownfile.html Anamoly_detection_credit_card.ipynb\n",
    "#!jupyter nbconvert --to slides --post serve Anamoly_detection_credit_card.ipynb\n",
    "#!jupyter nbconvert --to slides --execute Anamoly_detection_credit_card.ipynb"
   ]
  },
  {
   "cell_type": "markdown",
   "metadata": {
    "slideshow": {
     "slide_type": "slide"
    }
   },
   "source": [
    "# What is PCA\n",
    "\n",
    "PCA (Principal Component Analysis) is a technique to find a low-dimensional representation of a dataset that captures as much variation as possible. It seeks a small number of dimensions that are interesting and informative, where each dimension is a linear combination of the original features. The first principal component is a normalized linear combination of the features that has the largest variance. It can be found through an optimization problem, and the resulting loadings and scores make up the principal component loading vector. PCA is useful when the original dataset has a large number of features, making it difficult to visualize and analyze."
   ]
  },
  {
   "cell_type": "markdown",
   "metadata": {
    "slideshow": {
     "slide_type": "slide"
    }
   },
   "source": [
    "# Introduction \n",
    "\n",
    "* In the real world, fraud often goes undiscovered, and only the fraud that is caught provides any labels for the datasets. \n",
    "\n",
    "* Moreover, fraud patterns change over time, so supervised systems that are built using fraud labels become stale, capturing historical patterns of fraud but failing to adapt to newly emerging patterns.\n",
    "\n",
    "* For these reasons (the lack of sufficient labels and the need to adapt to newly emerging patterns of fraud as quickly as possible), unsupervised learning fraud detection systems are in vogue.\n",
    "\n",
    "* In this notebook, we will build such a solution using PCA "
   ]
  },
  {
   "cell_type": "code",
   "execution_count": 6,
   "metadata": {
    "slideshow": {
     "slide_type": "skip"
    },
    "tags": []
   },
   "outputs": [
    {
     "ename": "FileNotFoundError",
     "evalue": "[Errno 2] No such file or directory: '/Users/waleedidrees/Dropbox/Python_Projects/books/handson-unsupervised-learning-master/datasets/credit_card_data/credit_card.csv'",
     "output_type": "error",
     "traceback": [
      "\u001b[0;31m---------------------------------------------------------------------------\u001b[0m",
      "\u001b[0;31mFileNotFoundError\u001b[0m                         Traceback (most recent call last)",
      "\u001b[1;32m/Users/waleedidrees/Library/Mobile Documents/com~apple~CloudDocs/python_projects/git_folder/anamoly_detecttion/IsoForests.ipynb Cell 6\u001b[0m line \u001b[0;36m2\n\u001b[1;32m      <a href='vscode-notebook-cell:/Users/waleedidrees/Library/Mobile%20Documents/com~apple~CloudDocs/python_projects/git_folder/anamoly_detecttion/IsoForests.ipynb#W5sZmlsZQ%3D%3D?line=0'>1</a>\u001b[0m \u001b[39m# load dataset\u001b[39;00m\n\u001b[0;32m----> <a href='vscode-notebook-cell:/Users/waleedidrees/Library/Mobile%20Documents/com~apple~CloudDocs/python_projects/git_folder/anamoly_detecttion/IsoForests.ipynb#W5sZmlsZQ%3D%3D?line=1'>2</a>\u001b[0m df \u001b[39m=\u001b[39m pd\u001b[39m.\u001b[39;49mread_csv(\u001b[39m'\u001b[39;49m\u001b[39m/Users/waleedidrees/Dropbox/Python_Projects/books/handson-unsupervised-learning-master/datasets/credit_card_data/credit_card.csv\u001b[39;49m\u001b[39m'\u001b[39;49m)\u001b[39m.\u001b[39mrename(columns\u001b[39m=\u001b[39m {\u001b[39m\"\u001b[39m\u001b[39mClass\u001b[39m\u001b[39m\"\u001b[39m:\u001b[39m\"\u001b[39m\u001b[39mtarget\u001b[39m\u001b[39m\"\u001b[39m})\n\u001b[1;32m      <a href='vscode-notebook-cell:/Users/waleedidrees/Library/Mobile%20Documents/com~apple~CloudDocs/python_projects/git_folder/anamoly_detecttion/IsoForests.ipynb#W5sZmlsZQ%3D%3D?line=2'>3</a>\u001b[0m df\u001b[39m.\u001b[39mhead()\n",
      "File \u001b[0;32m/opt/homebrew/Caskroom/miniconda/base/envs/ml/lib/python3.10/site-packages/pandas/io/parsers/readers.py:912\u001b[0m, in \u001b[0;36mread_csv\u001b[0;34m(filepath_or_buffer, sep, delimiter, header, names, index_col, usecols, dtype, engine, converters, true_values, false_values, skipinitialspace, skiprows, skipfooter, nrows, na_values, keep_default_na, na_filter, verbose, skip_blank_lines, parse_dates, infer_datetime_format, keep_date_col, date_parser, date_format, dayfirst, cache_dates, iterator, chunksize, compression, thousands, decimal, lineterminator, quotechar, quoting, doublequote, escapechar, comment, encoding, encoding_errors, dialect, on_bad_lines, delim_whitespace, low_memory, memory_map, float_precision, storage_options, dtype_backend)\u001b[0m\n\u001b[1;32m    899\u001b[0m kwds_defaults \u001b[39m=\u001b[39m _refine_defaults_read(\n\u001b[1;32m    900\u001b[0m     dialect,\n\u001b[1;32m    901\u001b[0m     delimiter,\n\u001b[0;32m   (...)\u001b[0m\n\u001b[1;32m    908\u001b[0m     dtype_backend\u001b[39m=\u001b[39mdtype_backend,\n\u001b[1;32m    909\u001b[0m )\n\u001b[1;32m    910\u001b[0m kwds\u001b[39m.\u001b[39mupdate(kwds_defaults)\n\u001b[0;32m--> 912\u001b[0m \u001b[39mreturn\u001b[39;00m _read(filepath_or_buffer, kwds)\n",
      "File \u001b[0;32m/opt/homebrew/Caskroom/miniconda/base/envs/ml/lib/python3.10/site-packages/pandas/io/parsers/readers.py:577\u001b[0m, in \u001b[0;36m_read\u001b[0;34m(filepath_or_buffer, kwds)\u001b[0m\n\u001b[1;32m    574\u001b[0m _validate_names(kwds\u001b[39m.\u001b[39mget(\u001b[39m\"\u001b[39m\u001b[39mnames\u001b[39m\u001b[39m\"\u001b[39m, \u001b[39mNone\u001b[39;00m))\n\u001b[1;32m    576\u001b[0m \u001b[39m# Create the parser.\u001b[39;00m\n\u001b[0;32m--> 577\u001b[0m parser \u001b[39m=\u001b[39m TextFileReader(filepath_or_buffer, \u001b[39m*\u001b[39;49m\u001b[39m*\u001b[39;49mkwds)\n\u001b[1;32m    579\u001b[0m \u001b[39mif\u001b[39;00m chunksize \u001b[39mor\u001b[39;00m iterator:\n\u001b[1;32m    580\u001b[0m     \u001b[39mreturn\u001b[39;00m parser\n",
      "File \u001b[0;32m/opt/homebrew/Caskroom/miniconda/base/envs/ml/lib/python3.10/site-packages/pandas/io/parsers/readers.py:1407\u001b[0m, in \u001b[0;36mTextFileReader.__init__\u001b[0;34m(self, f, engine, **kwds)\u001b[0m\n\u001b[1;32m   1404\u001b[0m     \u001b[39mself\u001b[39m\u001b[39m.\u001b[39moptions[\u001b[39m\"\u001b[39m\u001b[39mhas_index_names\u001b[39m\u001b[39m\"\u001b[39m] \u001b[39m=\u001b[39m kwds[\u001b[39m\"\u001b[39m\u001b[39mhas_index_names\u001b[39m\u001b[39m\"\u001b[39m]\n\u001b[1;32m   1406\u001b[0m \u001b[39mself\u001b[39m\u001b[39m.\u001b[39mhandles: IOHandles \u001b[39m|\u001b[39m \u001b[39mNone\u001b[39;00m \u001b[39m=\u001b[39m \u001b[39mNone\u001b[39;00m\n\u001b[0;32m-> 1407\u001b[0m \u001b[39mself\u001b[39m\u001b[39m.\u001b[39m_engine \u001b[39m=\u001b[39m \u001b[39mself\u001b[39;49m\u001b[39m.\u001b[39;49m_make_engine(f, \u001b[39mself\u001b[39;49m\u001b[39m.\u001b[39;49mengine)\n",
      "File \u001b[0;32m/opt/homebrew/Caskroom/miniconda/base/envs/ml/lib/python3.10/site-packages/pandas/io/parsers/readers.py:1661\u001b[0m, in \u001b[0;36mTextFileReader._make_engine\u001b[0;34m(self, f, engine)\u001b[0m\n\u001b[1;32m   1659\u001b[0m     \u001b[39mif\u001b[39;00m \u001b[39m\"\u001b[39m\u001b[39mb\u001b[39m\u001b[39m\"\u001b[39m \u001b[39mnot\u001b[39;00m \u001b[39min\u001b[39;00m mode:\n\u001b[1;32m   1660\u001b[0m         mode \u001b[39m+\u001b[39m\u001b[39m=\u001b[39m \u001b[39m\"\u001b[39m\u001b[39mb\u001b[39m\u001b[39m\"\u001b[39m\n\u001b[0;32m-> 1661\u001b[0m \u001b[39mself\u001b[39m\u001b[39m.\u001b[39mhandles \u001b[39m=\u001b[39m get_handle(\n\u001b[1;32m   1662\u001b[0m     f,\n\u001b[1;32m   1663\u001b[0m     mode,\n\u001b[1;32m   1664\u001b[0m     encoding\u001b[39m=\u001b[39;49m\u001b[39mself\u001b[39;49m\u001b[39m.\u001b[39;49moptions\u001b[39m.\u001b[39;49mget(\u001b[39m\"\u001b[39;49m\u001b[39mencoding\u001b[39;49m\u001b[39m\"\u001b[39;49m, \u001b[39mNone\u001b[39;49;00m),\n\u001b[1;32m   1665\u001b[0m     compression\u001b[39m=\u001b[39;49m\u001b[39mself\u001b[39;49m\u001b[39m.\u001b[39;49moptions\u001b[39m.\u001b[39;49mget(\u001b[39m\"\u001b[39;49m\u001b[39mcompression\u001b[39;49m\u001b[39m\"\u001b[39;49m, \u001b[39mNone\u001b[39;49;00m),\n\u001b[1;32m   1666\u001b[0m     memory_map\u001b[39m=\u001b[39;49m\u001b[39mself\u001b[39;49m\u001b[39m.\u001b[39;49moptions\u001b[39m.\u001b[39;49mget(\u001b[39m\"\u001b[39;49m\u001b[39mmemory_map\u001b[39;49m\u001b[39m\"\u001b[39;49m, \u001b[39mFalse\u001b[39;49;00m),\n\u001b[1;32m   1667\u001b[0m     is_text\u001b[39m=\u001b[39;49mis_text,\n\u001b[1;32m   1668\u001b[0m     errors\u001b[39m=\u001b[39;49m\u001b[39mself\u001b[39;49m\u001b[39m.\u001b[39;49moptions\u001b[39m.\u001b[39;49mget(\u001b[39m\"\u001b[39;49m\u001b[39mencoding_errors\u001b[39;49m\u001b[39m\"\u001b[39;49m, \u001b[39m\"\u001b[39;49m\u001b[39mstrict\u001b[39;49m\u001b[39m\"\u001b[39;49m),\n\u001b[1;32m   1669\u001b[0m     storage_options\u001b[39m=\u001b[39;49m\u001b[39mself\u001b[39;49m\u001b[39m.\u001b[39;49moptions\u001b[39m.\u001b[39;49mget(\u001b[39m\"\u001b[39;49m\u001b[39mstorage_options\u001b[39;49m\u001b[39m\"\u001b[39;49m, \u001b[39mNone\u001b[39;49;00m),\n\u001b[1;32m   1670\u001b[0m )\n\u001b[1;32m   1671\u001b[0m \u001b[39massert\u001b[39;00m \u001b[39mself\u001b[39m\u001b[39m.\u001b[39mhandles \u001b[39mis\u001b[39;00m \u001b[39mnot\u001b[39;00m \u001b[39mNone\u001b[39;00m\n\u001b[1;32m   1672\u001b[0m f \u001b[39m=\u001b[39m \u001b[39mself\u001b[39m\u001b[39m.\u001b[39mhandles\u001b[39m.\u001b[39mhandle\n",
      "File \u001b[0;32m/opt/homebrew/Caskroom/miniconda/base/envs/ml/lib/python3.10/site-packages/pandas/io/common.py:859\u001b[0m, in \u001b[0;36mget_handle\u001b[0;34m(path_or_buf, mode, encoding, compression, memory_map, is_text, errors, storage_options)\u001b[0m\n\u001b[1;32m    854\u001b[0m \u001b[39melif\u001b[39;00m \u001b[39misinstance\u001b[39m(handle, \u001b[39mstr\u001b[39m):\n\u001b[1;32m    855\u001b[0m     \u001b[39m# Check whether the filename is to be opened in binary mode.\u001b[39;00m\n\u001b[1;32m    856\u001b[0m     \u001b[39m# Binary mode does not support 'encoding' and 'newline'.\u001b[39;00m\n\u001b[1;32m    857\u001b[0m     \u001b[39mif\u001b[39;00m ioargs\u001b[39m.\u001b[39mencoding \u001b[39mand\u001b[39;00m \u001b[39m\"\u001b[39m\u001b[39mb\u001b[39m\u001b[39m\"\u001b[39m \u001b[39mnot\u001b[39;00m \u001b[39min\u001b[39;00m ioargs\u001b[39m.\u001b[39mmode:\n\u001b[1;32m    858\u001b[0m         \u001b[39m# Encoding\u001b[39;00m\n\u001b[0;32m--> 859\u001b[0m         handle \u001b[39m=\u001b[39m \u001b[39mopen\u001b[39;49m(\n\u001b[1;32m    860\u001b[0m             handle,\n\u001b[1;32m    861\u001b[0m             ioargs\u001b[39m.\u001b[39;49mmode,\n\u001b[1;32m    862\u001b[0m             encoding\u001b[39m=\u001b[39;49mioargs\u001b[39m.\u001b[39;49mencoding,\n\u001b[1;32m    863\u001b[0m             errors\u001b[39m=\u001b[39;49merrors,\n\u001b[1;32m    864\u001b[0m             newline\u001b[39m=\u001b[39;49m\u001b[39m\"\u001b[39;49m\u001b[39m\"\u001b[39;49m,\n\u001b[1;32m    865\u001b[0m         )\n\u001b[1;32m    866\u001b[0m     \u001b[39melse\u001b[39;00m:\n\u001b[1;32m    867\u001b[0m         \u001b[39m# Binary mode\u001b[39;00m\n\u001b[1;32m    868\u001b[0m         handle \u001b[39m=\u001b[39m \u001b[39mopen\u001b[39m(handle, ioargs\u001b[39m.\u001b[39mmode)\n",
      "\u001b[0;31mFileNotFoundError\u001b[0m: [Errno 2] No such file or directory: '/Users/waleedidrees/Dropbox/Python_Projects/books/handson-unsupervised-learning-master/datasets/credit_card_data/credit_card.csv'"
     ]
    }
   ],
   "source": [
    "# load dataset\n",
    "df = pd.read_csv('/Users/waleedidrees/Dropbox/Python_Projects/books/handson-unsupervised-learning-master/datasets/credit_card_data/credit_card.csv').rename(columns= {\"Class\":\"target\"})\n",
    "df.head()"
   ]
  },
  {
   "cell_type": "code",
   "execution_count": null,
   "metadata": {
    "slideshow": {
     "slide_type": "subslide"
    },
    "tags": []
   },
   "outputs": [
    {
     "data": {
      "text/html": [
       "<div>\n",
       "<style scoped>\n",
       "    .dataframe tbody tr th:only-of-type {\n",
       "        vertical-align: middle;\n",
       "    }\n",
       "\n",
       "    .dataframe tbody tr th {\n",
       "        vertical-align: top;\n",
       "    }\n",
       "\n",
       "    .dataframe thead th {\n",
       "        text-align: right;\n",
       "    }\n",
       "</style>\n",
       "<table border=\"1\" class=\"dataframe\">\n",
       "  <thead>\n",
       "    <tr style=\"text-align: right;\">\n",
       "      <th></th>\n",
       "      <th>time</th>\n",
       "      <th>v1</th>\n",
       "      <th>v2</th>\n",
       "      <th>v3</th>\n",
       "      <th>v4</th>\n",
       "      <th>v5</th>\n",
       "      <th>v6</th>\n",
       "      <th>v7</th>\n",
       "      <th>v8</th>\n",
       "      <th>v9</th>\n",
       "      <th>v10</th>\n",
       "      <th>v11</th>\n",
       "      <th>v12</th>\n",
       "      <th>v13</th>\n",
       "      <th>v14</th>\n",
       "      <th>v15</th>\n",
       "      <th>v16</th>\n",
       "      <th>v17</th>\n",
       "      <th>v18</th>\n",
       "      <th>v19</th>\n",
       "      <th>v20</th>\n",
       "      <th>v21</th>\n",
       "      <th>v22</th>\n",
       "      <th>v23</th>\n",
       "      <th>v24</th>\n",
       "      <th>v25</th>\n",
       "      <th>v26</th>\n",
       "      <th>v27</th>\n",
       "      <th>v28</th>\n",
       "      <th>amount</th>\n",
       "      <th>target</th>\n",
       "    </tr>\n",
       "  </thead>\n",
       "  <tbody>\n",
       "    <tr>\n",
       "      <th>0</th>\n",
       "      <td>0.0</td>\n",
       "      <td>-1.359807</td>\n",
       "      <td>-0.072781</td>\n",
       "      <td>2.536347</td>\n",
       "      <td>1.378155</td>\n",
       "      <td>-0.338321</td>\n",
       "      <td>0.462388</td>\n",
       "      <td>0.239599</td>\n",
       "      <td>0.098698</td>\n",
       "      <td>0.363787</td>\n",
       "      <td>0.090794</td>\n",
       "      <td>-0.551600</td>\n",
       "      <td>-0.617801</td>\n",
       "      <td>-0.991390</td>\n",
       "      <td>-0.311169</td>\n",
       "      <td>1.468177</td>\n",
       "      <td>-0.470401</td>\n",
       "      <td>0.207971</td>\n",
       "      <td>0.025791</td>\n",
       "      <td>0.403993</td>\n",
       "      <td>0.251412</td>\n",
       "      <td>-0.018307</td>\n",
       "      <td>0.277838</td>\n",
       "      <td>-0.110474</td>\n",
       "      <td>0.066928</td>\n",
       "      <td>0.128539</td>\n",
       "      <td>-0.189115</td>\n",
       "      <td>0.133558</td>\n",
       "      <td>-0.021053</td>\n",
       "      <td>149.62</td>\n",
       "      <td>0</td>\n",
       "    </tr>\n",
       "    <tr>\n",
       "      <th>1</th>\n",
       "      <td>0.0</td>\n",
       "      <td>1.191857</td>\n",
       "      <td>0.266151</td>\n",
       "      <td>0.166480</td>\n",
       "      <td>0.448154</td>\n",
       "      <td>0.060018</td>\n",
       "      <td>-0.082361</td>\n",
       "      <td>-0.078803</td>\n",
       "      <td>0.085102</td>\n",
       "      <td>-0.255425</td>\n",
       "      <td>-0.166974</td>\n",
       "      <td>1.612727</td>\n",
       "      <td>1.065235</td>\n",
       "      <td>0.489095</td>\n",
       "      <td>-0.143772</td>\n",
       "      <td>0.635558</td>\n",
       "      <td>0.463917</td>\n",
       "      <td>-0.114805</td>\n",
       "      <td>-0.183361</td>\n",
       "      <td>-0.145783</td>\n",
       "      <td>-0.069083</td>\n",
       "      <td>-0.225775</td>\n",
       "      <td>-0.638672</td>\n",
       "      <td>0.101288</td>\n",
       "      <td>-0.339846</td>\n",
       "      <td>0.167170</td>\n",
       "      <td>0.125895</td>\n",
       "      <td>-0.008983</td>\n",
       "      <td>0.014724</td>\n",
       "      <td>2.69</td>\n",
       "      <td>0</td>\n",
       "    </tr>\n",
       "    <tr>\n",
       "      <th>2</th>\n",
       "      <td>1.0</td>\n",
       "      <td>-1.358354</td>\n",
       "      <td>-1.340163</td>\n",
       "      <td>1.773209</td>\n",
       "      <td>0.379780</td>\n",
       "      <td>-0.503198</td>\n",
       "      <td>1.800499</td>\n",
       "      <td>0.791461</td>\n",
       "      <td>0.247676</td>\n",
       "      <td>-1.514654</td>\n",
       "      <td>0.207643</td>\n",
       "      <td>0.624501</td>\n",
       "      <td>0.066084</td>\n",
       "      <td>0.717293</td>\n",
       "      <td>-0.165946</td>\n",
       "      <td>2.345865</td>\n",
       "      <td>-2.890083</td>\n",
       "      <td>1.109969</td>\n",
       "      <td>-0.121359</td>\n",
       "      <td>-2.261857</td>\n",
       "      <td>0.524980</td>\n",
       "      <td>0.247998</td>\n",
       "      <td>0.771679</td>\n",
       "      <td>0.909412</td>\n",
       "      <td>-0.689281</td>\n",
       "      <td>-0.327642</td>\n",
       "      <td>-0.139097</td>\n",
       "      <td>-0.055353</td>\n",
       "      <td>-0.059752</td>\n",
       "      <td>378.66</td>\n",
       "      <td>0</td>\n",
       "    </tr>\n",
       "    <tr>\n",
       "      <th>3</th>\n",
       "      <td>1.0</td>\n",
       "      <td>-0.966272</td>\n",
       "      <td>-0.185226</td>\n",
       "      <td>1.792993</td>\n",
       "      <td>-0.863291</td>\n",
       "      <td>-0.010309</td>\n",
       "      <td>1.247203</td>\n",
       "      <td>0.237609</td>\n",
       "      <td>0.377436</td>\n",
       "      <td>-1.387024</td>\n",
       "      <td>-0.054952</td>\n",
       "      <td>-0.226487</td>\n",
       "      <td>0.178228</td>\n",
       "      <td>0.507757</td>\n",
       "      <td>-0.287924</td>\n",
       "      <td>-0.631418</td>\n",
       "      <td>-1.059647</td>\n",
       "      <td>-0.684093</td>\n",
       "      <td>1.965775</td>\n",
       "      <td>-1.232622</td>\n",
       "      <td>-0.208038</td>\n",
       "      <td>-0.108300</td>\n",
       "      <td>0.005274</td>\n",
       "      <td>-0.190321</td>\n",
       "      <td>-1.175575</td>\n",
       "      <td>0.647376</td>\n",
       "      <td>-0.221929</td>\n",
       "      <td>0.062723</td>\n",
       "      <td>0.061458</td>\n",
       "      <td>123.50</td>\n",
       "      <td>0</td>\n",
       "    </tr>\n",
       "    <tr>\n",
       "      <th>4</th>\n",
       "      <td>2.0</td>\n",
       "      <td>-1.158233</td>\n",
       "      <td>0.877737</td>\n",
       "      <td>1.548718</td>\n",
       "      <td>0.403034</td>\n",
       "      <td>-0.407193</td>\n",
       "      <td>0.095921</td>\n",
       "      <td>0.592941</td>\n",
       "      <td>-0.270533</td>\n",
       "      <td>0.817739</td>\n",
       "      <td>0.753074</td>\n",
       "      <td>-0.822843</td>\n",
       "      <td>0.538196</td>\n",
       "      <td>1.345852</td>\n",
       "      <td>-1.119670</td>\n",
       "      <td>0.175121</td>\n",
       "      <td>-0.451449</td>\n",
       "      <td>-0.237033</td>\n",
       "      <td>-0.038195</td>\n",
       "      <td>0.803487</td>\n",
       "      <td>0.408542</td>\n",
       "      <td>-0.009431</td>\n",
       "      <td>0.798278</td>\n",
       "      <td>-0.137458</td>\n",
       "      <td>0.141267</td>\n",
       "      <td>-0.206010</td>\n",
       "      <td>0.502292</td>\n",
       "      <td>0.219422</td>\n",
       "      <td>0.215153</td>\n",
       "      <td>69.99</td>\n",
       "      <td>0</td>\n",
       "    </tr>\n",
       "  </tbody>\n",
       "</table>\n",
       "</div>"
      ],
      "text/plain": [
       "   time        v1        v2        v3        v4        v5        v6        v7  \\\n",
       "0   0.0 -1.359807 -0.072781  2.536347  1.378155 -0.338321  0.462388  0.239599   \n",
       "1   0.0  1.191857  0.266151  0.166480  0.448154  0.060018 -0.082361 -0.078803   \n",
       "2   1.0 -1.358354 -1.340163  1.773209  0.379780 -0.503198  1.800499  0.791461   \n",
       "3   1.0 -0.966272 -0.185226  1.792993 -0.863291 -0.010309  1.247203  0.237609   \n",
       "4   2.0 -1.158233  0.877737  1.548718  0.403034 -0.407193  0.095921  0.592941   \n",
       "\n",
       "         v8        v9       v10       v11       v12       v13       v14  \\\n",
       "0  0.098698  0.363787  0.090794 -0.551600 -0.617801 -0.991390 -0.311169   \n",
       "1  0.085102 -0.255425 -0.166974  1.612727  1.065235  0.489095 -0.143772   \n",
       "2  0.247676 -1.514654  0.207643  0.624501  0.066084  0.717293 -0.165946   \n",
       "3  0.377436 -1.387024 -0.054952 -0.226487  0.178228  0.507757 -0.287924   \n",
       "4 -0.270533  0.817739  0.753074 -0.822843  0.538196  1.345852 -1.119670   \n",
       "\n",
       "        v15       v16       v17       v18       v19       v20       v21  \\\n",
       "0  1.468177 -0.470401  0.207971  0.025791  0.403993  0.251412 -0.018307   \n",
       "1  0.635558  0.463917 -0.114805 -0.183361 -0.145783 -0.069083 -0.225775   \n",
       "2  2.345865 -2.890083  1.109969 -0.121359 -2.261857  0.524980  0.247998   \n",
       "3 -0.631418 -1.059647 -0.684093  1.965775 -1.232622 -0.208038 -0.108300   \n",
       "4  0.175121 -0.451449 -0.237033 -0.038195  0.803487  0.408542 -0.009431   \n",
       "\n",
       "        v22       v23       v24       v25       v26       v27       v28  \\\n",
       "0  0.277838 -0.110474  0.066928  0.128539 -0.189115  0.133558 -0.021053   \n",
       "1 -0.638672  0.101288 -0.339846  0.167170  0.125895 -0.008983  0.014724   \n",
       "2  0.771679  0.909412 -0.689281 -0.327642 -0.139097 -0.055353 -0.059752   \n",
       "3  0.005274 -0.190321 -1.175575  0.647376 -0.221929  0.062723  0.061458   \n",
       "4  0.798278 -0.137458  0.141267 -0.206010  0.502292  0.219422  0.215153   \n",
       "\n",
       "   amount  target  \n",
       "0  149.62       0  \n",
       "1    2.69       0  \n",
       "2  378.66       0  \n",
       "3  123.50       0  \n",
       "4   69.99       0  "
      ]
     },
     "execution_count": 6,
     "metadata": {},
     "output_type": "execute_result"
    }
   ],
   "source": [
    "df.columns= df.columns.str.lower()\n",
    "df.head()"
   ]
  },
  {
   "cell_type": "markdown",
   "metadata": {},
   "source": [
    "# Disable the warnings"
   ]
  },
  {
   "cell_type": "code",
   "execution_count": null,
   "metadata": {
    "slideshow": {
     "slide_type": "skip"
    },
    "tags": []
   },
   "outputs": [],
   "source": [
    "import warnings\n",
    "warnings.filterwarnings('ignore')"
   ]
  },
  {
   "cell_type": "code",
   "execution_count": null,
   "metadata": {
    "slideshow": {
     "slide_type": "slide"
    },
    "tags": []
   },
   "outputs": [
    {
     "data": {
      "text/html": [
       "<div>\n",
       "<style scoped>\n",
       "    .dataframe tbody tr th:only-of-type {\n",
       "        vertical-align: middle;\n",
       "    }\n",
       "\n",
       "    .dataframe tbody tr th {\n",
       "        vertical-align: top;\n",
       "    }\n",
       "\n",
       "    .dataframe thead th {\n",
       "        text-align: right;\n",
       "    }\n",
       "</style>\n",
       "<table border=\"1\" class=\"dataframe\">\n",
       "  <thead>\n",
       "    <tr style=\"text-align: right;\">\n",
       "      <th></th>\n",
       "      <th>count</th>\n",
       "      <th>mean</th>\n",
       "      <th>std</th>\n",
       "      <th>min</th>\n",
       "      <th>25%</th>\n",
       "      <th>50%</th>\n",
       "      <th>75%</th>\n",
       "      <th>max</th>\n",
       "    </tr>\n",
       "  </thead>\n",
       "  <tbody>\n",
       "    <tr>\n",
       "      <th>time</th>\n",
       "      <td>284807.0</td>\n",
       "      <td>9.481386e+04</td>\n",
       "      <td>47488.145955</td>\n",
       "      <td>0.000000</td>\n",
       "      <td>54201.500000</td>\n",
       "      <td>84692.000000</td>\n",
       "      <td>139320.500000</td>\n",
       "      <td>172792.000000</td>\n",
       "    </tr>\n",
       "    <tr>\n",
       "      <th>v1</th>\n",
       "      <td>284807.0</td>\n",
       "      <td>1.168375e-15</td>\n",
       "      <td>1.958696</td>\n",
       "      <td>-56.407510</td>\n",
       "      <td>-0.920373</td>\n",
       "      <td>0.018109</td>\n",
       "      <td>1.315642</td>\n",
       "      <td>2.454930</td>\n",
       "    </tr>\n",
       "    <tr>\n",
       "      <th>v2</th>\n",
       "      <td>284807.0</td>\n",
       "      <td>3.416908e-16</td>\n",
       "      <td>1.651309</td>\n",
       "      <td>-72.715728</td>\n",
       "      <td>-0.598550</td>\n",
       "      <td>0.065486</td>\n",
       "      <td>0.803724</td>\n",
       "      <td>22.057729</td>\n",
       "    </tr>\n",
       "    <tr>\n",
       "      <th>v3</th>\n",
       "      <td>284807.0</td>\n",
       "      <td>-1.379537e-15</td>\n",
       "      <td>1.516255</td>\n",
       "      <td>-48.325589</td>\n",
       "      <td>-0.890365</td>\n",
       "      <td>0.179846</td>\n",
       "      <td>1.027196</td>\n",
       "      <td>9.382558</td>\n",
       "    </tr>\n",
       "    <tr>\n",
       "      <th>v4</th>\n",
       "      <td>284807.0</td>\n",
       "      <td>2.074095e-15</td>\n",
       "      <td>1.415869</td>\n",
       "      <td>-5.683171</td>\n",
       "      <td>-0.848640</td>\n",
       "      <td>-0.019847</td>\n",
       "      <td>0.743341</td>\n",
       "      <td>16.875344</td>\n",
       "    </tr>\n",
       "    <tr>\n",
       "      <th>v5</th>\n",
       "      <td>284807.0</td>\n",
       "      <td>9.604066e-16</td>\n",
       "      <td>1.380247</td>\n",
       "      <td>-113.743307</td>\n",
       "      <td>-0.691597</td>\n",
       "      <td>-0.054336</td>\n",
       "      <td>0.611926</td>\n",
       "      <td>34.801666</td>\n",
       "    </tr>\n",
       "    <tr>\n",
       "      <th>v6</th>\n",
       "      <td>284807.0</td>\n",
       "      <td>1.487313e-15</td>\n",
       "      <td>1.332271</td>\n",
       "      <td>-26.160506</td>\n",
       "      <td>-0.768296</td>\n",
       "      <td>-0.274187</td>\n",
       "      <td>0.398565</td>\n",
       "      <td>73.301626</td>\n",
       "    </tr>\n",
       "    <tr>\n",
       "      <th>v7</th>\n",
       "      <td>284807.0</td>\n",
       "      <td>-5.556467e-16</td>\n",
       "      <td>1.237094</td>\n",
       "      <td>-43.557242</td>\n",
       "      <td>-0.554076</td>\n",
       "      <td>0.040103</td>\n",
       "      <td>0.570436</td>\n",
       "      <td>120.589494</td>\n",
       "    </tr>\n",
       "    <tr>\n",
       "      <th>v8</th>\n",
       "      <td>284807.0</td>\n",
       "      <td>1.213481e-16</td>\n",
       "      <td>1.194353</td>\n",
       "      <td>-73.216718</td>\n",
       "      <td>-0.208630</td>\n",
       "      <td>0.022358</td>\n",
       "      <td>0.327346</td>\n",
       "      <td>20.007208</td>\n",
       "    </tr>\n",
       "    <tr>\n",
       "      <th>v9</th>\n",
       "      <td>284807.0</td>\n",
       "      <td>-2.406331e-15</td>\n",
       "      <td>1.098632</td>\n",
       "      <td>-13.434066</td>\n",
       "      <td>-0.643098</td>\n",
       "      <td>-0.051429</td>\n",
       "      <td>0.597139</td>\n",
       "      <td>15.594995</td>\n",
       "    </tr>\n",
       "    <tr>\n",
       "      <th>v10</th>\n",
       "      <td>284807.0</td>\n",
       "      <td>2.239053e-15</td>\n",
       "      <td>1.088850</td>\n",
       "      <td>-24.588262</td>\n",
       "      <td>-0.535426</td>\n",
       "      <td>-0.092917</td>\n",
       "      <td>0.453923</td>\n",
       "      <td>23.745136</td>\n",
       "    </tr>\n",
       "    <tr>\n",
       "      <th>v11</th>\n",
       "      <td>284807.0</td>\n",
       "      <td>1.673327e-15</td>\n",
       "      <td>1.020713</td>\n",
       "      <td>-4.797473</td>\n",
       "      <td>-0.762494</td>\n",
       "      <td>-0.032757</td>\n",
       "      <td>0.739593</td>\n",
       "      <td>12.018913</td>\n",
       "    </tr>\n",
       "    <tr>\n",
       "      <th>v12</th>\n",
       "      <td>284807.0</td>\n",
       "      <td>-1.247012e-15</td>\n",
       "      <td>0.999201</td>\n",
       "      <td>-18.683715</td>\n",
       "      <td>-0.405571</td>\n",
       "      <td>0.140033</td>\n",
       "      <td>0.618238</td>\n",
       "      <td>7.848392</td>\n",
       "    </tr>\n",
       "    <tr>\n",
       "      <th>v13</th>\n",
       "      <td>284807.0</td>\n",
       "      <td>8.190001e-16</td>\n",
       "      <td>0.995274</td>\n",
       "      <td>-5.791881</td>\n",
       "      <td>-0.648539</td>\n",
       "      <td>-0.013568</td>\n",
       "      <td>0.662505</td>\n",
       "      <td>7.126883</td>\n",
       "    </tr>\n",
       "    <tr>\n",
       "      <th>v14</th>\n",
       "      <td>284807.0</td>\n",
       "      <td>1.207294e-15</td>\n",
       "      <td>0.958596</td>\n",
       "      <td>-19.214325</td>\n",
       "      <td>-0.425574</td>\n",
       "      <td>0.050601</td>\n",
       "      <td>0.493150</td>\n",
       "      <td>10.526766</td>\n",
       "    </tr>\n",
       "    <tr>\n",
       "      <th>v15</th>\n",
       "      <td>284807.0</td>\n",
       "      <td>4.887456e-15</td>\n",
       "      <td>0.915316</td>\n",
       "      <td>-4.498945</td>\n",
       "      <td>-0.582884</td>\n",
       "      <td>0.048072</td>\n",
       "      <td>0.648821</td>\n",
       "      <td>8.877742</td>\n",
       "    </tr>\n",
       "    <tr>\n",
       "      <th>v16</th>\n",
       "      <td>284807.0</td>\n",
       "      <td>1.437716e-15</td>\n",
       "      <td>0.876253</td>\n",
       "      <td>-14.129855</td>\n",
       "      <td>-0.468037</td>\n",
       "      <td>0.066413</td>\n",
       "      <td>0.523296</td>\n",
       "      <td>17.315112</td>\n",
       "    </tr>\n",
       "    <tr>\n",
       "      <th>v17</th>\n",
       "      <td>284807.0</td>\n",
       "      <td>-3.772171e-16</td>\n",
       "      <td>0.849337</td>\n",
       "      <td>-25.162799</td>\n",
       "      <td>-0.483748</td>\n",
       "      <td>-0.065676</td>\n",
       "      <td>0.399675</td>\n",
       "      <td>9.253526</td>\n",
       "    </tr>\n",
       "    <tr>\n",
       "      <th>v18</th>\n",
       "      <td>284807.0</td>\n",
       "      <td>9.564149e-16</td>\n",
       "      <td>0.838176</td>\n",
       "      <td>-9.498746</td>\n",
       "      <td>-0.498850</td>\n",
       "      <td>-0.003636</td>\n",
       "      <td>0.500807</td>\n",
       "      <td>5.041069</td>\n",
       "    </tr>\n",
       "    <tr>\n",
       "      <th>v19</th>\n",
       "      <td>284807.0</td>\n",
       "      <td>1.039917e-15</td>\n",
       "      <td>0.814041</td>\n",
       "      <td>-7.213527</td>\n",
       "      <td>-0.456299</td>\n",
       "      <td>0.003735</td>\n",
       "      <td>0.458949</td>\n",
       "      <td>5.591971</td>\n",
       "    </tr>\n",
       "    <tr>\n",
       "      <th>v20</th>\n",
       "      <td>284807.0</td>\n",
       "      <td>6.406204e-16</td>\n",
       "      <td>0.770925</td>\n",
       "      <td>-54.497720</td>\n",
       "      <td>-0.211721</td>\n",
       "      <td>-0.062481</td>\n",
       "      <td>0.133041</td>\n",
       "      <td>39.420904</td>\n",
       "    </tr>\n",
       "    <tr>\n",
       "      <th>v21</th>\n",
       "      <td>284807.0</td>\n",
       "      <td>1.654067e-16</td>\n",
       "      <td>0.734524</td>\n",
       "      <td>-34.830382</td>\n",
       "      <td>-0.228395</td>\n",
       "      <td>-0.029450</td>\n",
       "      <td>0.186377</td>\n",
       "      <td>27.202839</td>\n",
       "    </tr>\n",
       "    <tr>\n",
       "      <th>v22</th>\n",
       "      <td>284807.0</td>\n",
       "      <td>-3.568593e-16</td>\n",
       "      <td>0.725702</td>\n",
       "      <td>-10.933144</td>\n",
       "      <td>-0.542350</td>\n",
       "      <td>0.006782</td>\n",
       "      <td>0.528554</td>\n",
       "      <td>10.503090</td>\n",
       "    </tr>\n",
       "    <tr>\n",
       "      <th>v23</th>\n",
       "      <td>284807.0</td>\n",
       "      <td>2.578648e-16</td>\n",
       "      <td>0.624460</td>\n",
       "      <td>-44.807735</td>\n",
       "      <td>-0.161846</td>\n",
       "      <td>-0.011193</td>\n",
       "      <td>0.147642</td>\n",
       "      <td>22.528412</td>\n",
       "    </tr>\n",
       "    <tr>\n",
       "      <th>v24</th>\n",
       "      <td>284807.0</td>\n",
       "      <td>4.473266e-15</td>\n",
       "      <td>0.605647</td>\n",
       "      <td>-2.836627</td>\n",
       "      <td>-0.354586</td>\n",
       "      <td>0.040976</td>\n",
       "      <td>0.439527</td>\n",
       "      <td>4.584549</td>\n",
       "    </tr>\n",
       "    <tr>\n",
       "      <th>v25</th>\n",
       "      <td>284807.0</td>\n",
       "      <td>5.340915e-16</td>\n",
       "      <td>0.521278</td>\n",
       "      <td>-10.295397</td>\n",
       "      <td>-0.317145</td>\n",
       "      <td>0.016594</td>\n",
       "      <td>0.350716</td>\n",
       "      <td>7.519589</td>\n",
       "    </tr>\n",
       "    <tr>\n",
       "      <th>v26</th>\n",
       "      <td>284807.0</td>\n",
       "      <td>1.683437e-15</td>\n",
       "      <td>0.482227</td>\n",
       "      <td>-2.604551</td>\n",
       "      <td>-0.326984</td>\n",
       "      <td>-0.052139</td>\n",
       "      <td>0.240952</td>\n",
       "      <td>3.517346</td>\n",
       "    </tr>\n",
       "    <tr>\n",
       "      <th>v27</th>\n",
       "      <td>284807.0</td>\n",
       "      <td>-3.660091e-16</td>\n",
       "      <td>0.403632</td>\n",
       "      <td>-22.565679</td>\n",
       "      <td>-0.070840</td>\n",
       "      <td>0.001342</td>\n",
       "      <td>0.091045</td>\n",
       "      <td>31.612198</td>\n",
       "    </tr>\n",
       "    <tr>\n",
       "      <th>v28</th>\n",
       "      <td>284807.0</td>\n",
       "      <td>-1.227390e-16</td>\n",
       "      <td>0.330083</td>\n",
       "      <td>-15.430084</td>\n",
       "      <td>-0.052960</td>\n",
       "      <td>0.011244</td>\n",
       "      <td>0.078280</td>\n",
       "      <td>33.847808</td>\n",
       "    </tr>\n",
       "    <tr>\n",
       "      <th>amount</th>\n",
       "      <td>284807.0</td>\n",
       "      <td>8.834962e+01</td>\n",
       "      <td>250.120109</td>\n",
       "      <td>0.000000</td>\n",
       "      <td>5.600000</td>\n",
       "      <td>22.000000</td>\n",
       "      <td>77.165000</td>\n",
       "      <td>25691.160000</td>\n",
       "    </tr>\n",
       "    <tr>\n",
       "      <th>target</th>\n",
       "      <td>284807.0</td>\n",
       "      <td>1.727486e-03</td>\n",
       "      <td>0.041527</td>\n",
       "      <td>0.000000</td>\n",
       "      <td>0.000000</td>\n",
       "      <td>0.000000</td>\n",
       "      <td>0.000000</td>\n",
       "      <td>1.000000</td>\n",
       "    </tr>\n",
       "  </tbody>\n",
       "</table>\n",
       "</div>"
      ],
      "text/plain": [
       "           count          mean           std         min           25%  \\\n",
       "time    284807.0  9.481386e+04  47488.145955    0.000000  54201.500000   \n",
       "v1      284807.0  1.168375e-15      1.958696  -56.407510     -0.920373   \n",
       "v2      284807.0  3.416908e-16      1.651309  -72.715728     -0.598550   \n",
       "v3      284807.0 -1.379537e-15      1.516255  -48.325589     -0.890365   \n",
       "v4      284807.0  2.074095e-15      1.415869   -5.683171     -0.848640   \n",
       "v5      284807.0  9.604066e-16      1.380247 -113.743307     -0.691597   \n",
       "v6      284807.0  1.487313e-15      1.332271  -26.160506     -0.768296   \n",
       "v7      284807.0 -5.556467e-16      1.237094  -43.557242     -0.554076   \n",
       "v8      284807.0  1.213481e-16      1.194353  -73.216718     -0.208630   \n",
       "v9      284807.0 -2.406331e-15      1.098632  -13.434066     -0.643098   \n",
       "v10     284807.0  2.239053e-15      1.088850  -24.588262     -0.535426   \n",
       "v11     284807.0  1.673327e-15      1.020713   -4.797473     -0.762494   \n",
       "v12     284807.0 -1.247012e-15      0.999201  -18.683715     -0.405571   \n",
       "v13     284807.0  8.190001e-16      0.995274   -5.791881     -0.648539   \n",
       "v14     284807.0  1.207294e-15      0.958596  -19.214325     -0.425574   \n",
       "v15     284807.0  4.887456e-15      0.915316   -4.498945     -0.582884   \n",
       "v16     284807.0  1.437716e-15      0.876253  -14.129855     -0.468037   \n",
       "v17     284807.0 -3.772171e-16      0.849337  -25.162799     -0.483748   \n",
       "v18     284807.0  9.564149e-16      0.838176   -9.498746     -0.498850   \n",
       "v19     284807.0  1.039917e-15      0.814041   -7.213527     -0.456299   \n",
       "v20     284807.0  6.406204e-16      0.770925  -54.497720     -0.211721   \n",
       "v21     284807.0  1.654067e-16      0.734524  -34.830382     -0.228395   \n",
       "v22     284807.0 -3.568593e-16      0.725702  -10.933144     -0.542350   \n",
       "v23     284807.0  2.578648e-16      0.624460  -44.807735     -0.161846   \n",
       "v24     284807.0  4.473266e-15      0.605647   -2.836627     -0.354586   \n",
       "v25     284807.0  5.340915e-16      0.521278  -10.295397     -0.317145   \n",
       "v26     284807.0  1.683437e-15      0.482227   -2.604551     -0.326984   \n",
       "v27     284807.0 -3.660091e-16      0.403632  -22.565679     -0.070840   \n",
       "v28     284807.0 -1.227390e-16      0.330083  -15.430084     -0.052960   \n",
       "amount  284807.0  8.834962e+01    250.120109    0.000000      5.600000   \n",
       "target  284807.0  1.727486e-03      0.041527    0.000000      0.000000   \n",
       "\n",
       "                 50%            75%            max  \n",
       "time    84692.000000  139320.500000  172792.000000  \n",
       "v1          0.018109       1.315642       2.454930  \n",
       "v2          0.065486       0.803724      22.057729  \n",
       "v3          0.179846       1.027196       9.382558  \n",
       "v4         -0.019847       0.743341      16.875344  \n",
       "v5         -0.054336       0.611926      34.801666  \n",
       "v6         -0.274187       0.398565      73.301626  \n",
       "v7          0.040103       0.570436     120.589494  \n",
       "v8          0.022358       0.327346      20.007208  \n",
       "v9         -0.051429       0.597139      15.594995  \n",
       "v10        -0.092917       0.453923      23.745136  \n",
       "v11        -0.032757       0.739593      12.018913  \n",
       "v12         0.140033       0.618238       7.848392  \n",
       "v13        -0.013568       0.662505       7.126883  \n",
       "v14         0.050601       0.493150      10.526766  \n",
       "v15         0.048072       0.648821       8.877742  \n",
       "v16         0.066413       0.523296      17.315112  \n",
       "v17        -0.065676       0.399675       9.253526  \n",
       "v18        -0.003636       0.500807       5.041069  \n",
       "v19         0.003735       0.458949       5.591971  \n",
       "v20        -0.062481       0.133041      39.420904  \n",
       "v21        -0.029450       0.186377      27.202839  \n",
       "v22         0.006782       0.528554      10.503090  \n",
       "v23        -0.011193       0.147642      22.528412  \n",
       "v24         0.040976       0.439527       4.584549  \n",
       "v25         0.016594       0.350716       7.519589  \n",
       "v26        -0.052139       0.240952       3.517346  \n",
       "v27         0.001342       0.091045      31.612198  \n",
       "v28         0.011244       0.078280      33.847808  \n",
       "amount     22.000000      77.165000   25691.160000  \n",
       "target      0.000000       0.000000       1.000000  "
      ]
     },
     "execution_count": 8,
     "metadata": {},
     "output_type": "execute_result"
    }
   ],
   "source": [
    "df.describe().T"
   ]
  },
  {
   "cell_type": "markdown",
   "metadata": {},
   "source": [
    "## we see that fraudulent transactions are very rare and this makes the data very imbalanced"
   ]
  },
  {
   "cell_type": "code",
   "execution_count": null,
   "metadata": {
    "slideshow": {
     "slide_type": "slide"
    },
    "tags": []
   },
   "outputs": [
    {
     "data": {
      "text/plain": [
       "0.0017304750013189597"
      ]
     },
     "execution_count": 72,
     "metadata": {},
     "output_type": "execute_result"
    }
   ],
   "source": [
    "df[\"target\"].value_counts().reset_index()\n",
    "#492/284315"
   ]
  },
  {
   "cell_type": "markdown",
   "metadata": {
    "slideshow": {
     "slide_type": "subslide"
    }
   },
   "source": [
    "we have 284,807 credit card transactions in total, of which 492 are fraudulent, with a positive (fraud) label of one. The rest are normal transactions, with a negative (not fraud) label of zero.\n",
    "We have 30 features to use for anomaly detection—time, amount, and 28 principal components. And, we will split the dataset into a training set (with 190,820 transactions and 330 cases of fraud) and a test set\n",
    "(with the remaining 93,987 transactions and 162 cases of fraud)"
   ]
  },
  {
   "cell_type": "code",
   "execution_count": null,
   "metadata": {
    "slideshow": {
     "slide_type": "slide"
    },
    "tags": []
   },
   "outputs": [
    {
     "data": {
      "application/vnd.plotly.v1+json": {
       "config": {
        "plotlyServerURL": "https://plot.ly"
       },
       "data": [
        {
         "alignmentgroup": "True",
         "hovertemplate": "index=%{marker.color}<br>target=%{y}<extra></extra>",
         "legendgroup": "",
         "marker": {
          "color": [
           0,
           1
          ],
          "coloraxis": "coloraxis",
          "pattern": {
           "shape": ""
          }
         },
         "name": "",
         "offsetgroup": "",
         "orientation": "v",
         "showlegend": false,
         "textposition": "auto",
         "type": "bar",
         "x": [
          0,
          1
         ],
         "xaxis": "x",
         "y": [
          284315,
          492
         ],
         "yaxis": "y"
        }
       ],
       "layout": {
        "barmode": "relative",
        "coloraxis": {
         "colorbar": {
          "title": {
           "text": "index"
          }
         },
         "colorscale": [
          [
           0,
           "#0d0887"
          ],
          [
           0.1111111111111111,
           "#46039f"
          ],
          [
           0.2222222222222222,
           "#7201a8"
          ],
          [
           0.3333333333333333,
           "#9c179e"
          ],
          [
           0.4444444444444444,
           "#bd3786"
          ],
          [
           0.5555555555555556,
           "#d8576b"
          ],
          [
           0.6666666666666666,
           "#ed7953"
          ],
          [
           0.7777777777777778,
           "#fb9f3a"
          ],
          [
           0.8888888888888888,
           "#fdca26"
          ],
          [
           1,
           "#f0f921"
          ]
         ]
        },
        "height": 800,
        "legend": {
         "tracegroupgap": 0
        },
        "margin": {
         "t": 60
        },
        "template": {
         "data": {
          "bar": [
           {
            "error_x": {
             "color": "#2a3f5f"
            },
            "error_y": {
             "color": "#2a3f5f"
            },
            "marker": {
             "line": {
              "color": "#E5ECF6",
              "width": 0.5
             },
             "pattern": {
              "fillmode": "overlay",
              "size": 10,
              "solidity": 0.2
             }
            },
            "type": "bar"
           }
          ],
          "barpolar": [
           {
            "marker": {
             "line": {
              "color": "#E5ECF6",
              "width": 0.5
             },
             "pattern": {
              "fillmode": "overlay",
              "size": 10,
              "solidity": 0.2
             }
            },
            "type": "barpolar"
           }
          ],
          "carpet": [
           {
            "aaxis": {
             "endlinecolor": "#2a3f5f",
             "gridcolor": "white",
             "linecolor": "white",
             "minorgridcolor": "white",
             "startlinecolor": "#2a3f5f"
            },
            "baxis": {
             "endlinecolor": "#2a3f5f",
             "gridcolor": "white",
             "linecolor": "white",
             "minorgridcolor": "white",
             "startlinecolor": "#2a3f5f"
            },
            "type": "carpet"
           }
          ],
          "choropleth": [
           {
            "colorbar": {
             "outlinewidth": 0,
             "ticks": ""
            },
            "type": "choropleth"
           }
          ],
          "contour": [
           {
            "colorbar": {
             "outlinewidth": 0,
             "ticks": ""
            },
            "colorscale": [
             [
              0,
              "#0d0887"
             ],
             [
              0.1111111111111111,
              "#46039f"
             ],
             [
              0.2222222222222222,
              "#7201a8"
             ],
             [
              0.3333333333333333,
              "#9c179e"
             ],
             [
              0.4444444444444444,
              "#bd3786"
             ],
             [
              0.5555555555555556,
              "#d8576b"
             ],
             [
              0.6666666666666666,
              "#ed7953"
             ],
             [
              0.7777777777777778,
              "#fb9f3a"
             ],
             [
              0.8888888888888888,
              "#fdca26"
             ],
             [
              1,
              "#f0f921"
             ]
            ],
            "type": "contour"
           }
          ],
          "contourcarpet": [
           {
            "colorbar": {
             "outlinewidth": 0,
             "ticks": ""
            },
            "type": "contourcarpet"
           }
          ],
          "heatmap": [
           {
            "colorbar": {
             "outlinewidth": 0,
             "ticks": ""
            },
            "colorscale": [
             [
              0,
              "#0d0887"
             ],
             [
              0.1111111111111111,
              "#46039f"
             ],
             [
              0.2222222222222222,
              "#7201a8"
             ],
             [
              0.3333333333333333,
              "#9c179e"
             ],
             [
              0.4444444444444444,
              "#bd3786"
             ],
             [
              0.5555555555555556,
              "#d8576b"
             ],
             [
              0.6666666666666666,
              "#ed7953"
             ],
             [
              0.7777777777777778,
              "#fb9f3a"
             ],
             [
              0.8888888888888888,
              "#fdca26"
             ],
             [
              1,
              "#f0f921"
             ]
            ],
            "type": "heatmap"
           }
          ],
          "heatmapgl": [
           {
            "colorbar": {
             "outlinewidth": 0,
             "ticks": ""
            },
            "colorscale": [
             [
              0,
              "#0d0887"
             ],
             [
              0.1111111111111111,
              "#46039f"
             ],
             [
              0.2222222222222222,
              "#7201a8"
             ],
             [
              0.3333333333333333,
              "#9c179e"
             ],
             [
              0.4444444444444444,
              "#bd3786"
             ],
             [
              0.5555555555555556,
              "#d8576b"
             ],
             [
              0.6666666666666666,
              "#ed7953"
             ],
             [
              0.7777777777777778,
              "#fb9f3a"
             ],
             [
              0.8888888888888888,
              "#fdca26"
             ],
             [
              1,
              "#f0f921"
             ]
            ],
            "type": "heatmapgl"
           }
          ],
          "histogram": [
           {
            "marker": {
             "pattern": {
              "fillmode": "overlay",
              "size": 10,
              "solidity": 0.2
             }
            },
            "type": "histogram"
           }
          ],
          "histogram2d": [
           {
            "colorbar": {
             "outlinewidth": 0,
             "ticks": ""
            },
            "colorscale": [
             [
              0,
              "#0d0887"
             ],
             [
              0.1111111111111111,
              "#46039f"
             ],
             [
              0.2222222222222222,
              "#7201a8"
             ],
             [
              0.3333333333333333,
              "#9c179e"
             ],
             [
              0.4444444444444444,
              "#bd3786"
             ],
             [
              0.5555555555555556,
              "#d8576b"
             ],
             [
              0.6666666666666666,
              "#ed7953"
             ],
             [
              0.7777777777777778,
              "#fb9f3a"
             ],
             [
              0.8888888888888888,
              "#fdca26"
             ],
             [
              1,
              "#f0f921"
             ]
            ],
            "type": "histogram2d"
           }
          ],
          "histogram2dcontour": [
           {
            "colorbar": {
             "outlinewidth": 0,
             "ticks": ""
            },
            "colorscale": [
             [
              0,
              "#0d0887"
             ],
             [
              0.1111111111111111,
              "#46039f"
             ],
             [
              0.2222222222222222,
              "#7201a8"
             ],
             [
              0.3333333333333333,
              "#9c179e"
             ],
             [
              0.4444444444444444,
              "#bd3786"
             ],
             [
              0.5555555555555556,
              "#d8576b"
             ],
             [
              0.6666666666666666,
              "#ed7953"
             ],
             [
              0.7777777777777778,
              "#fb9f3a"
             ],
             [
              0.8888888888888888,
              "#fdca26"
             ],
             [
              1,
              "#f0f921"
             ]
            ],
            "type": "histogram2dcontour"
           }
          ],
          "mesh3d": [
           {
            "colorbar": {
             "outlinewidth": 0,
             "ticks": ""
            },
            "type": "mesh3d"
           }
          ],
          "parcoords": [
           {
            "line": {
             "colorbar": {
              "outlinewidth": 0,
              "ticks": ""
             }
            },
            "type": "parcoords"
           }
          ],
          "pie": [
           {
            "automargin": true,
            "type": "pie"
           }
          ],
          "scatter": [
           {
            "fillpattern": {
             "fillmode": "overlay",
             "size": 10,
             "solidity": 0.2
            },
            "type": "scatter"
           }
          ],
          "scatter3d": [
           {
            "line": {
             "colorbar": {
              "outlinewidth": 0,
              "ticks": ""
             }
            },
            "marker": {
             "colorbar": {
              "outlinewidth": 0,
              "ticks": ""
             }
            },
            "type": "scatter3d"
           }
          ],
          "scattercarpet": [
           {
            "marker": {
             "colorbar": {
              "outlinewidth": 0,
              "ticks": ""
             }
            },
            "type": "scattercarpet"
           }
          ],
          "scattergeo": [
           {
            "marker": {
             "colorbar": {
              "outlinewidth": 0,
              "ticks": ""
             }
            },
            "type": "scattergeo"
           }
          ],
          "scattergl": [
           {
            "marker": {
             "colorbar": {
              "outlinewidth": 0,
              "ticks": ""
             }
            },
            "type": "scattergl"
           }
          ],
          "scattermapbox": [
           {
            "marker": {
             "colorbar": {
              "outlinewidth": 0,
              "ticks": ""
             }
            },
            "type": "scattermapbox"
           }
          ],
          "scatterpolar": [
           {
            "marker": {
             "colorbar": {
              "outlinewidth": 0,
              "ticks": ""
             }
            },
            "type": "scatterpolar"
           }
          ],
          "scatterpolargl": [
           {
            "marker": {
             "colorbar": {
              "outlinewidth": 0,
              "ticks": ""
             }
            },
            "type": "scatterpolargl"
           }
          ],
          "scatterternary": [
           {
            "marker": {
             "colorbar": {
              "outlinewidth": 0,
              "ticks": ""
             }
            },
            "type": "scatterternary"
           }
          ],
          "surface": [
           {
            "colorbar": {
             "outlinewidth": 0,
             "ticks": ""
            },
            "colorscale": [
             [
              0,
              "#0d0887"
             ],
             [
              0.1111111111111111,
              "#46039f"
             ],
             [
              0.2222222222222222,
              "#7201a8"
             ],
             [
              0.3333333333333333,
              "#9c179e"
             ],
             [
              0.4444444444444444,
              "#bd3786"
             ],
             [
              0.5555555555555556,
              "#d8576b"
             ],
             [
              0.6666666666666666,
              "#ed7953"
             ],
             [
              0.7777777777777778,
              "#fb9f3a"
             ],
             [
              0.8888888888888888,
              "#fdca26"
             ],
             [
              1,
              "#f0f921"
             ]
            ],
            "type": "surface"
           }
          ],
          "table": [
           {
            "cells": {
             "fill": {
              "color": "#EBF0F8"
             },
             "line": {
              "color": "white"
             }
            },
            "header": {
             "fill": {
              "color": "#C8D4E3"
             },
             "line": {
              "color": "white"
             }
            },
            "type": "table"
           }
          ]
         },
         "layout": {
          "annotationdefaults": {
           "arrowcolor": "#2a3f5f",
           "arrowhead": 0,
           "arrowwidth": 1
          },
          "autotypenumbers": "strict",
          "coloraxis": {
           "colorbar": {
            "outlinewidth": 0,
            "ticks": ""
           }
          },
          "colorscale": {
           "diverging": [
            [
             0,
             "#8e0152"
            ],
            [
             0.1,
             "#c51b7d"
            ],
            [
             0.2,
             "#de77ae"
            ],
            [
             0.3,
             "#f1b6da"
            ],
            [
             0.4,
             "#fde0ef"
            ],
            [
             0.5,
             "#f7f7f7"
            ],
            [
             0.6,
             "#e6f5d0"
            ],
            [
             0.7,
             "#b8e186"
            ],
            [
             0.8,
             "#7fbc41"
            ],
            [
             0.9,
             "#4d9221"
            ],
            [
             1,
             "#276419"
            ]
           ],
           "sequential": [
            [
             0,
             "#0d0887"
            ],
            [
             0.1111111111111111,
             "#46039f"
            ],
            [
             0.2222222222222222,
             "#7201a8"
            ],
            [
             0.3333333333333333,
             "#9c179e"
            ],
            [
             0.4444444444444444,
             "#bd3786"
            ],
            [
             0.5555555555555556,
             "#d8576b"
            ],
            [
             0.6666666666666666,
             "#ed7953"
            ],
            [
             0.7777777777777778,
             "#fb9f3a"
            ],
            [
             0.8888888888888888,
             "#fdca26"
            ],
            [
             1,
             "#f0f921"
            ]
           ],
           "sequentialminus": [
            [
             0,
             "#0d0887"
            ],
            [
             0.1111111111111111,
             "#46039f"
            ],
            [
             0.2222222222222222,
             "#7201a8"
            ],
            [
             0.3333333333333333,
             "#9c179e"
            ],
            [
             0.4444444444444444,
             "#bd3786"
            ],
            [
             0.5555555555555556,
             "#d8576b"
            ],
            [
             0.6666666666666666,
             "#ed7953"
            ],
            [
             0.7777777777777778,
             "#fb9f3a"
            ],
            [
             0.8888888888888888,
             "#fdca26"
            ],
            [
             1,
             "#f0f921"
            ]
           ]
          },
          "colorway": [
           "#636efa",
           "#EF553B",
           "#00cc96",
           "#ab63fa",
           "#FFA15A",
           "#19d3f3",
           "#FF6692",
           "#B6E880",
           "#FF97FF",
           "#FECB52"
          ],
          "font": {
           "color": "#2a3f5f"
          },
          "geo": {
           "bgcolor": "white",
           "lakecolor": "white",
           "landcolor": "#E5ECF6",
           "showlakes": true,
           "showland": true,
           "subunitcolor": "white"
          },
          "hoverlabel": {
           "align": "left"
          },
          "hovermode": "closest",
          "mapbox": {
           "style": "light"
          },
          "paper_bgcolor": "white",
          "plot_bgcolor": "#E5ECF6",
          "polar": {
           "angularaxis": {
            "gridcolor": "white",
            "linecolor": "white",
            "ticks": ""
           },
           "bgcolor": "#E5ECF6",
           "radialaxis": {
            "gridcolor": "white",
            "linecolor": "white",
            "ticks": ""
           }
          },
          "scene": {
           "xaxis": {
            "backgroundcolor": "#E5ECF6",
            "gridcolor": "white",
            "gridwidth": 2,
            "linecolor": "white",
            "showbackground": true,
            "ticks": "",
            "zerolinecolor": "white"
           },
           "yaxis": {
            "backgroundcolor": "#E5ECF6",
            "gridcolor": "white",
            "gridwidth": 2,
            "linecolor": "white",
            "showbackground": true,
            "ticks": "",
            "zerolinecolor": "white"
           },
           "zaxis": {
            "backgroundcolor": "#E5ECF6",
            "gridcolor": "white",
            "gridwidth": 2,
            "linecolor": "white",
            "showbackground": true,
            "ticks": "",
            "zerolinecolor": "white"
           }
          },
          "shapedefaults": {
           "line": {
            "color": "#2a3f5f"
           }
          },
          "ternary": {
           "aaxis": {
            "gridcolor": "white",
            "linecolor": "white",
            "ticks": ""
           },
           "baxis": {
            "gridcolor": "white",
            "linecolor": "white",
            "ticks": ""
           },
           "bgcolor": "#E5ECF6",
           "caxis": {
            "gridcolor": "white",
            "linecolor": "white",
            "ticks": ""
           }
          },
          "title": {
           "x": 0.05
          },
          "xaxis": {
           "automargin": true,
           "gridcolor": "white",
           "linecolor": "white",
           "ticks": "",
           "title": {
            "standoff": 15
           },
           "zerolinecolor": "white",
           "zerolinewidth": 2
          },
          "yaxis": {
           "automargin": true,
           "gridcolor": "white",
           "linecolor": "white",
           "ticks": "",
           "title": {
            "standoff": 15
           },
           "zerolinecolor": "white",
           "zerolinewidth": 2
          }
         }
        },
        "width": 800,
        "xaxis": {
         "anchor": "y",
         "domain": [
          0,
          1
         ],
         "title": {
          "text": "index"
         }
        },
        "yaxis": {
         "anchor": "x",
         "domain": [
          0,
          1
         ],
         "title": {
          "text": "target"
         }
        }
       }
      }
     },
     "metadata": {},
     "output_type": "display_data"
    }
   ],
   "source": [
    "(\n",
    "df[\"target\"]\n",
    ".value_counts()\n",
    ".reset_index()\n",
    ".plot.bar(x=\"index\", y= \"target\", color=\"index\", height= 800, width= 800)\n",
    " )"
   ]
  },
  {
   "cell_type": "code",
   "execution_count": null,
   "metadata": {
    "slideshow": {
     "slide_type": "slide"
    },
    "tags": []
   },
   "outputs": [
    {
     "data": {
      "image/png": "[encoded data removed]",
      "text/plain": [
       "<Figure size 2200x1600 with 36 Axes>"
      ]
     },
     "metadata": {},
     "output_type": "display_data"
    }
   ],
   "source": [
    "pd.options.plotting.backend = \"matplotlib\"\n",
    "\n",
    "df.hist(figsize= (22,16), bins=50)\n",
    "\n",
    "pd.options.plotting.backend = \"plotly\""
   ]
  },
  {
   "attachments": {},
   "cell_type": "markdown",
   "metadata": {
    "slideshow": {
     "slide_type": "slide"
    }
   },
   "source": [
    "## Methodology\n",
    "\n",
    "Since this an unsupervised learning problem and we will not be using the labels so we need find a way to measure the performance of the anamoly model.  Dimensionality reduction algorithms reduce the dimensionality of data while attempting to minimize the reconstruction error. However, these dimensionality reduction algorithms cannot capture all the information of the original features as they move to a lower dimensional space; therefore, there will be some error as these algorithms reconstruct the reduced feature set back to the original number of dimensions.\n",
    "we will use these errors and make a function to compare them to the original dataframe and measure the score. \n",
    "we make our performance measure as follows:\n",
    "\n",
    "* We take the difference between the original vs the pca dataframe which we created from pcs components using inverse transformation\n",
    "* then we transform the difference using min max scaller from 0 to 1 scale\n",
    "* we can consider this score as probability score and use this against the labels to calculate, precision, recall and threshhold using sklearn precision recall curve metric. \n",
    "* We will take x number of highest scores as our anomolies\n",
    "* we can all also calculate average precision score using the average precision score metric."
   ]
  },
  {
   "cell_type": "markdown",
   "metadata": {
    "slideshow": {
     "slide_type": "slide"
    }
   },
   "source": [
    "# Define evaluation functions"
   ]
  },
  {
   "cell_type": "code",
   "execution_count": null,
   "metadata": {
    "slideshow": {
     "slide_type": "slide"
    },
    "tags": []
   },
   "outputs": [],
   "source": [
    "# Calculate reconstruction error\n",
    "def anomalyScores(originalDF, pca_df):\n",
    "    loss = ((originalDF.values- pca_df.values)**2).sum(axis=1)    \n",
    "    loss = pd.Series(data=loss,index=originalDF.index)\n",
    "    loss = (loss-np.min(loss))/(np.max(loss)-np.min(loss))\n",
    "    return loss"
   ]
  },
  {
   "cell_type": "markdown",
   "metadata": {
    "slideshow": {
     "slide_type": "notes"
    }
   },
   "source": [
    "# Train-test splits\n",
    "We will remove the target variable and we will not be using it for training but we will use it to evaluate the anamolies by attaching it to anamoly scores"
   ]
  },
  {
   "cell_type": "code",
   "execution_count": null,
   "metadata": {
    "tags": []
   },
   "outputs": [
    {
     "data": {
      "text/plain": [
       "((190820, 30), (190820,), (93987, 30), (93987,))"
      ]
     },
     "execution_count": 13,
     "metadata": {},
     "output_type": "execute_result"
    }
   ],
   "source": [
    "from sklearn.model_selection import train_test_split\n",
    "X_train, X_test, y_train, y_test =  train_test_split(df.drop(columns=\"target\").copy(), df[\"target\"], test_size = 0.33,stratify=df[\"target\"],  random_state = 2018 )\n",
    "X_train.shape, y_train.shape, X_test.shape, y_test.shape"
   ]
  },
  {
   "cell_type": "markdown",
   "metadata": {},
   "source": [
    "The train data has 330 Fraudulent transaction and 190490 normal transactions"
   ]
  },
  {
   "cell_type": "code",
   "execution_count": null,
   "metadata": {
    "tags": []
   },
   "outputs": [
    {
     "data": {
      "text/plain": [
       "0    190490\n",
       "1       330\n",
       "Name: target, dtype: int64"
      ]
     },
     "execution_count": 14,
     "metadata": {},
     "output_type": "execute_result"
    }
   ],
   "source": [
    "y_train.value_counts()"
   ]
  },
  {
   "cell_type": "markdown",
   "metadata": {},
   "source": [
    "# Lets create Preprocessing Pipiline\n",
    "* all our variables are numeric we will standardise data and then as for PCA we must standardise observations."
   ]
  },
  {
   "cell_type": "code",
   "execution_count": null,
   "metadata": {
    "tags": []
   },
   "outputs": [],
   "source": [
    "from sklearn.preprocessing import StandardScaler\n",
    "from sklearn.pipeline import Pipeline\n",
    "from sklearn.compose import ColumnTransformer\n",
    "from sklearn.decomposition import PCA\n",
    "from sklearn.impute import KNNImputer"
   ]
  },
  {
   "cell_type": "code",
   "execution_count": null,
   "metadata": {
    "tags": []
   },
   "outputs": [],
   "source": [
    "num_pipe= Pipeline ( steps=[\n",
    "    (\"std\", StandardScaler()),\n",
    "    (\"impute\", KNNImputer()), \n",
    "    ])"
   ]
  },
  {
   "cell_type": "code",
   "execution_count": null,
   "metadata": {
    "tags": []
   },
   "outputs": [
    {
     "data": {
      "text/html": [
       "<div>\n",
       "<style scoped>\n",
       "    .dataframe tbody tr th:only-of-type {\n",
       "        vertical-align: middle;\n",
       "    }\n",
       "\n",
       "    .dataframe tbody tr th {\n",
       "        vertical-align: top;\n",
       "    }\n",
       "\n",
       "    .dataframe thead th {\n",
       "        text-align: right;\n",
       "    }\n",
       "</style>\n",
       "<table border=\"1\" class=\"dataframe\">\n",
       "  <thead>\n",
       "    <tr style=\"text-align: right;\">\n",
       "      <th></th>\n",
       "      <th>n__time</th>\n",
       "      <th>n__v1</th>\n",
       "      <th>n__v2</th>\n",
       "      <th>n__v3</th>\n",
       "      <th>n__v4</th>\n",
       "      <th>n__v5</th>\n",
       "      <th>n__v6</th>\n",
       "      <th>n__v7</th>\n",
       "      <th>n__v8</th>\n",
       "      <th>n__v9</th>\n",
       "      <th>n__v10</th>\n",
       "      <th>n__v11</th>\n",
       "      <th>n__v12</th>\n",
       "      <th>n__v13</th>\n",
       "      <th>n__v14</th>\n",
       "      <th>n__v15</th>\n",
       "      <th>n__v16</th>\n",
       "      <th>n__v17</th>\n",
       "      <th>n__v18</th>\n",
       "      <th>n__v19</th>\n",
       "      <th>n__v20</th>\n",
       "      <th>n__v21</th>\n",
       "      <th>n__v22</th>\n",
       "      <th>n__v23</th>\n",
       "      <th>n__v24</th>\n",
       "      <th>n__v25</th>\n",
       "      <th>n__v26</th>\n",
       "      <th>n__v27</th>\n",
       "      <th>n__v28</th>\n",
       "      <th>n__amount</th>\n",
       "    </tr>\n",
       "  </thead>\n",
       "  <tbody>\n",
       "    <tr>\n",
       "      <th>142087</th>\n",
       "      <td>-0.217345</td>\n",
       "      <td>-1.008613</td>\n",
       "      <td>1.168013</td>\n",
       "      <td>0.203077</td>\n",
       "      <td>-0.252933</td>\n",
       "      <td>-0.387030</td>\n",
       "      <td>-0.051340</td>\n",
       "      <td>-0.191393</td>\n",
       "      <td>0.917626</td>\n",
       "      <td>-0.220348</td>\n",
       "      <td>0.379391</td>\n",
       "      <td>0.891953</td>\n",
       "      <td>0.652099</td>\n",
       "      <td>-0.481673</td>\n",
       "      <td>0.888920</td>\n",
       "      <td>0.511094</td>\n",
       "      <td>0.459652</td>\n",
       "      <td>-0.178769</td>\n",
       "      <td>-0.131099</td>\n",
       "      <td>-0.030699</td>\n",
       "      <td>0.240351</td>\n",
       "      <td>-0.230649</td>\n",
       "      <td>-0.781406</td>\n",
       "      <td>0.154163</td>\n",
       "      <td>-0.584578</td>\n",
       "      <td>-0.161870</td>\n",
       "      <td>0.232116</td>\n",
       "      <td>0.525621</td>\n",
       "      <td>0.459397</td>\n",
       "      <td>-0.301324</td>\n",
       "    </tr>\n",
       "    <tr>\n",
       "      <th>165168</th>\n",
       "      <td>0.470628</td>\n",
       "      <td>0.071848</td>\n",
       "      <td>0.664025</td>\n",
       "      <td>-0.240845</td>\n",
       "      <td>-0.381091</td>\n",
       "      <td>0.694608</td>\n",
       "      <td>-0.633906</td>\n",
       "      <td>0.833474</td>\n",
       "      <td>-0.132701</td>\n",
       "      <td>-0.166967</td>\n",
       "      <td>-0.793682</td>\n",
       "      <td>-0.490992</td>\n",
       "      <td>0.366808</td>\n",
       "      <td>0.879055</td>\n",
       "      <td>-1.245368</td>\n",
       "      <td>-0.369767</td>\n",
       "      <td>0.316392</td>\n",
       "      <td>0.393419</td>\n",
       "      <td>-0.407275</td>\n",
       "      <td>-0.310150</td>\n",
       "      <td>0.099453</td>\n",
       "      <td>-0.438520</td>\n",
       "      <td>-1.037593</td>\n",
       "      <td>0.145573</td>\n",
       "      <td>1.078771</td>\n",
       "      <td>-0.761303</td>\n",
       "      <td>0.221753</td>\n",
       "      <td>0.564899</td>\n",
       "      <td>0.254973</td>\n",
       "      <td>-0.342346</td>\n",
       "    </tr>\n",
       "    <tr>\n",
       "      <th>235908</th>\n",
       "      <td>1.130719</td>\n",
       "      <td>0.099163</td>\n",
       "      <td>-0.387383</td>\n",
       "      <td>-0.945009</td>\n",
       "      <td>-1.493663</td>\n",
       "      <td>-0.092322</td>\n",
       "      <td>-0.878326</td>\n",
       "      <td>1.252531</td>\n",
       "      <td>-0.564372</td>\n",
       "      <td>-2.760963</td>\n",
       "      <td>0.979945</td>\n",
       "      <td>-0.734286</td>\n",
       "      <td>-0.940293</td>\n",
       "      <td>0.749094</td>\n",
       "      <td>0.176712</td>\n",
       "      <td>-1.084605</td>\n",
       "      <td>-2.049873</td>\n",
       "      <td>1.119388</td>\n",
       "      <td>-0.424709</td>\n",
       "      <td>0.039325</td>\n",
       "      <td>0.136822</td>\n",
       "      <td>0.597949</td>\n",
       "      <td>2.047828</td>\n",
       "      <td>0.533608</td>\n",
       "      <td>1.885871</td>\n",
       "      <td>-0.949325</td>\n",
       "      <td>0.195840</td>\n",
       "      <td>0.394576</td>\n",
       "      <td>0.789716</td>\n",
       "      <td>0.507010</td>\n",
       "    </tr>\n",
       "    <tr>\n",
       "      <th>148255</th>\n",
       "      <td>-0.110896</td>\n",
       "      <td>0.015486</td>\n",
       "      <td>0.519611</td>\n",
       "      <td>0.193472</td>\n",
       "      <td>-0.418969</td>\n",
       "      <td>0.316777</td>\n",
       "      <td>-0.774851</td>\n",
       "      <td>0.816615</td>\n",
       "      <td>-0.154107</td>\n",
       "      <td>-0.060485</td>\n",
       "      <td>-0.393037</td>\n",
       "      <td>-0.838072</td>\n",
       "      <td>0.229399</td>\n",
       "      <td>0.138905</td>\n",
       "      <td>0.095691</td>\n",
       "      <td>-0.404080</td>\n",
       "      <td>-0.180757</td>\n",
       "      <td>-0.428453</td>\n",
       "      <td>-1.022053</td>\n",
       "      <td>-0.193808</td>\n",
       "      <td>-0.038190</td>\n",
       "      <td>-0.336778</td>\n",
       "      <td>-0.738483</td>\n",
       "      <td>0.127711</td>\n",
       "      <td>-0.026519</td>\n",
       "      <td>-0.955999</td>\n",
       "      <td>0.297594</td>\n",
       "      <td>0.620507</td>\n",
       "      <td>0.285961</td>\n",
       "      <td>-0.333753</td>\n",
       "    </tr>\n",
       "    <tr>\n",
       "      <th>145672</th>\n",
       "      <td>-0.163731</td>\n",
       "      <td>0.009053</td>\n",
       "      <td>0.524138</td>\n",
       "      <td>0.175338</td>\n",
       "      <td>-0.335413</td>\n",
       "      <td>0.761346</td>\n",
       "      <td>0.501074</td>\n",
       "      <td>0.266188</td>\n",
       "      <td>0.187765</td>\n",
       "      <td>-0.186259</td>\n",
       "      <td>-0.837330</td>\n",
       "      <td>0.231244</td>\n",
       "      <td>0.693028</td>\n",
       "      <td>1.261985</td>\n",
       "      <td>-1.542311</td>\n",
       "      <td>-0.324732</td>\n",
       "      <td>1.234117</td>\n",
       "      <td>-0.316896</td>\n",
       "      <td>1.377317</td>\n",
       "      <td>0.854111</td>\n",
       "      <td>0.109213</td>\n",
       "      <td>-0.199423</td>\n",
       "      <td>-0.454902</td>\n",
       "      <td>0.047231</td>\n",
       "      <td>-0.725277</td>\n",
       "      <td>-2.181428</td>\n",
       "      <td>-0.147735</td>\n",
       "      <td>0.586351</td>\n",
       "      <td>0.739459</td>\n",
       "      <td>-0.337806</td>\n",
       "    </tr>\n",
       "  </tbody>\n",
       "</table>\n",
       "</div>"
      ],
      "text/plain": [
       "         n__time     n__v1     n__v2     n__v3     n__v4     n__v5     n__v6  \\\n",
       "142087 -0.217345 -1.008613  1.168013  0.203077 -0.252933 -0.387030 -0.051340   \n",
       "165168  0.470628  0.071848  0.664025 -0.240845 -0.381091  0.694608 -0.633906   \n",
       "235908  1.130719  0.099163 -0.387383 -0.945009 -1.493663 -0.092322 -0.878326   \n",
       "148255 -0.110896  0.015486  0.519611  0.193472 -0.418969  0.316777 -0.774851   \n",
       "145672 -0.163731  0.009053  0.524138  0.175338 -0.335413  0.761346  0.501074   \n",
       "\n",
       "           n__v7     n__v8     n__v9    n__v10    n__v11    n__v12    n__v13  \\\n",
       "142087 -0.191393  0.917626 -0.220348  0.379391  0.891953  0.652099 -0.481673   \n",
       "165168  0.833474 -0.132701 -0.166967 -0.793682 -0.490992  0.366808  0.879055   \n",
       "235908  1.252531 -0.564372 -2.760963  0.979945 -0.734286 -0.940293  0.749094   \n",
       "148255  0.816615 -0.154107 -0.060485 -0.393037 -0.838072  0.229399  0.138905   \n",
       "145672  0.266188  0.187765 -0.186259 -0.837330  0.231244  0.693028  1.261985   \n",
       "\n",
       "          n__v14    n__v15    n__v16    n__v17    n__v18    n__v19    n__v20  \\\n",
       "142087  0.888920  0.511094  0.459652 -0.178769 -0.131099 -0.030699  0.240351   \n",
       "165168 -1.245368 -0.369767  0.316392  0.393419 -0.407275 -0.310150  0.099453   \n",
       "235908  0.176712 -1.084605 -2.049873  1.119388 -0.424709  0.039325  0.136822   \n",
       "148255  0.095691 -0.404080 -0.180757 -0.428453 -1.022053 -0.193808 -0.038190   \n",
       "145672 -1.542311 -0.324732  1.234117 -0.316896  1.377317  0.854111  0.109213   \n",
       "\n",
       "          n__v21    n__v22    n__v23    n__v24    n__v25    n__v26    n__v27  \\\n",
       "142087 -0.230649 -0.781406  0.154163 -0.584578 -0.161870  0.232116  0.525621   \n",
       "165168 -0.438520 -1.037593  0.145573  1.078771 -0.761303  0.221753  0.564899   \n",
       "235908  0.597949  2.047828  0.533608  1.885871 -0.949325  0.195840  0.394576   \n",
       "148255 -0.336778 -0.738483  0.127711 -0.026519 -0.955999  0.297594  0.620507   \n",
       "145672 -0.199423 -0.454902  0.047231 -0.725277 -2.181428 -0.147735  0.586351   \n",
       "\n",
       "          n__v28  n__amount  \n",
       "142087  0.459397  -0.301324  \n",
       "165168  0.254973  -0.342346  \n",
       "235908  0.789716   0.507010  \n",
       "148255  0.285961  -0.333753  \n",
       "145672  0.739459  -0.337806  "
      ]
     },
     "execution_count": 17,
     "metadata": {},
     "output_type": "execute_result"
    }
   ],
   "source": [
    "all_cols= X_train.columns\n",
    "prep= ColumnTransformer([\n",
    "    (\"n\", num_pipe, all_cols)\n",
    "    ]).set_output(transform= \"pandas\")\n",
    "prep.fit_transform(X_train).head()"
   ]
  },
  {
   "cell_type": "markdown",
   "metadata": {},
   "source": [
    "# Lets define Evaluation Function to measure the recall, precision and roc_auc score"
   ]
  },
  {
   "cell_type": "code",
   "execution_count": null,
   "metadata": {
    "tags": []
   },
   "outputs": [],
   "source": [
    "# Evaluation Functions\n",
    "from sklearn.metrics import accuracy_score, recall_score ,average_precision_score, precision_recall_curve, precision_score, roc_auc_score,roc_curve, auc \n",
    "def eval_scores(actuals, pred):\n",
    "    res= pd.DataFrame({ \n",
    "    \"accuracy\": [accuracy_score(actuals, pred)], \n",
    "    \"recall\": [recall_score(actuals, pred)],\n",
    "    \"roc_auc\": [roc_auc_score(actuals, pred)],\n",
    "    \"precision\": [precision_score(actuals, pred)]})    \n",
    "    return res"
   ]
  },
  {
   "cell_type": "markdown",
   "metadata": {},
   "source": [
    "# Define our PCA model pipeline and see if it works fine with custom Transformer "
   ]
  },
  {
   "cell_type": "code",
   "execution_count": null,
   "metadata": {},
   "outputs": [],
   "source": [
    "from sklearn.ensemble import IsolationForest\n",
    "\n",
    "# isolation_forest = IsolationForest(random_state=42)\n",
    "# outlier_pred = isolation_forest.fit_predict(X)"
   ]
  },
  {
   "cell_type": "code",
   "execution_count": null,
   "metadata": {
    "slideshow": {
     "slide_type": "slide"
    },
    "tags": []
   },
   "outputs": [
    {
     "data": {
      "text/html": [
       "<style>#sk-container-id-30 {color: black;background-color: white;}#sk-container-id-30 pre{padding: 0;}#sk-container-id-30 div.sk-toggleable {background-color: white;}#sk-container-id-30 label.sk-toggleable__label {cursor: pointer;display: block;width: 100%;margin-bottom: 0;padding: 0.3em;box-sizing: border-box;text-align: center;}#sk-container-id-30 label.sk-toggleable__label-arrow:before {content: \"▸\";float: left;margin-right: 0.25em;color: #696969;}#sk-container-id-30 label.sk-toggleable__label-arrow:hover:before {color: black;}#sk-container-id-30 div.sk-estimator:hover label.sk-toggleable__label-arrow:before {color: black;}#sk-container-id-30 div.sk-toggleable__content {max-height: 0;max-width: 0;overflow: hidden;text-align: left;background-color: #f0f8ff;}#sk-container-id-30 div.sk-toggleable__content pre {margin: 0.2em;color: black;border-radius: 0.25em;background-color: #f0f8ff;}#sk-container-id-30 input.sk-toggleable__control:checked~div.sk-toggleable__content {max-height: 200px;max-width: 100%;overflow: auto;}#sk-container-id-30 input.sk-toggleable__control:checked~label.sk-toggleable__label-arrow:before {content: \"▾\";}#sk-container-id-30 div.sk-estimator input.sk-toggleable__control:checked~label.sk-toggleable__label {background-color: #d4ebff;}#sk-container-id-30 div.sk-label input.sk-toggleable__control:checked~label.sk-toggleable__label {background-color: #d4ebff;}#sk-container-id-30 input.sk-hidden--visually {border: 0;clip: rect(1px 1px 1px 1px);clip: rect(1px, 1px, 1px, 1px);height: 1px;margin: -1px;overflow: hidden;padding: 0;position: absolute;width: 1px;}#sk-container-id-30 div.sk-estimator {font-family: monospace;background-color: #f0f8ff;border: 1px dotted black;border-radius: 0.25em;box-sizing: border-box;margin-bottom: 0.5em;}#sk-container-id-30 div.sk-estimator:hover {background-color: #d4ebff;}#sk-container-id-30 div.sk-parallel-item::after {content: \"\";width: 100%;border-bottom: 1px solid gray;flex-grow: 1;}#sk-container-id-30 div.sk-label:hover label.sk-toggleable__label {background-color: #d4ebff;}#sk-container-id-30 div.sk-serial::before {content: \"\";position: absolute;border-left: 1px solid gray;box-sizing: border-box;top: 0;bottom: 0;left: 50%;z-index: 0;}#sk-container-id-30 div.sk-serial {display: flex;flex-direction: column;align-items: center;background-color: white;padding-right: 0.2em;padding-left: 0.2em;position: relative;}#sk-container-id-30 div.sk-item {position: relative;z-index: 1;}#sk-container-id-30 div.sk-parallel {display: flex;align-items: stretch;justify-content: center;background-color: white;position: relative;}#sk-container-id-30 div.sk-item::before, #sk-container-id-30 div.sk-parallel-item::before {content: \"\";position: absolute;border-left: 1px solid gray;box-sizing: border-box;top: 0;bottom: 0;left: 50%;z-index: -1;}#sk-container-id-30 div.sk-parallel-item {display: flex;flex-direction: column;z-index: 1;position: relative;background-color: white;}#sk-container-id-30 div.sk-parallel-item:first-child::after {align-self: flex-end;width: 50%;}#sk-container-id-30 div.sk-parallel-item:last-child::after {align-self: flex-start;width: 50%;}#sk-container-id-30 div.sk-parallel-item:only-child::after {width: 0;}#sk-container-id-30 div.sk-dashed-wrapped {border: 1px dashed gray;margin: 0 0.4em 0.5em 0.4em;box-sizing: border-box;padding-bottom: 0.4em;background-color: white;}#sk-container-id-30 div.sk-label label {font-family: monospace;font-weight: bold;display: inline-block;line-height: 1.2em;}#sk-container-id-30 div.sk-label-container {text-align: center;}#sk-container-id-30 div.sk-container {/* jupyter's `normalize.less` sets `[hidden] { display: none; }` but bootstrap.min.css set `[hidden] { display: none !important; }` so we also need the `!important` here to be able to override the default hidden behavior on the sphinx rendered scikit-learn.org. See: https://github.com/scikit-learn/scikit-learn/issues/21755 */display: inline-block !important;position: relative;}#sk-container-id-30 div.sk-text-repr-fallback {display: none;}</style><div id=\"sk-container-id-30\" class=\"sk-top-container\"><div class=\"sk-text-repr-fallback\"><pre>Pipeline(steps=[(&#x27;preprocess&#x27;,\n",
       "                 ColumnTransformer(transformers=[(&#x27;n&#x27;,\n",
       "                                                  Pipeline(steps=[(&#x27;std&#x27;,\n",
       "                                                                   StandardScaler()),\n",
       "                                                                  (&#x27;impute&#x27;,\n",
       "                                                                   KNNImputer())]),\n",
       "                                                  Index([&#x27;time&#x27;, &#x27;v1&#x27;, &#x27;v2&#x27;, &#x27;v3&#x27;, &#x27;v4&#x27;, &#x27;v5&#x27;, &#x27;v6&#x27;, &#x27;v7&#x27;, &#x27;v8&#x27;, &#x27;v9&#x27;, &#x27;v10&#x27;,\n",
       "       &#x27;v11&#x27;, &#x27;v12&#x27;, &#x27;v13&#x27;, &#x27;v14&#x27;, &#x27;v15&#x27;, &#x27;v16&#x27;, &#x27;v17&#x27;, &#x27;v18&#x27;, &#x27;v19&#x27;, &#x27;v20&#x27;,\n",
       "       &#x27;v21&#x27;, &#x27;v22&#x27;, &#x27;v23&#x27;, &#x27;v24&#x27;, &#x27;v25&#x27;, &#x27;v26&#x27;, &#x27;v27&#x27;, &#x27;v28&#x27;, &#x27;amount&#x27;],\n",
       "      dtype=&#x27;object&#x27;))])),\n",
       "                (&#x27;model&#x27;,\n",
       "                 IsolationForest(contamination=0.01, max_features=0.75,\n",
       "                                 random_state=2018))])</pre><b>In a Jupyter environment, please rerun this cell to show the HTML representation or trust the notebook. <br />On GitHub, the HTML representation is unable to render, please try loading this page with nbviewer.org.</b></div><div class=\"sk-container\" hidden><div class=\"sk-item sk-dashed-wrapped\"><div class=\"sk-label-container\"><div class=\"sk-label sk-toggleable\"><input class=\"sk-toggleable__control sk-hidden--visually\" id=\"sk-estimator-id-175\" type=\"checkbox\" ><label for=\"sk-estimator-id-175\" class=\"sk-toggleable__label sk-toggleable__label-arrow\">Pipeline</label><div class=\"sk-toggleable__content\"><pre>Pipeline(steps=[(&#x27;preprocess&#x27;,\n",
       "                 ColumnTransformer(transformers=[(&#x27;n&#x27;,\n",
       "                                                  Pipeline(steps=[(&#x27;std&#x27;,\n",
       "                                                                   StandardScaler()),\n",
       "                                                                  (&#x27;impute&#x27;,\n",
       "                                                                   KNNImputer())]),\n",
       "                                                  Index([&#x27;time&#x27;, &#x27;v1&#x27;, &#x27;v2&#x27;, &#x27;v3&#x27;, &#x27;v4&#x27;, &#x27;v5&#x27;, &#x27;v6&#x27;, &#x27;v7&#x27;, &#x27;v8&#x27;, &#x27;v9&#x27;, &#x27;v10&#x27;,\n",
       "       &#x27;v11&#x27;, &#x27;v12&#x27;, &#x27;v13&#x27;, &#x27;v14&#x27;, &#x27;v15&#x27;, &#x27;v16&#x27;, &#x27;v17&#x27;, &#x27;v18&#x27;, &#x27;v19&#x27;, &#x27;v20&#x27;,\n",
       "       &#x27;v21&#x27;, &#x27;v22&#x27;, &#x27;v23&#x27;, &#x27;v24&#x27;, &#x27;v25&#x27;, &#x27;v26&#x27;, &#x27;v27&#x27;, &#x27;v28&#x27;, &#x27;amount&#x27;],\n",
       "      dtype=&#x27;object&#x27;))])),\n",
       "                (&#x27;model&#x27;,\n",
       "                 IsolationForest(contamination=0.01, max_features=0.75,\n",
       "                                 random_state=2018))])</pre></div></div></div><div class=\"sk-serial\"><div class=\"sk-item sk-dashed-wrapped\"><div class=\"sk-label-container\"><div class=\"sk-label sk-toggleable\"><input class=\"sk-toggleable__control sk-hidden--visually\" id=\"sk-estimator-id-176\" type=\"checkbox\" ><label for=\"sk-estimator-id-176\" class=\"sk-toggleable__label sk-toggleable__label-arrow\">preprocess: ColumnTransformer</label><div class=\"sk-toggleable__content\"><pre>ColumnTransformer(transformers=[(&#x27;n&#x27;,\n",
       "                                 Pipeline(steps=[(&#x27;std&#x27;, StandardScaler()),\n",
       "                                                 (&#x27;impute&#x27;, KNNImputer())]),\n",
       "                                 Index([&#x27;time&#x27;, &#x27;v1&#x27;, &#x27;v2&#x27;, &#x27;v3&#x27;, &#x27;v4&#x27;, &#x27;v5&#x27;, &#x27;v6&#x27;, &#x27;v7&#x27;, &#x27;v8&#x27;, &#x27;v9&#x27;, &#x27;v10&#x27;,\n",
       "       &#x27;v11&#x27;, &#x27;v12&#x27;, &#x27;v13&#x27;, &#x27;v14&#x27;, &#x27;v15&#x27;, &#x27;v16&#x27;, &#x27;v17&#x27;, &#x27;v18&#x27;, &#x27;v19&#x27;, &#x27;v20&#x27;,\n",
       "       &#x27;v21&#x27;, &#x27;v22&#x27;, &#x27;v23&#x27;, &#x27;v24&#x27;, &#x27;v25&#x27;, &#x27;v26&#x27;, &#x27;v27&#x27;, &#x27;v28&#x27;, &#x27;amount&#x27;],\n",
       "      dtype=&#x27;object&#x27;))])</pre></div></div></div><div class=\"sk-parallel\"><div class=\"sk-parallel-item\"><div class=\"sk-item\"><div class=\"sk-label-container\"><div class=\"sk-label sk-toggleable\"><input class=\"sk-toggleable__control sk-hidden--visually\" id=\"sk-estimator-id-177\" type=\"checkbox\" ><label for=\"sk-estimator-id-177\" class=\"sk-toggleable__label sk-toggleable__label-arrow\">n</label><div class=\"sk-toggleable__content\"><pre>Index([&#x27;time&#x27;, &#x27;v1&#x27;, &#x27;v2&#x27;, &#x27;v3&#x27;, &#x27;v4&#x27;, &#x27;v5&#x27;, &#x27;v6&#x27;, &#x27;v7&#x27;, &#x27;v8&#x27;, &#x27;v9&#x27;, &#x27;v10&#x27;,\n",
       "       &#x27;v11&#x27;, &#x27;v12&#x27;, &#x27;v13&#x27;, &#x27;v14&#x27;, &#x27;v15&#x27;, &#x27;v16&#x27;, &#x27;v17&#x27;, &#x27;v18&#x27;, &#x27;v19&#x27;, &#x27;v20&#x27;,\n",
       "       &#x27;v21&#x27;, &#x27;v22&#x27;, &#x27;v23&#x27;, &#x27;v24&#x27;, &#x27;v25&#x27;, &#x27;v26&#x27;, &#x27;v27&#x27;, &#x27;v28&#x27;, &#x27;amount&#x27;],\n",
       "      dtype=&#x27;object&#x27;)</pre></div></div></div><div class=\"sk-serial\"><div class=\"sk-item\"><div class=\"sk-serial\"><div class=\"sk-item\"><div class=\"sk-estimator sk-toggleable\"><input class=\"sk-toggleable__control sk-hidden--visually\" id=\"sk-estimator-id-178\" type=\"checkbox\" ><label for=\"sk-estimator-id-178\" class=\"sk-toggleable__label sk-toggleable__label-arrow\">StandardScaler</label><div class=\"sk-toggleable__content\"><pre>StandardScaler()</pre></div></div></div><div class=\"sk-item\"><div class=\"sk-estimator sk-toggleable\"><input class=\"sk-toggleable__control sk-hidden--visually\" id=\"sk-estimator-id-179\" type=\"checkbox\" ><label for=\"sk-estimator-id-179\" class=\"sk-toggleable__label sk-toggleable__label-arrow\">KNNImputer</label><div class=\"sk-toggleable__content\"><pre>KNNImputer()</pre></div></div></div></div></div></div></div></div></div></div><div class=\"sk-item\"><div class=\"sk-estimator sk-toggleable\"><input class=\"sk-toggleable__control sk-hidden--visually\" id=\"sk-estimator-id-180\" type=\"checkbox\" ><label for=\"sk-estimator-id-180\" class=\"sk-toggleable__label sk-toggleable__label-arrow\">IsolationForest</label><div class=\"sk-toggleable__content\"><pre>IsolationForest(contamination=0.01, max_features=0.75, random_state=2018)</pre></div></div></div></div></div></div></div>"
      ],
      "text/plain": [
       "Pipeline(steps=[('preprocess',\n",
       "                 ColumnTransformer(transformers=[('n',\n",
       "                                                  Pipeline(steps=[('std',\n",
       "                                                                   StandardScaler()),\n",
       "                                                                  ('impute',\n",
       "                                                                   KNNImputer())]),\n",
       "                                                  Index(['time', 'v1', 'v2', 'v3', 'v4', 'v5', 'v6', 'v7', 'v8', 'v9', 'v10',\n",
       "       'v11', 'v12', 'v13', 'v14', 'v15', 'v16', 'v17', 'v18', 'v19', 'v20',\n",
       "       'v21', 'v22', 'v23', 'v24', 'v25', 'v26', 'v27', 'v28', 'amount'],\n",
       "      dtype='object'))])),\n",
       "                ('model',\n",
       "                 IsolationForest(contamination=0.01, max_features=0.75,\n",
       "                                 random_state=2018))])"
      ]
     },
     "execution_count": 263,
     "metadata": {},
     "output_type": "execute_result"
    }
   ],
   "source": [
    "#from sklearn import \n",
    "pipe= Pipeline(steps=[\n",
    "    (\"preprocess\", prep),    \n",
    "    ('model', IsolationForest(random_state=2018, n_estimators=100, contamination= .01, max_features= .75))        \n",
    "    ]\n",
    "    ).set_output(transform=\"pandas\")\n",
    "\n",
    "pipe.fit(X_train,y_train)"
   ]
  },
  {
   "cell_type": "code",
   "execution_count": null,
   "metadata": {},
   "outputs": [
    {
     "data": {
      "text/html": [
       "<div>\n",
       "<style scoped>\n",
       "    .dataframe tbody tr th:only-of-type {\n",
       "        vertical-align: middle;\n",
       "    }\n",
       "\n",
       "    .dataframe tbody tr th {\n",
       "        vertical-align: top;\n",
       "    }\n",
       "\n",
       "    .dataframe thead th {\n",
       "        text-align: right;\n",
       "    }\n",
       "</style>\n",
       "<table border=\"1\" class=\"dataframe\">\n",
       "  <thead>\n",
       "    <tr style=\"text-align: right;\">\n",
       "      <th></th>\n",
       "      <th>time</th>\n",
       "      <th>v1</th>\n",
       "      <th>v2</th>\n",
       "      <th>v3</th>\n",
       "      <th>v4</th>\n",
       "      <th>v5</th>\n",
       "      <th>v6</th>\n",
       "      <th>v7</th>\n",
       "      <th>v8</th>\n",
       "      <th>v9</th>\n",
       "      <th>v10</th>\n",
       "      <th>v11</th>\n",
       "      <th>v12</th>\n",
       "      <th>v13</th>\n",
       "      <th>v14</th>\n",
       "      <th>v15</th>\n",
       "      <th>v16</th>\n",
       "      <th>v17</th>\n",
       "      <th>v18</th>\n",
       "      <th>v19</th>\n",
       "      <th>v20</th>\n",
       "      <th>v21</th>\n",
       "      <th>v22</th>\n",
       "      <th>v23</th>\n",
       "      <th>v24</th>\n",
       "      <th>v25</th>\n",
       "      <th>v26</th>\n",
       "      <th>v27</th>\n",
       "      <th>v28</th>\n",
       "      <th>amount</th>\n",
       "      <th>anomolies</th>\n",
       "      <th>anamolies</th>\n",
       "      <th>scores</th>\n",
       "      <th>anomalies</th>\n",
       "    </tr>\n",
       "  </thead>\n",
       "  <tbody>\n",
       "    <tr>\n",
       "      <th>142087</th>\n",
       "      <td>84575.0</td>\n",
       "      <td>-1.981958</td>\n",
       "      <td>1.933460</td>\n",
       "      <td>0.305345</td>\n",
       "      <td>-0.356982</td>\n",
       "      <td>-0.533313</td>\n",
       "      <td>-0.065841</td>\n",
       "      <td>-0.238248</td>\n",
       "      <td>1.113825</td>\n",
       "      <td>-0.242343</td>\n",
       "      <td>0.412512</td>\n",
       "      <td>0.909529</td>\n",
       "      <td>0.647395</td>\n",
       "      <td>-0.479646</td>\n",
       "      <td>0.849723</td>\n",
       "      <td>0.468266</td>\n",
       "      <td>0.402417</td>\n",
       "      <td>-0.149496</td>\n",
       "      <td>-0.107187</td>\n",
       "      <td>-0.024448</td>\n",
       "      <td>0.184048</td>\n",
       "      <td>-0.171607</td>\n",
       "      <td>-0.568387</td>\n",
       "      <td>0.098089</td>\n",
       "      <td>-0.355334</td>\n",
       "      <td>-0.084147</td>\n",
       "      <td>0.111366</td>\n",
       "      <td>0.212020</td>\n",
       "      <td>0.156344</td>\n",
       "      <td>13.99</td>\n",
       "      <td>1</td>\n",
       "      <td>1</td>\n",
       "      <td>0.203620</td>\n",
       "      <td>1</td>\n",
       "    </tr>\n",
       "    <tr>\n",
       "      <th>165168</th>\n",
       "      <td>117245.0</td>\n",
       "      <td>0.141365</td>\n",
       "      <td>1.098390</td>\n",
       "      <td>-0.366686</td>\n",
       "      <td>-0.538319</td>\n",
       "      <td>0.965420</td>\n",
       "      <td>-0.844916</td>\n",
       "      <td>1.037264</td>\n",
       "      <td>-0.164037</td>\n",
       "      <td>-0.183759</td>\n",
       "      <td>-0.860538</td>\n",
       "      <td>-0.500042</td>\n",
       "      <td>0.363545</td>\n",
       "      <td>0.875323</td>\n",
       "      <td>-1.188768</td>\n",
       "      <td>-0.338717</td>\n",
       "      <td>0.277181</td>\n",
       "      <td>0.332780</td>\n",
       "      <td>-0.338180</td>\n",
       "      <td>-0.252215</td>\n",
       "      <td>0.075614</td>\n",
       "      <td>-0.328000</td>\n",
       "      <td>-0.754674</td>\n",
       "      <td>0.092707</td>\n",
       "      <td>0.653494</td>\n",
       "      <td>-0.397063</td>\n",
       "      <td>0.106378</td>\n",
       "      <td>0.227831</td>\n",
       "      <td>0.086810</td>\n",
       "      <td>3.87</td>\n",
       "      <td>1</td>\n",
       "      <td>1</td>\n",
       "      <td>0.207180</td>\n",
       "      <td>1</td>\n",
       "    </tr>\n",
       "    <tr>\n",
       "      <th>235908</th>\n",
       "      <td>148591.0</td>\n",
       "      <td>0.195044</td>\n",
       "      <td>-0.643710</td>\n",
       "      <td>-1.432682</td>\n",
       "      <td>-2.112563</td>\n",
       "      <td>-0.124961</td>\n",
       "      <td>-1.171783</td>\n",
       "      <td>1.558808</td>\n",
       "      <td>-0.689223</td>\n",
       "      <td>-3.030623</td>\n",
       "      <td>1.064250</td>\n",
       "      <td>-0.748020</td>\n",
       "      <td>-0.936953</td>\n",
       "      <td>0.745912</td>\n",
       "      <td>0.169482</td>\n",
       "      <td>-0.993601</td>\n",
       "      <td>-1.791372</td>\n",
       "      <td>0.944674</td>\n",
       "      <td>-0.352762</td>\n",
       "      <td>0.032625</td>\n",
       "      <td>0.104373</td>\n",
       "      <td>0.451796</td>\n",
       "      <td>1.488893</td>\n",
       "      <td>0.335824</td>\n",
       "      <td>1.143004</td>\n",
       "      <td>-0.495214</td>\n",
       "      <td>0.093904</td>\n",
       "      <td>0.159268</td>\n",
       "      <td>0.268700</td>\n",
       "      <td>213.40</td>\n",
       "      <td>1</td>\n",
       "      <td>1</td>\n",
       "      <td>0.124318</td>\n",
       "      <td>1</td>\n",
       "    </tr>\n",
       "    <tr>\n",
       "      <th>148255</th>\n",
       "      <td>89630.0</td>\n",
       "      <td>0.030601</td>\n",
       "      <td>0.859108</td>\n",
       "      <td>0.290804</td>\n",
       "      <td>-0.591915</td>\n",
       "      <td>0.441892</td>\n",
       "      <td>-1.033405</td>\n",
       "      <td>1.016281</td>\n",
       "      <td>-0.190080</td>\n",
       "      <td>-0.066897</td>\n",
       "      <td>-0.425748</td>\n",
       "      <td>-0.853804</td>\n",
       "      <td>0.226830</td>\n",
       "      <td>0.138305</td>\n",
       "      <td>0.092097</td>\n",
       "      <td>-0.370153</td>\n",
       "      <td>-0.157419</td>\n",
       "      <td>-0.359946</td>\n",
       "      <td>-0.852382</td>\n",
       "      <td>-0.157390</td>\n",
       "      <td>-0.030316</td>\n",
       "      <td>-0.251454</td>\n",
       "      <td>-0.537176</td>\n",
       "      <td>0.081516</td>\n",
       "      <td>-0.016869</td>\n",
       "      <td>-0.498699</td>\n",
       "      <td>0.142886</td>\n",
       "      <td>0.250215</td>\n",
       "      <td>0.097351</td>\n",
       "      <td>5.99</td>\n",
       "      <td>1</td>\n",
       "      <td>1</td>\n",
       "      <td>0.212318</td>\n",
       "      <td>1</td>\n",
       "    </tr>\n",
       "    <tr>\n",
       "      <th>145672</th>\n",
       "      <td>87121.0</td>\n",
       "      <td>0.017960</td>\n",
       "      <td>0.866609</td>\n",
       "      <td>0.263352</td>\n",
       "      <td>-0.473687</td>\n",
       "      <td>1.057894</td>\n",
       "      <td>0.672911</td>\n",
       "      <td>0.331240</td>\n",
       "      <td>0.225852</td>\n",
       "      <td>-0.204932</td>\n",
       "      <td>-0.907905</td>\n",
       "      <td>0.236099</td>\n",
       "      <td>0.688117</td>\n",
       "      <td>1.256632</td>\n",
       "      <td>-1.472383</td>\n",
       "      <td>-0.297459</td>\n",
       "      <td>1.079442</td>\n",
       "      <td>-0.265918</td>\n",
       "      <td>1.154454</td>\n",
       "      <td>0.696719</td>\n",
       "      <td>0.083125</td>\n",
       "      <td>-0.148114</td>\n",
       "      <td>-0.330969</td>\n",
       "      <td>0.031092</td>\n",
       "      <td>-0.440669</td>\n",
       "      <td>-1.138396</td>\n",
       "      <td>-0.071485</td>\n",
       "      <td>0.236466</td>\n",
       "      <td>0.251605</td>\n",
       "      <td>4.99</td>\n",
       "      <td>1</td>\n",
       "      <td>1</td>\n",
       "      <td>0.191565</td>\n",
       "      <td>1</td>\n",
       "    </tr>\n",
       "    <tr>\n",
       "      <th>...</th>\n",
       "      <td>...</td>\n",
       "      <td>...</td>\n",
       "      <td>...</td>\n",
       "      <td>...</td>\n",
       "      <td>...</td>\n",
       "      <td>...</td>\n",
       "      <td>...</td>\n",
       "      <td>...</td>\n",
       "      <td>...</td>\n",
       "      <td>...</td>\n",
       "      <td>...</td>\n",
       "      <td>...</td>\n",
       "      <td>...</td>\n",
       "      <td>...</td>\n",
       "      <td>...</td>\n",
       "      <td>...</td>\n",
       "      <td>...</td>\n",
       "      <td>...</td>\n",
       "      <td>...</td>\n",
       "      <td>...</td>\n",
       "      <td>...</td>\n",
       "      <td>...</td>\n",
       "      <td>...</td>\n",
       "      <td>...</td>\n",
       "      <td>...</td>\n",
       "      <td>...</td>\n",
       "      <td>...</td>\n",
       "      <td>...</td>\n",
       "      <td>...</td>\n",
       "      <td>...</td>\n",
       "      <td>...</td>\n",
       "      <td>...</td>\n",
       "      <td>...</td>\n",
       "      <td>...</td>\n",
       "    </tr>\n",
       "    <tr>\n",
       "      <th>30023</th>\n",
       "      <td>35743.0</td>\n",
       "      <td>-0.488687</td>\n",
       "      <td>0.166906</td>\n",
       "      <td>1.379606</td>\n",
       "      <td>-0.975304</td>\n",
       "      <td>-0.537877</td>\n",
       "      <td>-1.291099</td>\n",
       "      <td>0.500367</td>\n",
       "      <td>-0.353419</td>\n",
       "      <td>-1.452776</td>\n",
       "      <td>0.208791</td>\n",
       "      <td>-0.006428</td>\n",
       "      <td>-0.143034</td>\n",
       "      <td>0.786791</td>\n",
       "      <td>-0.502108</td>\n",
       "      <td>-0.563756</td>\n",
       "      <td>0.224719</td>\n",
       "      <td>0.765352</td>\n",
       "      <td>-1.778161</td>\n",
       "      <td>0.794505</td>\n",
       "      <td>0.088819</td>\n",
       "      <td>0.271219</td>\n",
       "      <td>0.877504</td>\n",
       "      <td>-0.041547</td>\n",
       "      <td>0.985516</td>\n",
       "      <td>0.327752</td>\n",
       "      <td>-0.145530</td>\n",
       "      <td>-0.044476</td>\n",
       "      <td>0.018997</td>\n",
       "      <td>28.00</td>\n",
       "      <td>1</td>\n",
       "      <td>1</td>\n",
       "      <td>0.170094</td>\n",
       "      <td>1</td>\n",
       "    </tr>\n",
       "    <tr>\n",
       "      <th>195475</th>\n",
       "      <td>131077.0</td>\n",
       "      <td>-0.497686</td>\n",
       "      <td>-4.552162</td>\n",
       "      <td>-3.158123</td>\n",
       "      <td>1.019695</td>\n",
       "      <td>-1.063958</td>\n",
       "      <td>0.058374</td>\n",
       "      <td>1.666589</td>\n",
       "      <td>-0.369512</td>\n",
       "      <td>0.309615</td>\n",
       "      <td>-0.229775</td>\n",
       "      <td>0.284636</td>\n",
       "      <td>-0.327934</td>\n",
       "      <td>-1.627351</td>\n",
       "      <td>1.268998</td>\n",
       "      <td>0.384672</td>\n",
       "      <td>0.657418</td>\n",
       "      <td>-0.757643</td>\n",
       "      <td>0.899814</td>\n",
       "      <td>-0.173713</td>\n",
       "      <td>2.445691</td>\n",
       "      <td>1.013100</td>\n",
       "      <td>-0.160851</td>\n",
       "      <td>-1.137851</td>\n",
       "      <td>0.370216</td>\n",
       "      <td>-0.451032</td>\n",
       "      <td>0.625165</td>\n",
       "      <td>-0.364470</td>\n",
       "      <td>0.150407</td>\n",
       "      <td>1340.41</td>\n",
       "      <td>1</td>\n",
       "      <td>1</td>\n",
       "      <td>0.101959</td>\n",
       "      <td>1</td>\n",
       "    </tr>\n",
       "    <tr>\n",
       "      <th>48687</th>\n",
       "      <td>43742.0</td>\n",
       "      <td>0.207689</td>\n",
       "      <td>-1.867709</td>\n",
       "      <td>-0.713193</td>\n",
       "      <td>0.221505</td>\n",
       "      <td>-0.764161</td>\n",
       "      <td>-0.501496</td>\n",
       "      <td>0.809238</td>\n",
       "      <td>-0.338811</td>\n",
       "      <td>0.225005</td>\n",
       "      <td>-0.470414</td>\n",
       "      <td>-0.978353</td>\n",
       "      <td>-0.121359</td>\n",
       "      <td>0.113195</td>\n",
       "      <td>0.398387</td>\n",
       "      <td>1.207252</td>\n",
       "      <td>0.545421</td>\n",
       "      <td>-0.538732</td>\n",
       "      <td>-0.241905</td>\n",
       "      <td>0.294028</td>\n",
       "      <td>1.155351</td>\n",
       "      <td>0.072422</td>\n",
       "      <td>-1.151118</td>\n",
       "      <td>-0.515197</td>\n",
       "      <td>-0.375966</td>\n",
       "      <td>0.057042</td>\n",
       "      <td>0.835926</td>\n",
       "      <td>-0.202497</td>\n",
       "      <td>0.099087</td>\n",
       "      <td>599.00</td>\n",
       "      <td>1</td>\n",
       "      <td>1</td>\n",
       "      <td>0.163242</td>\n",
       "      <td>1</td>\n",
       "    </tr>\n",
       "    <tr>\n",
       "      <th>159608</th>\n",
       "      <td>112716.0</td>\n",
       "      <td>0.109095</td>\n",
       "      <td>0.820418</td>\n",
       "      <td>-0.149979</td>\n",
       "      <td>-0.825409</td>\n",
       "      <td>0.893693</td>\n",
       "      <td>-0.524624</td>\n",
       "      <td>1.002682</td>\n",
       "      <td>-0.138959</td>\n",
       "      <td>0.034570</td>\n",
       "      <td>-0.411872</td>\n",
       "      <td>-1.867236</td>\n",
       "      <td>-0.240419</td>\n",
       "      <td>0.129672</td>\n",
       "      <td>0.063090</td>\n",
       "      <td>-0.319994</td>\n",
       "      <td>0.213897</td>\n",
       "      <td>-0.783230</td>\n",
       "      <td>-0.399569</td>\n",
       "      <td>0.307070</td>\n",
       "      <td>0.001718</td>\n",
       "      <td>-0.326690</td>\n",
       "      <td>-0.768341</td>\n",
       "      <td>-0.046445</td>\n",
       "      <td>-1.012910</td>\n",
       "      <td>-0.350652</td>\n",
       "      <td>0.202805</td>\n",
       "      <td>0.243677</td>\n",
       "      <td>0.087102</td>\n",
       "      <td>8.08</td>\n",
       "      <td>1</td>\n",
       "      <td>1</td>\n",
       "      <td>0.199557</td>\n",
       "      <td>1</td>\n",
       "    </tr>\n",
       "    <tr>\n",
       "      <th>197673</th>\n",
       "      <td>132124.0</td>\n",
       "      <td>-0.738479</td>\n",
       "      <td>0.519659</td>\n",
       "      <td>-3.176011</td>\n",
       "      <td>-4.635198</td>\n",
       "      <td>2.392400</td>\n",
       "      <td>2.219443</td>\n",
       "      <td>-0.035056</td>\n",
       "      <td>1.369309</td>\n",
       "      <td>-1.083006</td>\n",
       "      <td>-0.733968</td>\n",
       "      <td>-0.655669</td>\n",
       "      <td>0.181184</td>\n",
       "      <td>-0.129372</td>\n",
       "      <td>1.268443</td>\n",
       "      <td>-0.326207</td>\n",
       "      <td>-1.792063</td>\n",
       "      <td>-0.228352</td>\n",
       "      <td>0.744639</td>\n",
       "      <td>-1.689030</td>\n",
       "      <td>-0.788104</td>\n",
       "      <td>-0.051756</td>\n",
       "      <td>0.090444</td>\n",
       "      <td>0.108083</td>\n",
       "      <td>0.711812</td>\n",
       "      <td>-0.645796</td>\n",
       "      <td>0.012173</td>\n",
       "      <td>0.061509</td>\n",
       "      <td>0.150838</td>\n",
       "      <td>1.23</td>\n",
       "      <td>1</td>\n",
       "      <td>1</td>\n",
       "      <td>0.111461</td>\n",
       "      <td>1</td>\n",
       "    </tr>\n",
       "  </tbody>\n",
       "</table>\n",
       "<p>190820 rows × 34 columns</p>\n",
       "</div>"
      ],
      "text/plain": [
       "            time        v1        v2        v3        v4        v5        v6  \\\n",
       "142087   84575.0 -1.981958  1.933460  0.305345 -0.356982 -0.533313 -0.065841   \n",
       "165168  117245.0  0.141365  1.098390 -0.366686 -0.538319  0.965420 -0.844916   \n",
       "235908  148591.0  0.195044 -0.643710 -1.432682 -2.112563 -0.124961 -1.171783   \n",
       "148255   89630.0  0.030601  0.859108  0.290804 -0.591915  0.441892 -1.033405   \n",
       "145672   87121.0  0.017960  0.866609  0.263352 -0.473687  1.057894  0.672911   \n",
       "...          ...       ...       ...       ...       ...       ...       ...   \n",
       "30023    35743.0 -0.488687  0.166906  1.379606 -0.975304 -0.537877 -1.291099   \n",
       "195475  131077.0 -0.497686 -4.552162 -3.158123  1.019695 -1.063958  0.058374   \n",
       "48687    43742.0  0.207689 -1.867709 -0.713193  0.221505 -0.764161 -0.501496   \n",
       "159608  112716.0  0.109095  0.820418 -0.149979 -0.825409  0.893693 -0.524624   \n",
       "197673  132124.0 -0.738479  0.519659 -3.176011 -4.635198  2.392400  2.219443   \n",
       "\n",
       "              v7        v8        v9       v10       v11       v12       v13  \\\n",
       "142087 -0.238248  1.113825 -0.242343  0.412512  0.909529  0.647395 -0.479646   \n",
       "165168  1.037264 -0.164037 -0.183759 -0.860538 -0.500042  0.363545  0.875323   \n",
       "235908  1.558808 -0.689223 -3.030623  1.064250 -0.748020 -0.936953  0.745912   \n",
       "148255  1.016281 -0.190080 -0.066897 -0.425748 -0.853804  0.226830  0.138305   \n",
       "145672  0.331240  0.225852 -0.204932 -0.907905  0.236099  0.688117  1.256632   \n",
       "...          ...       ...       ...       ...       ...       ...       ...   \n",
       "30023   0.500367 -0.353419 -1.452776  0.208791 -0.006428 -0.143034  0.786791   \n",
       "195475  1.666589 -0.369512  0.309615 -0.229775  0.284636 -0.327934 -1.627351   \n",
       "48687   0.809238 -0.338811  0.225005 -0.470414 -0.978353 -0.121359  0.113195   \n",
       "159608  1.002682 -0.138959  0.034570 -0.411872 -1.867236 -0.240419  0.129672   \n",
       "197673 -0.035056  1.369309 -1.083006 -0.733968 -0.655669  0.181184 -0.129372   \n",
       "\n",
       "             v14       v15       v16       v17       v18       v19       v20  \\\n",
       "142087  0.849723  0.468266  0.402417 -0.149496 -0.107187 -0.024448  0.184048   \n",
       "165168 -1.188768 -0.338717  0.277181  0.332780 -0.338180 -0.252215  0.075614   \n",
       "235908  0.169482 -0.993601 -1.791372  0.944674 -0.352762  0.032625  0.104373   \n",
       "148255  0.092097 -0.370153 -0.157419 -0.359946 -0.852382 -0.157390 -0.030316   \n",
       "145672 -1.472383 -0.297459  1.079442 -0.265918  1.154454  0.696719  0.083125   \n",
       "...          ...       ...       ...       ...       ...       ...       ...   \n",
       "30023  -0.502108 -0.563756  0.224719  0.765352 -1.778161  0.794505  0.088819   \n",
       "195475  1.268998  0.384672  0.657418 -0.757643  0.899814 -0.173713  2.445691   \n",
       "48687   0.398387  1.207252  0.545421 -0.538732 -0.241905  0.294028  1.155351   \n",
       "159608  0.063090 -0.319994  0.213897 -0.783230 -0.399569  0.307070  0.001718   \n",
       "197673  1.268443 -0.326207 -1.792063 -0.228352  0.744639 -1.689030 -0.788104   \n",
       "\n",
       "             v21       v22       v23       v24       v25       v26       v27  \\\n",
       "142087 -0.171607 -0.568387  0.098089 -0.355334 -0.084147  0.111366  0.212020   \n",
       "165168 -0.328000 -0.754674  0.092707  0.653494 -0.397063  0.106378  0.227831   \n",
       "235908  0.451796  1.488893  0.335824  1.143004 -0.495214  0.093904  0.159268   \n",
       "148255 -0.251454 -0.537176  0.081516 -0.016869 -0.498699  0.142886  0.250215   \n",
       "145672 -0.148114 -0.330969  0.031092 -0.440669 -1.138396 -0.071485  0.236466   \n",
       "...          ...       ...       ...       ...       ...       ...       ...   \n",
       "30023   0.271219  0.877504 -0.041547  0.985516  0.327752 -0.145530 -0.044476   \n",
       "195475  1.013100 -0.160851 -1.137851  0.370216 -0.451032  0.625165 -0.364470   \n",
       "48687   0.072422 -1.151118 -0.515197 -0.375966  0.057042  0.835926 -0.202497   \n",
       "159608 -0.326690 -0.768341 -0.046445 -1.012910 -0.350652  0.202805  0.243677   \n",
       "197673 -0.051756  0.090444  0.108083  0.711812 -0.645796  0.012173  0.061509   \n",
       "\n",
       "             v28   amount  anomolies  anamolies    scores  anomalies  \n",
       "142087  0.156344    13.99          1          1  0.203620          1  \n",
       "165168  0.086810     3.87          1          1  0.207180          1  \n",
       "235908  0.268700   213.40          1          1  0.124318          1  \n",
       "148255  0.097351     5.99          1          1  0.212318          1  \n",
       "145672  0.251605     4.99          1          1  0.191565          1  \n",
       "...          ...      ...        ...        ...       ...        ...  \n",
       "30023   0.018997    28.00          1          1  0.170094          1  \n",
       "195475  0.150407  1340.41          1          1  0.101959          1  \n",
       "48687   0.099087   599.00          1          1  0.163242          1  \n",
       "159608  0.087102     8.08          1          1  0.199557          1  \n",
       "197673  0.150838     1.23          1          1  0.111461          1  \n",
       "\n",
       "[190820 rows x 34 columns]"
      ]
     },
     "execution_count": 264,
     "metadata": {},
     "output_type": "execute_result"
    }
   ],
   "source": [
    "df_anomaly= X_train.copy()\n",
    "df_anomaly['scores']= pipe.decision_function(X_train)\n",
    "df_anomaly[\"anomalies\"]= pipe.predict(X_train)\n",
    "df_anomaly"
   ]
  },
  {
   "cell_type": "code",
   "execution_count": null,
   "metadata": {},
   "outputs": [
    {
     "data": {
      "text/html": [
       "<div>\n",
       "<style scoped>\n",
       "    .dataframe tbody tr th:only-of-type {\n",
       "        vertical-align: middle;\n",
       "    }\n",
       "\n",
       "    .dataframe tbody tr th {\n",
       "        vertical-align: top;\n",
       "    }\n",
       "\n",
       "    .dataframe thead th {\n",
       "        text-align: right;\n",
       "    }\n",
       "</style>\n",
       "<table border=\"1\" class=\"dataframe\">\n",
       "  <thead>\n",
       "    <tr style=\"text-align: right;\">\n",
       "      <th></th>\n",
       "      <th>time</th>\n",
       "      <th>v1</th>\n",
       "      <th>v2</th>\n",
       "      <th>v3</th>\n",
       "      <th>v4</th>\n",
       "      <th>v5</th>\n",
       "      <th>v6</th>\n",
       "      <th>v7</th>\n",
       "      <th>v8</th>\n",
       "      <th>v9</th>\n",
       "      <th>v10</th>\n",
       "      <th>v11</th>\n",
       "      <th>v12</th>\n",
       "      <th>v13</th>\n",
       "      <th>v14</th>\n",
       "      <th>v15</th>\n",
       "      <th>v16</th>\n",
       "      <th>v17</th>\n",
       "      <th>v18</th>\n",
       "      <th>v19</th>\n",
       "      <th>v20</th>\n",
       "      <th>v21</th>\n",
       "      <th>v22</th>\n",
       "      <th>v23</th>\n",
       "      <th>v24</th>\n",
       "      <th>v25</th>\n",
       "      <th>v26</th>\n",
       "      <th>v27</th>\n",
       "      <th>v28</th>\n",
       "      <th>amount</th>\n",
       "      <th>anomolies</th>\n",
       "      <th>anamolies</th>\n",
       "      <th>scores</th>\n",
       "      <th>anomalies</th>\n",
       "    </tr>\n",
       "  </thead>\n",
       "  <tbody>\n",
       "    <tr>\n",
       "      <th>39769</th>\n",
       "      <td>39954.0</td>\n",
       "      <td>-56.407510</td>\n",
       "      <td>-72.715728</td>\n",
       "      <td>-6.605265</td>\n",
       "      <td>16.491217</td>\n",
       "      <td>34.801666</td>\n",
       "      <td>-26.160506</td>\n",
       "      <td>-19.399981</td>\n",
       "      <td>-1.501300</td>\n",
       "      <td>6.967698</td>\n",
       "      <td>9.537780</td>\n",
       "      <td>3.089395</td>\n",
       "      <td>1.776452</td>\n",
       "      <td>3.732744</td>\n",
       "      <td>-2.530792</td>\n",
       "      <td>5.784514</td>\n",
       "      <td>3.903988</td>\n",
       "      <td>-1.929314</td>\n",
       "      <td>0.206699</td>\n",
       "      <td>2.805883</td>\n",
       "      <td>-12.360962</td>\n",
       "      <td>-6.266878</td>\n",
       "      <td>-1.272167</td>\n",
       "      <td>7.893082</td>\n",
       "      <td>0.767805</td>\n",
       "      <td>5.376595</td>\n",
       "      <td>0.163672</td>\n",
       "      <td>-8.358317</td>\n",
       "      <td>33.847808</td>\n",
       "      <td>1201.83</td>\n",
       "      <td>-1</td>\n",
       "      <td>-1</td>\n",
       "      <td>-0.181795</td>\n",
       "      <td>-1</td>\n",
       "    </tr>\n",
       "    <tr>\n",
       "      <th>274771</th>\n",
       "      <td>166198.0</td>\n",
       "      <td>-35.548539</td>\n",
       "      <td>-31.850484</td>\n",
       "      <td>-48.325589</td>\n",
       "      <td>15.304184</td>\n",
       "      <td>-113.743307</td>\n",
       "      <td>73.301626</td>\n",
       "      <td>120.589494</td>\n",
       "      <td>-27.347360</td>\n",
       "      <td>-3.872425</td>\n",
       "      <td>-12.005487</td>\n",
       "      <td>6.853897</td>\n",
       "      <td>-9.189418</td>\n",
       "      <td>7.126883</td>\n",
       "      <td>-6.795942</td>\n",
       "      <td>8.877742</td>\n",
       "      <td>17.315112</td>\n",
       "      <td>-7.173805</td>\n",
       "      <td>-1.968044</td>\n",
       "      <td>5.501747</td>\n",
       "      <td>-54.497720</td>\n",
       "      <td>-21.620120</td>\n",
       "      <td>5.712303</td>\n",
       "      <td>-1.581098</td>\n",
       "      <td>4.584549</td>\n",
       "      <td>4.554683</td>\n",
       "      <td>3.415636</td>\n",
       "      <td>31.612198</td>\n",
       "      <td>-15.430084</td>\n",
       "      <td>25691.16</td>\n",
       "      <td>-1</td>\n",
       "      <td>-1</td>\n",
       "      <td>-0.180410</td>\n",
       "      <td>-1</td>\n",
       "    </tr>\n",
       "    <tr>\n",
       "      <th>121787</th>\n",
       "      <td>76318.0</td>\n",
       "      <td>-22.594958</td>\n",
       "      <td>-18.185294</td>\n",
       "      <td>-9.164820</td>\n",
       "      <td>8.464731</td>\n",
       "      <td>-10.335665</td>\n",
       "      <td>7.521470</td>\n",
       "      <td>10.145492</td>\n",
       "      <td>-3.394426</td>\n",
       "      <td>5.025957</td>\n",
       "      <td>4.678281</td>\n",
       "      <td>0.524518</td>\n",
       "      <td>-0.133233</td>\n",
       "      <td>1.483031</td>\n",
       "      <td>-3.123475</td>\n",
       "      <td>1.934128</td>\n",
       "      <td>3.106925</td>\n",
       "      <td>-1.128033</td>\n",
       "      <td>-0.474485</td>\n",
       "      <td>2.411694</td>\n",
       "      <td>-10.349613</td>\n",
       "      <td>-4.705954</td>\n",
       "      <td>-0.695902</td>\n",
       "      <td>-11.359689</td>\n",
       "      <td>-0.342331</td>\n",
       "      <td>-0.805144</td>\n",
       "      <td>0.091900</td>\n",
       "      <td>-3.141773</td>\n",
       "      <td>6.341989</td>\n",
       "      <td>1729.79</td>\n",
       "      <td>-1</td>\n",
       "      <td>-1</td>\n",
       "      <td>-0.172163</td>\n",
       "      <td>-1</td>\n",
       "    </tr>\n",
       "    <tr>\n",
       "      <th>176335</th>\n",
       "      <td>122723.0</td>\n",
       "      <td>-35.274010</td>\n",
       "      <td>-34.889342</td>\n",
       "      <td>-15.070015</td>\n",
       "      <td>9.211564</td>\n",
       "      <td>-6.226835</td>\n",
       "      <td>3.828063</td>\n",
       "      <td>10.778805</td>\n",
       "      <td>-6.462003</td>\n",
       "      <td>6.588395</td>\n",
       "      <td>4.524278</td>\n",
       "      <td>3.556634</td>\n",
       "      <td>1.445127</td>\n",
       "      <td>3.048211</td>\n",
       "      <td>-2.463534</td>\n",
       "      <td>4.970057</td>\n",
       "      <td>4.516603</td>\n",
       "      <td>-1.784110</td>\n",
       "      <td>-3.839299</td>\n",
       "      <td>0.356394</td>\n",
       "      <td>-15.595737</td>\n",
       "      <td>-7.090340</td>\n",
       "      <td>-4.722186</td>\n",
       "      <td>-26.429741</td>\n",
       "      <td>1.765486</td>\n",
       "      <td>-4.564506</td>\n",
       "      <td>-0.594620</td>\n",
       "      <td>1.110848</td>\n",
       "      <td>-0.714247</td>\n",
       "      <td>1676.60</td>\n",
       "      <td>-1</td>\n",
       "      <td>-1</td>\n",
       "      <td>-0.171266</td>\n",
       "      <td>-1</td>\n",
       "    </tr>\n",
       "    <tr>\n",
       "      <th>6812</th>\n",
       "      <td>8592.0</td>\n",
       "      <td>-23.066842</td>\n",
       "      <td>-25.640527</td>\n",
       "      <td>-3.080313</td>\n",
       "      <td>4.866932</td>\n",
       "      <td>6.901397</td>\n",
       "      <td>-4.074335</td>\n",
       "      <td>2.027345</td>\n",
       "      <td>-2.688652</td>\n",
       "      <td>3.402966</td>\n",
       "      <td>2.881873</td>\n",
       "      <td>3.236837</td>\n",
       "      <td>-2.889369</td>\n",
       "      <td>4.465413</td>\n",
       "      <td>-1.550096</td>\n",
       "      <td>1.928388</td>\n",
       "      <td>3.930881</td>\n",
       "      <td>-1.352591</td>\n",
       "      <td>-0.988008</td>\n",
       "      <td>2.693421</td>\n",
       "      <td>-13.276034</td>\n",
       "      <td>-5.378106</td>\n",
       "      <td>3.312971</td>\n",
       "      <td>13.876221</td>\n",
       "      <td>-0.572177</td>\n",
       "      <td>5.525093</td>\n",
       "      <td>0.906980</td>\n",
       "      <td>3.358822</td>\n",
       "      <td>3.553906</td>\n",
       "      <td>845.73</td>\n",
       "      <td>-1</td>\n",
       "      <td>-1</td>\n",
       "      <td>-0.169448</td>\n",
       "      <td>-1</td>\n",
       "    </tr>\n",
       "    <tr>\n",
       "      <th>...</th>\n",
       "      <td>...</td>\n",
       "      <td>...</td>\n",
       "      <td>...</td>\n",
       "      <td>...</td>\n",
       "      <td>...</td>\n",
       "      <td>...</td>\n",
       "      <td>...</td>\n",
       "      <td>...</td>\n",
       "      <td>...</td>\n",
       "      <td>...</td>\n",
       "      <td>...</td>\n",
       "      <td>...</td>\n",
       "      <td>...</td>\n",
       "      <td>...</td>\n",
       "      <td>...</td>\n",
       "      <td>...</td>\n",
       "      <td>...</td>\n",
       "      <td>...</td>\n",
       "      <td>...</td>\n",
       "      <td>...</td>\n",
       "      <td>...</td>\n",
       "      <td>...</td>\n",
       "      <td>...</td>\n",
       "      <td>...</td>\n",
       "      <td>...</td>\n",
       "      <td>...</td>\n",
       "      <td>...</td>\n",
       "      <td>...</td>\n",
       "      <td>...</td>\n",
       "      <td>...</td>\n",
       "      <td>...</td>\n",
       "      <td>...</td>\n",
       "      <td>...</td>\n",
       "      <td>...</td>\n",
       "    </tr>\n",
       "    <tr>\n",
       "      <th>141258</th>\n",
       "      <td>84204.0</td>\n",
       "      <td>-0.937843</td>\n",
       "      <td>3.462889</td>\n",
       "      <td>-6.445104</td>\n",
       "      <td>4.932199</td>\n",
       "      <td>-2.233983</td>\n",
       "      <td>-2.291561</td>\n",
       "      <td>-5.695594</td>\n",
       "      <td>1.338825</td>\n",
       "      <td>-4.322377</td>\n",
       "      <td>-8.099119</td>\n",
       "      <td>7.182967</td>\n",
       "      <td>-9.445943</td>\n",
       "      <td>-0.314620</td>\n",
       "      <td>-12.991466</td>\n",
       "      <td>-0.136359</td>\n",
       "      <td>-6.367524</td>\n",
       "      <td>-12.734394</td>\n",
       "      <td>-3.845130</td>\n",
       "      <td>1.007667</td>\n",
       "      <td>1.129532</td>\n",
       "      <td>1.066550</td>\n",
       "      <td>-0.521657</td>\n",
       "      <td>-0.319917</td>\n",
       "      <td>-0.405859</td>\n",
       "      <td>0.906802</td>\n",
       "      <td>1.165784</td>\n",
       "      <td>1.374495</td>\n",
       "      <td>0.729889</td>\n",
       "      <td>0.00</td>\n",
       "      <td>-1</td>\n",
       "      <td>-1</td>\n",
       "      <td>-0.078589</td>\n",
       "      <td>-1</td>\n",
       "    </tr>\n",
       "    <tr>\n",
       "      <th>141257</th>\n",
       "      <td>84204.0</td>\n",
       "      <td>-0.937843</td>\n",
       "      <td>3.462889</td>\n",
       "      <td>-6.445104</td>\n",
       "      <td>4.932199</td>\n",
       "      <td>-2.233983</td>\n",
       "      <td>-2.291561</td>\n",
       "      <td>-5.695594</td>\n",
       "      <td>1.338825</td>\n",
       "      <td>-4.322377</td>\n",
       "      <td>-8.099119</td>\n",
       "      <td>7.182967</td>\n",
       "      <td>-9.445943</td>\n",
       "      <td>-0.314620</td>\n",
       "      <td>-12.991466</td>\n",
       "      <td>-0.136359</td>\n",
       "      <td>-6.367524</td>\n",
       "      <td>-12.734394</td>\n",
       "      <td>-3.845130</td>\n",
       "      <td>1.007667</td>\n",
       "      <td>1.129532</td>\n",
       "      <td>1.066550</td>\n",
       "      <td>-0.521657</td>\n",
       "      <td>-0.319917</td>\n",
       "      <td>-0.405859</td>\n",
       "      <td>0.906802</td>\n",
       "      <td>1.165784</td>\n",
       "      <td>1.374495</td>\n",
       "      <td>0.729889</td>\n",
       "      <td>0.00</td>\n",
       "      <td>-1</td>\n",
       "      <td>-1</td>\n",
       "      <td>-0.078589</td>\n",
       "      <td>-1</td>\n",
       "    </tr>\n",
       "    <tr>\n",
       "      <th>15168</th>\n",
       "      <td>26525.0</td>\n",
       "      <td>-3.156608</td>\n",
       "      <td>-2.895171</td>\n",
       "      <td>3.300964</td>\n",
       "      <td>1.550562</td>\n",
       "      <td>16.160824</td>\n",
       "      <td>-8.710536</td>\n",
       "      <td>-17.936966</td>\n",
       "      <td>0.492347</td>\n",
       "      <td>1.851809</td>\n",
       "      <td>3.333234</td>\n",
       "      <td>2.098537</td>\n",
       "      <td>2.723363</td>\n",
       "      <td>-1.236551</td>\n",
       "      <td>1.274733</td>\n",
       "      <td>2.228561</td>\n",
       "      <td>-1.469456</td>\n",
       "      <td>2.117834</td>\n",
       "      <td>-2.827846</td>\n",
       "      <td>-1.173909</td>\n",
       "      <td>-1.444388</td>\n",
       "      <td>0.831647</td>\n",
       "      <td>-4.120410</td>\n",
       "      <td>-26.751119</td>\n",
       "      <td>0.002922</td>\n",
       "      <td>-7.495741</td>\n",
       "      <td>-0.376964</td>\n",
       "      <td>1.811647</td>\n",
       "      <td>1.056891</td>\n",
       "      <td>8.94</td>\n",
       "      <td>-1</td>\n",
       "      <td>1</td>\n",
       "      <td>-0.078536</td>\n",
       "      <td>-1</td>\n",
       "    </tr>\n",
       "    <tr>\n",
       "      <th>230962</th>\n",
       "      <td>146557.0</td>\n",
       "      <td>-21.063552</td>\n",
       "      <td>-31.874838</td>\n",
       "      <td>0.836133</td>\n",
       "      <td>6.786884</td>\n",
       "      <td>29.162172</td>\n",
       "      <td>-20.367836</td>\n",
       "      <td>-20.906651</td>\n",
       "      <td>2.665022</td>\n",
       "      <td>2.736887</td>\n",
       "      <td>2.501868</td>\n",
       "      <td>0.143083</td>\n",
       "      <td>2.982447</td>\n",
       "      <td>0.778202</td>\n",
       "      <td>1.549452</td>\n",
       "      <td>0.042256</td>\n",
       "      <td>-0.508766</td>\n",
       "      <td>-0.208436</td>\n",
       "      <td>1.349428</td>\n",
       "      <td>0.197868</td>\n",
       "      <td>7.889272</td>\n",
       "      <td>3.119319</td>\n",
       "      <td>-0.020074</td>\n",
       "      <td>6.079396</td>\n",
       "      <td>0.775017</td>\n",
       "      <td>-0.619492</td>\n",
       "      <td>1.123455</td>\n",
       "      <td>-0.847251</td>\n",
       "      <td>0.952055</td>\n",
       "      <td>1.00</td>\n",
       "      <td>-1</td>\n",
       "      <td>-1</td>\n",
       "      <td>-0.078492</td>\n",
       "      <td>-1</td>\n",
       "    </tr>\n",
       "    <tr>\n",
       "      <th>199603</th>\n",
       "      <td>133049.0</td>\n",
       "      <td>-13.631442</td>\n",
       "      <td>7.876103</td>\n",
       "      <td>-4.944377</td>\n",
       "      <td>-0.592610</td>\n",
       "      <td>-7.119723</td>\n",
       "      <td>0.390107</td>\n",
       "      <td>-4.716864</td>\n",
       "      <td>4.444778</td>\n",
       "      <td>5.713140</td>\n",
       "      <td>9.145401</td>\n",
       "      <td>-2.864208</td>\n",
       "      <td>1.602928</td>\n",
       "      <td>0.126950</td>\n",
       "      <td>-0.724480</td>\n",
       "      <td>-0.973087</td>\n",
       "      <td>-1.556682</td>\n",
       "      <td>2.055122</td>\n",
       "      <td>1.655849</td>\n",
       "      <td>-0.913193</td>\n",
       "      <td>2.547279</td>\n",
       "      <td>-0.478202</td>\n",
       "      <td>-0.933920</td>\n",
       "      <td>-0.037641</td>\n",
       "      <td>-0.075935</td>\n",
       "      <td>2.365360</td>\n",
       "      <td>-0.126924</td>\n",
       "      <td>1.536786</td>\n",
       "      <td>0.977791</td>\n",
       "      <td>50.00</td>\n",
       "      <td>-1</td>\n",
       "      <td>1</td>\n",
       "      <td>-0.078488</td>\n",
       "      <td>-1</td>\n",
       "    </tr>\n",
       "  </tbody>\n",
       "</table>\n",
       "<p>350 rows × 34 columns</p>\n",
       "</div>"
      ],
      "text/plain": [
       "            time         v1         v2         v3         v4          v5  \\\n",
       "39769    39954.0 -56.407510 -72.715728  -6.605265  16.491217   34.801666   \n",
       "274771  166198.0 -35.548539 -31.850484 -48.325589  15.304184 -113.743307   \n",
       "121787   76318.0 -22.594958 -18.185294  -9.164820   8.464731  -10.335665   \n",
       "176335  122723.0 -35.274010 -34.889342 -15.070015   9.211564   -6.226835   \n",
       "6812      8592.0 -23.066842 -25.640527  -3.080313   4.866932    6.901397   \n",
       "...          ...        ...        ...        ...        ...         ...   \n",
       "141258   84204.0  -0.937843   3.462889  -6.445104   4.932199   -2.233983   \n",
       "141257   84204.0  -0.937843   3.462889  -6.445104   4.932199   -2.233983   \n",
       "15168    26525.0  -3.156608  -2.895171   3.300964   1.550562   16.160824   \n",
       "230962  146557.0 -21.063552 -31.874838   0.836133   6.786884   29.162172   \n",
       "199603  133049.0 -13.631442   7.876103  -4.944377  -0.592610   -7.119723   \n",
       "\n",
       "               v6          v7         v8        v9        v10       v11  \\\n",
       "39769  -26.160506  -19.399981  -1.501300  6.967698   9.537780  3.089395   \n",
       "274771  73.301626  120.589494 -27.347360 -3.872425 -12.005487  6.853897   \n",
       "121787   7.521470   10.145492  -3.394426  5.025957   4.678281  0.524518   \n",
       "176335   3.828063   10.778805  -6.462003  6.588395   4.524278  3.556634   \n",
       "6812    -4.074335    2.027345  -2.688652  3.402966   2.881873  3.236837   \n",
       "...           ...         ...        ...       ...        ...       ...   \n",
       "141258  -2.291561   -5.695594   1.338825 -4.322377  -8.099119  7.182967   \n",
       "141257  -2.291561   -5.695594   1.338825 -4.322377  -8.099119  7.182967   \n",
       "15168   -8.710536  -17.936966   0.492347  1.851809   3.333234  2.098537   \n",
       "230962 -20.367836  -20.906651   2.665022  2.736887   2.501868  0.143083   \n",
       "199603   0.390107   -4.716864   4.444778  5.713140   9.145401 -2.864208   \n",
       "\n",
       "             v12       v13        v14       v15        v16        v17  \\\n",
       "39769   1.776452  3.732744  -2.530792  5.784514   3.903988  -1.929314   \n",
       "274771 -9.189418  7.126883  -6.795942  8.877742  17.315112  -7.173805   \n",
       "121787 -0.133233  1.483031  -3.123475  1.934128   3.106925  -1.128033   \n",
       "176335  1.445127  3.048211  -2.463534  4.970057   4.516603  -1.784110   \n",
       "6812   -2.889369  4.465413  -1.550096  1.928388   3.930881  -1.352591   \n",
       "...          ...       ...        ...       ...        ...        ...   \n",
       "141258 -9.445943 -0.314620 -12.991466 -0.136359  -6.367524 -12.734394   \n",
       "141257 -9.445943 -0.314620 -12.991466 -0.136359  -6.367524 -12.734394   \n",
       "15168   2.723363 -1.236551   1.274733  2.228561  -1.469456   2.117834   \n",
       "230962  2.982447  0.778202   1.549452  0.042256  -0.508766  -0.208436   \n",
       "199603  1.602928  0.126950  -0.724480 -0.973087  -1.556682   2.055122   \n",
       "\n",
       "             v18       v19        v20        v21       v22        v23  \\\n",
       "39769   0.206699  2.805883 -12.360962  -6.266878 -1.272167   7.893082   \n",
       "274771 -1.968044  5.501747 -54.497720 -21.620120  5.712303  -1.581098   \n",
       "121787 -0.474485  2.411694 -10.349613  -4.705954 -0.695902 -11.359689   \n",
       "176335 -3.839299  0.356394 -15.595737  -7.090340 -4.722186 -26.429741   \n",
       "6812   -0.988008  2.693421 -13.276034  -5.378106  3.312971  13.876221   \n",
       "...          ...       ...        ...        ...       ...        ...   \n",
       "141258 -3.845130  1.007667   1.129532   1.066550 -0.521657  -0.319917   \n",
       "141257 -3.845130  1.007667   1.129532   1.066550 -0.521657  -0.319917   \n",
       "15168  -2.827846 -1.173909  -1.444388   0.831647 -4.120410 -26.751119   \n",
       "230962  1.349428  0.197868   7.889272   3.119319 -0.020074   6.079396   \n",
       "199603  1.655849 -0.913193   2.547279  -0.478202 -0.933920  -0.037641   \n",
       "\n",
       "             v24       v25       v26        v27        v28    amount  \\\n",
       "39769   0.767805  5.376595  0.163672  -8.358317  33.847808   1201.83   \n",
       "274771  4.584549  4.554683  3.415636  31.612198 -15.430084  25691.16   \n",
       "121787 -0.342331 -0.805144  0.091900  -3.141773   6.341989   1729.79   \n",
       "176335  1.765486 -4.564506 -0.594620   1.110848  -0.714247   1676.60   \n",
       "6812   -0.572177  5.525093  0.906980   3.358822   3.553906    845.73   \n",
       "...          ...       ...       ...        ...        ...       ...   \n",
       "141258 -0.405859  0.906802  1.165784   1.374495   0.729889      0.00   \n",
       "141257 -0.405859  0.906802  1.165784   1.374495   0.729889      0.00   \n",
       "15168   0.002922 -7.495741 -0.376964   1.811647   1.056891      8.94   \n",
       "230962  0.775017 -0.619492  1.123455  -0.847251   0.952055      1.00   \n",
       "199603 -0.075935  2.365360 -0.126924   1.536786   0.977791     50.00   \n",
       "\n",
       "        anomolies  anamolies    scores  anomalies  \n",
       "39769          -1         -1 -0.181795         -1  \n",
       "274771         -1         -1 -0.180410         -1  \n",
       "121787         -1         -1 -0.172163         -1  \n",
       "176335         -1         -1 -0.171266         -1  \n",
       "6812           -1         -1 -0.169448         -1  \n",
       "...           ...        ...       ...        ...  \n",
       "141258         -1         -1 -0.078589         -1  \n",
       "141257         -1         -1 -0.078589         -1  \n",
       "15168          -1          1 -0.078536         -1  \n",
       "230962         -1         -1 -0.078492         -1  \n",
       "199603         -1          1 -0.078488         -1  \n",
       "\n",
       "[350 rows x 34 columns]"
      ]
     },
     "execution_count": 265,
     "metadata": {},
     "output_type": "execute_result"
    }
   ],
   "source": [
    "df_anom_top= df_anomaly.sort_values(\"scores\").head(350)\n",
    "df_anom_top"
   ]
  },
  {
   "cell_type": "code",
   "execution_count": null,
   "metadata": {},
   "outputs": [
    {
     "data": {
      "text/html": [
       "<div>\n",
       "<style scoped>\n",
       "    .dataframe tbody tr th:only-of-type {\n",
       "        vertical-align: middle;\n",
       "    }\n",
       "\n",
       "    .dataframe tbody tr th {\n",
       "        vertical-align: top;\n",
       "    }\n",
       "\n",
       "    .dataframe thead th {\n",
       "        text-align: right;\n",
       "    }\n",
       "</style>\n",
       "<table border=\"1\" class=\"dataframe\">\n",
       "  <thead>\n",
       "    <tr style=\"text-align: right;\">\n",
       "      <th></th>\n",
       "      <th>class_</th>\n",
       "    </tr>\n",
       "  </thead>\n",
       "  <tbody>\n",
       "    <tr>\n",
       "      <th>142087</th>\n",
       "      <td>0</td>\n",
       "    </tr>\n",
       "    <tr>\n",
       "      <th>165168</th>\n",
       "      <td>0</td>\n",
       "    </tr>\n",
       "    <tr>\n",
       "      <th>235908</th>\n",
       "      <td>0</td>\n",
       "    </tr>\n",
       "    <tr>\n",
       "      <th>148255</th>\n",
       "      <td>0</td>\n",
       "    </tr>\n",
       "    <tr>\n",
       "      <th>145672</th>\n",
       "      <td>0</td>\n",
       "    </tr>\n",
       "    <tr>\n",
       "      <th>...</th>\n",
       "      <td>...</td>\n",
       "    </tr>\n",
       "    <tr>\n",
       "      <th>30023</th>\n",
       "      <td>0</td>\n",
       "    </tr>\n",
       "    <tr>\n",
       "      <th>195475</th>\n",
       "      <td>0</td>\n",
       "    </tr>\n",
       "    <tr>\n",
       "      <th>48687</th>\n",
       "      <td>0</td>\n",
       "    </tr>\n",
       "    <tr>\n",
       "      <th>159608</th>\n",
       "      <td>0</td>\n",
       "    </tr>\n",
       "    <tr>\n",
       "      <th>197673</th>\n",
       "      <td>0</td>\n",
       "    </tr>\n",
       "  </tbody>\n",
       "</table>\n",
       "<p>190820 rows × 1 columns</p>\n",
       "</div>"
      ],
      "text/plain": [
       "        class_\n",
       "142087       0\n",
       "165168       0\n",
       "235908       0\n",
       "148255       0\n",
       "145672       0\n",
       "...        ...\n",
       "30023        0\n",
       "195475       0\n",
       "48687        0\n",
       "159608       0\n",
       "197673       0\n",
       "\n",
       "[190820 rows x 1 columns]"
      ]
     },
     "execution_count": 266,
     "metadata": {},
     "output_type": "execute_result"
    }
   ],
   "source": [
    "preds= df_anomaly.assign(class_= np.where(df_anomaly.index.isin(df_anom_top.index), 1,0))[[\"class_\"]]\n",
    "preds"
   ]
  },
  {
   "cell_type": "markdown",
   "metadata": {},
   "source": [
    "## Seems like its working as intended\n",
    "\n",
    "* If we use PCA to generate the same number of principal components as the number of original features, will we wont be able to detect anamolies successfuly. When the number of principal components equals the number of\n",
    "original dimensions, PCA captures nearly 100% of the variance/information in the data as it generates the principal components, and will have very little error. We will not be able to differentiate between rare transactions and normal ones—in other\n",
    "words, anomaly detection will be poor.\n",
    "* so lets run PCA for 20 to 30 components and see what number gives us best performance."
   ]
  },
  {
   "cell_type": "markdown",
   "metadata": {},
   "source": [
    "* we can see from the Score above that 27 PCA components are the solution for this model and the Recall is .79 and precision is .74 with roc_auc of almost 0.9"
   ]
  },
  {
   "cell_type": "code",
   "execution_count": null,
   "metadata": {
    "slideshow": {
     "slide_type": "slide"
    },
    "tags": []
   },
   "outputs": [
    {
     "data": {
      "text/html": [
       "<div>\n",
       "<style scoped>\n",
       "    .dataframe tbody tr th:only-of-type {\n",
       "        vertical-align: middle;\n",
       "    }\n",
       "\n",
       "    .dataframe tbody tr th {\n",
       "        vertical-align: top;\n",
       "    }\n",
       "\n",
       "    .dataframe thead th {\n",
       "        text-align: right;\n",
       "    }\n",
       "</style>\n",
       "<table border=\"1\" class=\"dataframe\">\n",
       "  <thead>\n",
       "    <tr style=\"text-align: right;\">\n",
       "      <th></th>\n",
       "      <th>accuracy</th>\n",
       "      <th>recall</th>\n",
       "      <th>roc_auc</th>\n",
       "      <th>precision</th>\n",
       "    </tr>\n",
       "  </thead>\n",
       "  <tbody>\n",
       "    <tr>\n",
       "      <th>0</th>\n",
       "      <td>0.997537</td>\n",
       "      <td>0.318182</td>\n",
       "      <td>0.658448</td>\n",
       "      <td>0.3</td>\n",
       "    </tr>\n",
       "  </tbody>\n",
       "</table>\n",
       "</div>"
      ],
      "text/plain": [
       "   accuracy    recall   roc_auc  precision\n",
       "0  0.997537  0.318182  0.658448        0.3"
      ]
     },
     "execution_count": 267,
     "metadata": {},
     "output_type": "execute_result"
    }
   ],
   "source": [
    "# pipe.set_params(**{\"model__estimator__n_components\": 27})\n",
    "# pipe.fit(X_train)\n",
    "eval_scores(y_train, preds )"
   ]
  },
  {
   "cell_type": "code",
   "execution_count": null,
   "metadata": {
    "slideshow": {
     "slide_type": "slide"
    },
    "tags": []
   },
   "outputs": [
    {
     "data": {
      "image/png": "[encoded data removed]",
      "text/plain": [
       "<Figure size 640x480 with 2 Axes>"
      ]
     },
     "metadata": {},
     "output_type": "display_data"
    }
   ],
   "source": [
    "from sklearn.metrics import confusion_matrix, ConfusionMatrixDisplay\n",
    "cm = confusion_matrix(y_train, preds, labels= y_train.unique())\n",
    "disp = ConfusionMatrixDisplay(confusion_matrix=cm,display_labels= y_train.unique())\n",
    "disp.plot()\n",
    "plt.show()"
   ]
  },
  {
   "cell_type": "markdown",
   "metadata": {},
   "source": [
    "* This results is impressive considering its a unsupervised model we managed to etect 261 out of 330 fraudulent transactions."
   ]
  }
 ],
 "metadata": {
  "celltoolbar": "Slideshow",
  "kernelspec": {
   "display_name": "Python 3 (ipykernel)",
   "language": "python",
   "name": "python3"
  },
  "language_info": {
   "codemirror_mode": {
    "name": "ipython",
    "version": 3
   },
   "file_extension": ".py",
   "mimetype": "text/x-python",
   "name": "python",
   "nbconvert_exporter": "python",
   "pygments_lexer": "ipython3",
   "version": "3.10.8"
  }
 },
 "nbformat": 4,
 "nbformat_minor": 4
}
